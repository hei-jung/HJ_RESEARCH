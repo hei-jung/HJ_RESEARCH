{
 "cells": [
  {
   "cell_type": "code",
   "execution_count": 1,
   "id": "b9c0d942",
   "metadata": {},
   "outputs": [],
   "source": [
    "import os\n",
    "os.environ[\"CUDA_DEVICE_ORDER\"] = \"PCI_BUS_ID\"\n",
    "os.environ[\"CUDA_VISIBLE_DEVICES\"] = \"0,1\""
   ]
  },
  {
   "cell_type": "code",
   "execution_count": 2,
   "id": "c31da569",
   "metadata": {
    "scrolled": true
   },
   "outputs": [],
   "source": [
    "import random\n",
    "import numpy as np\n",
    "from tqdm import tqdm\n",
    "import pandas as pd\n",
    "from scipy import ndimage\n",
    "from scipy.ndimage import zoom\n",
    "import gc\n",
    "from sklearn.model_selection import train_test_split, KFold\n",
    "import matplotlib.pyplot as plt\n",
    "import matplotlib.patches as mpatches\n",
    "from torch import nn, optim\n",
    "from torch.nn import functional as F\n",
    "from torch.utils.data import Dataset, DataLoader, SubsetRandomSampler\n",
    "import torch.backends.cudnn as cudnn\n",
    "from models.sfcn import *\n",
    "from models.resnet import *\n",
    "from models.inception_resnet_v2 import *\n",
    "from models.densenet import *\n",
    "from models.custom_net import *\n",
    "from models.shallow_net2 import *\n",
    "import types\n",
    "from scipy.stats import pearsonr, spearmanr\n",
    "import torchio as tio\n",
    "from datetime import datetime\n",
    "import wandb\n",
    "from models.ranking_loss import *"
   ]
  },
  {
   "cell_type": "code",
   "execution_count": 3,
   "id": "7f0a9eef",
   "metadata": {},
   "outputs": [],
   "source": [
    "RANDOM_SEED = 551"
   ]
  },
  {
   "cell_type": "code",
   "execution_count": 4,
   "id": "0e96349f",
   "metadata": {},
   "outputs": [],
   "source": [
    "# control randomness\n",
    "def set_seed(random_seed=551):\n",
    "    torch.manual_seed(random_seed)\n",
    "    torch.cuda.manual_seed(random_seed)\n",
    "    torch.cuda.manual_seed_all(random_seed)\n",
    "    np.random.seed(random_seed)\n",
    "    cudnn.benchmark = False\n",
    "    cudnn.deterministic = True\n",
    "    random.seed(random_seed)"
   ]
  },
  {
   "cell_type": "code",
   "execution_count": 5,
   "id": "f7a34af8",
   "metadata": {},
   "outputs": [],
   "source": [
    "def load_data(img_dir, label_dir, label_name, std=False, norm=True):\n",
    "    df = pd.read_csv(label_dir, index_col=0)[label_name]\n",
    "    filenames = df.index\n",
    "    images = []\n",
    "    for i, index in enumerate(filenames):\n",
    "        file_name = img_dir + index + '.npy'\n",
    "        img = np.load(file_name)\n",
    "        x, y, z = img.shape\n",
    "        if norm:\n",
    "            img = (img - img.min()) / (img.max() - img.min())\n",
    "        if std:\n",
    "            m = np.mean(img)\n",
    "            s = np.std(img)\n",
    "            img = (img - m) / s\n",
    "        img = img.reshape((1, x, y, z))\n",
    "        images.append(img)\n",
    "    return images, df"
   ]
  },
  {
   "cell_type": "code",
   "execution_count": 6,
   "id": "f736886e",
   "metadata": {},
   "outputs": [],
   "source": [
    "# augmentation\n",
    "def get_augmentation_transform():\n",
    "    random_rotate = tio.RandomAffine(scales=(1.0, 1.0),\n",
    "                                     degrees=12,)\n",
    "    random_flip = tio.RandomFlip(axes='LR',\n",
    "                                 flip_probability=0.5)\n",
    "    random_shift = tio.RandomAffine(scales=(1.0, 1.0),\n",
    "                                    degrees=0,\n",
    "                                    translation=(20,20,20))\n",
    "    compose = tio.transforms.Compose([random_rotate, random_flip, random_shift])\n",
    "    augment = tio.transforms.OneOf([random_rotate, random_flip, random_shift, compose])\n",
    "    return augment"
   ]
  },
  {
   "cell_type": "code",
   "execution_count": 7,
   "id": "60667d38",
   "metadata": {},
   "outputs": [],
   "source": [
    "class NeckDataset(Dataset):\n",
    "    def __init__(self, X=None, y=None, transform=None, lds=False, lds_kernel='gaussian', lds_ks=5, lds_sigma=2):\n",
    "        self.X = X\n",
    "        self.y = y.values\n",
    "        self.transform = transform\n",
    "        \n",
    "    def __len__(self):\n",
    "        return len(self.y)\n",
    "    \n",
    "    def __getitem__(self, idx):\n",
    "        image = self.X[idx]\n",
    "        label = np.array([self.y[idx]]).astype('float16')\n",
    "        if self.transform is not None:\n",
    "            image = self.transform(image)\n",
    "        return [image, label]"
   ]
  },
  {
   "cell_type": "code",
   "execution_count": 8,
   "id": "2df07024",
   "metadata": {},
   "outputs": [],
   "source": [
    "def train(model, train_loader, lr, weight_decay, optimizer, sorter='sodeep/weights/best_model_gruc.pth.tar'):\n",
    "    criterion = rank_difference_loss(sorter)\n",
    "#     criterion = nn.HuberLoss()\n",
    "    criterion1 = nn.L1Loss()\n",
    "    criterion2 = nn.MSELoss()\n",
    "        \n",
    "    total_loss, total_mae_loss, total_mse_loss = 0, 0, 0\n",
    "    preds, truths = np.array([]), np.array([])\n",
    "    \n",
    "    model.train()\n",
    "    for inputs, labels in tqdm(train_loader):              \n",
    "        inputs, labels = inputs.to(device, dtype=torch.float), labels.to(device, dtype=torch.float)\n",
    "        optimizer.zero_grad()\n",
    "\n",
    "        output = model(inputs)\n",
    "        \n",
    "        pred = output.detach().cpu().numpy()\n",
    "        truth = labels.detach().cpu().numpy()\n",
    "        preds = np.append(preds, pred.reshape(pred.size), axis=0)\n",
    "        truths = np.append(truths, truth.reshape(truth.size), axis=0)\n",
    "        \n",
    "        loss = criterion(output, labels)\n",
    "        mae_loss = criterion1(output, labels)\n",
    "        mse_loss = criterion2(output, labels)\n",
    "        loss.backward()\n",
    "#         mae_loss.backward()\n",
    "#         mse_loss.backward()\n",
    "        \n",
    "        optimizer.step()\n",
    "        \n",
    "        total_loss += loss.data.item()\n",
    "        total_mae_loss += mae_loss.data.item()\n",
    "        total_mse_loss += mse_loss.data.item()\n",
    "        \n",
    "        gc.collect()\n",
    "        torch.cuda.empty_cache()\n",
    "        \n",
    "    return preds, truths, total_loss, total_mae_loss, total_mse_loss\n",
    "#     return preds, truths, total_mae_loss, total_mse_loss"
   ]
  },
  {
   "cell_type": "code",
   "execution_count": 9,
   "id": "6b20c8c8",
   "metadata": {},
   "outputs": [],
   "source": [
    "def valid(model, valid_loader, sorter='sodeep/weights/best_model_gruc.pth.tar'):\n",
    "    criterion = rank_difference_loss(sorter)\n",
    "#     criterion = nn.HuberLoss()\n",
    "    criterion1 = nn.L1Loss()\n",
    "    criterion2 = nn.MSELoss()\n",
    "    \n",
    "    total_loss, total_mae_loss, total_mse_loss = 0, 0, 0\n",
    "    preds, truths = np.array([]), np.array([])\n",
    "    \n",
    "    model.eval()\n",
    "    with torch.no_grad():\n",
    "        for inputs, labels in tqdm(valid_loader):\n",
    "            inputs, labels = inputs.to(device, dtype=torch.float), labels.to(device, dtype=torch.float)\n",
    "\n",
    "            output = model(inputs)\n",
    "            \n",
    "            pred = output.detach().cpu().numpy()\n",
    "            truth = labels.detach().cpu().numpy()\n",
    "            preds = np.append(preds, pred.reshape(pred.size), axis=0)\n",
    "            truths = np.append(truths, truth.reshape(truth.size), axis=0)\n",
    "\n",
    "            loss = criterion(output, labels)\n",
    "            mae_loss = criterion1(output, labels)\n",
    "            mse_loss = criterion2(output, labels)\n",
    "            \n",
    "            total_loss += loss.data.item()\n",
    "            total_mae_loss += mae_loss.data.item()\n",
    "            total_mse_loss += mse_loss.data.item()\n",
    "        \n",
    "    return preds, truths, total_loss, total_mae_loss, total_mse_loss\n",
    "#     return preds, truths, total_mae_loss, total_mse_loss"
   ]
  },
  {
   "cell_type": "code",
   "execution_count": 10,
   "id": "2caeb213",
   "metadata": {},
   "outputs": [],
   "source": [
    "label_name = 'FL_WMH_VOL_icv'\n",
    "# label_name = 'FL_WMH_VOL_mL'\n",
    "# label_name = 'WMH_GRADE'\n",
    "# label_name = 'Cortical Gray Matter Total Percent Of Icv'\n",
    "# label_name = 'FL_PVWMH_VOL_icv'\n",
    "# label_name = 'FL_DWMH_VOL_icv'\n",
    "img_dir = 'img_npy/'\n",
    "label_dir = 'labels/data_975.csv'"
   ]
  },
  {
   "cell_type": "code",
   "execution_count": 11,
   "id": "3175e7a2",
   "metadata": {},
   "outputs": [],
   "source": [
    "weight_decay = 0.1\n",
    "lr = 5e-06\n",
    "epochs = 300\n",
    "batch_size = 16\n",
    "test_batch_size = 32\n",
    "optim_class = optim.AdamW\n",
    "sched_class = optim.lr_scheduler.ReduceLROnPlateau\n",
    "dropout_rate = 0.5\n",
    "k = 5"
   ]
  },
  {
   "cell_type": "code",
   "execution_count": 12,
   "id": "2eb08047",
   "metadata": {
    "scrolled": false
   },
   "outputs": [
    {
     "name": "stdout",
     "output_type": "stream",
     "text": [
      "Device: cuda\n",
      "Current cuda device: 0\n",
      "Count of using GPUs: 2\n"
     ]
    }
   ],
   "source": [
    "device = torch.device(\"cuda\" if torch.cuda.is_available() else \"cpu\")\n",
    "print('Device:', device)\n",
    "print('Current cuda device:', torch.cuda.current_device())\n",
    "print('Count of using GPUs:', torch.cuda.device_count())"
   ]
  },
  {
   "cell_type": "code",
   "execution_count": 13,
   "id": "84166bd3",
   "metadata": {},
   "outputs": [
    {
     "data": {
      "text/plain": [
       "(780, 195, 780, 195)"
      ]
     },
     "execution_count": 13,
     "metadata": {},
     "output_type": "execute_result"
    }
   ],
   "source": [
    "# load data\n",
    "X, y = load_data(img_dir, label_dir, label_name, std=True, norm=True)\n",
    "\n",
    "# initialize seed\n",
    "set_seed()\n",
    "\n",
    "# train / test split\n",
    "X_train, X_test, y_train, y_test = train_test_split(X, y, test_size=0.2)\n",
    "\n",
    "# train set\n",
    "# train_set = NeckDataset(X_train, y_train)\n",
    "\n",
    "# test set & loader\n",
    "test_set = NeckDataset(X_test, y_test)\n",
    "test_loader = DataLoader(test_set, batch_size=test_batch_size, num_workers=16)\n",
    "\n",
    "len(X_train), len(X_test), len(y_train), len(y_test)"
   ]
  },
  {
   "cell_type": "code",
   "execution_count": 14,
   "id": "8894a4cb",
   "metadata": {},
   "outputs": [
    {
     "data": {
      "image/png": "[encoded data removed]",
      "text/plain": [
       "<Figure size 432x288 with 1 Axes>"
      ]
     },
     "metadata": {
      "needs_background": "light"
     },
     "output_type": "display_data"
    },
    {
     "data": {
      "image/png": "[encoded data removed]",
      "text/plain": [
       "<Figure size 720x288 with 2 Axes>"
      ]
     },
     "metadata": {
      "needs_background": "light"
     },
     "output_type": "display_data"
    }
   ],
   "source": [
    "bins = np.linspace(0, 5, 30)\n",
    "\n",
    "plt.hist(y_train, bins, label='training set')\n",
    "plt.hist(y_test, bins, label='test set')\n",
    "plt.legend(loc='upper right')\n",
    "plt.show()\n",
    "plt.close()\n",
    "\n",
    "\n",
    "plt.figure(figsize=(10,4))\n",
    "plt.subplot(1,2,1)\n",
    "plt.hist(y_train, bins, label='training set')\n",
    "plt.legend(loc='upper right')\n",
    "\n",
    "plt.subplot(1,2,2)\n",
    "plt.hist(y_test, bins, label='test set')\n",
    "plt.legend(loc='upper right')\n",
    "\n",
    "plt.show()\n",
    "plt.close()"
   ]
  },
  {
   "cell_type": "code",
   "execution_count": 15,
   "id": "a399075a",
   "metadata": {
    "scrolled": true
   },
   "outputs": [
    {
     "name": "stderr",
     "output_type": "stream",
     "text": [
      "Failed to detect the name of this notebook, you can set it manually with the WANDB_NOTEBOOK_NAME environment variable to enable code saving.\n",
      "\u001b[34m\u001b[1mwandb\u001b[0m: Currently logged in as: \u001b[33mhei-jung\u001b[0m. Use \u001b[1m`wandb login --relogin`\u001b[0m to force relogin\n"
     ]
    },
    {
     "data": {
      "text/html": [
       "wandb version 0.13.10 is available!  To upgrade, please run:\n",
       " $ pip install wandb --upgrade"
      ],
      "text/plain": [
       "<IPython.core.display.HTML object>"
      ]
     },
     "metadata": {},
     "output_type": "display_data"
    },
    {
     "data": {
      "text/html": [
       "Tracking run with wandb version 0.12.21"
      ],
      "text/plain": [
       "<IPython.core.display.HTML object>"
      ]
     },
     "metadata": {},
     "output_type": "display_data"
    },
    {
     "data": {
      "text/html": [
       "Run data is saved locally in <code>/home/jhj/Desktop/HJ_RESEARCH/snu_brain_disease/wandb/run-20230303_162837-38wft6uj</code>"
      ],
      "text/plain": [
       "<IPython.core.display.HTML object>"
      ]
     },
     "metadata": {},
     "output_type": "display_data"
    },
    {
     "data": {
      "text/html": [
       "Syncing run <strong><a href=\"https://wandb.ai/hei-jung/20230214-validation/runs/38wft6uj\" target=\"_blank\">serene-planet-13</a></strong> to <a href=\"https://wandb.ai/hei-jung/20230214-validation\" target=\"_blank\">Weights & Biases</a> (<a href=\"https://wandb.me/run\" target=\"_blank\">docs</a>)<br/>"
      ],
      "text/plain": [
       "<IPython.core.display.HTML object>"
      ]
     },
     "metadata": {},
     "output_type": "display_data"
    },
    {
     "name": "stdout",
     "output_type": "stream",
     "text": [
      "# Epoch 1 / 300\n"
     ]
    },
    {
     "name": "stderr",
     "output_type": "stream",
     "text": [
      "100%|███████████████████████████████████████████| 49/49 [00:30<00:00,  1.62it/s]\n",
      "100%|█████████████████████████████████████████████| 7/7 [00:03<00:00,  2.32it/s]\n"
     ]
    },
    {
     "name": "stdout",
     "output_type": "stream",
     "text": [
      "# Epoch 2 / 300\n"
     ]
    },
    {
     "name": "stderr",
     "output_type": "stream",
     "text": [
      "100%|███████████████████████████████████████████| 49/49 [00:29<00:00,  1.68it/s]\n",
      "100%|█████████████████████████████████████████████| 7/7 [00:03<00:00,  2.15it/s]\n"
     ]
    },
    {
     "name": "stdout",
     "output_type": "stream",
     "text": [
      "# Epoch 3 / 300\n"
     ]
    },
    {
     "name": "stderr",
     "output_type": "stream",
     "text": [
      "100%|███████████████████████████████████████████| 49/49 [00:28<00:00,  1.72it/s]\n",
      "100%|█████████████████████████████████████████████| 7/7 [00:03<00:00,  2.25it/s]\n"
     ]
    },
    {
     "name": "stdout",
     "output_type": "stream",
     "text": [
      "# Epoch 4 / 300\n"
     ]
    },
    {
     "name": "stderr",
     "output_type": "stream",
     "text": [
      "100%|███████████████████████████████████████████| 49/49 [00:28<00:00,  1.69it/s]\n",
      "100%|█████████████████████████████████████████████| 7/7 [00:03<00:00,  2.29it/s]\n"
     ]
    },
    {
     "name": "stdout",
     "output_type": "stream",
     "text": [
      "# Epoch 5 / 300\n"
     ]
    },
    {
     "name": "stderr",
     "output_type": "stream",
     "text": [
      "100%|███████████████████████████████████████████| 49/49 [00:28<00:00,  1.71it/s]\n",
      "100%|█████████████████████████████████████████████| 7/7 [00:02<00:00,  2.34it/s]\n"
     ]
    },
    {
     "name": "stdout",
     "output_type": "stream",
     "text": [
      "# Epoch 6 / 300\n"
     ]
    },
    {
     "name": "stderr",
     "output_type": "stream",
     "text": [
      "100%|███████████████████████████████████████████| 49/49 [00:28<00:00,  1.70it/s]\n",
      "100%|█████████████████████████████████████████████| 7/7 [00:03<00:00,  2.20it/s]\n"
     ]
    },
    {
     "name": "stdout",
     "output_type": "stream",
     "text": [
      "# Epoch 7 / 300\n"
     ]
    },
    {
     "name": "stderr",
     "output_type": "stream",
     "text": [
      "100%|███████████████████████████████████████████| 49/49 [00:27<00:00,  1.79it/s]\n",
      "100%|█████████████████████████████████████████████| 7/7 [00:02<00:00,  2.37it/s]\n"
     ]
    },
    {
     "name": "stdout",
     "output_type": "stream",
     "text": [
      "# Epoch 8 / 300\n"
     ]
    },
    {
     "name": "stderr",
     "output_type": "stream",
     "text": [
      "100%|███████████████████████████████████████████| 49/49 [00:28<00:00,  1.73it/s]\n",
      "100%|█████████████████████████████████████████████| 7/7 [00:03<00:00,  2.33it/s]\n"
     ]
    },
    {
     "name": "stdout",
     "output_type": "stream",
     "text": [
      "# Epoch 9 / 300\n"
     ]
    },
    {
     "name": "stderr",
     "output_type": "stream",
     "text": [
      "100%|███████████████████████████████████████████| 49/49 [00:28<00:00,  1.71it/s]\n",
      "100%|█████████████████████████████████████████████| 7/7 [00:03<00:00,  2.20it/s]\n"
     ]
    },
    {
     "name": "stdout",
     "output_type": "stream",
     "text": [
      "# Epoch 10 / 300\n"
     ]
    },
    {
     "name": "stderr",
     "output_type": "stream",
     "text": [
      "100%|███████████████████████████████████████████| 49/49 [00:28<00:00,  1.74it/s]\n",
      "100%|█████████████████████████████████████████████| 7/7 [00:02<00:00,  2.50it/s]\n"
     ]
    },
    {
     "name": "stdout",
     "output_type": "stream",
     "text": [
      "# Epoch 11 / 300\n"
     ]
    },
    {
     "name": "stderr",
     "output_type": "stream",
     "text": [
      "100%|███████████████████████████████████████████| 49/49 [00:28<00:00,  1.71it/s]\n",
      "100%|█████████████████████████████████████████████| 7/7 [00:02<00:00,  2.37it/s]\n"
     ]
    },
    {
     "name": "stdout",
     "output_type": "stream",
     "text": [
      "# Epoch 12 / 300\n"
     ]
    },
    {
     "name": "stderr",
     "output_type": "stream",
     "text": [
      "100%|███████████████████████████████████████████| 49/49 [00:29<00:00,  1.68it/s]\n",
      "100%|█████████████████████████████████████████████| 7/7 [00:02<00:00,  2.34it/s]\n"
     ]
    },
    {
     "name": "stdout",
     "output_type": "stream",
     "text": [
      "# Epoch 13 / 300\n"
     ]
    },
    {
     "name": "stderr",
     "output_type": "stream",
     "text": [
      "100%|███████████████████████████████████████████| 49/49 [00:28<00:00,  1.75it/s]\n",
      "100%|█████████████████████████████████████████████| 7/7 [00:02<00:00,  2.43it/s]\n"
     ]
    },
    {
     "name": "stdout",
     "output_type": "stream",
     "text": [
      "# Epoch 14 / 300\n"
     ]
    },
    {
     "name": "stderr",
     "output_type": "stream",
     "text": [
      "100%|███████████████████████████████████████████| 49/49 [00:28<00:00,  1.71it/s]\n",
      "100%|█████████████████████████████████████████████| 7/7 [00:02<00:00,  2.35it/s]\n"
     ]
    },
    {
     "name": "stdout",
     "output_type": "stream",
     "text": [
      "# Epoch 15 / 300\n"
     ]
    },
    {
     "name": "stderr",
     "output_type": "stream",
     "text": [
      "100%|███████████████████████████████████████████| 49/49 [00:28<00:00,  1.74it/s]\n",
      "100%|█████████████████████████████████████████████| 7/7 [00:03<00:00,  2.17it/s]\n"
     ]
    },
    {
     "name": "stdout",
     "output_type": "stream",
     "text": [
      "# Epoch 16 / 300\n"
     ]
    },
    {
     "name": "stderr",
     "output_type": "stream",
     "text": [
      "100%|███████████████████████████████████████████| 49/49 [00:29<00:00,  1.68it/s]\n",
      "100%|█████████████████████████████████████████████| 7/7 [00:03<00:00,  2.27it/s]\n"
     ]
    },
    {
     "name": "stdout",
     "output_type": "stream",
     "text": [
      "# Epoch 17 / 300\n"
     ]
    },
    {
     "name": "stderr",
     "output_type": "stream",
     "text": [
      "100%|███████████████████████████████████████████| 49/49 [00:28<00:00,  1.70it/s]\n",
      "100%|█████████████████████████████████████████████| 7/7 [00:03<00:00,  2.28it/s]\n"
     ]
    },
    {
     "name": "stdout",
     "output_type": "stream",
     "text": [
      "# Epoch 18 / 300\n"
     ]
    },
    {
     "name": "stderr",
     "output_type": "stream",
     "text": [
      "100%|███████████████████████████████████████████| 49/49 [00:28<00:00,  1.71it/s]\n",
      "100%|█████████████████████████████████████████████| 7/7 [00:02<00:00,  2.39it/s]\n"
     ]
    },
    {
     "name": "stdout",
     "output_type": "stream",
     "text": [
      "# Epoch 19 / 300\n"
     ]
    },
    {
     "name": "stderr",
     "output_type": "stream",
     "text": [
      "100%|███████████████████████████████████████████| 49/49 [00:28<00:00,  1.71it/s]\n",
      "100%|█████████████████████████████████████████████| 7/7 [00:03<00:00,  2.28it/s]\n"
     ]
    },
    {
     "name": "stdout",
     "output_type": "stream",
     "text": [
      "# Epoch 20 / 300\n"
     ]
    },
    {
     "name": "stderr",
     "output_type": "stream",
     "text": [
      "100%|███████████████████████████████████████████| 49/49 [00:28<00:00,  1.70it/s]\n",
      "100%|█████████████████████████████████████████████| 7/7 [00:03<00:00,  2.21it/s]\n"
     ]
    },
    {
     "name": "stdout",
     "output_type": "stream",
     "text": [
      "# Epoch 21 / 300\n"
     ]
    },
    {
     "name": "stderr",
     "output_type": "stream",
     "text": [
      "100%|███████████████████████████████████████████| 49/49 [00:29<00:00,  1.68it/s]\n",
      "100%|█████████████████████████████████████████████| 7/7 [00:03<00:00,  2.24it/s]\n"
     ]
    },
    {
     "name": "stdout",
     "output_type": "stream",
     "text": [
      "# Epoch 22 / 300\n"
     ]
    },
    {
     "name": "stderr",
     "output_type": "stream",
     "text": [
      "100%|███████████████████████████████████████████| 49/49 [00:28<00:00,  1.70it/s]\n",
      "100%|█████████████████████████████████████████████| 7/7 [00:02<00:00,  2.56it/s]\n"
     ]
    },
    {
     "name": "stdout",
     "output_type": "stream",
     "text": [
      "# Epoch 23 / 300\n"
     ]
    },
    {
     "name": "stderr",
     "output_type": "stream",
     "text": [
      "100%|███████████████████████████████████████████| 49/49 [00:28<00:00,  1.73it/s]\n",
      "100%|█████████████████████████████████████████████| 7/7 [00:02<00:00,  2.56it/s]\n"
     ]
    },
    {
     "name": "stdout",
     "output_type": "stream",
     "text": [
      "# Epoch 24 / 300\n"
     ]
    },
    {
     "name": "stderr",
     "output_type": "stream",
     "text": [
      "100%|███████████████████████████████████████████| 49/49 [00:28<00:00,  1.72it/s]\n",
      "100%|█████████████████████████████████████████████| 7/7 [00:03<00:00,  2.24it/s]\n"
     ]
    },
    {
     "name": "stdout",
     "output_type": "stream",
     "text": [
      "# Epoch 25 / 300\n"
     ]
    },
    {
     "name": "stderr",
     "output_type": "stream",
     "text": [
      "100%|███████████████████████████████████████████| 49/49 [00:28<00:00,  1.71it/s]\n",
      "100%|█████████████████████████████████████████████| 7/7 [00:02<00:00,  2.34it/s]\n"
     ]
    },
    {
     "name": "stdout",
     "output_type": "stream",
     "text": [
      "# Epoch 26 / 300\n"
     ]
    },
    {
     "name": "stderr",
     "output_type": "stream",
     "text": [
      "100%|███████████████████████████████████████████| 49/49 [00:28<00:00,  1.73it/s]\n",
      "100%|█████████████████████████████████████████████| 7/7 [00:03<00:00,  2.31it/s]\n"
     ]
    },
    {
     "name": "stdout",
     "output_type": "stream",
     "text": [
      "# Epoch 27 / 300\n"
     ]
    },
    {
     "name": "stderr",
     "output_type": "stream",
     "text": [
      "100%|███████████████████████████████████████████| 49/49 [00:28<00:00,  1.69it/s]\n",
      "100%|█████████████████████████████████████████████| 7/7 [00:03<00:00,  2.28it/s]\n"
     ]
    },
    {
     "name": "stdout",
     "output_type": "stream",
     "text": [
      "# Epoch 28 / 300\n"
     ]
    },
    {
     "name": "stderr",
     "output_type": "stream",
     "text": [
      "100%|███████████████████████████████████████████| 49/49 [00:28<00:00,  1.74it/s]\n",
      "100%|█████████████████████████████████████████████| 7/7 [00:03<00:00,  2.20it/s]\n"
     ]
    },
    {
     "name": "stdout",
     "output_type": "stream",
     "text": [
      "# Epoch 29 / 300\n"
     ]
    },
    {
     "name": "stderr",
     "output_type": "stream",
     "text": [
      "100%|███████████████████████████████████████████| 49/49 [00:27<00:00,  1.77it/s]\n",
      "100%|█████████████████████████████████████████████| 7/7 [00:02<00:00,  2.49it/s]\n"
     ]
    },
    {
     "name": "stdout",
     "output_type": "stream",
     "text": [
      "# Epoch 30 / 300\n"
     ]
    },
    {
     "name": "stderr",
     "output_type": "stream",
     "text": [
      "100%|███████████████████████████████████████████| 49/49 [00:28<00:00,  1.72it/s]\n",
      "100%|█████████████████████████████████████████████| 7/7 [00:03<00:00,  2.26it/s]\n"
     ]
    },
    {
     "name": "stdout",
     "output_type": "stream",
     "text": [
      "# Epoch 31 / 300\n"
     ]
    },
    {
     "name": "stderr",
     "output_type": "stream",
     "text": [
      "100%|███████████████████████████████████████████| 49/49 [00:28<00:00,  1.73it/s]\n",
      "100%|█████████████████████████████████████████████| 7/7 [00:02<00:00,  2.38it/s]\n"
     ]
    },
    {
     "name": "stdout",
     "output_type": "stream",
     "text": [
      "# Epoch 32 / 300\n"
     ]
    },
    {
     "name": "stderr",
     "output_type": "stream",
     "text": [
      "100%|███████████████████████████████████████████| 49/49 [00:28<00:00,  1.73it/s]\n",
      "100%|█████████████████████████████████████████████| 7/7 [00:02<00:00,  2.39it/s]\n"
     ]
    },
    {
     "name": "stdout",
     "output_type": "stream",
     "text": [
      "# Epoch 33 / 300\n"
     ]
    },
    {
     "name": "stderr",
     "output_type": "stream",
     "text": [
      "100%|███████████████████████████████████████████| 49/49 [00:27<00:00,  1.76it/s]\n",
      "100%|█████████████████████████████████████████████| 7/7 [00:02<00:00,  2.34it/s]\n"
     ]
    },
    {
     "name": "stdout",
     "output_type": "stream",
     "text": [
      "# Epoch 34 / 300\n"
     ]
    },
    {
     "name": "stderr",
     "output_type": "stream",
     "text": [
      "100%|███████████████████████████████████████████| 49/49 [00:28<00:00,  1.70it/s]\n",
      "100%|█████████████████████████████████████████████| 7/7 [00:03<00:00,  2.29it/s]\n"
     ]
    },
    {
     "name": "stdout",
     "output_type": "stream",
     "text": [
      "# Epoch 35 / 300\n"
     ]
    },
    {
     "name": "stderr",
     "output_type": "stream",
     "text": [
      "100%|███████████████████████████████████████████| 49/49 [00:28<00:00,  1.70it/s]\n",
      "100%|█████████████████████████████████████████████| 7/7 [00:02<00:00,  2.50it/s]\n"
     ]
    },
    {
     "name": "stdout",
     "output_type": "stream",
     "text": [
      "# Epoch 36 / 300\n"
     ]
    },
    {
     "name": "stderr",
     "output_type": "stream",
     "text": [
      "100%|███████████████████████████████████████████| 49/49 [00:28<00:00,  1.70it/s]\n",
      "100%|█████████████████████████████████████████████| 7/7 [00:02<00:00,  2.39it/s]\n"
     ]
    },
    {
     "name": "stdout",
     "output_type": "stream",
     "text": [
      "# Epoch 37 / 300\n"
     ]
    },
    {
     "name": "stderr",
     "output_type": "stream",
     "text": [
      "100%|███████████████████████████████████████████| 49/49 [00:28<00:00,  1.71it/s]\n",
      "100%|█████████████████████████████████████████████| 7/7 [00:03<00:00,  2.29it/s]\n"
     ]
    },
    {
     "name": "stdout",
     "output_type": "stream",
     "text": [
      "# Epoch 38 / 300\n"
     ]
    },
    {
     "name": "stderr",
     "output_type": "stream",
     "text": [
      "100%|███████████████████████████████████████████| 49/49 [00:28<00:00,  1.74it/s]\n",
      "100%|█████████████████████████████████████████████| 7/7 [00:03<00:00,  2.21it/s]\n"
     ]
    },
    {
     "name": "stdout",
     "output_type": "stream",
     "text": [
      "# Epoch 39 / 300\n"
     ]
    },
    {
     "name": "stderr",
     "output_type": "stream",
     "text": [
      "100%|███████████████████████████████████████████| 49/49 [00:28<00:00,  1.73it/s]\n",
      "100%|█████████████████████████████████████████████| 7/7 [00:02<00:00,  2.38it/s]\n"
     ]
    },
    {
     "name": "stdout",
     "output_type": "stream",
     "text": [
      "# Epoch 40 / 300\n"
     ]
    },
    {
     "name": "stderr",
     "output_type": "stream",
     "text": [
      "100%|███████████████████████████████████████████| 49/49 [00:29<00:00,  1.69it/s]\n",
      "100%|█████████████████████████████████████████████| 7/7 [00:02<00:00,  2.38it/s]\n"
     ]
    },
    {
     "name": "stdout",
     "output_type": "stream",
     "text": [
      "# Epoch 41 / 300\n"
     ]
    },
    {
     "name": "stderr",
     "output_type": "stream",
     "text": [
      "100%|███████████████████████████████████████████| 49/49 [00:28<00:00,  1.73it/s]\n",
      "100%|█████████████████████████████████████████████| 7/7 [00:02<00:00,  2.37it/s]\n"
     ]
    },
    {
     "name": "stdout",
     "output_type": "stream",
     "text": [
      "# Epoch 42 / 300\n"
     ]
    },
    {
     "name": "stderr",
     "output_type": "stream",
     "text": [
      "100%|███████████████████████████████████████████| 49/49 [00:28<00:00,  1.72it/s]\n",
      "100%|█████████████████████████████████████████████| 7/7 [00:02<00:00,  2.50it/s]\n"
     ]
    },
    {
     "name": "stdout",
     "output_type": "stream",
     "text": [
      "# Epoch 43 / 300\n"
     ]
    },
    {
     "name": "stderr",
     "output_type": "stream",
     "text": [
      "100%|███████████████████████████████████████████| 49/49 [00:28<00:00,  1.74it/s]\n",
      "100%|█████████████████████████████████████████████| 7/7 [00:02<00:00,  2.34it/s]\n"
     ]
    },
    {
     "name": "stdout",
     "output_type": "stream",
     "text": [
      "# Epoch 44 / 300\n"
     ]
    },
    {
     "name": "stderr",
     "output_type": "stream",
     "text": [
      "100%|███████████████████████████████████████████| 49/49 [00:28<00:00,  1.72it/s]\n",
      "100%|█████████████████████████████████████████████| 7/7 [00:02<00:00,  2.56it/s]\n"
     ]
    },
    {
     "name": "stdout",
     "output_type": "stream",
     "text": [
      "# Epoch 45 / 300\n"
     ]
    },
    {
     "name": "stderr",
     "output_type": "stream",
     "text": [
      "100%|███████████████████████████████████████████| 49/49 [00:28<00:00,  1.72it/s]\n",
      "100%|█████████████████████████████████████████████| 7/7 [00:02<00:00,  2.38it/s]\n"
     ]
    },
    {
     "name": "stdout",
     "output_type": "stream",
     "text": [
      "# Epoch 46 / 300\n"
     ]
    },
    {
     "name": "stderr",
     "output_type": "stream",
     "text": [
      "100%|███████████████████████████████████████████| 49/49 [00:29<00:00,  1.68it/s]\n",
      "100%|█████████████████████████████████████████████| 7/7 [00:03<00:00,  2.31it/s]\n"
     ]
    },
    {
     "name": "stdout",
     "output_type": "stream",
     "text": [
      "# Epoch 47 / 300\n"
     ]
    },
    {
     "name": "stderr",
     "output_type": "stream",
     "text": [
      "100%|███████████████████████████████████████████| 49/49 [00:28<00:00,  1.69it/s]\n",
      "100%|█████████████████████████████████████████████| 7/7 [00:03<00:00,  2.27it/s]\n"
     ]
    },
    {
     "name": "stdout",
     "output_type": "stream",
     "text": [
      "# Epoch 48 / 300\n"
     ]
    },
    {
     "name": "stderr",
     "output_type": "stream",
     "text": [
      "100%|███████████████████████████████████████████| 49/49 [00:28<00:00,  1.72it/s]\n",
      "100%|█████████████████████████████████████████████| 7/7 [00:03<00:00,  2.25it/s]\n"
     ]
    },
    {
     "name": "stdout",
     "output_type": "stream",
     "text": [
      "# Epoch 49 / 300\n"
     ]
    },
    {
     "name": "stderr",
     "output_type": "stream",
     "text": [
      "100%|███████████████████████████████████████████| 49/49 [00:28<00:00,  1.69it/s]\n",
      "100%|█████████████████████████████████████████████| 7/7 [00:03<00:00,  2.26it/s]\n"
     ]
    },
    {
     "name": "stdout",
     "output_type": "stream",
     "text": [
      "# Epoch 50 / 300\n"
     ]
    },
    {
     "name": "stderr",
     "output_type": "stream",
     "text": [
      "100%|███████████████████████████████████████████| 49/49 [00:28<00:00,  1.73it/s]\n",
      "100%|█████████████████████████████████████████████| 7/7 [00:02<00:00,  2.48it/s]\n"
     ]
    },
    {
     "name": "stdout",
     "output_type": "stream",
     "text": [
      "# Epoch 51 / 300\n"
     ]
    },
    {
     "name": "stderr",
     "output_type": "stream",
     "text": [
      "100%|███████████████████████████████████████████| 49/49 [00:28<00:00,  1.74it/s]\n",
      "100%|█████████████████████████████████████████████| 7/7 [00:02<00:00,  2.45it/s]\n"
     ]
    },
    {
     "name": "stdout",
     "output_type": "stream",
     "text": [
      "# Epoch 52 / 300\n"
     ]
    },
    {
     "name": "stderr",
     "output_type": "stream",
     "text": [
      "100%|███████████████████████████████████████████| 49/49 [00:28<00:00,  1.71it/s]\n",
      "100%|█████████████████████████████████████████████| 7/7 [00:03<00:00,  2.31it/s]\n"
     ]
    },
    {
     "name": "stdout",
     "output_type": "stream",
     "text": [
      "# Epoch 53 / 300\n"
     ]
    },
    {
     "name": "stderr",
     "output_type": "stream",
     "text": [
      "100%|███████████████████████████████████████████| 49/49 [00:28<00:00,  1.70it/s]\n",
      "100%|█████████████████████████████████████████████| 7/7 [00:03<00:00,  2.24it/s]\n"
     ]
    },
    {
     "name": "stdout",
     "output_type": "stream",
     "text": [
      "# Epoch 54 / 300\n"
     ]
    },
    {
     "name": "stderr",
     "output_type": "stream",
     "text": [
      "100%|███████████████████████████████████████████| 49/49 [00:28<00:00,  1.70it/s]\n",
      "100%|█████████████████████████████████████████████| 7/7 [00:03<00:00,  2.31it/s]\n"
     ]
    },
    {
     "name": "stdout",
     "output_type": "stream",
     "text": [
      "# Epoch 55 / 300\n"
     ]
    },
    {
     "name": "stderr",
     "output_type": "stream",
     "text": [
      "100%|███████████████████████████████████████████| 49/49 [00:28<00:00,  1.73it/s]\n",
      "100%|█████████████████████████████████████████████| 7/7 [00:02<00:00,  2.38it/s]\n"
     ]
    },
    {
     "name": "stdout",
     "output_type": "stream",
     "text": [
      "# Epoch 56 / 300\n"
     ]
    },
    {
     "name": "stderr",
     "output_type": "stream",
     "text": [
      "100%|███████████████████████████████████████████| 49/49 [00:28<00:00,  1.71it/s]\n",
      "100%|█████████████████████████████████████████████| 7/7 [00:03<00:00,  2.21it/s]\n"
     ]
    },
    {
     "name": "stdout",
     "output_type": "stream",
     "text": [
      "# Epoch 57 / 300\n"
     ]
    },
    {
     "name": "stderr",
     "output_type": "stream",
     "text": [
      "100%|███████████████████████████████████████████| 49/49 [00:28<00:00,  1.69it/s]\n",
      "100%|█████████████████████████████████████████████| 7/7 [00:02<00:00,  2.35it/s]\n"
     ]
    },
    {
     "name": "stdout",
     "output_type": "stream",
     "text": [
      "# Epoch 58 / 300\n"
     ]
    },
    {
     "name": "stderr",
     "output_type": "stream",
     "text": [
      "100%|███████████████████████████████████████████| 49/49 [00:29<00:00,  1.69it/s]\n",
      "100%|█████████████████████████████████████████████| 7/7 [00:03<00:00,  2.25it/s]\n"
     ]
    },
    {
     "name": "stdout",
     "output_type": "stream",
     "text": [
      "# Epoch 59 / 300\n"
     ]
    },
    {
     "name": "stderr",
     "output_type": "stream",
     "text": [
      "100%|███████████████████████████████████████████| 49/49 [00:28<00:00,  1.74it/s]\n",
      "100%|█████████████████████████████████████████████| 7/7 [00:03<00:00,  2.32it/s]\n"
     ]
    },
    {
     "name": "stdout",
     "output_type": "stream",
     "text": [
      "# Epoch 60 / 300\n"
     ]
    },
    {
     "name": "stderr",
     "output_type": "stream",
     "text": [
      "100%|███████████████████████████████████████████| 49/49 [00:28<00:00,  1.74it/s]\n",
      "100%|█████████████████████████████████████████████| 7/7 [00:02<00:00,  2.38it/s]\n"
     ]
    },
    {
     "name": "stdout",
     "output_type": "stream",
     "text": [
      "# Epoch 61 / 300\n"
     ]
    },
    {
     "name": "stderr",
     "output_type": "stream",
     "text": [
      "100%|███████████████████████████████████████████| 49/49 [00:29<00:00,  1.69it/s]\n",
      "100%|█████████████████████████████████████████████| 7/7 [00:02<00:00,  2.39it/s]\n"
     ]
    },
    {
     "name": "stdout",
     "output_type": "stream",
     "text": [
      "# Epoch 62 / 300\n"
     ]
    },
    {
     "name": "stderr",
     "output_type": "stream",
     "text": [
      "100%|███████████████████████████████████████████| 49/49 [00:28<00:00,  1.71it/s]\n",
      "100%|█████████████████████████████████████████████| 7/7 [00:03<00:00,  2.32it/s]\n"
     ]
    },
    {
     "name": "stdout",
     "output_type": "stream",
     "text": [
      "# Epoch 63 / 300\n"
     ]
    },
    {
     "name": "stderr",
     "output_type": "stream",
     "text": [
      "100%|███████████████████████████████████████████| 49/49 [00:28<00:00,  1.69it/s]\n",
      "100%|█████████████████████████████████████████████| 7/7 [00:02<00:00,  2.35it/s]\n"
     ]
    },
    {
     "name": "stdout",
     "output_type": "stream",
     "text": [
      "# Epoch 64 / 300\n"
     ]
    },
    {
     "name": "stderr",
     "output_type": "stream",
     "text": [
      "100%|███████████████████████████████████████████| 49/49 [00:28<00:00,  1.70it/s]\n",
      "100%|█████████████████████████████████████████████| 7/7 [00:03<00:00,  2.23it/s]\n"
     ]
    },
    {
     "name": "stdout",
     "output_type": "stream",
     "text": [
      "# Epoch 65 / 300\n"
     ]
    },
    {
     "name": "stderr",
     "output_type": "stream",
     "text": [
      "100%|███████████████████████████████████████████| 49/49 [00:28<00:00,  1.70it/s]\n",
      "100%|█████████████████████████████████████████████| 7/7 [00:03<00:00,  2.21it/s]\n"
     ]
    },
    {
     "name": "stdout",
     "output_type": "stream",
     "text": [
      "# Epoch 66 / 300\n"
     ]
    },
    {
     "name": "stderr",
     "output_type": "stream",
     "text": [
      "100%|███████████████████████████████████████████| 49/49 [00:28<00:00,  1.69it/s]\n",
      "100%|█████████████████████████████████████████████| 7/7 [00:03<00:00,  2.31it/s]\n"
     ]
    },
    {
     "name": "stdout",
     "output_type": "stream",
     "text": [
      "# Epoch 67 / 300\n"
     ]
    },
    {
     "name": "stderr",
     "output_type": "stream",
     "text": [
      "100%|███████████████████████████████████████████| 49/49 [00:28<00:00,  1.70it/s]\n",
      "100%|█████████████████████████████████████████████| 7/7 [00:02<00:00,  2.37it/s]\n"
     ]
    },
    {
     "name": "stdout",
     "output_type": "stream",
     "text": [
      "# Epoch 68 / 300\n"
     ]
    },
    {
     "name": "stderr",
     "output_type": "stream",
     "text": [
      "100%|███████████████████████████████████████████| 49/49 [00:28<00:00,  1.74it/s]\n",
      "100%|█████████████████████████████████████████████| 7/7 [00:03<00:00,  2.21it/s]\n"
     ]
    },
    {
     "name": "stdout",
     "output_type": "stream",
     "text": [
      "# Epoch 69 / 300\n"
     ]
    },
    {
     "name": "stderr",
     "output_type": "stream",
     "text": [
      "100%|███████████████████████████████████████████| 49/49 [00:28<00:00,  1.73it/s]\n",
      "100%|█████████████████████████████████████████████| 7/7 [00:03<00:00,  2.32it/s]\n"
     ]
    },
    {
     "name": "stdout",
     "output_type": "stream",
     "text": [
      "# Epoch 70 / 300\n"
     ]
    },
    {
     "name": "stderr",
     "output_type": "stream",
     "text": [
      "100%|███████████████████████████████████████████| 49/49 [00:28<00:00,  1.74it/s]\n",
      "100%|█████████████████████████████████████████████| 7/7 [00:02<00:00,  2.36it/s]\n"
     ]
    },
    {
     "name": "stdout",
     "output_type": "stream",
     "text": [
      "# Epoch 71 / 300\n"
     ]
    },
    {
     "name": "stderr",
     "output_type": "stream",
     "text": [
      "100%|███████████████████████████████████████████| 49/49 [00:28<00:00,  1.72it/s]\n",
      "100%|█████████████████████████████████████████████| 7/7 [00:02<00:00,  2.39it/s]\n"
     ]
    },
    {
     "name": "stdout",
     "output_type": "stream",
     "text": [
      "# Epoch 72 / 300\n"
     ]
    },
    {
     "name": "stderr",
     "output_type": "stream",
     "text": [
      "100%|███████████████████████████████████████████| 49/49 [00:28<00:00,  1.73it/s]\n",
      "100%|█████████████████████████████████████████████| 7/7 [00:03<00:00,  2.21it/s]\n"
     ]
    },
    {
     "name": "stdout",
     "output_type": "stream",
     "text": [
      "# Epoch 73 / 300\n"
     ]
    },
    {
     "name": "stderr",
     "output_type": "stream",
     "text": [
      "100%|███████████████████████████████████████████| 49/49 [00:27<00:00,  1.76it/s]\n",
      "100%|█████████████████████████████████████████████| 7/7 [00:02<00:00,  2.42it/s]\n"
     ]
    },
    {
     "name": "stdout",
     "output_type": "stream",
     "text": [
      "# Epoch 74 / 300\n"
     ]
    },
    {
     "name": "stderr",
     "output_type": "stream",
     "text": [
      "100%|███████████████████████████████████████████| 49/49 [00:28<00:00,  1.74it/s]\n",
      "100%|█████████████████████████████████████████████| 7/7 [00:02<00:00,  2.38it/s]\n"
     ]
    },
    {
     "name": "stdout",
     "output_type": "stream",
     "text": [
      "# Epoch 75 / 300\n"
     ]
    },
    {
     "name": "stderr",
     "output_type": "stream",
     "text": [
      "100%|███████████████████████████████████████████| 49/49 [00:28<00:00,  1.70it/s]\n",
      "100%|█████████████████████████████████████████████| 7/7 [00:03<00:00,  2.20it/s]\n"
     ]
    },
    {
     "name": "stdout",
     "output_type": "stream",
     "text": [
      "# Epoch 76 / 300\n"
     ]
    },
    {
     "name": "stderr",
     "output_type": "stream",
     "text": [
      "100%|███████████████████████████████████████████| 49/49 [00:28<00:00,  1.70it/s]\n",
      "100%|█████████████████████████████████████████████| 7/7 [00:02<00:00,  2.40it/s]\n"
     ]
    },
    {
     "name": "stdout",
     "output_type": "stream",
     "text": [
      "# Epoch 77 / 300\n"
     ]
    },
    {
     "name": "stderr",
     "output_type": "stream",
     "text": [
      "100%|███████████████████████████████████████████| 49/49 [00:27<00:00,  1.75it/s]\n",
      "100%|█████████████████████████████████████████████| 7/7 [00:02<00:00,  2.38it/s]\n"
     ]
    },
    {
     "name": "stdout",
     "output_type": "stream",
     "text": [
      "# Epoch 78 / 300\n"
     ]
    },
    {
     "name": "stderr",
     "output_type": "stream",
     "text": [
      "100%|███████████████████████████████████████████| 49/49 [00:27<00:00,  1.79it/s]\n",
      "100%|█████████████████████████████████████████████| 7/7 [00:02<00:00,  2.47it/s]\n"
     ]
    },
    {
     "name": "stdout",
     "output_type": "stream",
     "text": [
      "# Epoch 79 / 300\n"
     ]
    },
    {
     "name": "stderr",
     "output_type": "stream",
     "text": [
      "100%|███████████████████████████████████████████| 49/49 [00:27<00:00,  1.75it/s]\n",
      "100%|█████████████████████████████████████████████| 7/7 [00:02<00:00,  2.37it/s]\n"
     ]
    },
    {
     "name": "stdout",
     "output_type": "stream",
     "text": [
      "# Epoch 80 / 300\n"
     ]
    },
    {
     "name": "stderr",
     "output_type": "stream",
     "text": [
      "100%|███████████████████████████████████████████| 49/49 [00:28<00:00,  1.70it/s]\n",
      "100%|█████████████████████████████████████████████| 7/7 [00:03<00:00,  2.20it/s]\n"
     ]
    },
    {
     "name": "stdout",
     "output_type": "stream",
     "text": [
      "# Epoch 81 / 300\n"
     ]
    },
    {
     "name": "stderr",
     "output_type": "stream",
     "text": [
      "100%|███████████████████████████████████████████| 49/49 [00:28<00:00,  1.73it/s]\n",
      "100%|█████████████████████████████████████████████| 7/7 [00:03<00:00,  2.25it/s]\n"
     ]
    },
    {
     "name": "stdout",
     "output_type": "stream",
     "text": [
      "# Epoch 82 / 300\n"
     ]
    },
    {
     "name": "stderr",
     "output_type": "stream",
     "text": [
      "100%|███████████████████████████████████████████| 49/49 [00:28<00:00,  1.71it/s]\n",
      "100%|█████████████████████████████████████████████| 7/7 [00:03<00:00,  2.25it/s]\n"
     ]
    },
    {
     "name": "stdout",
     "output_type": "stream",
     "text": [
      "# Epoch 83 / 300\n"
     ]
    },
    {
     "name": "stderr",
     "output_type": "stream",
     "text": [
      "100%|███████████████████████████████████████████| 49/49 [00:27<00:00,  1.76it/s]\n",
      "100%|█████████████████████████████████████████████| 7/7 [00:02<00:00,  2.47it/s]\n"
     ]
    },
    {
     "name": "stdout",
     "output_type": "stream",
     "text": [
      "# Epoch 84 / 300\n"
     ]
    },
    {
     "name": "stderr",
     "output_type": "stream",
     "text": [
      "100%|███████████████████████████████████████████| 49/49 [00:28<00:00,  1.74it/s]\n",
      "100%|█████████████████████████████████████████████| 7/7 [00:03<00:00,  2.28it/s]\n"
     ]
    },
    {
     "name": "stdout",
     "output_type": "stream",
     "text": [
      "# Epoch 85 / 300\n"
     ]
    },
    {
     "name": "stderr",
     "output_type": "stream",
     "text": [
      "100%|███████████████████████████████████████████| 49/49 [00:28<00:00,  1.72it/s]\n",
      "100%|█████████████████████████████████████████████| 7/7 [00:02<00:00,  2.40it/s]\n"
     ]
    },
    {
     "name": "stdout",
     "output_type": "stream",
     "text": [
      "# Epoch 86 / 300\n"
     ]
    },
    {
     "name": "stderr",
     "output_type": "stream",
     "text": [
      "100%|███████████████████████████████████████████| 49/49 [00:27<00:00,  1.75it/s]\n",
      "100%|█████████████████████████████████████████████| 7/7 [00:02<00:00,  2.34it/s]\n"
     ]
    },
    {
     "name": "stdout",
     "output_type": "stream",
     "text": [
      "# Epoch 87 / 300\n"
     ]
    },
    {
     "name": "stderr",
     "output_type": "stream",
     "text": [
      "100%|███████████████████████████████████████████| 49/49 [00:28<00:00,  1.71it/s]\n",
      "100%|█████████████████████████████████████████████| 7/7 [00:02<00:00,  2.56it/s]\n"
     ]
    },
    {
     "name": "stdout",
     "output_type": "stream",
     "text": [
      "# Epoch 88 / 300\n"
     ]
    },
    {
     "name": "stderr",
     "output_type": "stream",
     "text": [
      "100%|███████████████████████████████████████████| 49/49 [00:28<00:00,  1.72it/s]\n",
      "100%|█████████████████████████████████████████████| 7/7 [00:03<00:00,  2.31it/s]\n"
     ]
    },
    {
     "name": "stdout",
     "output_type": "stream",
     "text": [
      "# Epoch 89 / 300\n"
     ]
    },
    {
     "name": "stderr",
     "output_type": "stream",
     "text": [
      "100%|███████████████████████████████████████████| 49/49 [00:28<00:00,  1.70it/s]\n",
      "100%|█████████████████████████████████████████████| 7/7 [00:02<00:00,  2.35it/s]\n"
     ]
    },
    {
     "name": "stdout",
     "output_type": "stream",
     "text": [
      "# Epoch 90 / 300\n"
     ]
    },
    {
     "name": "stderr",
     "output_type": "stream",
     "text": [
      "100%|███████████████████████████████████████████| 49/49 [00:28<00:00,  1.72it/s]\n",
      "100%|█████████████████████████████████████████████| 7/7 [00:02<00:00,  2.34it/s]\n"
     ]
    },
    {
     "name": "stdout",
     "output_type": "stream",
     "text": [
      "# Epoch 91 / 300\n"
     ]
    },
    {
     "name": "stderr",
     "output_type": "stream",
     "text": [
      "100%|███████████████████████████████████████████| 49/49 [00:28<00:00,  1.72it/s]\n",
      "100%|█████████████████████████████████████████████| 7/7 [00:03<00:00,  2.23it/s]\n"
     ]
    },
    {
     "name": "stdout",
     "output_type": "stream",
     "text": [
      "# Epoch 92 / 300\n"
     ]
    },
    {
     "name": "stderr",
     "output_type": "stream",
     "text": [
      "100%|███████████████████████████████████████████| 49/49 [00:28<00:00,  1.70it/s]\n",
      "100%|█████████████████████████████████████████████| 7/7 [00:02<00:00,  2.62it/s]\n"
     ]
    },
    {
     "name": "stdout",
     "output_type": "stream",
     "text": [
      "# Epoch 93 / 300\n"
     ]
    },
    {
     "name": "stderr",
     "output_type": "stream",
     "text": [
      "100%|███████████████████████████████████████████| 49/49 [00:28<00:00,  1.71it/s]\n",
      "100%|█████████████████████████████████████████████| 7/7 [00:02<00:00,  2.35it/s]\n"
     ]
    },
    {
     "name": "stdout",
     "output_type": "stream",
     "text": [
      "# Epoch 94 / 300\n"
     ]
    },
    {
     "name": "stderr",
     "output_type": "stream",
     "text": [
      "100%|███████████████████████████████████████████| 49/49 [00:28<00:00,  1.72it/s]\n",
      "100%|█████████████████████████████████████████████| 7/7 [00:02<00:00,  2.39it/s]\n"
     ]
    },
    {
     "name": "stdout",
     "output_type": "stream",
     "text": [
      "# Epoch 95 / 300\n"
     ]
    },
    {
     "name": "stderr",
     "output_type": "stream",
     "text": [
      "100%|███████████████████████████████████████████| 49/49 [00:28<00:00,  1.73it/s]\n",
      "100%|█████████████████████████████████████████████| 7/7 [00:02<00:00,  2.53it/s]\n"
     ]
    },
    {
     "name": "stdout",
     "output_type": "stream",
     "text": [
      "# Epoch 96 / 300\n"
     ]
    },
    {
     "name": "stderr",
     "output_type": "stream",
     "text": [
      "100%|███████████████████████████████████████████| 49/49 [00:27<00:00,  1.78it/s]\n",
      "100%|█████████████████████████████████████████████| 7/7 [00:02<00:00,  2.54it/s]\n"
     ]
    },
    {
     "name": "stdout",
     "output_type": "stream",
     "text": [
      "# Epoch 97 / 300\n"
     ]
    },
    {
     "name": "stderr",
     "output_type": "stream",
     "text": [
      "100%|███████████████████████████████████████████| 49/49 [00:29<00:00,  1.69it/s]\n",
      "100%|█████████████████████████████████████████████| 7/7 [00:03<00:00,  2.19it/s]\n"
     ]
    },
    {
     "name": "stdout",
     "output_type": "stream",
     "text": [
      "# Epoch 98 / 300\n"
     ]
    },
    {
     "name": "stderr",
     "output_type": "stream",
     "text": [
      "100%|███████████████████████████████████████████| 49/49 [00:28<00:00,  1.73it/s]\n",
      "100%|█████████████████████████████████████████████| 7/7 [00:02<00:00,  2.41it/s]\n"
     ]
    },
    {
     "name": "stdout",
     "output_type": "stream",
     "text": [
      "# Epoch 99 / 300\n"
     ]
    },
    {
     "name": "stderr",
     "output_type": "stream",
     "text": [
      "100%|███████████████████████████████████████████| 49/49 [00:28<00:00,  1.74it/s]\n",
      "100%|█████████████████████████████████████████████| 7/7 [00:02<00:00,  2.42it/s]\n"
     ]
    },
    {
     "name": "stdout",
     "output_type": "stream",
     "text": [
      "# Epoch 100 / 300\n"
     ]
    },
    {
     "name": "stderr",
     "output_type": "stream",
     "text": [
      "100%|███████████████████████████████████████████| 49/49 [00:28<00:00,  1.70it/s]\n",
      "100%|█████████████████████████████████████████████| 7/7 [00:03<00:00,  2.25it/s]\n"
     ]
    },
    {
     "name": "stdout",
     "output_type": "stream",
     "text": [
      "# Epoch 101 / 300\n"
     ]
    },
    {
     "name": "stderr",
     "output_type": "stream",
     "text": [
      "100%|███████████████████████████████████████████| 49/49 [00:28<00:00,  1.69it/s]\n",
      "100%|█████████████████████████████████████████████| 7/7 [00:02<00:00,  2.36it/s]\n"
     ]
    },
    {
     "name": "stdout",
     "output_type": "stream",
     "text": [
      "# Epoch 102 / 300\n"
     ]
    },
    {
     "name": "stderr",
     "output_type": "stream",
     "text": [
      "100%|███████████████████████████████████████████| 49/49 [00:28<00:00,  1.70it/s]\n",
      "100%|█████████████████████████████████████████████| 7/7 [00:02<00:00,  2.41it/s]\n"
     ]
    },
    {
     "name": "stdout",
     "output_type": "stream",
     "text": [
      "# Epoch 103 / 300\n"
     ]
    },
    {
     "name": "stderr",
     "output_type": "stream",
     "text": [
      "100%|███████████████████████████████████████████| 49/49 [00:28<00:00,  1.72it/s]\n",
      "100%|█████████████████████████████████████████████| 7/7 [00:02<00:00,  2.39it/s]\n"
     ]
    },
    {
     "name": "stdout",
     "output_type": "stream",
     "text": [
      "# Epoch 104 / 300\n"
     ]
    },
    {
     "name": "stderr",
     "output_type": "stream",
     "text": [
      "100%|███████████████████████████████████████████| 49/49 [00:28<00:00,  1.72it/s]\n",
      "100%|█████████████████████████████████████████████| 7/7 [00:02<00:00,  2.39it/s]\n"
     ]
    },
    {
     "name": "stdout",
     "output_type": "stream",
     "text": [
      "# Epoch 105 / 300\n"
     ]
    },
    {
     "name": "stderr",
     "output_type": "stream",
     "text": [
      "100%|███████████████████████████████████████████| 49/49 [00:27<00:00,  1.76it/s]\n",
      "100%|█████████████████████████████████████████████| 7/7 [00:03<00:00,  2.33it/s]\n"
     ]
    },
    {
     "name": "stdout",
     "output_type": "stream",
     "text": [
      "# Epoch 106 / 300\n"
     ]
    },
    {
     "name": "stderr",
     "output_type": "stream",
     "text": [
      "100%|███████████████████████████████████████████| 49/49 [00:28<00:00,  1.74it/s]\n",
      "100%|█████████████████████████████████████████████| 7/7 [00:02<00:00,  2.49it/s]\n"
     ]
    },
    {
     "name": "stdout",
     "output_type": "stream",
     "text": [
      "# Epoch 107 / 300\n"
     ]
    },
    {
     "name": "stderr",
     "output_type": "stream",
     "text": [
      "100%|███████████████████████████████████████████| 49/49 [00:28<00:00,  1.70it/s]\n",
      "100%|█████████████████████████████████████████████| 7/7 [00:03<00:00,  2.28it/s]\n"
     ]
    },
    {
     "name": "stdout",
     "output_type": "stream",
     "text": [
      "# Epoch 108 / 300\n"
     ]
    },
    {
     "name": "stderr",
     "output_type": "stream",
     "text": [
      "100%|███████████████████████████████████████████| 49/49 [00:28<00:00,  1.71it/s]\n",
      "100%|█████████████████████████████████████████████| 7/7 [00:03<00:00,  2.28it/s]\n"
     ]
    },
    {
     "name": "stdout",
     "output_type": "stream",
     "text": [
      "# Epoch 109 / 300\n"
     ]
    },
    {
     "name": "stderr",
     "output_type": "stream",
     "text": [
      "100%|███████████████████████████████████████████| 49/49 [00:28<00:00,  1.73it/s]\n",
      "100%|█████████████████████████████████████████████| 7/7 [00:02<00:00,  2.37it/s]\n"
     ]
    },
    {
     "name": "stdout",
     "output_type": "stream",
     "text": [
      "# Epoch 110 / 300\n"
     ]
    },
    {
     "name": "stderr",
     "output_type": "stream",
     "text": [
      "100%|███████████████████████████████████████████| 49/49 [00:28<00:00,  1.70it/s]\n",
      "100%|█████████████████████████████████████████████| 7/7 [00:03<00:00,  2.30it/s]\n"
     ]
    },
    {
     "name": "stdout",
     "output_type": "stream",
     "text": [
      "# Epoch 111 / 300\n"
     ]
    },
    {
     "name": "stderr",
     "output_type": "stream",
     "text": [
      "100%|███████████████████████████████████████████| 49/49 [00:27<00:00,  1.79it/s]\n",
      "100%|█████████████████████████████████████████████| 7/7 [00:02<00:00,  2.42it/s]\n"
     ]
    },
    {
     "name": "stdout",
     "output_type": "stream",
     "text": [
      "# Epoch 112 / 300\n"
     ]
    },
    {
     "name": "stderr",
     "output_type": "stream",
     "text": [
      "100%|███████████████████████████████████████████| 49/49 [00:29<00:00,  1.69it/s]\n",
      "100%|█████████████████████████████████████████████| 7/7 [00:02<00:00,  2.35it/s]\n"
     ]
    },
    {
     "name": "stdout",
     "output_type": "stream",
     "text": [
      "# Epoch 113 / 300\n"
     ]
    },
    {
     "name": "stderr",
     "output_type": "stream",
     "text": [
      "100%|███████████████████████████████████████████| 49/49 [00:28<00:00,  1.73it/s]\n",
      "100%|█████████████████████████████████████████████| 7/7 [00:02<00:00,  2.43it/s]\n"
     ]
    },
    {
     "name": "stdout",
     "output_type": "stream",
     "text": [
      "# Epoch 114 / 300\n"
     ]
    },
    {
     "name": "stderr",
     "output_type": "stream",
     "text": [
      "100%|███████████████████████████████████████████| 49/49 [00:28<00:00,  1.75it/s]\n",
      "100%|█████████████████████████████████████████████| 7/7 [00:03<00:00,  2.24it/s]\n"
     ]
    },
    {
     "name": "stdout",
     "output_type": "stream",
     "text": [
      "# Epoch 115 / 300\n"
     ]
    },
    {
     "name": "stderr",
     "output_type": "stream",
     "text": [
      "100%|███████████████████████████████████████████| 49/49 [00:28<00:00,  1.70it/s]\n",
      "100%|█████████████████████████████████████████████| 7/7 [00:02<00:00,  2.50it/s]\n"
     ]
    },
    {
     "name": "stdout",
     "output_type": "stream",
     "text": [
      "# Epoch 116 / 300\n"
     ]
    },
    {
     "name": "stderr",
     "output_type": "stream",
     "text": [
      "100%|███████████████████████████████████████████| 49/49 [00:28<00:00,  1.72it/s]\n",
      "100%|█████████████████████████████████████████████| 7/7 [00:02<00:00,  2.53it/s]\n"
     ]
    },
    {
     "name": "stdout",
     "output_type": "stream",
     "text": [
      "# Epoch 117 / 300\n"
     ]
    },
    {
     "name": "stderr",
     "output_type": "stream",
     "text": [
      "100%|███████████████████████████████████████████| 49/49 [00:28<00:00,  1.71it/s]\n",
      "100%|█████████████████████████████████████████████| 7/7 [00:02<00:00,  2.51it/s]\n"
     ]
    },
    {
     "name": "stdout",
     "output_type": "stream",
     "text": [
      "# Epoch 118 / 300\n"
     ]
    },
    {
     "name": "stderr",
     "output_type": "stream",
     "text": [
      "100%|███████████████████████████████████████████| 49/49 [00:28<00:00,  1.72it/s]\n",
      "100%|█████████████████████████████████████████████| 7/7 [00:02<00:00,  2.37it/s]\n"
     ]
    },
    {
     "name": "stdout",
     "output_type": "stream",
     "text": [
      "# Epoch 119 / 300\n"
     ]
    },
    {
     "name": "stderr",
     "output_type": "stream",
     "text": [
      "100%|███████████████████████████████████████████| 49/49 [00:27<00:00,  1.78it/s]\n",
      "100%|█████████████████████████████████████████████| 7/7 [00:02<00:00,  2.37it/s]\n"
     ]
    },
    {
     "name": "stdout",
     "output_type": "stream",
     "text": [
      "# Epoch 120 / 300\n"
     ]
    },
    {
     "name": "stderr",
     "output_type": "stream",
     "text": [
      "100%|███████████████████████████████████████████| 49/49 [00:27<00:00,  1.78it/s]\n",
      "100%|█████████████████████████████████████████████| 7/7 [00:02<00:00,  2.35it/s]\n"
     ]
    },
    {
     "name": "stdout",
     "output_type": "stream",
     "text": [
      "# Epoch 121 / 300\n"
     ]
    },
    {
     "name": "stderr",
     "output_type": "stream",
     "text": [
      "100%|███████████████████████████████████████████| 49/49 [00:28<00:00,  1.71it/s]\n",
      "100%|█████████████████████████████████████████████| 7/7 [00:02<00:00,  2.39it/s]\n"
     ]
    },
    {
     "name": "stdout",
     "output_type": "stream",
     "text": [
      "# Epoch 122 / 300\n"
     ]
    },
    {
     "name": "stderr",
     "output_type": "stream",
     "text": [
      "100%|███████████████████████████████████████████| 49/49 [00:28<00:00,  1.71it/s]\n",
      "100%|█████████████████████████████████████████████| 7/7 [00:02<00:00,  2.41it/s]\n"
     ]
    },
    {
     "name": "stdout",
     "output_type": "stream",
     "text": [
      "# Epoch 123 / 300\n"
     ]
    },
    {
     "name": "stderr",
     "output_type": "stream",
     "text": [
      "100%|███████████████████████████████████████████| 49/49 [00:27<00:00,  1.76it/s]\n",
      "100%|█████████████████████████████████████████████| 7/7 [00:02<00:00,  2.43it/s]\n"
     ]
    },
    {
     "name": "stdout",
     "output_type": "stream",
     "text": [
      "# Epoch 124 / 300\n"
     ]
    },
    {
     "name": "stderr",
     "output_type": "stream",
     "text": [
      "100%|███████████████████████████████████████████| 49/49 [00:27<00:00,  1.76it/s]\n",
      "100%|█████████████████████████████████████████████| 7/7 [00:02<00:00,  2.51it/s]\n"
     ]
    },
    {
     "name": "stdout",
     "output_type": "stream",
     "text": [
      "# Epoch 125 / 300\n"
     ]
    },
    {
     "name": "stderr",
     "output_type": "stream",
     "text": [
      "100%|███████████████████████████████████████████| 49/49 [00:27<00:00,  1.75it/s]\n",
      "100%|█████████████████████████████████████████████| 7/7 [00:02<00:00,  2.52it/s]\n"
     ]
    },
    {
     "name": "stdout",
     "output_type": "stream",
     "text": [
      "# Epoch 126 / 300\n"
     ]
    },
    {
     "name": "stderr",
     "output_type": "stream",
     "text": [
      "100%|███████████████████████████████████████████| 49/49 [00:28<00:00,  1.72it/s]\n",
      "100%|█████████████████████████████████████████████| 7/7 [00:02<00:00,  2.51it/s]\n"
     ]
    },
    {
     "name": "stdout",
     "output_type": "stream",
     "text": [
      "# Epoch 127 / 300\n"
     ]
    },
    {
     "name": "stderr",
     "output_type": "stream",
     "text": [
      "100%|███████████████████████████████████████████| 49/49 [00:28<00:00,  1.74it/s]\n",
      "100%|█████████████████████████████████████████████| 7/7 [00:02<00:00,  2.40it/s]\n"
     ]
    },
    {
     "name": "stdout",
     "output_type": "stream",
     "text": [
      "# Epoch 128 / 300\n"
     ]
    },
    {
     "name": "stderr",
     "output_type": "stream",
     "text": [
      "100%|███████████████████████████████████████████| 49/49 [00:28<00:00,  1.74it/s]\n",
      "100%|█████████████████████████████████████████████| 7/7 [00:02<00:00,  2.53it/s]\n"
     ]
    },
    {
     "name": "stdout",
     "output_type": "stream",
     "text": [
      "# Epoch 129 / 300\n"
     ]
    },
    {
     "name": "stderr",
     "output_type": "stream",
     "text": [
      "100%|███████████████████████████████████████████| 49/49 [00:28<00:00,  1.71it/s]\n",
      "100%|█████████████████████████████████████████████| 7/7 [00:02<00:00,  2.46it/s]\n"
     ]
    },
    {
     "name": "stdout",
     "output_type": "stream",
     "text": [
      "# Epoch 130 / 300\n"
     ]
    },
    {
     "name": "stderr",
     "output_type": "stream",
     "text": [
      "100%|███████████████████████████████████████████| 49/49 [00:28<00:00,  1.70it/s]\n",
      "100%|█████████████████████████████████████████████| 7/7 [00:02<00:00,  2.60it/s]\n"
     ]
    },
    {
     "name": "stdout",
     "output_type": "stream",
     "text": [
      "# Epoch 131 / 300\n"
     ]
    },
    {
     "name": "stderr",
     "output_type": "stream",
     "text": [
      "100%|███████████████████████████████████████████| 49/49 [00:28<00:00,  1.69it/s]\n",
      "100%|█████████████████████████████████████████████| 7/7 [00:02<00:00,  2.49it/s]\n"
     ]
    },
    {
     "name": "stdout",
     "output_type": "stream",
     "text": [
      "# Epoch 132 / 300\n"
     ]
    },
    {
     "name": "stderr",
     "output_type": "stream",
     "text": [
      "100%|███████████████████████████████████████████| 49/49 [00:28<00:00,  1.73it/s]\n",
      "100%|█████████████████████████████████████████████| 7/7 [00:02<00:00,  2.51it/s]\n"
     ]
    },
    {
     "name": "stdout",
     "output_type": "stream",
     "text": [
      "# Epoch 133 / 300\n"
     ]
    },
    {
     "name": "stderr",
     "output_type": "stream",
     "text": [
      "100%|███████████████████████████████████████████| 49/49 [00:27<00:00,  1.76it/s]\n",
      "100%|█████████████████████████████████████████████| 7/7 [00:03<00:00,  2.31it/s]\n"
     ]
    },
    {
     "name": "stdout",
     "output_type": "stream",
     "text": [
      "# Epoch 134 / 300\n"
     ]
    },
    {
     "name": "stderr",
     "output_type": "stream",
     "text": [
      "100%|███████████████████████████████████████████| 49/49 [00:28<00:00,  1.71it/s]\n",
      "100%|█████████████████████████████████████████████| 7/7 [00:02<00:00,  2.41it/s]\n"
     ]
    },
    {
     "name": "stdout",
     "output_type": "stream",
     "text": [
      "# Epoch 135 / 300\n"
     ]
    },
    {
     "name": "stderr",
     "output_type": "stream",
     "text": [
      "100%|███████████████████████████████████████████| 49/49 [00:28<00:00,  1.70it/s]\n",
      "100%|█████████████████████████████████████████████| 7/7 [00:02<00:00,  2.40it/s]\n"
     ]
    },
    {
     "name": "stdout",
     "output_type": "stream",
     "text": [
      "# Epoch 136 / 300\n"
     ]
    },
    {
     "name": "stderr",
     "output_type": "stream",
     "text": [
      "100%|███████████████████████████████████████████| 49/49 [00:27<00:00,  1.76it/s]\n",
      "100%|█████████████████████████████████████████████| 7/7 [00:02<00:00,  2.34it/s]\n"
     ]
    },
    {
     "name": "stdout",
     "output_type": "stream",
     "text": [
      "# Epoch 137 / 300\n"
     ]
    },
    {
     "name": "stderr",
     "output_type": "stream",
     "text": [
      "100%|███████████████████████████████████████████| 49/49 [00:28<00:00,  1.74it/s]\n",
      "100%|█████████████████████████████████████████████| 7/7 [00:02<00:00,  2.46it/s]\n"
     ]
    },
    {
     "name": "stdout",
     "output_type": "stream",
     "text": [
      "# Epoch 138 / 300\n"
     ]
    },
    {
     "name": "stderr",
     "output_type": "stream",
     "text": [
      "100%|███████████████████████████████████████████| 49/49 [00:28<00:00,  1.72it/s]\n",
      "100%|█████████████████████████████████████████████| 7/7 [00:02<00:00,  2.37it/s]\n"
     ]
    },
    {
     "name": "stdout",
     "output_type": "stream",
     "text": [
      "# Epoch 139 / 300\n"
     ]
    },
    {
     "name": "stderr",
     "output_type": "stream",
     "text": [
      "100%|███████████████████████████████████████████| 49/49 [00:29<00:00,  1.69it/s]\n",
      "100%|█████████████████████████████████████████████| 7/7 [00:02<00:00,  2.41it/s]\n"
     ]
    },
    {
     "name": "stdout",
     "output_type": "stream",
     "text": [
      "# Epoch 140 / 300\n"
     ]
    },
    {
     "name": "stderr",
     "output_type": "stream",
     "text": [
      "100%|███████████████████████████████████████████| 49/49 [00:28<00:00,  1.73it/s]\n",
      "100%|█████████████████████████████████████████████| 7/7 [00:02<00:00,  2.44it/s]\n"
     ]
    },
    {
     "name": "stdout",
     "output_type": "stream",
     "text": [
      "# Epoch 141 / 300\n"
     ]
    },
    {
     "name": "stderr",
     "output_type": "stream",
     "text": [
      "100%|███████████████████████████████████████████| 49/49 [00:28<00:00,  1.74it/s]\n",
      "100%|█████████████████████████████████████████████| 7/7 [00:02<00:00,  2.58it/s]\n"
     ]
    },
    {
     "name": "stdout",
     "output_type": "stream",
     "text": [
      "# Epoch 142 / 300\n"
     ]
    },
    {
     "name": "stderr",
     "output_type": "stream",
     "text": [
      "100%|███████████████████████████████████████████| 49/49 [00:28<00:00,  1.71it/s]\n",
      "100%|█████████████████████████████████████████████| 7/7 [00:02<00:00,  2.35it/s]\n"
     ]
    },
    {
     "name": "stdout",
     "output_type": "stream",
     "text": [
      "# Epoch 143 / 300\n"
     ]
    },
    {
     "name": "stderr",
     "output_type": "stream",
     "text": [
      "100%|███████████████████████████████████████████| 49/49 [00:28<00:00,  1.71it/s]\n",
      "100%|█████████████████████████████████████████████| 7/7 [00:02<00:00,  2.49it/s]\n"
     ]
    },
    {
     "name": "stdout",
     "output_type": "stream",
     "text": [
      "# Epoch 144 / 300\n"
     ]
    },
    {
     "name": "stderr",
     "output_type": "stream",
     "text": [
      "100%|███████████████████████████████████████████| 49/49 [00:27<00:00,  1.76it/s]\n",
      "100%|█████████████████████████████████████████████| 7/7 [00:03<00:00,  2.21it/s]\n"
     ]
    },
    {
     "name": "stdout",
     "output_type": "stream",
     "text": [
      "# Epoch 145 / 300\n"
     ]
    },
    {
     "name": "stderr",
     "output_type": "stream",
     "text": [
      "100%|███████████████████████████████████████████| 49/49 [00:27<00:00,  1.76it/s]\n",
      "100%|█████████████████████████████████████████████| 7/7 [00:02<00:00,  2.40it/s]\n"
     ]
    },
    {
     "name": "stdout",
     "output_type": "stream",
     "text": [
      "# Epoch 146 / 300\n"
     ]
    },
    {
     "name": "stderr",
     "output_type": "stream",
     "text": [
      "100%|███████████████████████████████████████████| 49/49 [00:28<00:00,  1.72it/s]\n",
      "100%|█████████████████████████████████████████████| 7/7 [00:02<00:00,  2.37it/s]\n"
     ]
    },
    {
     "name": "stdout",
     "output_type": "stream",
     "text": [
      "# Epoch 147 / 300\n"
     ]
    },
    {
     "name": "stderr",
     "output_type": "stream",
     "text": [
      "100%|███████████████████████████████████████████| 49/49 [00:29<00:00,  1.68it/s]\n",
      "100%|█████████████████████████████████████████████| 7/7 [00:02<00:00,  2.46it/s]\n"
     ]
    },
    {
     "name": "stdout",
     "output_type": "stream",
     "text": [
      "# Epoch 148 / 300\n"
     ]
    },
    {
     "name": "stderr",
     "output_type": "stream",
     "text": [
      "100%|███████████████████████████████████████████| 49/49 [00:28<00:00,  1.74it/s]\n",
      "100%|█████████████████████████████████████████████| 7/7 [00:02<00:00,  2.54it/s]\n"
     ]
    },
    {
     "name": "stdout",
     "output_type": "stream",
     "text": [
      "# Epoch 149 / 300\n"
     ]
    },
    {
     "name": "stderr",
     "output_type": "stream",
     "text": [
      "100%|███████████████████████████████████████████| 49/49 [00:28<00:00,  1.72it/s]\n",
      "100%|█████████████████████████████████████████████| 7/7 [00:02<00:00,  2.43it/s]\n"
     ]
    },
    {
     "name": "stdout",
     "output_type": "stream",
     "text": [
      "# Epoch 150 / 300\n"
     ]
    },
    {
     "name": "stderr",
     "output_type": "stream",
     "text": [
      "100%|███████████████████████████████████████████| 49/49 [00:28<00:00,  1.73it/s]\n",
      "100%|█████████████████████████████████████████████| 7/7 [00:02<00:00,  2.58it/s]\n"
     ]
    },
    {
     "name": "stdout",
     "output_type": "stream",
     "text": [
      "# Epoch 151 / 300\n"
     ]
    },
    {
     "name": "stderr",
     "output_type": "stream",
     "text": [
      "100%|███████████████████████████████████████████| 49/49 [00:28<00:00,  1.73it/s]\n",
      "100%|█████████████████████████████████████████████| 7/7 [00:02<00:00,  2.53it/s]\n"
     ]
    },
    {
     "name": "stdout",
     "output_type": "stream",
     "text": [
      "# Epoch 152 / 300\n"
     ]
    },
    {
     "name": "stderr",
     "output_type": "stream",
     "text": [
      "100%|███████████████████████████████████████████| 49/49 [00:28<00:00,  1.72it/s]\n",
      "100%|█████████████████████████████████████████████| 7/7 [00:03<00:00,  2.22it/s]\n"
     ]
    },
    {
     "name": "stdout",
     "output_type": "stream",
     "text": [
      "# Epoch 153 / 300\n"
     ]
    },
    {
     "name": "stderr",
     "output_type": "stream",
     "text": [
      "100%|███████████████████████████████████████████| 49/49 [00:29<00:00,  1.68it/s]\n",
      "100%|█████████████████████████████████████████████| 7/7 [00:02<00:00,  2.38it/s]\n"
     ]
    },
    {
     "name": "stdout",
     "output_type": "stream",
     "text": [
      "# Epoch 154 / 300\n"
     ]
    },
    {
     "name": "stderr",
     "output_type": "stream",
     "text": [
      "100%|███████████████████████████████████████████| 49/49 [00:28<00:00,  1.73it/s]\n",
      "100%|█████████████████████████████████████████████| 7/7 [00:02<00:00,  2.39it/s]\n"
     ]
    },
    {
     "name": "stdout",
     "output_type": "stream",
     "text": [
      "# Epoch 155 / 300\n"
     ]
    },
    {
     "name": "stderr",
     "output_type": "stream",
     "text": [
      "100%|███████████████████████████████████████████| 49/49 [00:28<00:00,  1.74it/s]\n",
      "100%|█████████████████████████████████████████████| 7/7 [00:02<00:00,  2.65it/s]\n"
     ]
    },
    {
     "name": "stdout",
     "output_type": "stream",
     "text": [
      "# Epoch 156 / 300\n"
     ]
    },
    {
     "name": "stderr",
     "output_type": "stream",
     "text": [
      "100%|███████████████████████████████████████████| 49/49 [00:28<00:00,  1.73it/s]\n",
      "100%|█████████████████████████████████████████████| 7/7 [00:02<00:00,  2.37it/s]\n"
     ]
    },
    {
     "name": "stdout",
     "output_type": "stream",
     "text": [
      "# Epoch 157 / 300\n"
     ]
    },
    {
     "name": "stderr",
     "output_type": "stream",
     "text": [
      "100%|███████████████████████████████████████████| 49/49 [00:28<00:00,  1.70it/s]\n",
      "100%|█████████████████████████████████████████████| 7/7 [00:02<00:00,  2.55it/s]\n"
     ]
    },
    {
     "name": "stdout",
     "output_type": "stream",
     "text": [
      "# Epoch 158 / 300\n"
     ]
    },
    {
     "name": "stderr",
     "output_type": "stream",
     "text": [
      "100%|███████████████████████████████████████████| 49/49 [00:28<00:00,  1.71it/s]\n",
      "100%|█████████████████████████████████████████████| 7/7 [00:02<00:00,  2.41it/s]\n"
     ]
    },
    {
     "name": "stdout",
     "output_type": "stream",
     "text": [
      "# Epoch 159 / 300\n"
     ]
    },
    {
     "name": "stderr",
     "output_type": "stream",
     "text": [
      "100%|███████████████████████████████████████████| 49/49 [00:27<00:00,  1.76it/s]\n",
      "100%|█████████████████████████████████████████████| 7/7 [00:02<00:00,  2.64it/s]\n"
     ]
    },
    {
     "name": "stdout",
     "output_type": "stream",
     "text": [
      "# Epoch 160 / 300\n"
     ]
    },
    {
     "name": "stderr",
     "output_type": "stream",
     "text": [
      "100%|███████████████████████████████████████████| 49/49 [00:28<00:00,  1.71it/s]\n",
      "100%|█████████████████████████████████████████████| 7/7 [00:02<00:00,  2.39it/s]\n"
     ]
    },
    {
     "name": "stdout",
     "output_type": "stream",
     "text": [
      "# Epoch 161 / 300\n"
     ]
    },
    {
     "name": "stderr",
     "output_type": "stream",
     "text": [
      "100%|███████████████████████████████████████████| 49/49 [00:27<00:00,  1.76it/s]\n",
      "100%|█████████████████████████████████████████████| 7/7 [00:02<00:00,  2.61it/s]\n"
     ]
    },
    {
     "name": "stdout",
     "output_type": "stream",
     "text": [
      "# Epoch 162 / 300\n"
     ]
    },
    {
     "name": "stderr",
     "output_type": "stream",
     "text": [
      "100%|███████████████████████████████████████████| 49/49 [00:28<00:00,  1.71it/s]\n",
      "100%|█████████████████████████████████████████████| 7/7 [00:02<00:00,  2.42it/s]\n"
     ]
    },
    {
     "name": "stdout",
     "output_type": "stream",
     "text": [
      "# Epoch 163 / 300\n"
     ]
    },
    {
     "name": "stderr",
     "output_type": "stream",
     "text": [
      "100%|███████████████████████████████████████████| 49/49 [00:28<00:00,  1.71it/s]\n",
      "100%|█████████████████████████████████████████████| 7/7 [00:02<00:00,  2.40it/s]\n"
     ]
    },
    {
     "name": "stdout",
     "output_type": "stream",
     "text": [
      "# Epoch 164 / 300\n"
     ]
    },
    {
     "name": "stderr",
     "output_type": "stream",
     "text": [
      "100%|███████████████████████████████████████████| 49/49 [00:27<00:00,  1.77it/s]\n",
      "100%|█████████████████████████████████████████████| 7/7 [00:02<00:00,  2.39it/s]\n"
     ]
    },
    {
     "name": "stdout",
     "output_type": "stream",
     "text": [
      "# Epoch 165 / 300\n"
     ]
    },
    {
     "name": "stderr",
     "output_type": "stream",
     "text": [
      "100%|███████████████████████████████████████████| 49/49 [00:27<00:00,  1.78it/s]\n",
      "100%|█████████████████████████████████████████████| 7/7 [00:03<00:00,  2.19it/s]\n"
     ]
    },
    {
     "name": "stdout",
     "output_type": "stream",
     "text": [
      "# Epoch 166 / 300\n"
     ]
    },
    {
     "name": "stderr",
     "output_type": "stream",
     "text": [
      "100%|███████████████████████████████████████████| 49/49 [00:28<00:00,  1.72it/s]\n",
      "100%|█████████████████████████████████████████████| 7/7 [00:02<00:00,  2.63it/s]\n"
     ]
    },
    {
     "name": "stdout",
     "output_type": "stream",
     "text": [
      "# Epoch 167 / 300\n"
     ]
    },
    {
     "name": "stderr",
     "output_type": "stream",
     "text": [
      "100%|███████████████████████████████████████████| 49/49 [00:28<00:00,  1.71it/s]\n",
      "100%|█████████████████████████████████████████████| 7/7 [00:02<00:00,  2.39it/s]\n"
     ]
    },
    {
     "name": "stdout",
     "output_type": "stream",
     "text": [
      "# Epoch 168 / 300\n"
     ]
    },
    {
     "name": "stderr",
     "output_type": "stream",
     "text": [
      "100%|███████████████████████████████████████████| 49/49 [00:28<00:00,  1.70it/s]\n",
      "100%|█████████████████████████████████████████████| 7/7 [00:02<00:00,  2.47it/s]\n"
     ]
    },
    {
     "name": "stdout",
     "output_type": "stream",
     "text": [
      "# Epoch 169 / 300\n"
     ]
    },
    {
     "name": "stderr",
     "output_type": "stream",
     "text": [
      "100%|███████████████████████████████████████████| 49/49 [00:28<00:00,  1.72it/s]\n",
      "100%|█████████████████████████████████████████████| 7/7 [00:02<00:00,  2.43it/s]\n"
     ]
    },
    {
     "name": "stdout",
     "output_type": "stream",
     "text": [
      "# Epoch 170 / 300\n"
     ]
    },
    {
     "name": "stderr",
     "output_type": "stream",
     "text": [
      "100%|███████████████████████████████████████████| 49/49 [00:28<00:00,  1.73it/s]\n",
      "100%|█████████████████████████████████████████████| 7/7 [00:02<00:00,  2.51it/s]\n"
     ]
    },
    {
     "name": "stdout",
     "output_type": "stream",
     "text": [
      "# Epoch 171 / 300\n"
     ]
    },
    {
     "name": "stderr",
     "output_type": "stream",
     "text": [
      "100%|███████████████████████████████████████████| 49/49 [00:28<00:00,  1.72it/s]\n",
      "100%|█████████████████████████████████████████████| 7/7 [00:02<00:00,  2.62it/s]\n"
     ]
    },
    {
     "name": "stdout",
     "output_type": "stream",
     "text": [
      "# Epoch 172 / 300\n"
     ]
    },
    {
     "name": "stderr",
     "output_type": "stream",
     "text": [
      "100%|███████████████████████████████████████████| 49/49 [00:28<00:00,  1.71it/s]\n",
      "100%|█████████████████████████████████████████████| 7/7 [00:02<00:00,  2.46it/s]\n"
     ]
    },
    {
     "name": "stdout",
     "output_type": "stream",
     "text": [
      "# Epoch 173 / 300\n"
     ]
    },
    {
     "name": "stderr",
     "output_type": "stream",
     "text": [
      "100%|███████████████████████████████████████████| 49/49 [00:28<00:00,  1.71it/s]\n",
      "100%|█████████████████████████████████████████████| 7/7 [00:02<00:00,  2.37it/s]\n"
     ]
    },
    {
     "name": "stdout",
     "output_type": "stream",
     "text": [
      "# Epoch 174 / 300\n"
     ]
    },
    {
     "name": "stderr",
     "output_type": "stream",
     "text": [
      "100%|███████████████████████████████████████████| 49/49 [00:28<00:00,  1.72it/s]\n",
      "100%|█████████████████████████████████████████████| 7/7 [00:02<00:00,  2.36it/s]\n"
     ]
    },
    {
     "name": "stdout",
     "output_type": "stream",
     "text": [
      "# Epoch 175 / 300\n"
     ]
    },
    {
     "name": "stderr",
     "output_type": "stream",
     "text": [
      "100%|███████████████████████████████████████████| 49/49 [00:28<00:00,  1.71it/s]\n",
      "100%|█████████████████████████████████████████████| 7/7 [00:02<00:00,  2.47it/s]\n"
     ]
    },
    {
     "name": "stdout",
     "output_type": "stream",
     "text": [
      "# Epoch 176 / 300\n"
     ]
    },
    {
     "name": "stderr",
     "output_type": "stream",
     "text": [
      "100%|███████████████████████████████████████████| 49/49 [00:28<00:00,  1.70it/s]\n",
      "100%|█████████████████████████████████████████████| 7/7 [00:02<00:00,  2.53it/s]\n"
     ]
    },
    {
     "name": "stdout",
     "output_type": "stream",
     "text": [
      "# Epoch 177 / 300\n"
     ]
    },
    {
     "name": "stderr",
     "output_type": "stream",
     "text": [
      "100%|███████████████████████████████████████████| 49/49 [00:27<00:00,  1.75it/s]\n",
      "100%|█████████████████████████████████████████████| 7/7 [00:02<00:00,  2.37it/s]\n"
     ]
    },
    {
     "name": "stdout",
     "output_type": "stream",
     "text": [
      "# Epoch 178 / 300\n"
     ]
    },
    {
     "name": "stderr",
     "output_type": "stream",
     "text": [
      "100%|███████████████████████████████████████████| 49/49 [00:28<00:00,  1.71it/s]\n",
      "100%|█████████████████████████████████████████████| 7/7 [00:02<00:00,  2.45it/s]\n"
     ]
    },
    {
     "name": "stdout",
     "output_type": "stream",
     "text": [
      "# Epoch 179 / 300\n"
     ]
    },
    {
     "name": "stderr",
     "output_type": "stream",
     "text": [
      "100%|███████████████████████████████████████████| 49/49 [00:28<00:00,  1.71it/s]\n",
      "100%|█████████████████████████████████████████████| 7/7 [00:02<00:00,  2.35it/s]\n"
     ]
    },
    {
     "name": "stdout",
     "output_type": "stream",
     "text": [
      "# Epoch 180 / 300\n"
     ]
    },
    {
     "name": "stderr",
     "output_type": "stream",
     "text": [
      "100%|███████████████████████████████████████████| 49/49 [00:28<00:00,  1.72it/s]\n",
      "100%|█████████████████████████████████████████████| 7/7 [00:02<00:00,  2.45it/s]\n"
     ]
    },
    {
     "name": "stdout",
     "output_type": "stream",
     "text": [
      "# Epoch 181 / 300\n"
     ]
    },
    {
     "name": "stderr",
     "output_type": "stream",
     "text": [
      "100%|███████████████████████████████████████████| 49/49 [00:28<00:00,  1.69it/s]\n",
      "100%|█████████████████████████████████████████████| 7/7 [00:02<00:00,  2.48it/s]\n"
     ]
    },
    {
     "name": "stdout",
     "output_type": "stream",
     "text": [
      "# Epoch 182 / 300\n"
     ]
    },
    {
     "name": "stderr",
     "output_type": "stream",
     "text": [
      "100%|███████████████████████████████████████████| 49/49 [00:28<00:00,  1.73it/s]\n",
      "100%|█████████████████████████████████████████████| 7/7 [00:02<00:00,  2.36it/s]\n"
     ]
    },
    {
     "name": "stdout",
     "output_type": "stream",
     "text": [
      "# Epoch 183 / 300\n"
     ]
    },
    {
     "name": "stderr",
     "output_type": "stream",
     "text": [
      "100%|███████████████████████████████████████████| 49/49 [00:28<00:00,  1.72it/s]\n",
      "100%|█████████████████████████████████████████████| 7/7 [00:02<00:00,  2.48it/s]\n"
     ]
    },
    {
     "name": "stdout",
     "output_type": "stream",
     "text": [
      "# Epoch 184 / 300\n"
     ]
    },
    {
     "name": "stderr",
     "output_type": "stream",
     "text": [
      "100%|███████████████████████████████████████████| 49/49 [00:27<00:00,  1.76it/s]\n",
      "100%|█████████████████████████████████████████████| 7/7 [00:02<00:00,  2.48it/s]\n"
     ]
    },
    {
     "name": "stdout",
     "output_type": "stream",
     "text": [
      "# Epoch 185 / 300\n"
     ]
    },
    {
     "name": "stderr",
     "output_type": "stream",
     "text": [
      "100%|███████████████████████████████████████████| 49/49 [00:28<00:00,  1.74it/s]\n",
      "100%|█████████████████████████████████████████████| 7/7 [00:03<00:00,  2.27it/s]\n"
     ]
    },
    {
     "name": "stdout",
     "output_type": "stream",
     "text": [
      "# Epoch 186 / 300\n"
     ]
    },
    {
     "name": "stderr",
     "output_type": "stream",
     "text": [
      "100%|███████████████████████████████████████████| 49/49 [00:28<00:00,  1.70it/s]\n",
      "100%|█████████████████████████████████████████████| 7/7 [00:02<00:00,  2.39it/s]\n"
     ]
    },
    {
     "name": "stdout",
     "output_type": "stream",
     "text": [
      "# Epoch 187 / 300\n"
     ]
    },
    {
     "name": "stderr",
     "output_type": "stream",
     "text": [
      "100%|███████████████████████████████████████████| 49/49 [00:28<00:00,  1.72it/s]\n",
      "100%|█████████████████████████████████████████████| 7/7 [00:02<00:00,  2.38it/s]\n"
     ]
    },
    {
     "name": "stdout",
     "output_type": "stream",
     "text": [
      "# Epoch 188 / 300\n"
     ]
    },
    {
     "name": "stderr",
     "output_type": "stream",
     "text": [
      "100%|███████████████████████████████████████████| 49/49 [00:28<00:00,  1.71it/s]\n",
      "100%|█████████████████████████████████████████████| 7/7 [00:02<00:00,  2.44it/s]\n"
     ]
    },
    {
     "name": "stdout",
     "output_type": "stream",
     "text": [
      "# Epoch 189 / 300\n"
     ]
    },
    {
     "name": "stderr",
     "output_type": "stream",
     "text": [
      "100%|███████████████████████████████████████████| 49/49 [00:28<00:00,  1.70it/s]\n",
      "100%|█████████████████████████████████████████████| 7/7 [00:02<00:00,  2.56it/s]\n"
     ]
    },
    {
     "name": "stdout",
     "output_type": "stream",
     "text": [
      "# Epoch 190 / 300\n"
     ]
    },
    {
     "name": "stderr",
     "output_type": "stream",
     "text": [
      "100%|███████████████████████████████████████████| 49/49 [00:27<00:00,  1.75it/s]\n",
      "100%|█████████████████████████████████████████████| 7/7 [00:02<00:00,  2.35it/s]\n"
     ]
    },
    {
     "name": "stdout",
     "output_type": "stream",
     "text": [
      "# Epoch 191 / 300\n"
     ]
    },
    {
     "name": "stderr",
     "output_type": "stream",
     "text": [
      "100%|███████████████████████████████████████████| 49/49 [00:28<00:00,  1.73it/s]\n",
      "100%|█████████████████████████████████████████████| 7/7 [00:02<00:00,  2.39it/s]\n"
     ]
    },
    {
     "name": "stdout",
     "output_type": "stream",
     "text": [
      "# Epoch 192 / 300\n"
     ]
    },
    {
     "name": "stderr",
     "output_type": "stream",
     "text": [
      "100%|███████████████████████████████████████████| 49/49 [00:28<00:00,  1.71it/s]\n",
      "100%|█████████████████████████████████████████████| 7/7 [00:02<00:00,  2.37it/s]\n"
     ]
    },
    {
     "name": "stdout",
     "output_type": "stream",
     "text": [
      "# Epoch 193 / 300\n"
     ]
    },
    {
     "name": "stderr",
     "output_type": "stream",
     "text": [
      "100%|███████████████████████████████████████████| 49/49 [00:28<00:00,  1.74it/s]\n",
      "100%|█████████████████████████████████████████████| 7/7 [00:03<00:00,  2.26it/s]\n"
     ]
    },
    {
     "name": "stdout",
     "output_type": "stream",
     "text": [
      "# Epoch 194 / 300\n"
     ]
    },
    {
     "name": "stderr",
     "output_type": "stream",
     "text": [
      "100%|███████████████████████████████████████████| 49/49 [00:28<00:00,  1.69it/s]\n",
      "100%|█████████████████████████████████████████████| 7/7 [00:02<00:00,  2.58it/s]\n"
     ]
    },
    {
     "name": "stdout",
     "output_type": "stream",
     "text": [
      "# Epoch 195 / 300\n"
     ]
    },
    {
     "name": "stderr",
     "output_type": "stream",
     "text": [
      "100%|███████████████████████████████████████████| 49/49 [00:27<00:00,  1.77it/s]\n",
      "100%|█████████████████████████████████████████████| 7/7 [00:02<00:00,  2.56it/s]\n"
     ]
    },
    {
     "name": "stdout",
     "output_type": "stream",
     "text": [
      "# Epoch 196 / 300\n"
     ]
    },
    {
     "name": "stderr",
     "output_type": "stream",
     "text": [
      "100%|███████████████████████████████████████████| 49/49 [00:28<00:00,  1.72it/s]\n",
      "100%|█████████████████████████████████████████████| 7/7 [00:03<00:00,  2.25it/s]\n"
     ]
    },
    {
     "name": "stdout",
     "output_type": "stream",
     "text": [
      "# Epoch 197 / 300\n"
     ]
    },
    {
     "name": "stderr",
     "output_type": "stream",
     "text": [
      "100%|███████████████████████████████████████████| 49/49 [00:28<00:00,  1.75it/s]\n",
      "100%|█████████████████████████████████████████████| 7/7 [00:02<00:00,  2.47it/s]\n"
     ]
    },
    {
     "name": "stdout",
     "output_type": "stream",
     "text": [
      "# Epoch 198 / 300\n"
     ]
    },
    {
     "name": "stderr",
     "output_type": "stream",
     "text": [
      "100%|███████████████████████████████████████████| 49/49 [00:27<00:00,  1.78it/s]\n",
      "100%|█████████████████████████████████████████████| 7/7 [00:02<00:00,  2.41it/s]\n"
     ]
    },
    {
     "name": "stdout",
     "output_type": "stream",
     "text": [
      "# Epoch 199 / 300\n"
     ]
    },
    {
     "name": "stderr",
     "output_type": "stream",
     "text": [
      "100%|███████████████████████████████████████████| 49/49 [00:28<00:00,  1.73it/s]\n",
      "100%|█████████████████████████████████████████████| 7/7 [00:02<00:00,  2.40it/s]\n"
     ]
    },
    {
     "name": "stdout",
     "output_type": "stream",
     "text": [
      "# Epoch 200 / 300\n"
     ]
    },
    {
     "name": "stderr",
     "output_type": "stream",
     "text": [
      "100%|███████████████████████████████████████████| 49/49 [00:29<00:00,  1.69it/s]\n",
      "100%|█████████████████████████████████████████████| 7/7 [00:02<00:00,  2.61it/s]\n"
     ]
    },
    {
     "name": "stdout",
     "output_type": "stream",
     "text": [
      "# Epoch 201 / 300\n"
     ]
    },
    {
     "name": "stderr",
     "output_type": "stream",
     "text": [
      "100%|███████████████████████████████████████████| 49/49 [00:28<00:00,  1.71it/s]\n",
      "100%|█████████████████████████████████████████████| 7/7 [00:02<00:00,  2.47it/s]\n"
     ]
    },
    {
     "name": "stdout",
     "output_type": "stream",
     "text": [
      "# Epoch 202 / 300\n"
     ]
    },
    {
     "name": "stderr",
     "output_type": "stream",
     "text": [
      "100%|███████████████████████████████████████████| 49/49 [00:28<00:00,  1.73it/s]\n",
      "100%|█████████████████████████████████████████████| 7/7 [00:02<00:00,  2.43it/s]\n"
     ]
    },
    {
     "name": "stdout",
     "output_type": "stream",
     "text": [
      "# Epoch 203 / 300\n"
     ]
    },
    {
     "name": "stderr",
     "output_type": "stream",
     "text": [
      "100%|███████████████████████████████████████████| 49/49 [00:28<00:00,  1.73it/s]\n",
      "100%|█████████████████████████████████████████████| 7/7 [00:02<00:00,  2.47it/s]\n"
     ]
    },
    {
     "name": "stdout",
     "output_type": "stream",
     "text": [
      "# Epoch 204 / 300\n"
     ]
    },
    {
     "name": "stderr",
     "output_type": "stream",
     "text": [
      "100%|███████████████████████████████████████████| 49/49 [00:28<00:00,  1.72it/s]\n",
      "100%|█████████████████████████████████████████████| 7/7 [00:02<00:00,  2.47it/s]\n"
     ]
    },
    {
     "name": "stdout",
     "output_type": "stream",
     "text": [
      "# Epoch 205 / 300\n"
     ]
    },
    {
     "name": "stderr",
     "output_type": "stream",
     "text": [
      "100%|███████████████████████████████████████████| 49/49 [00:28<00:00,  1.73it/s]\n",
      "100%|█████████████████████████████████████████████| 7/7 [00:02<00:00,  2.49it/s]\n"
     ]
    },
    {
     "name": "stdout",
     "output_type": "stream",
     "text": [
      "# Epoch 206 / 300\n"
     ]
    },
    {
     "name": "stderr",
     "output_type": "stream",
     "text": [
      "100%|███████████████████████████████████████████| 49/49 [00:27<00:00,  1.75it/s]\n",
      "100%|█████████████████████████████████████████████| 7/7 [00:02<00:00,  2.46it/s]\n"
     ]
    },
    {
     "name": "stdout",
     "output_type": "stream",
     "text": [
      "# Epoch 207 / 300\n"
     ]
    },
    {
     "name": "stderr",
     "output_type": "stream",
     "text": [
      "100%|███████████████████████████████████████████| 49/49 [00:27<00:00,  1.80it/s]\n",
      "100%|█████████████████████████████████████████████| 7/7 [00:02<00:00,  2.62it/s]\n"
     ]
    },
    {
     "name": "stdout",
     "output_type": "stream",
     "text": [
      "# Epoch 208 / 300\n"
     ]
    },
    {
     "name": "stderr",
     "output_type": "stream",
     "text": [
      "100%|███████████████████████████████████████████| 49/49 [00:28<00:00,  1.75it/s]\n",
      "100%|█████████████████████████████████████████████| 7/7 [00:02<00:00,  2.51it/s]\n"
     ]
    },
    {
     "name": "stdout",
     "output_type": "stream",
     "text": [
      "# Epoch 209 / 300\n"
     ]
    },
    {
     "name": "stderr",
     "output_type": "stream",
     "text": [
      "100%|███████████████████████████████████████████| 49/49 [00:27<00:00,  1.75it/s]\n",
      "100%|█████████████████████████████████████████████| 7/7 [00:02<00:00,  2.46it/s]\n"
     ]
    },
    {
     "name": "stdout",
     "output_type": "stream",
     "text": [
      "# Epoch 210 / 300\n"
     ]
    },
    {
     "name": "stderr",
     "output_type": "stream",
     "text": [
      "100%|███████████████████████████████████████████| 49/49 [00:28<00:00,  1.70it/s]\n",
      "100%|█████████████████████████████████████████████| 7/7 [00:02<00:00,  2.57it/s]\n"
     ]
    },
    {
     "name": "stdout",
     "output_type": "stream",
     "text": [
      "# Epoch 211 / 300\n"
     ]
    },
    {
     "name": "stderr",
     "output_type": "stream",
     "text": [
      "100%|███████████████████████████████████████████| 49/49 [00:28<00:00,  1.71it/s]\n",
      "100%|█████████████████████████████████████████████| 7/7 [00:02<00:00,  2.43it/s]\n"
     ]
    },
    {
     "name": "stdout",
     "output_type": "stream",
     "text": [
      "# Epoch 212 / 300\n"
     ]
    },
    {
     "name": "stderr",
     "output_type": "stream",
     "text": [
      "100%|███████████████████████████████████████████| 49/49 [00:28<00:00,  1.72it/s]\n",
      "100%|█████████████████████████████████████████████| 7/7 [00:02<00:00,  2.41it/s]\n"
     ]
    },
    {
     "name": "stdout",
     "output_type": "stream",
     "text": [
      "# Epoch 213 / 300\n"
     ]
    },
    {
     "name": "stderr",
     "output_type": "stream",
     "text": [
      "100%|███████████████████████████████████████████| 49/49 [00:28<00:00,  1.71it/s]\n",
      "100%|█████████████████████████████████████████████| 7/7 [00:02<00:00,  2.40it/s]\n"
     ]
    },
    {
     "name": "stdout",
     "output_type": "stream",
     "text": [
      "# Epoch 214 / 300\n"
     ]
    },
    {
     "name": "stderr",
     "output_type": "stream",
     "text": [
      "100%|███████████████████████████████████████████| 49/49 [00:28<00:00,  1.73it/s]\n",
      "100%|█████████████████████████████████████████████| 7/7 [00:02<00:00,  2.45it/s]\n"
     ]
    },
    {
     "name": "stdout",
     "output_type": "stream",
     "text": [
      "# Epoch 215 / 300\n"
     ]
    },
    {
     "name": "stderr",
     "output_type": "stream",
     "text": [
      "100%|███████████████████████████████████████████| 49/49 [00:28<00:00,  1.71it/s]\n",
      "100%|█████████████████████████████████████████████| 7/7 [00:02<00:00,  2.40it/s]\n"
     ]
    },
    {
     "name": "stdout",
     "output_type": "stream",
     "text": [
      "# Epoch 216 / 300\n"
     ]
    },
    {
     "name": "stderr",
     "output_type": "stream",
     "text": [
      "100%|███████████████████████████████████████████| 49/49 [00:28<00:00,  1.71it/s]\n",
      "100%|█████████████████████████████████████████████| 7/7 [00:02<00:00,  2.41it/s]\n"
     ]
    },
    {
     "name": "stdout",
     "output_type": "stream",
     "text": [
      "# Epoch 217 / 300\n"
     ]
    },
    {
     "name": "stderr",
     "output_type": "stream",
     "text": [
      "100%|███████████████████████████████████████████| 49/49 [00:28<00:00,  1.73it/s]\n",
      "100%|█████████████████████████████████████████████| 7/7 [00:02<00:00,  2.49it/s]\n"
     ]
    },
    {
     "name": "stdout",
     "output_type": "stream",
     "text": [
      "# Epoch 218 / 300\n"
     ]
    },
    {
     "name": "stderr",
     "output_type": "stream",
     "text": [
      "100%|███████████████████████████████████████████| 49/49 [00:28<00:00,  1.72it/s]\n",
      "100%|█████████████████████████████████████████████| 7/7 [00:02<00:00,  2.47it/s]\n"
     ]
    },
    {
     "name": "stdout",
     "output_type": "stream",
     "text": [
      "# Epoch 219 / 300\n"
     ]
    },
    {
     "name": "stderr",
     "output_type": "stream",
     "text": [
      "100%|███████████████████████████████████████████| 49/49 [00:28<00:00,  1.72it/s]\n",
      "100%|█████████████████████████████████████████████| 7/7 [00:02<00:00,  2.49it/s]\n"
     ]
    },
    {
     "name": "stdout",
     "output_type": "stream",
     "text": [
      "# Epoch 220 / 300\n"
     ]
    },
    {
     "name": "stderr",
     "output_type": "stream",
     "text": [
      "100%|███████████████████████████████████████████| 49/49 [00:28<00:00,  1.73it/s]\n",
      "100%|█████████████████████████████████████████████| 7/7 [00:02<00:00,  2.48it/s]\n"
     ]
    },
    {
     "name": "stdout",
     "output_type": "stream",
     "text": [
      "# Epoch 221 / 300\n"
     ]
    },
    {
     "name": "stderr",
     "output_type": "stream",
     "text": [
      "100%|███████████████████████████████████████████| 49/49 [00:27<00:00,  1.76it/s]\n",
      "100%|█████████████████████████████████████████████| 7/7 [00:02<00:00,  2.36it/s]\n"
     ]
    },
    {
     "name": "stdout",
     "output_type": "stream",
     "text": [
      "# Epoch 222 / 300\n"
     ]
    },
    {
     "name": "stderr",
     "output_type": "stream",
     "text": [
      "100%|███████████████████████████████████████████| 49/49 [00:27<00:00,  1.75it/s]\n",
      "100%|█████████████████████████████████████████████| 7/7 [00:03<00:00,  2.19it/s]\n"
     ]
    },
    {
     "name": "stdout",
     "output_type": "stream",
     "text": [
      "# Epoch 223 / 300\n"
     ]
    },
    {
     "name": "stderr",
     "output_type": "stream",
     "text": [
      "100%|███████████████████████████████████████████| 49/49 [00:28<00:00,  1.72it/s]\n",
      "100%|█████████████████████████████████████████████| 7/7 [00:02<00:00,  2.50it/s]\n"
     ]
    },
    {
     "name": "stdout",
     "output_type": "stream",
     "text": [
      "# Epoch 224 / 300\n"
     ]
    },
    {
     "name": "stderr",
     "output_type": "stream",
     "text": [
      "100%|███████████████████████████████████████████| 49/49 [00:29<00:00,  1.69it/s]\n",
      "100%|█████████████████████████████████████████████| 7/7 [00:02<00:00,  2.59it/s]\n"
     ]
    },
    {
     "name": "stdout",
     "output_type": "stream",
     "text": [
      "# Epoch 225 / 300\n"
     ]
    },
    {
     "name": "stderr",
     "output_type": "stream",
     "text": [
      "100%|███████████████████████████████████████████| 49/49 [00:27<00:00,  1.75it/s]\n",
      "100%|█████████████████████████████████████████████| 7/7 [00:03<00:00,  2.28it/s]\n"
     ]
    },
    {
     "name": "stdout",
     "output_type": "stream",
     "text": [
      "# Epoch 226 / 300\n"
     ]
    },
    {
     "name": "stderr",
     "output_type": "stream",
     "text": [
      "100%|███████████████████████████████████████████| 49/49 [00:28<00:00,  1.73it/s]\n",
      "100%|█████████████████████████████████████████████| 7/7 [00:02<00:00,  2.48it/s]\n"
     ]
    },
    {
     "name": "stdout",
     "output_type": "stream",
     "text": [
      "# Epoch 227 / 300\n"
     ]
    },
    {
     "name": "stderr",
     "output_type": "stream",
     "text": [
      "100%|███████████████████████████████████████████| 49/49 [00:28<00:00,  1.70it/s]\n",
      "100%|█████████████████████████████████████████████| 7/7 [00:03<00:00,  2.33it/s]\n"
     ]
    },
    {
     "name": "stdout",
     "output_type": "stream",
     "text": [
      "# Epoch 228 / 300\n"
     ]
    },
    {
     "name": "stderr",
     "output_type": "stream",
     "text": [
      "100%|███████████████████████████████████████████| 49/49 [00:28<00:00,  1.73it/s]\n",
      "100%|█████████████████████████████████████████████| 7/7 [00:02<00:00,  2.37it/s]\n"
     ]
    },
    {
     "name": "stdout",
     "output_type": "stream",
     "text": [
      "# Epoch 229 / 300\n"
     ]
    },
    {
     "name": "stderr",
     "output_type": "stream",
     "text": [
      "100%|███████████████████████████████████████████| 49/49 [00:28<00:00,  1.70it/s]\n",
      "100%|█████████████████████████████████████████████| 7/7 [00:02<00:00,  2.63it/s]\n"
     ]
    },
    {
     "name": "stdout",
     "output_type": "stream",
     "text": [
      "# Epoch 230 / 300\n"
     ]
    },
    {
     "name": "stderr",
     "output_type": "stream",
     "text": [
      "100%|███████████████████████████████████████████| 49/49 [00:28<00:00,  1.72it/s]\n",
      "100%|█████████████████████████████████████████████| 7/7 [00:02<00:00,  2.42it/s]\n"
     ]
    },
    {
     "name": "stdout",
     "output_type": "stream",
     "text": [
      "# Epoch 231 / 300\n"
     ]
    },
    {
     "name": "stderr",
     "output_type": "stream",
     "text": [
      "100%|███████████████████████████████████████████| 49/49 [00:28<00:00,  1.69it/s]\n",
      "100%|█████████████████████████████████████████████| 7/7 [00:02<00:00,  2.44it/s]\n"
     ]
    },
    {
     "name": "stdout",
     "output_type": "stream",
     "text": [
      "# Epoch 232 / 300\n"
     ]
    },
    {
     "name": "stderr",
     "output_type": "stream",
     "text": [
      "100%|███████████████████████████████████████████| 49/49 [00:28<00:00,  1.75it/s]\n",
      "100%|█████████████████████████████████████████████| 7/7 [00:02<00:00,  2.36it/s]\n"
     ]
    },
    {
     "name": "stdout",
     "output_type": "stream",
     "text": [
      "# Epoch 233 / 300\n"
     ]
    },
    {
     "name": "stderr",
     "output_type": "stream",
     "text": [
      "100%|███████████████████████████████████████████| 49/49 [00:28<00:00,  1.74it/s]\n",
      "100%|█████████████████████████████████████████████| 7/7 [00:03<00:00,  2.27it/s]\n"
     ]
    },
    {
     "name": "stdout",
     "output_type": "stream",
     "text": [
      "# Epoch 234 / 300\n"
     ]
    },
    {
     "name": "stderr",
     "output_type": "stream",
     "text": [
      "100%|███████████████████████████████████████████| 49/49 [00:28<00:00,  1.70it/s]\n",
      "100%|█████████████████████████████████████████████| 7/7 [00:02<00:00,  2.39it/s]\n"
     ]
    },
    {
     "name": "stdout",
     "output_type": "stream",
     "text": [
      "# Epoch 235 / 300\n"
     ]
    },
    {
     "name": "stderr",
     "output_type": "stream",
     "text": [
      "100%|███████████████████████████████████████████| 49/49 [00:28<00:00,  1.70it/s]\n",
      "100%|█████████████████████████████████████████████| 7/7 [00:02<00:00,  2.56it/s]\n"
     ]
    },
    {
     "name": "stdout",
     "output_type": "stream",
     "text": [
      "# Epoch 236 / 300\n"
     ]
    },
    {
     "name": "stderr",
     "output_type": "stream",
     "text": [
      "100%|███████████████████████████████████████████| 49/49 [00:28<00:00,  1.72it/s]\n",
      "100%|█████████████████████████████████████████████| 7/7 [00:02<00:00,  2.40it/s]\n"
     ]
    },
    {
     "name": "stdout",
     "output_type": "stream",
     "text": [
      "# Epoch 237 / 300\n"
     ]
    },
    {
     "name": "stderr",
     "output_type": "stream",
     "text": [
      "100%|███████████████████████████████████████████| 49/49 [00:28<00:00,  1.74it/s]\n",
      "100%|█████████████████████████████████████████████| 7/7 [00:02<00:00,  2.40it/s]\n"
     ]
    },
    {
     "name": "stdout",
     "output_type": "stream",
     "text": [
      "# Epoch 238 / 300\n"
     ]
    },
    {
     "name": "stderr",
     "output_type": "stream",
     "text": [
      "100%|███████████████████████████████████████████| 49/49 [00:28<00:00,  1.73it/s]\n",
      "100%|█████████████████████████████████████████████| 7/7 [00:02<00:00,  2.54it/s]\n"
     ]
    },
    {
     "name": "stdout",
     "output_type": "stream",
     "text": [
      "# Epoch 239 / 300\n"
     ]
    },
    {
     "name": "stderr",
     "output_type": "stream",
     "text": [
      "100%|███████████████████████████████████████████| 49/49 [00:28<00:00,  1.72it/s]\n",
      "100%|█████████████████████████████████████████████| 7/7 [00:03<00:00,  2.30it/s]\n"
     ]
    },
    {
     "name": "stdout",
     "output_type": "stream",
     "text": [
      "# Epoch 240 / 300\n"
     ]
    },
    {
     "name": "stderr",
     "output_type": "stream",
     "text": [
      "100%|███████████████████████████████████████████| 49/49 [00:29<00:00,  1.69it/s]\n",
      "100%|█████████████████████████████████████████████| 7/7 [00:03<00:00,  2.32it/s]\n"
     ]
    },
    {
     "name": "stdout",
     "output_type": "stream",
     "text": [
      "# Epoch 241 / 300\n"
     ]
    },
    {
     "name": "stderr",
     "output_type": "stream",
     "text": [
      "100%|███████████████████████████████████████████| 49/49 [00:28<00:00,  1.69it/s]\n",
      "100%|█████████████████████████████████████████████| 7/7 [00:03<00:00,  2.21it/s]\n"
     ]
    },
    {
     "name": "stdout",
     "output_type": "stream",
     "text": [
      "# Epoch 242 / 300\n"
     ]
    },
    {
     "name": "stderr",
     "output_type": "stream",
     "text": [
      "100%|███████████████████████████████████████████| 49/49 [00:28<00:00,  1.72it/s]\n",
      "100%|█████████████████████████████████████████████| 7/7 [00:02<00:00,  2.47it/s]\n"
     ]
    },
    {
     "name": "stdout",
     "output_type": "stream",
     "text": [
      "# Epoch 243 / 300\n"
     ]
    },
    {
     "name": "stderr",
     "output_type": "stream",
     "text": [
      "100%|███████████████████████████████████████████| 49/49 [00:28<00:00,  1.73it/s]\n",
      "100%|█████████████████████████████████████████████| 7/7 [00:02<00:00,  2.43it/s]\n"
     ]
    },
    {
     "name": "stdout",
     "output_type": "stream",
     "text": [
      "# Epoch 244 / 300\n"
     ]
    },
    {
     "name": "stderr",
     "output_type": "stream",
     "text": [
      "100%|███████████████████████████████████████████| 49/49 [00:28<00:00,  1.75it/s]\n",
      "100%|█████████████████████████████████████████████| 7/7 [00:02<00:00,  2.47it/s]\n"
     ]
    },
    {
     "name": "stdout",
     "output_type": "stream",
     "text": [
      "# Epoch 245 / 300\n"
     ]
    },
    {
     "name": "stderr",
     "output_type": "stream",
     "text": [
      "100%|███████████████████████████████████████████| 49/49 [00:28<00:00,  1.70it/s]\n",
      "100%|█████████████████████████████████████████████| 7/7 [00:02<00:00,  2.61it/s]\n"
     ]
    },
    {
     "name": "stdout",
     "output_type": "stream",
     "text": [
      "# Epoch 246 / 300\n"
     ]
    },
    {
     "name": "stderr",
     "output_type": "stream",
     "text": [
      "100%|███████████████████████████████████████████| 49/49 [00:27<00:00,  1.76it/s]\n",
      "100%|█████████████████████████████████████████████| 7/7 [00:02<00:00,  2.45it/s]\n"
     ]
    },
    {
     "name": "stdout",
     "output_type": "stream",
     "text": [
      "# Epoch 247 / 300\n"
     ]
    },
    {
     "name": "stderr",
     "output_type": "stream",
     "text": [
      "100%|███████████████████████████████████████████| 49/49 [00:27<00:00,  1.77it/s]\n",
      "100%|█████████████████████████████████████████████| 7/7 [00:03<00:00,  2.32it/s]\n"
     ]
    },
    {
     "name": "stdout",
     "output_type": "stream",
     "text": [
      "# Epoch 248 / 300\n"
     ]
    },
    {
     "name": "stderr",
     "output_type": "stream",
     "text": [
      "100%|███████████████████████████████████████████| 49/49 [00:28<00:00,  1.73it/s]\n",
      "100%|█████████████████████████████████████████████| 7/7 [00:02<00:00,  2.46it/s]\n"
     ]
    },
    {
     "name": "stdout",
     "output_type": "stream",
     "text": [
      "# Epoch 249 / 300\n"
     ]
    },
    {
     "name": "stderr",
     "output_type": "stream",
     "text": [
      "100%|███████████████████████████████████████████| 49/49 [00:28<00:00,  1.70it/s]\n",
      "100%|█████████████████████████████████████████████| 7/7 [00:02<00:00,  2.38it/s]\n"
     ]
    },
    {
     "name": "stdout",
     "output_type": "stream",
     "text": [
      "# Epoch 250 / 300\n"
     ]
    },
    {
     "name": "stderr",
     "output_type": "stream",
     "text": [
      "100%|███████████████████████████████████████████| 49/49 [00:27<00:00,  1.78it/s]\n",
      "100%|█████████████████████████████████████████████| 7/7 [00:02<00:00,  2.56it/s]\n"
     ]
    },
    {
     "name": "stdout",
     "output_type": "stream",
     "text": [
      "# Epoch 251 / 300\n"
     ]
    },
    {
     "name": "stderr",
     "output_type": "stream",
     "text": [
      "100%|███████████████████████████████████████████| 49/49 [00:28<00:00,  1.71it/s]\n",
      "100%|█████████████████████████████████████████████| 7/7 [00:02<00:00,  2.38it/s]\n"
     ]
    },
    {
     "name": "stdout",
     "output_type": "stream",
     "text": [
      "# Epoch 252 / 300\n"
     ]
    },
    {
     "name": "stderr",
     "output_type": "stream",
     "text": [
      "100%|███████████████████████████████████████████| 49/49 [00:28<00:00,  1.70it/s]\n",
      "100%|█████████████████████████████████████████████| 7/7 [00:02<00:00,  2.34it/s]\n"
     ]
    },
    {
     "name": "stdout",
     "output_type": "stream",
     "text": [
      "# Epoch 253 / 300\n"
     ]
    },
    {
     "name": "stderr",
     "output_type": "stream",
     "text": [
      "100%|███████████████████████████████████████████| 49/49 [00:27<00:00,  1.78it/s]\n",
      "100%|█████████████████████████████████████████████| 7/7 [00:02<00:00,  2.41it/s]\n"
     ]
    },
    {
     "name": "stdout",
     "output_type": "stream",
     "text": [
      "# Epoch 254 / 300\n"
     ]
    },
    {
     "name": "stderr",
     "output_type": "stream",
     "text": [
      "100%|███████████████████████████████████████████| 49/49 [00:28<00:00,  1.69it/s]\n",
      "100%|█████████████████████████████████████████████| 7/7 [00:02<00:00,  2.59it/s]\n"
     ]
    },
    {
     "name": "stdout",
     "output_type": "stream",
     "text": [
      "# Epoch 255 / 300\n"
     ]
    },
    {
     "name": "stderr",
     "output_type": "stream",
     "text": [
      "100%|███████████████████████████████████████████| 49/49 [00:27<00:00,  1.76it/s]\n",
      "100%|█████████████████████████████████████████████| 7/7 [00:02<00:00,  2.43it/s]\n"
     ]
    },
    {
     "name": "stdout",
     "output_type": "stream",
     "text": [
      "# Epoch 256 / 300\n"
     ]
    },
    {
     "name": "stderr",
     "output_type": "stream",
     "text": [
      "100%|███████████████████████████████████████████| 49/49 [00:28<00:00,  1.75it/s]\n",
      "100%|█████████████████████████████████████████████| 7/7 [00:02<00:00,  2.55it/s]\n"
     ]
    },
    {
     "name": "stdout",
     "output_type": "stream",
     "text": [
      "# Epoch 257 / 300\n"
     ]
    },
    {
     "name": "stderr",
     "output_type": "stream",
     "text": [
      "100%|███████████████████████████████████████████| 49/49 [00:28<00:00,  1.74it/s]\n",
      "100%|█████████████████████████████████████████████| 7/7 [00:02<00:00,  2.48it/s]\n"
     ]
    },
    {
     "name": "stdout",
     "output_type": "stream",
     "text": [
      "# Epoch 258 / 300\n"
     ]
    },
    {
     "name": "stderr",
     "output_type": "stream",
     "text": [
      "100%|███████████████████████████████████████████| 49/49 [00:28<00:00,  1.72it/s]\n",
      "100%|█████████████████████████████████████████████| 7/7 [00:02<00:00,  2.41it/s]\n"
     ]
    },
    {
     "name": "stdout",
     "output_type": "stream",
     "text": [
      "# Epoch 259 / 300\n"
     ]
    },
    {
     "name": "stderr",
     "output_type": "stream",
     "text": [
      "100%|███████████████████████████████████████████| 49/49 [00:28<00:00,  1.72it/s]\n",
      "100%|█████████████████████████████████████████████| 7/7 [00:02<00:00,  2.41it/s]\n"
     ]
    },
    {
     "name": "stdout",
     "output_type": "stream",
     "text": [
      "# Epoch 260 / 300\n"
     ]
    },
    {
     "name": "stderr",
     "output_type": "stream",
     "text": [
      "100%|███████████████████████████████████████████| 49/49 [00:28<00:00,  1.73it/s]\n",
      "100%|█████████████████████████████████████████████| 7/7 [00:02<00:00,  2.48it/s]\n"
     ]
    },
    {
     "name": "stdout",
     "output_type": "stream",
     "text": [
      "# Epoch 261 / 300\n"
     ]
    },
    {
     "name": "stderr",
     "output_type": "stream",
     "text": [
      "100%|███████████████████████████████████████████| 49/49 [00:28<00:00,  1.73it/s]\n",
      "100%|█████████████████████████████████████████████| 7/7 [00:02<00:00,  2.49it/s]\n"
     ]
    },
    {
     "name": "stdout",
     "output_type": "stream",
     "text": [
      "# Epoch 262 / 300\n"
     ]
    },
    {
     "name": "stderr",
     "output_type": "stream",
     "text": [
      "100%|███████████████████████████████████████████| 49/49 [00:28<00:00,  1.72it/s]\n",
      "100%|█████████████████████████████████████████████| 7/7 [00:02<00:00,  2.37it/s]\n"
     ]
    },
    {
     "name": "stdout",
     "output_type": "stream",
     "text": [
      "# Epoch 263 / 300\n"
     ]
    },
    {
     "name": "stderr",
     "output_type": "stream",
     "text": [
      "100%|███████████████████████████████████████████| 49/49 [00:28<00:00,  1.73it/s]\n",
      "100%|█████████████████████████████████████████████| 7/7 [00:02<00:00,  2.35it/s]\n"
     ]
    },
    {
     "name": "stdout",
     "output_type": "stream",
     "text": [
      "# Epoch 264 / 300\n"
     ]
    },
    {
     "name": "stderr",
     "output_type": "stream",
     "text": [
      "100%|███████████████████████████████████████████| 49/49 [00:28<00:00,  1.73it/s]\n",
      "100%|█████████████████████████████████████████████| 7/7 [00:02<00:00,  2.36it/s]\n"
     ]
    },
    {
     "name": "stdout",
     "output_type": "stream",
     "text": [
      "# Epoch 265 / 300\n"
     ]
    },
    {
     "name": "stderr",
     "output_type": "stream",
     "text": [
      "100%|███████████████████████████████████████████| 49/49 [00:28<00:00,  1.70it/s]\n",
      "100%|█████████████████████████████████████████████| 7/7 [00:02<00:00,  2.43it/s]\n"
     ]
    },
    {
     "name": "stdout",
     "output_type": "stream",
     "text": [
      "# Epoch 266 / 300\n"
     ]
    },
    {
     "name": "stderr",
     "output_type": "stream",
     "text": [
      "100%|███████████████████████████████████████████| 49/49 [00:28<00:00,  1.74it/s]\n",
      "100%|█████████████████████████████████████████████| 7/7 [00:02<00:00,  2.58it/s]\n"
     ]
    },
    {
     "name": "stdout",
     "output_type": "stream",
     "text": [
      "# Epoch 267 / 300\n"
     ]
    },
    {
     "name": "stderr",
     "output_type": "stream",
     "text": [
      "100%|███████████████████████████████████████████| 49/49 [00:28<00:00,  1.74it/s]\n",
      "100%|█████████████████████████████████████████████| 7/7 [00:02<00:00,  2.49it/s]\n"
     ]
    },
    {
     "name": "stdout",
     "output_type": "stream",
     "text": [
      "# Epoch 268 / 300\n"
     ]
    },
    {
     "name": "stderr",
     "output_type": "stream",
     "text": [
      "100%|███████████████████████████████████████████| 49/49 [00:28<00:00,  1.72it/s]\n",
      "100%|█████████████████████████████████████████████| 7/7 [00:02<00:00,  2.42it/s]\n"
     ]
    },
    {
     "name": "stdout",
     "output_type": "stream",
     "text": [
      "# Epoch 269 / 300\n"
     ]
    },
    {
     "name": "stderr",
     "output_type": "stream",
     "text": [
      "100%|███████████████████████████████████████████| 49/49 [00:28<00:00,  1.72it/s]\n",
      "100%|█████████████████████████████████████████████| 7/7 [00:02<00:00,  2.49it/s]\n"
     ]
    },
    {
     "name": "stdout",
     "output_type": "stream",
     "text": [
      "# Epoch 270 / 300\n"
     ]
    },
    {
     "name": "stderr",
     "output_type": "stream",
     "text": [
      "100%|███████████████████████████████████████████| 49/49 [00:28<00:00,  1.73it/s]\n",
      "100%|█████████████████████████████████████████████| 7/7 [00:02<00:00,  2.64it/s]\n"
     ]
    },
    {
     "name": "stdout",
     "output_type": "stream",
     "text": [
      "# Epoch 271 / 300\n"
     ]
    },
    {
     "name": "stderr",
     "output_type": "stream",
     "text": [
      "100%|███████████████████████████████████████████| 49/49 [00:27<00:00,  1.76it/s]\n",
      "100%|█████████████████████████████████████████████| 7/7 [00:02<00:00,  2.37it/s]\n"
     ]
    },
    {
     "name": "stdout",
     "output_type": "stream",
     "text": [
      "# Epoch 272 / 300\n"
     ]
    },
    {
     "name": "stderr",
     "output_type": "stream",
     "text": [
      "100%|███████████████████████████████████████████| 49/49 [00:28<00:00,  1.71it/s]\n",
      "100%|█████████████████████████████████████████████| 7/7 [00:02<00:00,  2.47it/s]\n"
     ]
    },
    {
     "name": "stdout",
     "output_type": "stream",
     "text": [
      "# Epoch 273 / 300\n"
     ]
    },
    {
     "name": "stderr",
     "output_type": "stream",
     "text": [
      "100%|███████████████████████████████████████████| 49/49 [00:28<00:00,  1.71it/s]\n",
      "100%|█████████████████████████████████████████████| 7/7 [00:02<00:00,  2.62it/s]\n"
     ]
    },
    {
     "name": "stdout",
     "output_type": "stream",
     "text": [
      "# Epoch 274 / 300\n"
     ]
    },
    {
     "name": "stderr",
     "output_type": "stream",
     "text": [
      "100%|███████████████████████████████████████████| 49/49 [00:28<00:00,  1.69it/s]\n",
      "100%|█████████████████████████████████████████████| 7/7 [00:02<00:00,  2.52it/s]\n"
     ]
    },
    {
     "name": "stdout",
     "output_type": "stream",
     "text": [
      "# Epoch 275 / 300\n"
     ]
    },
    {
     "name": "stderr",
     "output_type": "stream",
     "text": [
      "100%|███████████████████████████████████████████| 49/49 [00:28<00:00,  1.71it/s]\n",
      "100%|█████████████████████████████████████████████| 7/7 [00:02<00:00,  2.39it/s]\n"
     ]
    },
    {
     "name": "stdout",
     "output_type": "stream",
     "text": [
      "# Epoch 276 / 300\n"
     ]
    },
    {
     "name": "stderr",
     "output_type": "stream",
     "text": [
      "100%|███████████████████████████████████████████| 49/49 [00:28<00:00,  1.72it/s]\n",
      "100%|█████████████████████████████████████████████| 7/7 [00:02<00:00,  2.38it/s]\n"
     ]
    },
    {
     "name": "stdout",
     "output_type": "stream",
     "text": [
      "# Epoch 277 / 300\n"
     ]
    },
    {
     "name": "stderr",
     "output_type": "stream",
     "text": [
      "100%|███████████████████████████████████████████| 49/49 [00:27<00:00,  1.75it/s]\n",
      "100%|█████████████████████████████████████████████| 7/7 [00:02<00:00,  2.56it/s]\n"
     ]
    },
    {
     "name": "stdout",
     "output_type": "stream",
     "text": [
      "# Epoch 278 / 300\n"
     ]
    },
    {
     "name": "stderr",
     "output_type": "stream",
     "text": [
      "100%|███████████████████████████████████████████| 49/49 [00:28<00:00,  1.74it/s]\n",
      "100%|█████████████████████████████████████████████| 7/7 [00:02<00:00,  2.39it/s]\n"
     ]
    },
    {
     "name": "stdout",
     "output_type": "stream",
     "text": [
      "# Epoch 279 / 300\n"
     ]
    },
    {
     "name": "stderr",
     "output_type": "stream",
     "text": [
      "100%|███████████████████████████████████████████| 49/49 [00:28<00:00,  1.71it/s]\n",
      "100%|█████████████████████████████████████████████| 7/7 [00:02<00:00,  2.47it/s]\n"
     ]
    },
    {
     "name": "stdout",
     "output_type": "stream",
     "text": [
      "# Epoch 280 / 300\n"
     ]
    },
    {
     "name": "stderr",
     "output_type": "stream",
     "text": [
      "100%|███████████████████████████████████████████| 49/49 [00:29<00:00,  1.68it/s]\n",
      "100%|█████████████████████████████████████████████| 7/7 [00:03<00:00,  2.24it/s]\n"
     ]
    },
    {
     "name": "stdout",
     "output_type": "stream",
     "text": [
      "# Epoch 281 / 300\n"
     ]
    },
    {
     "name": "stderr",
     "output_type": "stream",
     "text": [
      "100%|███████████████████████████████████████████| 49/49 [00:28<00:00,  1.72it/s]\n",
      "100%|█████████████████████████████████████████████| 7/7 [00:02<00:00,  2.40it/s]\n"
     ]
    },
    {
     "name": "stdout",
     "output_type": "stream",
     "text": [
      "# Epoch 282 / 300\n"
     ]
    },
    {
     "name": "stderr",
     "output_type": "stream",
     "text": [
      "100%|███████████████████████████████████████████| 49/49 [00:28<00:00,  1.73it/s]\n",
      "100%|█████████████████████████████████████████████| 7/7 [00:02<00:00,  2.49it/s]\n"
     ]
    },
    {
     "name": "stdout",
     "output_type": "stream",
     "text": [
      "# Epoch 283 / 300\n"
     ]
    },
    {
     "name": "stderr",
     "output_type": "stream",
     "text": [
      "100%|███████████████████████████████████████████| 49/49 [00:28<00:00,  1.71it/s]\n",
      "100%|█████████████████████████████████████████████| 7/7 [00:03<00:00,  2.21it/s]\n"
     ]
    },
    {
     "name": "stdout",
     "output_type": "stream",
     "text": [
      "# Epoch 284 / 300\n"
     ]
    },
    {
     "name": "stderr",
     "output_type": "stream",
     "text": [
      "100%|███████████████████████████████████████████| 49/49 [00:28<00:00,  1.71it/s]\n",
      "100%|█████████████████████████████████████████████| 7/7 [00:02<00:00,  2.38it/s]\n"
     ]
    },
    {
     "name": "stdout",
     "output_type": "stream",
     "text": [
      "# Epoch 285 / 300\n"
     ]
    },
    {
     "name": "stderr",
     "output_type": "stream",
     "text": [
      "100%|███████████████████████████████████████████| 49/49 [00:28<00:00,  1.71it/s]\n",
      "100%|█████████████████████████████████████████████| 7/7 [00:02<00:00,  2.49it/s]\n"
     ]
    },
    {
     "name": "stdout",
     "output_type": "stream",
     "text": [
      "# Epoch 286 / 300\n"
     ]
    },
    {
     "name": "stderr",
     "output_type": "stream",
     "text": [
      "100%|███████████████████████████████████████████| 49/49 [00:28<00:00,  1.73it/s]\n",
      "100%|█████████████████████████████████████████████| 7/7 [00:03<00:00,  2.32it/s]\n"
     ]
    },
    {
     "name": "stdout",
     "output_type": "stream",
     "text": [
      "# Epoch 287 / 300\n"
     ]
    },
    {
     "name": "stderr",
     "output_type": "stream",
     "text": [
      "100%|███████████████████████████████████████████| 49/49 [00:28<00:00,  1.71it/s]\n",
      "100%|█████████████████████████████████████████████| 7/7 [00:02<00:00,  2.59it/s]\n"
     ]
    },
    {
     "name": "stdout",
     "output_type": "stream",
     "text": [
      "# Epoch 288 / 300\n"
     ]
    },
    {
     "name": "stderr",
     "output_type": "stream",
     "text": [
      "100%|███████████████████████████████████████████| 49/49 [00:27<00:00,  1.77it/s]\n",
      "100%|█████████████████████████████████████████████| 7/7 [00:02<00:00,  2.47it/s]\n"
     ]
    },
    {
     "name": "stdout",
     "output_type": "stream",
     "text": [
      "# Epoch 289 / 300\n"
     ]
    },
    {
     "name": "stderr",
     "output_type": "stream",
     "text": [
      "100%|███████████████████████████████████████████| 49/49 [00:29<00:00,  1.68it/s]\n",
      "100%|█████████████████████████████████████████████| 7/7 [00:02<00:00,  2.53it/s]\n"
     ]
    },
    {
     "name": "stdout",
     "output_type": "stream",
     "text": [
      "# Epoch 290 / 300\n"
     ]
    },
    {
     "name": "stderr",
     "output_type": "stream",
     "text": [
      "100%|███████████████████████████████████████████| 49/49 [00:28<00:00,  1.73it/s]\n",
      "100%|█████████████████████████████████████████████| 7/7 [00:02<00:00,  2.57it/s]\n"
     ]
    },
    {
     "name": "stdout",
     "output_type": "stream",
     "text": [
      "# Epoch 291 / 300\n"
     ]
    },
    {
     "name": "stderr",
     "output_type": "stream",
     "text": [
      "100%|███████████████████████████████████████████| 49/49 [00:28<00:00,  1.71it/s]\n",
      "100%|█████████████████████████████████████████████| 7/7 [00:02<00:00,  2.36it/s]\n"
     ]
    },
    {
     "name": "stdout",
     "output_type": "stream",
     "text": [
      "# Epoch 292 / 300\n"
     ]
    },
    {
     "name": "stderr",
     "output_type": "stream",
     "text": [
      "100%|███████████████████████████████████████████| 49/49 [00:28<00:00,  1.74it/s]\n",
      "100%|█████████████████████████████████████████████| 7/7 [00:02<00:00,  2.45it/s]\n"
     ]
    },
    {
     "name": "stdout",
     "output_type": "stream",
     "text": [
      "# Epoch 293 / 300\n"
     ]
    },
    {
     "name": "stderr",
     "output_type": "stream",
     "text": [
      "100%|███████████████████████████████████████████| 49/49 [00:28<00:00,  1.69it/s]\n",
      "100%|█████████████████████████████████████████████| 7/7 [00:02<00:00,  2.38it/s]\n"
     ]
    },
    {
     "name": "stdout",
     "output_type": "stream",
     "text": [
      "# Epoch 294 / 300\n"
     ]
    },
    {
     "name": "stderr",
     "output_type": "stream",
     "text": [
      "100%|███████████████████████████████████████████| 49/49 [00:28<00:00,  1.73it/s]\n",
      "100%|█████████████████████████████████████████████| 7/7 [00:02<00:00,  2.38it/s]\n"
     ]
    },
    {
     "name": "stdout",
     "output_type": "stream",
     "text": [
      "# Epoch 295 / 300\n"
     ]
    },
    {
     "name": "stderr",
     "output_type": "stream",
     "text": [
      "100%|███████████████████████████████████████████| 49/49 [00:28<00:00,  1.73it/s]\n",
      "100%|█████████████████████████████████████████████| 7/7 [00:02<00:00,  2.47it/s]\n"
     ]
    },
    {
     "name": "stdout",
     "output_type": "stream",
     "text": [
      "# Epoch 296 / 300\n"
     ]
    },
    {
     "name": "stderr",
     "output_type": "stream",
     "text": [
      "100%|███████████████████████████████████████████| 49/49 [00:29<00:00,  1.69it/s]\n",
      "100%|█████████████████████████████████████████████| 7/7 [00:02<00:00,  2.44it/s]\n"
     ]
    },
    {
     "name": "stdout",
     "output_type": "stream",
     "text": [
      "# Epoch 297 / 300\n"
     ]
    },
    {
     "name": "stderr",
     "output_type": "stream",
     "text": [
      "100%|███████████████████████████████████████████| 49/49 [00:28<00:00,  1.72it/s]\n",
      "100%|█████████████████████████████████████████████| 7/7 [00:02<00:00,  2.35it/s]\n"
     ]
    },
    {
     "name": "stdout",
     "output_type": "stream",
     "text": [
      "# Epoch 298 / 300\n"
     ]
    },
    {
     "name": "stderr",
     "output_type": "stream",
     "text": [
      "100%|███████████████████████████████████████████| 49/49 [00:28<00:00,  1.70it/s]\n",
      "100%|█████████████████████████████████████████████| 7/7 [00:02<00:00,  2.47it/s]\n"
     ]
    },
    {
     "name": "stdout",
     "output_type": "stream",
     "text": [
      "# Epoch 299 / 300\n"
     ]
    },
    {
     "name": "stderr",
     "output_type": "stream",
     "text": [
      "100%|███████████████████████████████████████████| 49/49 [00:28<00:00,  1.72it/s]\n",
      "100%|█████████████████████████████████████████████| 7/7 [00:02<00:00,  2.43it/s]\n"
     ]
    },
    {
     "name": "stdout",
     "output_type": "stream",
     "text": [
      "# Epoch 300 / 300\n"
     ]
    },
    {
     "name": "stderr",
     "output_type": "stream",
     "text": [
      "100%|███████████████████████████████████████████| 49/49 [00:28<00:00,  1.72it/s]\n",
      "100%|█████████████████████████████████████████████| 7/7 [00:02<00:00,  2.36it/s]\n"
     ]
    },
    {
     "data": {
      "text/html": [
       "Waiting for W&B process to finish... <strong style=\"color:green\">(success).</strong>"
      ],
      "text/plain": [
       "<IPython.core.display.HTML object>"
      ]
     },
     "metadata": {},
     "output_type": "display_data"
    },
    {
     "data": {
      "application/vnd.jupyter.widget-view+json": {
       "model_id": "",
       "version_major": 2,
       "version_minor": 0
      },
      "text/plain": [
       "VBox(children=(Label(value='0.001 MB of 0.001 MB uploaded (0.000 MB deduped)\\r'), FloatProgress(value=1.0, max…"
      ]
     },
     "metadata": {},
     "output_type": "display_data"
    },
    {
     "data": {
      "text/html": [
       "<style>\n",
       "    table.wandb td:nth-child(1) { padding: 0 10px; text-align: left ; width: auto;} td:nth-child(2) {text-align: left ; width: 100%}\n",
       "    .wandb-row { display: flex; flex-direction: row; flex-wrap: wrap; justify-content: flex-start; width: 100% }\n",
       "    .wandb-col { display: flex; flex-direction: column; flex-basis: 100%; flex: 1; padding: 10px; }\n",
       "    </style>\n",
       "<div class=\"wandb-row\"><div class=\"wandb-col\"><h3>Run history:</h3><br/><table class=\"wandb\"><tr><td>lr</td><td>███▁▁▁▁▁▁▁▁▁▁▁▁▁▁▁▁▁▁▁▁▁▁▁▁▁▁▁▁▁▁▁▁▁▁▁▁▁</td></tr><tr><td>train_mae</td><td>██▇▆▆▆▅▅▅▅▄▄▄▄▃▃▃▃▃▃▃▂▃▃▃▃▂▂▂▂▂▁▂▂▂▁▂▂▁▁</td></tr><tr><td>train_mse</td><td>██▇▇▇▇▆▆▅▅▄▅▅▅▄▃▃▃▃▃▃▃▄▃▃▃▂▂▂▂▂▂▃▂▂▂▂▂▁▁</td></tr><tr><td>train_pearson</td><td>▁▁▂▃▃▃▅▄▅▅▆▆▅▅▆▇▆▇▇▇▇▇▆▇▇▆▇▇▇▇▇▇▆▇▇▇▇▇██</td></tr><tr><td>train_rloss</td><td>▆▇█▆▆▆▅█▄▆▅▇▅▆▄▅▅▄▄▅▅▄▅▅▃▄▃▂▁▄▅▃▅▅▄▄▃▄▃▃</td></tr><tr><td>train_spearman</td><td>▁▂▃▆▅▅▆▆▅▇▆▆▇▇▇▇▇▇▇▇▇▇█▇▇▇██████▇█▇█████</td></tr><tr><td>valid_mae</td><td>██▇▅▅▅▅▅▄▄▄▄▄▄▄▄▄▄▃▄▃▃▃▂▁▃▃▃▁▁▂▂▂▃▁▂▂▁▂▂</td></tr><tr><td>valid_mse</td><td>███▆▆▆▆▅▅▅▅▅▅▄▄▄▃▄▃▄▃▃▃▃▂▃▃▃▂▂▂▂▂▃▁▃▃▁▂▃</td></tr><tr><td>valid_pearson</td><td>▄▁▃▄▅▆▆▆▆▇▇▇▇▇▇▇▇▇▇█▇███████████████████</td></tr><tr><td>valid_rloss</td><td>█▄▆▃▂▄▅▃▃▄▅▄▄▇▇▄▄▄▄▂▅▄▃▅▃▄▄▂▄▁▂▄▃▃▄▅▄▄▁▃</td></tr><tr><td>valid_spearman</td><td>▁▅▅▅▅▆▅▆▆▆▆▆▆▆▆▇▇▇▇█▇▇██████████████████</td></tr></table><br/></div><div class=\"wandb-col\"><h3>Run summary:</h3><br/><table class=\"wandb\"><tr><td>lr</td><td>0.0</td></tr><tr><td>train_mae</td><td>0.28804</td></tr><tr><td>train_mse</td><td>0.26832</td></tr><tr><td>train_pearson</td><td>0.55525</td></tr><tr><td>train_rloss</td><td>0.56553</td></tr><tr><td>train_spearman</td><td>0.48499</td></tr><tr><td>valid_mae</td><td>0.27619</td></tr><tr><td>valid_mse</td><td>0.2675</td></tr><tr><td>valid_pearson</td><td>0.5929</td></tr><tr><td>valid_rloss</td><td>0.53674</td></tr><tr><td>valid_spearman</td><td>0.60286</td></tr></table><br/></div></div>"
      ],
      "text/plain": [
       "<IPython.core.display.HTML object>"
      ]
     },
     "metadata": {},
     "output_type": "display_data"
    },
    {
     "data": {
      "text/html": [
       "Synced <strong style=\"color:#cdcd00\">serene-planet-13</strong>: <a href=\"https://wandb.ai/hei-jung/20230214-validation/runs/38wft6uj\" target=\"_blank\">https://wandb.ai/hei-jung/20230214-validation/runs/38wft6uj</a><br/>Synced 6 W&B file(s), 0 media file(s), 0 artifact file(s) and 0 other file(s)"
      ],
      "text/plain": [
       "<IPython.core.display.HTML object>"
      ]
     },
     "metadata": {},
     "output_type": "display_data"
    },
    {
     "data": {
      "text/html": [
       "Find logs at: <code>./wandb/run-20230303_162837-38wft6uj/logs</code>"
      ],
      "text/plain": [
       "<IPython.core.display.HTML object>"
      ]
     },
     "metadata": {},
     "output_type": "display_data"
    }
   ],
   "source": [
    "set_seed()\n",
    "\n",
    "model = SFCN(dropout_p=dropout_rate)\n",
    "model.fc.add_module('relu', nn.LeakyReLU())\n",
    "model = torch.nn.DataParallel(model, device_ids=[0, 1])\n",
    "model.cuda()\n",
    "\n",
    "wandb.init(project='20230214-validation',\n",
    "           config={\"model\": \"sfcn+lkrelu\", \"dropout\": dropout_rate,\n",
    "                   \"weight_decay\": weight_decay, \"epochs\": epochs, \"batch_size\": batch_size,\n",
    "                   \"cost_function\": \"mse_loss\", \"optimizer\": optim_class.__name__,\n",
    "                   \"scheduler\": sched_class.__name__})\n",
    "wandb.watch(model)\n",
    "\n",
    "optimizer = optim_class(model.parameters(), lr=lr, weight_decay=weight_decay)\n",
    "scheduler = sched_class(optimizer, mode='max', patience=5, min_lr=1e-06)\n",
    "\n",
    "best_r, best_mae, best_mse = 100, 100, 100\n",
    "\n",
    "set_seed()\n",
    "for epoch in range(epochs):\n",
    "    print('# Epoch %d / %d'%(epoch + 1, epochs))   \n",
    "\n",
    "    # train set\n",
    "    augment = get_augmentation_transform()\n",
    "    train_set = NeckDataset(X_train, y_train, transform=augment)\n",
    "    train_loader = DataLoader(train_set, batch_size=batch_size, num_workers=16)\n",
    "\n",
    "    # validation set\n",
    "\n",
    "    preds_t, truths_t, rloss_t, mae_t, mse_t = train(model, train_loader, lr, weight_decay, optimizer)\n",
    "    preds_v, truths_v, rloss_v, mae_v, mse_v = valid(model, test_loader)\n",
    "\n",
    "    train_p, _ = pearsonr(preds_t, truths_t)\n",
    "    train_s, _ = spearmanr(preds_t, truths_t)\n",
    "    train_mae = mae_t / len(train_loader)\n",
    "    train_mse = mse_t / len(train_loader)\n",
    "    train_rloss = rloss_t / len(train_loader)\n",
    "\n",
    "    valid_p, _ = pearsonr(preds_v, truths_v)\n",
    "    valid_s, _ = spearmanr(preds_v, truths_v)\n",
    "    valid_mae = mae_v / len(test_loader)\n",
    "    valid_mse = mse_v / len(test_loader)\n",
    "    valid_rloss = rloss_v / len(test_loader)\n",
    "    \n",
    "    scheduler.step(valid_s)\n",
    "    last_lr = scheduler._last_lr[0]\n",
    "\n",
    "    if best_r > valid_rloss:\n",
    "        best_r = valid_rloss\n",
    "        torch.save(model.state_dict(), 'pretrained/230303_sfcnlkrelu+rloss_{}_bestr'.format(sched_class.__name__))\n",
    "    if best_mse > valid_mse:\n",
    "        best_mse = valid_mse\n",
    "        torch.save(model.state_dict(), 'pretrained/230303_sfcnlkrelu+rloss_{}_bestmse'.format(sched_class.__name__))\n",
    "    if best_mae > valid_mae:\n",
    "        best_mae = valid_mae\n",
    "        torch.save(model.state_dict(), 'pretrained/230303_sfcnlkrelu+rloss_{}_bestmae'.format(sched_class.__name__))\n",
    "\n",
    "    wandb.log({\"train_mae\": train_mae, \"train_mse\": train_mse, \"valid_mae\": valid_mae, \"valid_mse\": valid_mse,\n",
    "               \"train_pearson\": train_p, \"train_spearman\": train_s, \"valid_pearson\": valid_p, \"valid_spearman\": valid_s,\n",
    "               \"lr\": last_lr, \"train_rloss\": train_rloss, \"valid_rloss\": valid_rloss})\n",
    "wandb.finish()\n",
    "torch.save(model.state_dict(), 'pretrained/230303_sfcnlkrelu+rloss_{}_epochs{}'.format(sched_class.__name__, epochs))\n"
   ]
  },
  {
   "cell_type": "code",
   "execution_count": 16,
   "id": "ba474024",
   "metadata": {},
   "outputs": [],
   "source": [
    "import seaborn as sns\n",
    "\n",
    "def predict(model, data_loader, title='', line=False):\n",
    "    model.eval()\n",
    "    preds, truths = np.array([]), np.array([])\n",
    "    with torch.no_grad():\n",
    "        for inputs, labels in tqdm(data_loader):\n",
    "            inputs, labels = inputs.to(device, dtype=torch.float), labels.to(device, dtype=torch.float)\n",
    "            output = model(inputs)\n",
    "            pred = output.detach().cpu().numpy()\n",
    "            truth = labels.detach().cpu().numpy()\n",
    "            preds = np.append(preds, pred.reshape(pred.size), axis=0)\n",
    "            truths = np.append(truths, truth.reshape(truth.size), axis=0)\n",
    "        \n",
    "    # Get correlation coefficients\n",
    "    pearson, pearson_p = pearsonr(preds, truths)\n",
    "    spearman, spearman_p = spearmanr(preds, truths)\n",
    "    \n",
    "    # For range setting\n",
    "    _min = y_min\n",
    "    _max = y_max\n",
    "    \n",
    "    # Figure size\n",
    "#     plt.figure(figsize=(5, 5))\n",
    "    \n",
    "    # Reference line\n",
    "    x = np.linspace(_min, _max)\n",
    "    y = x\n",
    "    plt.plot(x, y, c='gray', ls='--', label='Reference r = 1.0')\n",
    "    \n",
    "    # Regression Plot\n",
    "    \n",
    "    ## Scatter\n",
    "    plt.scatter(truths, preds, c='steelblue', label='Pearson\\'s r = {:.2f} / Spearman\\'s r = {:.2f}'.format(pearson,spearman))\n",
    "    \n",
    "    ## Linear Regression Line\n",
    "    if line:\n",
    "        m, b = np.polyfit(truths, preds, 1)\n",
    "        plt.plot(truths, m*truths + b, c='steelblue', label='m = {:.2f}'.format(m))\n",
    "#     # Regression Plot at once\n",
    "#     sns.regplot(x=truths, y=preds, ci=None, color='steelblue', label='Pearson r = {:.2f}'.format(pearson))\n",
    "\n",
    "    if title != '':\n",
    "        plt.title(title)\n",
    "    \n",
    "    plt.axis('square')\n",
    "    plt.ylabel('Predicted WMH'); plt.xlabel('Ground Truth')\n",
    "    plt.legend()\n",
    "    plt.tight_layout()\n",
    "    plt.xlim([_min, _max])\n",
    "    plt.ylim([_min, _max])\n",
    "    plt.show()\n",
    "    plt.close()\n",
    "    \n",
    "    return preds, truths"
   ]
  },
  {
   "cell_type": "code",
   "execution_count": 21,
   "id": "f495f821",
   "metadata": {},
   "outputs": [
    {
     "data": {
      "text/plain": [
       "(-0.5, 4.701782967868128)"
      ]
     },
     "execution_count": 21,
     "metadata": {},
     "output_type": "execute_result"
    }
   ],
   "source": [
    "y_min, y_max =y_test.min() - 0.5, y_test.max() + 0.5\n",
    "y_min, y_max"
   ]
  },
  {
   "cell_type": "code",
   "execution_count": 22,
   "id": "b4c8f9c0",
   "metadata": {
    "scrolled": false
   },
   "outputs": [
    {
     "name": "stderr",
     "output_type": "stream",
     "text": [
      "100%|█████████████████████████████████████████████| 7/7 [00:02<00:00,  2.46it/s]\n"
     ]
    },
    {
     "data": {
      "image/png": "[encoded data removed]",
      "text/plain": [
       "<Figure size 432x288 with 1 Axes>"
      ]
     },
     "metadata": {
      "needs_background": "light"
     },
     "output_type": "display_data"
    }
   ],
   "source": [
    "_,_ = predict(model, test_loader)"
   ]
  },
  {
   "cell_type": "code",
   "execution_count": 23,
   "id": "b9fcf45b",
   "metadata": {},
   "outputs": [
    {
     "name": "stderr",
     "output_type": "stream",
     "text": [
      "100%|█████████████████████████████████████████████| 7/7 [00:02<00:00,  2.49it/s]\n"
     ]
    },
    {
     "data": {
      "image/png": "[encoded data removed]",
      "text/plain": [
       "<Figure size 432x288 with 1 Axes>"
      ]
     },
     "metadata": {
      "needs_background": "light"
     },
     "output_type": "display_data"
    }
   ],
   "source": [
    "net = SFCN()\n",
    "net.fc.add_module('relu', nn.LeakyReLU())\n",
    "net = torch.nn.DataParallel(net, device_ids=[0, 1])\n",
    "net.load_state_dict(torch.load('pretrained/230303_sfcnlkrelu+rloss_{}_bestr'.format(sched_class.__name__)))\n",
    "net.to(device)\n",
    "_,_ = predict(net, test_loader)"
   ]
  },
  {
   "cell_type": "code",
   "execution_count": 24,
   "id": "1ca48138",
   "metadata": {},
   "outputs": [
    {
     "name": "stderr",
     "output_type": "stream",
     "text": [
      "100%|█████████████████████████████████████████████| 7/7 [00:02<00:00,  2.60it/s]\n"
     ]
    },
    {
     "data": {
      "image/png": "[encoded data removed]",
      "text/plain": [
       "<Figure size 432x288 with 1 Axes>"
      ]
     },
     "metadata": {
      "needs_background": "light"
     },
     "output_type": "display_data"
    }
   ],
   "source": [
    "net = SFCN()\n",
    "net.fc.add_module('relu', nn.LeakyReLU())\n",
    "net = torch.nn.DataParallel(net, device_ids=[0, 1])\n",
    "net.load_state_dict(torch.load('pretrained/230303_sfcnlkrelu+rloss_{}_bestmse'.format(sched_class.__name__)))\n",
    "net.to(device)\n",
    "_,_ = predict(net, test_loader)"
   ]
  },
  {
   "cell_type": "code",
   "execution_count": 25,
   "id": "4f0db39e",
   "metadata": {},
   "outputs": [
    {
     "name": "stderr",
     "output_type": "stream",
     "text": [
      "100%|█████████████████████████████████████████████| 7/7 [00:02<00:00,  2.47it/s]\n"
     ]
    },
    {
     "data": {
      "image/png": "[encoded data removed]",
      "text/plain": [
       "<Figure size 432x288 with 1 Axes>"
      ]
     },
     "metadata": {
      "needs_background": "light"
     },
     "output_type": "display_data"
    }
   ],
   "source": [
    "net = SFCN()\n",
    "net.fc.add_module('relu', nn.LeakyReLU())\n",
    "net = torch.nn.DataParallel(net, device_ids=[0, 1])\n",
    "net.load_state_dict(torch.load('pretrained/230303_sfcnlkrelu+rloss_{}_bestmae'.format(sched_class.__name__)))\n",
    "net.to(device)\n",
    "_,_ = predict(net, test_loader)"
   ]
  },
  {
   "cell_type": "code",
   "execution_count": null,
   "id": "df0a3066",
   "metadata": {},
   "outputs": [],
   "source": [
    "dataset = NeckDataset(train_X, train_y)\n",
    "data_loader = DataLoader(dataset, batch_size=batch_size, num_workers=16)\n",
    "_,_ = predict(model, train_loader, 'Training set')"
   ]
  }
 ],
 "metadata": {
  "kernelspec": {
   "display_name": "Python 3 (ipykernel)",
   "language": "python",
   "name": "python3"
  },
  "language_info": {
   "codemirror_mode": {
    "name": "ipython",
    "version": 3
   },
   "file_extension": ".py",
   "mimetype": "text/x-python",
   "name": "python",
   "nbconvert_exporter": "python",
   "pygments_lexer": "ipython3",
   "version": "3.8.13"
  }
 },
 "nbformat": 4,
 "nbformat_minor": 5
}
