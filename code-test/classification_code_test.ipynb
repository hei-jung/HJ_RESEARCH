{
 "cells": [
  {
   "cell_type": "code",
   "execution_count": 1,
   "id": "b9c0d942",
   "metadata": {},
   "outputs": [],
   "source": [
    "import os\n",
    "os.environ[\"CUDA_DEVICE_ORDER\"] = \"PCI_BUS_ID\"\n",
    "os.environ[\"CUDA_VISIBLE_DEVICES\"] = \"1\""
   ]
  },
  {
   "cell_type": "code",
   "execution_count": 2,
   "id": "c31da569",
   "metadata": {
    "scrolled": true
   },
   "outputs": [],
   "source": [
    "import random\n",
    "import numpy as np\n",
    "from tqdm import tqdm\n",
    "import pandas as pd\n",
    "from scipy import ndimage\n",
    "from scipy.ndimage import zoom\n",
    "import gc\n",
    "from sklearn.model_selection import train_test_split, KFold\n",
    "import matplotlib.pyplot as plt\n",
    "import matplotlib.patches as mpatches\n",
    "from torch import nn, optim\n",
    "from torch.nn import functional as F\n",
    "from torch.utils.data import Dataset, DataLoader, SubsetRandomSampler\n",
    "import torch.backends.cudnn as cudnn\n",
    "from models.custom_net import *\n",
    "from models.sfcn_grade import *\n",
    "from models.resnet import *\n",
    "from models.inception_resnet_v2 import *\n",
    "from models.densenet import *\n",
    "import types\n",
    "from scipy.stats import pearsonr, spearmanr\n",
    "import torchio as tio\n",
    "from datetime import datetime\n",
    "import wandb\n",
    "from models.ranking_loss import *"
   ]
  },
  {
   "cell_type": "code",
   "execution_count": 3,
   "id": "7f0a9eef",
   "metadata": {},
   "outputs": [],
   "source": [
    "RANDOM_SEED = 551"
   ]
  },
  {
   "cell_type": "code",
   "execution_count": 4,
   "id": "0e96349f",
   "metadata": {},
   "outputs": [],
   "source": [
    "# control randomness\n",
    "def set_seed(random_seed=551):\n",
    "    torch.manual_seed(random_seed)\n",
    "    torch.cuda.manual_seed(random_seed)\n",
    "    torch.cuda.manual_seed_all(random_seed)\n",
    "    np.random.seed(random_seed)\n",
    "    cudnn.benchmark = False\n",
    "    cudnn.deterministic = True\n",
    "    random.seed(random_seed)"
   ]
  },
  {
   "cell_type": "code",
   "execution_count": 5,
   "id": "f7a34af8",
   "metadata": {},
   "outputs": [],
   "source": [
    "def load_data(img_dir, label_dir, label_name, std=False, norm=True):\n",
    "    df = pd.read_csv(label_dir, index_col=0)[label_name]\n",
    "    filenames = df.index\n",
    "    images = []\n",
    "    for i, index in enumerate(filenames):\n",
    "        # normalized images\n",
    "        file_name = img_dir + index + '.npy'\n",
    "        img = np.load(file_name)\n",
    "        x, y, z = img.shape\n",
    "        if std:\n",
    "            m = np.mean(img)\n",
    "            s = np.std(img)\n",
    "            img = (img - m) / s\n",
    "        if norm:\n",
    "            img = (img - img.min()) / (img.max() - img.min())\n",
    "        img = img.reshape((1, x, y, z))\n",
    "        images.append(img)\n",
    "    return images, df"
   ]
  },
  {
   "cell_type": "code",
   "execution_count": 6,
   "id": "f736886e",
   "metadata": {},
   "outputs": [],
   "source": [
    "# augmentation\n",
    "def get_augmentation_transform():\n",
    "    random_rotate = tio.RandomAffine(scales=(1.0, 1.0),\n",
    "                                     degrees=12,)\n",
    "    random_flip = tio.RandomFlip(axes='LR',\n",
    "                                 flip_probability=0.5)\n",
    "    random_shift = tio.RandomAffine(scales=(1.0, 1.0),\n",
    "                                    degrees=0,\n",
    "                                    translation=(20,20,20))\n",
    "    compose = tio.transforms.Compose([random_rotate, random_flip, random_shift])\n",
    "    augment = tio.transforms.OneOf([random_rotate, random_flip, random_shift, compose])\n",
    "    return augment"
   ]
  },
  {
   "cell_type": "code",
   "execution_count": 7,
   "id": "86ca0257",
   "metadata": {},
   "outputs": [],
   "source": [
    "class SEBlock(nn.Module):\n",
    "    \n",
    "    def __init__(self, in_channels, r=16):\n",
    "        super(SEBlock, self).__init__()\n",
    "        self.squeeze = nn.AdaptiveAvgPool3d(1)\n",
    "        self.excitation = nn.Sequential(\n",
    "            nn.Linear(in_channels, in_channels//r),\n",
    "            nn.ReLU(),\n",
    "            nn.Linear(in_channels//r, in_channels),\n",
    "            nn.Sigmoid())\n",
    "        \n",
    "    def forward(self, x):\n",
    "        x = self.squeeze(x)\n",
    "        x = x.view(x.size(0), -1)\n",
    "        x = self.excitation(x)\n",
    "        x = x.view(x.size(0), x.size(1), 1, 1, 1)\n",
    "        return x"
   ]
  },
  {
   "cell_type": "code",
   "execution_count": 8,
   "id": "2caeb213",
   "metadata": {},
   "outputs": [],
   "source": [
    "img_dir = 'img_npy/'\n",
    "label_dir = 'labels/data_grade_foruse.csv'\n",
    "label_name = 'GRADE'"
   ]
  },
  {
   "cell_type": "code",
   "execution_count": 9,
   "id": "3175e7a2",
   "metadata": {},
   "outputs": [],
   "source": [
    "weight_decay = 1e-6 #0.01\n",
    "lr = 0.0005 # 0.0001\n",
    "epochs = 80\n",
    "batch_size = 16\n",
    "optimizer = optim.Adam\n",
    "dropout_rate = 0.5\n",
    "test_size = 0.2\n",
    "# scheduler = optim.lr_scheduler.MultiplicativeLR(optimizer=optimizer,\n",
    "#                                                lr_lambda=lambda epoch: 0.3 ** epoch)"
   ]
  },
  {
   "cell_type": "code",
   "execution_count": 10,
   "id": "2eb08047",
   "metadata": {
    "scrolled": true
   },
   "outputs": [
    {
     "name": "stdout",
     "output_type": "stream",
     "text": [
      "Device: cuda\n",
      "Current cuda device: 0\n",
      "Count of using GPUs: 1\n"
     ]
    }
   ],
   "source": [
    "device = torch.device(\"cuda\" if torch.cuda.is_available() else \"cpu\")\n",
    "print('Device:', device)\n",
    "print('Current cuda device:', torch.cuda.current_device())\n",
    "print('Count of using GPUs:', torch.cuda.device_count())"
   ]
  },
  {
   "cell_type": "code",
   "execution_count": 11,
   "id": "2a308ae7",
   "metadata": {},
   "outputs": [],
   "source": [
    "class NeckDataset(Dataset):\n",
    "    def __init__(self, X=None, y=None, transform=None):\n",
    "        self.X = X\n",
    "        self.y = y.values\n",
    "        self.transform = transform\n",
    "        \n",
    "    def __len__(self):\n",
    "        return len(self.y)\n",
    "    \n",
    "    def __getitem__(self, idx):\n",
    "        image = torch.FloatTensor(self.X[idx])\n",
    "        label = torch.LongTensor(self.y)[idx]\n",
    "        if self.transform is not None:\n",
    "            image = self.transform(image)\n",
    "        return [image, label]"
   ]
  },
  {
   "cell_type": "code",
   "execution_count": 12,
   "id": "2df07024",
   "metadata": {},
   "outputs": [],
   "source": [
    "def train(model, train_loader, lr, weight_decay, optim_class=optim.AdamW, scheduler=None):\n",
    "    criterion = nn.CrossEntropyLoss()\n",
    "        \n",
    "    optimizer = optim_class(model.parameters(), lr=lr, weight_decay=weight_decay)\n",
    "    \n",
    "    total_loss = 0\n",
    "    correct = 0\n",
    "    \n",
    "    model.train()\n",
    "    for inputs, labels in tqdm(train_loader):              \n",
    "        \n",
    "        # move data to the GPU\n",
    "        inputs = inputs.to(device)\n",
    "        labels = labels.to(device)\n",
    "        \n",
    "        # clear previous gradient computation\n",
    "        optimizer.zero_grad()\n",
    "\n",
    "        # forward prop\n",
    "        output = model(inputs)\n",
    "#         print('y: {} / y hat: {}'.format(labels, output))\n",
    "            \n",
    "        # calculate loss with cost function\n",
    "        loss = criterion(output, labels)\n",
    "        \n",
    "        # back prop\n",
    "        loss.backward()\n",
    "        \n",
    "        # update model weights\n",
    "        optimizer.step()\n",
    "        if scheduler:\n",
    "            scheduler.step()\n",
    "        \n",
    "        # accumulate loss\n",
    "        total_loss += loss.data.item()\n",
    "        \n",
    "        # accumulate correct count\n",
    "        _, preds = torch.max(output, 1)\n",
    "        correct += torch.sum(preds == labels.data)\n",
    "                \n",
    "        gc.collect()\n",
    "        torch.cuda.empty_cache()\n",
    "        \n",
    "    return total_loss, correct"
   ]
  },
  {
   "cell_type": "code",
   "execution_count": 13,
   "id": "6b20c8c8",
   "metadata": {},
   "outputs": [],
   "source": [
    "def valid(model, valid_loader):\n",
    "    criterion = nn.CrossEntropyLoss()\n",
    "    \n",
    "    total_loss = 0\n",
    "    correct = 0\n",
    "    \n",
    "    model.eval()\n",
    "    with torch.no_grad():\n",
    "        for inputs, labels in tqdm(valid_loader):\n",
    "            \n",
    "            # move data to the GPU\n",
    "            inputs = inputs.to(device)\n",
    "            labels = labels.to(device)\n",
    "\n",
    "            # forward prop\n",
    "            output = model(inputs)\n",
    "\n",
    "            # calculate loss with cost function\n",
    "            loss = criterion(output, labels)\n",
    "            \n",
    "            # accumulate loss\n",
    "            total_loss += loss.data.item()\n",
    "            \n",
    "            # accumulate correct count\n",
    "            _, preds = torch.max(output, 1)\n",
    "            correct += torch.sum(preds == labels.data)\n",
    "                    \n",
    "    return total_loss, correct"
   ]
  },
  {
   "cell_type": "markdown",
   "id": "79cccf1f",
   "metadata": {},
   "source": [
    "---"
   ]
  },
  {
   "cell_type": "code",
   "execution_count": 14,
   "id": "b0a99344",
   "metadata": {},
   "outputs": [],
   "source": [
    "# load data\n",
    "X, y = load_data(img_dir, label_dir, label_name, std=False, norm=True)  # std=False, norm=True\n",
    "\n",
    "# initialize seed\n",
    "set_seed()\n",
    "\n",
    "# prepare train set and validation set\n",
    "dataset = NeckDataset(X, y)\n",
    "train_set, valid_set = train_test_split(dataset, test_size=test_size)\n",
    "train_loader = DataLoader(train_set, batch_size=batch_size, num_workers=16)\n",
    "valid_loader = DataLoader(valid_set, batch_size=batch_size, num_workers=16)"
   ]
  },
  {
   "cell_type": "code",
   "execution_count": 15,
   "id": "13f1b29d",
   "metadata": {},
   "outputs": [
    {
     "data": {
      "image/png": "[encoded data removed]",
      "text/plain": [
       "<Figure size 720x288 with 2 Axes>"
      ]
     },
     "metadata": {
      "needs_background": "light"
     },
     "output_type": "display_data"
    }
   ],
   "source": [
    "# plot class distribution histogram\n",
    "plt.figure(figsize=(10,4))\n",
    "\n",
    "y_train, y_test = [], []\n",
    "for _, data in train_set:\n",
    "    y_train.append(data)\n",
    "for _, data in valid_set:\n",
    "    y_test.append(data)\n",
    "\n",
    "plt.subplot(1,2,1)\n",
    "plt.title('Class distribution in Train Set')\n",
    "plt.hist(y_train)\n",
    "\n",
    "plt.subplot(1,2,2)\n",
    "plt.title('Class distribution in Validation Set')\n",
    "plt.hist(y_test)\n",
    "\n",
    "plt.show()\n",
    "plt.close()"
   ]
  },
  {
   "cell_type": "code",
   "execution_count": null,
   "id": "403853df",
   "metadata": {},
   "outputs": [],
   "source": [
    "# load data\n",
    "X, y = load_data(img_dir, label_dir, label_name, std=False, norm=True)  # std=False, norm=True\n",
    "\n",
    "# initialize seed\n",
    "set_seed()\n",
    "\n",
    "# train / test split\n",
    "X_train, X_test, y_train, y_test = train_test_split(X, y, test_size=test_size)"
   ]
  },
  {
   "cell_type": "code",
   "execution_count": null,
   "id": "4a4f9a78",
   "metadata": {},
   "outputs": [],
   "source": [
    "# plot class distribution histogram\n",
    "plt.figure(figsize=(10,4))\n",
    "\n",
    "plt.subplot(1,2,1)\n",
    "plt.title('Class distribution in Train Set')\n",
    "y_train.hist(grid=False)\n",
    "\n",
    "plt.subplot(1,2,2)\n",
    "plt.title('Class distribution in Validation Set')\n",
    "y_test.hist(grid=False)\n",
    "\n",
    "plt.show()\n",
    "plt.close()"
   ]
  },
  {
   "cell_type": "code",
   "execution_count": null,
   "id": "bcc49c69",
   "metadata": {},
   "outputs": [],
   "source": [
    "# # train / validation\n",
    "# X_train, X_val, y_train, y_val = train_test_split(X_train, y_train, test_size=0.2)\n",
    "# len(y_train), len(y_val), len(y_test)"
   ]
  },
  {
   "cell_type": "code",
   "execution_count": null,
   "id": "b488cd5e",
   "metadata": {},
   "outputs": [],
   "source": [
    "# # validation set\n",
    "# valid_set = NeckDataset(X_val, y_val)\n",
    "# valid_loader = DataLoader(valid_set, batch_size=batch_size, num_workers=16)\n",
    "\n",
    "# # test set\n",
    "# test_set = NeckDataset(X_test, y_test)\n",
    "# test_loader = DataLoader(test_set, batch_size=batch_size, num_workers=16)"
   ]
  },
  {
   "cell_type": "code",
   "execution_count": null,
   "id": "693f2887",
   "metadata": {},
   "outputs": [],
   "source": [
    "# train set\n",
    "train_set = NeckDataset(X_train, y_train)\n",
    "train_loader = DataLoader(train_set, batch_size=batch_size, num_workers=16)"
   ]
  },
  {
   "cell_type": "code",
   "execution_count": null,
   "id": "4638446b",
   "metadata": {},
   "outputs": [],
   "source": [
    "# validation set\n",
    "valid_set = NeckDataset(X_test, y_test)\n",
    "valid_loader = DataLoader(valid_set, batch_size=batch_size, num_workers=16)"
   ]
  },
  {
   "cell_type": "code",
   "execution_count": null,
   "id": "9463cb03",
   "metadata": {},
   "outputs": [],
   "source": [
    "from torch.autograd import Variable\n",
    "\n",
    "for images, labels in valid_loader:\n",
    "    i, l = Variable(images), Variable(labels)\n",
    "    print(i.size())\n",
    "    i = i.cpu().numpy()\n",
    "    l = l.cpu().numpy()\n",
    "    if l[0]==0:\n",
    "        print('Label = {} : absent image'.format(l[0]))\n",
    "    elif l[0]==1:\n",
    "        print('Label = {} : punctate foci image'.format(l[0]))\n",
    "    elif l[0]==2:\n",
    "        print('Label = {} : beginning confluence image'.format(l[0]))\n",
    "    else:\n",
    "        print('Label = {} : large confluent areas image'.format(l[0]))\n",
    "    plt.imshow(np.max(i[0].squeeze(), axis=1))\n",
    "    plt.show()"
   ]
  },
  {
   "cell_type": "code",
   "execution_count": null,
   "id": "67eac17f",
   "metadata": {},
   "outputs": [],
   "source": [
    "model.to(device)\n",
    "for inputs, labels in tqdm(train_loader):              \n",
    "\n",
    "    # move data to the GPU\n",
    "    inputs = inputs.to(device)\n",
    "    labels = labels.to(device)\n",
    "\n",
    "    # forward prop\n",
    "    output = model(inputs)\n",
    "    print(output.shape)\n",
    "    break"
   ]
  },
  {
   "cell_type": "code",
   "execution_count": 16,
   "id": "5ef54d5e",
   "metadata": {
    "scrolled": true
   },
   "outputs": [
    {
     "data": {
      "text/plain": [
       "CustomNet(\n",
       "  (feature_extractor): Sequential(\n",
       "    (conv1): Sequential(\n",
       "      (0): Conv3d(1, 32, kernel_size=(3, 3, 3), stride=(1, 1, 1), padding=(1, 1, 1))\n",
       "      (1): BatchNorm3d(32, eps=1e-05, momentum=0.1, affine=True, track_running_stats=True)\n",
       "      (2): MaxPool3d(kernel_size=2, stride=2, padding=0, dilation=1, ceil_mode=False)\n",
       "      (3): ReLU()\n",
       "    )\n",
       "    (conv2): Sequential(\n",
       "      (0): Conv3d(32, 64, kernel_size=(3, 3, 3), stride=(1, 1, 1), padding=(1, 1, 1))\n",
       "      (1): BatchNorm3d(64, eps=1e-05, momentum=0.1, affine=True, track_running_stats=True)\n",
       "      (2): MaxPool3d(kernel_size=2, stride=2, padding=0, dilation=1, ceil_mode=False)\n",
       "      (3): ReLU()\n",
       "    )\n",
       "    (conv3): Sequential(\n",
       "      (0): Conv3d(64, 64, kernel_size=(1, 1, 1), stride=(1, 1, 1))\n",
       "      (1): BatchNorm3d(64, eps=1e-05, momentum=0.1, affine=True, track_running_stats=True)\n",
       "      (2): ReLU()\n",
       "    )\n",
       "  )\n",
       "  (classifier): Sequential(\n",
       "    (0): AvgPool3d(kernel_size=[15, 6, 9], stride=[15, 6, 9], padding=0)\n",
       "    (1): Dropout(p=0.5, inplace=False)\n",
       "    (2): Conv3d(64, 64, kernel_size=(1, 1, 1), stride=(1, 1, 1))\n",
       "  )\n",
       "  (fc1): Linear(in_features=768, out_features=4, bias=True)\n",
       ")"
      ]
     },
     "execution_count": 16,
     "metadata": {},
     "output_type": "execute_result"
    }
   ],
   "source": [
    "set_seed()\n",
    "\n",
    "#### model: custom simple net ####\n",
    "model = CustomNet(depth=1, classes=4)\n",
    "##################################\n",
    "\n",
    "# #### model: simple net, last layer no activation function ####\n",
    "# model = SFCN(output_dim=4)\n",
    "# if dropout_rate != 0.5:\n",
    "#     model.classifier.dropout.p = dropout_rate\n",
    "# ###########################\n",
    "\n",
    "# #### model: simple SE net ####\n",
    "# model = SFCN()\n",
    "# if dropout_rate != 0.5:\n",
    "#     model.classifier.dropout.p = dropout_rate\n",
    "# model.seblock = SEBlock(64)\n",
    "# model.forward = types.MethodType(forward, model)\n",
    "# ##############################\n",
    "\n",
    "# #### model: resnet26 ####\n",
    "# model = resnet26(in_channels=1, num_classes=4)\n",
    "# #########################\n",
    "\n",
    "# #### model: inception-resnet-v2 ####\n",
    "# model = inception_resnet_v2(in_channels=1, num_classes=1)\n",
    "# ####################################\n",
    "\n",
    "# #### model: densenet ####\n",
    "# model = densenet(121, in_channels=1, num_classes=1)\n",
    "# #########################\n",
    "\n",
    "model"
   ]
  },
  {
   "cell_type": "code",
   "execution_count": 18,
   "id": "48aa2ae6",
   "metadata": {},
   "outputs": [
    {
     "data": {
      "text/plain": [
       "(0.2, 16)"
      ]
     },
     "execution_count": 18,
     "metadata": {},
     "output_type": "execute_result"
    }
   ],
   "source": [
    "test_size, batch_size"
   ]
  },
  {
   "cell_type": "code",
   "execution_count": 17,
   "id": "5f4bcde9",
   "metadata": {
    "scrolled": true
   },
   "outputs": [
    {
     "name": "stderr",
     "output_type": "stream",
     "text": [
      "Failed to detect the name of this notebook, you can set it manually with the WANDB_NOTEBOOK_NAME environment variable to enable code saving.\n",
      "\u001b[34m\u001b[1mwandb\u001b[0m: Currently logged in as: \u001b[33mhei-jung\u001b[0m. Use \u001b[1m`wandb login --relogin`\u001b[0m to force relogin\n"
     ]
    },
    {
     "data": {
      "text/html": [
       "wandb version 0.13.5 is available!  To upgrade, please run:\n",
       " $ pip install wandb --upgrade"
      ],
      "text/plain": [
       "<IPython.core.display.HTML object>"
      ]
     },
     "metadata": {},
     "output_type": "display_data"
    },
    {
     "data": {
      "text/html": [
       "Tracking run with wandb version 0.12.21"
      ],
      "text/plain": [
       "<IPython.core.display.HTML object>"
      ]
     },
     "metadata": {},
     "output_type": "display_data"
    },
    {
     "data": {
      "text/html": [
       "Run data is saved locally in <code>/home/jhj/Desktop/HJ_RESEARCH/snu_brain_disease/wandb/run-20221202_123250-1rsa4ys0</code>"
      ],
      "text/plain": [
       "<IPython.core.display.HTML object>"
      ]
     },
     "metadata": {},
     "output_type": "display_data"
    },
    {
     "data": {
      "text/html": [
       "Syncing run <strong><a href=\"https://wandb.ai/hei-jung/classification-test-4class/runs/1rsa4ys0\" target=\"_blank\">light-shadow-12</a></strong> to <a href=\"https://wandb.ai/hei-jung/classification-test-4class\" target=\"_blank\">Weights & Biases</a> (<a href=\"https://wandb.me/run\" target=\"_blank\">docs</a>)<br/>"
      ],
      "text/plain": [
       "<IPython.core.display.HTML object>"
      ]
     },
     "metadata": {},
     "output_type": "display_data"
    },
    {
     "name": "stdout",
     "output_type": "stream",
     "text": [
      "# Epoch 1 / 80\n"
     ]
    },
    {
     "name": "stderr",
     "output_type": "stream",
     "text": [
      "100%|███████████████████████████████████████████| 41/41 [00:19<00:00,  2.14it/s]\n",
      "100%|███████████████████████████████████████████| 11/11 [00:03<00:00,  3.34it/s]\n"
     ]
    },
    {
     "name": "stdout",
     "output_type": "stream",
     "text": [
      "# Epoch 2 / 80\n"
     ]
    },
    {
     "name": "stderr",
     "output_type": "stream",
     "text": [
      "100%|███████████████████████████████████████████| 41/41 [00:18<00:00,  2.21it/s]\n",
      "100%|███████████████████████████████████████████| 11/11 [00:03<00:00,  3.56it/s]\n"
     ]
    },
    {
     "name": "stdout",
     "output_type": "stream",
     "text": [
      "# Epoch 3 / 80\n"
     ]
    },
    {
     "name": "stderr",
     "output_type": "stream",
     "text": [
      "100%|███████████████████████████████████████████| 41/41 [00:18<00:00,  2.22it/s]\n",
      "100%|███████████████████████████████████████████| 11/11 [00:03<00:00,  3.50it/s]\n"
     ]
    },
    {
     "name": "stdout",
     "output_type": "stream",
     "text": [
      "# Epoch 4 / 80\n"
     ]
    },
    {
     "name": "stderr",
     "output_type": "stream",
     "text": [
      "100%|███████████████████████████████████████████| 41/41 [00:18<00:00,  2.20it/s]\n",
      "100%|███████████████████████████████████████████| 11/11 [00:03<00:00,  3.31it/s]\n"
     ]
    },
    {
     "name": "stdout",
     "output_type": "stream",
     "text": [
      "# Epoch 5 / 80\n"
     ]
    },
    {
     "name": "stderr",
     "output_type": "stream",
     "text": [
      "100%|███████████████████████████████████████████| 41/41 [00:18<00:00,  2.17it/s]\n",
      "100%|███████████████████████████████████████████| 11/11 [00:03<00:00,  3.31it/s]\n"
     ]
    },
    {
     "name": "stdout",
     "output_type": "stream",
     "text": [
      "# Epoch 6 / 80\n"
     ]
    },
    {
     "name": "stderr",
     "output_type": "stream",
     "text": [
      "100%|███████████████████████████████████████████| 41/41 [00:18<00:00,  2.22it/s]\n",
      "100%|███████████████████████████████████████████| 11/11 [00:03<00:00,  3.36it/s]\n"
     ]
    },
    {
     "name": "stdout",
     "output_type": "stream",
     "text": [
      "# Epoch 7 / 80\n"
     ]
    },
    {
     "name": "stderr",
     "output_type": "stream",
     "text": [
      "100%|███████████████████████████████████████████| 41/41 [00:18<00:00,  2.18it/s]\n",
      "100%|███████████████████████████████████████████| 11/11 [00:03<00:00,  3.37it/s]\n"
     ]
    },
    {
     "name": "stdout",
     "output_type": "stream",
     "text": [
      "# Epoch 8 / 80\n"
     ]
    },
    {
     "name": "stderr",
     "output_type": "stream",
     "text": [
      "100%|███████████████████████████████████████████| 41/41 [00:18<00:00,  2.18it/s]\n",
      "100%|███████████████████████████████████████████| 11/11 [00:03<00:00,  3.25it/s]\n"
     ]
    },
    {
     "name": "stdout",
     "output_type": "stream",
     "text": [
      "# Epoch 9 / 80\n"
     ]
    },
    {
     "name": "stderr",
     "output_type": "stream",
     "text": [
      "100%|███████████████████████████████████████████| 41/41 [00:18<00:00,  2.16it/s]\n",
      "100%|███████████████████████████████████████████| 11/11 [00:03<00:00,  3.32it/s]\n"
     ]
    },
    {
     "name": "stdout",
     "output_type": "stream",
     "text": [
      "# Epoch 10 / 80\n"
     ]
    },
    {
     "name": "stderr",
     "output_type": "stream",
     "text": [
      "100%|███████████████████████████████████████████| 41/41 [00:18<00:00,  2.21it/s]\n",
      "100%|███████████████████████████████████████████| 11/11 [00:03<00:00,  3.42it/s]\n"
     ]
    },
    {
     "name": "stdout",
     "output_type": "stream",
     "text": [
      "# Epoch 11 / 80\n"
     ]
    },
    {
     "name": "stderr",
     "output_type": "stream",
     "text": [
      "100%|███████████████████████████████████████████| 41/41 [00:18<00:00,  2.18it/s]\n",
      "100%|███████████████████████████████████████████| 11/11 [00:03<00:00,  3.26it/s]\n"
     ]
    },
    {
     "name": "stdout",
     "output_type": "stream",
     "text": [
      "# Epoch 12 / 80\n"
     ]
    },
    {
     "name": "stderr",
     "output_type": "stream",
     "text": [
      "100%|███████████████████████████████████████████| 41/41 [00:18<00:00,  2.17it/s]\n",
      "100%|███████████████████████████████████████████| 11/11 [00:03<00:00,  3.33it/s]\n"
     ]
    },
    {
     "name": "stdout",
     "output_type": "stream",
     "text": [
      "# Epoch 13 / 80\n"
     ]
    },
    {
     "name": "stderr",
     "output_type": "stream",
     "text": [
      "100%|███████████████████████████████████████████| 41/41 [00:18<00:00,  2.21it/s]\n",
      "100%|███████████████████████████████████████████| 11/11 [00:03<00:00,  3.39it/s]\n"
     ]
    },
    {
     "name": "stdout",
     "output_type": "stream",
     "text": [
      "# Epoch 14 / 80\n"
     ]
    },
    {
     "name": "stderr",
     "output_type": "stream",
     "text": [
      "100%|███████████████████████████████████████████| 41/41 [00:18<00:00,  2.17it/s]\n",
      "100%|███████████████████████████████████████████| 11/11 [00:03<00:00,  3.34it/s]\n"
     ]
    },
    {
     "name": "stdout",
     "output_type": "stream",
     "text": [
      "# Epoch 15 / 80\n"
     ]
    },
    {
     "name": "stderr",
     "output_type": "stream",
     "text": [
      "100%|███████████████████████████████████████████| 41/41 [00:18<00:00,  2.17it/s]\n",
      "100%|███████████████████████████████████████████| 11/11 [00:03<00:00,  3.29it/s]\n"
     ]
    },
    {
     "name": "stdout",
     "output_type": "stream",
     "text": [
      "# Epoch 16 / 80\n"
     ]
    },
    {
     "name": "stderr",
     "output_type": "stream",
     "text": [
      "100%|███████████████████████████████████████████| 41/41 [00:18<00:00,  2.16it/s]\n",
      "100%|███████████████████████████████████████████| 11/11 [00:03<00:00,  3.25it/s]\n"
     ]
    },
    {
     "name": "stdout",
     "output_type": "stream",
     "text": [
      "# Epoch 17 / 80\n"
     ]
    },
    {
     "name": "stderr",
     "output_type": "stream",
     "text": [
      "100%|███████████████████████████████████████████| 41/41 [00:18<00:00,  2.18it/s]\n",
      "100%|███████████████████████████████████████████| 11/11 [00:03<00:00,  3.41it/s]\n"
     ]
    },
    {
     "name": "stdout",
     "output_type": "stream",
     "text": [
      "# Epoch 18 / 80\n"
     ]
    },
    {
     "name": "stderr",
     "output_type": "stream",
     "text": [
      "100%|███████████████████████████████████████████| 41/41 [00:18<00:00,  2.17it/s]\n",
      "100%|███████████████████████████████████████████| 11/11 [00:03<00:00,  3.29it/s]\n"
     ]
    },
    {
     "name": "stdout",
     "output_type": "stream",
     "text": [
      "# Epoch 19 / 80\n"
     ]
    },
    {
     "name": "stderr",
     "output_type": "stream",
     "text": [
      "100%|███████████████████████████████████████████| 41/41 [00:19<00:00,  2.15it/s]\n",
      "100%|███████████████████████████████████████████| 11/11 [00:03<00:00,  3.32it/s]\n"
     ]
    },
    {
     "name": "stdout",
     "output_type": "stream",
     "text": [
      "# Epoch 20 / 80\n"
     ]
    },
    {
     "name": "stderr",
     "output_type": "stream",
     "text": [
      "100%|███████████████████████████████████████████| 41/41 [00:18<00:00,  2.18it/s]\n",
      "100%|███████████████████████████████████████████| 11/11 [00:03<00:00,  3.46it/s]\n"
     ]
    },
    {
     "name": "stdout",
     "output_type": "stream",
     "text": [
      "# Epoch 21 / 80\n"
     ]
    },
    {
     "name": "stderr",
     "output_type": "stream",
     "text": [
      "100%|███████████████████████████████████████████| 41/41 [00:18<00:00,  2.16it/s]\n",
      "100%|███████████████████████████████████████████| 11/11 [00:03<00:00,  3.50it/s]\n"
     ]
    },
    {
     "name": "stdout",
     "output_type": "stream",
     "text": [
      "# Epoch 22 / 80\n"
     ]
    },
    {
     "name": "stderr",
     "output_type": "stream",
     "text": [
      "100%|███████████████████████████████████████████| 41/41 [00:18<00:00,  2.22it/s]\n",
      "100%|███████████████████████████████████████████| 11/11 [00:03<00:00,  3.53it/s]\n"
     ]
    },
    {
     "name": "stdout",
     "output_type": "stream",
     "text": [
      "# Epoch 23 / 80\n"
     ]
    },
    {
     "name": "stderr",
     "output_type": "stream",
     "text": [
      "100%|███████████████████████████████████████████| 41/41 [00:18<00:00,  2.17it/s]\n",
      "100%|███████████████████████████████████████████| 11/11 [00:03<00:00,  3.27it/s]\n"
     ]
    },
    {
     "name": "stdout",
     "output_type": "stream",
     "text": [
      "# Epoch 24 / 80\n"
     ]
    },
    {
     "name": "stderr",
     "output_type": "stream",
     "text": [
      "100%|███████████████████████████████████████████| 41/41 [00:18<00:00,  2.22it/s]\n",
      "100%|███████████████████████████████████████████| 11/11 [00:03<00:00,  3.45it/s]\n"
     ]
    },
    {
     "name": "stdout",
     "output_type": "stream",
     "text": [
      "# Epoch 25 / 80\n"
     ]
    },
    {
     "name": "stderr",
     "output_type": "stream",
     "text": [
      "100%|███████████████████████████████████████████| 41/41 [00:18<00:00,  2.19it/s]\n",
      "100%|███████████████████████████████████████████| 11/11 [00:03<00:00,  3.47it/s]\n"
     ]
    },
    {
     "name": "stdout",
     "output_type": "stream",
     "text": [
      "# Epoch 26 / 80\n"
     ]
    },
    {
     "name": "stderr",
     "output_type": "stream",
     "text": [
      "100%|███████████████████████████████████████████| 41/41 [00:18<00:00,  2.18it/s]\n",
      "100%|███████████████████████████████████████████| 11/11 [00:03<00:00,  3.29it/s]\n"
     ]
    },
    {
     "name": "stdout",
     "output_type": "stream",
     "text": [
      "# Epoch 27 / 80\n"
     ]
    },
    {
     "name": "stderr",
     "output_type": "stream",
     "text": [
      "100%|███████████████████████████████████████████| 41/41 [00:18<00:00,  2.21it/s]\n",
      "100%|███████████████████████████████████████████| 11/11 [00:03<00:00,  3.52it/s]\n"
     ]
    },
    {
     "name": "stdout",
     "output_type": "stream",
     "text": [
      "# Epoch 28 / 80\n"
     ]
    },
    {
     "name": "stderr",
     "output_type": "stream",
     "text": [
      "100%|███████████████████████████████████████████| 41/41 [00:18<00:00,  2.18it/s]\n",
      "100%|███████████████████████████████████████████| 11/11 [00:03<00:00,  3.31it/s]\n"
     ]
    },
    {
     "name": "stdout",
     "output_type": "stream",
     "text": [
      "# Epoch 29 / 80\n"
     ]
    },
    {
     "name": "stderr",
     "output_type": "stream",
     "text": [
      "100%|███████████████████████████████████████████| 41/41 [00:18<00:00,  2.21it/s]\n",
      "100%|███████████████████████████████████████████| 11/11 [00:03<00:00,  3.38it/s]\n"
     ]
    },
    {
     "name": "stdout",
     "output_type": "stream",
     "text": [
      "# Epoch 30 / 80\n"
     ]
    },
    {
     "name": "stderr",
     "output_type": "stream",
     "text": [
      "100%|███████████████████████████████████████████| 41/41 [00:18<00:00,  2.18it/s]\n",
      "100%|███████████████████████████████████████████| 11/11 [00:03<00:00,  3.45it/s]\n"
     ]
    },
    {
     "name": "stdout",
     "output_type": "stream",
     "text": [
      "# Epoch 31 / 80\n"
     ]
    },
    {
     "name": "stderr",
     "output_type": "stream",
     "text": [
      "100%|███████████████████████████████████████████| 41/41 [00:18<00:00,  2.17it/s]\n",
      "100%|███████████████████████████████████████████| 11/11 [00:03<00:00,  3.48it/s]\n"
     ]
    },
    {
     "name": "stdout",
     "output_type": "stream",
     "text": [
      "# Epoch 32 / 80\n"
     ]
    },
    {
     "name": "stderr",
     "output_type": "stream",
     "text": [
      "100%|███████████████████████████████████████████| 41/41 [00:18<00:00,  2.23it/s]\n",
      "100%|███████████████████████████████████████████| 11/11 [00:03<00:00,  3.49it/s]\n"
     ]
    },
    {
     "name": "stdout",
     "output_type": "stream",
     "text": [
      "# Epoch 33 / 80\n"
     ]
    },
    {
     "name": "stderr",
     "output_type": "stream",
     "text": [
      "100%|███████████████████████████████████████████| 41/41 [00:18<00:00,  2.18it/s]\n",
      "100%|███████████████████████████████████████████| 11/11 [00:03<00:00,  3.56it/s]\n"
     ]
    },
    {
     "name": "stdout",
     "output_type": "stream",
     "text": [
      "# Epoch 34 / 80\n"
     ]
    },
    {
     "name": "stderr",
     "output_type": "stream",
     "text": [
      "100%|███████████████████████████████████████████| 41/41 [00:18<00:00,  2.21it/s]\n",
      "100%|███████████████████████████████████████████| 11/11 [00:03<00:00,  3.51it/s]\n"
     ]
    },
    {
     "name": "stdout",
     "output_type": "stream",
     "text": [
      "# Epoch 35 / 80\n"
     ]
    },
    {
     "name": "stderr",
     "output_type": "stream",
     "text": [
      "100%|███████████████████████████████████████████| 41/41 [00:18<00:00,  2.20it/s]\n",
      "100%|███████████████████████████████████████████| 11/11 [00:03<00:00,  3.46it/s]\n"
     ]
    },
    {
     "name": "stdout",
     "output_type": "stream",
     "text": [
      "# Epoch 36 / 80\n"
     ]
    },
    {
     "name": "stderr",
     "output_type": "stream",
     "text": [
      "100%|███████████████████████████████████████████| 41/41 [00:18<00:00,  2.20it/s]\n",
      "100%|███████████████████████████████████████████| 11/11 [00:03<00:00,  3.29it/s]\n"
     ]
    },
    {
     "name": "stdout",
     "output_type": "stream",
     "text": [
      "# Epoch 37 / 80\n"
     ]
    },
    {
     "name": "stderr",
     "output_type": "stream",
     "text": [
      "100%|███████████████████████████████████████████| 41/41 [00:18<00:00,  2.18it/s]\n",
      "100%|███████████████████████████████████████████| 11/11 [00:03<00:00,  3.24it/s]\n"
     ]
    },
    {
     "name": "stdout",
     "output_type": "stream",
     "text": [
      "# Epoch 38 / 80\n"
     ]
    },
    {
     "name": "stderr",
     "output_type": "stream",
     "text": [
      "100%|███████████████████████████████████████████| 41/41 [00:18<00:00,  2.16it/s]\n",
      "100%|███████████████████████████████████████████| 11/11 [00:03<00:00,  3.28it/s]\n"
     ]
    },
    {
     "name": "stdout",
     "output_type": "stream",
     "text": [
      "# Epoch 39 / 80\n"
     ]
    },
    {
     "name": "stderr",
     "output_type": "stream",
     "text": [
      "100%|███████████████████████████████████████████| 41/41 [00:18<00:00,  2.16it/s]\n",
      "100%|███████████████████████████████████████████| 11/11 [00:03<00:00,  3.30it/s]\n"
     ]
    },
    {
     "name": "stdout",
     "output_type": "stream",
     "text": [
      "# Epoch 40 / 80\n"
     ]
    },
    {
     "name": "stderr",
     "output_type": "stream",
     "text": [
      "100%|███████████████████████████████████████████| 41/41 [00:19<00:00,  2.15it/s]\n",
      "100%|███████████████████████████████████████████| 11/11 [00:03<00:00,  3.41it/s]\n"
     ]
    },
    {
     "name": "stdout",
     "output_type": "stream",
     "text": [
      "# Epoch 41 / 80\n"
     ]
    },
    {
     "name": "stderr",
     "output_type": "stream",
     "text": [
      "100%|███████████████████████████████████████████| 41/41 [00:18<00:00,  2.22it/s]\n",
      "100%|███████████████████████████████████████████| 11/11 [00:03<00:00,  3.26it/s]\n"
     ]
    },
    {
     "name": "stdout",
     "output_type": "stream",
     "text": [
      "# Epoch 42 / 80\n"
     ]
    },
    {
     "name": "stderr",
     "output_type": "stream",
     "text": [
      "100%|███████████████████████████████████████████| 41/41 [00:18<00:00,  2.19it/s]\n",
      "100%|███████████████████████████████████████████| 11/11 [00:03<00:00,  3.31it/s]\n"
     ]
    },
    {
     "name": "stdout",
     "output_type": "stream",
     "text": [
      "# Epoch 43 / 80\n"
     ]
    },
    {
     "name": "stderr",
     "output_type": "stream",
     "text": [
      "100%|███████████████████████████████████████████| 41/41 [00:18<00:00,  2.22it/s]\n",
      "100%|███████████████████████████████████████████| 11/11 [00:03<00:00,  3.55it/s]\n"
     ]
    },
    {
     "name": "stdout",
     "output_type": "stream",
     "text": [
      "# Epoch 44 / 80\n"
     ]
    },
    {
     "name": "stderr",
     "output_type": "stream",
     "text": [
      "100%|███████████████████████████████████████████| 41/41 [00:18<00:00,  2.18it/s]\n",
      "100%|███████████████████████████████████████████| 11/11 [00:03<00:00,  3.56it/s]\n"
     ]
    },
    {
     "name": "stdout",
     "output_type": "stream",
     "text": [
      "# Epoch 45 / 80\n"
     ]
    },
    {
     "name": "stderr",
     "output_type": "stream",
     "text": [
      "100%|███████████████████████████████████████████| 41/41 [00:18<00:00,  2.23it/s]\n",
      "100%|███████████████████████████████████████████| 11/11 [00:03<00:00,  3.55it/s]\n"
     ]
    },
    {
     "name": "stdout",
     "output_type": "stream",
     "text": [
      "# Epoch 46 / 80\n"
     ]
    },
    {
     "name": "stderr",
     "output_type": "stream",
     "text": [
      "100%|███████████████████████████████████████████| 41/41 [00:18<00:00,  2.17it/s]\n",
      "100%|███████████████████████████████████████████| 11/11 [00:03<00:00,  3.31it/s]\n"
     ]
    },
    {
     "name": "stdout",
     "output_type": "stream",
     "text": [
      "# Epoch 47 / 80\n"
     ]
    },
    {
     "name": "stderr",
     "output_type": "stream",
     "text": [
      "100%|███████████████████████████████████████████| 41/41 [00:19<00:00,  2.16it/s]\n",
      "100%|███████████████████████████████████████████| 11/11 [00:03<00:00,  3.58it/s]\n"
     ]
    },
    {
     "name": "stdout",
     "output_type": "stream",
     "text": [
      "# Epoch 48 / 80\n"
     ]
    },
    {
     "name": "stderr",
     "output_type": "stream",
     "text": [
      "100%|███████████████████████████████████████████| 41/41 [00:18<00:00,  2.22it/s]\n",
      "100%|███████████████████████████████████████████| 11/11 [00:03<00:00,  3.36it/s]\n"
     ]
    },
    {
     "name": "stdout",
     "output_type": "stream",
     "text": [
      "# Epoch 49 / 80\n"
     ]
    },
    {
     "name": "stderr",
     "output_type": "stream",
     "text": [
      "100%|███████████████████████████████████████████| 41/41 [00:18<00:00,  2.19it/s]\n",
      "100%|███████████████████████████████████████████| 11/11 [00:03<00:00,  3.53it/s]\n"
     ]
    },
    {
     "name": "stdout",
     "output_type": "stream",
     "text": [
      "# Epoch 50 / 80\n"
     ]
    },
    {
     "name": "stderr",
     "output_type": "stream",
     "text": [
      "100%|███████████████████████████████████████████| 41/41 [00:18<00:00,  2.20it/s]\n",
      "100%|███████████████████████████████████████████| 11/11 [00:03<00:00,  3.36it/s]\n"
     ]
    },
    {
     "name": "stdout",
     "output_type": "stream",
     "text": [
      "# Epoch 51 / 80\n"
     ]
    },
    {
     "name": "stderr",
     "output_type": "stream",
     "text": [
      "100%|███████████████████████████████████████████| 41/41 [00:18<00:00,  2.25it/s]\n",
      "100%|███████████████████████████████████████████| 11/11 [00:03<00:00,  3.45it/s]\n"
     ]
    },
    {
     "name": "stdout",
     "output_type": "stream",
     "text": [
      "# Epoch 52 / 80\n"
     ]
    },
    {
     "name": "stderr",
     "output_type": "stream",
     "text": [
      "100%|███████████████████████████████████████████| 41/41 [00:18<00:00,  2.17it/s]\n",
      "100%|███████████████████████████████████████████| 11/11 [00:03<00:00,  3.34it/s]\n"
     ]
    },
    {
     "name": "stdout",
     "output_type": "stream",
     "text": [
      "# Epoch 53 / 80\n"
     ]
    },
    {
     "name": "stderr",
     "output_type": "stream",
     "text": [
      "100%|███████████████████████████████████████████| 41/41 [00:18<00:00,  2.22it/s]\n",
      "100%|███████████████████████████████████████████| 11/11 [00:03<00:00,  3.33it/s]\n"
     ]
    },
    {
     "name": "stdout",
     "output_type": "stream",
     "text": [
      "# Epoch 54 / 80\n"
     ]
    },
    {
     "name": "stderr",
     "output_type": "stream",
     "text": [
      "100%|███████████████████████████████████████████| 41/41 [00:18<00:00,  2.17it/s]\n",
      "100%|███████████████████████████████████████████| 11/11 [00:03<00:00,  3.30it/s]\n"
     ]
    },
    {
     "name": "stdout",
     "output_type": "stream",
     "text": [
      "# Epoch 55 / 80\n"
     ]
    },
    {
     "name": "stderr",
     "output_type": "stream",
     "text": [
      "100%|███████████████████████████████████████████| 41/41 [00:19<00:00,  2.16it/s]\n",
      "100%|███████████████████████████████████████████| 11/11 [00:03<00:00,  3.26it/s]\n"
     ]
    },
    {
     "name": "stdout",
     "output_type": "stream",
     "text": [
      "# Epoch 56 / 80\n"
     ]
    },
    {
     "name": "stderr",
     "output_type": "stream",
     "text": [
      "100%|███████████████████████████████████████████| 41/41 [00:18<00:00,  2.16it/s]\n",
      "100%|███████████████████████████████████████████| 11/11 [00:03<00:00,  3.31it/s]\n"
     ]
    },
    {
     "name": "stdout",
     "output_type": "stream",
     "text": [
      "# Epoch 57 / 80\n"
     ]
    },
    {
     "name": "stderr",
     "output_type": "stream",
     "text": [
      "100%|███████████████████████████████████████████| 41/41 [00:18<00:00,  2.17it/s]\n",
      "100%|███████████████████████████████████████████| 11/11 [00:03<00:00,  3.29it/s]\n"
     ]
    },
    {
     "name": "stdout",
     "output_type": "stream",
     "text": [
      "# Epoch 58 / 80\n"
     ]
    },
    {
     "name": "stderr",
     "output_type": "stream",
     "text": [
      "100%|███████████████████████████████████████████| 41/41 [00:19<00:00,  2.15it/s]\n",
      "100%|███████████████████████████████████████████| 11/11 [00:03<00:00,  3.28it/s]\n"
     ]
    },
    {
     "name": "stdout",
     "output_type": "stream",
     "text": [
      "# Epoch 59 / 80\n"
     ]
    },
    {
     "name": "stderr",
     "output_type": "stream",
     "text": [
      "100%|███████████████████████████████████████████| 41/41 [00:18<00:00,  2.20it/s]\n",
      "100%|███████████████████████████████████████████| 11/11 [00:03<00:00,  3.43it/s]\n"
     ]
    },
    {
     "name": "stdout",
     "output_type": "stream",
     "text": [
      "# Epoch 60 / 80\n"
     ]
    },
    {
     "name": "stderr",
     "output_type": "stream",
     "text": [
      "100%|███████████████████████████████████████████| 41/41 [00:18<00:00,  2.16it/s]\n",
      "100%|███████████████████████████████████████████| 11/11 [00:03<00:00,  3.26it/s]\n"
     ]
    },
    {
     "name": "stdout",
     "output_type": "stream",
     "text": [
      "# Epoch 61 / 80\n"
     ]
    },
    {
     "name": "stderr",
     "output_type": "stream",
     "text": [
      "100%|███████████████████████████████████████████| 41/41 [00:18<00:00,  2.18it/s]\n",
      "100%|███████████████████████████████████████████| 11/11 [00:03<00:00,  3.51it/s]\n"
     ]
    },
    {
     "name": "stdout",
     "output_type": "stream",
     "text": [
      "# Epoch 62 / 80\n"
     ]
    },
    {
     "name": "stderr",
     "output_type": "stream",
     "text": [
      "100%|███████████████████████████████████████████| 41/41 [00:18<00:00,  2.16it/s]\n",
      "100%|███████████████████████████████████████████| 11/11 [00:03<00:00,  3.56it/s]\n"
     ]
    },
    {
     "name": "stdout",
     "output_type": "stream",
     "text": [
      "# Epoch 63 / 80\n"
     ]
    },
    {
     "name": "stderr",
     "output_type": "stream",
     "text": [
      "100%|███████████████████████████████████████████| 41/41 [00:18<00:00,  2.22it/s]\n",
      "100%|███████████████████████████████████████████| 11/11 [00:03<00:00,  3.35it/s]\n"
     ]
    },
    {
     "name": "stdout",
     "output_type": "stream",
     "text": [
      "# Epoch 64 / 80\n"
     ]
    },
    {
     "name": "stderr",
     "output_type": "stream",
     "text": [
      "100%|███████████████████████████████████████████| 41/41 [00:18<00:00,  2.18it/s]\n",
      "100%|███████████████████████████████████████████| 11/11 [00:03<00:00,  3.40it/s]\n"
     ]
    },
    {
     "name": "stdout",
     "output_type": "stream",
     "text": [
      "# Epoch 65 / 80\n"
     ]
    },
    {
     "name": "stderr",
     "output_type": "stream",
     "text": [
      "100%|███████████████████████████████████████████| 41/41 [00:18<00:00,  2.22it/s]\n",
      "100%|███████████████████████████████████████████| 11/11 [00:03<00:00,  3.32it/s]\n"
     ]
    },
    {
     "name": "stdout",
     "output_type": "stream",
     "text": [
      "# Epoch 66 / 80\n"
     ]
    },
    {
     "name": "stderr",
     "output_type": "stream",
     "text": [
      "100%|███████████████████████████████████████████| 41/41 [00:18<00:00,  2.18it/s]\n",
      "100%|███████████████████████████████████████████| 11/11 [00:03<00:00,  3.25it/s]\n"
     ]
    },
    {
     "name": "stdout",
     "output_type": "stream",
     "text": [
      "# Epoch 67 / 80\n"
     ]
    },
    {
     "name": "stderr",
     "output_type": "stream",
     "text": [
      "100%|███████████████████████████████████████████| 41/41 [00:19<00:00,  2.16it/s]\n",
      "100%|███████████████████████████████████████████| 11/11 [00:03<00:00,  3.25it/s]\n"
     ]
    },
    {
     "name": "stdout",
     "output_type": "stream",
     "text": [
      "# Epoch 68 / 80\n"
     ]
    },
    {
     "name": "stderr",
     "output_type": "stream",
     "text": [
      "100%|███████████████████████████████████████████| 41/41 [00:18<00:00,  2.18it/s]\n",
      "100%|███████████████████████████████████████████| 11/11 [00:03<00:00,  3.36it/s]\n"
     ]
    },
    {
     "name": "stdout",
     "output_type": "stream",
     "text": [
      "# Epoch 69 / 80\n"
     ]
    },
    {
     "name": "stderr",
     "output_type": "stream",
     "text": [
      "100%|███████████████████████████████████████████| 41/41 [00:18<00:00,  2.22it/s]\n",
      "100%|███████████████████████████████████████████| 11/11 [00:03<00:00,  3.30it/s]\n"
     ]
    },
    {
     "name": "stdout",
     "output_type": "stream",
     "text": [
      "# Epoch 70 / 80\n"
     ]
    },
    {
     "name": "stderr",
     "output_type": "stream",
     "text": [
      "100%|███████████████████████████████████████████| 41/41 [00:18<00:00,  2.18it/s]\n",
      "100%|███████████████████████████████████████████| 11/11 [00:03<00:00,  3.37it/s]\n"
     ]
    },
    {
     "name": "stdout",
     "output_type": "stream",
     "text": [
      "# Epoch 71 / 80\n"
     ]
    },
    {
     "name": "stderr",
     "output_type": "stream",
     "text": [
      "100%|███████████████████████████████████████████| 41/41 [00:18<00:00,  2.21it/s]\n",
      "100%|███████████████████████████████████████████| 11/11 [00:03<00:00,  3.33it/s]\n"
     ]
    },
    {
     "name": "stdout",
     "output_type": "stream",
     "text": [
      "# Epoch 72 / 80\n"
     ]
    },
    {
     "name": "stderr",
     "output_type": "stream",
     "text": [
      "100%|███████████████████████████████████████████| 41/41 [00:18<00:00,  2.17it/s]\n",
      "100%|███████████████████████████████████████████| 11/11 [00:03<00:00,  3.43it/s]\n"
     ]
    },
    {
     "name": "stdout",
     "output_type": "stream",
     "text": [
      "# Epoch 73 / 80\n"
     ]
    },
    {
     "name": "stderr",
     "output_type": "stream",
     "text": [
      "100%|███████████████████████████████████████████| 41/41 [00:18<00:00,  2.20it/s]\n",
      "100%|███████████████████████████████████████████| 11/11 [00:03<00:00,  3.51it/s]\n"
     ]
    },
    {
     "name": "stdout",
     "output_type": "stream",
     "text": [
      "# Epoch 74 / 80\n"
     ]
    },
    {
     "name": "stderr",
     "output_type": "stream",
     "text": [
      "100%|███████████████████████████████████████████| 41/41 [00:19<00:00,  2.14it/s]\n",
      "100%|███████████████████████████████████████████| 11/11 [00:03<00:00,  3.42it/s]\n"
     ]
    },
    {
     "name": "stdout",
     "output_type": "stream",
     "text": [
      "# Epoch 75 / 80\n"
     ]
    },
    {
     "name": "stderr",
     "output_type": "stream",
     "text": [
      "100%|███████████████████████████████████████████| 41/41 [00:18<00:00,  2.18it/s]\n",
      "100%|███████████████████████████████████████████| 11/11 [00:03<00:00,  3.37it/s]\n"
     ]
    },
    {
     "name": "stdout",
     "output_type": "stream",
     "text": [
      "# Epoch 76 / 80\n"
     ]
    },
    {
     "name": "stderr",
     "output_type": "stream",
     "text": [
      "100%|███████████████████████████████████████████| 41/41 [00:18<00:00,  2.20it/s]\n",
      "100%|███████████████████████████████████████████| 11/11 [00:03<00:00,  3.30it/s]\n"
     ]
    },
    {
     "name": "stdout",
     "output_type": "stream",
     "text": [
      "# Epoch 77 / 80\n"
     ]
    },
    {
     "name": "stderr",
     "output_type": "stream",
     "text": [
      "100%|███████████████████████████████████████████| 41/41 [00:18<00:00,  2.17it/s]\n",
      "100%|███████████████████████████████████████████| 11/11 [00:03<00:00,  3.52it/s]\n"
     ]
    },
    {
     "name": "stdout",
     "output_type": "stream",
     "text": [
      "# Epoch 78 / 80\n"
     ]
    },
    {
     "name": "stderr",
     "output_type": "stream",
     "text": [
      "100%|███████████████████████████████████████████| 41/41 [00:18<00:00,  2.17it/s]\n",
      "100%|███████████████████████████████████████████| 11/11 [00:03<00:00,  3.34it/s]\n"
     ]
    },
    {
     "name": "stdout",
     "output_type": "stream",
     "text": [
      "# Epoch 79 / 80\n"
     ]
    },
    {
     "name": "stderr",
     "output_type": "stream",
     "text": [
      "100%|███████████████████████████████████████████| 41/41 [00:18<00:00,  2.22it/s]\n",
      "100%|███████████████████████████████████████████| 11/11 [00:03<00:00,  3.52it/s]\n"
     ]
    },
    {
     "name": "stdout",
     "output_type": "stream",
     "text": [
      "# Epoch 80 / 80\n"
     ]
    },
    {
     "name": "stderr",
     "output_type": "stream",
     "text": [
      "100%|███████████████████████████████████████████| 41/41 [00:18<00:00,  2.16it/s]\n",
      "100%|███████████████████████████████████████████| 11/11 [00:03<00:00,  3.26it/s]\n"
     ]
    },
    {
     "data": {
      "text/html": [
       "Waiting for W&B process to finish... <strong style=\"color:green\">(success).</strong>"
      ],
      "text/plain": [
       "<IPython.core.display.HTML object>"
      ]
     },
     "metadata": {},
     "output_type": "display_data"
    },
    {
     "data": {
      "application/vnd.jupyter.widget-view+json": {
       "model_id": "",
       "version_major": 2,
       "version_minor": 0
      },
      "text/plain": [
       "VBox(children=(Label(value='0.759 MB of 0.769 MB uploaded (0.000 MB deduped)\\r'), FloatProgress(value=0.987511…"
      ]
     },
     "metadata": {},
     "output_type": "display_data"
    },
    {
     "data": {
      "text/html": [
       "<style>\n",
       "    table.wandb td:nth-child(1) { padding: 0 10px; text-align: left ; width: auto;} td:nth-child(2) {text-align: left ; width: 100%}\n",
       "    .wandb-row { display: flex; flex-direction: row; flex-wrap: wrap; justify-content: flex-start; width: 100% }\n",
       "    .wandb-col { display: flex; flex-direction: column; flex-basis: 100%; flex: 1; padding: 10px; }\n",
       "    </style>\n",
       "<div class=\"wandb-row\"><div class=\"wandb-col\"><h3>Run history:</h3><br/><table class=\"wandb\"><tr><td>train_acc</td><td>▁▂▃▃▃▄▄▅▅▄▅▅▄▄▆▆▅▅▆▅▇▇▅▆▅▇▇▆▇▆▇▆▇▇▆▆▇▇▇█</td></tr><tr><td>train_loss</td><td>█▆▅▅▅▄▄▄▄▄▄▄▄▃▃▃▃▄▃▃▃▃▃▂▃▂▂▃▂▂▂▃▂▃▂▂▂▁▂▁</td></tr><tr><td>valid_acc</td><td>▁▅▅▅▆▆▃▄▆▄▄▂▂▅▃▃▆▃▇▂▃▂▄▆▄▃▅▄█▇▃▂▁▃▅▂▄▄▆▂</td></tr><tr><td>valid_loss</td><td>█▅▃▃▃▂▂▃▂▂▂▂▁▁▂▁▁▂▂▃▂▂▂▂▅▂▆▆▃▃▂▄▃▃▅▅▅▅▆▂</td></tr></table><br/></div><div class=\"wandb-col\"><h3>Run summary:</h3><br/><table class=\"wandb\"><tr><td>train_acc</td><td>66.40746</td></tr><tr><td>train_loss</td><td>0.76498</td></tr><tr><td>valid_acc</td><td>52.17392</td></tr><tr><td>valid_loss</td><td>0.94467</td></tr></table><br/></div></div>"
      ],
      "text/plain": [
       "<IPython.core.display.HTML object>"
      ]
     },
     "metadata": {},
     "output_type": "display_data"
    },
    {
     "data": {
      "text/html": [
       "Synced <strong style=\"color:#cdcd00\">light-shadow-12</strong>: <a href=\"https://wandb.ai/hei-jung/classification-test-4class/runs/1rsa4ys0\" target=\"_blank\">https://wandb.ai/hei-jung/classification-test-4class/runs/1rsa4ys0</a><br/>Synced 6 W&B file(s), 80 media file(s), 0 artifact file(s) and 0 other file(s)"
      ],
      "text/plain": [
       "<IPython.core.display.HTML object>"
      ]
     },
     "metadata": {},
     "output_type": "display_data"
    },
    {
     "data": {
      "text/html": [
       "Find logs at: <code>./wandb/run-20221202_123250-1rsa4ys0/logs</code>"
      ],
      "text/plain": [
       "<IPython.core.display.HTML object>"
      ]
     },
     "metadata": {},
     "output_type": "display_data"
    }
   ],
   "source": [
    "model.to(device)\n",
    "wandb.init(project='classification-test-4class',\n",
    "           config={\"model\": \"shallowNet2\", \"dropout\": dropout_rate, \n",
    "                   \"lr\": lr, \"weight_decay\": weight_decay, \"epochs\": epochs, \"batch_size\": batch_size,\n",
    "                   \"test_size\": test_size})\n",
    "wandb.watch(model)\n",
    "\n",
    "best_rec = 0   # best_rec: best accuracy\n",
    "\n",
    "set_seed()\n",
    "for epoch in range(epochs):\n",
    "    print('# Epoch %d / %d'%(epoch + 1, epochs))\n",
    "#     augment = get_augmentation_transform()\n",
    "#     train_set = NeckDataset(X_train, y_train, transform=augment)\n",
    "#     train_loader = DataLoader(train_set, batch_size=batch_size, num_workers=16)\n",
    "\n",
    "    # log image to check if augmentation is same for every experiment\n",
    "    tensor_img = train_set[0][0].squeeze().cpu().detach().numpy()\n",
    "    img = wandb.Image(np.max(tensor_img, axis=1), caption=\"Coronal MIP\")\n",
    "\n",
    "    loss_t, corr_t = train(model, train_loader, lr, weight_decay, optimizer)\n",
    "    loss_v, corr_v = valid(model, valid_loader)\n",
    "\n",
    "    train_loss = loss_t / len(train_loader)\n",
    "    train_acc = 100 * corr_t / len(train_set)\n",
    "    \n",
    "    valid_loss = loss_v / len(valid_loader)\n",
    "    valid_acc = 100 * corr_v / len(valid_set)\n",
    "\n",
    "    if best_rec < valid_acc:\n",
    "        best_rec = valid_acc\n",
    "#         torch.save(model.state_dict(), 'pretrained/221129_4classtest0.2x16noaug_best')\n",
    "\n",
    "    wandb.log({\"train_loss\": train_loss, \"train_acc\": train_acc, \"valid_loss\": valid_loss, \"valid_acc\": valid_acc,\n",
    "               \"sample_img\": img})\n",
    "wandb.finish()\n",
    "# torch.save(model.state_dict(), f'pretrained/221129_4classtest0.2x16noaug_epoch{epochs}')"
   ]
  },
  {
   "cell_type": "code",
   "execution_count": 18,
   "id": "18eceb9f",
   "metadata": {},
   "outputs": [],
   "source": [
    "import seaborn as sns\n",
    "from sklearn.metrics import confusion_matrix, classification_report\n",
    "\n",
    "def predict(model, data_loader):\n",
    "    model.eval()\n",
    "    \n",
    "    y_pred_list, y_list = np.array([]), np.array([])\n",
    "    \n",
    "    with torch.no_grad():\n",
    "        for inputs, labels in tqdm(data_loader):\n",
    "            \n",
    "            # move data to the GPU\n",
    "            inputs = inputs.to(device)\n",
    "            \n",
    "            # forward prop\n",
    "            output = model(inputs)\n",
    "                        \n",
    "            # store predicted values\n",
    "            _, preds = torch.max(output, dim=1)\n",
    "            pred = preds.detach().cpu().numpy()\n",
    "            y_pred_list = np.append(y_pred_list, pred.reshape(pred.size), axis=0)\n",
    "            \n",
    "            # store truth values\n",
    "            truth = labels.detach().numpy()\n",
    "            y_list = np.append(y_list, truth.reshape(truth.size), axis=0)\n",
    "            \n",
    "    return y_list, y_pred_list"
   ]
  },
  {
   "cell_type": "code",
   "execution_count": 19,
   "id": "0e9ee49f",
   "metadata": {},
   "outputs": [
    {
     "name": "stderr",
     "output_type": "stream",
     "text": [
      "100%|███████████████████████████████████████████| 11/11 [00:03<00:00,  3.51it/s]\n"
     ]
    }
   ],
   "source": [
    "y_list, y_preds = predict(model, valid_loader)"
   ]
  },
  {
   "cell_type": "code",
   "execution_count": 20,
   "id": "ef770e0c",
   "metadata": {},
   "outputs": [
    {
     "data": {
      "text/plain": [
       "[Text(33.0, 0.5, 'ground truth'), Text(0.5, 15.0, 'predicted')]"
      ]
     },
     "execution_count": 20,
     "metadata": {},
     "output_type": "execute_result"
    },
    {
     "data": {
      "image/png": "[encoded data removed]",
      "text/plain": [
       "<Figure size 432x288 with 2 Axes>"
      ]
     },
     "metadata": {
      "needs_background": "light"
     },
     "output_type": "display_data"
    }
   ],
   "source": [
    "# confusion matrix\n",
    "confusion_matrix_df = pd.DataFrame(confusion_matrix(y_list, y_preds))\n",
    "s = sns.heatmap(confusion_matrix_df, annot=True)\n",
    "s.set(ylabel='ground truth', xlabel='predicted')"
   ]
  },
  {
   "cell_type": "code",
   "execution_count": 21,
   "id": "235c4eab",
   "metadata": {},
   "outputs": [
    {
     "name": "stdout",
     "output_type": "stream",
     "text": [
      "              precision    recall  f1-score   support\n",
      "\n",
      "         0.0       0.61      0.83      0.70        82\n",
      "         1.0       0.31      0.18      0.23        49\n",
      "         2.0       0.33      0.27      0.30        22\n",
      "         3.0       0.33      0.12      0.18         8\n",
      "\n",
      "    accuracy                           0.52       161\n",
      "   macro avg       0.40      0.35      0.35       161\n",
      "weighted avg       0.47      0.52      0.48       161\n",
      "\n"
     ]
    }
   ],
   "source": [
    "# classification report\n",
    "print(classification_report(y_list, y_preds))"
   ]
  },
  {
   "cell_type": "code",
   "execution_count": 22,
   "id": "03a38a8e",
   "metadata": {},
   "outputs": [],
   "source": [
    "import sklearn.metrics as metrics\n",
    "from sklearn.metrics import roc_auc_score\n",
    "\n",
    "def plot_roc_curve(y_target, y_predicted, class_label, guideline=False):\n",
    "    fpr, tpr, threshold = metrics.roc_curve(y_target, y_predicted)\n",
    "    roc_auc = metrics.auc(fpr, tpr)\n",
    "\n",
    "    plt.title('Receiver Operating Characteristic (ROC)')\n",
    "    plt.plot(fpr, tpr, label='%d: AUC = %0.2f' % (class_label, roc_auc))\n",
    "    plt.legend(loc='lower right')\n",
    "    if guideline:\n",
    "        plt.plot([0, 1], [0, 1], 'r--')\n",
    "    plt.xlim([0, 1])\n",
    "    plt.ylim([0, 1])\n",
    "    plt.ylabel('True Positive Rate')\n",
    "    plt.xlabel('False Positive Rate')\n",
    "\n",
    "def roc_auc_score_multiclass(actual_class, pred_class, average=\"macro\", guideline=False):\n",
    "    \n",
    "    # create a set of all the unique classes using the actual class list\n",
    "    unique_class = set(actual_class)\n",
    "    roc_auc_dict = {}\n",
    "    \n",
    "    for per_class in unique_class:\n",
    "        \n",
    "        # create a list of all the classes except the current class\n",
    "        other_class = [x for x in unique_class if x != per_class]\n",
    "        \n",
    "        # mark the current class as 1 and all other classes as 0\n",
    "        new_actual_class = [0 if x in other_class else 1 for x in actual_class]\n",
    "        new_pred_class = [0 if x in other_class else 1 for x in pred_class]\n",
    "        \n",
    "        # calculate the roc_auc score\n",
    "        roc_auc = roc_auc_score(new_actual_class, new_pred_class, average=average)\n",
    "        roc_auc_dict[per_class] = roc_auc\n",
    "        \n",
    "        plot_roc_curve(new_actual_class, new_pred_class, per_class, guideline)\n",
    "        \n",
    "    plt.show()\n",
    "        \n",
    "    return roc_auc_dict"
   ]
  },
  {
   "cell_type": "code",
   "execution_count": 23,
   "id": "bd45fbd7",
   "metadata": {},
   "outputs": [
    {
     "data": {
      "image/png": "[encoded data removed]",
      "text/plain": [
       "<Figure size 432x288 with 1 Axes>"
      ]
     },
     "metadata": {
      "needs_background": "light"
     },
     "output_type": "display_data"
    },
    {
     "data": {
      "text/plain": [
       "{0.0: 0.6424822476072861,\n",
       " 1.0: 0.5025510204081632,\n",
       " 2.0: 0.593198168737737,\n",
       " 3.0: 0.5559640522875817}"
      ]
     },
     "execution_count": 23,
     "metadata": {},
     "output_type": "execute_result"
    }
   ],
   "source": [
    "roc_auc_dict = roc_auc_score_multiclass(y_list, y_preds)\n",
    "roc_auc_dict"
   ]
  }
 ],
 "metadata": {
  "kernelspec": {
   "display_name": "Python 3 (ipykernel)",
   "language": "python",
   "name": "python3"
  },
  "language_info": {
   "codemirror_mode": {
    "name": "ipython",
    "version": 3
   },
   "file_extension": ".py",
   "mimetype": "text/x-python",
   "name": "python",
   "nbconvert_exporter": "python",
   "pygments_lexer": "ipython3",
   "version": "3.8.13"
  }
 },
 "nbformat": 4,
 "nbformat_minor": 5
}
