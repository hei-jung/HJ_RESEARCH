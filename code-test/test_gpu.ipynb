{
 "cells": [
  {
   "cell_type": "code",
   "execution_count": 1,
   "metadata": {},
   "outputs": [],
   "source": [
    "import os\n",
    "from tqdm import tqdm\n",
    "import time\n",
    "import pandas as pd\n",
    "import numpy as np\n",
    "import nibabel as nib\n",
    "import matplotlib.pyplot as plt\n",
    "from sklearn.model_selection import train_test_split\n",
    "import torch\n",
    "from torch import nn, optim\n",
    "from torch.utils.data import Dataset, DataLoader\n",
    "import gc\n",
    "import matplotlib.patches as mpatches\n",
    "from scipy.stats import pearsonr, spearmanr\n",
    "from models.resnet import *"
   ]
  },
  {
   "cell_type": "code",
   "execution_count": 2,
   "metadata": {},
   "outputs": [],
   "source": [
    "# os.environ[\"CUDA_DEVICE_ORDER\"] = \"PCI_BUS_ID\"\n",
    "# os.environ[\"CUDA_VISIBLE_DEVICES\"] = \"0,1\""
   ]
  },
  {
   "cell_type": "code",
   "execution_count": 3,
   "metadata": {},
   "outputs": [],
   "source": [
    "torch.manual_seed(551)\n",
    "torch.cuda.manual_seed_all(551)\n",
    "np.random.seed(551)"
   ]
  },
  {
   "cell_type": "code",
   "execution_count": null,
   "metadata": {},
   "outputs": [],
   "source": [
    "import argparse\n",
    "\n",
    "parser = argparse.ArgumentParser()\n",
    "\n",
    "parser.set_defaults(crop_size=224, lr=0.0001, test_size=0.2, optimizer='Adam')\n",
    "\n",
    "parser.add_argument('--test', help='run for test (True or False)')\n",
    "\n",
    "parser.add_argument('--crop_size', help='size to crop out')\n",
    "parser.add_argument('--epoch', required=True, help='num of epochs')\n",
    "parser.add_argument('--batch_size', required=True, help='batch size')\n",
    "parser.add_argument('--lr', help='learning rate')\n",
    "parser.add_argument('--optimizer', help='optimizer: Adam or AdamW')\n",
    "parser.add_argument('--test_size', help='size ratio of test dataset ( < 1)')\n",
    "parser.add_argument('-l', '--filename_l', required=True, help='loss plot file name')\n",
    "parser.add_argument('-c', '--filename_c', required=True, help='correlation plot file name')\n",
    "\n",
    "args, unknown = parser.parse_known_args()\n",
    "\n",
    "args.test = True if args.test=='True' else False\n",
    "\n",
    "crop_size = int(args.crop_size)\n",
    "test_size = float(args.test_size)\n",
    "config_dict = dict(n_epoch=int(args.epoch), batch_size=int(args.batch_size), lr=float(args.lr))\n",
    "optimizer = args.optimizer\n",
    "filename_l = args.filename_l + '.png'\n",
    "filename_c = args.filename_c + '.png'"
   ]
  },
  {
   "cell_type": "code",
   "execution_count": 4,
   "metadata": {},
   "outputs": [
    {
     "name": "stdout",
     "output_type": "stream",
     "text": [
      "Device: cuda\n",
      "Current cuda device: 0\n",
      "Count of using GPUs: 2\n"
     ]
    }
   ],
   "source": [
    "device = torch.device(\"cuda\" if torch.cuda.is_available() else \"cpu\")\n",
    "print('Device:', device)\n",
    "print('Current cuda device:', torch.cuda.current_device())\n",
    "print('Count of using GPUs:', torch.cuda.device_count())"
   ]
  },
  {
   "cell_type": "code",
   "execution_count": 5,
   "metadata": {},
   "outputs": [],
   "source": [
    "crop_size = 170\n",
    "test_size = 0.2\n",
    "config_dict = dict(n_epoch=3, batch_size=16, lr=0.0001)\n",
    "optimizer = 'AdamW'\n",
    "# filename_l = \n",
    "# filename_c = \n",
    "test = True"
   ]
  },
  {
   "cell_type": "code",
   "execution_count": 6,
   "metadata": {},
   "outputs": [],
   "source": [
    "def load_data(crop_size=224, test=False):\n",
    "    df = pd.read_csv('labels/admin_NeuroQuant.csv', index_col=0)['Cerebral WM Hypointensities* Total Percent Of Icv']\n",
    "    if test:\n",
    "        df.drop(df.index[64:], inplace=True)\n",
    "    filenames = df.index\n",
    "    base = 'input_nifti_resized/'\n",
    "    images = []\n",
    "        \n",
    "    for i, index in enumerate(tqdm(filenames)):\n",
    "        file_name = base + index + '.nii.gz'\n",
    "        img = nib.load(file_name)\n",
    "        img = img.get_fdata()\n",
    "            \n",
    "        # center crop\n",
    "        d, h, w = img.shape\n",
    "        margin_h = (h - crop_size) // 2\n",
    "        margin_w = (w - crop_size) // 2\n",
    "        img = img[d-crop_size:, margin_h:margin_h+crop_size, margin_w:margin_w+crop_size]\n",
    "            \n",
    "        # normalizing\n",
    "        img = (img - np.min(img)) / (np.max(img) - np.min(img))\n",
    "                \n",
    "        img = img.reshape((1, crop_size, crop_size, crop_size))\n",
    "        images.append(img)\n",
    "        \n",
    "    return images, df"
   ]
  },
  {
   "cell_type": "code",
   "execution_count": 7,
   "metadata": {},
   "outputs": [],
   "source": [
    "class NeckDataset(Dataset):\n",
    "    def __init__(self, X=None, y=None, data_loaded=True):\n",
    "        self.X = X\n",
    "        self.y = y.values\n",
    "        \n",
    "    def __len__(self):\n",
    "        return len(self.y)\n",
    "    \n",
    "    def __getitem__(self, idx):\n",
    "        image = self.X[idx]\n",
    "        label = np.array([self.y[idx]]).astype('float16')\n",
    "        return [image, label]"
   ]
  },
  {
   "cell_type": "code",
   "execution_count": 8,
   "metadata": {},
   "outputs": [],
   "source": [
    "def run_train(model, train_loader, config_dict, optimizer='Adam'):\n",
    "    model.train()\n",
    "    criterion1 = nn.L1Loss()\n",
    "    criterion2 = nn.MSELoss()\n",
    "    \n",
    "    assert optimizer=='Adam' or optimizer=='AdamW', \"optimizer should be Adam or AdamW\"\n",
    "    if optimizer == 'Adam':\n",
    "        optimizer = optim.Adam(model.parameters(), lr=config_dict['lr'])\n",
    "    elif optimizer =='AdamW':\n",
    "        optimizer = optim.AdamW(model.parameters(), lr=config_dict['lr'])\n",
    "    \n",
    "    total_loss = 0\n",
    "    \n",
    "    for inputs, labels in tqdm(train_loader):\n",
    "        inputs, labels = inputs.to(device, dtype=torch.float), labels.to(device, dtype=torch.float)\n",
    "        optimizer.zero_grad()\n",
    "        output = model(inputs)\n",
    "        pred = output.detach().cpu().numpy()\n",
    "        truth = labels.detach().cpu().numpy()\n",
    "        \n",
    "        mae_loss = criterion1(output, labels)\n",
    "        mse_loss = criterion2(output, labels)\n",
    "        mae_loss.backward()\n",
    "        \n",
    "        optimizer.step()\n",
    "        total_loss += mae_loss.data.item()\n",
    "        \n",
    "        train_img = inputs.cpu().numpy()\n",
    "        \n",
    "        gc.collect()\n",
    "        torch.cuda.empty_cache()\n",
    "        \n",
    "    return train_img, pred, truth, total_loss"
   ]
  },
  {
   "cell_type": "code",
   "execution_count": 9,
   "metadata": {},
   "outputs": [],
   "source": [
    "def run_valid(model, valid_loader):\n",
    "    model.eval()\n",
    "    criterion1 = nn.L1Loss()\n",
    "    criterion2 = nn.MSELoss()\n",
    "    \n",
    "    total_loss = 0\n",
    "    \n",
    "    with torch.no_grad():\n",
    "        for inputs, labels in tqdm(valid_loader):\n",
    "            inputs, labels = inputs.to(device, dtype=torch.float), labels.to(device, dtype=torch.float)\n",
    "            output = model(inputs)\n",
    "            pred = output.detach().cpu().numpy()\n",
    "            truth = labels.detach().cpu().numpy()\n",
    "#             print(f'Valid_Prediction : {pred}')\n",
    "#             print(f'Valid_Truth : {truth}')\n",
    "\n",
    "            mae_loss = criterion1(output, labels)\n",
    "            mse_loss = criterion2(output, labels)\n",
    "            total_loss += mae_loss.data.item()\n",
    "\n",
    "            valid_img = inputs.cpu().numpy()\n",
    "        \n",
    "    return valid_img, pred, truth, total_loss"
   ]
  },
  {
   "cell_type": "code",
   "execution_count": 10,
   "metadata": {},
   "outputs": [],
   "source": [
    "def predict(model, data_loader, file_name):\n",
    "    preds, truths = np.array([]), np.array([])\n",
    "    with torch.no_grad():\n",
    "        for inputs, labels in tqdm(data_loader):\n",
    "            inputs, labels = inputs.to(device, dtype=torch.float), labels.to(device, dtype=torch.float)\n",
    "            output = model(inputs)\n",
    "            pred = output.detach().cpu().numpy()\n",
    "            truth = labels.detach().cpu().numpy()\n",
    "            preds = np.append(preds, pred.reshape(pred.size), axis=0)\n",
    "            truths = np.append(truths, truth.reshape(truth.size), axis=0)\n",
    "    \n",
    "    _min = min(np.min(preds), np.min(truths))\n",
    "    _max = max(np.max(preds), np.max(truths))\n",
    "    \n",
    "    x = np.linspace(_min, _max)\n",
    "    y = x\n",
    "    plt.plot(x, y, c='r')\n",
    "    plt.scatter(truths, preds, c='b')\n",
    "    plt.axis('square')\n",
    "    plt.ylabel('prediction'); plt.xlabel('ground truth')\n",
    "    \n",
    "    plt.tight_layout()\n",
    "    plt.xlim([_min, _max])\n",
    "    plt.ylim([_min, _max])\n",
    "    plt.savefig(file_name)\n",
    "    plt.show()\n",
    "    plt.close()\n",
    "    \n",
    "    return preds, truths"
   ]
  },
  {
   "cell_type": "code",
   "execution_count": 11,
   "metadata": {},
   "outputs": [
    {
     "name": "stderr",
     "output_type": "stream",
     "text": [
      "100%|██████████████████████████████████████████████████████████████████████████████████████████████| 64/64 [00:40<00:00,  1.57it/s]\n"
     ]
    }
   ],
   "source": [
    "X, y = load_data(crop_size=crop_size, test=test)\n",
    "dataset = NeckDataset(X, y)\n",
    "\n",
    "train, valid = train_test_split(dataset, test_size=test_size)\n",
    "train_loader = DataLoader(train, batch_size=config_dict['batch_size'], shuffle=True)\n",
    "valid_loader = DataLoader(valid, batch_size=config_dict['batch_size'], shuffle=False)"
   ]
  },
  {
   "cell_type": "code",
   "execution_count": 18,
   "metadata": {},
   "outputs": [],
   "source": [
    "resnet = resnet26(in_channels=1, num_classes=1)  # resnet26\n",
    "model = nn.DataParallel(resnet)  # to use all available GPUs\n",
    "model = model.cuda()\n",
    "\n",
    "# # to use specific GPU\n",
    "# device = torch.device(\"cuda:1\" if torch.cuda.is_available() else \"cpu\")\n",
    "# model = nn.DataParallel(resnet, device_ids=[1])\n",
    "# model = model.to(device)"
   ]
  },
  {
   "cell_type": "code",
   "execution_count": 19,
   "metadata": {},
   "outputs": [
    {
     "name": "stdout",
     "output_type": "stream",
     "text": [
      "# Epoch 1 / 3\n"
     ]
    },
    {
     "name": "stderr",
     "output_type": "stream",
     "text": [
      "100%|████████████████████████████████████████████████████████████████████████████████████████████████| 4/4 [00:06<00:00,  1.52s/it]\n",
      "100%|████████████████████████████████████████████████████████████████████████████████████████████████| 1/1 [00:00<00:00,  2.09it/s]\n"
     ]
    },
    {
     "data": {
      "image/png": "[encoded data removed]",
      "text/plain": [
       "<Figure size 432x288 with 1 Axes>"
      ]
     },
     "metadata": {
      "needs_background": "light"
     },
     "output_type": "display_data"
    },
    {
     "name": "stdout",
     "output_type": "stream",
     "text": [
      "# Epoch 2 / 3\n"
     ]
    },
    {
     "name": "stderr",
     "output_type": "stream",
     "text": [
      "100%|████████████████████████████████████████████████████████████████████████████████████████████████| 4/4 [00:05<00:00,  1.42s/it]\n",
      "100%|████████████████████████████████████████████████████████████████████████████████████████████████| 1/1 [00:00<00:00,  2.02it/s]\n"
     ]
    },
    {
     "data": {
      "image/png": "[encoded data removed]",
      "text/plain": [
       "<Figure size 432x288 with 1 Axes>"
      ]
     },
     "metadata": {
      "needs_background": "light"
     },
     "output_type": "display_data"
    },
    {
     "name": "stdout",
     "output_type": "stream",
     "text": [
      "# Epoch 3 / 3\n"
     ]
    },
    {
     "name": "stderr",
     "output_type": "stream",
     "text": [
      "100%|████████████████████████████████████████████████████████████████████████████████████████████████| 4/4 [00:05<00:00,  1.49s/it]\n",
      "100%|████████████████████████████████████████████████████████████████████████████████████████████████| 1/1 [00:00<00:00,  2.07it/s]\n"
     ]
    },
    {
     "ename": "NameError",
     "evalue": "name 'filename_l' is not defined",
     "output_type": "error",
     "traceback": [
      "\u001b[0;31m---------------------------------------------------------------------------\u001b[0m",
      "\u001b[0;31mNameError\u001b[0m                                 Traceback (most recent call last)",
      "Input \u001b[0;32mIn [19]\u001b[0m, in \u001b[0;36m<cell line: 5>\u001b[0;34m()\u001b[0m\n\u001b[1;32m     21\u001b[0m     plt\u001b[38;5;241m.\u001b[39mlegend(handles\u001b[38;5;241m=\u001b[39m[red_patch, blue_patch])\n\u001b[1;32m     22\u001b[0m     \u001b[38;5;28;01mif\u001b[39;00m epoch \u001b[38;5;241m==\u001b[39m config_dict[\u001b[38;5;124m'\u001b[39m\u001b[38;5;124mn_epoch\u001b[39m\u001b[38;5;124m'\u001b[39m] \u001b[38;5;241m-\u001b[39m \u001b[38;5;241m1\u001b[39m:\n\u001b[0;32m---> 23\u001b[0m         plt\u001b[38;5;241m.\u001b[39msavefig(\u001b[43mfilename_l\u001b[49m)\n\u001b[1;32m     24\u001b[0m     plt\u001b[38;5;241m.\u001b[39mshow()\n\u001b[1;32m     25\u001b[0m plt\u001b[38;5;241m.\u001b[39mclose()\n",
      "\u001b[0;31mNameError\u001b[0m: name 'filename_l' is not defined"
     ]
    },
    {
     "data": {
      "image/png": "[encoded data removed]",
      "text/plain": [
       "<Figure size 432x288 with 1 Axes>"
      ]
     },
     "metadata": {
      "needs_background": "light"
     },
     "output_type": "display_data"
    }
   ],
   "source": [
    "train_values = {'pred': [], 'truth': [], 'loss': []}\n",
    "valid_values = {'pred': [], 'truth': [], 'loss': []}\n",
    "\n",
    "start = time.time()\n",
    "for epoch in range(config_dict['n_epoch']):\n",
    "    print('# Epoch %d / %d'%(epoch + 1, config_dict['n_epoch']));\n",
    "    train_img, pred_t, truth_t, loss_t = run_train(model, train_loader, config_dict, optimizer=optimizer)\n",
    "    valid_img, pred_v, truth_v, loss_v = run_valid(model, valid_loader)\n",
    "\n",
    "    train_values['pred'] += [pred_t]\n",
    "    train_values['truth'] += [truth_t]\n",
    "    train_values['loss'] += [loss_t]\n",
    "    valid_values['pred'] += [pred_v]\n",
    "    valid_values['truth'] += [truth_v]\n",
    "    valid_values['loss'] += [loss_v]\n",
    "\n",
    "    plt.plot(range(len(train_values['loss'])), train_values['loss'], 'b',\n",
    "             range(len(valid_values['loss'])), valid_values['loss'], 'r')\n",
    "    blue_patch = mpatches.Patch(color='blue', label='Train MAE')\n",
    "    red_patch = mpatches.Patch(color='red', label='Validation MAE')\n",
    "    plt.legend(handles=[red_patch, blue_patch])\n",
    "    if epoch == config_dict['n_epoch'] - 1:\n",
    "        plt.savefig(filename_l)\n",
    "    plt.show()\n",
    "plt.close()\n",
    "end = time.time()\n",
    "exec_time = end - start\n",
    "print(\"Total execution time: {}h {}mins\".format(exec_time // 3600, exec_time // 60))"
   ]
  },
  {
   "cell_type": "code",
   "execution_count": null,
   "metadata": {},
   "outputs": [],
   "source": [
    "data_loader = DataLoader(dataset, batch_size=config_dict['batch_size'], shuffle=False)\n",
    "preds, truths = predict(model, data_loader, filename_c)\n",
    "total_pearson, total_pearson_p = pearsonr(preds, truths)\n",
    "total_spearman, total_spearman_p = spearmanr(preds, truths)\n",
    "print(\"Pearson Correlation {:.6f} (p={:.3f})\".format(total_pearson, total_pearson_p))\n",
    "print(\"Spearman Correlation {:.6f} (p={:.3f})\".format(total_spearman, total_spearman_p))"
   ]
  }
 ],
 "metadata": {
  "kernelspec": {
   "display_name": "Python 3 (ipykernel)",
   "language": "python",
   "name": "python3"
  },
  "language_info": {
   "codemirror_mode": {
    "name": "ipython",
    "version": 3
   },
   "file_extension": ".py",
   "mimetype": "text/x-python",
   "name": "python",
   "nbconvert_exporter": "python",
   "pygments_lexer": "ipython3",
   "version": "3.9.5"
  }
 },
 "nbformat": 4,
 "nbformat_minor": 4
}
