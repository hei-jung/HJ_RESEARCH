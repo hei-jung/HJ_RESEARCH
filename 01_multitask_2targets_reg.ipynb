{
 "cells": [
  {
   "cell_type": "markdown",
   "id": "f4bb7bc0",
   "metadata": {},
   "source": [
    "## Multi-task learning: Multi-label\n",
    "\n",
    "Regression (2 labels)"
   ]
  },
  {
   "cell_type": "code",
   "execution_count": 1,
   "id": "b9c0d942",
   "metadata": {},
   "outputs": [],
   "source": [
    "import os\n",
    "os.environ[\"CUDA_DEVICE_ORDER\"] = \"PCI_BUS_ID\"\n",
    "os.environ[\"CUDA_VISIBLE_DEVICES\"] = \"0\""
   ]
  },
  {
   "cell_type": "code",
   "execution_count": 2,
   "id": "c31da569",
   "metadata": {
    "scrolled": true
   },
   "outputs": [],
   "source": [
    "import random\n",
    "import numpy as np\n",
    "from tqdm import tqdm\n",
    "import pandas as pd\n",
    "from scipy import ndimage\n",
    "from scipy.ndimage import zoom\n",
    "import gc\n",
    "from sklearn.model_selection import train_test_split, KFold\n",
    "import matplotlib.pyplot as plt\n",
    "import matplotlib.patches as mpatches\n",
    "from torch import nn, optim\n",
    "from torch.nn import functional as F\n",
    "from torch.utils.data import Dataset, DataLoader, SubsetRandomSampler\n",
    "import torch.backends.cudnn as cudnn\n",
    "from models.custom_net import *\n",
    "from models.sfcn_grade import *\n",
    "from models.resnet import *\n",
    "from models.inception_resnet_v2 import *\n",
    "from models.densenet import *\n",
    "import types\n",
    "from scipy.stats import pearsonr, spearmanr\n",
    "import torchio as tio\n",
    "from datetime import datetime\n",
    "import wandb\n",
    "from models.ranking_loss import *\n",
    "from models.focalloss import *"
   ]
  },
  {
   "cell_type": "code",
   "execution_count": 3,
   "id": "7f0a9eef",
   "metadata": {},
   "outputs": [],
   "source": [
    "RANDOM_SEED = 551"
   ]
  },
  {
   "cell_type": "code",
   "execution_count": 4,
   "id": "0e96349f",
   "metadata": {},
   "outputs": [],
   "source": [
    "# control randomness\n",
    "def set_seed(random_seed=551):\n",
    "    torch.manual_seed(random_seed)\n",
    "    torch.cuda.manual_seed(random_seed)\n",
    "    torch.cuda.manual_seed_all(random_seed)\n",
    "    np.random.seed(random_seed)\n",
    "    cudnn.benchmark = False\n",
    "    cudnn.deterministic = True\n",
    "    random.seed(random_seed)"
   ]
  },
  {
   "cell_type": "code",
   "execution_count": 5,
   "id": "f7a34af8",
   "metadata": {},
   "outputs": [],
   "source": [
    "def load_data(img_dir, label_dir, std=False, norm=True):\n",
    "    df = pd.read_csv(label_dir, index_col=0)\n",
    "    filenames = df.index\n",
    "    images = []\n",
    "    for i, index in enumerate(filenames):\n",
    "        # normalized images\n",
    "        file_name = img_dir + index + '.npy'\n",
    "        img = np.load(file_name)\n",
    "        x, y, z = img.shape\n",
    "        if std:\n",
    "            m = np.mean(img)\n",
    "            s = np.std(img)\n",
    "            img = (img - m) / s\n",
    "        if norm:\n",
    "            img = (img - img.min()) / (img.max() - img.min())\n",
    "        img = img.reshape((1, x, y, z))\n",
    "        images.append(img)\n",
    "    return images, df"
   ]
  },
  {
   "cell_type": "code",
   "execution_count": 6,
   "id": "f736886e",
   "metadata": {},
   "outputs": [],
   "source": [
    "# augmentation\n",
    "def get_augmentation_transform():\n",
    "    random_rotate = tio.RandomAffine(scales=(1.0, 1.0),\n",
    "                                     degrees=12,)\n",
    "    random_flip = tio.RandomFlip(axes='LR',\n",
    "                                 flip_probability=0.5)\n",
    "    random_shift = tio.RandomAffine(scales=(1.0, 1.0),\n",
    "                                    degrees=0,\n",
    "                                    translation=(20,20,20))\n",
    "    compose = tio.transforms.Compose([random_rotate, random_flip, random_shift])\n",
    "    augment = tio.transforms.OneOf([random_rotate, random_flip, random_shift, compose])\n",
    "    return augment"
   ]
  },
  {
   "cell_type": "code",
   "execution_count": 7,
   "id": "86ca0257",
   "metadata": {},
   "outputs": [],
   "source": [
    "class SEBlock(nn.Module):\n",
    "    \n",
    "    def __init__(self, in_channels, r=16):\n",
    "        super(SEBlock, self).__init__()\n",
    "        self.squeeze = nn.AdaptiveAvgPool3d(1)\n",
    "        self.excitation = nn.Sequential(\n",
    "            nn.Linear(in_channels, in_channels//r),\n",
    "            nn.ReLU(),\n",
    "            nn.Linear(in_channels//r, in_channels),\n",
    "            nn.Sigmoid())\n",
    "        \n",
    "    def forward(self, x):\n",
    "        x = self.squeeze(x)\n",
    "        x = x.view(x.size(0), -1)\n",
    "        x = self.excitation(x)\n",
    "        x = x.view(x.size(0), x.size(1), 1, 1, 1)\n",
    "        return x"
   ]
  },
  {
   "cell_type": "code",
   "execution_count": 8,
   "id": "2caeb213",
   "metadata": {},
   "outputs": [],
   "source": [
    "img_dir = 'img_npy/'\n",
    "label_dir = 'labels/data_grade_foruse.csv'\n",
    "label_name = ['Cerebral WM Hypointensities* Total Percent Of Icv', 'Cortical Gray Matter Total Percent Of Icv', 'GRADE']"
   ]
  },
  {
   "cell_type": "code",
   "execution_count": 9,
   "id": "3175e7a2",
   "metadata": {},
   "outputs": [],
   "source": [
    "weight_decay = 1e-6 #0.01\n",
    "lr = 0.0001\n",
    "epochs = 100\n",
    "batch_size = 16\n",
    "optimizer = optim.Adam\n",
    "dropout_rate = 0.5\n",
    "test_size = 0.2\n",
    "# scheduler = optim.lr_scheduler.MultiplicativeLR(optimizer=optimizer,\n",
    "#                                                lr_lambda=lambda epoch: 0.3 ** epoch)"
   ]
  },
  {
   "cell_type": "code",
   "execution_count": 10,
   "id": "2eb08047",
   "metadata": {
    "scrolled": true
   },
   "outputs": [
    {
     "name": "stdout",
     "output_type": "stream",
     "text": [
      "Device: cuda\n",
      "Current cuda device: 0\n",
      "Count of using GPUs: 1\n"
     ]
    }
   ],
   "source": [
    "device = torch.device(\"cuda\" if torch.cuda.is_available() else \"cpu\")\n",
    "print('Device:', device)\n",
    "print('Current cuda device:', torch.cuda.current_device())\n",
    "print('Count of using GPUs:', torch.cuda.device_count())"
   ]
  },
  {
   "cell_type": "code",
   "execution_count": 11,
   "id": "2a308ae7",
   "metadata": {},
   "outputs": [],
   "source": [
    "class NeckDataset(Dataset):\n",
    "    def __init__(self, index, X=None, y=None, transform=None):\n",
    "        self.X = X\n",
    "        self.y1 = y[index[0]].values  # 'Cerebral WM Hypointensities* Total Percent Of Icv'\n",
    "        self.y2 = y[index[1]].values  # 'Cortical Gray Matter Total Percent Of Icv'\n",
    "#         self.y3 = y[index[2]].values  # 'GRADE'\n",
    "        self.transform = transform\n",
    "        \n",
    "    def __len__(self):\n",
    "        return len(self.X)\n",
    "    \n",
    "    def __getitem__(self, idx):\n",
    "        image = torch.FloatTensor(self.X[idx])\n",
    "        label1 = torch.FloatTensor(self.y1)[idx]\n",
    "        label2 = torch.FloatTensor(self.y2)[idx]\n",
    "#         label3 = torch.LongTensor(self.y3)[idx]\n",
    "        if self.transform is not None:\n",
    "            image = self.transform(image)\n",
    "#         return [image, label1, label2, label3]\n",
    "        return [image, label1, label2]"
   ]
  },
  {
   "cell_type": "code",
   "execution_count": 12,
   "id": "2df07024",
   "metadata": {},
   "outputs": [],
   "source": [
    "def train(model, train_loader, lr, weight_decay, optim_class=optim.AdamW, scheduler=None, sorter='sodeep/weights/best_model_gruc.pth.tar'):\n",
    "#     criterion1 = nn.L1Loss()\n",
    "    criterion1 = rank_difference_loss(sorter)\n",
    "#     criterion2 = nn.L1Loss()\n",
    "    criterion2 = rank_difference_loss(sorter)\n",
    "#     criterion3 = nn.CrossEntropyLoss()\n",
    "#     criterion3 = FocalLoss(gamma=5)\n",
    "        \n",
    "    optimizer = optim_class(model.parameters(), lr=lr, weight_decay=weight_decay)\n",
    "    \n",
    "    total_loss = 0\n",
    "    correct = 0\n",
    "    \n",
    "    model.train()\n",
    "    for inputs, labels1, labels2 in tqdm(train_loader):              \n",
    "        \n",
    "        # move data to the GPU\n",
    "        inputs = inputs.to(device)\n",
    "        labels1 = labels1.to(device)\n",
    "        labels2 = labels2.to(device)\n",
    "#         labels3 = labels3.to(device)\n",
    "        \n",
    "        # clear previous gradient computation\n",
    "        optimizer.zero_grad()\n",
    "\n",
    "        # forward prop\n",
    "        output1, output2 = model(inputs)\n",
    "#         print('y: {} / y hat: {}'.format(labels, output))\n",
    "            \n",
    "        # calculate loss with cost function\n",
    "        loss1 = criterion1(output1, labels1.unsqueeze(1).float())\n",
    "        loss2 = criterion2(output2, labels2.unsqueeze(1).float())\n",
    "#         loss3 = criterion3(output3, labels3)\n",
    "        loss = loss1 + loss2\n",
    "        \n",
    "        # back prop\n",
    "        loss.backward()\n",
    "        \n",
    "        # update model weights\n",
    "        optimizer.step()\n",
    "        if scheduler:\n",
    "            scheduler.step()\n",
    "        \n",
    "        # accumulate loss\n",
    "        total_loss += loss.data.item()\n",
    "        \n",
    "#         # accumulate correlation\n",
    "        \n",
    "#         # accumulate correct count\n",
    "#         _, preds = torch.max(output3, 1)\n",
    "#         correct += torch.sum(preds == labels.data)\n",
    "                \n",
    "        gc.collect()\n",
    "        torch.cuda.empty_cache()\n",
    "        \n",
    "    return total_loss"
   ]
  },
  {
   "cell_type": "code",
   "execution_count": 13,
   "id": "6b20c8c8",
   "metadata": {},
   "outputs": [],
   "source": [
    "def valid(model, valid_loader, sorter='sodeep/weights/best_model_gruc.pth.tar'):\n",
    "#     criterion1 = nn.L1Loss()\n",
    "    criterion1 = rank_difference_loss(sorter)\n",
    "#     criterion2 = nn.L1Loss()\n",
    "    criterion2 = rank_difference_loss(sorter)\n",
    "#     criterion3 = nn.CrossEntropyLoss()\n",
    "#     criterion3 = FocalLoss(gamma=5)\n",
    "    \n",
    "    total_loss = 0\n",
    "    correct = 0\n",
    "    \n",
    "    model.eval()\n",
    "    with torch.no_grad():\n",
    "        for inputs, labels1, labels2 in tqdm(valid_loader):\n",
    "            \n",
    "            # move data to the GPU\n",
    "            inputs = inputs.to(device)\n",
    "            labels1 = labels1.to(device)\n",
    "            labels2 = labels2.to(device)\n",
    "#             labels3 = labels3.to(device)\n",
    "\n",
    "            # forward prop\n",
    "            output1, output2 = model(inputs)\n",
    "\n",
    "            # calculate loss with cost function\n",
    "            loss1 = criterion1(output1, labels1.unsqueeze(1).float())\n",
    "            loss2 = criterion2(output2, labels2.unsqueeze(1).float())\n",
    "#             loss3 = criterion3(output3, labels3)\n",
    "            loss = loss1 + loss2\n",
    "            \n",
    "            # accumulate loss\n",
    "            total_loss += loss.data.item()\n",
    "            \n",
    "#             # accumulate correct count\n",
    "#             _, preds = torch.max(output, 1)\n",
    "#             correct += torch.sum(preds == labels.data)\n",
    "                    \n",
    "    return total_loss"
   ]
  },
  {
   "cell_type": "markdown",
   "id": "79cccf1f",
   "metadata": {},
   "source": [
    "---"
   ]
  },
  {
   "cell_type": "code",
   "execution_count": 14,
   "id": "403853df",
   "metadata": {},
   "outputs": [],
   "source": [
    "# load data\n",
    "X, y = load_data(img_dir, label_dir, std=False, norm=True)  # std=False, norm=True\n",
    "\n",
    "# initialize seed\n",
    "set_seed()\n",
    "\n",
    "# train / test split\n",
    "X_train, X_test, y_train, y_test = train_test_split(X, y, test_size=test_size)"
   ]
  },
  {
   "cell_type": "code",
   "execution_count": 15,
   "id": "693f2887",
   "metadata": {},
   "outputs": [],
   "source": [
    "# train set\n",
    "train_set = NeckDataset(label_name, X_train, y_train)\n",
    "train_loader = DataLoader(train_set, batch_size=batch_size, num_workers=16, shuffle=True)"
   ]
  },
  {
   "cell_type": "code",
   "execution_count": 16,
   "id": "4638446b",
   "metadata": {},
   "outputs": [],
   "source": [
    "# validation set\n",
    "valid_set = NeckDataset(label_name, X_test, y_test)\n",
    "valid_loader = DataLoader(valid_set, batch_size=batch_size, num_workers=16, shuffle=False)"
   ]
  },
  {
   "cell_type": "code",
   "execution_count": null,
   "id": "13f1b29d",
   "metadata": {},
   "outputs": [],
   "source": [
    "# # plot class distribution histogram\n",
    "# plt.figure(figsize=(10,4))\n",
    "\n",
    "# y_train, y_test = [], []\n",
    "# for _, data in train_set:\n",
    "#     y_train.append(data)\n",
    "# for _, data in valid_set:\n",
    "#     y_test.append(data)\n",
    "\n",
    "# plt.subplot(1,2,1)\n",
    "# plt.title('Class distribution in Train Set')\n",
    "# plt.hist(y_train)\n",
    "\n",
    "# plt.subplot(1,2,2)\n",
    "# plt.title('Class distribution in Validation Set')\n",
    "# plt.hist(y_test)\n",
    "\n",
    "# plt.show()\n",
    "# plt.close()"
   ]
  },
  {
   "cell_type": "code",
   "execution_count": 17,
   "id": "9463cb03",
   "metadata": {},
   "outputs": [
    {
     "ename": "ValueError",
     "evalue": "not enough values to unpack (expected 4, got 3)",
     "output_type": "error",
     "traceback": [
      "\u001b[0;31m---------------------------------------------------------------------------\u001b[0m",
      "\u001b[0;31mValueError\u001b[0m                                Traceback (most recent call last)",
      "Input \u001b[0;32mIn [17]\u001b[0m, in \u001b[0;36m<cell line: 4>\u001b[0;34m()\u001b[0m\n\u001b[1;32m      1\u001b[0m \u001b[38;5;66;03m# only for classification\u001b[39;00m\n\u001b[1;32m      2\u001b[0m \u001b[38;5;28;01mfrom\u001b[39;00m \u001b[38;5;21;01mtorch\u001b[39;00m\u001b[38;5;21;01m.\u001b[39;00m\u001b[38;5;21;01mautograd\u001b[39;00m \u001b[38;5;28;01mimport\u001b[39;00m Variable\n\u001b[0;32m----> 4\u001b[0m \u001b[38;5;28;01mfor\u001b[39;00m images, _, _, labels3 \u001b[38;5;129;01min\u001b[39;00m valid_loader:\n\u001b[1;32m      5\u001b[0m     i, l \u001b[38;5;241m=\u001b[39m Variable(images), Variable(labels3)\n\u001b[1;32m      6\u001b[0m     \u001b[38;5;28mprint\u001b[39m(i\u001b[38;5;241m.\u001b[39msize())\n",
      "\u001b[0;31mValueError\u001b[0m: not enough values to unpack (expected 4, got 3)"
     ]
    }
   ],
   "source": [
    "# only for classification\n",
    "from torch.autograd import Variable\n",
    "\n",
    "for images, _, _, labels3 in valid_loader:\n",
    "    i, l = Variable(images), Variable(labels3)\n",
    "    print(i.size())\n",
    "    i = i.cpu().numpy()\n",
    "    l = l.cpu().numpy()\n",
    "    if l[0]==0:\n",
    "        print('Label = {} : absent image'.format(l[0]))\n",
    "    elif l[0]==1:\n",
    "        print('Label = {} : punctate foci image'.format(l[0]))\n",
    "    elif l[0]==2:\n",
    "        print('Label = {} : beginning confluence image'.format(l[0]))\n",
    "    else:\n",
    "        print('Label = {} : large confluent areas image'.format(l[0]))\n",
    "    plt.imshow(np.max(i[0].squeeze(), axis=1))\n",
    "    plt.show()"
   ]
  },
  {
   "cell_type": "code",
   "execution_count": null,
   "id": "939b5fe2",
   "metadata": {},
   "outputs": [],
   "source": [
    "class ShallowNet(nn.Module):\n",
    "\n",
    "    def __init__(self, depth=1, classes=4):\n",
    "        super(ShallowNet, self).__init__()\n",
    "        \n",
    "        self.feature_extractor = nn.Sequential()\n",
    "        \n",
    "        conv1 = nn.Sequential(\n",
    "            nn.Conv3d(in_channels=depth, out_channels=32, kernel_size=3, stride=1, padding=1),\n",
    "            nn.BatchNorm3d(32),\n",
    "            nn.MaxPool3d(kernel_size=2, stride=2),\n",
    "            nn.ReLU())\n",
    "        \n",
    "#         conv2 = nn.Sequential(\n",
    "#             nn.Conv3d(in_channels=32, out_channels=64, kernel_size=3, stride=1, padding=1),\n",
    "#             nn.BatchNorm3d(64),\n",
    "#             nn.MaxPool3d(kernel_size=2, stride=2),\n",
    "#             nn.ReLU())\n",
    "        \n",
    "#         conv3 = nn.Sequential(\n",
    "#             nn.Conv3d(in_channels=64, out_channels=64, kernel_size=1, stride=1),\n",
    "#             nn.BatchNorm3d(64),\n",
    "#             nn.ReLU())\n",
    "        \n",
    "        conv2 = nn.Sequential(\n",
    "            nn.Conv3d(in_channels=32, out_channels=64, kernel_size=3, stride=1),\n",
    "            nn.BatchNorm3d(64),\n",
    "            nn.ReLU())\n",
    "        \n",
    "        self.feature_extractor.add_module('conv1', conv1)\n",
    "        self.feature_extractor.add_module('conv2', conv2)\n",
    "#         self.feature_extractor.add_module('conv3', conv3)\n",
    "        \n",
    "        self.classifier = nn.Sequential(\n",
    "            nn.AvgPool3d([15,6,9]),\n",
    "            nn.Dropout(p=0.5, inplace=False),\n",
    "            nn.Conv3d(in_channels=64, out_channels=64, kernel_size=1, stride=1)\n",
    "        )\n",
    "        \n",
    "#         self.fc1 = nn.Linear(768, classes)\n",
    "        self.fc1 = nn.Linear(9600, classes)\n",
    "\n",
    "    def forward(self, x):\n",
    "        \n",
    "        x = self.feature_extractor(x)\n",
    "        x = self.classifier(x)\n",
    "        x = x.view(x.size(0), -1)\n",
    "        x = self.fc1(x)\n",
    "        return x"
   ]
  },
  {
   "cell_type": "code",
   "execution_count": 19,
   "id": "0680d625",
   "metadata": {},
   "outputs": [],
   "source": [
    "class ShallowNet2(nn.Module):\n",
    "\n",
    "    def __init__(self, depth=1, classes=4):\n",
    "        super(ShallowNet2, self).__init__()\n",
    "        \n",
    "        self.conv1 = nn.Sequential(\n",
    "            nn.Conv3d(in_channels=depth, out_channels=32, kernel_size=3, stride=1, padding=1),\n",
    "            nn.BatchNorm3d(32),\n",
    "            nn.MaxPool3d(kernel_size=2, stride=2),\n",
    "            nn.ReLU())\n",
    "        \n",
    "        self.conv2 = nn.Sequential(\n",
    "            nn.Conv3d(in_channels=32, out_channels=64, kernel_size=3, stride=1, padding=1),\n",
    "            nn.BatchNorm3d(64),\n",
    "            nn.ReLU())\n",
    "        \n",
    "        self.classifier = nn.Sequential(\n",
    "            nn.AvgPool3d([15,6,9]),\n",
    "            nn.Dropout(p=0.5, inplace=False),\n",
    "            nn.Conv3d(in_channels=64, out_channels=64, kernel_size=1, stride=1)\n",
    "        )\n",
    "        \n",
    "        self.fc1 = nn.Sequential(\n",
    "            nn.Linear(11200, 11200),\n",
    "            nn.ReLU(),\n",
    "            nn.Linear(11200, 1))  # Cerebral WM Hypointensities* Total Percent Of Icv\n",
    "        self.fc2 = nn.Sequential(\n",
    "            nn.Linear(11200, 11200),\n",
    "            nn.ReLU(),\n",
    "            nn.Linear(11200, 1))  # Cortical Gray Matter Total Percent Of Icv\n",
    "#         self.fc3 = nn.Sequential(\n",
    "#             nn.Linear(11200, 11200),\n",
    "#             nn.ReLU(),\n",
    "#             nn.Linear(11200, classes))  # GRADE\n",
    "\n",
    "    def forward(self, x):\n",
    "        \n",
    "        x = self.conv1(x)\n",
    "        x = self.conv2(x)\n",
    "        x = self.classifier(x)\n",
    "        x = x.view(x.size(0), -1)\n",
    "#         x = x.view(-1, x.size(0))\n",
    "\n",
    "        wmh_head = self.fc1(x)\n",
    "        gm_head = self.fc2(x)\n",
    "#         wmh_grade_head = self.fc3(x)\n",
    "#         return wmh_head, gm_head, wmh_grade_head\n",
    "        return wmh_head, gm_head"
   ]
  },
  {
   "cell_type": "code",
   "execution_count": 20,
   "id": "5ef54d5e",
   "metadata": {
    "scrolled": true
   },
   "outputs": [
    {
     "data": {
      "text/plain": [
       "ShallowNet2(\n",
       "  (conv1): Sequential(\n",
       "    (0): Conv3d(1, 32, kernel_size=(3, 3, 3), stride=(1, 1, 1), padding=(1, 1, 1))\n",
       "    (1): BatchNorm3d(32, eps=1e-05, momentum=0.1, affine=True, track_running_stats=True)\n",
       "    (2): MaxPool3d(kernel_size=2, stride=2, padding=0, dilation=1, ceil_mode=False)\n",
       "    (3): ReLU()\n",
       "  )\n",
       "  (conv2): Sequential(\n",
       "    (0): Conv3d(32, 64, kernel_size=(3, 3, 3), stride=(1, 1, 1), padding=(1, 1, 1))\n",
       "    (1): BatchNorm3d(64, eps=1e-05, momentum=0.1, affine=True, track_running_stats=True)\n",
       "    (2): ReLU()\n",
       "  )\n",
       "  (classifier): Sequential(\n",
       "    (0): AvgPool3d(kernel_size=[15, 6, 9], stride=[15, 6, 9], padding=0)\n",
       "    (1): Dropout(p=0.5, inplace=False)\n",
       "    (2): Conv3d(64, 64, kernel_size=(1, 1, 1), stride=(1, 1, 1))\n",
       "  )\n",
       "  (fc1): Sequential(\n",
       "    (0): Linear(in_features=11200, out_features=11200, bias=True)\n",
       "    (1): ReLU()\n",
       "    (2): Linear(in_features=11200, out_features=1, bias=True)\n",
       "  )\n",
       "  (fc2): Sequential(\n",
       "    (0): Linear(in_features=11200, out_features=11200, bias=True)\n",
       "    (1): ReLU()\n",
       "    (2): Linear(in_features=11200, out_features=1, bias=True)\n",
       "  )\n",
       ")"
      ]
     },
     "execution_count": 20,
     "metadata": {},
     "output_type": "execute_result"
    }
   ],
   "source": [
    "set_seed()\n",
    "\n",
    "# #### model: custom simple net ####\n",
    "# model = ShallowNet(depth=1, classes=4)\n",
    "# ##################################\n",
    "\n",
    "#### model: custom simple net ####\n",
    "model = ShallowNet2(depth=1, classes=4)\n",
    "##################################\n",
    "\n",
    "# #### model: custom simple net ####\n",
    "# model = CustomNet(depth=1, classes=4)\n",
    "# ##################################\n",
    "\n",
    "# #### model: simple net, last layer no activation function ####\n",
    "# model = SFCN(output_dim=4)\n",
    "# if dropout_rate != 0.5:\n",
    "#     model.classifier.dropout.p = dropout_rate\n",
    "# ###########################\n",
    "\n",
    "# #### model: simple SE net ####\n",
    "# model = SFCN()\n",
    "# if dropout_rate != 0.5:\n",
    "#     model.classifier.dropout.p = dropout_rate\n",
    "# model.seblock = SEBlock(64)\n",
    "# model.forward = types.MethodType(forward, model)\n",
    "# ##############################\n",
    "\n",
    "# #### model: resnet26 ####\n",
    "# model = resnet26(in_channels=1, num_classes=4)\n",
    "# #########################\n",
    "\n",
    "# #### model: inception-resnet-v2 ####\n",
    "# model = inception_resnet_v2(in_channels=1, num_classes=1)\n",
    "# ####################################\n",
    "\n",
    "# #### model: densenet ####\n",
    "# model = densenet(121, in_channels=1, num_classes=1)\n",
    "# #########################\n",
    "\n",
    "model"
   ]
  },
  {
   "cell_type": "code",
   "execution_count": 21,
   "id": "5f4bcde9",
   "metadata": {
    "scrolled": true
   },
   "outputs": [
    {
     "name": "stderr",
     "output_type": "stream",
     "text": [
      "Failed to detect the name of this notebook, you can set it manually with the WANDB_NOTEBOOK_NAME environment variable to enable code saving.\n",
      "\u001b[34m\u001b[1mwandb\u001b[0m: Currently logged in as: \u001b[33mhei-jung\u001b[0m. Use \u001b[1m`wandb login --relogin`\u001b[0m to force relogin\n"
     ]
    },
    {
     "data": {
      "text/html": [
       "wandb version 0.13.8 is available!  To upgrade, please run:\n",
       " $ pip install wandb --upgrade"
      ],
      "text/plain": [
       "<IPython.core.display.HTML object>"
      ]
     },
     "metadata": {},
     "output_type": "display_data"
    },
    {
     "data": {
      "text/html": [
       "Tracking run with wandb version 0.12.21"
      ],
      "text/plain": [
       "<IPython.core.display.HTML object>"
      ]
     },
     "metadata": {},
     "output_type": "display_data"
    },
    {
     "data": {
      "text/html": [
       "Run data is saved locally in <code>/home/jhj/Desktop/HJ_RESEARCH/snu_brain_disease/wandb/run-20230111_144014-30zyopjy</code>"
      ],
      "text/plain": [
       "<IPython.core.display.HTML object>"
      ]
     },
     "metadata": {},
     "output_type": "display_data"
    },
    {
     "data": {
      "text/html": [
       "Syncing run <strong><a href=\"https://wandb.ai/hei-jung/multitask-test/runs/30zyopjy\" target=\"_blank\">dandy-field-5</a></strong> to <a href=\"https://wandb.ai/hei-jung/multitask-test\" target=\"_blank\">Weights & Biases</a> (<a href=\"https://wandb.me/run\" target=\"_blank\">docs</a>)<br/>"
      ],
      "text/plain": [
       "<IPython.core.display.HTML object>"
      ]
     },
     "metadata": {},
     "output_type": "display_data"
    },
    {
     "name": "stdout",
     "output_type": "stream",
     "text": [
      "# Epoch 1 / 100\n"
     ]
    },
    {
     "name": "stderr",
     "output_type": "stream",
     "text": [
      "100%|███████████████████████████████████████████| 41/41 [00:26<00:00,  1.57it/s]\n",
      "100%|███████████████████████████████████████████| 11/11 [00:02<00:00,  5.22it/s]\n"
     ]
    },
    {
     "name": "stdout",
     "output_type": "stream",
     "text": [
      "# Epoch 2 / 100\n"
     ]
    },
    {
     "name": "stderr",
     "output_type": "stream",
     "text": [
      "100%|███████████████████████████████████████████| 41/41 [00:25<00:00,  1.63it/s]\n",
      "100%|███████████████████████████████████████████| 11/11 [00:02<00:00,  4.88it/s]\n"
     ]
    },
    {
     "name": "stdout",
     "output_type": "stream",
     "text": [
      "# Epoch 3 / 100\n"
     ]
    },
    {
     "name": "stderr",
     "output_type": "stream",
     "text": [
      "100%|███████████████████████████████████████████| 41/41 [00:26<00:00,  1.56it/s]\n",
      "100%|███████████████████████████████████████████| 11/11 [00:02<00:00,  5.05it/s]\n"
     ]
    },
    {
     "name": "stdout",
     "output_type": "stream",
     "text": [
      "# Epoch 4 / 100\n"
     ]
    },
    {
     "name": "stderr",
     "output_type": "stream",
     "text": [
      "100%|███████████████████████████████████████████| 41/41 [00:26<00:00,  1.57it/s]\n",
      "100%|███████████████████████████████████████████| 11/11 [00:02<00:00,  5.06it/s]\n"
     ]
    },
    {
     "name": "stdout",
     "output_type": "stream",
     "text": [
      "# Epoch 5 / 100\n"
     ]
    },
    {
     "name": "stderr",
     "output_type": "stream",
     "text": [
      "100%|███████████████████████████████████████████| 41/41 [00:26<00:00,  1.54it/s]\n",
      "100%|███████████████████████████████████████████| 11/11 [00:02<00:00,  4.89it/s]\n"
     ]
    },
    {
     "name": "stdout",
     "output_type": "stream",
     "text": [
      "# Epoch 6 / 100\n"
     ]
    },
    {
     "name": "stderr",
     "output_type": "stream",
     "text": [
      "100%|███████████████████████████████████████████| 41/41 [00:26<00:00,  1.54it/s]\n",
      "100%|███████████████████████████████████████████| 11/11 [00:02<00:00,  5.00it/s]\n"
     ]
    },
    {
     "name": "stdout",
     "output_type": "stream",
     "text": [
      "# Epoch 7 / 100\n"
     ]
    },
    {
     "name": "stderr",
     "output_type": "stream",
     "text": [
      "100%|███████████████████████████████████████████| 41/41 [00:25<00:00,  1.59it/s]\n",
      "100%|███████████████████████████████████████████| 11/11 [00:02<00:00,  4.97it/s]\n"
     ]
    },
    {
     "name": "stdout",
     "output_type": "stream",
     "text": [
      "# Epoch 8 / 100\n"
     ]
    },
    {
     "name": "stderr",
     "output_type": "stream",
     "text": [
      "100%|███████████████████████████████████████████| 41/41 [00:26<00:00,  1.55it/s]\n",
      "100%|███████████████████████████████████████████| 11/11 [00:02<00:00,  4.91it/s]\n"
     ]
    },
    {
     "name": "stdout",
     "output_type": "stream",
     "text": [
      "# Epoch 9 / 100\n"
     ]
    },
    {
     "name": "stderr",
     "output_type": "stream",
     "text": [
      "100%|███████████████████████████████████████████| 41/41 [00:28<00:00,  1.46it/s]\n",
      "100%|███████████████████████████████████████████| 11/11 [00:02<00:00,  5.29it/s]\n"
     ]
    },
    {
     "name": "stdout",
     "output_type": "stream",
     "text": [
      "# Epoch 10 / 100\n"
     ]
    },
    {
     "name": "stderr",
     "output_type": "stream",
     "text": [
      "100%|███████████████████████████████████████████| 41/41 [00:28<00:00,  1.44it/s]\n",
      "100%|███████████████████████████████████████████| 11/11 [00:02<00:00,  5.19it/s]\n"
     ]
    },
    {
     "name": "stdout",
     "output_type": "stream",
     "text": [
      "# Epoch 11 / 100\n"
     ]
    },
    {
     "name": "stderr",
     "output_type": "stream",
     "text": [
      "100%|███████████████████████████████████████████| 41/41 [00:27<00:00,  1.46it/s]\n",
      "100%|███████████████████████████████████████████| 11/11 [00:02<00:00,  4.77it/s]\n"
     ]
    },
    {
     "name": "stdout",
     "output_type": "stream",
     "text": [
      "# Epoch 12 / 100\n"
     ]
    },
    {
     "name": "stderr",
     "output_type": "stream",
     "text": [
      "100%|███████████████████████████████████████████| 41/41 [00:26<00:00,  1.58it/s]\n",
      "100%|███████████████████████████████████████████| 11/11 [00:02<00:00,  5.03it/s]\n"
     ]
    },
    {
     "name": "stdout",
     "output_type": "stream",
     "text": [
      "# Epoch 13 / 100\n"
     ]
    },
    {
     "name": "stderr",
     "output_type": "stream",
     "text": [
      "100%|███████████████████████████████████████████| 41/41 [00:26<00:00,  1.56it/s]\n",
      "100%|███████████████████████████████████████████| 11/11 [00:02<00:00,  5.34it/s]\n"
     ]
    },
    {
     "name": "stdout",
     "output_type": "stream",
     "text": [
      "# Epoch 14 / 100\n"
     ]
    },
    {
     "name": "stderr",
     "output_type": "stream",
     "text": [
      "100%|███████████████████████████████████████████| 41/41 [00:25<00:00,  1.58it/s]\n",
      "100%|███████████████████████████████████████████| 11/11 [00:02<00:00,  5.12it/s]\n"
     ]
    },
    {
     "name": "stdout",
     "output_type": "stream",
     "text": [
      "# Epoch 15 / 100\n"
     ]
    },
    {
     "name": "stderr",
     "output_type": "stream",
     "text": [
      "100%|███████████████████████████████████████████| 41/41 [00:26<00:00,  1.53it/s]\n",
      "100%|███████████████████████████████████████████| 11/11 [00:02<00:00,  4.90it/s]\n"
     ]
    },
    {
     "name": "stdout",
     "output_type": "stream",
     "text": [
      "# Epoch 16 / 100\n"
     ]
    },
    {
     "name": "stderr",
     "output_type": "stream",
     "text": [
      "100%|███████████████████████████████████████████| 41/41 [00:25<00:00,  1.58it/s]\n",
      "100%|███████████████████████████████████████████| 11/11 [00:02<00:00,  4.57it/s]\n"
     ]
    },
    {
     "name": "stdout",
     "output_type": "stream",
     "text": [
      "# Epoch 17 / 100\n"
     ]
    },
    {
     "name": "stderr",
     "output_type": "stream",
     "text": [
      "100%|███████████████████████████████████████████| 41/41 [00:26<00:00,  1.56it/s]\n",
      "100%|███████████████████████████████████████████| 11/11 [00:02<00:00,  5.35it/s]\n"
     ]
    },
    {
     "name": "stdout",
     "output_type": "stream",
     "text": [
      "# Epoch 18 / 100\n"
     ]
    },
    {
     "name": "stderr",
     "output_type": "stream",
     "text": [
      "100%|███████████████████████████████████████████| 41/41 [00:26<00:00,  1.53it/s]\n",
      "100%|███████████████████████████████████████████| 11/11 [00:02<00:00,  5.35it/s]\n"
     ]
    },
    {
     "name": "stdout",
     "output_type": "stream",
     "text": [
      "# Epoch 19 / 100\n"
     ]
    },
    {
     "name": "stderr",
     "output_type": "stream",
     "text": [
      "100%|███████████████████████████████████████████| 41/41 [00:27<00:00,  1.51it/s]\n",
      "100%|███████████████████████████████████████████| 11/11 [00:02<00:00,  5.26it/s]\n"
     ]
    },
    {
     "name": "stdout",
     "output_type": "stream",
     "text": [
      "# Epoch 20 / 100\n"
     ]
    },
    {
     "name": "stderr",
     "output_type": "stream",
     "text": [
      "100%|███████████████████████████████████████████| 41/41 [00:27<00:00,  1.48it/s]\n",
      "100%|███████████████████████████████████████████| 11/11 [00:02<00:00,  5.03it/s]\n"
     ]
    },
    {
     "name": "stdout",
     "output_type": "stream",
     "text": [
      "# Epoch 21 / 100\n"
     ]
    },
    {
     "name": "stderr",
     "output_type": "stream",
     "text": [
      "100%|███████████████████████████████████████████| 41/41 [00:29<00:00,  1.41it/s]\n",
      "100%|███████████████████████████████████████████| 11/11 [00:02<00:00,  4.84it/s]\n"
     ]
    },
    {
     "name": "stdout",
     "output_type": "stream",
     "text": [
      "# Epoch 22 / 100\n"
     ]
    },
    {
     "name": "stderr",
     "output_type": "stream",
     "text": [
      "100%|███████████████████████████████████████████| 41/41 [00:27<00:00,  1.52it/s]\n",
      "100%|███████████████████████████████████████████| 11/11 [00:02<00:00,  5.12it/s]\n"
     ]
    },
    {
     "name": "stdout",
     "output_type": "stream",
     "text": [
      "# Epoch 23 / 100\n"
     ]
    },
    {
     "name": "stderr",
     "output_type": "stream",
     "text": [
      "100%|███████████████████████████████████████████| 41/41 [00:28<00:00,  1.44it/s]\n",
      "100%|███████████████████████████████████████████| 11/11 [00:02<00:00,  4.93it/s]\n"
     ]
    },
    {
     "name": "stdout",
     "output_type": "stream",
     "text": [
      "# Epoch 24 / 100\n"
     ]
    },
    {
     "name": "stderr",
     "output_type": "stream",
     "text": [
      "100%|███████████████████████████████████████████| 41/41 [00:27<00:00,  1.49it/s]\n",
      "100%|███████████████████████████████████████████| 11/11 [00:02<00:00,  4.61it/s]\n"
     ]
    },
    {
     "name": "stdout",
     "output_type": "stream",
     "text": [
      "# Epoch 25 / 100\n"
     ]
    },
    {
     "name": "stderr",
     "output_type": "stream",
     "text": [
      "100%|███████████████████████████████████████████| 41/41 [00:27<00:00,  1.49it/s]\n",
      "100%|███████████████████████████████████████████| 11/11 [00:02<00:00,  5.44it/s]\n"
     ]
    },
    {
     "name": "stdout",
     "output_type": "stream",
     "text": [
      "# Epoch 26 / 100\n"
     ]
    },
    {
     "name": "stderr",
     "output_type": "stream",
     "text": [
      "100%|███████████████████████████████████████████| 41/41 [00:27<00:00,  1.48it/s]\n",
      "100%|███████████████████████████████████████████| 11/11 [00:02<00:00,  5.06it/s]\n"
     ]
    },
    {
     "name": "stdout",
     "output_type": "stream",
     "text": [
      "# Epoch 27 / 100\n"
     ]
    },
    {
     "name": "stderr",
     "output_type": "stream",
     "text": [
      "100%|███████████████████████████████████████████| 41/41 [00:27<00:00,  1.48it/s]\n",
      "100%|███████████████████████████████████████████| 11/11 [00:02<00:00,  5.37it/s]\n"
     ]
    },
    {
     "name": "stdout",
     "output_type": "stream",
     "text": [
      "# Epoch 28 / 100\n"
     ]
    },
    {
     "name": "stderr",
     "output_type": "stream",
     "text": [
      "100%|███████████████████████████████████████████| 41/41 [00:27<00:00,  1.51it/s]\n",
      "100%|███████████████████████████████████████████| 11/11 [00:02<00:00,  5.34it/s]\n"
     ]
    },
    {
     "name": "stdout",
     "output_type": "stream",
     "text": [
      "# Epoch 29 / 100\n"
     ]
    },
    {
     "name": "stderr",
     "output_type": "stream",
     "text": [
      "100%|███████████████████████████████████████████| 41/41 [00:27<00:00,  1.51it/s]\n",
      "100%|███████████████████████████████████████████| 11/11 [00:02<00:00,  5.29it/s]\n"
     ]
    },
    {
     "name": "stdout",
     "output_type": "stream",
     "text": [
      "# Epoch 30 / 100\n"
     ]
    },
    {
     "name": "stderr",
     "output_type": "stream",
     "text": [
      "100%|███████████████████████████████████████████| 41/41 [00:27<00:00,  1.50it/s]\n",
      "100%|███████████████████████████████████████████| 11/11 [00:02<00:00,  5.08it/s]\n"
     ]
    },
    {
     "name": "stdout",
     "output_type": "stream",
     "text": [
      "# Epoch 31 / 100\n"
     ]
    },
    {
     "name": "stderr",
     "output_type": "stream",
     "text": [
      "100%|███████████████████████████████████████████| 41/41 [00:27<00:00,  1.47it/s]\n",
      "100%|███████████████████████████████████████████| 11/11 [00:02<00:00,  5.27it/s]\n"
     ]
    },
    {
     "name": "stdout",
     "output_type": "stream",
     "text": [
      "# Epoch 32 / 100\n"
     ]
    },
    {
     "name": "stderr",
     "output_type": "stream",
     "text": [
      "100%|███████████████████████████████████████████| 41/41 [00:26<00:00,  1.54it/s]\n",
      "100%|███████████████████████████████████████████| 11/11 [00:02<00:00,  5.01it/s]\n"
     ]
    },
    {
     "name": "stdout",
     "output_type": "stream",
     "text": [
      "# Epoch 33 / 100\n"
     ]
    },
    {
     "name": "stderr",
     "output_type": "stream",
     "text": [
      "100%|███████████████████████████████████████████| 41/41 [00:27<00:00,  1.47it/s]\n",
      "100%|███████████████████████████████████████████| 11/11 [00:02<00:00,  5.22it/s]\n"
     ]
    },
    {
     "name": "stdout",
     "output_type": "stream",
     "text": [
      "# Epoch 34 / 100\n"
     ]
    },
    {
     "name": "stderr",
     "output_type": "stream",
     "text": [
      "100%|███████████████████████████████████████████| 41/41 [00:28<00:00,  1.45it/s]\n",
      "100%|███████████████████████████████████████████| 11/11 [00:02<00:00,  4.85it/s]\n"
     ]
    },
    {
     "name": "stdout",
     "output_type": "stream",
     "text": [
      "# Epoch 35 / 100\n"
     ]
    },
    {
     "name": "stderr",
     "output_type": "stream",
     "text": [
      "100%|███████████████████████████████████████████| 41/41 [00:26<00:00,  1.52it/s]\n",
      "100%|███████████████████████████████████████████| 11/11 [00:02<00:00,  5.14it/s]\n"
     ]
    },
    {
     "name": "stdout",
     "output_type": "stream",
     "text": [
      "# Epoch 36 / 100\n"
     ]
    },
    {
     "name": "stderr",
     "output_type": "stream",
     "text": [
      "100%|███████████████████████████████████████████| 41/41 [00:27<00:00,  1.50it/s]\n",
      "100%|███████████████████████████████████████████| 11/11 [00:02<00:00,  4.57it/s]\n"
     ]
    },
    {
     "name": "stdout",
     "output_type": "stream",
     "text": [
      "# Epoch 37 / 100\n"
     ]
    },
    {
     "name": "stderr",
     "output_type": "stream",
     "text": [
      "100%|███████████████████████████████████████████| 41/41 [00:27<00:00,  1.49it/s]\n",
      "100%|███████████████████████████████████████████| 11/11 [00:02<00:00,  5.06it/s]\n"
     ]
    },
    {
     "name": "stdout",
     "output_type": "stream",
     "text": [
      "# Epoch 38 / 100\n"
     ]
    },
    {
     "name": "stderr",
     "output_type": "stream",
     "text": [
      "100%|███████████████████████████████████████████| 41/41 [00:27<00:00,  1.49it/s]\n",
      "100%|███████████████████████████████████████████| 11/11 [00:02<00:00,  4.74it/s]\n"
     ]
    },
    {
     "name": "stdout",
     "output_type": "stream",
     "text": [
      "# Epoch 39 / 100\n"
     ]
    },
    {
     "name": "stderr",
     "output_type": "stream",
     "text": [
      "100%|███████████████████████████████████████████| 41/41 [00:27<00:00,  1.50it/s]\n",
      "100%|███████████████████████████████████████████| 11/11 [00:02<00:00,  4.57it/s]\n"
     ]
    },
    {
     "name": "stdout",
     "output_type": "stream",
     "text": [
      "# Epoch 40 / 100\n"
     ]
    },
    {
     "name": "stderr",
     "output_type": "stream",
     "text": [
      "100%|███████████████████████████████████████████| 41/41 [00:26<00:00,  1.52it/s]\n",
      "100%|███████████████████████████████████████████| 11/11 [00:02<00:00,  5.39it/s]\n"
     ]
    },
    {
     "name": "stdout",
     "output_type": "stream",
     "text": [
      "# Epoch 41 / 100\n"
     ]
    },
    {
     "name": "stderr",
     "output_type": "stream",
     "text": [
      "100%|███████████████████████████████████████████| 41/41 [00:27<00:00,  1.47it/s]\n",
      "100%|███████████████████████████████████████████| 11/11 [00:02<00:00,  4.83it/s]\n"
     ]
    },
    {
     "name": "stdout",
     "output_type": "stream",
     "text": [
      "# Epoch 42 / 100\n"
     ]
    },
    {
     "name": "stderr",
     "output_type": "stream",
     "text": [
      "100%|███████████████████████████████████████████| 41/41 [00:26<00:00,  1.53it/s]\n",
      "100%|███████████████████████████████████████████| 11/11 [00:02<00:00,  5.15it/s]\n"
     ]
    },
    {
     "name": "stdout",
     "output_type": "stream",
     "text": [
      "# Epoch 43 / 100\n"
     ]
    },
    {
     "name": "stderr",
     "output_type": "stream",
     "text": [
      "100%|███████████████████████████████████████████| 41/41 [00:27<00:00,  1.50it/s]\n",
      "100%|███████████████████████████████████████████| 11/11 [00:02<00:00,  4.84it/s]\n"
     ]
    },
    {
     "name": "stdout",
     "output_type": "stream",
     "text": [
      "# Epoch 44 / 100\n"
     ]
    },
    {
     "name": "stderr",
     "output_type": "stream",
     "text": [
      "100%|███████████████████████████████████████████| 41/41 [00:27<00:00,  1.50it/s]\n",
      "100%|███████████████████████████████████████████| 11/11 [00:02<00:00,  4.97it/s]\n"
     ]
    },
    {
     "name": "stdout",
     "output_type": "stream",
     "text": [
      "# Epoch 45 / 100\n"
     ]
    },
    {
     "name": "stderr",
     "output_type": "stream",
     "text": [
      "100%|███████████████████████████████████████████| 41/41 [00:27<00:00,  1.49it/s]\n",
      "100%|███████████████████████████████████████████| 11/11 [00:02<00:00,  4.99it/s]\n"
     ]
    },
    {
     "name": "stdout",
     "output_type": "stream",
     "text": [
      "# Epoch 46 / 100\n"
     ]
    },
    {
     "name": "stderr",
     "output_type": "stream",
     "text": [
      "100%|███████████████████████████████████████████| 41/41 [00:26<00:00,  1.53it/s]\n",
      "100%|███████████████████████████████████████████| 11/11 [00:02<00:00,  5.13it/s]\n"
     ]
    },
    {
     "name": "stdout",
     "output_type": "stream",
     "text": [
      "# Epoch 47 / 100\n"
     ]
    },
    {
     "name": "stderr",
     "output_type": "stream",
     "text": [
      "100%|███████████████████████████████████████████| 41/41 [00:27<00:00,  1.50it/s]\n",
      "100%|███████████████████████████████████████████| 11/11 [00:02<00:00,  5.12it/s]\n"
     ]
    },
    {
     "name": "stdout",
     "output_type": "stream",
     "text": [
      "# Epoch 48 / 100\n"
     ]
    },
    {
     "name": "stderr",
     "output_type": "stream",
     "text": [
      "100%|███████████████████████████████████████████| 41/41 [00:26<00:00,  1.53it/s]\n",
      "100%|███████████████████████████████████████████| 11/11 [00:02<00:00,  4.99it/s]\n"
     ]
    },
    {
     "name": "stdout",
     "output_type": "stream",
     "text": [
      "# Epoch 49 / 100\n"
     ]
    },
    {
     "name": "stderr",
     "output_type": "stream",
     "text": [
      "100%|███████████████████████████████████████████| 41/41 [00:28<00:00,  1.45it/s]\n",
      "100%|███████████████████████████████████████████| 11/11 [00:02<00:00,  4.91it/s]\n"
     ]
    },
    {
     "name": "stdout",
     "output_type": "stream",
     "text": [
      "# Epoch 50 / 100\n"
     ]
    },
    {
     "name": "stderr",
     "output_type": "stream",
     "text": [
      "100%|███████████████████████████████████████████| 41/41 [00:26<00:00,  1.52it/s]\n",
      "100%|███████████████████████████████████████████| 11/11 [00:02<00:00,  4.76it/s]\n"
     ]
    },
    {
     "name": "stdout",
     "output_type": "stream",
     "text": [
      "# Epoch 51 / 100\n"
     ]
    },
    {
     "name": "stderr",
     "output_type": "stream",
     "text": [
      "100%|███████████████████████████████████████████| 41/41 [00:27<00:00,  1.51it/s]\n",
      "100%|███████████████████████████████████████████| 11/11 [00:02<00:00,  4.49it/s]\n"
     ]
    },
    {
     "name": "stdout",
     "output_type": "stream",
     "text": [
      "# Epoch 52 / 100\n"
     ]
    },
    {
     "name": "stderr",
     "output_type": "stream",
     "text": [
      "100%|███████████████████████████████████████████| 41/41 [00:27<00:00,  1.48it/s]\n",
      "100%|███████████████████████████████████████████| 11/11 [00:02<00:00,  5.23it/s]\n"
     ]
    },
    {
     "name": "stdout",
     "output_type": "stream",
     "text": [
      "# Epoch 53 / 100\n"
     ]
    },
    {
     "name": "stderr",
     "output_type": "stream",
     "text": [
      "100%|███████████████████████████████████████████| 41/41 [00:26<00:00,  1.55it/s]\n",
      "100%|███████████████████████████████████████████| 11/11 [00:02<00:00,  4.94it/s]\n"
     ]
    },
    {
     "name": "stdout",
     "output_type": "stream",
     "text": [
      "# Epoch 54 / 100\n"
     ]
    },
    {
     "name": "stderr",
     "output_type": "stream",
     "text": [
      "100%|███████████████████████████████████████████| 41/41 [00:27<00:00,  1.48it/s]\n",
      "100%|███████████████████████████████████████████| 11/11 [00:02<00:00,  4.95it/s]\n"
     ]
    },
    {
     "name": "stdout",
     "output_type": "stream",
     "text": [
      "# Epoch 55 / 100\n"
     ]
    },
    {
     "name": "stderr",
     "output_type": "stream",
     "text": [
      "100%|███████████████████████████████████████████| 41/41 [00:27<00:00,  1.50it/s]\n",
      "100%|███████████████████████████████████████████| 11/11 [00:02<00:00,  5.11it/s]\n"
     ]
    },
    {
     "name": "stdout",
     "output_type": "stream",
     "text": [
      "# Epoch 56 / 100\n"
     ]
    },
    {
     "name": "stderr",
     "output_type": "stream",
     "text": [
      "100%|███████████████████████████████████████████| 41/41 [00:27<00:00,  1.48it/s]\n",
      "100%|███████████████████████████████████████████| 11/11 [00:02<00:00,  4.86it/s]\n"
     ]
    },
    {
     "name": "stdout",
     "output_type": "stream",
     "text": [
      "# Epoch 57 / 100\n"
     ]
    },
    {
     "name": "stderr",
     "output_type": "stream",
     "text": [
      "100%|███████████████████████████████████████████| 41/41 [00:27<00:00,  1.48it/s]\n",
      "100%|███████████████████████████████████████████| 11/11 [00:02<00:00,  5.17it/s]\n"
     ]
    },
    {
     "name": "stdout",
     "output_type": "stream",
     "text": [
      "# Epoch 58 / 100\n"
     ]
    },
    {
     "name": "stderr",
     "output_type": "stream",
     "text": [
      "100%|███████████████████████████████████████████| 41/41 [00:27<00:00,  1.49it/s]\n",
      "100%|███████████████████████████████████████████| 11/11 [00:02<00:00,  4.87it/s]\n"
     ]
    },
    {
     "name": "stdout",
     "output_type": "stream",
     "text": [
      "# Epoch 59 / 100\n"
     ]
    },
    {
     "name": "stderr",
     "output_type": "stream",
     "text": [
      "100%|███████████████████████████████████████████| 41/41 [00:27<00:00,  1.47it/s]\n",
      "100%|███████████████████████████████████████████| 11/11 [00:02<00:00,  5.30it/s]\n"
     ]
    },
    {
     "name": "stdout",
     "output_type": "stream",
     "text": [
      "# Epoch 60 / 100\n"
     ]
    },
    {
     "name": "stderr",
     "output_type": "stream",
     "text": [
      "100%|███████████████████████████████████████████| 41/41 [00:28<00:00,  1.46it/s]\n",
      "100%|███████████████████████████████████████████| 11/11 [00:02<00:00,  5.32it/s]\n"
     ]
    },
    {
     "name": "stdout",
     "output_type": "stream",
     "text": [
      "# Epoch 61 / 100\n"
     ]
    },
    {
     "name": "stderr",
     "output_type": "stream",
     "text": [
      "100%|███████████████████████████████████████████| 41/41 [00:27<00:00,  1.49it/s]\n",
      "100%|███████████████████████████████████████████| 11/11 [00:02<00:00,  4.95it/s]\n"
     ]
    },
    {
     "name": "stdout",
     "output_type": "stream",
     "text": [
      "# Epoch 62 / 100\n"
     ]
    },
    {
     "name": "stderr",
     "output_type": "stream",
     "text": [
      "100%|███████████████████████████████████████████| 41/41 [00:27<00:00,  1.47it/s]\n",
      "100%|███████████████████████████████████████████| 11/11 [00:02<00:00,  4.89it/s]\n"
     ]
    },
    {
     "name": "stdout",
     "output_type": "stream",
     "text": [
      "# Epoch 63 / 100\n"
     ]
    },
    {
     "name": "stderr",
     "output_type": "stream",
     "text": [
      "100%|███████████████████████████████████████████| 41/41 [00:27<00:00,  1.49it/s]\n",
      "100%|███████████████████████████████████████████| 11/11 [00:02<00:00,  4.77it/s]\n"
     ]
    },
    {
     "name": "stdout",
     "output_type": "stream",
     "text": [
      "# Epoch 64 / 100\n"
     ]
    },
    {
     "name": "stderr",
     "output_type": "stream",
     "text": [
      "100%|███████████████████████████████████████████| 41/41 [00:27<00:00,  1.48it/s]\n",
      "100%|███████████████████████████████████████████| 11/11 [00:02<00:00,  4.07it/s]\n"
     ]
    },
    {
     "name": "stdout",
     "output_type": "stream",
     "text": [
      "# Epoch 65 / 100\n"
     ]
    },
    {
     "name": "stderr",
     "output_type": "stream",
     "text": [
      "100%|███████████████████████████████████████████| 41/41 [00:27<00:00,  1.48it/s]\n",
      "100%|███████████████████████████████████████████| 11/11 [00:02<00:00,  5.12it/s]\n"
     ]
    },
    {
     "name": "stdout",
     "output_type": "stream",
     "text": [
      "# Epoch 66 / 100\n"
     ]
    },
    {
     "name": "stderr",
     "output_type": "stream",
     "text": [
      "100%|███████████████████████████████████████████| 41/41 [00:27<00:00,  1.50it/s]\n",
      "100%|███████████████████████████████████████████| 11/11 [00:02<00:00,  5.05it/s]\n"
     ]
    },
    {
     "name": "stdout",
     "output_type": "stream",
     "text": [
      "# Epoch 67 / 100\n"
     ]
    },
    {
     "name": "stderr",
     "output_type": "stream",
     "text": [
      "100%|███████████████████████████████████████████| 41/41 [00:27<00:00,  1.49it/s]\n",
      "100%|███████████████████████████████████████████| 11/11 [00:02<00:00,  5.26it/s]\n"
     ]
    },
    {
     "name": "stdout",
     "output_type": "stream",
     "text": [
      "# Epoch 68 / 100\n"
     ]
    },
    {
     "name": "stderr",
     "output_type": "stream",
     "text": [
      "100%|███████████████████████████████████████████| 41/41 [00:27<00:00,  1.47it/s]\n",
      "100%|███████████████████████████████████████████| 11/11 [00:02<00:00,  5.04it/s]\n"
     ]
    },
    {
     "name": "stdout",
     "output_type": "stream",
     "text": [
      "# Epoch 69 / 100\n"
     ]
    },
    {
     "name": "stderr",
     "output_type": "stream",
     "text": [
      "100%|███████████████████████████████████████████| 41/41 [00:27<00:00,  1.47it/s]\n",
      "100%|███████████████████████████████████████████| 11/11 [00:02<00:00,  5.25it/s]\n"
     ]
    },
    {
     "name": "stdout",
     "output_type": "stream",
     "text": [
      "# Epoch 70 / 100\n"
     ]
    },
    {
     "name": "stderr",
     "output_type": "stream",
     "text": [
      "100%|███████████████████████████████████████████| 41/41 [00:27<00:00,  1.51it/s]\n",
      "100%|███████████████████████████████████████████| 11/11 [00:02<00:00,  5.00it/s]\n"
     ]
    },
    {
     "name": "stdout",
     "output_type": "stream",
     "text": [
      "# Epoch 71 / 100\n"
     ]
    },
    {
     "name": "stderr",
     "output_type": "stream",
     "text": [
      "100%|███████████████████████████████████████████| 41/41 [00:27<00:00,  1.52it/s]\n",
      "100%|███████████████████████████████████████████| 11/11 [00:02<00:00,  5.09it/s]\n"
     ]
    },
    {
     "name": "stdout",
     "output_type": "stream",
     "text": [
      "# Epoch 72 / 100\n"
     ]
    },
    {
     "name": "stderr",
     "output_type": "stream",
     "text": [
      "100%|███████████████████████████████████████████| 41/41 [00:28<00:00,  1.45it/s]\n",
      "100%|███████████████████████████████████████████| 11/11 [00:02<00:00,  4.36it/s]\n"
     ]
    },
    {
     "name": "stdout",
     "output_type": "stream",
     "text": [
      "# Epoch 73 / 100\n"
     ]
    },
    {
     "name": "stderr",
     "output_type": "stream",
     "text": [
      "100%|███████████████████████████████████████████| 41/41 [00:27<00:00,  1.50it/s]\n",
      "100%|███████████████████████████████████████████| 11/11 [00:02<00:00,  5.09it/s]\n"
     ]
    },
    {
     "name": "stdout",
     "output_type": "stream",
     "text": [
      "# Epoch 74 / 100\n"
     ]
    },
    {
     "name": "stderr",
     "output_type": "stream",
     "text": [
      "100%|███████████████████████████████████████████| 41/41 [00:28<00:00,  1.46it/s]\n",
      "100%|███████████████████████████████████████████| 11/11 [00:02<00:00,  5.26it/s]\n"
     ]
    },
    {
     "name": "stdout",
     "output_type": "stream",
     "text": [
      "# Epoch 75 / 100\n"
     ]
    },
    {
     "name": "stderr",
     "output_type": "stream",
     "text": [
      "100%|███████████████████████████████████████████| 41/41 [00:27<00:00,  1.51it/s]\n",
      "100%|███████████████████████████████████████████| 11/11 [00:02<00:00,  4.63it/s]\n"
     ]
    },
    {
     "name": "stdout",
     "output_type": "stream",
     "text": [
      "# Epoch 76 / 100\n"
     ]
    },
    {
     "name": "stderr",
     "output_type": "stream",
     "text": [
      "100%|███████████████████████████████████████████| 41/41 [00:27<00:00,  1.49it/s]\n",
      "100%|███████████████████████████████████████████| 11/11 [00:02<00:00,  5.02it/s]\n"
     ]
    },
    {
     "name": "stdout",
     "output_type": "stream",
     "text": [
      "# Epoch 77 / 100\n"
     ]
    },
    {
     "name": "stderr",
     "output_type": "stream",
     "text": [
      "100%|███████████████████████████████████████████| 41/41 [00:27<00:00,  1.49it/s]\n",
      "100%|███████████████████████████████████████████| 11/11 [00:02<00:00,  4.71it/s]\n"
     ]
    },
    {
     "name": "stdout",
     "output_type": "stream",
     "text": [
      "# Epoch 78 / 100\n"
     ]
    },
    {
     "name": "stderr",
     "output_type": "stream",
     "text": [
      "100%|███████████████████████████████████████████| 41/41 [00:27<00:00,  1.50it/s]\n",
      "100%|███████████████████████████████████████████| 11/11 [00:02<00:00,  5.08it/s]\n"
     ]
    },
    {
     "name": "stdout",
     "output_type": "stream",
     "text": [
      "# Epoch 79 / 100\n"
     ]
    },
    {
     "name": "stderr",
     "output_type": "stream",
     "text": [
      "100%|███████████████████████████████████████████| 41/41 [00:27<00:00,  1.48it/s]\n",
      "100%|███████████████████████████████████████████| 11/11 [00:02<00:00,  5.27it/s]\n"
     ]
    },
    {
     "name": "stdout",
     "output_type": "stream",
     "text": [
      "# Epoch 80 / 100\n"
     ]
    },
    {
     "name": "stderr",
     "output_type": "stream",
     "text": [
      "100%|███████████████████████████████████████████| 41/41 [00:27<00:00,  1.48it/s]\n",
      "100%|███████████████████████████████████████████| 11/11 [00:02<00:00,  4.93it/s]\n"
     ]
    },
    {
     "name": "stdout",
     "output_type": "stream",
     "text": [
      "# Epoch 81 / 100\n"
     ]
    },
    {
     "name": "stderr",
     "output_type": "stream",
     "text": [
      "100%|███████████████████████████████████████████| 41/41 [00:27<00:00,  1.48it/s]\n",
      "100%|███████████████████████████████████████████| 11/11 [00:02<00:00,  5.18it/s]\n"
     ]
    },
    {
     "name": "stdout",
     "output_type": "stream",
     "text": [
      "# Epoch 82 / 100\n"
     ]
    },
    {
     "name": "stderr",
     "output_type": "stream",
     "text": [
      "100%|███████████████████████████████████████████| 41/41 [00:27<00:00,  1.49it/s]\n",
      "100%|███████████████████████████████████████████| 11/11 [00:02<00:00,  4.92it/s]\n"
     ]
    },
    {
     "name": "stdout",
     "output_type": "stream",
     "text": [
      "# Epoch 83 / 100\n"
     ]
    },
    {
     "name": "stderr",
     "output_type": "stream",
     "text": [
      "100%|███████████████████████████████████████████| 41/41 [00:27<00:00,  1.49it/s]\n",
      "100%|███████████████████████████████████████████| 11/11 [00:02<00:00,  5.36it/s]\n"
     ]
    },
    {
     "name": "stdout",
     "output_type": "stream",
     "text": [
      "# Epoch 84 / 100\n"
     ]
    },
    {
     "name": "stderr",
     "output_type": "stream",
     "text": [
      "100%|███████████████████████████████████████████| 41/41 [00:27<00:00,  1.51it/s]\n",
      "100%|███████████████████████████████████████████| 11/11 [00:02<00:00,  5.02it/s]\n"
     ]
    },
    {
     "name": "stdout",
     "output_type": "stream",
     "text": [
      "# Epoch 85 / 100\n"
     ]
    },
    {
     "name": "stderr",
     "output_type": "stream",
     "text": [
      "100%|███████████████████████████████████████████| 41/41 [00:27<00:00,  1.49it/s]\n",
      "100%|███████████████████████████████████████████| 11/11 [00:02<00:00,  5.12it/s]\n"
     ]
    },
    {
     "name": "stdout",
     "output_type": "stream",
     "text": [
      "# Epoch 86 / 100\n"
     ]
    },
    {
     "name": "stderr",
     "output_type": "stream",
     "text": [
      "100%|███████████████████████████████████████████| 41/41 [00:27<00:00,  1.48it/s]\n",
      "100%|███████████████████████████████████████████| 11/11 [00:02<00:00,  5.09it/s]\n"
     ]
    },
    {
     "name": "stdout",
     "output_type": "stream",
     "text": [
      "# Epoch 87 / 100\n"
     ]
    },
    {
     "name": "stderr",
     "output_type": "stream",
     "text": [
      "100%|███████████████████████████████████████████| 41/41 [00:27<00:00,  1.49it/s]\n",
      "100%|███████████████████████████████████████████| 11/11 [00:02<00:00,  5.02it/s]\n"
     ]
    },
    {
     "name": "stdout",
     "output_type": "stream",
     "text": [
      "# Epoch 88 / 100\n"
     ]
    },
    {
     "name": "stderr",
     "output_type": "stream",
     "text": [
      "100%|███████████████████████████████████████████| 41/41 [00:27<00:00,  1.47it/s]\n",
      "100%|███████████████████████████████████████████| 11/11 [00:02<00:00,  4.83it/s]\n"
     ]
    },
    {
     "name": "stdout",
     "output_type": "stream",
     "text": [
      "# Epoch 89 / 100\n"
     ]
    },
    {
     "name": "stderr",
     "output_type": "stream",
     "text": [
      "100%|███████████████████████████████████████████| 41/41 [00:26<00:00,  1.54it/s]\n",
      "100%|███████████████████████████████████████████| 11/11 [00:02<00:00,  4.80it/s]\n"
     ]
    },
    {
     "name": "stdout",
     "output_type": "stream",
     "text": [
      "# Epoch 90 / 100\n"
     ]
    },
    {
     "name": "stderr",
     "output_type": "stream",
     "text": [
      "100%|███████████████████████████████████████████| 41/41 [00:27<00:00,  1.49it/s]\n",
      "100%|███████████████████████████████████████████| 11/11 [00:02<00:00,  4.81it/s]\n"
     ]
    },
    {
     "name": "stdout",
     "output_type": "stream",
     "text": [
      "# Epoch 91 / 100\n"
     ]
    },
    {
     "name": "stderr",
     "output_type": "stream",
     "text": [
      "100%|███████████████████████████████████████████| 41/41 [00:27<00:00,  1.49it/s]\n",
      "100%|███████████████████████████████████████████| 11/11 [00:02<00:00,  5.10it/s]\n"
     ]
    },
    {
     "name": "stdout",
     "output_type": "stream",
     "text": [
      "# Epoch 92 / 100\n"
     ]
    },
    {
     "name": "stderr",
     "output_type": "stream",
     "text": [
      "100%|███████████████████████████████████████████| 41/41 [00:27<00:00,  1.49it/s]\n",
      "100%|███████████████████████████████████████████| 11/11 [00:02<00:00,  4.87it/s]\n"
     ]
    },
    {
     "name": "stdout",
     "output_type": "stream",
     "text": [
      "# Epoch 93 / 100\n"
     ]
    },
    {
     "name": "stderr",
     "output_type": "stream",
     "text": [
      "100%|███████████████████████████████████████████| 41/41 [00:27<00:00,  1.47it/s]\n",
      "100%|███████████████████████████████████████████| 11/11 [00:02<00:00,  5.24it/s]\n"
     ]
    },
    {
     "name": "stdout",
     "output_type": "stream",
     "text": [
      "# Epoch 94 / 100\n"
     ]
    },
    {
     "name": "stderr",
     "output_type": "stream",
     "text": [
      "100%|███████████████████████████████████████████| 41/41 [00:27<00:00,  1.49it/s]\n",
      "100%|███████████████████████████████████████████| 11/11 [00:02<00:00,  5.01it/s]\n"
     ]
    },
    {
     "name": "stdout",
     "output_type": "stream",
     "text": [
      "# Epoch 95 / 100\n"
     ]
    },
    {
     "name": "stderr",
     "output_type": "stream",
     "text": [
      "100%|███████████████████████████████████████████| 41/41 [00:27<00:00,  1.49it/s]\n",
      "100%|███████████████████████████████████████████| 11/11 [00:02<00:00,  5.15it/s]\n"
     ]
    },
    {
     "name": "stdout",
     "output_type": "stream",
     "text": [
      "# Epoch 96 / 100\n"
     ]
    },
    {
     "name": "stderr",
     "output_type": "stream",
     "text": [
      "100%|███████████████████████████████████████████| 41/41 [00:26<00:00,  1.53it/s]\n",
      "100%|███████████████████████████████████████████| 11/11 [00:02<00:00,  5.12it/s]\n"
     ]
    },
    {
     "name": "stdout",
     "output_type": "stream",
     "text": [
      "# Epoch 97 / 100\n"
     ]
    },
    {
     "name": "stderr",
     "output_type": "stream",
     "text": [
      "100%|███████████████████████████████████████████| 41/41 [00:27<00:00,  1.48it/s]\n",
      "100%|███████████████████████████████████████████| 11/11 [00:02<00:00,  5.18it/s]\n"
     ]
    },
    {
     "name": "stdout",
     "output_type": "stream",
     "text": [
      "# Epoch 98 / 100\n"
     ]
    },
    {
     "name": "stderr",
     "output_type": "stream",
     "text": [
      "100%|███████████████████████████████████████████| 41/41 [00:27<00:00,  1.47it/s]\n",
      "100%|███████████████████████████████████████████| 11/11 [00:02<00:00,  5.12it/s]\n"
     ]
    },
    {
     "name": "stdout",
     "output_type": "stream",
     "text": [
      "# Epoch 99 / 100\n"
     ]
    },
    {
     "name": "stderr",
     "output_type": "stream",
     "text": [
      "100%|███████████████████████████████████████████| 41/41 [00:27<00:00,  1.49it/s]\n",
      "100%|███████████████████████████████████████████| 11/11 [00:02<00:00,  5.19it/s]\n"
     ]
    },
    {
     "name": "stdout",
     "output_type": "stream",
     "text": [
      "# Epoch 100 / 100\n"
     ]
    },
    {
     "name": "stderr",
     "output_type": "stream",
     "text": [
      "100%|███████████████████████████████████████████| 41/41 [00:27<00:00,  1.52it/s]\n",
      "100%|███████████████████████████████████████████| 11/11 [00:02<00:00,  4.59it/s]\n"
     ]
    },
    {
     "data": {
      "text/html": [
       "Waiting for W&B process to finish... <strong style=\"color:green\">(success).</strong>"
      ],
      "text/plain": [
       "<IPython.core.display.HTML object>"
      ]
     },
     "metadata": {},
     "output_type": "display_data"
    },
    {
     "data": {
      "application/vnd.jupyter.widget-view+json": {
       "model_id": "",
       "version_major": 2,
       "version_minor": 0
      },
      "text/plain": [
       "VBox(children=(Label(value='0.952 MB of 0.961 MB uploaded (0.000 MB deduped)\\r'), FloatProgress(value=0.990007…"
      ]
     },
     "metadata": {},
     "output_type": "display_data"
    },
    {
     "data": {
      "text/html": [
       "<style>\n",
       "    table.wandb td:nth-child(1) { padding: 0 10px; text-align: left ; width: auto;} td:nth-child(2) {text-align: left ; width: 100%}\n",
       "    .wandb-row { display: flex; flex-direction: row; flex-wrap: wrap; justify-content: flex-start; width: 100% }\n",
       "    .wandb-col { display: flex; flex-direction: column; flex-basis: 100%; flex: 1; padding: 10px; }\n",
       "    </style>\n",
       "<div class=\"wandb-row\"><div class=\"wandb-col\"><h3>Run history:</h3><br/><table class=\"wandb\"><tr><td>train_loss</td><td>█▇▆▆▆▅▆▅▅▄▄▅▄▅▄▄▄▃▃▃▃▃▃▃▃▃▃▂▃▂▃▂▂▂▁▁▁▁▁▁</td></tr><tr><td>valid_loss</td><td>█▃▂▃▄▅▂▃▃▂▂▁▃▂▄▄▂▃▄▄▃▃▄▃▁▁▄▅▃▂▅▆▅▇▇▄▅▆▄▃</td></tr></table><br/></div><div class=\"wandb-col\"><h3>Run summary:</h3><br/><table class=\"wandb\"><tr><td>train_loss</td><td>1.52762</td></tr><tr><td>valid_loss</td><td>6.21472</td></tr></table><br/></div></div>"
      ],
      "text/plain": [
       "<IPython.core.display.HTML object>"
      ]
     },
     "metadata": {},
     "output_type": "display_data"
    },
    {
     "data": {
      "text/html": [
       "Synced <strong style=\"color:#cdcd00\">dandy-field-5</strong>: <a href=\"https://wandb.ai/hei-jung/multitask-test/runs/30zyopjy\" target=\"_blank\">https://wandb.ai/hei-jung/multitask-test/runs/30zyopjy</a><br/>Synced 6 W&B file(s), 100 media file(s), 0 artifact file(s) and 0 other file(s)"
      ],
      "text/plain": [
       "<IPython.core.display.HTML object>"
      ]
     },
     "metadata": {},
     "output_type": "display_data"
    },
    {
     "data": {
      "text/html": [
       "Find logs at: <code>./wandb/run-20230111_144014-30zyopjy/logs</code>"
      ],
      "text/plain": [
       "<IPython.core.display.HTML object>"
      ]
     },
     "metadata": {},
     "output_type": "display_data"
    }
   ],
   "source": [
    "model.to(device)\n",
    "wandb.init(project='multitask-test',\n",
    "           config={\"model\": \"shallowNet2-2reg\", \"dropout\": dropout_rate, \n",
    "                   \"lr\": lr, \"weight_decay\": weight_decay, \"epochs\": epochs, \"batch_size\": batch_size,\n",
    "                   \"test_size\": test_size})\n",
    "wandb.watch(model)\n",
    "\n",
    "best_rec = 0   # best_rec: best accuracy\n",
    "\n",
    "set_seed()\n",
    "for epoch in range(epochs):\n",
    "    print('# Epoch %d / %d'%(epoch + 1, epochs))\n",
    "    augment = get_augmentation_transform()\n",
    "#     train_set = NeckDataset(X_train, y_train, transform=augment)\n",
    "#     train_loader = DataLoader(train_set, batch_size=batch_size, num_workers=16)\n",
    "\n",
    "    # log image to check if augmentation is same for every experiment\n",
    "    tensor_img = train_set[0][0].squeeze().cpu().detach().numpy()\n",
    "    img = wandb.Image(np.max(tensor_img, axis=1), caption=\"Coronal MIP\")\n",
    "\n",
    "    loss_t = train(model, train_loader, lr, weight_decay, optimizer)\n",
    "    loss_v = valid(model, valid_loader)\n",
    "\n",
    "    train_loss = loss_t / len(train_loader)\n",
    "    valid_loss = loss_v / len(valid_loader)\n",
    "\n",
    "    wandb.log({\"train_loss\": train_loss, \"valid_loss\": valid_loss,\n",
    "               \"sample_img\": img})\n",
    "wandb.finish()\n",
    "# torch.save(model.state_dict(), f'pretrained/221220_4class_shallow20.2x16_aug_epoch{epochs}')"
   ]
  },
  {
   "cell_type": "code",
   "execution_count": 22,
   "id": "18eceb9f",
   "metadata": {},
   "outputs": [],
   "source": [
    "import seaborn as sns\n",
    "from sklearn.metrics import confusion_matrix, classification_report\n",
    "\n",
    "def predict(model, data_loader):\n",
    "    model.eval()\n",
    "    \n",
    "    y_pred_list1, y_list1 = np.array([]), np.array([])\n",
    "    y_pred_list2, y_list2 = np.array([]), np.array([])\n",
    "#     y_pred_list3, y_list3 = np.array([]), np.array([])\n",
    "    \n",
    "    \n",
    "    with torch.no_grad():\n",
    "        for inputs, labels1, labels2 in tqdm(data_loader):\n",
    "            \n",
    "            # move data to the GPU\n",
    "            inputs = inputs.to(device)\n",
    "            labels1 = labels1.to(device)\n",
    "            labels2 = labels2.to(device)\n",
    "            \n",
    "            # forward prop\n",
    "            output1, output2 = model(inputs)\n",
    "\n",
    "            # store predicted values\n",
    "            pred = output1.detach().cpu().numpy()\n",
    "            y_pred_list1 = np.append(y_pred_list1, pred.reshape(pred.size), axis=0)\n",
    "\n",
    "            pred = output2.detach().cpu().numpy()\n",
    "            y_pred_list2 = np.append(y_pred_list2, pred.reshape(pred.size), axis=0)\n",
    "            \n",
    "            # store truth values\n",
    "            truth = labels1.cpu().detach().numpy()\n",
    "            y_list1 = np.append(y_list1, truth.reshape(truth.size), axis=0)\n",
    "            \n",
    "            truth = labels2.cpu().detach().numpy()\n",
    "            y_list2 = np.append(y_list2, truth.reshape(truth.size), axis=0)\n",
    "            \n",
    "    return y_list1, y_list2, y_pred_list1, y_pred_list2"
   ]
  },
  {
   "cell_type": "code",
   "execution_count": 23,
   "id": "0e9ee49f",
   "metadata": {},
   "outputs": [
    {
     "name": "stderr",
     "output_type": "stream",
     "text": [
      "100%|███████████████████████████████████████████| 11/11 [00:02<00:00,  5.37it/s]\n"
     ]
    }
   ],
   "source": [
    "y_list1, y_list2, y_preds1, y_preds2 = predict(model, valid_loader)"
   ]
  },
  {
   "cell_type": "code",
   "execution_count": 24,
   "id": "02f3b589",
   "metadata": {},
   "outputs": [
    {
     "name": "stdout",
     "output_type": "stream",
     "text": [
      "Cerebral WM Hypointensities* Total Percent Of Icv\n",
      "Pearson: 0.46102281474771584\n",
      "Spearman: 0.5191741982256288\n"
     ]
    }
   ],
   "source": [
    "# label1\n",
    "print(label_name[0])\n",
    "pearson, _ = pearsonr(y_list1, y_preds1)\n",
    "spearman, _ = spearmanr(y_list1, y_preds1)\n",
    "print(\"Pearson:\", pearson)\n",
    "print(\"Spearman:\", spearman)"
   ]
  },
  {
   "cell_type": "code",
   "execution_count": 25,
   "id": "60810e7d",
   "metadata": {},
   "outputs": [
    {
     "name": "stdout",
     "output_type": "stream",
     "text": [
      "Cortical Gray Matter Total Percent Of Icv\n",
      "Pearson: 0.49759515127011816\n",
      "Spearman: 0.47077007131354964\n"
     ]
    }
   ],
   "source": [
    "# label2\n",
    "print(label_name[1])\n",
    "pearson, _ = pearsonr(y_list2, y_preds2)\n",
    "spearman, _ = spearmanr(y_list2, y_preds2)\n",
    "print(\"Pearson:\", pearson)\n",
    "print(\"Spearman:\", spearman)"
   ]
  },
  {
   "cell_type": "code",
   "execution_count": null,
   "id": "be04ca99",
   "metadata": {},
   "outputs": [],
   "source": [
    "#### model: custom simple net ####\n",
    "model = ShallowNet(depth=1, classes=4)\n",
    "model.to(device)\n",
    "model.load_state_dict(torch.load('pretrained/221129_4classtest0.2x16noaug_epoch30'))\n",
    "##################################"
   ]
  }
 ],
 "metadata": {
  "kernelspec": {
   "display_name": "Python 3 (ipykernel)",
   "language": "python",
   "name": "python3"
  },
  "language_info": {
   "codemirror_mode": {
    "name": "ipython",
    "version": 3
   },
   "file_extension": ".py",
   "mimetype": "text/x-python",
   "name": "python",
   "nbconvert_exporter": "python",
   "pygments_lexer": "ipython3",
   "version": "3.9.5"
  }
 },
 "nbformat": 4,
 "nbformat_minor": 5
}
