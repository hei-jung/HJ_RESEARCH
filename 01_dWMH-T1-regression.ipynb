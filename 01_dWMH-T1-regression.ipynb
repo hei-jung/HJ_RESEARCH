{
 "cells": [
  {
   "cell_type": "code",
   "execution_count": 1,
   "id": "b9c0d942",
   "metadata": {},
   "outputs": [],
   "source": [
    "import os\n",
    "os.environ[\"CUDA_DEVICE_ORDER\"] = \"PCI_BUS_ID\"\n",
    "os.environ[\"CUDA_VISIBLE_DEVICES\"] = \"0\""
   ]
  },
  {
   "cell_type": "code",
   "execution_count": 2,
   "id": "c31da569",
   "metadata": {
    "scrolled": true
   },
   "outputs": [],
   "source": [
    "import random\n",
    "import numpy as np\n",
    "from tqdm import tqdm\n",
    "import pandas as pd\n",
    "from scipy import ndimage\n",
    "from scipy.ndimage import zoom\n",
    "import gc\n",
    "from sklearn.model_selection import train_test_split, KFold\n",
    "import matplotlib.pyplot as plt\n",
    "import matplotlib.patches as mpatches\n",
    "from torch import nn, optim\n",
    "from torch.nn import functional as F\n",
    "from torch.utils.data import Dataset, DataLoader, SubsetRandomSampler\n",
    "import torch.backends.cudnn as cudnn\n",
    "from models.sfcn import *\n",
    "from models.resnet import *\n",
    "from models.inception_resnet_v2 import *\n",
    "from models.densenet import *\n",
    "from models.custom_net import *\n",
    "from models.shallow_net2 import *\n",
    "import types\n",
    "from scipy.stats import pearsonr, spearmanr\n",
    "import torchio as tio\n",
    "from datetime import datetime\n",
    "import wandb\n",
    "from models.ranking_loss import *"
   ]
  },
  {
   "cell_type": "code",
   "execution_count": 3,
   "id": "7f0a9eef",
   "metadata": {},
   "outputs": [],
   "source": [
    "RANDOM_SEED = 551"
   ]
  },
  {
   "cell_type": "code",
   "execution_count": 4,
   "id": "0e96349f",
   "metadata": {},
   "outputs": [],
   "source": [
    "# control randomness\n",
    "def set_seed(random_seed=551):\n",
    "    torch.manual_seed(random_seed)\n",
    "    torch.cuda.manual_seed(random_seed)\n",
    "    torch.cuda.manual_seed_all(random_seed)\n",
    "    np.random.seed(random_seed)\n",
    "    cudnn.benchmark = False\n",
    "    cudnn.deterministic = True\n",
    "    random.seed(random_seed)"
   ]
  },
  {
   "cell_type": "code",
   "execution_count": 5,
   "id": "f7a34af8",
   "metadata": {},
   "outputs": [],
   "source": [
    "def load_data(img_dir, label_dir, label_name, std=False, norm=True):\n",
    "    df = pd.read_csv(label_dir, index_col=0)[label_name]\n",
    "    filenames = df.index\n",
    "    images = []\n",
    "    for i, index in enumerate(filenames):\n",
    "        file_name = img_dir + index + '.npy'\n",
    "        img = np.load(file_name)\n",
    "        x, y, z = img.shape\n",
    "        if std:\n",
    "            m = np.mean(img)\n",
    "            s = np.std(img)\n",
    "            img = (img - m) / s\n",
    "        if norm:\n",
    "            img = (img - img.min()) / (img.max() - img.min())\n",
    "        img = img.reshape((1, x, y, z))\n",
    "        images.append(img)\n",
    "    return images, df"
   ]
  },
  {
   "cell_type": "code",
   "execution_count": 6,
   "id": "f736886e",
   "metadata": {},
   "outputs": [],
   "source": [
    "# augmentation\n",
    "def get_augmentation_transform():\n",
    "    random_rotate = tio.RandomAffine(scales=(1.0, 1.0),\n",
    "                                     degrees=12,)\n",
    "    random_flip = tio.RandomFlip(axes='LR',\n",
    "                                 flip_probability=0.5)\n",
    "    random_shift = tio.RandomAffine(scales=(1.0, 1.0),\n",
    "                                    degrees=0,\n",
    "                                    translation=(20,20,20))\n",
    "    compose = tio.transforms.Compose([random_rotate, random_flip, random_shift])\n",
    "    augment = tio.transforms.OneOf([random_rotate, random_flip, random_shift, compose])\n",
    "    return augment"
   ]
  },
  {
   "cell_type": "code",
   "execution_count": 7,
   "id": "60667d38",
   "metadata": {},
   "outputs": [],
   "source": [
    "class NeckDataset(Dataset):\n",
    "    def __init__(self, X=None, y=None, transform=None, lds=False, lds_kernel='gaussian', lds_ks=5, lds_sigma=2):\n",
    "        self.X = X\n",
    "        self.y = y.values\n",
    "        self.transform = transform\n",
    "        \n",
    "    def __len__(self):\n",
    "        return len(self.y)\n",
    "    \n",
    "    def __getitem__(self, idx):\n",
    "        image = self.X[idx]\n",
    "        label = np.array([self.y[idx]]).astype('float16')\n",
    "        if self.transform is not None:\n",
    "            image = self.transform(image)\n",
    "        return [image, label]"
   ]
  },
  {
   "cell_type": "code",
   "execution_count": 8,
   "id": "2df07024",
   "metadata": {},
   "outputs": [],
   "source": [
    "def train(model, train_loader, lr, weight_decay, optim_class=optim.AdamW, scheduler=None, sorter='sodeep/weights/best_model_gruc.pth.tar'):\n",
    "    criterion = rank_difference_loss(sorter)\n",
    "#     criterion = nn.HuberLoss()\n",
    "    criterion1 = nn.L1Loss()\n",
    "    criterion2 = nn.MSELoss()\n",
    "        \n",
    "    optimizer = optim_class(model.parameters(), lr=lr, weight_decay=weight_decay)\n",
    "    \n",
    "    total_loss, total_mae_loss, total_mse_loss = 0, 0, 0\n",
    "    preds, truths = np.array([]), np.array([])\n",
    "    \n",
    "    model.train()\n",
    "    for inputs, labels in tqdm(train_loader):              \n",
    "        inputs, labels = inputs.to(device, dtype=torch.float), labels.to(device, dtype=torch.float)\n",
    "        optimizer.zero_grad()\n",
    "\n",
    "        output = model(inputs)\n",
    "        \n",
    "        pred = output.detach().cpu().numpy()\n",
    "        truth = labels.detach().cpu().numpy()\n",
    "        preds = np.append(preds, pred.reshape(pred.size), axis=0)\n",
    "        truths = np.append(truths, truth.reshape(truth.size), axis=0)\n",
    "        \n",
    "        loss = criterion(output, labels)\n",
    "        mae_loss = criterion1(output, labels)\n",
    "        mse_loss = criterion2(output, labels)\n",
    "#         loss.backward()\n",
    "        mae_loss.backward()\n",
    "#         mse_loss.backward()\n",
    "        \n",
    "        optimizer.step()\n",
    "        if scheduler:\n",
    "            scheduler.step()\n",
    "        \n",
    "        total_loss += loss.data.item()\n",
    "        total_mae_loss += mae_loss.data.item()\n",
    "        total_mse_loss += mse_loss.data.item()\n",
    "        \n",
    "        gc.collect()\n",
    "        torch.cuda.empty_cache()\n",
    "        \n",
    "    return preds, truths, total_loss, total_mae_loss, total_mse_loss"
   ]
  },
  {
   "cell_type": "code",
   "execution_count": 9,
   "id": "6b20c8c8",
   "metadata": {},
   "outputs": [],
   "source": [
    "def valid(model, valid_loader, sorter='sodeep/weights/best_model_gruc.pth.tar'):\n",
    "    criterion = rank_difference_loss(sorter)\n",
    "#     criterion = nn.HuberLoss()\n",
    "    criterion1 = nn.L1Loss()\n",
    "    criterion2 = nn.MSELoss()\n",
    "    \n",
    "    total_loss, total_mae_loss, total_mse_loss = 0, 0, 0\n",
    "    preds, truths = np.array([]), np.array([])\n",
    "    \n",
    "    model.eval()\n",
    "    with torch.no_grad():\n",
    "        for inputs, labels in tqdm(valid_loader):\n",
    "            inputs, labels = inputs.to(device, dtype=torch.float), labels.to(device, dtype=torch.float)\n",
    "\n",
    "            output = model(inputs)\n",
    "            \n",
    "            pred = output.detach().cpu().numpy()\n",
    "            truth = labels.detach().cpu().numpy()\n",
    "            preds = np.append(preds, pred.reshape(pred.size), axis=0)\n",
    "            truths = np.append(truths, truth.reshape(truth.size), axis=0)\n",
    "\n",
    "            loss = criterion(output, labels)\n",
    "            mae_loss = criterion1(output, labels)\n",
    "            mse_loss = criterion2(output, labels)\n",
    "            \n",
    "            total_loss += loss.data.item()\n",
    "            total_mae_loss += mae_loss.data.item()\n",
    "            total_mse_loss += mse_loss.data.item()\n",
    "        \n",
    "    return preds, truths, total_loss, total_mae_loss, total_mse_loss"
   ]
  },
  {
   "cell_type": "code",
   "execution_count": 10,
   "id": "2caeb213",
   "metadata": {},
   "outputs": [],
   "source": [
    "label_name = 'Cerebral WM Hypointensities* Total Percent Of Icv'\n",
    "# label_name = 'FL_WMH_VOL_icv'\n",
    "# label_name = 'Cerebral WM Hypointensities* Total Volume'\n",
    "# label_name = 'FL_WMH_VOL_mL'\n",
    "train_img_dir = 'img_npy/'\n",
    "train_label_dir = 'labels/traindata_final.csv'\n",
    "test_img_dir = 'test_np/'\n",
    "test_label_dir = 'labels/testdata_final.csv'"
   ]
  },
  {
   "cell_type": "code",
   "execution_count": 11,
   "id": "3175e7a2",
   "metadata": {},
   "outputs": [],
   "source": [
    "weight_decay = 0.01\n",
    "lr = 0.0001\n",
    "epochs = 80\n",
    "batch_size = 16\n",
    "optimizer = optim.AdamW\n",
    "dropout_rate = 0.6\n",
    "# scheduler = optim.lr_scheduler.MultiplicativeLR(optimizer=optimizer,\n",
    "#                                                lr_lambda=lambda epoch: 0.3 ** epoch)"
   ]
  },
  {
   "cell_type": "code",
   "execution_count": 12,
   "id": "646f6b9f",
   "metadata": {},
   "outputs": [],
   "source": [
    "aug = True"
   ]
  },
  {
   "cell_type": "code",
   "execution_count": 13,
   "id": "2eb08047",
   "metadata": {
    "scrolled": false
   },
   "outputs": [
    {
     "name": "stdout",
     "output_type": "stream",
     "text": [
      "Device: cuda\n",
      "Current cuda device: 0\n",
      "Count of using GPUs: 1\n"
     ]
    }
   ],
   "source": [
    "device = torch.device(\"cuda\" if torch.cuda.is_available() else \"cpu\")\n",
    "print('Device:', device)\n",
    "print('Current cuda device:', torch.cuda.current_device())\n",
    "print('Count of using GPUs:', torch.cuda.device_count())"
   ]
  },
  {
   "cell_type": "code",
   "execution_count": 14,
   "id": "84f9cf04",
   "metadata": {},
   "outputs": [],
   "source": [
    "# load data\n",
    "train_X, train_y = load_data(train_img_dir, train_label_dir, label_name, std=False, norm=True)  # std=False, norm=True\n",
    "test_X, test_y = load_data(test_img_dir, test_label_dir, label_name, std=False, norm=True)"
   ]
  },
  {
   "cell_type": "code",
   "execution_count": 15,
   "id": "423ad2d7",
   "metadata": {},
   "outputs": [
    {
     "name": "stdout",
     "output_type": "stream",
     "text": [
      "643 643 161 171\n"
     ]
    }
   ],
   "source": [
    "if aug:\n",
    "    # initialize seed\n",
    "    set_seed()\n",
    "\n",
    "    # train / test split\n",
    "    X_train, X_val, y_train, y_val = train_test_split(train_X, train_y, test_size=0.2)\n",
    "\n",
    "    # validation set\n",
    "    valid_set = NeckDataset(X_val, y_val)\n",
    "    valid_loader = DataLoader(valid_set, batch_size=batch_size, num_workers=16)\n",
    "\n",
    "    # test set\n",
    "    test_set = NeckDataset(test_X, test_y)\n",
    "    test_loader = DataLoader(test_set, batch_size=batch_size, num_workers=16)\n",
    "\n",
    "    print(len(X_train), len(y_train), len(valid_set), len(test_set))\n",
    "else:\n",
    "    dataset = NeckDataset(train_X, train_y)\n",
    "\n",
    "    set_seed()\n",
    "    train_set, valid_set = train_test_split(dataset, test_size=0.2)\n",
    "    train_loader = DataLoader(train_set, batch_size=batch_size, num_workers=16)\n",
    "    valid_loader = DataLoader(train_set, batch_size=batch_size, num_workers=16)\n",
    "\n",
    "    test_set = NeckDataset(test_X, test_y)\n",
    "    test_loader = DataLoader(test_set, batch_size=batch_size, num_workers=16)\n",
    "\n",
    "    print(len(train_set), len(valid_set), len(test_set))"
   ]
  },
  {
   "cell_type": "code",
   "execution_count": 16,
   "id": "86ca0257",
   "metadata": {},
   "outputs": [],
   "source": [
    "# use SEBlock\n",
    "class SEBlock(nn.Module):\n",
    "    \n",
    "    def __init__(self, in_channels, r=16):\n",
    "        super(SEBlock, self).__init__()\n",
    "        self.squeeze = nn.AdaptiveAvgPool3d(1)\n",
    "        self.excitation = nn.Sequential(\n",
    "            nn.Linear(in_channels, in_channels//r),\n",
    "            nn.ReLU(),\n",
    "            nn.Linear(in_channels//r, in_channels),\n",
    "            nn.Sigmoid())\n",
    "        \n",
    "    def forward(self, x):\n",
    "        x = self.squeeze(x)\n",
    "        x = x.view(x.size(0), -1)\n",
    "        x = self.excitation(x)\n",
    "        x = x.view(x.size(0), x.size(1), 1, 1, 1)\n",
    "        return x\n",
    "    \n",
    "\n",
    "def forward(self, x):\n",
    "    x = self.feature_extractor(x)\n",
    "    # add SEBlock\n",
    "    x = self.seblock(x)*x\n",
    "    x = self.classifier(x)\n",
    "    x = x.view(x.size(0), -1)\n",
    "    x = self.fc(x)\n",
    "    return x"
   ]
  },
  {
   "cell_type": "code",
   "execution_count": 17,
   "id": "5f4bcde9",
   "metadata": {
    "scrolled": true
   },
   "outputs": [
    {
     "name": "stderr",
     "output_type": "stream",
     "text": [
      "Failed to detect the name of this notebook, you can set it manually with the WANDB_NOTEBOOK_NAME environment variable to enable code saving.\n",
      "\u001b[34m\u001b[1mwandb\u001b[0m: Currently logged in as: \u001b[33mhei-jung\u001b[0m. Use \u001b[1m`wandb login --relogin`\u001b[0m to force relogin\n"
     ]
    },
    {
     "data": {
      "text/html": [
       "wandb version 0.13.9 is available!  To upgrade, please run:\n",
       " $ pip install wandb --upgrade"
      ],
      "text/plain": [
       "<IPython.core.display.HTML object>"
      ]
     },
     "metadata": {},
     "output_type": "display_data"
    },
    {
     "data": {
      "text/html": [
       "Tracking run with wandb version 0.12.21"
      ],
      "text/plain": [
       "<IPython.core.display.HTML object>"
      ]
     },
     "metadata": {},
     "output_type": "display_data"
    },
    {
     "data": {
      "text/html": [
       "Run data is saved locally in <code>/home/jhj/Desktop/HJ_RESEARCH/snu_brain_disease/wandb/run-20230118_211754-1xx3lk0v</code>"
      ],
      "text/plain": [
       "<IPython.core.display.HTML object>"
      ]
     },
     "metadata": {},
     "output_type": "display_data"
    },
    {
     "data": {
      "text/html": [
       "Syncing run <strong><a href=\"https://wandb.ai/hei-jung/20230118-WMHvolICV/runs/1xx3lk0v\" target=\"_blank\">good-sun-1</a></strong> to <a href=\"https://wandb.ai/hei-jung/20230118-WMHvolICV\" target=\"_blank\">Weights & Biases</a> (<a href=\"https://wandb.me/run\" target=\"_blank\">docs</a>)<br/>"
      ],
      "text/plain": [
       "<IPython.core.display.HTML object>"
      ]
     },
     "metadata": {},
     "output_type": "display_data"
    },
    {
     "name": "stdout",
     "output_type": "stream",
     "text": [
      "# Epoch 1 / 80\n"
     ]
    },
    {
     "name": "stderr",
     "output_type": "stream",
     "text": [
      "100%|███████████████████████████████████████████| 41/41 [00:26<00:00,  1.54it/s]\n",
      "100%|███████████████████████████████████████████| 11/11 [00:02<00:00,  4.17it/s]\n"
     ]
    },
    {
     "name": "stdout",
     "output_type": "stream",
     "text": [
      "# Epoch 2 / 80\n"
     ]
    },
    {
     "name": "stderr",
     "output_type": "stream",
     "text": [
      "100%|███████████████████████████████████████████| 41/41 [00:28<00:00,  1.44it/s]\n",
      "100%|███████████████████████████████████████████| 11/11 [00:03<00:00,  3.54it/s]\n"
     ]
    },
    {
     "name": "stdout",
     "output_type": "stream",
     "text": [
      "# Epoch 3 / 80\n"
     ]
    },
    {
     "name": "stderr",
     "output_type": "stream",
     "text": [
      "100%|███████████████████████████████████████████| 41/41 [00:26<00:00,  1.55it/s]\n",
      "100%|███████████████████████████████████████████| 11/11 [00:03<00:00,  3.14it/s]\n"
     ]
    },
    {
     "name": "stdout",
     "output_type": "stream",
     "text": [
      "# Epoch 4 / 80\n"
     ]
    },
    {
     "name": "stderr",
     "output_type": "stream",
     "text": [
      "100%|███████████████████████████████████████████| 41/41 [00:28<00:00,  1.43it/s]\n",
      "100%|███████████████████████████████████████████| 11/11 [00:02<00:00,  3.82it/s]\n"
     ]
    },
    {
     "name": "stdout",
     "output_type": "stream",
     "text": [
      "# Epoch 5 / 80\n"
     ]
    },
    {
     "name": "stderr",
     "output_type": "stream",
     "text": [
      "100%|███████████████████████████████████████████| 41/41 [00:26<00:00,  1.53it/s]\n",
      "100%|███████████████████████████████████████████| 11/11 [00:02<00:00,  4.18it/s]\n"
     ]
    },
    {
     "name": "stdout",
     "output_type": "stream",
     "text": [
      "# Epoch 6 / 80\n"
     ]
    },
    {
     "name": "stderr",
     "output_type": "stream",
     "text": [
      "100%|███████████████████████████████████████████| 41/41 [00:27<00:00,  1.50it/s]\n",
      "100%|███████████████████████████████████████████| 11/11 [00:02<00:00,  4.52it/s]\n"
     ]
    },
    {
     "name": "stdout",
     "output_type": "stream",
     "text": [
      "# Epoch 7 / 80\n"
     ]
    },
    {
     "name": "stderr",
     "output_type": "stream",
     "text": [
      "100%|███████████████████████████████████████████| 41/41 [00:26<00:00,  1.57it/s]\n",
      "100%|███████████████████████████████████████████| 11/11 [00:02<00:00,  4.67it/s]\n"
     ]
    },
    {
     "name": "stdout",
     "output_type": "stream",
     "text": [
      "# Epoch 8 / 80\n"
     ]
    },
    {
     "name": "stderr",
     "output_type": "stream",
     "text": [
      "100%|███████████████████████████████████████████| 41/41 [00:26<00:00,  1.53it/s]\n",
      "100%|███████████████████████████████████████████| 11/11 [00:02<00:00,  4.30it/s]\n"
     ]
    },
    {
     "name": "stdout",
     "output_type": "stream",
     "text": [
      "# Epoch 9 / 80\n"
     ]
    },
    {
     "name": "stderr",
     "output_type": "stream",
     "text": [
      "100%|███████████████████████████████████████████| 41/41 [00:26<00:00,  1.57it/s]\n",
      "100%|███████████████████████████████████████████| 11/11 [00:02<00:00,  4.30it/s]\n"
     ]
    },
    {
     "name": "stdout",
     "output_type": "stream",
     "text": [
      "# Epoch 10 / 80\n"
     ]
    },
    {
     "name": "stderr",
     "output_type": "stream",
     "text": [
      "100%|███████████████████████████████████████████| 41/41 [00:26<00:00,  1.56it/s]\n",
      "100%|███████████████████████████████████████████| 11/11 [00:02<00:00,  4.62it/s]\n"
     ]
    },
    {
     "name": "stdout",
     "output_type": "stream",
     "text": [
      "# Epoch 11 / 80\n"
     ]
    },
    {
     "name": "stderr",
     "output_type": "stream",
     "text": [
      "100%|███████████████████████████████████████████| 41/41 [00:26<00:00,  1.57it/s]\n",
      "100%|███████████████████████████████████████████| 11/11 [00:02<00:00,  4.32it/s]\n"
     ]
    },
    {
     "name": "stdout",
     "output_type": "stream",
     "text": [
      "# Epoch 12 / 80\n"
     ]
    },
    {
     "name": "stderr",
     "output_type": "stream",
     "text": [
      "100%|███████████████████████████████████████████| 41/41 [00:26<00:00,  1.55it/s]\n",
      "100%|███████████████████████████████████████████| 11/11 [00:02<00:00,  4.75it/s]\n"
     ]
    },
    {
     "name": "stdout",
     "output_type": "stream",
     "text": [
      "# Epoch 13 / 80\n"
     ]
    },
    {
     "name": "stderr",
     "output_type": "stream",
     "text": [
      "100%|███████████████████████████████████████████| 41/41 [00:25<00:00,  1.58it/s]\n",
      "100%|███████████████████████████████████████████| 11/11 [00:02<00:00,  4.55it/s]\n"
     ]
    },
    {
     "name": "stdout",
     "output_type": "stream",
     "text": [
      "# Epoch 14 / 80\n"
     ]
    },
    {
     "name": "stderr",
     "output_type": "stream",
     "text": [
      "100%|███████████████████████████████████████████| 41/41 [00:27<00:00,  1.50it/s]\n",
      "100%|███████████████████████████████████████████| 11/11 [00:02<00:00,  4.45it/s]\n"
     ]
    },
    {
     "name": "stdout",
     "output_type": "stream",
     "text": [
      "# Epoch 15 / 80\n"
     ]
    },
    {
     "name": "stderr",
     "output_type": "stream",
     "text": [
      "100%|███████████████████████████████████████████| 41/41 [00:27<00:00,  1.51it/s]\n",
      "100%|███████████████████████████████████████████| 11/11 [00:02<00:00,  4.43it/s]\n"
     ]
    },
    {
     "name": "stdout",
     "output_type": "stream",
     "text": [
      "# Epoch 16 / 80\n"
     ]
    },
    {
     "name": "stderr",
     "output_type": "stream",
     "text": [
      "100%|███████████████████████████████████████████| 41/41 [00:26<00:00,  1.54it/s]\n",
      "100%|███████████████████████████████████████████| 11/11 [00:02<00:00,  4.54it/s]\n"
     ]
    },
    {
     "name": "stdout",
     "output_type": "stream",
     "text": [
      "# Epoch 17 / 80\n"
     ]
    },
    {
     "name": "stderr",
     "output_type": "stream",
     "text": [
      "100%|███████████████████████████████████████████| 41/41 [00:26<00:00,  1.55it/s]\n",
      "100%|███████████████████████████████████████████| 11/11 [00:02<00:00,  4.53it/s]\n"
     ]
    },
    {
     "name": "stdout",
     "output_type": "stream",
     "text": [
      "# Epoch 18 / 80\n"
     ]
    },
    {
     "name": "stderr",
     "output_type": "stream",
     "text": [
      "100%|███████████████████████████████████████████| 41/41 [00:25<00:00,  1.59it/s]\n",
      "100%|███████████████████████████████████████████| 11/11 [00:02<00:00,  4.52it/s]\n"
     ]
    },
    {
     "name": "stdout",
     "output_type": "stream",
     "text": [
      "# Epoch 19 / 80\n"
     ]
    },
    {
     "name": "stderr",
     "output_type": "stream",
     "text": [
      "100%|███████████████████████████████████████████| 41/41 [00:27<00:00,  1.51it/s]\n",
      "100%|███████████████████████████████████████████| 11/11 [00:02<00:00,  4.54it/s]\n"
     ]
    },
    {
     "name": "stdout",
     "output_type": "stream",
     "text": [
      "# Epoch 20 / 80\n"
     ]
    },
    {
     "name": "stderr",
     "output_type": "stream",
     "text": [
      "100%|███████████████████████████████████████████| 41/41 [00:25<00:00,  1.58it/s]\n",
      "100%|███████████████████████████████████████████| 11/11 [00:02<00:00,  4.53it/s]\n"
     ]
    },
    {
     "name": "stdout",
     "output_type": "stream",
     "text": [
      "# Epoch 21 / 80\n"
     ]
    },
    {
     "name": "stderr",
     "output_type": "stream",
     "text": [
      "100%|███████████████████████████████████████████| 41/41 [00:26<00:00,  1.56it/s]\n",
      "100%|███████████████████████████████████████████| 11/11 [00:02<00:00,  4.19it/s]\n"
     ]
    },
    {
     "name": "stdout",
     "output_type": "stream",
     "text": [
      "# Epoch 22 / 80\n"
     ]
    },
    {
     "name": "stderr",
     "output_type": "stream",
     "text": [
      "100%|███████████████████████████████████████████| 41/41 [00:26<00:00,  1.55it/s]\n",
      "100%|███████████████████████████████████████████| 11/11 [00:02<00:00,  4.57it/s]\n"
     ]
    },
    {
     "name": "stdout",
     "output_type": "stream",
     "text": [
      "# Epoch 23 / 80\n"
     ]
    },
    {
     "name": "stderr",
     "output_type": "stream",
     "text": [
      "100%|███████████████████████████████████████████| 41/41 [00:26<00:00,  1.55it/s]\n",
      "100%|███████████████████████████████████████████| 11/11 [00:02<00:00,  4.53it/s]\n"
     ]
    },
    {
     "name": "stdout",
     "output_type": "stream",
     "text": [
      "# Epoch 24 / 80\n"
     ]
    },
    {
     "name": "stderr",
     "output_type": "stream",
     "text": [
      "100%|███████████████████████████████████████████| 41/41 [00:25<00:00,  1.58it/s]\n",
      "100%|███████████████████████████████████████████| 11/11 [00:02<00:00,  4.66it/s]\n"
     ]
    },
    {
     "name": "stdout",
     "output_type": "stream",
     "text": [
      "# Epoch 25 / 80\n"
     ]
    },
    {
     "name": "stderr",
     "output_type": "stream",
     "text": [
      "100%|███████████████████████████████████████████| 41/41 [00:26<00:00,  1.55it/s]\n",
      "100%|███████████████████████████████████████████| 11/11 [00:02<00:00,  4.37it/s]\n"
     ]
    },
    {
     "name": "stdout",
     "output_type": "stream",
     "text": [
      "# Epoch 26 / 80\n"
     ]
    },
    {
     "name": "stderr",
     "output_type": "stream",
     "text": [
      "100%|███████████████████████████████████████████| 41/41 [00:25<00:00,  1.58it/s]\n",
      "100%|███████████████████████████████████████████| 11/11 [00:02<00:00,  4.79it/s]\n"
     ]
    },
    {
     "name": "stdout",
     "output_type": "stream",
     "text": [
      "# Epoch 27 / 80\n"
     ]
    },
    {
     "name": "stderr",
     "output_type": "stream",
     "text": [
      "100%|███████████████████████████████████████████| 41/41 [00:25<00:00,  1.59it/s]\n",
      "100%|███████████████████████████████████████████| 11/11 [00:02<00:00,  3.76it/s]\n"
     ]
    },
    {
     "name": "stdout",
     "output_type": "stream",
     "text": [
      "# Epoch 28 / 80\n"
     ]
    },
    {
     "name": "stderr",
     "output_type": "stream",
     "text": [
      "100%|███████████████████████████████████████████| 41/41 [00:26<00:00,  1.55it/s]\n",
      "100%|███████████████████████████████████████████| 11/11 [00:02<00:00,  4.51it/s]\n"
     ]
    },
    {
     "name": "stdout",
     "output_type": "stream",
     "text": [
      "# Epoch 29 / 80\n"
     ]
    },
    {
     "name": "stderr",
     "output_type": "stream",
     "text": [
      "100%|███████████████████████████████████████████| 41/41 [00:25<00:00,  1.58it/s]\n",
      "100%|███████████████████████████████████████████| 11/11 [00:02<00:00,  4.73it/s]\n"
     ]
    },
    {
     "name": "stdout",
     "output_type": "stream",
     "text": [
      "# Epoch 30 / 80\n"
     ]
    },
    {
     "name": "stderr",
     "output_type": "stream",
     "text": [
      "100%|███████████████████████████████████████████| 41/41 [00:26<00:00,  1.54it/s]\n",
      "100%|███████████████████████████████████████████| 11/11 [00:02<00:00,  4.76it/s]\n"
     ]
    },
    {
     "name": "stdout",
     "output_type": "stream",
     "text": [
      "# Epoch 31 / 80\n"
     ]
    },
    {
     "name": "stderr",
     "output_type": "stream",
     "text": [
      "100%|███████████████████████████████████████████| 41/41 [00:26<00:00,  1.56it/s]\n",
      "100%|███████████████████████████████████████████| 11/11 [00:02<00:00,  4.51it/s]\n"
     ]
    },
    {
     "name": "stdout",
     "output_type": "stream",
     "text": [
      "# Epoch 32 / 80\n"
     ]
    },
    {
     "name": "stderr",
     "output_type": "stream",
     "text": [
      "100%|███████████████████████████████████████████| 41/41 [00:25<00:00,  1.58it/s]\n",
      "100%|███████████████████████████████████████████| 11/11 [00:02<00:00,  4.66it/s]\n"
     ]
    },
    {
     "name": "stdout",
     "output_type": "stream",
     "text": [
      "# Epoch 33 / 80\n"
     ]
    },
    {
     "name": "stderr",
     "output_type": "stream",
     "text": [
      "100%|███████████████████████████████████████████| 41/41 [00:26<00:00,  1.56it/s]\n",
      "100%|███████████████████████████████████████████| 11/11 [00:02<00:00,  4.37it/s]\n"
     ]
    },
    {
     "name": "stdout",
     "output_type": "stream",
     "text": [
      "# Epoch 34 / 80\n"
     ]
    },
    {
     "name": "stderr",
     "output_type": "stream",
     "text": [
      "100%|███████████████████████████████████████████| 41/41 [00:25<00:00,  1.61it/s]\n",
      "100%|███████████████████████████████████████████| 11/11 [00:02<00:00,  4.55it/s]\n"
     ]
    },
    {
     "name": "stdout",
     "output_type": "stream",
     "text": [
      "# Epoch 35 / 80\n"
     ]
    },
    {
     "name": "stderr",
     "output_type": "stream",
     "text": [
      "100%|███████████████████████████████████████████| 41/41 [00:25<00:00,  1.58it/s]\n",
      "100%|███████████████████████████████████████████| 11/11 [00:02<00:00,  4.61it/s]\n"
     ]
    },
    {
     "name": "stdout",
     "output_type": "stream",
     "text": [
      "# Epoch 36 / 80\n"
     ]
    },
    {
     "name": "stderr",
     "output_type": "stream",
     "text": [
      "100%|███████████████████████████████████████████| 41/41 [00:26<00:00,  1.56it/s]\n",
      "100%|███████████████████████████████████████████| 11/11 [00:02<00:00,  4.49it/s]\n"
     ]
    },
    {
     "name": "stdout",
     "output_type": "stream",
     "text": [
      "# Epoch 37 / 80\n"
     ]
    },
    {
     "name": "stderr",
     "output_type": "stream",
     "text": [
      "100%|███████████████████████████████████████████| 41/41 [00:25<00:00,  1.58it/s]\n",
      "100%|███████████████████████████████████████████| 11/11 [00:02<00:00,  4.64it/s]\n"
     ]
    },
    {
     "name": "stdout",
     "output_type": "stream",
     "text": [
      "# Epoch 38 / 80\n"
     ]
    },
    {
     "name": "stderr",
     "output_type": "stream",
     "text": [
      "100%|███████████████████████████████████████████| 41/41 [00:26<00:00,  1.56it/s]\n",
      "100%|███████████████████████████████████████████| 11/11 [00:02<00:00,  4.55it/s]\n"
     ]
    },
    {
     "name": "stdout",
     "output_type": "stream",
     "text": [
      "# Epoch 39 / 80\n"
     ]
    },
    {
     "name": "stderr",
     "output_type": "stream",
     "text": [
      "100%|███████████████████████████████████████████| 41/41 [00:26<00:00,  1.54it/s]\n",
      "100%|███████████████████████████████████████████| 11/11 [00:02<00:00,  4.57it/s]\n"
     ]
    },
    {
     "name": "stdout",
     "output_type": "stream",
     "text": [
      "# Epoch 40 / 80\n"
     ]
    },
    {
     "name": "stderr",
     "output_type": "stream",
     "text": [
      "100%|███████████████████████████████████████████| 41/41 [00:26<00:00,  1.56it/s]\n",
      "100%|███████████████████████████████████████████| 11/11 [00:02<00:00,  4.24it/s]\n"
     ]
    },
    {
     "name": "stdout",
     "output_type": "stream",
     "text": [
      "# Epoch 41 / 80\n"
     ]
    },
    {
     "name": "stderr",
     "output_type": "stream",
     "text": [
      "100%|███████████████████████████████████████████| 41/41 [00:26<00:00,  1.54it/s]\n",
      "100%|███████████████████████████████████████████| 11/11 [00:02<00:00,  4.24it/s]\n"
     ]
    },
    {
     "name": "stdout",
     "output_type": "stream",
     "text": [
      "# Epoch 42 / 80\n"
     ]
    },
    {
     "name": "stderr",
     "output_type": "stream",
     "text": [
      "100%|███████████████████████████████████████████| 41/41 [00:26<00:00,  1.57it/s]\n",
      "100%|███████████████████████████████████████████| 11/11 [00:02<00:00,  4.46it/s]\n"
     ]
    },
    {
     "name": "stdout",
     "output_type": "stream",
     "text": [
      "# Epoch 43 / 80\n"
     ]
    },
    {
     "name": "stderr",
     "output_type": "stream",
     "text": [
      "100%|███████████████████████████████████████████| 41/41 [00:26<00:00,  1.54it/s]\n",
      "100%|███████████████████████████████████████████| 11/11 [00:02<00:00,  4.78it/s]\n"
     ]
    },
    {
     "name": "stdout",
     "output_type": "stream",
     "text": [
      "# Epoch 44 / 80\n"
     ]
    },
    {
     "name": "stderr",
     "output_type": "stream",
     "text": [
      "100%|███████████████████████████████████████████| 41/41 [00:26<00:00,  1.53it/s]\n",
      "100%|███████████████████████████████████████████| 11/11 [00:02<00:00,  4.79it/s]\n"
     ]
    },
    {
     "name": "stdout",
     "output_type": "stream",
     "text": [
      "# Epoch 45 / 80\n"
     ]
    },
    {
     "name": "stderr",
     "output_type": "stream",
     "text": [
      "100%|███████████████████████████████████████████| 41/41 [00:26<00:00,  1.54it/s]\n",
      "100%|███████████████████████████████████████████| 11/11 [00:02<00:00,  4.53it/s]\n"
     ]
    },
    {
     "name": "stdout",
     "output_type": "stream",
     "text": [
      "# Epoch 46 / 80\n"
     ]
    },
    {
     "name": "stderr",
     "output_type": "stream",
     "text": [
      "100%|███████████████████████████████████████████| 41/41 [00:27<00:00,  1.51it/s]\n",
      "100%|███████████████████████████████████████████| 11/11 [00:02<00:00,  4.30it/s]\n"
     ]
    },
    {
     "name": "stdout",
     "output_type": "stream",
     "text": [
      "# Epoch 47 / 80\n"
     ]
    },
    {
     "name": "stderr",
     "output_type": "stream",
     "text": [
      "100%|███████████████████████████████████████████| 41/41 [00:26<00:00,  1.55it/s]\n",
      "100%|███████████████████████████████████████████| 11/11 [00:02<00:00,  4.43it/s]\n"
     ]
    },
    {
     "name": "stdout",
     "output_type": "stream",
     "text": [
      "# Epoch 48 / 80\n"
     ]
    },
    {
     "name": "stderr",
     "output_type": "stream",
     "text": [
      "100%|███████████████████████████████████████████| 41/41 [00:25<00:00,  1.58it/s]\n",
      "100%|███████████████████████████████████████████| 11/11 [00:02<00:00,  4.08it/s]\n"
     ]
    },
    {
     "name": "stdout",
     "output_type": "stream",
     "text": [
      "# Epoch 49 / 80\n"
     ]
    },
    {
     "name": "stderr",
     "output_type": "stream",
     "text": [
      "100%|███████████████████████████████████████████| 41/41 [00:26<00:00,  1.55it/s]\n",
      "100%|███████████████████████████████████████████| 11/11 [00:02<00:00,  4.22it/s]\n"
     ]
    },
    {
     "name": "stdout",
     "output_type": "stream",
     "text": [
      "# Epoch 50 / 80\n"
     ]
    },
    {
     "name": "stderr",
     "output_type": "stream",
     "text": [
      "100%|███████████████████████████████████████████| 41/41 [00:25<00:00,  1.58it/s]\n",
      "100%|███████████████████████████████████████████| 11/11 [00:02<00:00,  4.32it/s]\n"
     ]
    },
    {
     "name": "stdout",
     "output_type": "stream",
     "text": [
      "# Epoch 51 / 80\n"
     ]
    },
    {
     "name": "stderr",
     "output_type": "stream",
     "text": [
      "100%|███████████████████████████████████████████| 41/41 [00:26<00:00,  1.58it/s]\n",
      "100%|███████████████████████████████████████████| 11/11 [00:02<00:00,  4.46it/s]\n"
     ]
    },
    {
     "name": "stdout",
     "output_type": "stream",
     "text": [
      "# Epoch 52 / 80\n"
     ]
    },
    {
     "name": "stderr",
     "output_type": "stream",
     "text": [
      "100%|███████████████████████████████████████████| 41/41 [00:26<00:00,  1.55it/s]\n",
      "100%|███████████████████████████████████████████| 11/11 [00:02<00:00,  4.56it/s]\n"
     ]
    },
    {
     "name": "stdout",
     "output_type": "stream",
     "text": [
      "# Epoch 53 / 80\n"
     ]
    },
    {
     "name": "stderr",
     "output_type": "stream",
     "text": [
      "100%|███████████████████████████████████████████| 41/41 [00:26<00:00,  1.57it/s]\n",
      "100%|███████████████████████████████████████████| 11/11 [00:02<00:00,  4.46it/s]\n"
     ]
    },
    {
     "name": "stdout",
     "output_type": "stream",
     "text": [
      "# Epoch 54 / 80\n"
     ]
    },
    {
     "name": "stderr",
     "output_type": "stream",
     "text": [
      "100%|███████████████████████████████████████████| 41/41 [00:25<00:00,  1.58it/s]\n",
      "100%|███████████████████████████████████████████| 11/11 [00:02<00:00,  4.74it/s]\n"
     ]
    },
    {
     "name": "stdout",
     "output_type": "stream",
     "text": [
      "# Epoch 55 / 80\n"
     ]
    },
    {
     "name": "stderr",
     "output_type": "stream",
     "text": [
      "100%|███████████████████████████████████████████| 41/41 [00:26<00:00,  1.56it/s]\n",
      "100%|███████████████████████████████████████████| 11/11 [00:02<00:00,  4.36it/s]\n"
     ]
    },
    {
     "name": "stdout",
     "output_type": "stream",
     "text": [
      "# Epoch 56 / 80\n"
     ]
    },
    {
     "name": "stderr",
     "output_type": "stream",
     "text": [
      "100%|███████████████████████████████████████████| 41/41 [00:26<00:00,  1.54it/s]\n",
      "100%|███████████████████████████████████████████| 11/11 [00:02<00:00,  4.50it/s]\n"
     ]
    },
    {
     "name": "stdout",
     "output_type": "stream",
     "text": [
      "# Epoch 57 / 80\n"
     ]
    },
    {
     "name": "stderr",
     "output_type": "stream",
     "text": [
      "100%|███████████████████████████████████████████| 41/41 [00:25<00:00,  1.58it/s]\n",
      "100%|███████████████████████████████████████████| 11/11 [00:02<00:00,  4.03it/s]\n"
     ]
    },
    {
     "name": "stdout",
     "output_type": "stream",
     "text": [
      "# Epoch 58 / 80\n"
     ]
    },
    {
     "name": "stderr",
     "output_type": "stream",
     "text": [
      "100%|███████████████████████████████████████████| 41/41 [00:26<00:00,  1.57it/s]\n",
      "100%|███████████████████████████████████████████| 11/11 [00:02<00:00,  4.40it/s]\n"
     ]
    },
    {
     "name": "stdout",
     "output_type": "stream",
     "text": [
      "# Epoch 59 / 80\n"
     ]
    },
    {
     "name": "stderr",
     "output_type": "stream",
     "text": [
      "100%|███████████████████████████████████████████| 41/41 [00:26<00:00,  1.53it/s]\n",
      "100%|███████████████████████████████████████████| 11/11 [00:02<00:00,  4.11it/s]\n"
     ]
    },
    {
     "name": "stdout",
     "output_type": "stream",
     "text": [
      "# Epoch 60 / 80\n"
     ]
    },
    {
     "name": "stderr",
     "output_type": "stream",
     "text": [
      "100%|███████████████████████████████████████████| 41/41 [00:26<00:00,  1.55it/s]\n",
      "100%|███████████████████████████████████████████| 11/11 [00:02<00:00,  4.06it/s]\n"
     ]
    },
    {
     "name": "stdout",
     "output_type": "stream",
     "text": [
      "# Epoch 61 / 80\n"
     ]
    },
    {
     "name": "stderr",
     "output_type": "stream",
     "text": [
      "100%|███████████████████████████████████████████| 41/41 [00:26<00:00,  1.55it/s]\n",
      "100%|███████████████████████████████████████████| 11/11 [00:02<00:00,  4.42it/s]\n"
     ]
    },
    {
     "name": "stdout",
     "output_type": "stream",
     "text": [
      "# Epoch 62 / 80\n"
     ]
    },
    {
     "name": "stderr",
     "output_type": "stream",
     "text": [
      "100%|███████████████████████████████████████████| 41/41 [00:26<00:00,  1.56it/s]\n",
      "100%|███████████████████████████████████████████| 11/11 [00:02<00:00,  4.53it/s]\n"
     ]
    },
    {
     "name": "stdout",
     "output_type": "stream",
     "text": [
      "# Epoch 63 / 80\n"
     ]
    },
    {
     "name": "stderr",
     "output_type": "stream",
     "text": [
      "100%|███████████████████████████████████████████| 41/41 [00:26<00:00,  1.58it/s]\n",
      "100%|███████████████████████████████████████████| 11/11 [00:02<00:00,  4.42it/s]\n"
     ]
    },
    {
     "name": "stdout",
     "output_type": "stream",
     "text": [
      "# Epoch 64 / 80\n"
     ]
    },
    {
     "name": "stderr",
     "output_type": "stream",
     "text": [
      "100%|███████████████████████████████████████████| 41/41 [00:26<00:00,  1.54it/s]\n",
      "100%|███████████████████████████████████████████| 11/11 [00:02<00:00,  4.46it/s]\n"
     ]
    },
    {
     "name": "stdout",
     "output_type": "stream",
     "text": [
      "# Epoch 65 / 80\n"
     ]
    },
    {
     "name": "stderr",
     "output_type": "stream",
     "text": [
      "100%|███████████████████████████████████████████| 41/41 [00:26<00:00,  1.55it/s]\n",
      "100%|███████████████████████████████████████████| 11/11 [00:02<00:00,  4.59it/s]\n"
     ]
    },
    {
     "name": "stdout",
     "output_type": "stream",
     "text": [
      "# Epoch 66 / 80\n"
     ]
    },
    {
     "name": "stderr",
     "output_type": "stream",
     "text": [
      "100%|███████████████████████████████████████████| 41/41 [00:27<00:00,  1.52it/s]\n",
      "100%|███████████████████████████████████████████| 11/11 [00:02<00:00,  4.00it/s]\n"
     ]
    },
    {
     "name": "stdout",
     "output_type": "stream",
     "text": [
      "# Epoch 67 / 80\n"
     ]
    },
    {
     "name": "stderr",
     "output_type": "stream",
     "text": [
      "100%|███████████████████████████████████████████| 41/41 [00:27<00:00,  1.49it/s]\n",
      "100%|███████████████████████████████████████████| 11/11 [00:02<00:00,  3.70it/s]\n"
     ]
    },
    {
     "name": "stdout",
     "output_type": "stream",
     "text": [
      "# Epoch 68 / 80\n"
     ]
    },
    {
     "name": "stderr",
     "output_type": "stream",
     "text": [
      "100%|███████████████████████████████████████████| 41/41 [00:27<00:00,  1.50it/s]\n",
      "100%|███████████████████████████████████████████| 11/11 [00:02<00:00,  3.76it/s]\n"
     ]
    },
    {
     "name": "stdout",
     "output_type": "stream",
     "text": [
      "# Epoch 69 / 80\n"
     ]
    },
    {
     "name": "stderr",
     "output_type": "stream",
     "text": [
      "100%|███████████████████████████████████████████| 41/41 [00:28<00:00,  1.42it/s]\n",
      "100%|███████████████████████████████████████████| 11/11 [00:03<00:00,  3.65it/s]\n"
     ]
    },
    {
     "name": "stdout",
     "output_type": "stream",
     "text": [
      "# Epoch 70 / 80\n"
     ]
    },
    {
     "name": "stderr",
     "output_type": "stream",
     "text": [
      "100%|███████████████████████████████████████████| 41/41 [00:25<00:00,  1.58it/s]\n",
      "100%|███████████████████████████████████████████| 11/11 [00:03<00:00,  3.04it/s]\n"
     ]
    },
    {
     "name": "stdout",
     "output_type": "stream",
     "text": [
      "# Epoch 71 / 80\n"
     ]
    },
    {
     "name": "stderr",
     "output_type": "stream",
     "text": [
      "100%|███████████████████████████████████████████| 41/41 [00:25<00:00,  1.60it/s]\n",
      "100%|███████████████████████████████████████████| 11/11 [00:03<00:00,  3.11it/s]\n"
     ]
    },
    {
     "name": "stdout",
     "output_type": "stream",
     "text": [
      "# Epoch 72 / 80\n"
     ]
    },
    {
     "name": "stderr",
     "output_type": "stream",
     "text": [
      "100%|███████████████████████████████████████████| 41/41 [00:25<00:00,  1.62it/s]\n",
      "100%|███████████████████████████████████████████| 11/11 [00:03<00:00,  3.17it/s]\n"
     ]
    },
    {
     "name": "stdout",
     "output_type": "stream",
     "text": [
      "# Epoch 73 / 80\n"
     ]
    },
    {
     "name": "stderr",
     "output_type": "stream",
     "text": [
      "100%|███████████████████████████████████████████| 41/41 [00:25<00:00,  1.58it/s]\n",
      "100%|███████████████████████████████████████████| 11/11 [00:04<00:00,  2.63it/s]\n"
     ]
    },
    {
     "name": "stdout",
     "output_type": "stream",
     "text": [
      "# Epoch 74 / 80\n"
     ]
    },
    {
     "name": "stderr",
     "output_type": "stream",
     "text": [
      "100%|███████████████████████████████████████████| 41/41 [00:26<00:00,  1.57it/s]\n",
      "100%|███████████████████████████████████████████| 11/11 [00:03<00:00,  3.15it/s]\n"
     ]
    },
    {
     "name": "stdout",
     "output_type": "stream",
     "text": [
      "# Epoch 75 / 80\n"
     ]
    },
    {
     "name": "stderr",
     "output_type": "stream",
     "text": [
      "100%|███████████████████████████████████████████| 41/41 [00:26<00:00,  1.57it/s]\n",
      "100%|███████████████████████████████████████████| 11/11 [00:02<00:00,  4.34it/s]\n"
     ]
    },
    {
     "name": "stdout",
     "output_type": "stream",
     "text": [
      "# Epoch 76 / 80\n"
     ]
    },
    {
     "name": "stderr",
     "output_type": "stream",
     "text": [
      "100%|███████████████████████████████████████████| 41/41 [00:26<00:00,  1.57it/s]\n",
      "100%|███████████████████████████████████████████| 11/11 [00:02<00:00,  4.21it/s]\n"
     ]
    },
    {
     "name": "stdout",
     "output_type": "stream",
     "text": [
      "# Epoch 77 / 80\n"
     ]
    },
    {
     "name": "stderr",
     "output_type": "stream",
     "text": [
      "100%|███████████████████████████████████████████| 41/41 [00:25<00:00,  1.62it/s]\n",
      "100%|███████████████████████████████████████████| 11/11 [00:02<00:00,  3.74it/s]\n"
     ]
    },
    {
     "name": "stdout",
     "output_type": "stream",
     "text": [
      "# Epoch 78 / 80\n"
     ]
    },
    {
     "name": "stderr",
     "output_type": "stream",
     "text": [
      "100%|███████████████████████████████████████████| 41/41 [00:26<00:00,  1.58it/s]\n",
      "100%|███████████████████████████████████████████| 11/11 [00:02<00:00,  3.89it/s]\n"
     ]
    },
    {
     "name": "stdout",
     "output_type": "stream",
     "text": [
      "# Epoch 79 / 80\n"
     ]
    },
    {
     "name": "stderr",
     "output_type": "stream",
     "text": [
      "100%|███████████████████████████████████████████| 41/41 [00:24<00:00,  1.67it/s]\n",
      "100%|███████████████████████████████████████████| 11/11 [00:02<00:00,  4.14it/s]\n"
     ]
    },
    {
     "name": "stdout",
     "output_type": "stream",
     "text": [
      "# Epoch 80 / 80\n"
     ]
    },
    {
     "name": "stderr",
     "output_type": "stream",
     "text": [
      "100%|███████████████████████████████████████████| 41/41 [00:24<00:00,  1.65it/s]\n",
      "100%|███████████████████████████████████████████| 11/11 [00:02<00:00,  4.22it/s]\n"
     ]
    },
    {
     "data": {
      "text/html": [
       "Waiting for W&B process to finish... <strong style=\"color:green\">(success).</strong>"
      ],
      "text/plain": [
       "<IPython.core.display.HTML object>"
      ]
     },
     "metadata": {},
     "output_type": "display_data"
    },
    {
     "data": {
      "application/vnd.jupyter.widget-view+json": {
       "model_id": "",
       "version_major": 2,
       "version_minor": 0
      },
      "text/plain": [
       "VBox(children=(Label(value='0.687 MB of 0.695 MB uploaded (0.000 MB deduped)\\r'), FloatProgress(value=0.988645…"
      ]
     },
     "metadata": {},
     "output_type": "display_data"
    },
    {
     "data": {
      "text/html": [
       "<style>\n",
       "    table.wandb td:nth-child(1) { padding: 0 10px; text-align: left ; width: auto;} td:nth-child(2) {text-align: left ; width: 100%}\n",
       "    .wandb-row { display: flex; flex-direction: row; flex-wrap: wrap; justify-content: flex-start; width: 100% }\n",
       "    .wandb-col { display: flex; flex-direction: column; flex-basis: 100%; flex: 1; padding: 10px; }\n",
       "    </style>\n",
       "<div class=\"wandb-row\"><div class=\"wandb-col\"><h3>Run history:</h3><br/><table class=\"wandb\"><tr><td>train_mae</td><td>█▄▃▂▂▂▂▁▁▁▁▁▁▁▁▁▁▁▁▁▁▁▁▁▁▁▁▁▁▁▁▁▁▁▁▁▁▁▁▁</td></tr><tr><td>train_mse</td><td>█▂▂▂▂▁▂▁▁▁▁▁▁▁▁▁▁▁▁▁▁▁▁▁▁▁▁▁▁▁▁▁▁▁▁▁▁▁▁▁</td></tr><tr><td>train_pearson</td><td>▁▂▃▃▂▅▄▅▆▆▆▆▇▆▆▆▆▇▇▇▇▆▇▇▇▇▇▇███▇█▇████▇█</td></tr><tr><td>train_rloss</td><td>█▆▄▃▃▃▃▃▂▂▁▂▂▂▂▃▃▂▂▂▂▂▂▂▂▂▁▂▃▁▂▂▁▂▁▁▂▁▂▁</td></tr><tr><td>train_spearman</td><td>▁▁▂▂▃▃▄▅▅▆▅▆▅▆▆▆▆▆▆▆▆▆▆▇▇▇▇▇▆▇▇▇▇▇▇▇▇█▇█</td></tr><tr><td>valid_mae</td><td>▆▄▃▂▃▁▆█▁▃▂▁▅▂▃▂▄▁▂▂▆▁▆▁▂▇▂▅▁▅▁▄▂▇▃█▅▃▂▅</td></tr><tr><td>valid_mse</td><td>▄▆▃▃▅▃▇█▃▄▄▃▆▄▅▃▅▃▃▃▆▂▇▁▃▇▃▆▂▅▁▅▂▇▄█▆▂▁▅</td></tr><tr><td>valid_pearson</td><td>▁▇▆▆▆▇▇▇▇█▇▇█▇▇▇▇▇▇█▇██████▇█▇█▇▇█▇▆█▇██</td></tr><tr><td>valid_rloss</td><td>█▆▅▆▇▁▅▆▂▅▃▄▆▅▅█▅▂▅▅▅▄▄▂▃▄▃▅▃▆▅▆▃▇▅█▄▃▅▅</td></tr><tr><td>valid_spearman</td><td>▁▆▆▇▇▇▇▇▇▇██▇▇█▇▇█████▇██▇▇▇█▇█▇█▆▇▅▇▇▇█</td></tr></table><br/></div><div class=\"wandb-col\"><h3>Run summary:</h3><br/><table class=\"wandb\"><tr><td>train_mae</td><td>0.0823</td></tr><tr><td>train_mse</td><td>0.04391</td></tr><tr><td>train_pearson</td><td>0.45967</td></tr><tr><td>train_rloss</td><td>0.17009</td></tr><tr><td>train_spearman</td><td>0.57924</td></tr><tr><td>valid_mae</td><td>0.13036</td></tr><tr><td>valid_mse</td><td>0.0823</td></tr><tr><td>valid_pearson</td><td>0.53788</td></tr><tr><td>valid_rloss</td><td>0.22992</td></tr><tr><td>valid_spearman</td><td>0.64642</td></tr></table><br/></div></div>"
      ],
      "text/plain": [
       "<IPython.core.display.HTML object>"
      ]
     },
     "metadata": {},
     "output_type": "display_data"
    },
    {
     "data": {
      "text/html": [
       "Synced <strong style=\"color:#cdcd00\">good-sun-1</strong>: <a href=\"https://wandb.ai/hei-jung/20230118-WMHvolICV/runs/1xx3lk0v\" target=\"_blank\">https://wandb.ai/hei-jung/20230118-WMHvolICV/runs/1xx3lk0v</a><br/>Synced 6 W&B file(s), 80 media file(s), 0 artifact file(s) and 0 other file(s)"
      ],
      "text/plain": [
       "<IPython.core.display.HTML object>"
      ]
     },
     "metadata": {},
     "output_type": "display_data"
    },
    {
     "data": {
      "text/html": [
       "Find logs at: <code>./wandb/run-20230118_211754-1xx3lk0v/logs</code>"
      ],
      "text/plain": [
       "<IPython.core.display.HTML object>"
      ]
     },
     "metadata": {},
     "output_type": "display_data"
    }
   ],
   "source": [
    "set_seed()\n",
    "\n",
    "#### model: simple net####\n",
    "model = SFCN()\n",
    "if dropout_rate != 0.5:\n",
    "    model.classifier.dropout.p = dropout_rate\n",
    "###########################\n",
    "\n",
    "# #### model: simple net, leakyReLU added ####\n",
    "# model = SFCN()\n",
    "# if dropout_rate != 0.5:\n",
    "#     model.classifier.dropout.p = dropout_rate\n",
    "# model.fc.add_module('relu', nn.LeakyReLU())\n",
    "# ###########################\n",
    "\n",
    "# #### model: simple SE net ####\n",
    "# model = SFCN()\n",
    "# if dropout_rate != 0.5:\n",
    "#     model.classifier.dropout.p = dropout_rate\n",
    "# model.seblock = SEBlock(64)\n",
    "# model.forward = types.MethodType(forward, model)\n",
    "# ##############################\n",
    "\n",
    "# #### model: resnet26 ####\n",
    "# model = resnet26(in_channels=1, num_classes=1)\n",
    "# #########################\n",
    "\n",
    "# #### model: inception-resnet-v2 ####\n",
    "# model = inception_resnet_v2(in_channels=1, num_classes=1)\n",
    "# ####################################\n",
    "\n",
    "# #### model: densenet ####\n",
    "# model = densenet(121, in_channels=1, num_classes=1)\n",
    "# #########################\n",
    "\n",
    "model.to(device)\n",
    "wandb.init(project='20230118-WMHvolICV',\n",
    "           config={\"model\": \"sfcn\", \"dropout\": dropout_rate, \n",
    "                   \"lr\": lr, \"weight_decay\": weight_decay, \"epochs\": epochs, \"batch_size\": batch_size,\n",
    "                   \"cost_function\": \"l1_loss\"},\n",
    "           notes=\"T1, augmentation\")\n",
    "wandb.watch(model)\n",
    "\n",
    "best_rec, best_p, best_s = 0, 0, 0   # best_rec: best validation ranking loss\n",
    "\n",
    "set_seed()\n",
    "for epoch in range(epochs):\n",
    "    print('# Epoch %d / %d'%(epoch + 1, epochs))    \n",
    "    if aug:\n",
    "        augment = get_augmentation_transform()\n",
    "        train_set = NeckDataset(X_train, y_train, transform=augment)\n",
    "        train_loader = DataLoader(train_set, batch_size=batch_size, num_workers=16)\n",
    "\n",
    "    # log image to check if augmentation is same for every experiment\n",
    "    img = wandb.Image(np.max(train_set[0][0].squeeze(), axis=1), caption=\"Coronal MIP\")\n",
    "\n",
    "    preds_t, truths_t, rloss_t, mae_t, mse_t = train(model, train_loader, lr, weight_decay, optimizer)\n",
    "    preds_v, truths_v, rloss_v, mae_v, mse_v = valid(model, valid_loader)\n",
    "\n",
    "    train_p, _ = pearsonr(preds_t, truths_t)\n",
    "    train_s, _ = spearmanr(preds_t, truths_t)\n",
    "    train_mae = mae_t / len(train_loader)\n",
    "    train_mse = mse_t / len(train_loader)\n",
    "    train_rloss = rloss_t / len(train_loader)\n",
    "\n",
    "    valid_p, _ = pearsonr(preds_v, truths_v)\n",
    "    valid_s, _ = spearmanr(preds_v, truths_v)\n",
    "    valid_mae = mae_v / len(valid_loader)\n",
    "    valid_mse = mse_v / len(valid_loader)\n",
    "    valid_rloss = rloss_v / len(valid_loader)\n",
    "\n",
    "    if epoch < 1 or best_rec > valid_mae:\n",
    "        best_rec = valid_rloss\n",
    "        torch.save(model.state_dict(), 'pretrained/230118_T1WMHicv_sfcn+mae_best')\n",
    "    if best_p < valid_p:\n",
    "        best_p = valid_p\n",
    "    if best_s < valid_s:\n",
    "        best_s = valid_s\n",
    "\n",
    "    wandb.log({\"train_mae\": train_mae, \"train_mse\": train_mse, \"valid_mae\": valid_mae, \"valid_mse\": valid_mse,\n",
    "               \"train_pearson\": train_p, \"train_spearman\": train_s, \"valid_pearson\": valid_p, \"valid_spearman\": valid_s,\n",
    "               \"sample_img\": img, \"train_rloss\": train_rloss, \"valid_rloss\": valid_rloss})\n",
    "wandb.finish()\n",
    "torch.save(model.state_dict(), f'pretrained/230118_T1WMHicv_sfcn+mae_epoch{epochs}')"
   ]
  },
  {
   "cell_type": "code",
   "execution_count": 18,
   "id": "f495f821",
   "metadata": {
    "scrolled": true
   },
   "outputs": [
    {
     "data": {
      "text/plain": [
       "(0.0, 1.0)"
      ]
     },
     "execution_count": 18,
     "metadata": {},
     "output_type": "execute_result"
    }
   ],
   "source": [
    "# y_min, y_max = y.min(), y.max()\n",
    "y_min, y_max = 0.0, 1.0\n",
    "y_min, y_max"
   ]
  },
  {
   "cell_type": "code",
   "execution_count": 19,
   "id": "ba474024",
   "metadata": {},
   "outputs": [],
   "source": [
    "import seaborn as sns\n",
    "\n",
    "def predict(model, data_loader, title='', line=False):\n",
    "    model.eval()\n",
    "    preds, truths = np.array([]), np.array([])\n",
    "    with torch.no_grad():\n",
    "        for inputs, labels in tqdm(data_loader):\n",
    "            inputs, labels = inputs.to(device, dtype=torch.float), labels.to(device, dtype=torch.float)\n",
    "            output = model(inputs)\n",
    "            pred = output.detach().cpu().numpy()\n",
    "            truth = labels.detach().cpu().numpy()\n",
    "            preds = np.append(preds, pred.reshape(pred.size), axis=0)\n",
    "            truths = np.append(truths, truth.reshape(truth.size), axis=0)\n",
    "        \n",
    "    # Get correlation coefficients\n",
    "    pearson, pearson_p = pearsonr(preds, truths)\n",
    "    spearman, spearman_p = spearmanr(preds, truths)\n",
    "    \n",
    "    # For range setting\n",
    "    _min = y_min\n",
    "    _max = y_max\n",
    "    \n",
    "    # Figure size\n",
    "#     plt.figure(figsize=(5, 5))\n",
    "    \n",
    "    # Reference line\n",
    "    x = np.linspace(_min, _max)\n",
    "    y = x\n",
    "    plt.plot(x, y, c='gray', ls='--', label='Reference r = 1.0')\n",
    "    \n",
    "    # Regression Plot\n",
    "    \n",
    "    ## Scatter\n",
    "    plt.scatter(truths, preds, c='steelblue', label='Pearson\\'s r = {:.2f} / Spearman\\'s r = {:.2f}'.format(pearson,spearman))\n",
    "    \n",
    "    ## Linear Regression Line\n",
    "    if line:\n",
    "        m, b = np.polyfit(truths, preds, 1)\n",
    "        plt.plot(truths, m*truths + b, c='steelblue', label='m = {:.2f}'.format(m))\n",
    "#     # Regression Plot at once\n",
    "#     sns.regplot(x=truths, y=preds, ci=None, color='steelblue', label='Pearson r = {:.2f}'.format(pearson))\n",
    "\n",
    "    if title != '':\n",
    "        plt.title(title)\n",
    "    \n",
    "    plt.axis('square')\n",
    "    plt.ylabel('Predicted WMH'); plt.xlabel('Ground Truth')\n",
    "    plt.legend()\n",
    "    plt.tight_layout()\n",
    "    plt.xlim([_min, _max])\n",
    "    plt.ylim([_min, _max])\n",
    "    plt.show()\n",
    "    plt.close()\n",
    "    \n",
    "    return preds, truths"
   ]
  },
  {
   "cell_type": "code",
   "execution_count": 20,
   "id": "b4c8f9c0",
   "metadata": {
    "scrolled": true
   },
   "outputs": [
    {
     "name": "stderr",
     "output_type": "stream",
     "text": [
      "100%|███████████████████████████████████████████| 11/11 [00:02<00:00,  4.52it/s]\n"
     ]
    },
    {
     "data": {
      "image/png": "[encoded data removed]",
      "text/plain": [
       "<Figure size 432x288 with 1 Axes>"
      ]
     },
     "metadata": {
      "needs_background": "light"
     },
     "output_type": "display_data"
    }
   ],
   "source": [
    "_,_ = predict(model, test_loader)"
   ]
  },
  {
   "cell_type": "code",
   "execution_count": 21,
   "id": "df0a3066",
   "metadata": {},
   "outputs": [
    {
     "name": "stderr",
     "output_type": "stream",
     "text": [
      "100%|███████████████████████████████████████████| 51/51 [00:07<00:00,  6.91it/s]\n"
     ]
    },
    {
     "data": {
      "image/png": "[encoded data removed]",
      "text/plain": [
       "<Figure size 432x288 with 1 Axes>"
      ]
     },
     "metadata": {
      "needs_background": "light"
     },
     "output_type": "display_data"
    }
   ],
   "source": [
    "dataset = NeckDataset(train_X, train_y)\n",
    "data_loader = DataLoader(dataset, batch_size=batch_size, num_workers=16)\n",
    "_,_ = predict(model, data_loader, 'Training set')"
   ]
  },
  {
   "cell_type": "code",
   "execution_count": 23,
   "id": "10c222c2",
   "metadata": {},
   "outputs": [
    {
     "name": "stderr",
     "output_type": "stream",
     "text": [
      "100%|███████████████████████████████████████████| 11/11 [00:02<00:00,  4.58it/s]\n"
     ]
    },
    {
     "data": {
      "image/png": "[encoded data removed]",
      "text/plain": [
       "<Figure size 432x288 with 1 Axes>"
      ]
     },
     "metadata": {
      "needs_background": "light"
     },
     "output_type": "display_data"
    }
   ],
   "source": [
    "net = SFCN()\n",
    "net.load_state_dict(torch.load('pretrained/230118_T1WMHicv_sfcn+mae_best'))\n",
    "net.to(device)\n",
    "_,_ = predict(net, test_loader)"
   ]
  }
 ],
 "metadata": {
  "kernelspec": {
   "display_name": "Python 3 (ipykernel)",
   "language": "python",
   "name": "python3"
  },
  "language_info": {
   "codemirror_mode": {
    "name": "ipython",
    "version": 3
   },
   "file_extension": ".py",
   "mimetype": "text/x-python",
   "name": "python",
   "nbconvert_exporter": "python",
   "pygments_lexer": "ipython3",
   "version": "3.9.5"
  }
 },
 "nbformat": 4,
 "nbformat_minor": 5
}
