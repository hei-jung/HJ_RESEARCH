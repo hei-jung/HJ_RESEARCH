{
 "cells": [
  {
   "cell_type": "markdown",
   "id": "7dea2068",
   "metadata": {},
   "source": [
    "## 이미지 NIFTI <===> NUMPY 변환"
   ]
  },
  {
   "cell_type": "code",
   "execution_count": 1,
   "id": "3e4edd5e",
   "metadata": {},
   "outputs": [
    {
     "data": {
      "text/plain": [
       "'/home/jhj/Desktop/HJ_RESEARCH/snu_brain_disease/nifti_label.zip'"
      ]
     },
     "execution_count": 1,
     "metadata": {},
     "output_type": "execute_result"
    }
   ],
   "source": [
    "# label 확인용\n",
    "import shutil\n",
    "shutil.make_archive('nifti_label', 'zip', './seg_nifti_300/')"
   ]
  },
  {
   "cell_type": "markdown",
   "id": "745da602",
   "metadata": {},
   "source": [
    "---"
   ]
  },
  {
   "cell_type": "code",
   "execution_count": 1,
   "id": "2eedc98f",
   "metadata": {},
   "outputs": [
    {
     "name": "stderr",
     "output_type": "stream",
     "text": [
      "100%|█████████████████████████████████████████| 975/975 [19:34<00:00,  1.20s/it]\n"
     ]
    }
   ],
   "source": [
    "# NIFTI ---> NUMPY\n",
    "import pandas as pd\n",
    "import nibabel as nib\n",
    "import numpy as np\n",
    "import os\n",
    "from tqdm import tqdm\n",
    "\n",
    "img_dir = './input_nifti_300/'\n",
    "save_path_np = './input_numpy_300/'\n",
    "\n",
    "df = pd.read_csv('labels/data_975.csv', index_col=0)\n",
    "filenames = df.index\n",
    "\n",
    "if not os.path.isdir(save_path_np):\n",
    "    os.mkdir(save_path_np)\n",
    "\n",
    "for filename in tqdm(filenames):\n",
    "    # load nifti image\n",
    "    img = nib.load(img_dir + filename + '.nii.gz')\n",
    "    img = img.get_fdata()\n",
    "    # save as numpy\n",
    "    np.save(save_path_np + filename, img)"
   ]
  },
  {
   "cell_type": "markdown",
   "id": "11933e70",
   "metadata": {},
   "source": [
    "---"
   ]
  },
  {
   "cell_type": "code",
   "execution_count": 1,
   "id": "08a0445b",
   "metadata": {},
   "outputs": [],
   "source": [
    "import pandas as pd\n",
    "import numpy as np\n",
    "import nibabel as nib\n",
    "import os\n",
    "from tqdm import tqdm\n",
    "import matplotlib.pyplot as plt"
   ]
  },
  {
   "cell_type": "code",
   "execution_count": 4,
   "id": "929fcacd",
   "metadata": {},
   "outputs": [
    {
     "name": "stderr",
     "output_type": "stream",
     "text": [
      "100%|█████████████████████████████████████████| 975/975 [41:30<00:00,  2.55s/it]\n"
     ]
    }
   ],
   "source": [
    "\"\"\"\n",
    "CROP FIRST THEN RESIZE\n",
    "[ dim x pixdim = mm ]\n",
    "\"\"\"\n",
    "from scipy.ndimage import zoom\n",
    "\n",
    "img_dir = './input_nifti/'\n",
    "img_dir2 = './test_nifti/'\n",
    "label_dir = 'labels/data_975.csv'\n",
    "save_path_img = './input_nifti_300/'\n",
    "\n",
    "df = pd.read_csv(label_dir, index_col=0)\n",
    "\n",
    "img_path_list = df.index\n",
    "\n",
    "if not os.path.isdir(save_path_img):\n",
    "    os.mkdir(save_path_img)\n",
    "\n",
    "for index in tqdm(img_path_list):\n",
    "    path = img_dir + index + '.nii.gz'\n",
    "    \n",
    "    if os.path.isfile(save_path_img + index + '.nii.gz'):\n",
    "        continue\n",
    "        \n",
    "    if not os.path.isfile(path):\n",
    "        path = img_dir2 + index + '.nii.gz'\n",
    "\n",
    "    img = nib.load(path)\n",
    "    dim = img.header['dim']\n",
    "    pixdim = img.header['pixdim']\n",
    "    img = img.get_fdata()\n",
    "        \n",
    "    scale_x = 300 / dim[1]\n",
    "    scale_y = 300 / dim[2]\n",
    "    scale_z = 300 / dim[3]\n",
    "\n",
    "    img = zoom(img, (scale_x, scale_y, scale_z))\n",
    "            \n",
    "#    # check\n",
    "#     print(img.shape)\n",
    "    \n",
    "#     plt.subplot(1, 3, 1)\n",
    "#     plt.title('coronal')\n",
    "#     plt.imshow(np.max(img, axis=1), cmap='gray')\n",
    "    \n",
    "#     plt.subplot(1, 3, 2)\n",
    "#     plt.title('sagittal')\n",
    "#     plt.imshow(img[img.shape[0]//2, :, :], cmap='gray')\n",
    "    \n",
    "#     plt.subplot(1, 3, 3)\n",
    "#     plt.title('axial')\n",
    "#     plt.imshow(img[:, :, img.shape[2]//2], cmap='gray')\n",
    "    \n",
    "#     plt.show()\n",
    "#     plt.close()\n",
    "#     break\n",
    "    \n",
    "    # save as nib\n",
    "    nifti_img = nib.Nifti1Image(img, affine=np.eye(4))\n",
    "    nib.save(nifti_img, save_path_img + index + '.nii.gz')"
   ]
  },
  {
   "cell_type": "markdown",
   "id": "544afcab",
   "metadata": {},
   "source": [
    "---"
   ]
  },
  {
   "cell_type": "code",
   "execution_count": 1,
   "id": "64fa31bc",
   "metadata": {},
   "outputs": [],
   "source": [
    "import pandas as pd\n",
    "import numpy as np\n",
    "import nibabel as nib\n",
    "import os\n",
    "from tqdm import tqdm\n",
    "import matplotlib.pyplot as plt"
   ]
  },
  {
   "cell_type": "code",
   "execution_count": 2,
   "id": "add6bacf",
   "metadata": {},
   "outputs": [
    {
     "name": "stderr",
     "output_type": "stream",
     "text": [
      "100%|█████████████████████████████████████████| 130/130 [07:00<00:00,  3.24s/it]\n"
     ]
    }
   ],
   "source": [
    "\"\"\"\n",
    "CROP FIRST THEN RESIZE\n",
    "[ dim x pixdim = mm ]\n",
    "\"\"\"\n",
    "from scipy.ndimage import zoom\n",
    "\n",
    "img_dir = './input_nifti/'\n",
    "seg_dir = './input_nifti_seg/'\n",
    "save_path_img = './input_nifti_300/'\n",
    "save_path_seg = './seg_nifti_300/'\n",
    "\n",
    "img_path_list = os.listdir(seg_dir)\n",
    "\n",
    "if not os.path.isdir(save_path_img):\n",
    "    os.mkdir(save_path_img)\n",
    "if not os.path.isdir(save_path_seg):\n",
    "    os.mkdir(save_path_seg)\n",
    "\n",
    "for img_path in tqdm(img_path_list):\n",
    "    index = img_path.split('.')[0]\n",
    "    path = img_dir + img_path\n",
    "    seg_path = seg_dir + img_path\n",
    "    \n",
    "    if os.path.isfile(save_path_seg + index + '.nii.gz'):\n",
    "        continue\n",
    "\n",
    "    img = nib.load(path)\n",
    "    dim = img.header['dim']\n",
    "    pixdim = img.header['pixdim']\n",
    "    img = img.get_fdata()\n",
    "    \n",
    "    seg = nib.load(seg_path)\n",
    "    seg = seg.get_fdata()\n",
    "        \n",
    "    scale_x = 300 / dim[1]\n",
    "    scale_y = 300 / dim[2]\n",
    "    scale_z = 300 / dim[3]\n",
    "\n",
    "    img = zoom(img, (scale_x, scale_y, scale_z))\n",
    "    seg = zoom(seg, (scale_x, scale_y, scale_z))\n",
    "            \n",
    "#    # check\n",
    "#     print(img.shape)\n",
    "    \n",
    "#     plt.subplot(1, 3, 1)\n",
    "#     plt.title('coronal')\n",
    "#     plt.imshow(np.max(img, axis=1), cmap='gray')\n",
    "    \n",
    "#     plt.subplot(1, 3, 2)\n",
    "#     plt.title('sagittal')\n",
    "#     plt.imshow(img[img.shape[0]//2, :, :], cmap='gray')\n",
    "    \n",
    "#     plt.subplot(1, 3, 3)\n",
    "#     plt.title('axial')\n",
    "#     plt.imshow(img[:, :, img.shape[2]//2], cmap='gray')\n",
    "    \n",
    "#     plt.show()\n",
    "#     plt.close()\n",
    "#     break\n",
    "    \n",
    "    # save as nib\n",
    "    nifti_img = nib.Nifti1Image(img, affine=np.eye(4))\n",
    "    nib.save(nifti_img, save_path_img + index + '.nii.gz')\n",
    "    nifti_seg = nib.Nifti1Image(seg, affine=np.eye(4))\n",
    "    nib.save(nifti_seg, save_path_seg + index + '.nii.gz')"
   ]
  },
  {
   "cell_type": "markdown",
   "id": "ee3ae936",
   "metadata": {},
   "source": [
    "---"
   ]
  },
  {
   "cell_type": "code",
   "execution_count": 1,
   "id": "08cdbbf2",
   "metadata": {},
   "outputs": [],
   "source": [
    "import pandas as pd\n",
    "import numpy as np\n",
    "import nibabel as nib\n",
    "import os\n",
    "from tqdm import tqdm\n",
    "import matplotlib.pyplot as plt"
   ]
  },
  {
   "cell_type": "code",
   "execution_count": 2,
   "id": "dfd96708",
   "metadata": {},
   "outputs": [
    {
     "name": "stderr",
     "output_type": "stream",
     "text": [
      "  3%|█                                          | 3/115 [00:01<00:53,  2.09it/s]"
     ]
    },
    {
     "name": "stdout",
     "output_type": "stream",
     "text": [
      "resampling...\n"
     ]
    },
    {
     "name": "stderr",
     "output_type": "stream",
     "text": [
      "  7%|██▉                                        | 8/115 [00:04<00:56,  1.88it/s]"
     ]
    },
    {
     "name": "stdout",
     "output_type": "stream",
     "text": [
      "resampling...\n"
     ]
    },
    {
     "name": "stderr",
     "output_type": "stream",
     "text": [
      " 31%|█████████████▏                            | 36/115 [00:18<00:37,  2.09it/s]"
     ]
    },
    {
     "name": "stdout",
     "output_type": "stream",
     "text": [
      "resampling...\n"
     ]
    },
    {
     "name": "stderr",
     "output_type": "stream",
     "text": [
      " 38%|████████████████                          | 44/115 [00:22<00:34,  2.04it/s]"
     ]
    },
    {
     "name": "stdout",
     "output_type": "stream",
     "text": [
      "resampling...\n"
     ]
    },
    {
     "name": "stderr",
     "output_type": "stream",
     "text": [
      " 43%|█████████████████▉                        | 49/115 [00:25<00:34,  1.92it/s]"
     ]
    },
    {
     "name": "stdout",
     "output_type": "stream",
     "text": [
      "resampling...\n"
     ]
    },
    {
     "name": "stderr",
     "output_type": "stream",
     "text": [
      " 46%|███████████████████▎                      | 53/115 [00:27<00:33,  1.86it/s]"
     ]
    },
    {
     "name": "stdout",
     "output_type": "stream",
     "text": [
      "resampling...\n"
     ]
    },
    {
     "name": "stderr",
     "output_type": "stream",
     "text": [
      " 48%|████████████████████                      | 55/115 [00:29<00:37,  1.61it/s]"
     ]
    },
    {
     "name": "stdout",
     "output_type": "stream",
     "text": [
      "resampling...\n"
     ]
    },
    {
     "name": "stderr",
     "output_type": "stream",
     "text": [
      " 50%|████████████████████▊                     | 57/115 [00:30<00:37,  1.54it/s]"
     ]
    },
    {
     "name": "stdout",
     "output_type": "stream",
     "text": [
      "resampling...\n"
     ]
    },
    {
     "name": "stderr",
     "output_type": "stream",
     "text": [
      " 57%|███████████████████████▋                  | 65/115 [00:35<00:24,  2.00it/s]"
     ]
    },
    {
     "name": "stdout",
     "output_type": "stream",
     "text": [
      "resampling...\n"
     ]
    },
    {
     "name": "stderr",
     "output_type": "stream",
     "text": [
      " 58%|████████████████████████▍                 | 67/115 [00:36<00:28,  1.66it/s]"
     ]
    },
    {
     "name": "stdout",
     "output_type": "stream",
     "text": [
      "resampling...\n"
     ]
    },
    {
     "name": "stderr",
     "output_type": "stream",
     "text": [
      " 67%|████████████████████████████              | 77/115 [00:41<00:18,  2.08it/s]"
     ]
    },
    {
     "name": "stdout",
     "output_type": "stream",
     "text": [
      "resampling...\n"
     ]
    },
    {
     "name": "stderr",
     "output_type": "stream",
     "text": [
      " 86%|████████████████████████████████████▏     | 99/115 [00:52<00:07,  2.10it/s]"
     ]
    },
    {
     "name": "stdout",
     "output_type": "stream",
     "text": [
      "resampling...\n"
     ]
    },
    {
     "name": "stderr",
     "output_type": "stream",
     "text": [
      "\r",
      " 87%|███████████████████████████████████▋     | 100/115 [00:53<00:09,  1.59it/s]"
     ]
    },
    {
     "name": "stdout",
     "output_type": "stream",
     "text": [
      "resampling...\n"
     ]
    },
    {
     "name": "stderr",
     "output_type": "stream",
     "text": [
      " 92%|█████████████████████████████████████▊   | 106/115 [00:57<00:04,  1.90it/s]"
     ]
    },
    {
     "name": "stdout",
     "output_type": "stream",
     "text": [
      "resampling...\n"
     ]
    },
    {
     "name": "stderr",
     "output_type": "stream",
     "text": [
      " 97%|███████████████████████████████████████▌ | 111/115 [01:00<00:02,  1.93it/s]"
     ]
    },
    {
     "name": "stdout",
     "output_type": "stream",
     "text": [
      "resampling...\n"
     ]
    },
    {
     "name": "stderr",
     "output_type": "stream",
     "text": [
      "\r",
      " 97%|███████████████████████████████████████▉ | 112/115 [01:01<00:01,  1.51it/s]"
     ]
    },
    {
     "name": "stdout",
     "output_type": "stream",
     "text": [
      "resampling...\n"
     ]
    },
    {
     "name": "stderr",
     "output_type": "stream",
     "text": [
      "100%|█████████████████████████████████████████| 115/115 [01:03<00:00,  1.82it/s]\n"
     ]
    }
   ],
   "source": [
    "\"\"\"\n",
    "CROP FIRST THEN RESIZE\n",
    "[ dim x pixdim = mm ]\n",
    "\"\"\"\n",
    "from scipy.ndimage import zoom\n",
    "\n",
    "df1 = pd.read_csv('./labels/bifurcation_zyx.csv', index_col=0)\n",
    "df2 = pd.read_csv('./labels/bifurcation_zyx_new.csv', index_col=0)\n",
    "df3 = pd.read_csv('./labels/test_bifurcation_zyx.csv', index_col=0)\n",
    "index1 = df1.index\n",
    "index2 = df2.index\n",
    "index3 = df3.index\n",
    "\n",
    "img_dir = './input_nifti_seg/'\n",
    "save_path = './seg_nifti_crop/'\n",
    "save_path_np = './seg_np/'\n",
    "\n",
    "img_path_list = os.listdir(img_dir)\n",
    "\n",
    "if not os.path.isdir(save_path):\n",
    "    os.mkdir(save_path)\n",
    "if not os.path.isdir(save_path_np):\n",
    "    os.mkdir(save_path_np)\n",
    "\n",
    "for img_path in tqdm(img_path_list):\n",
    "    index = img_path.split('.')[0]\n",
    "    path = img_dir + img_path\n",
    "    \n",
    "    if os.path.isfile(save_path + index + '.npy'):\n",
    "        continue\n",
    "        \n",
    "    if index in index1:\n",
    "        df = df1\n",
    "    if index in index2:\n",
    "        df = df2\n",
    "    elif index in index3:\n",
    "        df = df3\n",
    "        \n",
    "    x = (df.loc[index]['left_x'] + df.loc[index]['right_x']) // 2\n",
    "    y = (df.loc[index]['left_y'] + df.loc[index]['right_y']) // 2\n",
    "    z = df.loc[index]['mid_z']\n",
    "\n",
    "    img = nib.load(path)\n",
    "    pixdim = img.header['pixdim']\n",
    "    img = img.get_fdata()\n",
    "        \n",
    "    # RL: 100, SI: 100, AP 50 [mm]\n",
    "    crop_x = int(100 / pixdim[1]) // 2\n",
    "    crop_y = int(50 / pixdim[2]) // 2\n",
    "    crop_z = int(100 / pixdim[3]) // 2\n",
    "    img_crop = img[x-crop_x:x+crop_x, y-crop_y:y+crop_y, z-crop_z:z+crop_z]\n",
    "    img = img_crop\n",
    "    \n",
    "    if img.shape[2] != 98:\n",
    "        print('resampling...')\n",
    "        scale = 98 / img.shape[2]\n",
    "        img = zoom(img, (1, 1, scale))\n",
    "            \n",
    "#    # check\n",
    "#     print(img.shape)\n",
    "    \n",
    "#     plt.subplot(1, 3, 1)\n",
    "#     plt.title('coronal')\n",
    "#     plt.imshow(np.max(img, axis=1), cmap='gray')\n",
    "    \n",
    "#     plt.subplot(1, 3, 2)\n",
    "#     plt.title('sagittal')\n",
    "#     plt.imshow(img[img.shape[0]//2, :, :], cmap='gray')\n",
    "    \n",
    "#     plt.subplot(1, 3, 3)\n",
    "#     plt.title('axial')\n",
    "#     plt.imshow(img[:, :, img.shape[2]//2], cmap='gray')\n",
    "    \n",
    "#     plt.show()\n",
    "#     plt.close()\n",
    "#     break\n",
    "\n",
    "    # save as numpy\n",
    "    np.save(save_path_np + index, img)\n",
    "    \n",
    "    # save as nib\n",
    "    nifti_img = nib.Nifti1Image(img, affine=np.eye(4))\n",
    "    nib.save(nifti_img, save_path + index + '.nii.gz')"
   ]
  },
  {
   "cell_type": "markdown",
   "id": "2ee451ef",
   "metadata": {},
   "source": [
    "---"
   ]
  },
  {
   "cell_type": "code",
   "execution_count": 2,
   "id": "973222a5",
   "metadata": {},
   "outputs": [],
   "source": [
    "import pandas as pd\n",
    "import numpy as np\n",
    "import nibabel as nib\n",
    "import os\n",
    "from tqdm import tqdm\n",
    "import matplotlib.pyplot as plt"
   ]
  },
  {
   "cell_type": "code",
   "execution_count": 8,
   "id": "b5e7f65d",
   "metadata": {},
   "outputs": [
    {
     "name": "stderr",
     "output_type": "stream",
     "text": [
      "  3%|█                                          | 3/115 [00:01<00:59,  1.88it/s]"
     ]
    },
    {
     "name": "stdout",
     "output_type": "stream",
     "text": [
      "resampling...\n"
     ]
    },
    {
     "name": "stderr",
     "output_type": "stream",
     "text": [
      "  7%|██▉                                        | 8/115 [00:04<01:01,  1.74it/s]"
     ]
    },
    {
     "name": "stdout",
     "output_type": "stream",
     "text": [
      "resampling...\n"
     ]
    },
    {
     "name": "stderr",
     "output_type": "stream",
     "text": [
      " 31%|█████████████▏                            | 36/115 [00:20<00:44,  1.78it/s]"
     ]
    },
    {
     "name": "stdout",
     "output_type": "stream",
     "text": [
      "resampling...\n"
     ]
    },
    {
     "name": "stderr",
     "output_type": "stream",
     "text": [
      " 38%|████████████████                          | 44/115 [00:25<00:40,  1.77it/s]"
     ]
    },
    {
     "name": "stdout",
     "output_type": "stream",
     "text": [
      "resampling...\n"
     ]
    },
    {
     "name": "stderr",
     "output_type": "stream",
     "text": [
      " 43%|█████████████████▉                        | 49/115 [00:28<00:39,  1.66it/s]"
     ]
    },
    {
     "name": "stdout",
     "output_type": "stream",
     "text": [
      "resampling...\n"
     ]
    },
    {
     "name": "stderr",
     "output_type": "stream",
     "text": [
      " 46%|███████████████████▎                      | 53/115 [00:31<00:37,  1.66it/s]"
     ]
    },
    {
     "name": "stdout",
     "output_type": "stream",
     "text": [
      "resampling...\n"
     ]
    },
    {
     "name": "stderr",
     "output_type": "stream",
     "text": [
      " 48%|████████████████████                      | 55/115 [00:33<00:41,  1.44it/s]"
     ]
    },
    {
     "name": "stdout",
     "output_type": "stream",
     "text": [
      "resampling...\n"
     ]
    },
    {
     "name": "stderr",
     "output_type": "stream",
     "text": [
      " 50%|████████████████████▊                     | 57/115 [00:34<00:41,  1.39it/s]"
     ]
    },
    {
     "name": "stdout",
     "output_type": "stream",
     "text": [
      "resampling...\n"
     ]
    },
    {
     "name": "stderr",
     "output_type": "stream",
     "text": [
      " 57%|███████████████████████▋                  | 65/115 [00:39<00:28,  1.75it/s]"
     ]
    },
    {
     "name": "stdout",
     "output_type": "stream",
     "text": [
      "resampling...\n"
     ]
    },
    {
     "name": "stderr",
     "output_type": "stream",
     "text": [
      " 58%|████████████████████████▍                 | 67/115 [00:41<00:32,  1.46it/s]"
     ]
    },
    {
     "name": "stdout",
     "output_type": "stream",
     "text": [
      "resampling...\n"
     ]
    },
    {
     "name": "stderr",
     "output_type": "stream",
     "text": [
      " 67%|████████████████████████████              | 77/115 [00:47<00:20,  1.83it/s]"
     ]
    },
    {
     "name": "stdout",
     "output_type": "stream",
     "text": [
      "resampling...\n"
     ]
    },
    {
     "name": "stderr",
     "output_type": "stream",
     "text": [
      " 86%|████████████████████████████████████▏     | 99/115 [00:59<00:08,  1.90it/s]"
     ]
    },
    {
     "name": "stdout",
     "output_type": "stream",
     "text": [
      "resampling...\n"
     ]
    },
    {
     "name": "stderr",
     "output_type": "stream",
     "text": [
      "\r",
      " 87%|███████████████████████████████████▋     | 100/115 [01:00<00:10,  1.43it/s]"
     ]
    },
    {
     "name": "stdout",
     "output_type": "stream",
     "text": [
      "resampling...\n"
     ]
    },
    {
     "name": "stderr",
     "output_type": "stream",
     "text": [
      " 92%|█████████████████████████████████████▊   | 106/115 [01:04<00:05,  1.72it/s]"
     ]
    },
    {
     "name": "stdout",
     "output_type": "stream",
     "text": [
      "resampling...\n"
     ]
    },
    {
     "name": "stderr",
     "output_type": "stream",
     "text": [
      " 97%|███████████████████████████████████████▌ | 111/115 [01:07<00:02,  1.79it/s]"
     ]
    },
    {
     "name": "stdout",
     "output_type": "stream",
     "text": [
      "resampling...\n"
     ]
    },
    {
     "name": "stderr",
     "output_type": "stream",
     "text": [
      "\r",
      " 97%|███████████████████████████████████████▉ | 112/115 [01:08<00:02,  1.38it/s]"
     ]
    },
    {
     "name": "stdout",
     "output_type": "stream",
     "text": [
      "resampling...\n"
     ]
    },
    {
     "name": "stderr",
     "output_type": "stream",
     "text": [
      "100%|█████████████████████████████████████████| 115/115 [01:10<00:00,  1.63it/s]\n"
     ]
    }
   ],
   "source": [
    "\"\"\"\n",
    "CROP FIRST THEN RESIZE\n",
    "[ dim x pixdim = mm ]\n",
    "\"\"\"\n",
    "from scipy.ndimage import zoom\n",
    "\n",
    "df1 = pd.read_csv('./labels/bifurcation_zyx.csv', index_col=0)\n",
    "df2 = pd.read_csv('./labels/bifurcation_zyx_new.csv', index_col=0)\n",
    "df3 = pd.read_csv('./labels/test_bifurcation_zyx.csv', index_col=0)\n",
    "index1 = df1.index\n",
    "index2 = df2.index\n",
    "index3 = df3.index\n",
    "\n",
    "img_dir = './input_nifti_seg/'  # label 경로\n",
    "input_dir = './input_nifti/'  # input 경로\n",
    "save_path = './input_nifti_crop/'\n",
    "# save_path_np = './input_np/'\n",
    "\n",
    "img_path_list = os.listdir(img_dir)\n",
    "\n",
    "if not os.path.isdir(save_path):\n",
    "    os.mkdir(save_path)\n",
    "# if not os.path.isdir(save_path_np):\n",
    "#     os.mkdir(save_path_np)\n",
    "\n",
    "for img_path in tqdm(img_path_list):\n",
    "    index = img_path.split('.')[0]\n",
    "    path = input_dir + img_path\n",
    "    \n",
    "#     if os.path.isfile(save_path + index + '.nii.gz') and os.path.isfile(save_path_np + index + '.npy'):\n",
    "#         continue\n",
    "        \n",
    "    if index in index1:\n",
    "        df = df1\n",
    "    if index in index2:\n",
    "        df = df2\n",
    "    elif index in index3:\n",
    "        df = df3\n",
    "        \n",
    "    x = (df.loc[index]['left_x'] + df.loc[index]['right_x']) // 2\n",
    "    y = (df.loc[index]['left_y'] + df.loc[index]['right_y']) // 2\n",
    "    z = df.loc[index]['mid_z']\n",
    "\n",
    "    img = nib.load(path)\n",
    "    pixdim = img.header['pixdim']\n",
    "    img = img.get_fdata()\n",
    "        \n",
    "    # RL: 100, SI: 100, AP 50 [mm]\n",
    "    crop_x = int(100 / pixdim[1]) // 2\n",
    "    crop_y = int(50 / pixdim[2]) // 2\n",
    "    crop_z = int(100 / pixdim[3]) // 2\n",
    "    img_crop = img[x-crop_x:x+crop_x, y-crop_y:y+crop_y, z-crop_z:z+crop_z]\n",
    "    img = img_crop\n",
    "    \n",
    "    if img.shape[2] != 98:\n",
    "        print('resampling...')\n",
    "        scale = 98 / img.shape[2]\n",
    "        img = zoom(img, (1, 1, scale))\n",
    "            \n",
    "#    # check\n",
    "#     print(img.shape)\n",
    "    \n",
    "#     plt.subplot(1, 3, 1)\n",
    "#     plt.title('coronal')\n",
    "#     plt.imshow(np.max(img, axis=1), cmap='gray')\n",
    "    \n",
    "#     plt.subplot(1, 3, 2)\n",
    "#     plt.title('sagittal')\n",
    "#     plt.imshow(img[img.shape[0]//2, :, :], cmap='gray')\n",
    "    \n",
    "#     plt.subplot(1, 3, 3)\n",
    "#     plt.title('axial')\n",
    "#     plt.imshow(img[:, :, img.shape[2]//2], cmap='gray')\n",
    "    \n",
    "#     plt.show()\n",
    "#     plt.close()\n",
    "#     break\n",
    "\n",
    "#     # save as numpy\n",
    "#     np.save(save_path_np + index, img)\n",
    "    \n",
    "    # save as nib\n",
    "    nifti_img = nib.Nifti1Image(img, affine=np.eye(4))\n",
    "    nib.save(nifti_img, save_path + index + '.nii.gz')"
   ]
  },
  {
   "cell_type": "markdown",
   "id": "7d5efeb4",
   "metadata": {},
   "source": [
    "---"
   ]
  },
  {
   "cell_type": "code",
   "execution_count": 1,
   "id": "9917d819",
   "metadata": {},
   "outputs": [],
   "source": [
    "import pandas as pd\n",
    "import numpy as np\n",
    "import nibabel as nib\n",
    "import os\n",
    "from tqdm import tqdm"
   ]
  },
  {
   "cell_type": "code",
   "execution_count": 2,
   "id": "b707ab14",
   "metadata": {},
   "outputs": [],
   "source": [
    "label_name = 'FL_WMH_VOL_icv'\n",
    "# label_name = 'FL_WMH_VOL_mL'\n",
    "# label_name = 'WMH_GRADE'\n",
    "# label_name = 'Cortical Gray Matter Total Percent Of Icv'\n",
    "# label_name = 'FL_PVWMH_VOL_icv'\n",
    "# label_name = 'FL_DWMH_VOL_icv'\n",
    "img_dir = 'img_npy/'\n",
    "label_dir = 'labels/data_975.csv'"
   ]
  },
  {
   "cell_type": "code",
   "execution_count": 3,
   "id": "fd8e3834",
   "metadata": {},
   "outputs": [],
   "source": [
    "nifti_dir = 'cropped_nifti'"
   ]
  },
  {
   "cell_type": "code",
   "execution_count": null,
   "id": "f3771341",
   "metadata": {},
   "outputs": [
    {
     "name": "stderr",
     "output_type": "stream",
     "text": [
      "381it [00:06, 61.30it/s]"
     ]
    }
   ],
   "source": [
    "df = pd.read_csv(label_dir, index_col=0)[label_name]\n",
    "filenames = df.index\n",
    "\n",
    "if not os.path.isdir(nifti_dir):\n",
    "    os.mkdir(nifti_dir)\n",
    "\n",
    "for i, index in tqdm(enumerate(filenames)):\n",
    "    file_name = img_dir + index + '.npy'\n",
    "    img = np.load(file_name)\n",
    "    nifti_img = nib.Nifti1Image(img, affine=np.eye(4))\n",
    "    nib.save(nifti_img, nifti_dir + '/' + index + '.nii')"
   ]
  },
  {
   "cell_type": "markdown",
   "id": "c250b3b6",
   "metadata": {},
   "source": [
    "---"
   ]
  },
  {
   "cell_type": "code",
   "execution_count": 1,
   "id": "d36071b9",
   "metadata": {},
   "outputs": [],
   "source": [
    "import pandas as pd\n",
    "import numpy as np\n",
    "import nibabel as nib\n",
    "import os\n",
    "from tqdm import tqdm\n",
    "from scipy.ndimage import zoom"
   ]
  },
  {
   "cell_type": "code",
   "execution_count": 2,
   "id": "e5aeb5e0",
   "metadata": {},
   "outputs": [
    {
     "name": "stderr",
     "output_type": "stream",
     "text": [
      " 38%|███████████████▌                         | 306/805 [24:15<40:02,  4.81s/it]"
     ]
    },
    {
     "name": "stdout",
     "output_type": "stream",
     "text": [
      "filename error: .ipynb_checkpoints\n"
     ]
    },
    {
     "name": "stderr",
     "output_type": "stream",
     "text": [
      "100%|███████████████████████████████████████| 805/805 [1:04:08<00:00,  4.78s/it]\n"
     ]
    }
   ],
   "source": [
    "# Save Resized Numpy Arrays as NIFTI\n",
    "root = 'input_nifti_resized/'\n",
    "target = 'input_nifti_256/'\n",
    "\n",
    "dir_names = os.listdir(root)\n",
    "# print(len(dir_names))  # num of files in input_nifti/\n",
    "# print(dir_names)\n",
    "\n",
    "if not os.path.isdir(target):\n",
    "    os.mkdir(target)\n",
    "\n",
    "count = 0\n",
    "for i, dirname in enumerate(tqdm(dir_names)):\n",
    "    if \"MR\" not in dirname:\n",
    "        print(\"filename error: \" + dirname)\n",
    "        continue\n",
    "    file_name = root + dirname\n",
    "    new_file_name = target + dirname\n",
    "    if os.path.isfile(new_file_name): continue\n",
    "    \n",
    "    img = nib.load(file_name)\n",
    "    img_data = img.get_fdata()\n",
    "    img = np.transpose(img_data, (2, 1, 0))\n",
    "    \n",
    "    ni_img = nib.Nifti1Image(img, affine=np.eye(4))\n",
    "    nib.save(ni_img, new_file_name)"
   ]
  },
  {
   "cell_type": "code",
   "execution_count": null,
   "id": "30ac5cc6",
   "metadata": {},
   "outputs": [],
   "source": [
    "# Save Resized Numpy Arrays as NIFTI\n",
    "root = 'test_nifti/'\n",
    "target = 'test_nifti_256/'\n",
    "\n",
    "dir_names = os.listdir(root)\n",
    "# print(len(dir_names))  # num of files in input_nifti/\n",
    "# print(dir_names)\n",
    "\n",
    "if not os.path.isdir(target):\n",
    "    os.mkdir(target)\n",
    "\n",
    "count = 0\n",
    "for i, dirname in enumerate(tqdm(dir_names)):\n",
    "    file_name = root + dirname + '/' + os.listdir(root + dirname)[0]\n",
    "    new_file_name = target + dirname + '.nii.gz'\n",
    "    if os.path.isfile(new_file_name): continue\n",
    "    \n",
    "    img = nib.load(file_name)\n",
    "    img_data = img.get_fdata()\n",
    "#     img = np.transpose(img_data, (2, 1, 0))\n",
    "    \n",
    "    # resample (resize)\n",
    "    scale1 = 256 / img.shape[0]\n",
    "    scale2 = 256 / img.shape[1]\n",
    "    scale3 = 256 / img.shape[2]\n",
    "    img = zoom(img, zoom=(scale1, scale2, scale3))\n",
    "    \n",
    "    ni_img = nib.Nifti1Image(img, affine=np.eye(4))\n",
    "    nib.save(ni_img, new_file_name)"
   ]
  },
  {
   "cell_type": "code",
   "execution_count": null,
   "id": "e5267422",
   "metadata": {},
   "outputs": [],
   "source": []
  }
 ],
 "metadata": {
  "kernelspec": {
   "display_name": "Python 3 (ipykernel)",
   "language": "python",
   "name": "python3"
  },
  "language_info": {
   "codemirror_mode": {
    "name": "ipython",
    "version": 3
   },
   "file_extension": ".py",
   "mimetype": "text/x-python",
   "name": "python",
   "nbconvert_exporter": "python",
   "pygments_lexer": "ipython3",
   "version": "3.9.5"
  }
 },
 "nbformat": 4,
 "nbformat_minor": 5
}
