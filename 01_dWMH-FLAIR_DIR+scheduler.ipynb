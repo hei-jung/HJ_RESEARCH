{
 "cells": [
  {
   "cell_type": "markdown",
   "id": "f537d852",
   "metadata": {},
   "source": [
    "### ReduceLROnPlateau scheduler\n",
    "\n",
    "성능이 향상이 없을 때 learning rate를 감소시킨다. 그렇기 때문에 validation loss나 metric(평가지표)을 learning rate step함수의 input으로 넣어주어야 한다. 그래서 metric이 향상되지 않을 때, patience횟수(epoch)만큼 참고 그 이후에는 learning rate를 줄인다. optimizer에 momentum을 설정해야 사용할 수 있다.\n",
    "\n",
    "```python\n",
    "optimizer = torch.optim.SGD(model.parameters(), lr=0.01, momentum=0.9)\n",
    "scheduler = ReduceLROnPlateau(optimizer, 'min')\n",
    "for epoch in range(100):\n",
    "     train(...)\n",
    "     val_loss = validate(...)\n",
    "     # Note that step should be called after validate()\n",
    "     scheduler.step(val_loss)\n",
    "```\n",
    "\n",
    "(출처: [[PyTorch] PyTorch가 제공하는 Learning rate scheduler 정리](https://sanghyu.tistory.com/113))"
   ]
  },
  {
   "cell_type": "code",
   "execution_count": 1,
   "id": "b9c0d942",
   "metadata": {},
   "outputs": [],
   "source": [
    "import os\n",
    "os.environ[\"CUDA_DEVICE_ORDER\"] = \"PCI_BUS_ID\"\n",
    "os.environ[\"CUDA_VISIBLE_DEVICES\"] = \"0,1\""
   ]
  },
  {
   "cell_type": "code",
   "execution_count": 2,
   "id": "c31da569",
   "metadata": {
    "scrolled": true
   },
   "outputs": [],
   "source": [
    "import random\n",
    "import numpy as np\n",
    "from tqdm import tqdm\n",
    "import pandas as pd\n",
    "from scipy import ndimage\n",
    "from scipy.ndimage import zoom\n",
    "import gc\n",
    "from sklearn.model_selection import train_test_split, KFold\n",
    "import matplotlib.pyplot as plt\n",
    "import matplotlib.patches as mpatches\n",
    "from torch import nn, optim\n",
    "from torch.nn import functional as F\n",
    "from torch.utils.data import Dataset, DataLoader, SubsetRandomSampler\n",
    "import torch.backends.cudnn as cudnn\n",
    "from models.sfcn import *\n",
    "from models.resnet import *\n",
    "from models.inception_resnet_v2 import *\n",
    "from models.densenet import *\n",
    "from models.custom_net import *\n",
    "from models.shallow_net2 import *\n",
    "import types\n",
    "from scipy.stats import pearsonr, spearmanr\n",
    "import torchio as tio\n",
    "from datetime import datetime\n",
    "import wandb\n",
    "###\n",
    "from models.lds_utils import get_lds_kernel_window\n",
    "from models.loss import *\n",
    "from models.sfcn_fds import *\n",
    "from collections import Counter\n",
    "from scipy.ndimage import zoom, convolve1d"
   ]
  },
  {
   "cell_type": "code",
   "execution_count": 3,
   "id": "7f0a9eef",
   "metadata": {},
   "outputs": [],
   "source": [
    "RANDOM_SEED = 551"
   ]
  },
  {
   "cell_type": "code",
   "execution_count": 4,
   "id": "0e96349f",
   "metadata": {},
   "outputs": [],
   "source": [
    "# control randomness\n",
    "def set_seed(random_seed=551):\n",
    "    torch.manual_seed(random_seed)\n",
    "    torch.cuda.manual_seed(random_seed)\n",
    "    torch.cuda.manual_seed_all(random_seed)\n",
    "    np.random.seed(random_seed)\n",
    "    cudnn.benchmark = False\n",
    "    cudnn.deterministic = True\n",
    "    random.seed(random_seed)"
   ]
  },
  {
   "cell_type": "code",
   "execution_count": 5,
   "id": "f7a34af8",
   "metadata": {},
   "outputs": [],
   "source": [
    "def load_data(img_dir, label_dir, label_name, std=False, norm=True):\n",
    "    df = pd.read_csv(label_dir, index_col=0)[label_name]\n",
    "    filenames = df.index\n",
    "    images = []\n",
    "    for i, index in enumerate(filenames):\n",
    "        file_name = img_dir + index + '.npy'\n",
    "        img = np.load(file_name)\n",
    "        x, y, z = img.shape\n",
    "        if norm:\n",
    "            img = (img - img.min()) / (img.max() - img.min())\n",
    "        if std:\n",
    "            m = np.mean(img)\n",
    "            s = np.std(img)\n",
    "            img = (img - m) / s\n",
    "        img = img.reshape((1, x, y, z))\n",
    "        images.append(img)\n",
    "    return images, df"
   ]
  },
  {
   "cell_type": "code",
   "execution_count": 6,
   "id": "f736886e",
   "metadata": {},
   "outputs": [],
   "source": [
    "# augmentation\n",
    "def get_augmentation_transform():\n",
    "    random_rotate = tio.RandomAffine(scales=(1.0, 1.0),\n",
    "                                     degrees=12,)\n",
    "    random_flip = tio.RandomFlip(axes='LR',\n",
    "                                 flip_probability=0.5)\n",
    "    random_shift = tio.RandomAffine(scales=(1.0, 1.0),\n",
    "                                    degrees=0,\n",
    "                                    translation=(20,20,20))\n",
    "    compose = tio.transforms.Compose([random_rotate, random_flip, random_shift])\n",
    "    augment = tio.transforms.OneOf([random_rotate, random_flip, random_shift, compose])\n",
    "    return augment"
   ]
  },
  {
   "cell_type": "code",
   "execution_count": 7,
   "id": "60667d38",
   "metadata": {},
   "outputs": [],
   "source": [
    "class NeckDataset(Dataset):\n",
    "    def __init__(self, X=None, y=None, transform=None, lds=False, lds_kernel='gaussian', lds_ks=5, lds_sigma=2):\n",
    "        self.X = X\n",
    "        self.y = y.values\n",
    "        self.transform = transform\n",
    "        \n",
    "        self.bin_edges = np.histogram_bin_edges(self.y, bins='auto')\n",
    "        self.weights = self._prepare_weights(lds=lds, lds_kernel=lds_kernel, lds_ks=lds_ks, lds_sigma=lds_sigma)\n",
    "        \n",
    "    def __len__(self):\n",
    "        return len(self.y)\n",
    "    \n",
    "    def __getitem__(self, idx):\n",
    "        image = self.X[idx]\n",
    "        if self.transform is not None:\n",
    "            image = self.transform(image)\n",
    "        label = np.array([self.y[idx]]).astype('float16')\n",
    "        weight = np.array([self.weights[idx]]).astype('float16') if self.weights is not None else np.asarray([np.float16(1.)])\n",
    "        return [image, label, weight]\n",
    "    \n",
    "    def _prepare_weights(self, lds=False, lds_kernel='gaussian', lds_ks=5, lds_sigma=2):  \n",
    "        weights = None\n",
    "        if lds:\n",
    "            labels = self.y\n",
    "            bin_index_per_label = [self._get_bin_idx(label) for label in labels]\n",
    "            Nb = max(bin_index_per_label) + 1\n",
    "            num_samples_of_bins = dict(Counter(bin_index_per_label))\n",
    "            emp_label_dist = [num_samples_of_bins.get(i, 0) for i in range(Nb)]\n",
    "\n",
    "            lds_kernel_window = get_lds_kernel_window(kernel=lds_kernel, ks=lds_ks, sigma=lds_sigma)\n",
    "            eff_label_dist = convolve1d(np.array(emp_label_dist), weights=lds_kernel_window, mode='constant')\n",
    "\n",
    "            eff_num_per_label = [eff_label_dist[bin_idx] for bin_idx in bin_index_per_label]\n",
    "            weights = np.array([np.float32(1 / x) for x in eff_num_per_label]).reshape(labels.shape)\n",
    "        return weights\n",
    "    \n",
    "    def _get_bin_idx(self, label):\n",
    "        return np.max(np.where(self.bin_edges <= label))"
   ]
  },
  {
   "cell_type": "code",
   "execution_count": 8,
   "id": "2df07024",
   "metadata": {},
   "outputs": [],
   "source": [
    "def train(model, train_loader, epoch, lr, weight_decay, optimizer, lds=False, fds=False):\n",
    "    criterion1 = nn.L1Loss()\n",
    "    criterion2 = nn.MSELoss()\n",
    "        \n",
    "    total_mae_loss, total_mse_loss = 0, 0\n",
    "    preds, truths = np.array([]), np.array([])\n",
    "    \n",
    "    model.train()\n",
    "    for inputs, labels, weights in tqdm(train_loader):              \n",
    "        inputs, labels = inputs.to(device, dtype=torch.float), labels.to(device, dtype=torch.float)\n",
    "        weights = weights.to(device, dtype=torch.float)\n",
    "        optimizer.zero_grad()\n",
    "\n",
    "        if fds:\n",
    "            output, _ = model(inputs, labels, epoch)\n",
    "        else:\n",
    "            output = model(inputs, labels, epoch)\n",
    "        \n",
    "        pred = output.detach().cpu().numpy()\n",
    "        truth = labels.detach().cpu().numpy()\n",
    "        preds = np.append(preds, pred.reshape(pred.size), axis=0)\n",
    "        truths = np.append(truths, truth.reshape(truth.size), axis=0)\n",
    "        \n",
    "        if lds:\n",
    "            mae_loss = criterion1(output, labels)\n",
    "            mse_loss = weighted_mse_loss(output, labels, weights=weights)\n",
    "        else:\n",
    "            mae_loss = criterion1(output, labels)\n",
    "            mse_loss = criterion2(output, labels)\n",
    "#         mae_loss.backward()\n",
    "        mse_loss.backward()\n",
    "        \n",
    "        optimizer.step()\n",
    "        \n",
    "        total_mae_loss += mae_loss.data.item()\n",
    "        total_mse_loss += mse_loss.data.item()\n",
    "        \n",
    "        gc.collect()\n",
    "        torch.cuda.empty_cache()\n",
    "        \n",
    "    if fds and epoch >= start_update:\n",
    "        encodings, targets = [], []\n",
    "        with torch.no_grad():\n",
    "            for inputs, labels, _ in tqdm(train_loader):\n",
    "                inputs = inputs.to(device, dtype=torch.float)\n",
    "                labels = labels.to(device, dtype=torch.float)\n",
    "                outputs, feature = model(inputs, labels, epoch)\n",
    "                encodings.extend(feature.data.squeeze().cpu().numpy())\n",
    "                targets.extend(labels.data.squeeze().cpu().numpy())\n",
    "                \n",
    "        encodings, targets = torch.from_numpy(np.vstack(encodings)).cuda(), torch.from_numpy(np.hstack(targets)).cuda()\n",
    "        if device_count > 1:\n",
    "            model.module.FDS.update_last_epoch_stats(epoch)\n",
    "            model.module.FDS.update_running_stats(encodings, targets, epoch)\n",
    "        else:\n",
    "            model.FDS.update_last_epoch_stats(epoch)\n",
    "            model.FDS.update_running_stats(encodings, targets, epoch)\n",
    "        \n",
    "    return preds, truths, total_mae_loss, total_mse_loss"
   ]
  },
  {
   "cell_type": "code",
   "execution_count": 9,
   "id": "6b20c8c8",
   "metadata": {},
   "outputs": [],
   "source": [
    "def valid(model, valid_loader):\n",
    "    criterion1 = nn.L1Loss()\n",
    "    criterion2 = nn.MSELoss()\n",
    "    \n",
    "    total_mae_loss, total_mse_loss = 0, 0\n",
    "    preds, truths = np.array([]), np.array([])\n",
    "    \n",
    "    model.eval()\n",
    "    with torch.no_grad():\n",
    "        for inputs, labels, _ in tqdm(valid_loader):\n",
    "            inputs, labels = inputs.to(device, dtype=torch.float), labels.to(device, dtype=torch.float)\n",
    "\n",
    "            output = model(inputs)\n",
    "            \n",
    "            pred = output.detach().cpu().numpy()\n",
    "            truth = labels.detach().cpu().numpy()\n",
    "            preds = np.append(preds, pred.reshape(pred.size), axis=0)\n",
    "            truths = np.append(truths, truth.reshape(truth.size), axis=0)\n",
    "\n",
    "            mae_loss = criterion1(output, labels)\n",
    "            mse_loss = criterion2(output, labels)\n",
    "            \n",
    "            total_mae_loss += mae_loss.data.item()\n",
    "            total_mse_loss += mse_loss.data.item()\n",
    "        \n",
    "    return preds, truths, total_mae_loss, total_mse_loss"
   ]
  },
  {
   "cell_type": "code",
   "execution_count": 10,
   "id": "2caeb213",
   "metadata": {},
   "outputs": [],
   "source": [
    "label_name = 'FL_WMH_VOL_icv'\n",
    "# label_name = 'FL_WMH_VOL_mL'\n",
    "# label_name = 'WMH_GRADE'\n",
    "# label_name = 'Cortical Gray Matter Total Percent Of Icv'\n",
    "# label_name = 'FL_PVWMH_VOL_icv'\n",
    "# label_name = 'FL_DWMH_VOL_icv'\n",
    "img_dir = 'img_npy/'\n",
    "label_dir = 'labels/data_975.csv'"
   ]
  },
  {
   "cell_type": "code",
   "execution_count": 11,
   "id": "3175e7a2",
   "metadata": {},
   "outputs": [],
   "source": [
    "weight_decay = 0.1\n",
    "lr = 1e-03\n",
    "epochs = 150\n",
    "batch_size = 16\n",
    "test_batch_size = 16\n",
    "optim_class = optim.AdamW\n",
    "sched_class = optim.lr_scheduler.ReduceLROnPlateau\n",
    "dropout_rate = 0.5\n",
    "k = 5\n",
    "start_update = 0"
   ]
  },
  {
   "cell_type": "code",
   "execution_count": 12,
   "id": "2eb08047",
   "metadata": {
    "scrolled": false
   },
   "outputs": [
    {
     "name": "stdout",
     "output_type": "stream",
     "text": [
      "Device: cuda\n",
      "Current cuda device: 0\n",
      "Count of using GPUs: 2\n"
     ]
    }
   ],
   "source": [
    "device = torch.device(\"cuda\" if torch.cuda.is_available() else \"cpu\")\n",
    "print('Device:', device)\n",
    "print('Current cuda device:', torch.cuda.current_device())\n",
    "device_count = torch.cuda.device_count()\n",
    "print('Count of using GPUs:', torch.cuda.device_count())"
   ]
  },
  {
   "cell_type": "code",
   "execution_count": 13,
   "id": "84166bd3",
   "metadata": {},
   "outputs": [
    {
     "data": {
      "text/plain": [
       "(780, 195, 780, 195)"
      ]
     },
     "execution_count": 13,
     "metadata": {},
     "output_type": "execute_result"
    }
   ],
   "source": [
    "# load data\n",
    "X, y = load_data(img_dir, label_dir, label_name, std=True, norm=True)\n",
    "\n",
    "# initialize seed\n",
    "set_seed()\n",
    "\n",
    "# train / test split\n",
    "X_train, X_test, y_train, y_test = train_test_split(X, y, test_size=0.2)\n",
    "\n",
    "# train set\n",
    "# train_set = NeckDataset(X_train, y_train)\n",
    "\n",
    "# test set & loader\n",
    "test_set = NeckDataset(X_test, y_test)\n",
    "test_loader = DataLoader(test_set, batch_size=test_batch_size, num_workers=16)\n",
    "\n",
    "len(X_train), len(X_test), len(y_train), len(y_test)"
   ]
  },
  {
   "cell_type": "code",
   "execution_count": 14,
   "id": "8894a4cb",
   "metadata": {},
   "outputs": [
    {
     "data": {
      "image/png": "[encoded data removed]",
      "text/plain": [
       "<Figure size 432x288 with 1 Axes>"
      ]
     },
     "metadata": {
      "needs_background": "light"
     },
     "output_type": "display_data"
    },
    {
     "data": {
      "image/png": "[encoded data removed]",
      "text/plain": [
       "<Figure size 720x288 with 2 Axes>"
      ]
     },
     "metadata": {
      "needs_background": "light"
     },
     "output_type": "display_data"
    }
   ],
   "source": [
    "bins = np.linspace(0, 5, 30)\n",
    "\n",
    "plt.hist(y_train, bins, label='training set')\n",
    "plt.hist(y_test, bins, label='test set')\n",
    "plt.legend(loc='upper right')\n",
    "plt.show()\n",
    "plt.close()\n",
    "\n",
    "\n",
    "plt.figure(figsize=(10,4))\n",
    "plt.subplot(1,2,1)\n",
    "plt.hist(y_train, bins, label='training set')\n",
    "plt.legend(loc='upper right')\n",
    "\n",
    "plt.subplot(1,2,2)\n",
    "plt.hist(y_test, bins, label='test set')\n",
    "plt.legend(loc='upper right')\n",
    "\n",
    "plt.show()\n",
    "plt.close()"
   ]
  },
  {
   "cell_type": "code",
   "execution_count": 15,
   "id": "a399075a",
   "metadata": {
    "scrolled": true
   },
   "outputs": [
    {
     "name": "stderr",
     "output_type": "stream",
     "text": [
      "ERROR:wandb.jupyter:Failed to detect the name of this notebook, you can set it manually with the WANDB_NOTEBOOK_NAME environment variable to enable code saving.\n",
      "\u001b[34m\u001b[1mwandb\u001b[0m: Currently logged in as: \u001b[33mhei-jung\u001b[0m. Use \u001b[1m`wandb login --relogin`\u001b[0m to force relogin\n"
     ]
    },
    {
     "data": {
      "text/html": [
       "wandb version 0.13.10 is available!  To upgrade, please run:\n",
       " $ pip install wandb --upgrade"
      ],
      "text/plain": [
       "<IPython.core.display.HTML object>"
      ]
     },
     "metadata": {},
     "output_type": "display_data"
    },
    {
     "data": {
      "text/html": [
       "Tracking run with wandb version 0.12.21"
      ],
      "text/plain": [
       "<IPython.core.display.HTML object>"
      ]
     },
     "metadata": {},
     "output_type": "display_data"
    },
    {
     "data": {
      "text/html": [
       "Run data is saved locally in <code>/home/jhj/Desktop/HJ_RESEARCH/snu_brain_disease/wandb/run-20230306_152055-1wrcp954</code>"
      ],
      "text/plain": [
       "<IPython.core.display.HTML object>"
      ]
     },
     "metadata": {},
     "output_type": "display_data"
    },
    {
     "data": {
      "text/html": [
       "Syncing run <strong><a href=\"https://wandb.ai/hei-jung/20230214-validation/runs/1wrcp954\" target=\"_blank\">dainty-tree-15</a></strong> to <a href=\"https://wandb.ai/hei-jung/20230214-validation\" target=\"_blank\">Weights & Biases</a> (<a href=\"https://wandb.me/run\" target=\"_blank\">docs</a>)<br/>"
      ],
      "text/plain": [
       "<IPython.core.display.HTML object>"
      ]
     },
     "metadata": {},
     "output_type": "display_data"
    },
    {
     "name": "stdout",
     "output_type": "stream",
     "text": [
      "# Epoch 1 / 150\n"
     ]
    },
    {
     "name": "stderr",
     "output_type": "stream",
     "text": [
      "  0%|                                                    | 0/49 [00:00<?, ?it/s]/home/jhj/.conda/envs/a6000/lib/python3.8/site-packages/torch/nn/_reduction.py:42: UserWarning: size_average and reduce args will be deprecated, please use reduction='none' instead.\n",
      "  warnings.warn(warning.format(ret))\n",
      "100%|███████████████████████████████████████████| 49/49 [00:30<00:00,  1.60it/s]\n",
      "100%|███████████████████████████████████████████| 49/49 [00:07<00:00,  6.48it/s]\n",
      "100%|███████████████████████████████████████████| 13/13 [00:02<00:00,  4.62it/s]\n"
     ]
    },
    {
     "name": "stdout",
     "output_type": "stream",
     "text": [
      "# Epoch 2 / 150\n"
     ]
    },
    {
     "name": "stderr",
     "output_type": "stream",
     "text": [
      "100%|███████████████████████████████████████████| 49/49 [00:27<00:00,  1.78it/s]\n",
      "100%|███████████████████████████████████████████| 49/49 [00:08<00:00,  5.99it/s]\n",
      "100%|███████████████████████████████████████████| 13/13 [00:02<00:00,  4.54it/s]\n"
     ]
    },
    {
     "name": "stdout",
     "output_type": "stream",
     "text": [
      "# Epoch 3 / 150\n"
     ]
    },
    {
     "name": "stderr",
     "output_type": "stream",
     "text": [
      "100%|███████████████████████████████████████████| 49/49 [00:27<00:00,  1.80it/s]\n",
      "100%|███████████████████████████████████████████| 49/49 [00:08<00:00,  5.83it/s]\n",
      "100%|███████████████████████████████████████████| 13/13 [00:02<00:00,  4.81it/s]\n"
     ]
    },
    {
     "name": "stdout",
     "output_type": "stream",
     "text": [
      "# Epoch 4 / 150\n"
     ]
    },
    {
     "name": "stderr",
     "output_type": "stream",
     "text": [
      "100%|███████████████████████████████████████████| 49/49 [00:27<00:00,  1.80it/s]\n",
      "100%|███████████████████████████████████████████| 49/49 [00:08<00:00,  5.84it/s]\n",
      "100%|███████████████████████████████████████████| 13/13 [00:02<00:00,  5.07it/s]\n"
     ]
    },
    {
     "name": "stdout",
     "output_type": "stream",
     "text": [
      "# Epoch 5 / 150\n"
     ]
    },
    {
     "name": "stderr",
     "output_type": "stream",
     "text": [
      "100%|███████████████████████████████████████████| 49/49 [00:26<00:00,  1.83it/s]\n",
      "100%|███████████████████████████████████████████| 49/49 [00:07<00:00,  6.31it/s]\n",
      "100%|███████████████████████████████████████████| 13/13 [00:02<00:00,  4.58it/s]\n"
     ]
    },
    {
     "name": "stdout",
     "output_type": "stream",
     "text": [
      "# Epoch 6 / 150\n"
     ]
    },
    {
     "name": "stderr",
     "output_type": "stream",
     "text": [
      "100%|███████████████████████████████████████████| 49/49 [00:28<00:00,  1.74it/s]\n",
      "100%|███████████████████████████████████████████| 49/49 [00:08<00:00,  5.87it/s]\n",
      "100%|███████████████████████████████████████████| 13/13 [00:02<00:00,  4.84it/s]\n"
     ]
    },
    {
     "name": "stdout",
     "output_type": "stream",
     "text": [
      "# Epoch 7 / 150\n"
     ]
    },
    {
     "name": "stderr",
     "output_type": "stream",
     "text": [
      "100%|███████████████████████████████████████████| 49/49 [00:26<00:00,  1.86it/s]\n",
      "100%|███████████████████████████████████████████| 49/49 [00:08<00:00,  5.85it/s]\n",
      "100%|███████████████████████████████████████████| 13/13 [00:02<00:00,  4.69it/s]\n"
     ]
    },
    {
     "name": "stdout",
     "output_type": "stream",
     "text": [
      "# Epoch 8 / 150\n"
     ]
    },
    {
     "name": "stderr",
     "output_type": "stream",
     "text": [
      "100%|███████████████████████████████████████████| 49/49 [00:26<00:00,  1.82it/s]\n",
      "100%|███████████████████████████████████████████| 49/49 [00:08<00:00,  6.12it/s]\n",
      "100%|███████████████████████████████████████████| 13/13 [00:02<00:00,  4.85it/s]\n"
     ]
    },
    {
     "name": "stdout",
     "output_type": "stream",
     "text": [
      "# Epoch 9 / 150\n"
     ]
    },
    {
     "name": "stderr",
     "output_type": "stream",
     "text": [
      "100%|███████████████████████████████████████████| 49/49 [00:27<00:00,  1.79it/s]\n",
      "100%|███████████████████████████████████████████| 49/49 [00:07<00:00,  6.19it/s]\n",
      "100%|███████████████████████████████████████████| 13/13 [00:02<00:00,  4.58it/s]\n"
     ]
    },
    {
     "name": "stdout",
     "output_type": "stream",
     "text": [
      "# Epoch 10 / 150\n"
     ]
    },
    {
     "name": "stderr",
     "output_type": "stream",
     "text": [
      "100%|███████████████████████████████████████████| 49/49 [00:26<00:00,  1.83it/s]\n",
      "100%|███████████████████████████████████████████| 49/49 [00:08<00:00,  6.01it/s]\n",
      "100%|███████████████████████████████████████████| 13/13 [00:02<00:00,  4.71it/s]\n"
     ]
    },
    {
     "name": "stdout",
     "output_type": "stream",
     "text": [
      "# Epoch 11 / 150\n"
     ]
    },
    {
     "name": "stderr",
     "output_type": "stream",
     "text": [
      "100%|███████████████████████████████████████████| 49/49 [00:28<00:00,  1.73it/s]\n",
      "100%|███████████████████████████████████████████| 49/49 [00:08<00:00,  5.89it/s]\n",
      "100%|███████████████████████████████████████████| 13/13 [00:02<00:00,  4.98it/s]\n"
     ]
    },
    {
     "name": "stdout",
     "output_type": "stream",
     "text": [
      "# Epoch 12 / 150\n"
     ]
    },
    {
     "name": "stderr",
     "output_type": "stream",
     "text": [
      "100%|███████████████████████████████████████████| 49/49 [00:27<00:00,  1.81it/s]\n",
      "100%|███████████████████████████████████████████| 49/49 [00:07<00:00,  6.22it/s]\n",
      "100%|███████████████████████████████████████████| 13/13 [00:02<00:00,  4.82it/s]\n"
     ]
    },
    {
     "name": "stdout",
     "output_type": "stream",
     "text": [
      "# Epoch 13 / 150\n"
     ]
    },
    {
     "name": "stderr",
     "output_type": "stream",
     "text": [
      "100%|███████████████████████████████████████████| 49/49 [00:27<00:00,  1.80it/s]\n",
      "100%|███████████████████████████████████████████| 49/49 [00:08<00:00,  5.73it/s]\n",
      "100%|███████████████████████████████████████████| 13/13 [00:02<00:00,  4.50it/s]\n"
     ]
    },
    {
     "name": "stdout",
     "output_type": "stream",
     "text": [
      "# Epoch 14 / 150\n"
     ]
    },
    {
     "name": "stderr",
     "output_type": "stream",
     "text": [
      "100%|███████████████████████████████████████████| 49/49 [00:26<00:00,  1.86it/s]\n",
      "100%|███████████████████████████████████████████| 49/49 [00:08<00:00,  6.01it/s]\n",
      "100%|███████████████████████████████████████████| 13/13 [00:02<00:00,  4.54it/s]\n"
     ]
    },
    {
     "name": "stdout",
     "output_type": "stream",
     "text": [
      "# Epoch 15 / 150\n"
     ]
    },
    {
     "name": "stderr",
     "output_type": "stream",
     "text": [
      "100%|███████████████████████████████████████████| 49/49 [00:27<00:00,  1.79it/s]\n",
      "100%|███████████████████████████████████████████| 49/49 [00:08<00:00,  5.93it/s]\n",
      "100%|███████████████████████████████████████████| 13/13 [00:02<00:00,  4.58it/s]\n"
     ]
    },
    {
     "name": "stdout",
     "output_type": "stream",
     "text": [
      "# Epoch 16 / 150\n"
     ]
    },
    {
     "name": "stderr",
     "output_type": "stream",
     "text": [
      "100%|███████████████████████████████████████████| 49/49 [00:28<00:00,  1.75it/s]\n",
      "100%|███████████████████████████████████████████| 49/49 [00:07<00:00,  6.13it/s]\n",
      "100%|███████████████████████████████████████████| 13/13 [00:02<00:00,  4.59it/s]\n"
     ]
    },
    {
     "name": "stdout",
     "output_type": "stream",
     "text": [
      "# Epoch 17 / 150\n"
     ]
    },
    {
     "name": "stderr",
     "output_type": "stream",
     "text": [
      "100%|███████████████████████████████████████████| 49/49 [00:26<00:00,  1.83it/s]\n",
      "100%|███████████████████████████████████████████| 49/49 [00:08<00:00,  5.81it/s]\n",
      "100%|███████████████████████████████████████████| 13/13 [00:02<00:00,  4.81it/s]\n"
     ]
    },
    {
     "name": "stdout",
     "output_type": "stream",
     "text": [
      "# Epoch 18 / 150\n"
     ]
    },
    {
     "name": "stderr",
     "output_type": "stream",
     "text": [
      "100%|███████████████████████████████████████████| 49/49 [00:27<00:00,  1.79it/s]\n",
      "100%|███████████████████████████████████████████| 49/49 [00:08<00:00,  6.10it/s]\n",
      "100%|███████████████████████████████████████████| 13/13 [00:03<00:00,  4.28it/s]\n"
     ]
    },
    {
     "name": "stdout",
     "output_type": "stream",
     "text": [
      "# Epoch 19 / 150\n"
     ]
    },
    {
     "name": "stderr",
     "output_type": "stream",
     "text": [
      "100%|███████████████████████████████████████████| 49/49 [00:27<00:00,  1.77it/s]\n",
      "100%|███████████████████████████████████████████| 49/49 [00:07<00:00,  6.13it/s]\n",
      "100%|███████████████████████████████████████████| 13/13 [00:02<00:00,  4.78it/s]\n"
     ]
    },
    {
     "name": "stdout",
     "output_type": "stream",
     "text": [
      "# Epoch 20 / 150\n"
     ]
    },
    {
     "name": "stderr",
     "output_type": "stream",
     "text": [
      "100%|███████████████████████████████████████████| 49/49 [00:27<00:00,  1.78it/s]\n",
      "100%|███████████████████████████████████████████| 49/49 [00:07<00:00,  6.34it/s]\n",
      "100%|███████████████████████████████████████████| 13/13 [00:02<00:00,  4.77it/s]\n"
     ]
    },
    {
     "name": "stdout",
     "output_type": "stream",
     "text": [
      "# Epoch 21 / 150\n"
     ]
    },
    {
     "name": "stderr",
     "output_type": "stream",
     "text": [
      "100%|███████████████████████████████████████████| 49/49 [00:28<00:00,  1.73it/s]\n",
      "100%|███████████████████████████████████████████| 49/49 [00:08<00:00,  5.76it/s]\n",
      "100%|███████████████████████████████████████████| 13/13 [00:02<00:00,  4.63it/s]\n"
     ]
    },
    {
     "name": "stdout",
     "output_type": "stream",
     "text": [
      "# Epoch 22 / 150\n"
     ]
    },
    {
     "name": "stderr",
     "output_type": "stream",
     "text": [
      "100%|███████████████████████████████████████████| 49/49 [00:27<00:00,  1.77it/s]\n",
      "100%|███████████████████████████████████████████| 49/49 [00:08<00:00,  5.91it/s]\n",
      "100%|███████████████████████████████████████████| 13/13 [00:02<00:00,  4.78it/s]\n"
     ]
    },
    {
     "name": "stdout",
     "output_type": "stream",
     "text": [
      "# Epoch 23 / 150\n"
     ]
    },
    {
     "name": "stderr",
     "output_type": "stream",
     "text": [
      "100%|███████████████████████████████████████████| 49/49 [00:27<00:00,  1.79it/s]\n",
      "100%|███████████████████████████████████████████| 49/49 [00:08<00:00,  5.93it/s]\n",
      "100%|███████████████████████████████████████████| 13/13 [00:02<00:00,  4.89it/s]\n"
     ]
    },
    {
     "name": "stdout",
     "output_type": "stream",
     "text": [
      "# Epoch 24 / 150\n"
     ]
    },
    {
     "name": "stderr",
     "output_type": "stream",
     "text": [
      "100%|███████████████████████████████████████████| 49/49 [00:27<00:00,  1.79it/s]\n",
      "100%|███████████████████████████████████████████| 49/49 [00:07<00:00,  6.20it/s]\n",
      "100%|███████████████████████████████████████████| 13/13 [00:02<00:00,  4.77it/s]\n"
     ]
    },
    {
     "name": "stdout",
     "output_type": "stream",
     "text": [
      "# Epoch 25 / 150\n"
     ]
    },
    {
     "name": "stderr",
     "output_type": "stream",
     "text": [
      "100%|███████████████████████████████████████████| 49/49 [00:27<00:00,  1.78it/s]\n",
      "100%|███████████████████████████████████████████| 49/49 [00:08<00:00,  5.72it/s]\n",
      "100%|███████████████████████████████████████████| 13/13 [00:02<00:00,  4.64it/s]\n"
     ]
    },
    {
     "name": "stdout",
     "output_type": "stream",
     "text": [
      "# Epoch 26 / 150\n"
     ]
    },
    {
     "name": "stderr",
     "output_type": "stream",
     "text": [
      "100%|███████████████████████████████████████████| 49/49 [00:27<00:00,  1.77it/s]\n",
      "100%|███████████████████████████████████████████| 49/49 [00:08<00:00,  5.97it/s]\n",
      "100%|███████████████████████████████████████████| 13/13 [00:02<00:00,  4.55it/s]\n"
     ]
    },
    {
     "name": "stdout",
     "output_type": "stream",
     "text": [
      "# Epoch 27 / 150\n"
     ]
    },
    {
     "name": "stderr",
     "output_type": "stream",
     "text": [
      "100%|███████████████████████████████████████████| 49/49 [00:26<00:00,  1.82it/s]\n",
      "100%|███████████████████████████████████████████| 49/49 [00:08<00:00,  5.88it/s]\n",
      "100%|███████████████████████████████████████████| 13/13 [00:02<00:00,  4.66it/s]\n"
     ]
    },
    {
     "name": "stdout",
     "output_type": "stream",
     "text": [
      "# Epoch 28 / 150\n"
     ]
    },
    {
     "name": "stderr",
     "output_type": "stream",
     "text": [
      "100%|███████████████████████████████████████████| 49/49 [00:28<00:00,  1.75it/s]\n",
      "100%|███████████████████████████████████████████| 49/49 [00:08<00:00,  5.93it/s]\n",
      "100%|███████████████████████████████████████████| 13/13 [00:02<00:00,  4.52it/s]\n"
     ]
    },
    {
     "name": "stdout",
     "output_type": "stream",
     "text": [
      "# Epoch 29 / 150\n"
     ]
    },
    {
     "name": "stderr",
     "output_type": "stream",
     "text": [
      "100%|███████████████████████████████████████████| 49/49 [00:27<00:00,  1.81it/s]\n",
      "100%|███████████████████████████████████████████| 49/49 [00:08<00:00,  5.90it/s]\n",
      "100%|███████████████████████████████████████████| 13/13 [00:02<00:00,  4.45it/s]\n"
     ]
    },
    {
     "name": "stdout",
     "output_type": "stream",
     "text": [
      "# Epoch 30 / 150\n"
     ]
    },
    {
     "name": "stderr",
     "output_type": "stream",
     "text": [
      "100%|███████████████████████████████████████████| 49/49 [00:27<00:00,  1.79it/s]\n",
      "100%|███████████████████████████████████████████| 49/49 [00:08<00:00,  5.93it/s]\n",
      "100%|███████████████████████████████████████████| 13/13 [00:02<00:00,  4.94it/s]\n"
     ]
    },
    {
     "name": "stdout",
     "output_type": "stream",
     "text": [
      "# Epoch 31 / 150\n"
     ]
    },
    {
     "name": "stderr",
     "output_type": "stream",
     "text": [
      "100%|███████████████████████████████████████████| 49/49 [00:29<00:00,  1.68it/s]\n",
      "100%|███████████████████████████████████████████| 49/49 [00:08<00:00,  5.95it/s]\n",
      "100%|███████████████████████████████████████████| 13/13 [00:02<00:00,  4.46it/s]\n"
     ]
    },
    {
     "name": "stdout",
     "output_type": "stream",
     "text": [
      "# Epoch 32 / 150\n"
     ]
    },
    {
     "name": "stderr",
     "output_type": "stream",
     "text": [
      "100%|███████████████████████████████████████████| 49/49 [00:27<00:00,  1.79it/s]\n",
      "100%|███████████████████████████████████████████| 49/49 [00:08<00:00,  5.94it/s]\n",
      "100%|███████████████████████████████████████████| 13/13 [00:02<00:00,  4.51it/s]\n"
     ]
    },
    {
     "name": "stdout",
     "output_type": "stream",
     "text": [
      "# Epoch 33 / 150\n"
     ]
    },
    {
     "name": "stderr",
     "output_type": "stream",
     "text": [
      "100%|███████████████████████████████████████████| 49/49 [00:27<00:00,  1.77it/s]\n",
      "100%|███████████████████████████████████████████| 49/49 [00:07<00:00,  6.22it/s]\n",
      "100%|███████████████████████████████████████████| 13/13 [00:02<00:00,  4.80it/s]\n"
     ]
    },
    {
     "name": "stdout",
     "output_type": "stream",
     "text": [
      "# Epoch 34 / 150\n"
     ]
    },
    {
     "name": "stderr",
     "output_type": "stream",
     "text": [
      "100%|███████████████████████████████████████████| 49/49 [00:27<00:00,  1.78it/s]\n",
      "100%|███████████████████████████████████████████| 49/49 [00:08<00:00,  5.86it/s]\n",
      "100%|███████████████████████████████████████████| 13/13 [00:02<00:00,  4.63it/s]\n"
     ]
    },
    {
     "name": "stdout",
     "output_type": "stream",
     "text": [
      "# Epoch 35 / 150\n"
     ]
    },
    {
     "name": "stderr",
     "output_type": "stream",
     "text": [
      "100%|███████████████████████████████████████████| 49/49 [00:27<00:00,  1.79it/s]\n",
      "100%|███████████████████████████████████████████| 49/49 [00:07<00:00,  6.46it/s]\n",
      "100%|███████████████████████████████████████████| 13/13 [00:02<00:00,  4.84it/s]\n"
     ]
    },
    {
     "name": "stdout",
     "output_type": "stream",
     "text": [
      "# Epoch 36 / 150\n"
     ]
    },
    {
     "name": "stderr",
     "output_type": "stream",
     "text": [
      "100%|███████████████████████████████████████████| 49/49 [00:27<00:00,  1.81it/s]\n",
      "100%|███████████████████████████████████████████| 49/49 [00:08<00:00,  5.82it/s]\n",
      "100%|███████████████████████████████████████████| 13/13 [00:02<00:00,  4.81it/s]\n"
     ]
    },
    {
     "name": "stdout",
     "output_type": "stream",
     "text": [
      "# Epoch 37 / 150\n"
     ]
    },
    {
     "name": "stderr",
     "output_type": "stream",
     "text": [
      "100%|███████████████████████████████████████████| 49/49 [00:26<00:00,  1.82it/s]\n",
      "100%|███████████████████████████████████████████| 49/49 [00:08<00:00,  6.03it/s]\n",
      "100%|███████████████████████████████████████████| 13/13 [00:02<00:00,  4.43it/s]\n"
     ]
    },
    {
     "name": "stdout",
     "output_type": "stream",
     "text": [
      "# Epoch 38 / 150\n"
     ]
    },
    {
     "name": "stderr",
     "output_type": "stream",
     "text": [
      "100%|███████████████████████████████████████████| 49/49 [00:27<00:00,  1.81it/s]\n",
      "100%|███████████████████████████████████████████| 49/49 [00:08<00:00,  6.09it/s]\n",
      "100%|███████████████████████████████████████████| 13/13 [00:02<00:00,  4.79it/s]\n"
     ]
    },
    {
     "name": "stdout",
     "output_type": "stream",
     "text": [
      "# Epoch 39 / 150\n"
     ]
    },
    {
     "name": "stderr",
     "output_type": "stream",
     "text": [
      "100%|███████████████████████████████████████████| 49/49 [00:28<00:00,  1.71it/s]\n",
      "100%|███████████████████████████████████████████| 49/49 [00:08<00:00,  5.67it/s]\n",
      "100%|███████████████████████████████████████████| 13/13 [00:02<00:00,  4.72it/s]\n"
     ]
    },
    {
     "name": "stdout",
     "output_type": "stream",
     "text": [
      "# Epoch 40 / 150\n"
     ]
    },
    {
     "name": "stderr",
     "output_type": "stream",
     "text": [
      "100%|███████████████████████████████████████████| 49/49 [00:27<00:00,  1.75it/s]\n",
      "100%|███████████████████████████████████████████| 49/49 [00:08<00:00,  5.94it/s]\n",
      "100%|███████████████████████████████████████████| 13/13 [00:02<00:00,  4.85it/s]\n"
     ]
    },
    {
     "name": "stdout",
     "output_type": "stream",
     "text": [
      "# Epoch 41 / 150\n"
     ]
    },
    {
     "name": "stderr",
     "output_type": "stream",
     "text": [
      "100%|███████████████████████████████████████████| 49/49 [00:26<00:00,  1.83it/s]\n",
      "100%|███████████████████████████████████████████| 49/49 [00:08<00:00,  6.07it/s]\n",
      "100%|███████████████████████████████████████████| 13/13 [00:02<00:00,  4.71it/s]\n"
     ]
    },
    {
     "name": "stdout",
     "output_type": "stream",
     "text": [
      "# Epoch 42 / 150\n"
     ]
    },
    {
     "name": "stderr",
     "output_type": "stream",
     "text": [
      "100%|███████████████████████████████████████████| 49/49 [00:27<00:00,  1.75it/s]\n",
      "100%|███████████████████████████████████████████| 49/49 [00:08<00:00,  5.83it/s]\n",
      "100%|███████████████████████████████████████████| 13/13 [00:02<00:00,  4.69it/s]\n"
     ]
    },
    {
     "name": "stdout",
     "output_type": "stream",
     "text": [
      "# Epoch 43 / 150\n"
     ]
    },
    {
     "name": "stderr",
     "output_type": "stream",
     "text": [
      "100%|███████████████████████████████████████████| 49/49 [00:27<00:00,  1.78it/s]\n",
      "100%|███████████████████████████████████████████| 49/49 [00:08<00:00,  6.01it/s]\n",
      "100%|███████████████████████████████████████████| 13/13 [00:02<00:00,  4.63it/s]\n"
     ]
    },
    {
     "name": "stdout",
     "output_type": "stream",
     "text": [
      "# Epoch 44 / 150\n"
     ]
    },
    {
     "name": "stderr",
     "output_type": "stream",
     "text": [
      "100%|███████████████████████████████████████████| 49/49 [00:26<00:00,  1.82it/s]\n",
      "100%|███████████████████████████████████████████| 49/49 [00:08<00:00,  5.94it/s]\n",
      "100%|███████████████████████████████████████████| 13/13 [00:02<00:00,  4.78it/s]\n"
     ]
    },
    {
     "name": "stdout",
     "output_type": "stream",
     "text": [
      "# Epoch 45 / 150\n"
     ]
    },
    {
     "name": "stderr",
     "output_type": "stream",
     "text": [
      "100%|███████████████████████████████████████████| 49/49 [00:26<00:00,  1.82it/s]\n",
      "100%|███████████████████████████████████████████| 49/49 [00:08<00:00,  5.75it/s]\n",
      "100%|███████████████████████████████████████████| 13/13 [00:02<00:00,  4.47it/s]\n"
     ]
    },
    {
     "name": "stdout",
     "output_type": "stream",
     "text": [
      "# Epoch 46 / 150\n"
     ]
    },
    {
     "name": "stderr",
     "output_type": "stream",
     "text": [
      "100%|███████████████████████████████████████████| 49/49 [00:27<00:00,  1.79it/s]\n",
      "100%|███████████████████████████████████████████| 49/49 [00:08<00:00,  6.05it/s]\n",
      "100%|███████████████████████████████████████████| 13/13 [00:02<00:00,  5.04it/s]\n"
     ]
    },
    {
     "name": "stdout",
     "output_type": "stream",
     "text": [
      "# Epoch 47 / 150\n"
     ]
    },
    {
     "name": "stderr",
     "output_type": "stream",
     "text": [
      "100%|███████████████████████████████████████████| 49/49 [00:27<00:00,  1.80it/s]\n",
      "100%|███████████████████████████████████████████| 49/49 [00:07<00:00,  6.37it/s]\n",
      "100%|███████████████████████████████████████████| 13/13 [00:02<00:00,  4.72it/s]\n"
     ]
    },
    {
     "name": "stdout",
     "output_type": "stream",
     "text": [
      "# Epoch 48 / 150\n"
     ]
    },
    {
     "name": "stderr",
     "output_type": "stream",
     "text": [
      "100%|███████████████████████████████████████████| 49/49 [00:27<00:00,  1.78it/s]\n",
      "100%|███████████████████████████████████████████| 49/49 [00:08<00:00,  6.02it/s]\n",
      "100%|███████████████████████████████████████████| 13/13 [00:02<00:00,  4.79it/s]\n"
     ]
    },
    {
     "name": "stdout",
     "output_type": "stream",
     "text": [
      "# Epoch 49 / 150\n"
     ]
    },
    {
     "name": "stderr",
     "output_type": "stream",
     "text": [
      "100%|███████████████████████████████████████████| 49/49 [00:26<00:00,  1.83it/s]\n",
      "100%|███████████████████████████████████████████| 49/49 [00:08<00:00,  6.02it/s]\n",
      "100%|███████████████████████████████████████████| 13/13 [00:02<00:00,  4.77it/s]\n"
     ]
    },
    {
     "name": "stdout",
     "output_type": "stream",
     "text": [
      "# Epoch 50 / 150\n"
     ]
    },
    {
     "name": "stderr",
     "output_type": "stream",
     "text": [
      "100%|███████████████████████████████████████████| 49/49 [00:27<00:00,  1.76it/s]\n",
      "100%|███████████████████████████████████████████| 49/49 [00:08<00:00,  5.89it/s]\n",
      "100%|███████████████████████████████████████████| 13/13 [00:02<00:00,  4.79it/s]\n"
     ]
    },
    {
     "name": "stdout",
     "output_type": "stream",
     "text": [
      "# Epoch 51 / 150\n"
     ]
    },
    {
     "name": "stderr",
     "output_type": "stream",
     "text": [
      "100%|███████████████████████████████████████████| 49/49 [00:27<00:00,  1.77it/s]\n",
      "100%|███████████████████████████████████████████| 49/49 [00:07<00:00,  6.14it/s]\n",
      "100%|███████████████████████████████████████████| 13/13 [00:02<00:00,  4.51it/s]\n"
     ]
    },
    {
     "name": "stdout",
     "output_type": "stream",
     "text": [
      "# Epoch 52 / 150\n"
     ]
    },
    {
     "name": "stderr",
     "output_type": "stream",
     "text": [
      "100%|███████████████████████████████████████████| 49/49 [00:27<00:00,  1.77it/s]\n",
      "100%|███████████████████████████████████████████| 49/49 [00:08<00:00,  6.00it/s]\n",
      "100%|███████████████████████████████████████████| 13/13 [00:02<00:00,  4.61it/s]\n"
     ]
    },
    {
     "name": "stdout",
     "output_type": "stream",
     "text": [
      "# Epoch 53 / 150\n"
     ]
    },
    {
     "name": "stderr",
     "output_type": "stream",
     "text": [
      "100%|███████████████████████████████████████████| 49/49 [00:28<00:00,  1.71it/s]\n",
      "100%|███████████████████████████████████████████| 49/49 [00:08<00:00,  5.72it/s]\n",
      "100%|███████████████████████████████████████████| 13/13 [00:02<00:00,  4.59it/s]\n"
     ]
    },
    {
     "name": "stdout",
     "output_type": "stream",
     "text": [
      "# Epoch 54 / 150\n"
     ]
    },
    {
     "name": "stderr",
     "output_type": "stream",
     "text": [
      "100%|███████████████████████████████████████████| 49/49 [00:27<00:00,  1.75it/s]\n",
      "100%|███████████████████████████████████████████| 49/49 [00:08<00:00,  6.03it/s]\n",
      "100%|███████████████████████████████████████████| 13/13 [00:02<00:00,  5.10it/s]\n"
     ]
    },
    {
     "name": "stdout",
     "output_type": "stream",
     "text": [
      "# Epoch 55 / 150\n"
     ]
    },
    {
     "name": "stderr",
     "output_type": "stream",
     "text": [
      "100%|███████████████████████████████████████████| 49/49 [00:27<00:00,  1.80it/s]\n",
      "100%|███████████████████████████████████████████| 49/49 [00:08<00:00,  5.87it/s]\n",
      "100%|███████████████████████████████████████████| 13/13 [00:02<00:00,  4.58it/s]\n"
     ]
    },
    {
     "name": "stdout",
     "output_type": "stream",
     "text": [
      "# Epoch 56 / 150\n"
     ]
    },
    {
     "name": "stderr",
     "output_type": "stream",
     "text": [
      "100%|███████████████████████████████████████████| 49/49 [00:26<00:00,  1.83it/s]\n",
      "100%|███████████████████████████████████████████| 49/49 [00:08<00:00,  5.96it/s]\n",
      "100%|███████████████████████████████████████████| 13/13 [00:02<00:00,  4.61it/s]\n"
     ]
    },
    {
     "name": "stdout",
     "output_type": "stream",
     "text": [
      "# Epoch 57 / 150\n"
     ]
    },
    {
     "name": "stderr",
     "output_type": "stream",
     "text": [
      "100%|███████████████████████████████████████████| 49/49 [00:27<00:00,  1.81it/s]\n",
      "100%|███████████████████████████████████████████| 49/49 [00:08<00:00,  5.72it/s]\n",
      "100%|███████████████████████████████████████████| 13/13 [00:02<00:00,  4.94it/s]\n"
     ]
    },
    {
     "name": "stdout",
     "output_type": "stream",
     "text": [
      "# Epoch 58 / 150\n"
     ]
    },
    {
     "name": "stderr",
     "output_type": "stream",
     "text": [
      "100%|███████████████████████████████████████████| 49/49 [00:27<00:00,  1.81it/s]\n",
      "100%|███████████████████████████████████████████| 49/49 [00:08<00:00,  5.96it/s]\n",
      "100%|███████████████████████████████████████████| 13/13 [00:02<00:00,  4.76it/s]\n"
     ]
    },
    {
     "name": "stdout",
     "output_type": "stream",
     "text": [
      "# Epoch 59 / 150\n"
     ]
    },
    {
     "name": "stderr",
     "output_type": "stream",
     "text": [
      "100%|███████████████████████████████████████████| 49/49 [00:27<00:00,  1.80it/s]\n",
      "100%|███████████████████████████████████████████| 49/49 [00:08<00:00,  5.85it/s]\n",
      "100%|███████████████████████████████████████████| 13/13 [00:02<00:00,  4.55it/s]\n"
     ]
    },
    {
     "name": "stdout",
     "output_type": "stream",
     "text": [
      "# Epoch 60 / 150\n"
     ]
    },
    {
     "name": "stderr",
     "output_type": "stream",
     "text": [
      "100%|███████████████████████████████████████████| 49/49 [00:27<00:00,  1.80it/s]\n",
      "100%|███████████████████████████████████████████| 49/49 [00:08<00:00,  5.89it/s]\n",
      "100%|███████████████████████████████████████████| 13/13 [00:02<00:00,  4.61it/s]\n"
     ]
    },
    {
     "name": "stdout",
     "output_type": "stream",
     "text": [
      "# Epoch 61 / 150\n"
     ]
    },
    {
     "name": "stderr",
     "output_type": "stream",
     "text": [
      "100%|███████████████████████████████████████████| 49/49 [00:27<00:00,  1.79it/s]\n",
      "100%|███████████████████████████████████████████| 49/49 [00:08<00:00,  5.97it/s]\n",
      "100%|███████████████████████████████████████████| 13/13 [00:02<00:00,  4.89it/s]\n"
     ]
    },
    {
     "name": "stdout",
     "output_type": "stream",
     "text": [
      "# Epoch 62 / 150\n"
     ]
    },
    {
     "name": "stderr",
     "output_type": "stream",
     "text": [
      "100%|███████████████████████████████████████████| 49/49 [00:27<00:00,  1.81it/s]\n",
      "100%|███████████████████████████████████████████| 49/49 [00:07<00:00,  6.34it/s]\n",
      "100%|███████████████████████████████████████████| 13/13 [00:02<00:00,  5.02it/s]\n"
     ]
    },
    {
     "name": "stdout",
     "output_type": "stream",
     "text": [
      "# Epoch 63 / 150\n"
     ]
    },
    {
     "name": "stderr",
     "output_type": "stream",
     "text": [
      "100%|███████████████████████████████████████████| 49/49 [00:27<00:00,  1.79it/s]\n",
      "100%|███████████████████████████████████████████| 49/49 [00:08<00:00,  5.96it/s]\n",
      "100%|███████████████████████████████████████████| 13/13 [00:02<00:00,  5.04it/s]\n"
     ]
    },
    {
     "name": "stdout",
     "output_type": "stream",
     "text": [
      "# Epoch 64 / 150\n"
     ]
    },
    {
     "name": "stderr",
     "output_type": "stream",
     "text": [
      "100%|███████████████████████████████████████████| 49/49 [00:26<00:00,  1.85it/s]\n",
      "100%|███████████████████████████████████████████| 49/49 [00:08<00:00,  5.92it/s]\n",
      "100%|███████████████████████████████████████████| 13/13 [00:02<00:00,  4.52it/s]\n"
     ]
    },
    {
     "name": "stdout",
     "output_type": "stream",
     "text": [
      "# Epoch 65 / 150\n"
     ]
    },
    {
     "name": "stderr",
     "output_type": "stream",
     "text": [
      "100%|███████████████████████████████████████████| 49/49 [00:27<00:00,  1.78it/s]\n",
      "100%|███████████████████████████████████████████| 49/49 [00:08<00:00,  5.89it/s]\n",
      "100%|███████████████████████████████████████████| 13/13 [00:02<00:00,  4.80it/s]\n"
     ]
    },
    {
     "name": "stdout",
     "output_type": "stream",
     "text": [
      "# Epoch 66 / 150\n"
     ]
    },
    {
     "name": "stderr",
     "output_type": "stream",
     "text": [
      "100%|███████████████████████████████████████████| 49/49 [00:27<00:00,  1.79it/s]\n",
      "100%|███████████████████████████████████████████| 49/49 [00:07<00:00,  6.21it/s]\n",
      "100%|███████████████████████████████████████████| 13/13 [00:02<00:00,  4.59it/s]\n"
     ]
    },
    {
     "name": "stdout",
     "output_type": "stream",
     "text": [
      "# Epoch 67 / 150\n"
     ]
    },
    {
     "name": "stderr",
     "output_type": "stream",
     "text": [
      "100%|███████████████████████████████████████████| 49/49 [00:27<00:00,  1.77it/s]\n",
      "100%|███████████████████████████████████████████| 49/49 [00:07<00:00,  6.16it/s]\n",
      "100%|███████████████████████████████████████████| 13/13 [00:02<00:00,  4.59it/s]\n"
     ]
    },
    {
     "name": "stdout",
     "output_type": "stream",
     "text": [
      "# Epoch 68 / 150\n"
     ]
    },
    {
     "name": "stderr",
     "output_type": "stream",
     "text": [
      "100%|███████████████████████████████████████████| 49/49 [00:28<00:00,  1.73it/s]\n",
      "100%|███████████████████████████████████████████| 49/49 [00:08<00:00,  5.95it/s]\n",
      "100%|███████████████████████████████████████████| 13/13 [00:02<00:00,  4.42it/s]\n"
     ]
    },
    {
     "name": "stdout",
     "output_type": "stream",
     "text": [
      "# Epoch 69 / 150\n"
     ]
    },
    {
     "name": "stderr",
     "output_type": "stream",
     "text": [
      "100%|███████████████████████████████████████████| 49/49 [00:28<00:00,  1.72it/s]\n",
      "100%|███████████████████████████████████████████| 49/49 [00:07<00:00,  6.21it/s]\n",
      "100%|███████████████████████████████████████████| 13/13 [00:02<00:00,  4.83it/s]\n"
     ]
    },
    {
     "name": "stdout",
     "output_type": "stream",
     "text": [
      "# Epoch 70 / 150\n"
     ]
    },
    {
     "name": "stderr",
     "output_type": "stream",
     "text": [
      "100%|███████████████████████████████████████████| 49/49 [00:27<00:00,  1.79it/s]\n",
      "100%|███████████████████████████████████████████| 49/49 [00:07<00:00,  6.32it/s]\n",
      "100%|███████████████████████████████████████████| 13/13 [00:02<00:00,  4.57it/s]\n"
     ]
    },
    {
     "name": "stdout",
     "output_type": "stream",
     "text": [
      "# Epoch 71 / 150\n"
     ]
    },
    {
     "name": "stderr",
     "output_type": "stream",
     "text": [
      "100%|███████████████████████████████████████████| 49/49 [00:27<00:00,  1.76it/s]\n",
      "100%|███████████████████████████████████████████| 49/49 [00:08<00:00,  5.75it/s]\n",
      "100%|███████████████████████████████████████████| 13/13 [00:02<00:00,  4.35it/s]\n"
     ]
    },
    {
     "name": "stdout",
     "output_type": "stream",
     "text": [
      "# Epoch 72 / 150\n"
     ]
    },
    {
     "name": "stderr",
     "output_type": "stream",
     "text": [
      "100%|███████████████████████████████████████████| 49/49 [00:27<00:00,  1.75it/s]\n",
      "100%|███████████████████████████████████████████| 49/49 [00:08<00:00,  6.09it/s]\n",
      "100%|███████████████████████████████████████████| 13/13 [00:02<00:00,  4.84it/s]\n"
     ]
    },
    {
     "name": "stdout",
     "output_type": "stream",
     "text": [
      "# Epoch 73 / 150\n"
     ]
    },
    {
     "name": "stderr",
     "output_type": "stream",
     "text": [
      "100%|███████████████████████████████████████████| 49/49 [00:27<00:00,  1.78it/s]\n",
      "100%|███████████████████████████████████████████| 49/49 [00:07<00:00,  6.27it/s]\n",
      "100%|███████████████████████████████████████████| 13/13 [00:02<00:00,  4.53it/s]\n"
     ]
    },
    {
     "name": "stdout",
     "output_type": "stream",
     "text": [
      "# Epoch 74 / 150\n"
     ]
    },
    {
     "name": "stderr",
     "output_type": "stream",
     "text": [
      "100%|███████████████████████████████████████████| 49/49 [00:27<00:00,  1.80it/s]\n",
      "100%|███████████████████████████████████████████| 49/49 [00:08<00:00,  5.74it/s]\n",
      "100%|███████████████████████████████████████████| 13/13 [00:02<00:00,  4.68it/s]\n"
     ]
    },
    {
     "name": "stdout",
     "output_type": "stream",
     "text": [
      "# Epoch 75 / 150\n"
     ]
    },
    {
     "name": "stderr",
     "output_type": "stream",
     "text": [
      "100%|███████████████████████████████████████████| 49/49 [00:26<00:00,  1.82it/s]\n",
      "100%|███████████████████████████████████████████| 49/49 [00:08<00:00,  5.96it/s]\n",
      "100%|███████████████████████████████████████████| 13/13 [00:02<00:00,  4.34it/s]\n"
     ]
    },
    {
     "name": "stdout",
     "output_type": "stream",
     "text": [
      "# Epoch 76 / 150\n"
     ]
    },
    {
     "name": "stderr",
     "output_type": "stream",
     "text": [
      "100%|███████████████████████████████████████████| 49/49 [00:27<00:00,  1.79it/s]\n",
      "100%|███████████████████████████████████████████| 49/49 [00:07<00:00,  6.17it/s]\n",
      "100%|███████████████████████████████████████████| 13/13 [00:02<00:00,  4.62it/s]\n"
     ]
    },
    {
     "name": "stdout",
     "output_type": "stream",
     "text": [
      "# Epoch 77 / 150\n"
     ]
    },
    {
     "name": "stderr",
     "output_type": "stream",
     "text": [
      "100%|███████████████████████████████████████████| 49/49 [00:27<00:00,  1.77it/s]\n",
      "100%|███████████████████████████████████████████| 49/49 [00:07<00:00,  6.23it/s]\n",
      "100%|███████████████████████████████████████████| 13/13 [00:02<00:00,  5.00it/s]\n"
     ]
    },
    {
     "name": "stdout",
     "output_type": "stream",
     "text": [
      "# Epoch 78 / 150\n"
     ]
    },
    {
     "name": "stderr",
     "output_type": "stream",
     "text": [
      "100%|███████████████████████████████████████████| 49/49 [00:27<00:00,  1.78it/s]\n",
      "100%|███████████████████████████████████████████| 49/49 [00:08<00:00,  5.71it/s]\n",
      "100%|███████████████████████████████████████████| 13/13 [00:02<00:00,  4.73it/s]\n"
     ]
    },
    {
     "name": "stdout",
     "output_type": "stream",
     "text": [
      "# Epoch 79 / 150\n"
     ]
    },
    {
     "name": "stderr",
     "output_type": "stream",
     "text": [
      "100%|███████████████████████████████████████████| 49/49 [00:27<00:00,  1.77it/s]\n",
      "100%|███████████████████████████████████████████| 49/49 [00:08<00:00,  5.91it/s]\n",
      "100%|███████████████████████████████████████████| 13/13 [00:02<00:00,  4.54it/s]\n"
     ]
    },
    {
     "name": "stdout",
     "output_type": "stream",
     "text": [
      "# Epoch 80 / 150\n"
     ]
    },
    {
     "name": "stderr",
     "output_type": "stream",
     "text": [
      "100%|███████████████████████████████████████████| 49/49 [00:26<00:00,  1.82it/s]\n",
      "100%|███████████████████████████████████████████| 49/49 [00:08<00:00,  5.89it/s]\n",
      "100%|███████████████████████████████████████████| 13/13 [00:02<00:00,  4.81it/s]\n"
     ]
    },
    {
     "name": "stdout",
     "output_type": "stream",
     "text": [
      "# Epoch 81 / 150\n"
     ]
    },
    {
     "name": "stderr",
     "output_type": "stream",
     "text": [
      "100%|███████████████████████████████████████████| 49/49 [00:27<00:00,  1.79it/s]\n",
      "100%|███████████████████████████████████████████| 49/49 [00:08<00:00,  6.10it/s]\n",
      "100%|███████████████████████████████████████████| 13/13 [00:02<00:00,  4.67it/s]\n"
     ]
    },
    {
     "name": "stdout",
     "output_type": "stream",
     "text": [
      "# Epoch 82 / 150\n"
     ]
    },
    {
     "name": "stderr",
     "output_type": "stream",
     "text": [
      "100%|███████████████████████████████████████████| 49/49 [00:27<00:00,  1.79it/s]\n",
      "100%|███████████████████████████████████████████| 49/49 [00:08<00:00,  5.95it/s]\n",
      "100%|███████████████████████████████████████████| 13/13 [00:02<00:00,  5.03it/s]\n"
     ]
    },
    {
     "name": "stdout",
     "output_type": "stream",
     "text": [
      "# Epoch 83 / 150\n"
     ]
    },
    {
     "name": "stderr",
     "output_type": "stream",
     "text": [
      "100%|███████████████████████████████████████████| 49/49 [00:26<00:00,  1.82it/s]\n",
      "100%|███████████████████████████████████████████| 49/49 [00:08<00:00,  5.83it/s]\n",
      "100%|███████████████████████████████████████████| 13/13 [00:02<00:00,  4.90it/s]\n"
     ]
    },
    {
     "name": "stdout",
     "output_type": "stream",
     "text": [
      "# Epoch 84 / 150\n"
     ]
    },
    {
     "name": "stderr",
     "output_type": "stream",
     "text": [
      "100%|███████████████████████████████████████████| 49/49 [00:27<00:00,  1.80it/s]\n",
      "100%|███████████████████████████████████████████| 49/49 [00:08<00:00,  5.95it/s]\n",
      "100%|███████████████████████████████████████████| 13/13 [00:02<00:00,  4.83it/s]\n"
     ]
    },
    {
     "name": "stdout",
     "output_type": "stream",
     "text": [
      "# Epoch 85 / 150\n"
     ]
    },
    {
     "name": "stderr",
     "output_type": "stream",
     "text": [
      "100%|███████████████████████████████████████████| 49/49 [00:26<00:00,  1.85it/s]\n",
      "100%|███████████████████████████████████████████| 49/49 [00:07<00:00,  6.29it/s]\n",
      "100%|███████████████████████████████████████████| 13/13 [00:02<00:00,  4.49it/s]\n"
     ]
    },
    {
     "name": "stdout",
     "output_type": "stream",
     "text": [
      "# Epoch 86 / 150\n"
     ]
    },
    {
     "name": "stderr",
     "output_type": "stream",
     "text": [
      "100%|███████████████████████████████████████████| 49/49 [00:26<00:00,  1.82it/s]\n",
      "100%|███████████████████████████████████████████| 49/49 [00:08<00:00,  6.05it/s]\n",
      "100%|███████████████████████████████████████████| 13/13 [00:02<00:00,  4.63it/s]\n"
     ]
    },
    {
     "name": "stdout",
     "output_type": "stream",
     "text": [
      "# Epoch 87 / 150\n"
     ]
    },
    {
     "name": "stderr",
     "output_type": "stream",
     "text": [
      "100%|███████████████████████████████████████████| 49/49 [00:27<00:00,  1.81it/s]\n",
      "100%|███████████████████████████████████████████| 49/49 [00:08<00:00,  6.00it/s]\n",
      "100%|███████████████████████████████████████████| 13/13 [00:02<00:00,  4.61it/s]\n"
     ]
    },
    {
     "name": "stdout",
     "output_type": "stream",
     "text": [
      "# Epoch 88 / 150\n"
     ]
    },
    {
     "name": "stderr",
     "output_type": "stream",
     "text": [
      "100%|███████████████████████████████████████████| 49/49 [00:27<00:00,  1.75it/s]\n",
      "100%|███████████████████████████████████████████| 49/49 [00:07<00:00,  6.24it/s]\n",
      "100%|███████████████████████████████████████████| 13/13 [00:02<00:00,  5.10it/s]\n"
     ]
    },
    {
     "name": "stdout",
     "output_type": "stream",
     "text": [
      "# Epoch 89 / 150\n"
     ]
    },
    {
     "name": "stderr",
     "output_type": "stream",
     "text": [
      "100%|███████████████████████████████████████████| 49/49 [00:27<00:00,  1.78it/s]\n",
      "100%|███████████████████████████████████████████| 49/49 [00:08<00:00,  6.02it/s]\n",
      "100%|███████████████████████████████████████████| 13/13 [00:02<00:00,  4.55it/s]\n"
     ]
    },
    {
     "name": "stdout",
     "output_type": "stream",
     "text": [
      "# Epoch 90 / 150\n"
     ]
    },
    {
     "name": "stderr",
     "output_type": "stream",
     "text": [
      "100%|███████████████████████████████████████████| 49/49 [00:27<00:00,  1.75it/s]\n",
      "100%|███████████████████████████████████████████| 49/49 [00:08<00:00,  5.94it/s]\n",
      "100%|███████████████████████████████████████████| 13/13 [00:02<00:00,  4.78it/s]\n"
     ]
    },
    {
     "name": "stdout",
     "output_type": "stream",
     "text": [
      "# Epoch 91 / 150\n"
     ]
    },
    {
     "name": "stderr",
     "output_type": "stream",
     "text": [
      "100%|███████████████████████████████████████████| 49/49 [00:27<00:00,  1.77it/s]\n",
      "100%|███████████████████████████████████████████| 49/49 [00:08<00:00,  5.97it/s]\n",
      "100%|███████████████████████████████████████████| 13/13 [00:02<00:00,  4.72it/s]\n"
     ]
    },
    {
     "name": "stdout",
     "output_type": "stream",
     "text": [
      "# Epoch 92 / 150\n"
     ]
    },
    {
     "name": "stderr",
     "output_type": "stream",
     "text": [
      "100%|███████████████████████████████████████████| 49/49 [00:27<00:00,  1.80it/s]\n",
      "100%|███████████████████████████████████████████| 49/49 [00:07<00:00,  6.30it/s]\n",
      "100%|███████████████████████████████████████████| 13/13 [00:02<00:00,  4.78it/s]\n"
     ]
    },
    {
     "name": "stdout",
     "output_type": "stream",
     "text": [
      "# Epoch 93 / 150\n"
     ]
    },
    {
     "name": "stderr",
     "output_type": "stream",
     "text": [
      "100%|███████████████████████████████████████████| 49/49 [00:27<00:00,  1.75it/s]\n",
      "100%|███████████████████████████████████████████| 49/49 [00:07<00:00,  6.21it/s]\n",
      "100%|███████████████████████████████████████████| 13/13 [00:02<00:00,  4.72it/s]\n"
     ]
    },
    {
     "name": "stdout",
     "output_type": "stream",
     "text": [
      "# Epoch 94 / 150\n"
     ]
    },
    {
     "name": "stderr",
     "output_type": "stream",
     "text": [
      "100%|███████████████████████████████████████████| 49/49 [00:27<00:00,  1.81it/s]\n",
      "100%|███████████████████████████████████████████| 49/49 [00:08<00:00,  5.75it/s]\n",
      "100%|███████████████████████████████████████████| 13/13 [00:02<00:00,  4.89it/s]\n"
     ]
    },
    {
     "name": "stdout",
     "output_type": "stream",
     "text": [
      "# Epoch 95 / 150\n"
     ]
    },
    {
     "name": "stderr",
     "output_type": "stream",
     "text": [
      "100%|███████████████████████████████████████████| 49/49 [00:27<00:00,  1.79it/s]\n",
      "100%|███████████████████████████████████████████| 49/49 [00:08<00:00,  5.97it/s]\n",
      "100%|███████████████████████████████████████████| 13/13 [00:02<00:00,  5.00it/s]\n"
     ]
    },
    {
     "name": "stdout",
     "output_type": "stream",
     "text": [
      "# Epoch 96 / 150\n"
     ]
    },
    {
     "name": "stderr",
     "output_type": "stream",
     "text": [
      "100%|███████████████████████████████████████████| 49/49 [00:28<00:00,  1.75it/s]\n",
      "100%|███████████████████████████████████████████| 49/49 [00:08<00:00,  6.08it/s]\n",
      "100%|███████████████████████████████████████████| 13/13 [00:03<00:00,  4.29it/s]\n"
     ]
    },
    {
     "name": "stdout",
     "output_type": "stream",
     "text": [
      "# Epoch 97 / 150\n"
     ]
    },
    {
     "name": "stderr",
     "output_type": "stream",
     "text": [
      "100%|███████████████████████████████████████████| 49/49 [00:27<00:00,  1.79it/s]\n",
      "100%|███████████████████████████████████████████| 49/49 [00:08<00:00,  6.00it/s]\n",
      "100%|███████████████████████████████████████████| 13/13 [00:02<00:00,  4.58it/s]\n"
     ]
    },
    {
     "name": "stdout",
     "output_type": "stream",
     "text": [
      "# Epoch 98 / 150\n"
     ]
    },
    {
     "name": "stderr",
     "output_type": "stream",
     "text": [
      "100%|███████████████████████████████████████████| 49/49 [00:27<00:00,  1.80it/s]\n",
      "100%|███████████████████████████████████████████| 49/49 [00:08<00:00,  5.94it/s]\n",
      "100%|███████████████████████████████████████████| 13/13 [00:02<00:00,  4.35it/s]\n"
     ]
    },
    {
     "name": "stdout",
     "output_type": "stream",
     "text": [
      "# Epoch 99 / 150\n"
     ]
    },
    {
     "name": "stderr",
     "output_type": "stream",
     "text": [
      "100%|███████████████████████████████████████████| 49/49 [00:27<00:00,  1.79it/s]\n",
      "100%|███████████████████████████████████████████| 49/49 [00:08<00:00,  5.87it/s]\n",
      "100%|███████████████████████████████████████████| 13/13 [00:02<00:00,  4.66it/s]\n"
     ]
    },
    {
     "name": "stdout",
     "output_type": "stream",
     "text": [
      "# Epoch 100 / 150\n"
     ]
    },
    {
     "name": "stderr",
     "output_type": "stream",
     "text": [
      "100%|███████████████████████████████████████████| 49/49 [00:27<00:00,  1.79it/s]\n",
      "100%|███████████████████████████████████████████| 49/49 [00:08<00:00,  5.86it/s]\n",
      "100%|███████████████████████████████████████████| 13/13 [00:02<00:00,  4.52it/s]\n"
     ]
    },
    {
     "name": "stdout",
     "output_type": "stream",
     "text": [
      "# Epoch 101 / 150\n"
     ]
    },
    {
     "name": "stderr",
     "output_type": "stream",
     "text": [
      "100%|███████████████████████████████████████████| 49/49 [00:27<00:00,  1.76it/s]\n",
      "100%|███████████████████████████████████████████| 49/49 [00:08<00:00,  5.85it/s]\n",
      "100%|███████████████████████████████████████████| 13/13 [00:02<00:00,  4.55it/s]\n"
     ]
    },
    {
     "name": "stdout",
     "output_type": "stream",
     "text": [
      "# Epoch 102 / 150\n"
     ]
    },
    {
     "name": "stderr",
     "output_type": "stream",
     "text": [
      "100%|███████████████████████████████████████████| 49/49 [00:27<00:00,  1.75it/s]\n",
      "100%|███████████████████████████████████████████| 49/49 [00:08<00:00,  6.02it/s]\n",
      "100%|███████████████████████████████████████████| 13/13 [00:02<00:00,  4.45it/s]\n"
     ]
    },
    {
     "name": "stdout",
     "output_type": "stream",
     "text": [
      "# Epoch 103 / 150\n"
     ]
    },
    {
     "name": "stderr",
     "output_type": "stream",
     "text": [
      "100%|███████████████████████████████████████████| 49/49 [00:27<00:00,  1.78it/s]\n",
      "100%|███████████████████████████████████████████| 49/49 [00:08<00:00,  6.12it/s]\n",
      "100%|███████████████████████████████████████████| 13/13 [00:02<00:00,  4.62it/s]\n"
     ]
    },
    {
     "name": "stdout",
     "output_type": "stream",
     "text": [
      "# Epoch 104 / 150\n"
     ]
    },
    {
     "name": "stderr",
     "output_type": "stream",
     "text": [
      "100%|███████████████████████████████████████████| 49/49 [00:28<00:00,  1.75it/s]\n",
      "100%|███████████████████████████████████████████| 49/49 [00:08<00:00,  5.90it/s]\n",
      "100%|███████████████████████████████████████████| 13/13 [00:02<00:00,  4.77it/s]\n"
     ]
    },
    {
     "name": "stdout",
     "output_type": "stream",
     "text": [
      "# Epoch 105 / 150\n"
     ]
    },
    {
     "name": "stderr",
     "output_type": "stream",
     "text": [
      "100%|███████████████████████████████████████████| 49/49 [00:27<00:00,  1.78it/s]\n",
      "100%|███████████████████████████████████████████| 49/49 [00:08<00:00,  5.88it/s]\n",
      "100%|███████████████████████████████████████████| 13/13 [00:02<00:00,  4.61it/s]\n"
     ]
    },
    {
     "name": "stdout",
     "output_type": "stream",
     "text": [
      "# Epoch 106 / 150\n"
     ]
    },
    {
     "name": "stderr",
     "output_type": "stream",
     "text": [
      "100%|███████████████████████████████████████████| 49/49 [00:27<00:00,  1.76it/s]\n",
      "100%|███████████████████████████████████████████| 49/49 [00:08<00:00,  5.96it/s]\n",
      "100%|███████████████████████████████████████████| 13/13 [00:02<00:00,  5.01it/s]\n"
     ]
    },
    {
     "name": "stdout",
     "output_type": "stream",
     "text": [
      "# Epoch 107 / 150\n"
     ]
    },
    {
     "name": "stderr",
     "output_type": "stream",
     "text": [
      "100%|███████████████████████████████████████████| 49/49 [00:27<00:00,  1.80it/s]\n",
      "100%|███████████████████████████████████████████| 49/49 [00:08<00:00,  6.08it/s]\n",
      "100%|███████████████████████████████████████████| 13/13 [00:02<00:00,  4.55it/s]\n"
     ]
    },
    {
     "name": "stdout",
     "output_type": "stream",
     "text": [
      "# Epoch 108 / 150\n"
     ]
    },
    {
     "name": "stderr",
     "output_type": "stream",
     "text": [
      "100%|███████████████████████████████████████████| 49/49 [00:28<00:00,  1.75it/s]\n",
      "100%|███████████████████████████████████████████| 49/49 [00:08<00:00,  6.12it/s]\n",
      "100%|███████████████████████████████████████████| 13/13 [00:02<00:00,  4.58it/s]\n"
     ]
    },
    {
     "name": "stdout",
     "output_type": "stream",
     "text": [
      "# Epoch 109 / 150\n"
     ]
    },
    {
     "name": "stderr",
     "output_type": "stream",
     "text": [
      "100%|███████████████████████████████████████████| 49/49 [00:27<00:00,  1.77it/s]\n",
      "100%|███████████████████████████████████████████| 49/49 [00:08<00:00,  5.99it/s]\n",
      "100%|███████████████████████████████████████████| 13/13 [00:02<00:00,  4.75it/s]\n"
     ]
    },
    {
     "name": "stdout",
     "output_type": "stream",
     "text": [
      "# Epoch 110 / 150\n"
     ]
    },
    {
     "name": "stderr",
     "output_type": "stream",
     "text": [
      "100%|███████████████████████████████████████████| 49/49 [00:26<00:00,  1.82it/s]\n",
      "100%|███████████████████████████████████████████| 49/49 [00:07<00:00,  6.18it/s]\n",
      "100%|███████████████████████████████████████████| 13/13 [00:02<00:00,  4.79it/s]\n"
     ]
    },
    {
     "name": "stdout",
     "output_type": "stream",
     "text": [
      "# Epoch 111 / 150\n"
     ]
    },
    {
     "name": "stderr",
     "output_type": "stream",
     "text": [
      "100%|███████████████████████████████████████████| 49/49 [00:27<00:00,  1.80it/s]\n",
      "100%|███████████████████████████████████████████| 49/49 [00:07<00:00,  6.17it/s]\n",
      "100%|███████████████████████████████████████████| 13/13 [00:02<00:00,  4.67it/s]\n"
     ]
    },
    {
     "name": "stdout",
     "output_type": "stream",
     "text": [
      "# Epoch 112 / 150\n"
     ]
    },
    {
     "name": "stderr",
     "output_type": "stream",
     "text": [
      "100%|███████████████████████████████████████████| 49/49 [00:27<00:00,  1.80it/s]\n",
      "100%|███████████████████████████████████████████| 49/49 [00:08<00:00,  6.02it/s]\n",
      "100%|███████████████████████████████████████████| 13/13 [00:02<00:00,  4.56it/s]\n"
     ]
    },
    {
     "name": "stdout",
     "output_type": "stream",
     "text": [
      "# Epoch 113 / 150\n"
     ]
    },
    {
     "name": "stderr",
     "output_type": "stream",
     "text": [
      "100%|███████████████████████████████████████████| 49/49 [00:28<00:00,  1.72it/s]\n",
      "100%|███████████████████████████████████████████| 49/49 [00:08<00:00,  5.69it/s]\n",
      "100%|███████████████████████████████████████████| 13/13 [00:02<00:00,  4.80it/s]\n"
     ]
    },
    {
     "name": "stdout",
     "output_type": "stream",
     "text": [
      "# Epoch 114 / 150\n"
     ]
    },
    {
     "name": "stderr",
     "output_type": "stream",
     "text": [
      "100%|███████████████████████████████████████████| 49/49 [00:26<00:00,  1.82it/s]\n",
      "100%|███████████████████████████████████████████| 49/49 [00:08<00:00,  5.95it/s]\n",
      "100%|███████████████████████████████████████████| 13/13 [00:02<00:00,  4.85it/s]\n"
     ]
    },
    {
     "name": "stdout",
     "output_type": "stream",
     "text": [
      "# Epoch 115 / 150\n"
     ]
    },
    {
     "name": "stderr",
     "output_type": "stream",
     "text": [
      "100%|███████████████████████████████████████████| 49/49 [00:27<00:00,  1.78it/s]\n",
      "100%|███████████████████████████████████████████| 49/49 [00:08<00:00,  6.09it/s]\n",
      "100%|███████████████████████████████████████████| 13/13 [00:02<00:00,  5.12it/s]\n"
     ]
    },
    {
     "name": "stdout",
     "output_type": "stream",
     "text": [
      "# Epoch 116 / 150\n"
     ]
    },
    {
     "name": "stderr",
     "output_type": "stream",
     "text": [
      "100%|███████████████████████████████████████████| 49/49 [00:27<00:00,  1.80it/s]\n",
      "100%|███████████████████████████████████████████| 49/49 [00:08<00:00,  6.07it/s]\n",
      "100%|███████████████████████████████████████████| 13/13 [00:02<00:00,  4.36it/s]\n"
     ]
    },
    {
     "name": "stdout",
     "output_type": "stream",
     "text": [
      "# Epoch 117 / 150\n"
     ]
    },
    {
     "name": "stderr",
     "output_type": "stream",
     "text": [
      "100%|███████████████████████████████████████████| 49/49 [00:26<00:00,  1.86it/s]\n",
      "100%|███████████████████████████████████████████| 49/49 [00:08<00:00,  6.03it/s]\n",
      "100%|███████████████████████████████████████████| 13/13 [00:02<00:00,  4.80it/s]\n"
     ]
    },
    {
     "name": "stdout",
     "output_type": "stream",
     "text": [
      "# Epoch 118 / 150\n"
     ]
    },
    {
     "name": "stderr",
     "output_type": "stream",
     "text": [
      "100%|███████████████████████████████████████████| 49/49 [00:26<00:00,  1.82it/s]\n",
      "100%|███████████████████████████████████████████| 49/49 [00:08<00:00,  5.82it/s]\n",
      "100%|███████████████████████████████████████████| 13/13 [00:02<00:00,  4.99it/s]\n"
     ]
    },
    {
     "name": "stdout",
     "output_type": "stream",
     "text": [
      "# Epoch 119 / 150\n"
     ]
    },
    {
     "name": "stderr",
     "output_type": "stream",
     "text": [
      "100%|███████████████████████████████████████████| 49/49 [00:27<00:00,  1.78it/s]\n",
      "100%|███████████████████████████████████████████| 49/49 [00:08<00:00,  6.07it/s]\n",
      "100%|███████████████████████████████████████████| 13/13 [00:02<00:00,  4.51it/s]\n"
     ]
    },
    {
     "name": "stdout",
     "output_type": "stream",
     "text": [
      "# Epoch 120 / 150\n"
     ]
    },
    {
     "name": "stderr",
     "output_type": "stream",
     "text": [
      "100%|███████████████████████████████████████████| 49/49 [00:28<00:00,  1.74it/s]\n",
      "100%|███████████████████████████████████████████| 49/49 [00:08<00:00,  5.87it/s]\n",
      "100%|███████████████████████████████████████████| 13/13 [00:02<00:00,  4.76it/s]\n"
     ]
    },
    {
     "name": "stdout",
     "output_type": "stream",
     "text": [
      "# Epoch 121 / 150\n"
     ]
    },
    {
     "name": "stderr",
     "output_type": "stream",
     "text": [
      "100%|███████████████████████████████████████████| 49/49 [00:27<00:00,  1.78it/s]\n",
      "100%|███████████████████████████████████████████| 49/49 [00:08<00:00,  5.98it/s]\n",
      "100%|███████████████████████████████████████████| 13/13 [00:02<00:00,  4.71it/s]\n"
     ]
    },
    {
     "name": "stdout",
     "output_type": "stream",
     "text": [
      "# Epoch 122 / 150\n"
     ]
    },
    {
     "name": "stderr",
     "output_type": "stream",
     "text": [
      "100%|███████████████████████████████████████████| 49/49 [00:26<00:00,  1.84it/s]\n",
      "100%|███████████████████████████████████████████| 49/49 [00:07<00:00,  6.15it/s]\n",
      "100%|███████████████████████████████████████████| 13/13 [00:02<00:00,  4.88it/s]\n"
     ]
    },
    {
     "name": "stdout",
     "output_type": "stream",
     "text": [
      "# Epoch 123 / 150\n"
     ]
    },
    {
     "name": "stderr",
     "output_type": "stream",
     "text": [
      "100%|███████████████████████████████████████████| 49/49 [00:27<00:00,  1.76it/s]\n",
      "100%|███████████████████████████████████████████| 49/49 [00:08<00:00,  5.93it/s]\n",
      "100%|███████████████████████████████████████████| 13/13 [00:02<00:00,  4.82it/s]\n"
     ]
    },
    {
     "name": "stdout",
     "output_type": "stream",
     "text": [
      "# Epoch 124 / 150\n"
     ]
    },
    {
     "name": "stderr",
     "output_type": "stream",
     "text": [
      "100%|███████████████████████████████████████████| 49/49 [00:28<00:00,  1.74it/s]\n",
      "100%|███████████████████████████████████████████| 49/49 [00:08<00:00,  5.85it/s]\n",
      "100%|███████████████████████████████████████████| 13/13 [00:02<00:00,  4.71it/s]\n"
     ]
    },
    {
     "name": "stdout",
     "output_type": "stream",
     "text": [
      "# Epoch 125 / 150\n"
     ]
    },
    {
     "name": "stderr",
     "output_type": "stream",
     "text": [
      "100%|███████████████████████████████████████████| 49/49 [00:27<00:00,  1.80it/s]\n",
      "100%|███████████████████████████████████████████| 49/49 [00:07<00:00,  6.19it/s]\n",
      "100%|███████████████████████████████████████████| 13/13 [00:02<00:00,  5.01it/s]\n"
     ]
    },
    {
     "name": "stdout",
     "output_type": "stream",
     "text": [
      "# Epoch 126 / 150\n"
     ]
    },
    {
     "name": "stderr",
     "output_type": "stream",
     "text": [
      "100%|███████████████████████████████████████████| 49/49 [00:28<00:00,  1.75it/s]\n",
      "100%|███████████████████████████████████████████| 49/49 [00:07<00:00,  6.23it/s]\n",
      "100%|███████████████████████████████████████████| 13/13 [00:02<00:00,  5.06it/s]\n"
     ]
    },
    {
     "name": "stdout",
     "output_type": "stream",
     "text": [
      "# Epoch 127 / 150\n"
     ]
    },
    {
     "name": "stderr",
     "output_type": "stream",
     "text": [
      "100%|███████████████████████████████████████████| 49/49 [00:27<00:00,  1.81it/s]\n",
      "100%|███████████████████████████████████████████| 49/49 [00:08<00:00,  6.04it/s]\n",
      "100%|███████████████████████████████████████████| 13/13 [00:02<00:00,  4.58it/s]\n"
     ]
    },
    {
     "name": "stdout",
     "output_type": "stream",
     "text": [
      "# Epoch 128 / 150\n"
     ]
    },
    {
     "name": "stderr",
     "output_type": "stream",
     "text": [
      "100%|███████████████████████████████████████████| 49/49 [00:27<00:00,  1.75it/s]\n",
      "100%|███████████████████████████████████████████| 49/49 [00:08<00:00,  5.92it/s]\n",
      "100%|███████████████████████████████████████████| 13/13 [00:02<00:00,  4.94it/s]\n"
     ]
    },
    {
     "name": "stdout",
     "output_type": "stream",
     "text": [
      "# Epoch 129 / 150\n"
     ]
    },
    {
     "name": "stderr",
     "output_type": "stream",
     "text": [
      "100%|███████████████████████████████████████████| 49/49 [00:27<00:00,  1.78it/s]\n",
      "100%|███████████████████████████████████████████| 49/49 [00:07<00:00,  6.14it/s]\n",
      "100%|███████████████████████████████████████████| 13/13 [00:02<00:00,  4.92it/s]\n"
     ]
    },
    {
     "name": "stdout",
     "output_type": "stream",
     "text": [
      "# Epoch 130 / 150\n"
     ]
    },
    {
     "name": "stderr",
     "output_type": "stream",
     "text": [
      "100%|███████████████████████████████████████████| 49/49 [00:27<00:00,  1.81it/s]\n",
      "100%|███████████████████████████████████████████| 49/49 [00:07<00:00,  6.16it/s]\n",
      "100%|███████████████████████████████████████████| 13/13 [00:02<00:00,  4.68it/s]\n"
     ]
    },
    {
     "name": "stdout",
     "output_type": "stream",
     "text": [
      "# Epoch 131 / 150\n"
     ]
    },
    {
     "name": "stderr",
     "output_type": "stream",
     "text": [
      "100%|███████████████████████████████████████████| 49/49 [00:28<00:00,  1.74it/s]\n",
      "100%|███████████████████████████████████████████| 49/49 [00:07<00:00,  6.26it/s]\n",
      "100%|███████████████████████████████████████████| 13/13 [00:02<00:00,  4.65it/s]\n"
     ]
    },
    {
     "name": "stdout",
     "output_type": "stream",
     "text": [
      "# Epoch 132 / 150\n"
     ]
    },
    {
     "name": "stderr",
     "output_type": "stream",
     "text": [
      "100%|███████████████████████████████████████████| 49/49 [00:27<00:00,  1.75it/s]\n",
      "100%|███████████████████████████████████████████| 49/49 [00:08<00:00,  6.02it/s]\n",
      "100%|███████████████████████████████████████████| 13/13 [00:02<00:00,  4.76it/s]\n"
     ]
    },
    {
     "name": "stdout",
     "output_type": "stream",
     "text": [
      "# Epoch 133 / 150\n"
     ]
    },
    {
     "name": "stderr",
     "output_type": "stream",
     "text": [
      "100%|███████████████████████████████████████████| 49/49 [00:26<00:00,  1.82it/s]\n",
      "100%|███████████████████████████████████████████| 49/49 [00:07<00:00,  6.18it/s]\n",
      "100%|███████████████████████████████████████████| 13/13 [00:02<00:00,  5.04it/s]\n"
     ]
    },
    {
     "name": "stdout",
     "output_type": "stream",
     "text": [
      "# Epoch 134 / 150\n"
     ]
    },
    {
     "name": "stderr",
     "output_type": "stream",
     "text": [
      "100%|███████████████████████████████████████████| 49/49 [00:26<00:00,  1.85it/s]\n",
      "100%|███████████████████████████████████████████| 49/49 [00:07<00:00,  6.39it/s]\n",
      "100%|███████████████████████████████████████████| 13/13 [00:02<00:00,  4.81it/s]\n"
     ]
    },
    {
     "name": "stdout",
     "output_type": "stream",
     "text": [
      "# Epoch 135 / 150\n"
     ]
    },
    {
     "name": "stderr",
     "output_type": "stream",
     "text": [
      "100%|███████████████████████████████████████████| 49/49 [00:26<00:00,  1.84it/s]\n",
      "100%|███████████████████████████████████████████| 49/49 [00:08<00:00,  6.08it/s]\n",
      "100%|███████████████████████████████████████████| 13/13 [00:02<00:00,  5.01it/s]\n"
     ]
    },
    {
     "name": "stdout",
     "output_type": "stream",
     "text": [
      "# Epoch 136 / 150\n"
     ]
    },
    {
     "name": "stderr",
     "output_type": "stream",
     "text": [
      "100%|███████████████████████████████████████████| 49/49 [00:27<00:00,  1.81it/s]\n",
      "100%|███████████████████████████████████████████| 49/49 [00:07<00:00,  6.43it/s]\n",
      "100%|███████████████████████████████████████████| 13/13 [00:02<00:00,  4.80it/s]\n"
     ]
    },
    {
     "name": "stdout",
     "output_type": "stream",
     "text": [
      "# Epoch 137 / 150\n"
     ]
    },
    {
     "name": "stderr",
     "output_type": "stream",
     "text": [
      "100%|███████████████████████████████████████████| 49/49 [00:27<00:00,  1.79it/s]\n",
      "100%|███████████████████████████████████████████| 49/49 [00:08<00:00,  6.11it/s]\n",
      "100%|███████████████████████████████████████████| 13/13 [00:02<00:00,  4.97it/s]\n"
     ]
    },
    {
     "name": "stdout",
     "output_type": "stream",
     "text": [
      "# Epoch 138 / 150\n"
     ]
    },
    {
     "name": "stderr",
     "output_type": "stream",
     "text": [
      "100%|███████████████████████████████████████████| 49/49 [00:28<00:00,  1.75it/s]\n",
      "100%|███████████████████████████████████████████| 49/49 [00:07<00:00,  6.32it/s]\n",
      "100%|███████████████████████████████████████████| 13/13 [00:02<00:00,  4.67it/s]\n"
     ]
    },
    {
     "name": "stdout",
     "output_type": "stream",
     "text": [
      "# Epoch 139 / 150\n"
     ]
    },
    {
     "name": "stderr",
     "output_type": "stream",
     "text": [
      "100%|███████████████████████████████████████████| 49/49 [00:26<00:00,  1.84it/s]\n",
      "100%|███████████████████████████████████████████| 49/49 [00:07<00:00,  6.25it/s]\n",
      "100%|███████████████████████████████████████████| 13/13 [00:02<00:00,  4.82it/s]\n"
     ]
    },
    {
     "name": "stdout",
     "output_type": "stream",
     "text": [
      "# Epoch 140 / 150\n"
     ]
    },
    {
     "name": "stderr",
     "output_type": "stream",
     "text": [
      "100%|███████████████████████████████████████████| 49/49 [00:27<00:00,  1.76it/s]\n",
      "100%|███████████████████████████████████████████| 49/49 [00:07<00:00,  6.22it/s]\n",
      "100%|███████████████████████████████████████████| 13/13 [00:02<00:00,  5.06it/s]\n"
     ]
    },
    {
     "name": "stdout",
     "output_type": "stream",
     "text": [
      "# Epoch 141 / 150\n"
     ]
    },
    {
     "name": "stderr",
     "output_type": "stream",
     "text": [
      "100%|███████████████████████████████████████████| 49/49 [00:27<00:00,  1.77it/s]\n",
      "100%|███████████████████████████████████████████| 49/49 [00:07<00:00,  6.14it/s]\n",
      "100%|███████████████████████████████████████████| 13/13 [00:02<00:00,  5.12it/s]\n"
     ]
    },
    {
     "name": "stdout",
     "output_type": "stream",
     "text": [
      "# Epoch 142 / 150\n"
     ]
    },
    {
     "name": "stderr",
     "output_type": "stream",
     "text": [
      "100%|███████████████████████████████████████████| 49/49 [00:27<00:00,  1.76it/s]\n",
      "100%|███████████████████████████████████████████| 49/49 [00:07<00:00,  6.16it/s]\n",
      "100%|███████████████████████████████████████████| 13/13 [00:02<00:00,  4.93it/s]\n"
     ]
    },
    {
     "name": "stdout",
     "output_type": "stream",
     "text": [
      "# Epoch 143 / 150\n"
     ]
    },
    {
     "name": "stderr",
     "output_type": "stream",
     "text": [
      "100%|███████████████████████████████████████████| 49/49 [00:28<00:00,  1.74it/s]\n",
      "100%|███████████████████████████████████████████| 49/49 [00:07<00:00,  6.23it/s]\n",
      "100%|███████████████████████████████████████████| 13/13 [00:02<00:00,  4.82it/s]\n"
     ]
    },
    {
     "name": "stdout",
     "output_type": "stream",
     "text": [
      "# Epoch 144 / 150\n"
     ]
    },
    {
     "name": "stderr",
     "output_type": "stream",
     "text": [
      "100%|███████████████████████████████████████████| 49/49 [00:26<00:00,  1.82it/s]\n",
      "100%|███████████████████████████████████████████| 49/49 [00:07<00:00,  6.37it/s]\n",
      "100%|███████████████████████████████████████████| 13/13 [00:02<00:00,  4.60it/s]\n"
     ]
    },
    {
     "name": "stdout",
     "output_type": "stream",
     "text": [
      "# Epoch 145 / 150\n"
     ]
    },
    {
     "name": "stderr",
     "output_type": "stream",
     "text": [
      "100%|███████████████████████████████████████████| 49/49 [00:27<00:00,  1.76it/s]\n",
      "100%|███████████████████████████████████████████| 49/49 [00:07<00:00,  6.23it/s]\n",
      "100%|███████████████████████████████████████████| 13/13 [00:02<00:00,  5.05it/s]\n"
     ]
    },
    {
     "name": "stdout",
     "output_type": "stream",
     "text": [
      "# Epoch 146 / 150\n"
     ]
    },
    {
     "name": "stderr",
     "output_type": "stream",
     "text": [
      "100%|███████████████████████████████████████████| 49/49 [00:26<00:00,  1.82it/s]\n",
      "100%|███████████████████████████████████████████| 49/49 [00:08<00:00,  5.86it/s]\n",
      "100%|███████████████████████████████████████████| 13/13 [00:02<00:00,  5.02it/s]\n"
     ]
    },
    {
     "name": "stdout",
     "output_type": "stream",
     "text": [
      "# Epoch 147 / 150\n"
     ]
    },
    {
     "name": "stderr",
     "output_type": "stream",
     "text": [
      "100%|███████████████████████████████████████████| 49/49 [00:27<00:00,  1.80it/s]\n",
      "100%|███████████████████████████████████████████| 49/49 [00:07<00:00,  6.24it/s]\n",
      "100%|███████████████████████████████████████████| 13/13 [00:02<00:00,  4.89it/s]\n"
     ]
    },
    {
     "name": "stdout",
     "output_type": "stream",
     "text": [
      "# Epoch 148 / 150\n"
     ]
    },
    {
     "name": "stderr",
     "output_type": "stream",
     "text": [
      "100%|███████████████████████████████████████████| 49/49 [00:27<00:00,  1.76it/s]\n",
      "100%|███████████████████████████████████████████| 49/49 [00:07<00:00,  6.29it/s]\n",
      "100%|███████████████████████████████████████████| 13/13 [00:02<00:00,  4.92it/s]\n"
     ]
    },
    {
     "name": "stdout",
     "output_type": "stream",
     "text": [
      "# Epoch 149 / 150\n"
     ]
    },
    {
     "name": "stderr",
     "output_type": "stream",
     "text": [
      "100%|███████████████████████████████████████████| 49/49 [00:27<00:00,  1.79it/s]\n",
      "100%|███████████████████████████████████████████| 49/49 [00:08<00:00,  6.01it/s]\n",
      "100%|███████████████████████████████████████████| 13/13 [00:02<00:00,  4.69it/s]\n"
     ]
    },
    {
     "name": "stdout",
     "output_type": "stream",
     "text": [
      "# Epoch 150 / 150\n"
     ]
    },
    {
     "name": "stderr",
     "output_type": "stream",
     "text": [
      "100%|███████████████████████████████████████████| 49/49 [00:27<00:00,  1.76it/s]\n",
      "100%|███████████████████████████████████████████| 49/49 [00:07<00:00,  6.19it/s]\n",
      "100%|███████████████████████████████████████████| 13/13 [00:02<00:00,  5.09it/s]\n"
     ]
    },
    {
     "data": {
      "text/html": [
       "Waiting for W&B process to finish... <strong style=\"color:green\">(success).</strong>"
      ],
      "text/plain": [
       "<IPython.core.display.HTML object>"
      ]
     },
     "metadata": {},
     "output_type": "display_data"
    },
    {
     "data": {
      "application/vnd.jupyter.widget-view+json": {
       "model_id": "",
       "version_major": 2,
       "version_minor": 0
      },
      "text/plain": [
       "VBox(children=(Label(value='0.001 MB of 0.001 MB uploaded (0.000 MB deduped)\\r'), FloatProgress(value=1.0, max…"
      ]
     },
     "metadata": {},
     "output_type": "display_data"
    },
    {
     "data": {
      "text/html": [
       "<style>\n",
       "    table.wandb td:nth-child(1) { padding: 0 10px; text-align: left ; width: auto;} td:nth-child(2) {text-align: left ; width: 100%}\n",
       "    .wandb-row { display: flex; flex-direction: row; flex-wrap: wrap; justify-content: flex-start; width: 100% }\n",
       "    .wandb-col { display: flex; flex-direction: column; flex-basis: 100%; flex: 1; padding: 10px; }\n",
       "    </style>\n",
       "<div class=\"wandb-row\"><div class=\"wandb-col\"><h3>Run history:</h3><br/><table class=\"wandb\"><tr><td>lr</td><td>██████▂▂▂▂▁▁▁▁▁▁▁▁▁▁▁▁▁▁▁▁▁▁▁▁▁▁▁▁▁▁▁▁▁▁</td></tr><tr><td>train_mae</td><td>▇█▆▄▄▅▄▃▂▂▂▁▁▂▁▁▁▁▁▁▁▁▁▂▁▂▁▂▂▁▁▁▂▁▁▂▁▂▁▁</td></tr><tr><td>train_mse</td><td>█▇▅▆▃▅▃▂▁▂▁▂▃▂▂▂▁▂▁▁▁▃▁▁▁▂▂▃▁▃▁▂▂▂▃▂▁▂▂▂</td></tr><tr><td>train_pearson</td><td>▃▁▄▄▆▄▅▄▆▇▆▇▅▇▆▆▆▇▇▇█▆▇█▇▇▇▅▆▅▇▆▆▆█▆▇▆▆▇</td></tr><tr><td>train_spearman</td><td>▅▂▅▄▆▅▆▁▂▅▃▆▅▇▇█▅▇█▆█▇▅▇▆▅▅▆▅▅▅▅▆▅▆▅▅▅▅▆</td></tr><tr><td>valid_mae</td><td>▆█▄▆▂▆▄▂▁▂▂▂▂▂▂▂▂▂▁▂▂▂▂▂▂▂▂▂▂▂▂▂▂▂▂▁▂▂▂▂</td></tr><tr><td>valid_mse</td><td>▅█▄▆▂▆▅▃▁▂▂▂▂▂▂▂▂▂▂▂▂▂▂▂▂▂▂▂▂▂▂▂▂▂▂▂▂▂▂▂</td></tr><tr><td>valid_pearson</td><td>▄▁▅▃█▄▄▄▄▅▅▅▅▅▅▅▅▅▅▅▅▅▅▅▅▅▅▅▅▅▅▅▅▅▅▅▅▅▅▅</td></tr><tr><td>valid_spearman</td><td>█▁█▄▇▃▃▂▁▄▄▄▄▄▄▄▄▄▄▄▄▄▄▄▄▄▄▄▄▄▄▄▄▄▄▄▄▄▄▄</td></tr></table><br/></div><div class=\"wandb-col\"><h3>Run summary:</h3><br/><table class=\"wandb\"><tr><td>lr</td><td>0.0</td></tr><tr><td>train_mae</td><td>1.16405</td></tr><tr><td>train_mse</td><td>0.01337</td></tr><tr><td>train_pearson</td><td>0.26105</td></tr><tr><td>train_spearman</td><td>0.11192</td></tr><tr><td>valid_mae</td><td>1.11855</td></tr><tr><td>valid_mse</td><td>1.66481</td></tr><tr><td>valid_pearson</td><td>0.25022</td></tr><tr><td>valid_spearman</td><td>0.15058</td></tr></table><br/></div></div>"
      ],
      "text/plain": [
       "<IPython.core.display.HTML object>"
      ]
     },
     "metadata": {},
     "output_type": "display_data"
    },
    {
     "data": {
      "text/html": [
       "Synced <strong style=\"color:#cdcd00\">dainty-tree-15</strong>: <a href=\"https://wandb.ai/hei-jung/20230214-validation/runs/1wrcp954\" target=\"_blank\">https://wandb.ai/hei-jung/20230214-validation/runs/1wrcp954</a><br/>Synced 6 W&B file(s), 0 media file(s), 0 artifact file(s) and 0 other file(s)"
      ],
      "text/plain": [
       "<IPython.core.display.HTML object>"
      ]
     },
     "metadata": {},
     "output_type": "display_data"
    },
    {
     "data": {
      "text/html": [
       "Find logs at: <code>./wandb/run-20230306_152055-1wrcp954/logs</code>"
      ],
      "text/plain": [
       "<IPython.core.display.HTML object>"
      ]
     },
     "metadata": {},
     "output_type": "display_data"
    },
    {
     "data": {
      "text/html": [
       "wandb version 0.13.10 is available!  To upgrade, please run:\n",
       " $ pip install wandb --upgrade"
      ],
      "text/plain": [
       "<IPython.core.display.HTML object>"
      ]
     },
     "metadata": {},
     "output_type": "display_data"
    },
    {
     "data": {
      "text/html": [
       "Tracking run with wandb version 0.12.21"
      ],
      "text/plain": [
       "<IPython.core.display.HTML object>"
      ]
     },
     "metadata": {},
     "output_type": "display_data"
    },
    {
     "data": {
      "text/html": [
       "Run data is saved locally in <code>/home/jhj/Desktop/HJ_RESEARCH/snu_brain_disease/wandb/run-20230306_165711-2tecfjsz</code>"
      ],
      "text/plain": [
       "<IPython.core.display.HTML object>"
      ]
     },
     "metadata": {},
     "output_type": "display_data"
    },
    {
     "data": {
      "text/html": [
       "Syncing run <strong><a href=\"https://wandb.ai/hei-jung/20230214-validation/runs/2tecfjsz\" target=\"_blank\">vivid-music-16</a></strong> to <a href=\"https://wandb.ai/hei-jung/20230214-validation\" target=\"_blank\">Weights & Biases</a> (<a href=\"https://wandb.me/run\" target=\"_blank\">docs</a>)<br/>"
      ],
      "text/plain": [
       "<IPython.core.display.HTML object>"
      ]
     },
     "metadata": {},
     "output_type": "display_data"
    },
    {
     "name": "stdout",
     "output_type": "stream",
     "text": [
      "# Epoch 1 / 150\n"
     ]
    },
    {
     "name": "stderr",
     "output_type": "stream",
     "text": [
      "  0%|                                                    | 0/49 [00:00<?, ?it/s]/home/jhj/.conda/envs/a6000/lib/python3.8/site-packages/torch/nn/_reduction.py:42: UserWarning: size_average and reduce args will be deprecated, please use reduction='none' instead.\n",
      "  warnings.warn(warning.format(ret))\n",
      "100%|███████████████████████████████████████████| 49/49 [00:26<00:00,  1.86it/s]\n",
      "100%|███████████████████████████████████████████| 13/13 [00:02<00:00,  4.63it/s]\n"
     ]
    },
    {
     "name": "stdout",
     "output_type": "stream",
     "text": [
      "# Epoch 2 / 150\n"
     ]
    },
    {
     "name": "stderr",
     "output_type": "stream",
     "text": [
      "100%|███████████████████████████████████████████| 49/49 [00:26<00:00,  1.85it/s]\n",
      "100%|███████████████████████████████████████████| 13/13 [00:02<00:00,  4.59it/s]\n"
     ]
    },
    {
     "name": "stdout",
     "output_type": "stream",
     "text": [
      "# Epoch 3 / 150\n"
     ]
    },
    {
     "name": "stderr",
     "output_type": "stream",
     "text": [
      "100%|███████████████████████████████████████████| 49/49 [00:27<00:00,  1.79it/s]\n",
      "100%|███████████████████████████████████████████| 13/13 [00:02<00:00,  5.05it/s]\n"
     ]
    },
    {
     "name": "stdout",
     "output_type": "stream",
     "text": [
      "# Epoch 4 / 150\n"
     ]
    },
    {
     "name": "stderr",
     "output_type": "stream",
     "text": [
      "100%|███████████████████████████████████████████| 49/49 [00:26<00:00,  1.83it/s]\n",
      "100%|███████████████████████████████████████████| 13/13 [00:02<00:00,  4.83it/s]\n"
     ]
    },
    {
     "name": "stdout",
     "output_type": "stream",
     "text": [
      "# Epoch 5 / 150\n"
     ]
    },
    {
     "name": "stderr",
     "output_type": "stream",
     "text": [
      "100%|███████████████████████████████████████████| 49/49 [00:26<00:00,  1.85it/s]\n",
      "100%|███████████████████████████████████████████| 13/13 [00:02<00:00,  4.46it/s]\n"
     ]
    },
    {
     "name": "stdout",
     "output_type": "stream",
     "text": [
      "# Epoch 6 / 150\n"
     ]
    },
    {
     "name": "stderr",
     "output_type": "stream",
     "text": [
      "100%|███████████████████████████████████████████| 49/49 [00:26<00:00,  1.84it/s]\n",
      "100%|███████████████████████████████████████████| 13/13 [00:02<00:00,  4.75it/s]\n"
     ]
    },
    {
     "name": "stdout",
     "output_type": "stream",
     "text": [
      "# Epoch 7 / 150\n"
     ]
    },
    {
     "name": "stderr",
     "output_type": "stream",
     "text": [
      "100%|███████████████████████████████████████████| 49/49 [00:27<00:00,  1.77it/s]\n",
      "100%|███████████████████████████████████████████| 13/13 [00:02<00:00,  4.66it/s]\n"
     ]
    },
    {
     "name": "stdout",
     "output_type": "stream",
     "text": [
      "# Epoch 8 / 150\n"
     ]
    },
    {
     "name": "stderr",
     "output_type": "stream",
     "text": [
      "100%|███████████████████████████████████████████| 49/49 [00:27<00:00,  1.75it/s]\n",
      "100%|███████████████████████████████████████████| 13/13 [00:02<00:00,  4.90it/s]\n"
     ]
    },
    {
     "name": "stdout",
     "output_type": "stream",
     "text": [
      "# Epoch 9 / 150\n"
     ]
    },
    {
     "name": "stderr",
     "output_type": "stream",
     "text": [
      "100%|███████████████████████████████████████████| 49/49 [00:26<00:00,  1.82it/s]\n",
      "100%|███████████████████████████████████████████| 13/13 [00:02<00:00,  4.60it/s]\n"
     ]
    },
    {
     "name": "stdout",
     "output_type": "stream",
     "text": [
      "# Epoch 10 / 150\n"
     ]
    },
    {
     "name": "stderr",
     "output_type": "stream",
     "text": [
      "100%|███████████████████████████████████████████| 49/49 [00:27<00:00,  1.81it/s]\n",
      "100%|███████████████████████████████████████████| 13/13 [00:02<00:00,  4.67it/s]\n"
     ]
    },
    {
     "name": "stdout",
     "output_type": "stream",
     "text": [
      "# Epoch 11 / 150\n"
     ]
    },
    {
     "name": "stderr",
     "output_type": "stream",
     "text": [
      "100%|███████████████████████████████████████████| 49/49 [00:28<00:00,  1.74it/s]\n",
      "100%|███████████████████████████████████████████| 13/13 [00:02<00:00,  4.43it/s]\n"
     ]
    },
    {
     "name": "stdout",
     "output_type": "stream",
     "text": [
      "# Epoch 12 / 150\n"
     ]
    },
    {
     "name": "stderr",
     "output_type": "stream",
     "text": [
      "100%|███████████████████████████████████████████| 49/49 [00:28<00:00,  1.75it/s]\n",
      "100%|███████████████████████████████████████████| 13/13 [00:02<00:00,  4.62it/s]\n"
     ]
    },
    {
     "name": "stdout",
     "output_type": "stream",
     "text": [
      "# Epoch 13 / 150\n"
     ]
    },
    {
     "name": "stderr",
     "output_type": "stream",
     "text": [
      "100%|███████████████████████████████████████████| 49/49 [00:28<00:00,  1.74it/s]\n",
      "100%|███████████████████████████████████████████| 13/13 [00:02<00:00,  4.93it/s]\n"
     ]
    },
    {
     "name": "stdout",
     "output_type": "stream",
     "text": [
      "# Epoch 14 / 150\n"
     ]
    },
    {
     "name": "stderr",
     "output_type": "stream",
     "text": [
      "100%|███████████████████████████████████████████| 49/49 [00:27<00:00,  1.78it/s]\n",
      "100%|███████████████████████████████████████████| 13/13 [00:02<00:00,  4.78it/s]\n"
     ]
    },
    {
     "name": "stdout",
     "output_type": "stream",
     "text": [
      "# Epoch 15 / 150\n"
     ]
    },
    {
     "name": "stderr",
     "output_type": "stream",
     "text": [
      "100%|███████████████████████████████████████████| 49/49 [00:26<00:00,  1.84it/s]\n",
      "100%|███████████████████████████████████████████| 13/13 [00:02<00:00,  5.03it/s]\n"
     ]
    },
    {
     "name": "stdout",
     "output_type": "stream",
     "text": [
      "# Epoch 16 / 150\n"
     ]
    },
    {
     "name": "stderr",
     "output_type": "stream",
     "text": [
      "100%|███████████████████████████████████████████| 49/49 [00:26<00:00,  1.83it/s]\n",
      "100%|███████████████████████████████████████████| 13/13 [00:02<00:00,  4.94it/s]\n"
     ]
    },
    {
     "name": "stdout",
     "output_type": "stream",
     "text": [
      "# Epoch 17 / 150\n"
     ]
    },
    {
     "name": "stderr",
     "output_type": "stream",
     "text": [
      "100%|███████████████████████████████████████████| 49/49 [00:28<00:00,  1.74it/s]\n",
      "100%|███████████████████████████████████████████| 13/13 [00:02<00:00,  4.85it/s]\n"
     ]
    },
    {
     "name": "stdout",
     "output_type": "stream",
     "text": [
      "# Epoch 18 / 150\n"
     ]
    },
    {
     "name": "stderr",
     "output_type": "stream",
     "text": [
      "100%|███████████████████████████████████████████| 49/49 [00:26<00:00,  1.82it/s]\n",
      "100%|███████████████████████████████████████████| 13/13 [00:02<00:00,  4.55it/s]\n"
     ]
    },
    {
     "name": "stdout",
     "output_type": "stream",
     "text": [
      "# Epoch 19 / 150\n"
     ]
    },
    {
     "name": "stderr",
     "output_type": "stream",
     "text": [
      "100%|███████████████████████████████████████████| 49/49 [00:27<00:00,  1.79it/s]\n",
      "100%|███████████████████████████████████████████| 13/13 [00:02<00:00,  5.19it/s]\n"
     ]
    },
    {
     "name": "stdout",
     "output_type": "stream",
     "text": [
      "# Epoch 20 / 150\n"
     ]
    },
    {
     "name": "stderr",
     "output_type": "stream",
     "text": [
      "100%|███████████████████████████████████████████| 49/49 [00:27<00:00,  1.78it/s]\n",
      "100%|███████████████████████████████████████████| 13/13 [00:02<00:00,  4.81it/s]\n"
     ]
    },
    {
     "name": "stdout",
     "output_type": "stream",
     "text": [
      "# Epoch 21 / 150\n"
     ]
    },
    {
     "name": "stderr",
     "output_type": "stream",
     "text": [
      "100%|███████████████████████████████████████████| 49/49 [00:27<00:00,  1.81it/s]\n",
      "100%|███████████████████████████████████████████| 13/13 [00:02<00:00,  4.43it/s]\n"
     ]
    },
    {
     "name": "stdout",
     "output_type": "stream",
     "text": [
      "# Epoch 22 / 150\n"
     ]
    },
    {
     "name": "stderr",
     "output_type": "stream",
     "text": [
      "100%|███████████████████████████████████████████| 49/49 [00:26<00:00,  1.87it/s]\n",
      "100%|███████████████████████████████████████████| 13/13 [00:02<00:00,  5.18it/s]\n"
     ]
    },
    {
     "name": "stdout",
     "output_type": "stream",
     "text": [
      "# Epoch 23 / 150\n"
     ]
    },
    {
     "name": "stderr",
     "output_type": "stream",
     "text": [
      "100%|███████████████████████████████████████████| 49/49 [00:26<00:00,  1.82it/s]\n",
      "100%|███████████████████████████████████████████| 13/13 [00:02<00:00,  5.02it/s]\n"
     ]
    },
    {
     "name": "stdout",
     "output_type": "stream",
     "text": [
      "# Epoch 24 / 150\n"
     ]
    },
    {
     "name": "stderr",
     "output_type": "stream",
     "text": [
      "100%|███████████████████████████████████████████| 49/49 [00:27<00:00,  1.79it/s]\n",
      "100%|███████████████████████████████████████████| 13/13 [00:02<00:00,  4.69it/s]\n"
     ]
    },
    {
     "name": "stdout",
     "output_type": "stream",
     "text": [
      "# Epoch 25 / 150\n"
     ]
    },
    {
     "name": "stderr",
     "output_type": "stream",
     "text": [
      "100%|███████████████████████████████████████████| 49/49 [00:27<00:00,  1.78it/s]\n",
      "100%|███████████████████████████████████████████| 13/13 [00:02<00:00,  4.71it/s]\n"
     ]
    },
    {
     "name": "stdout",
     "output_type": "stream",
     "text": [
      "# Epoch 26 / 150\n"
     ]
    },
    {
     "name": "stderr",
     "output_type": "stream",
     "text": [
      "100%|███████████████████████████████████████████| 49/49 [00:27<00:00,  1.78it/s]\n",
      "100%|███████████████████████████████████████████| 13/13 [00:03<00:00,  4.29it/s]\n"
     ]
    },
    {
     "name": "stdout",
     "output_type": "stream",
     "text": [
      "# Epoch 27 / 150\n"
     ]
    },
    {
     "name": "stderr",
     "output_type": "stream",
     "text": [
      "100%|███████████████████████████████████████████| 49/49 [00:27<00:00,  1.80it/s]\n",
      "100%|███████████████████████████████████████████| 13/13 [00:02<00:00,  4.88it/s]\n"
     ]
    },
    {
     "name": "stdout",
     "output_type": "stream",
     "text": [
      "# Epoch 28 / 150\n"
     ]
    },
    {
     "name": "stderr",
     "output_type": "stream",
     "text": [
      "100%|███████████████████████████████████████████| 49/49 [00:27<00:00,  1.78it/s]\n",
      "100%|███████████████████████████████████████████| 13/13 [00:02<00:00,  5.00it/s]\n"
     ]
    },
    {
     "name": "stdout",
     "output_type": "stream",
     "text": [
      "# Epoch 29 / 150\n"
     ]
    },
    {
     "name": "stderr",
     "output_type": "stream",
     "text": [
      "100%|███████████████████████████████████████████| 49/49 [00:26<00:00,  1.82it/s]\n",
      "100%|███████████████████████████████████████████| 13/13 [00:02<00:00,  4.78it/s]\n"
     ]
    },
    {
     "name": "stdout",
     "output_type": "stream",
     "text": [
      "# Epoch 30 / 150\n"
     ]
    },
    {
     "name": "stderr",
     "output_type": "stream",
     "text": [
      "100%|███████████████████████████████████████████| 49/49 [00:26<00:00,  1.85it/s]\n",
      "100%|███████████████████████████████████████████| 13/13 [00:02<00:00,  4.66it/s]\n"
     ]
    },
    {
     "name": "stdout",
     "output_type": "stream",
     "text": [
      "# Epoch 31 / 150\n"
     ]
    },
    {
     "name": "stderr",
     "output_type": "stream",
     "text": [
      "100%|███████████████████████████████████████████| 49/49 [00:27<00:00,  1.80it/s]\n",
      "100%|███████████████████████████████████████████| 13/13 [00:02<00:00,  4.76it/s]\n"
     ]
    },
    {
     "name": "stdout",
     "output_type": "stream",
     "text": [
      "# Epoch 32 / 150\n"
     ]
    },
    {
     "name": "stderr",
     "output_type": "stream",
     "text": [
      "100%|███████████████████████████████████████████| 49/49 [00:28<00:00,  1.73it/s]\n",
      "100%|███████████████████████████████████████████| 13/13 [00:02<00:00,  4.85it/s]\n"
     ]
    },
    {
     "name": "stdout",
     "output_type": "stream",
     "text": [
      "# Epoch 33 / 150\n"
     ]
    },
    {
     "name": "stderr",
     "output_type": "stream",
     "text": [
      "100%|███████████████████████████████████████████| 49/49 [00:26<00:00,  1.85it/s]\n",
      "100%|███████████████████████████████████████████| 13/13 [00:02<00:00,  4.88it/s]\n"
     ]
    },
    {
     "name": "stdout",
     "output_type": "stream",
     "text": [
      "# Epoch 34 / 150\n"
     ]
    },
    {
     "name": "stderr",
     "output_type": "stream",
     "text": [
      "100%|███████████████████████████████████████████| 49/49 [00:27<00:00,  1.76it/s]\n",
      "100%|███████████████████████████████████████████| 13/13 [00:02<00:00,  4.85it/s]\n"
     ]
    },
    {
     "name": "stdout",
     "output_type": "stream",
     "text": [
      "# Epoch 35 / 150\n"
     ]
    },
    {
     "name": "stderr",
     "output_type": "stream",
     "text": [
      "100%|███████████████████████████████████████████| 49/49 [00:27<00:00,  1.80it/s]\n",
      "100%|███████████████████████████████████████████| 13/13 [00:02<00:00,  4.72it/s]\n"
     ]
    },
    {
     "name": "stdout",
     "output_type": "stream",
     "text": [
      "# Epoch 36 / 150\n"
     ]
    },
    {
     "name": "stderr",
     "output_type": "stream",
     "text": [
      "100%|███████████████████████████████████████████| 49/49 [00:27<00:00,  1.79it/s]\n",
      "100%|███████████████████████████████████████████| 13/13 [00:02<00:00,  4.37it/s]\n"
     ]
    },
    {
     "name": "stdout",
     "output_type": "stream",
     "text": [
      "# Epoch 37 / 150\n"
     ]
    },
    {
     "name": "stderr",
     "output_type": "stream",
     "text": [
      "100%|███████████████████████████████████████████| 49/49 [00:26<00:00,  1.83it/s]\n",
      "100%|███████████████████████████████████████████| 13/13 [00:02<00:00,  4.66it/s]\n"
     ]
    },
    {
     "name": "stdout",
     "output_type": "stream",
     "text": [
      "# Epoch 38 / 150\n"
     ]
    },
    {
     "name": "stderr",
     "output_type": "stream",
     "text": [
      "100%|███████████████████████████████████████████| 49/49 [00:27<00:00,  1.76it/s]\n",
      "100%|███████████████████████████████████████████| 13/13 [00:02<00:00,  4.91it/s]\n"
     ]
    },
    {
     "name": "stdout",
     "output_type": "stream",
     "text": [
      "# Epoch 39 / 150\n"
     ]
    },
    {
     "name": "stderr",
     "output_type": "stream",
     "text": [
      "100%|███████████████████████████████████████████| 49/49 [00:27<00:00,  1.76it/s]\n",
      "100%|███████████████████████████████████████████| 13/13 [00:02<00:00,  4.65it/s]\n"
     ]
    },
    {
     "name": "stdout",
     "output_type": "stream",
     "text": [
      "# Epoch 40 / 150\n"
     ]
    },
    {
     "name": "stderr",
     "output_type": "stream",
     "text": [
      "100%|███████████████████████████████████████████| 49/49 [00:27<00:00,  1.75it/s]\n",
      "100%|███████████████████████████████████████████| 13/13 [00:02<00:00,  4.92it/s]\n"
     ]
    },
    {
     "name": "stdout",
     "output_type": "stream",
     "text": [
      "# Epoch 41 / 150\n"
     ]
    },
    {
     "name": "stderr",
     "output_type": "stream",
     "text": [
      "100%|███████████████████████████████████████████| 49/49 [00:27<00:00,  1.77it/s]\n",
      "100%|███████████████████████████████████████████| 13/13 [00:02<00:00,  4.82it/s]\n"
     ]
    },
    {
     "name": "stdout",
     "output_type": "stream",
     "text": [
      "# Epoch 42 / 150\n"
     ]
    },
    {
     "name": "stderr",
     "output_type": "stream",
     "text": [
      "100%|███████████████████████████████████████████| 49/49 [00:27<00:00,  1.81it/s]\n",
      "100%|███████████████████████████████████████████| 13/13 [00:02<00:00,  5.07it/s]\n"
     ]
    },
    {
     "name": "stdout",
     "output_type": "stream",
     "text": [
      "# Epoch 43 / 150\n"
     ]
    },
    {
     "name": "stderr",
     "output_type": "stream",
     "text": [
      "100%|███████████████████████████████████████████| 49/49 [00:26<00:00,  1.82it/s]\n",
      "100%|███████████████████████████████████████████| 13/13 [00:02<00:00,  4.43it/s]\n"
     ]
    },
    {
     "name": "stdout",
     "output_type": "stream",
     "text": [
      "# Epoch 44 / 150\n"
     ]
    },
    {
     "name": "stderr",
     "output_type": "stream",
     "text": [
      "100%|███████████████████████████████████████████| 49/49 [00:26<00:00,  1.83it/s]\n",
      "100%|███████████████████████████████████████████| 13/13 [00:02<00:00,  4.67it/s]\n"
     ]
    },
    {
     "name": "stdout",
     "output_type": "stream",
     "text": [
      "# Epoch 45 / 150\n"
     ]
    },
    {
     "name": "stderr",
     "output_type": "stream",
     "text": [
      "100%|███████████████████████████████████████████| 49/49 [00:27<00:00,  1.81it/s]\n",
      "100%|███████████████████████████████████████████| 13/13 [00:02<00:00,  4.97it/s]\n"
     ]
    },
    {
     "name": "stdout",
     "output_type": "stream",
     "text": [
      "# Epoch 46 / 150\n"
     ]
    },
    {
     "name": "stderr",
     "output_type": "stream",
     "text": [
      "100%|███████████████████████████████████████████| 49/49 [00:27<00:00,  1.77it/s]\n",
      "100%|███████████████████████████████████████████| 13/13 [00:02<00:00,  4.78it/s]\n"
     ]
    },
    {
     "name": "stdout",
     "output_type": "stream",
     "text": [
      "# Epoch 47 / 150\n"
     ]
    },
    {
     "name": "stderr",
     "output_type": "stream",
     "text": [
      "100%|███████████████████████████████████████████| 49/49 [00:26<00:00,  1.83it/s]\n",
      "100%|███████████████████████████████████████████| 13/13 [00:02<00:00,  4.85it/s]\n"
     ]
    },
    {
     "name": "stdout",
     "output_type": "stream",
     "text": [
      "# Epoch 48 / 150\n"
     ]
    },
    {
     "name": "stderr",
     "output_type": "stream",
     "text": [
      "100%|███████████████████████████████████████████| 49/49 [00:26<00:00,  1.82it/s]\n",
      "100%|███████████████████████████████████████████| 13/13 [00:02<00:00,  4.90it/s]\n"
     ]
    },
    {
     "name": "stdout",
     "output_type": "stream",
     "text": [
      "# Epoch 49 / 150\n"
     ]
    },
    {
     "name": "stderr",
     "output_type": "stream",
     "text": [
      "100%|███████████████████████████████████████████| 49/49 [00:27<00:00,  1.76it/s]\n",
      "100%|███████████████████████████████████████████| 13/13 [00:02<00:00,  4.89it/s]\n"
     ]
    },
    {
     "name": "stdout",
     "output_type": "stream",
     "text": [
      "# Epoch 50 / 150\n"
     ]
    },
    {
     "name": "stderr",
     "output_type": "stream",
     "text": [
      "100%|███████████████████████████████████████████| 49/49 [00:28<00:00,  1.72it/s]\n",
      "100%|███████████████████████████████████████████| 13/13 [00:02<00:00,  4.74it/s]\n"
     ]
    },
    {
     "name": "stdout",
     "output_type": "stream",
     "text": [
      "# Epoch 51 / 150\n"
     ]
    },
    {
     "name": "stderr",
     "output_type": "stream",
     "text": [
      "100%|███████████████████████████████████████████| 49/49 [00:28<00:00,  1.73it/s]\n",
      "100%|███████████████████████████████████████████| 13/13 [00:02<00:00,  4.98it/s]\n"
     ]
    },
    {
     "name": "stdout",
     "output_type": "stream",
     "text": [
      "# Epoch 52 / 150\n"
     ]
    },
    {
     "name": "stderr",
     "output_type": "stream",
     "text": [
      "100%|███████████████████████████████████████████| 49/49 [00:26<00:00,  1.83it/s]\n",
      "100%|███████████████████████████████████████████| 13/13 [00:02<00:00,  5.00it/s]\n"
     ]
    },
    {
     "name": "stdout",
     "output_type": "stream",
     "text": [
      "# Epoch 53 / 150\n"
     ]
    },
    {
     "name": "stderr",
     "output_type": "stream",
     "text": [
      "100%|███████████████████████████████████████████| 49/49 [00:26<00:00,  1.84it/s]\n",
      "100%|███████████████████████████████████████████| 13/13 [00:02<00:00,  4.47it/s]\n"
     ]
    },
    {
     "name": "stdout",
     "output_type": "stream",
     "text": [
      "# Epoch 54 / 150\n"
     ]
    },
    {
     "name": "stderr",
     "output_type": "stream",
     "text": [
      "100%|███████████████████████████████████████████| 49/49 [00:26<00:00,  1.86it/s]\n",
      "100%|███████████████████████████████████████████| 13/13 [00:02<00:00,  5.00it/s]\n"
     ]
    },
    {
     "name": "stdout",
     "output_type": "stream",
     "text": [
      "# Epoch 55 / 150\n"
     ]
    },
    {
     "name": "stderr",
     "output_type": "stream",
     "text": [
      "100%|███████████████████████████████████████████| 49/49 [00:27<00:00,  1.80it/s]\n",
      "100%|███████████████████████████████████████████| 13/13 [00:02<00:00,  5.06it/s]\n"
     ]
    },
    {
     "name": "stdout",
     "output_type": "stream",
     "text": [
      "# Epoch 56 / 150\n"
     ]
    },
    {
     "name": "stderr",
     "output_type": "stream",
     "text": [
      "100%|███████████████████████████████████████████| 49/49 [00:28<00:00,  1.74it/s]\n",
      "100%|███████████████████████████████████████████| 13/13 [00:02<00:00,  4.44it/s]\n"
     ]
    },
    {
     "name": "stdout",
     "output_type": "stream",
     "text": [
      "# Epoch 57 / 150\n"
     ]
    },
    {
     "name": "stderr",
     "output_type": "stream",
     "text": [
      "100%|███████████████████████████████████████████| 49/49 [00:27<00:00,  1.77it/s]\n",
      "100%|███████████████████████████████████████████| 13/13 [00:03<00:00,  4.29it/s]\n"
     ]
    },
    {
     "name": "stdout",
     "output_type": "stream",
     "text": [
      "# Epoch 58 / 150\n"
     ]
    },
    {
     "name": "stderr",
     "output_type": "stream",
     "text": [
      "100%|███████████████████████████████████████████| 49/49 [00:27<00:00,  1.81it/s]\n",
      "100%|███████████████████████████████████████████| 13/13 [00:02<00:00,  4.70it/s]\n"
     ]
    },
    {
     "name": "stdout",
     "output_type": "stream",
     "text": [
      "# Epoch 59 / 150\n"
     ]
    },
    {
     "name": "stderr",
     "output_type": "stream",
     "text": [
      "100%|███████████████████████████████████████████| 49/49 [00:27<00:00,  1.81it/s]\n",
      "100%|███████████████████████████████████████████| 13/13 [00:02<00:00,  4.61it/s]\n"
     ]
    },
    {
     "name": "stdout",
     "output_type": "stream",
     "text": [
      "# Epoch 60 / 150\n"
     ]
    },
    {
     "name": "stderr",
     "output_type": "stream",
     "text": [
      "100%|███████████████████████████████████████████| 49/49 [00:28<00:00,  1.74it/s]\n",
      "100%|███████████████████████████████████████████| 13/13 [00:02<00:00,  4.83it/s]\n"
     ]
    },
    {
     "name": "stdout",
     "output_type": "stream",
     "text": [
      "# Epoch 61 / 150\n"
     ]
    },
    {
     "name": "stderr",
     "output_type": "stream",
     "text": [
      "100%|███████████████████████████████████████████| 49/49 [00:27<00:00,  1.77it/s]\n",
      "100%|███████████████████████████████████████████| 13/13 [00:02<00:00,  4.82it/s]\n"
     ]
    },
    {
     "name": "stdout",
     "output_type": "stream",
     "text": [
      "# Epoch 62 / 150\n"
     ]
    },
    {
     "name": "stderr",
     "output_type": "stream",
     "text": [
      "100%|███████████████████████████████████████████| 49/49 [00:27<00:00,  1.79it/s]\n",
      "100%|███████████████████████████████████████████| 13/13 [00:02<00:00,  4.91it/s]\n"
     ]
    },
    {
     "name": "stdout",
     "output_type": "stream",
     "text": [
      "# Epoch 63 / 150\n"
     ]
    },
    {
     "name": "stderr",
     "output_type": "stream",
     "text": [
      "100%|███████████████████████████████████████████| 49/49 [00:27<00:00,  1.81it/s]\n",
      "100%|███████████████████████████████████████████| 13/13 [00:02<00:00,  4.36it/s]\n"
     ]
    },
    {
     "name": "stdout",
     "output_type": "stream",
     "text": [
      "# Epoch 64 / 150\n"
     ]
    },
    {
     "name": "stderr",
     "output_type": "stream",
     "text": [
      "100%|███████████████████████████████████████████| 49/49 [00:26<00:00,  1.85it/s]\n",
      "100%|███████████████████████████████████████████| 13/13 [00:02<00:00,  4.61it/s]\n"
     ]
    },
    {
     "name": "stdout",
     "output_type": "stream",
     "text": [
      "# Epoch 65 / 150\n"
     ]
    },
    {
     "name": "stderr",
     "output_type": "stream",
     "text": [
      "100%|███████████████████████████████████████████| 49/49 [00:27<00:00,  1.81it/s]\n",
      "100%|███████████████████████████████████████████| 13/13 [00:02<00:00,  4.89it/s]\n"
     ]
    },
    {
     "name": "stdout",
     "output_type": "stream",
     "text": [
      "# Epoch 66 / 150\n"
     ]
    },
    {
     "name": "stderr",
     "output_type": "stream",
     "text": [
      "100%|███████████████████████████████████████████| 49/49 [00:27<00:00,  1.81it/s]\n",
      "100%|███████████████████████████████████████████| 13/13 [00:02<00:00,  4.86it/s]\n"
     ]
    },
    {
     "name": "stdout",
     "output_type": "stream",
     "text": [
      "# Epoch 67 / 150\n"
     ]
    },
    {
     "name": "stderr",
     "output_type": "stream",
     "text": [
      "100%|███████████████████████████████████████████| 49/49 [00:26<00:00,  1.87it/s]\n",
      "100%|███████████████████████████████████████████| 13/13 [00:02<00:00,  4.73it/s]\n"
     ]
    },
    {
     "name": "stdout",
     "output_type": "stream",
     "text": [
      "# Epoch 68 / 150\n"
     ]
    },
    {
     "name": "stderr",
     "output_type": "stream",
     "text": [
      "100%|███████████████████████████████████████████| 49/49 [00:27<00:00,  1.78it/s]\n",
      "100%|███████████████████████████████████████████| 13/13 [00:02<00:00,  4.91it/s]\n"
     ]
    },
    {
     "name": "stdout",
     "output_type": "stream",
     "text": [
      "# Epoch 69 / 150\n"
     ]
    },
    {
     "name": "stderr",
     "output_type": "stream",
     "text": [
      "100%|███████████████████████████████████████████| 49/49 [00:26<00:00,  1.83it/s]\n",
      "100%|███████████████████████████████████████████| 13/13 [00:02<00:00,  4.58it/s]\n"
     ]
    },
    {
     "name": "stdout",
     "output_type": "stream",
     "text": [
      "# Epoch 70 / 150\n"
     ]
    },
    {
     "name": "stderr",
     "output_type": "stream",
     "text": [
      "100%|███████████████████████████████████████████| 49/49 [00:27<00:00,  1.80it/s]\n",
      "100%|███████████████████████████████████████████| 13/13 [00:02<00:00,  4.42it/s]\n"
     ]
    },
    {
     "name": "stdout",
     "output_type": "stream",
     "text": [
      "# Epoch 71 / 150\n"
     ]
    },
    {
     "name": "stderr",
     "output_type": "stream",
     "text": [
      "100%|███████████████████████████████████████████| 49/49 [00:26<00:00,  1.85it/s]\n",
      "100%|███████████████████████████████████████████| 13/13 [00:02<00:00,  5.03it/s]\n"
     ]
    },
    {
     "name": "stdout",
     "output_type": "stream",
     "text": [
      "# Epoch 72 / 150\n"
     ]
    },
    {
     "name": "stderr",
     "output_type": "stream",
     "text": [
      "100%|███████████████████████████████████████████| 49/49 [00:26<00:00,  1.83it/s]\n",
      "100%|███████████████████████████████████████████| 13/13 [00:02<00:00,  4.66it/s]\n"
     ]
    },
    {
     "name": "stdout",
     "output_type": "stream",
     "text": [
      "# Epoch 73 / 150\n"
     ]
    },
    {
     "name": "stderr",
     "output_type": "stream",
     "text": [
      "100%|███████████████████████████████████████████| 49/49 [00:27<00:00,  1.77it/s]\n",
      "100%|███████████████████████████████████████████| 13/13 [00:02<00:00,  4.57it/s]\n"
     ]
    },
    {
     "name": "stdout",
     "output_type": "stream",
     "text": [
      "# Epoch 74 / 150\n"
     ]
    },
    {
     "name": "stderr",
     "output_type": "stream",
     "text": [
      "100%|███████████████████████████████████████████| 49/49 [00:27<00:00,  1.79it/s]\n",
      "100%|███████████████████████████████████████████| 13/13 [00:02<00:00,  4.54it/s]\n"
     ]
    },
    {
     "name": "stdout",
     "output_type": "stream",
     "text": [
      "# Epoch 75 / 150\n"
     ]
    },
    {
     "name": "stderr",
     "output_type": "stream",
     "text": [
      "100%|███████████████████████████████████████████| 49/49 [00:27<00:00,  1.80it/s]\n",
      "100%|███████████████████████████████████████████| 13/13 [00:02<00:00,  4.84it/s]\n"
     ]
    },
    {
     "name": "stdout",
     "output_type": "stream",
     "text": [
      "# Epoch 76 / 150\n"
     ]
    },
    {
     "name": "stderr",
     "output_type": "stream",
     "text": [
      "100%|███████████████████████████████████████████| 49/49 [00:27<00:00,  1.80it/s]\n",
      "100%|███████████████████████████████████████████| 13/13 [00:02<00:00,  4.59it/s]\n"
     ]
    },
    {
     "name": "stdout",
     "output_type": "stream",
     "text": [
      "# Epoch 77 / 150\n"
     ]
    },
    {
     "name": "stderr",
     "output_type": "stream",
     "text": [
      "100%|███████████████████████████████████████████| 49/49 [00:27<00:00,  1.76it/s]\n",
      "100%|███████████████████████████████████████████| 13/13 [00:02<00:00,  4.72it/s]\n"
     ]
    },
    {
     "name": "stdout",
     "output_type": "stream",
     "text": [
      "# Epoch 78 / 150\n"
     ]
    },
    {
     "name": "stderr",
     "output_type": "stream",
     "text": [
      "100%|███████████████████████████████████████████| 49/49 [00:28<00:00,  1.74it/s]\n",
      "100%|███████████████████████████████████████████| 13/13 [00:02<00:00,  4.97it/s]\n"
     ]
    },
    {
     "name": "stdout",
     "output_type": "stream",
     "text": [
      "# Epoch 79 / 150\n"
     ]
    },
    {
     "name": "stderr",
     "output_type": "stream",
     "text": [
      "100%|███████████████████████████████████████████| 49/49 [00:27<00:00,  1.81it/s]\n",
      "100%|███████████████████████████████████████████| 13/13 [00:02<00:00,  4.87it/s]\n"
     ]
    },
    {
     "name": "stdout",
     "output_type": "stream",
     "text": [
      "# Epoch 80 / 150\n"
     ]
    },
    {
     "name": "stderr",
     "output_type": "stream",
     "text": [
      "100%|███████████████████████████████████████████| 49/49 [00:27<00:00,  1.79it/s]\n",
      "100%|███████████████████████████████████████████| 13/13 [00:02<00:00,  4.64it/s]\n"
     ]
    },
    {
     "name": "stdout",
     "output_type": "stream",
     "text": [
      "# Epoch 81 / 150\n"
     ]
    },
    {
     "name": "stderr",
     "output_type": "stream",
     "text": [
      "100%|███████████████████████████████████████████| 49/49 [00:27<00:00,  1.78it/s]\n",
      "100%|███████████████████████████████████████████| 13/13 [00:02<00:00,  4.41it/s]\n"
     ]
    },
    {
     "name": "stdout",
     "output_type": "stream",
     "text": [
      "# Epoch 82 / 150\n"
     ]
    },
    {
     "name": "stderr",
     "output_type": "stream",
     "text": [
      "100%|███████████████████████████████████████████| 49/49 [00:27<00:00,  1.76it/s]\n",
      "100%|███████████████████████████████████████████| 13/13 [00:02<00:00,  4.51it/s]\n"
     ]
    },
    {
     "name": "stdout",
     "output_type": "stream",
     "text": [
      "# Epoch 83 / 150\n"
     ]
    },
    {
     "name": "stderr",
     "output_type": "stream",
     "text": [
      "100%|███████████████████████████████████████████| 49/49 [00:27<00:00,  1.79it/s]\n",
      "100%|███████████████████████████████████████████| 13/13 [00:02<00:00,  4.44it/s]\n"
     ]
    },
    {
     "name": "stdout",
     "output_type": "stream",
     "text": [
      "# Epoch 84 / 150\n"
     ]
    },
    {
     "name": "stderr",
     "output_type": "stream",
     "text": [
      "100%|███████████████████████████████████████████| 49/49 [00:27<00:00,  1.76it/s]\n",
      "100%|███████████████████████████████████████████| 13/13 [00:02<00:00,  4.88it/s]\n"
     ]
    },
    {
     "name": "stdout",
     "output_type": "stream",
     "text": [
      "# Epoch 85 / 150\n"
     ]
    },
    {
     "name": "stderr",
     "output_type": "stream",
     "text": [
      "100%|███████████████████████████████████████████| 49/49 [00:26<00:00,  1.84it/s]\n",
      "100%|███████████████████████████████████████████| 13/13 [00:02<00:00,  4.73it/s]\n"
     ]
    },
    {
     "name": "stdout",
     "output_type": "stream",
     "text": [
      "# Epoch 86 / 150\n"
     ]
    },
    {
     "name": "stderr",
     "output_type": "stream",
     "text": [
      "100%|███████████████████████████████████████████| 49/49 [00:26<00:00,  1.82it/s]\n",
      "100%|███████████████████████████████████████████| 13/13 [00:02<00:00,  4.64it/s]\n"
     ]
    },
    {
     "name": "stdout",
     "output_type": "stream",
     "text": [
      "# Epoch 87 / 150\n"
     ]
    },
    {
     "name": "stderr",
     "output_type": "stream",
     "text": [
      "100%|███████████████████████████████████████████| 49/49 [00:28<00:00,  1.74it/s]\n",
      "100%|███████████████████████████████████████████| 13/13 [00:02<00:00,  4.45it/s]\n"
     ]
    },
    {
     "name": "stdout",
     "output_type": "stream",
     "text": [
      "# Epoch 88 / 150\n"
     ]
    },
    {
     "name": "stderr",
     "output_type": "stream",
     "text": [
      "100%|███████████████████████████████████████████| 49/49 [00:26<00:00,  1.86it/s]\n",
      "100%|███████████████████████████████████████████| 13/13 [00:02<00:00,  4.72it/s]\n"
     ]
    },
    {
     "name": "stdout",
     "output_type": "stream",
     "text": [
      "# Epoch 89 / 150\n"
     ]
    },
    {
     "name": "stderr",
     "output_type": "stream",
     "text": [
      "100%|███████████████████████████████████████████| 49/49 [00:26<00:00,  1.84it/s]\n",
      "100%|███████████████████████████████████████████| 13/13 [00:02<00:00,  4.77it/s]\n"
     ]
    },
    {
     "name": "stdout",
     "output_type": "stream",
     "text": [
      "# Epoch 90 / 150\n"
     ]
    },
    {
     "name": "stderr",
     "output_type": "stream",
     "text": [
      "100%|███████████████████████████████████████████| 49/49 [00:27<00:00,  1.79it/s]\n",
      "100%|███████████████████████████████████████████| 13/13 [00:02<00:00,  4.62it/s]\n"
     ]
    },
    {
     "name": "stdout",
     "output_type": "stream",
     "text": [
      "# Epoch 91 / 150\n"
     ]
    },
    {
     "name": "stderr",
     "output_type": "stream",
     "text": [
      "100%|███████████████████████████████████████████| 49/49 [00:27<00:00,  1.81it/s]\n",
      "100%|███████████████████████████████████████████| 13/13 [00:02<00:00,  4.35it/s]\n"
     ]
    },
    {
     "name": "stdout",
     "output_type": "stream",
     "text": [
      "# Epoch 92 / 150\n"
     ]
    },
    {
     "name": "stderr",
     "output_type": "stream",
     "text": [
      "100%|███████████████████████████████████████████| 49/49 [00:27<00:00,  1.79it/s]\n",
      "100%|███████████████████████████████████████████| 13/13 [00:02<00:00,  4.81it/s]\n"
     ]
    },
    {
     "name": "stdout",
     "output_type": "stream",
     "text": [
      "# Epoch 93 / 150\n"
     ]
    },
    {
     "name": "stderr",
     "output_type": "stream",
     "text": [
      "100%|███████████████████████████████████████████| 49/49 [00:26<00:00,  1.82it/s]\n",
      "100%|███████████████████████████████████████████| 13/13 [00:02<00:00,  4.54it/s]\n"
     ]
    },
    {
     "name": "stdout",
     "output_type": "stream",
     "text": [
      "# Epoch 94 / 150\n"
     ]
    },
    {
     "name": "stderr",
     "output_type": "stream",
     "text": [
      "100%|███████████████████████████████████████████| 49/49 [00:27<00:00,  1.80it/s]\n",
      "100%|███████████████████████████████████████████| 13/13 [00:02<00:00,  4.47it/s]\n"
     ]
    },
    {
     "name": "stdout",
     "output_type": "stream",
     "text": [
      "# Epoch 95 / 150\n"
     ]
    },
    {
     "name": "stderr",
     "output_type": "stream",
     "text": [
      "100%|███████████████████████████████████████████| 49/49 [00:26<00:00,  1.83it/s]\n",
      "100%|███████████████████████████████████████████| 13/13 [00:02<00:00,  4.56it/s]\n"
     ]
    },
    {
     "name": "stdout",
     "output_type": "stream",
     "text": [
      "# Epoch 96 / 150\n"
     ]
    },
    {
     "name": "stderr",
     "output_type": "stream",
     "text": [
      "100%|███████████████████████████████████████████| 49/49 [00:27<00:00,  1.78it/s]\n",
      "100%|███████████████████████████████████████████| 13/13 [00:02<00:00,  4.52it/s]\n"
     ]
    },
    {
     "name": "stdout",
     "output_type": "stream",
     "text": [
      "# Epoch 97 / 150\n"
     ]
    },
    {
     "name": "stderr",
     "output_type": "stream",
     "text": [
      "100%|███████████████████████████████████████████| 49/49 [00:27<00:00,  1.81it/s]\n",
      "100%|███████████████████████████████████████████| 13/13 [00:02<00:00,  4.55it/s]\n"
     ]
    },
    {
     "name": "stdout",
     "output_type": "stream",
     "text": [
      "# Epoch 98 / 150\n"
     ]
    },
    {
     "name": "stderr",
     "output_type": "stream",
     "text": [
      "100%|███████████████████████████████████████████| 49/49 [00:27<00:00,  1.79it/s]\n",
      "100%|███████████████████████████████████████████| 13/13 [00:02<00:00,  4.68it/s]\n"
     ]
    },
    {
     "name": "stdout",
     "output_type": "stream",
     "text": [
      "# Epoch 99 / 150\n"
     ]
    },
    {
     "name": "stderr",
     "output_type": "stream",
     "text": [
      "100%|███████████████████████████████████████████| 49/49 [00:27<00:00,  1.79it/s]\n",
      "100%|███████████████████████████████████████████| 13/13 [00:02<00:00,  4.93it/s]\n"
     ]
    },
    {
     "name": "stdout",
     "output_type": "stream",
     "text": [
      "# Epoch 100 / 150\n"
     ]
    },
    {
     "name": "stderr",
     "output_type": "stream",
     "text": [
      "100%|███████████████████████████████████████████| 49/49 [00:27<00:00,  1.80it/s]\n",
      "100%|███████████████████████████████████████████| 13/13 [00:02<00:00,  4.63it/s]\n"
     ]
    },
    {
     "name": "stdout",
     "output_type": "stream",
     "text": [
      "# Epoch 101 / 150\n"
     ]
    },
    {
     "name": "stderr",
     "output_type": "stream",
     "text": [
      "100%|███████████████████████████████████████████| 49/49 [00:26<00:00,  1.82it/s]\n",
      "100%|███████████████████████████████████████████| 13/13 [00:02<00:00,  4.41it/s]\n"
     ]
    },
    {
     "name": "stdout",
     "output_type": "stream",
     "text": [
      "# Epoch 102 / 150\n"
     ]
    },
    {
     "name": "stderr",
     "output_type": "stream",
     "text": [
      "100%|███████████████████████████████████████████| 49/49 [00:27<00:00,  1.81it/s]\n",
      "100%|███████████████████████████████████████████| 13/13 [00:02<00:00,  4.89it/s]\n"
     ]
    },
    {
     "name": "stdout",
     "output_type": "stream",
     "text": [
      "# Epoch 103 / 150\n"
     ]
    },
    {
     "name": "stderr",
     "output_type": "stream",
     "text": [
      "100%|███████████████████████████████████████████| 49/49 [00:27<00:00,  1.81it/s]\n",
      "100%|███████████████████████████████████████████| 13/13 [00:02<00:00,  5.15it/s]\n"
     ]
    },
    {
     "name": "stdout",
     "output_type": "stream",
     "text": [
      "# Epoch 104 / 150\n"
     ]
    },
    {
     "name": "stderr",
     "output_type": "stream",
     "text": [
      "100%|███████████████████████████████████████████| 49/49 [00:27<00:00,  1.80it/s]\n",
      "100%|███████████████████████████████████████████| 13/13 [00:02<00:00,  4.49it/s]\n"
     ]
    },
    {
     "name": "stdout",
     "output_type": "stream",
     "text": [
      "# Epoch 105 / 150\n"
     ]
    },
    {
     "name": "stderr",
     "output_type": "stream",
     "text": [
      "100%|███████████████████████████████████████████| 49/49 [00:26<00:00,  1.84it/s]\n",
      "100%|███████████████████████████████████████████| 13/13 [00:02<00:00,  4.82it/s]\n"
     ]
    },
    {
     "name": "stdout",
     "output_type": "stream",
     "text": [
      "# Epoch 106 / 150\n"
     ]
    },
    {
     "name": "stderr",
     "output_type": "stream",
     "text": [
      "100%|███████████████████████████████████████████| 49/49 [00:26<00:00,  1.85it/s]\n",
      "100%|███████████████████████████████████████████| 13/13 [00:02<00:00,  5.09it/s]\n"
     ]
    },
    {
     "name": "stdout",
     "output_type": "stream",
     "text": [
      "# Epoch 107 / 150\n"
     ]
    },
    {
     "name": "stderr",
     "output_type": "stream",
     "text": [
      "100%|███████████████████████████████████████████| 49/49 [00:27<00:00,  1.78it/s]\n",
      "100%|███████████████████████████████████████████| 13/13 [00:03<00:00,  4.28it/s]\n"
     ]
    },
    {
     "name": "stdout",
     "output_type": "stream",
     "text": [
      "# Epoch 108 / 150\n"
     ]
    },
    {
     "name": "stderr",
     "output_type": "stream",
     "text": [
      "100%|███████████████████████████████████████████| 49/49 [00:27<00:00,  1.78it/s]\n",
      "100%|███████████████████████████████████████████| 13/13 [00:02<00:00,  4.76it/s]\n"
     ]
    },
    {
     "name": "stdout",
     "output_type": "stream",
     "text": [
      "# Epoch 109 / 150\n"
     ]
    },
    {
     "name": "stderr",
     "output_type": "stream",
     "text": [
      "100%|███████████████████████████████████████████| 49/49 [00:27<00:00,  1.77it/s]\n",
      "100%|███████████████████████████████████████████| 13/13 [00:02<00:00,  4.40it/s]\n"
     ]
    },
    {
     "name": "stdout",
     "output_type": "stream",
     "text": [
      "# Epoch 110 / 150\n"
     ]
    },
    {
     "name": "stderr",
     "output_type": "stream",
     "text": [
      "100%|███████████████████████████████████████████| 49/49 [00:26<00:00,  1.84it/s]\n",
      "100%|███████████████████████████████████████████| 13/13 [00:02<00:00,  4.42it/s]\n"
     ]
    },
    {
     "name": "stdout",
     "output_type": "stream",
     "text": [
      "# Epoch 111 / 150\n"
     ]
    },
    {
     "name": "stderr",
     "output_type": "stream",
     "text": [
      "100%|███████████████████████████████████████████| 49/49 [00:27<00:00,  1.81it/s]\n",
      "100%|███████████████████████████████████████████| 13/13 [00:02<00:00,  4.72it/s]\n"
     ]
    },
    {
     "name": "stdout",
     "output_type": "stream",
     "text": [
      "# Epoch 112 / 150\n"
     ]
    },
    {
     "name": "stderr",
     "output_type": "stream",
     "text": [
      "100%|███████████████████████████████████████████| 49/49 [00:27<00:00,  1.78it/s]\n",
      "100%|███████████████████████████████████████████| 13/13 [00:02<00:00,  4.65it/s]\n"
     ]
    },
    {
     "name": "stdout",
     "output_type": "stream",
     "text": [
      "# Epoch 113 / 150\n"
     ]
    },
    {
     "name": "stderr",
     "output_type": "stream",
     "text": [
      "100%|███████████████████████████████████████████| 49/49 [00:26<00:00,  1.84it/s]\n",
      "100%|███████████████████████████████████████████| 13/13 [00:02<00:00,  4.65it/s]\n"
     ]
    },
    {
     "name": "stdout",
     "output_type": "stream",
     "text": [
      "# Epoch 114 / 150\n"
     ]
    },
    {
     "name": "stderr",
     "output_type": "stream",
     "text": [
      "100%|███████████████████████████████████████████| 49/49 [00:27<00:00,  1.78it/s]\n",
      "100%|███████████████████████████████████████████| 13/13 [00:02<00:00,  4.86it/s]\n"
     ]
    },
    {
     "name": "stdout",
     "output_type": "stream",
     "text": [
      "# Epoch 115 / 150\n"
     ]
    },
    {
     "name": "stderr",
     "output_type": "stream",
     "text": [
      "100%|███████████████████████████████████████████| 49/49 [00:26<00:00,  1.85it/s]\n",
      "100%|███████████████████████████████████████████| 13/13 [00:02<00:00,  4.84it/s]\n"
     ]
    },
    {
     "name": "stdout",
     "output_type": "stream",
     "text": [
      "# Epoch 116 / 150\n"
     ]
    },
    {
     "name": "stderr",
     "output_type": "stream",
     "text": [
      "100%|███████████████████████████████████████████| 49/49 [00:27<00:00,  1.79it/s]\n",
      "100%|███████████████████████████████████████████| 13/13 [00:02<00:00,  4.75it/s]\n"
     ]
    },
    {
     "name": "stdout",
     "output_type": "stream",
     "text": [
      "# Epoch 117 / 150\n"
     ]
    },
    {
     "name": "stderr",
     "output_type": "stream",
     "text": [
      "100%|███████████████████████████████████████████| 49/49 [00:27<00:00,  1.79it/s]\n",
      "100%|███████████████████████████████████████████| 13/13 [00:02<00:00,  4.41it/s]\n"
     ]
    },
    {
     "name": "stdout",
     "output_type": "stream",
     "text": [
      "# Epoch 118 / 150\n"
     ]
    },
    {
     "name": "stderr",
     "output_type": "stream",
     "text": [
      "100%|███████████████████████████████████████████| 49/49 [00:26<00:00,  1.82it/s]\n",
      "100%|███████████████████████████████████████████| 13/13 [00:02<00:00,  4.75it/s]\n"
     ]
    },
    {
     "name": "stdout",
     "output_type": "stream",
     "text": [
      "# Epoch 119 / 150\n"
     ]
    },
    {
     "name": "stderr",
     "output_type": "stream",
     "text": [
      "100%|███████████████████████████████████████████| 49/49 [00:27<00:00,  1.79it/s]\n",
      "100%|███████████████████████████████████████████| 13/13 [00:02<00:00,  4.86it/s]\n"
     ]
    },
    {
     "name": "stdout",
     "output_type": "stream",
     "text": [
      "# Epoch 120 / 150\n"
     ]
    },
    {
     "name": "stderr",
     "output_type": "stream",
     "text": [
      "100%|███████████████████████████████████████████| 49/49 [00:27<00:00,  1.76it/s]\n",
      "100%|███████████████████████████████████████████| 13/13 [00:02<00:00,  4.85it/s]\n"
     ]
    },
    {
     "name": "stdout",
     "output_type": "stream",
     "text": [
      "# Epoch 121 / 150\n"
     ]
    },
    {
     "name": "stderr",
     "output_type": "stream",
     "text": [
      "100%|███████████████████████████████████████████| 49/49 [00:27<00:00,  1.81it/s]\n",
      "100%|███████████████████████████████████████████| 13/13 [00:02<00:00,  4.93it/s]\n"
     ]
    },
    {
     "name": "stdout",
     "output_type": "stream",
     "text": [
      "# Epoch 122 / 150\n"
     ]
    },
    {
     "name": "stderr",
     "output_type": "stream",
     "text": [
      "100%|███████████████████████████████████████████| 49/49 [00:27<00:00,  1.80it/s]\n",
      "100%|███████████████████████████████████████████| 13/13 [00:02<00:00,  4.66it/s]\n"
     ]
    },
    {
     "name": "stdout",
     "output_type": "stream",
     "text": [
      "# Epoch 123 / 150\n"
     ]
    },
    {
     "name": "stderr",
     "output_type": "stream",
     "text": [
      "100%|███████████████████████████████████████████| 49/49 [00:27<00:00,  1.79it/s]\n",
      "100%|███████████████████████████████████████████| 13/13 [00:02<00:00,  4.89it/s]\n"
     ]
    },
    {
     "name": "stdout",
     "output_type": "stream",
     "text": [
      "# Epoch 124 / 150\n"
     ]
    },
    {
     "name": "stderr",
     "output_type": "stream",
     "text": [
      "100%|███████████████████████████████████████████| 49/49 [00:27<00:00,  1.81it/s]\n",
      "100%|███████████████████████████████████████████| 13/13 [00:02<00:00,  4.72it/s]\n"
     ]
    },
    {
     "name": "stdout",
     "output_type": "stream",
     "text": [
      "# Epoch 125 / 150\n"
     ]
    },
    {
     "name": "stderr",
     "output_type": "stream",
     "text": [
      "100%|███████████████████████████████████████████| 49/49 [00:27<00:00,  1.77it/s]\n",
      "100%|███████████████████████████████████████████| 13/13 [00:02<00:00,  5.09it/s]\n"
     ]
    },
    {
     "name": "stdout",
     "output_type": "stream",
     "text": [
      "# Epoch 126 / 150\n"
     ]
    },
    {
     "name": "stderr",
     "output_type": "stream",
     "text": [
      "100%|███████████████████████████████████████████| 49/49 [00:27<00:00,  1.77it/s]\n",
      "100%|███████████████████████████████████████████| 13/13 [00:02<00:00,  4.57it/s]\n"
     ]
    },
    {
     "name": "stdout",
     "output_type": "stream",
     "text": [
      "# Epoch 127 / 150\n"
     ]
    },
    {
     "name": "stderr",
     "output_type": "stream",
     "text": [
      "100%|███████████████████████████████████████████| 49/49 [00:26<00:00,  1.83it/s]\n",
      "100%|███████████████████████████████████████████| 13/13 [00:02<00:00,  5.16it/s]\n"
     ]
    },
    {
     "name": "stdout",
     "output_type": "stream",
     "text": [
      "# Epoch 128 / 150\n"
     ]
    },
    {
     "name": "stderr",
     "output_type": "stream",
     "text": [
      "100%|███████████████████████████████████████████| 49/49 [00:26<00:00,  1.83it/s]\n",
      "100%|███████████████████████████████████████████| 13/13 [00:02<00:00,  4.64it/s]\n"
     ]
    },
    {
     "name": "stdout",
     "output_type": "stream",
     "text": [
      "# Epoch 129 / 150\n"
     ]
    },
    {
     "name": "stderr",
     "output_type": "stream",
     "text": [
      "100%|███████████████████████████████████████████| 49/49 [00:26<00:00,  1.87it/s]\n",
      "100%|███████████████████████████████████████████| 13/13 [00:02<00:00,  4.83it/s]\n"
     ]
    },
    {
     "name": "stdout",
     "output_type": "stream",
     "text": [
      "# Epoch 130 / 150\n"
     ]
    },
    {
     "name": "stderr",
     "output_type": "stream",
     "text": [
      "100%|███████████████████████████████████████████| 49/49 [00:27<00:00,  1.79it/s]\n",
      "100%|███████████████████████████████████████████| 13/13 [00:02<00:00,  4.89it/s]\n"
     ]
    },
    {
     "name": "stdout",
     "output_type": "stream",
     "text": [
      "# Epoch 131 / 150\n"
     ]
    },
    {
     "name": "stderr",
     "output_type": "stream",
     "text": [
      "100%|███████████████████████████████████████████| 49/49 [00:27<00:00,  1.78it/s]\n",
      "100%|███████████████████████████████████████████| 13/13 [00:02<00:00,  4.59it/s]\n"
     ]
    },
    {
     "name": "stdout",
     "output_type": "stream",
     "text": [
      "# Epoch 132 / 150\n"
     ]
    },
    {
     "name": "stderr",
     "output_type": "stream",
     "text": [
      "100%|███████████████████████████████████████████| 49/49 [00:27<00:00,  1.76it/s]\n",
      "100%|███████████████████████████████████████████| 13/13 [00:02<00:00,  4.51it/s]\n"
     ]
    },
    {
     "name": "stdout",
     "output_type": "stream",
     "text": [
      "# Epoch 133 / 150\n"
     ]
    },
    {
     "name": "stderr",
     "output_type": "stream",
     "text": [
      "100%|███████████████████████████████████████████| 49/49 [00:27<00:00,  1.78it/s]\n",
      "100%|███████████████████████████████████████████| 13/13 [00:02<00:00,  4.73it/s]\n"
     ]
    },
    {
     "name": "stdout",
     "output_type": "stream",
     "text": [
      "# Epoch 134 / 150\n"
     ]
    },
    {
     "name": "stderr",
     "output_type": "stream",
     "text": [
      "100%|███████████████████████████████████████████| 49/49 [00:26<00:00,  1.88it/s]\n",
      "100%|███████████████████████████████████████████| 13/13 [00:02<00:00,  4.51it/s]\n"
     ]
    },
    {
     "name": "stdout",
     "output_type": "stream",
     "text": [
      "# Epoch 135 / 150\n"
     ]
    },
    {
     "name": "stderr",
     "output_type": "stream",
     "text": [
      "100%|███████████████████████████████████████████| 49/49 [00:27<00:00,  1.81it/s]\n",
      "100%|███████████████████████████████████████████| 13/13 [00:02<00:00,  5.04it/s]\n"
     ]
    },
    {
     "name": "stdout",
     "output_type": "stream",
     "text": [
      "# Epoch 136 / 150\n"
     ]
    },
    {
     "name": "stderr",
     "output_type": "stream",
     "text": [
      "100%|███████████████████████████████████████████| 49/49 [00:26<00:00,  1.84it/s]\n",
      "100%|███████████████████████████████████████████| 13/13 [00:02<00:00,  5.05it/s]\n"
     ]
    },
    {
     "name": "stdout",
     "output_type": "stream",
     "text": [
      "# Epoch 137 / 150\n"
     ]
    },
    {
     "name": "stderr",
     "output_type": "stream",
     "text": [
      "100%|███████████████████████████████████████████| 49/49 [00:26<00:00,  1.82it/s]\n",
      "100%|███████████████████████████████████████████| 13/13 [00:02<00:00,  4.61it/s]\n"
     ]
    },
    {
     "name": "stdout",
     "output_type": "stream",
     "text": [
      "# Epoch 138 / 150\n"
     ]
    },
    {
     "name": "stderr",
     "output_type": "stream",
     "text": [
      "100%|███████████████████████████████████████████| 49/49 [00:26<00:00,  1.86it/s]\n",
      "100%|███████████████████████████████████████████| 13/13 [00:02<00:00,  4.70it/s]\n"
     ]
    },
    {
     "name": "stdout",
     "output_type": "stream",
     "text": [
      "# Epoch 139 / 150\n"
     ]
    },
    {
     "name": "stderr",
     "output_type": "stream",
     "text": [
      "100%|███████████████████████████████████████████| 49/49 [00:27<00:00,  1.80it/s]\n",
      "100%|███████████████████████████████████████████| 13/13 [00:02<00:00,  4.88it/s]\n"
     ]
    },
    {
     "name": "stdout",
     "output_type": "stream",
     "text": [
      "# Epoch 140 / 150\n"
     ]
    },
    {
     "name": "stderr",
     "output_type": "stream",
     "text": [
      "100%|███████████████████████████████████████████| 49/49 [00:27<00:00,  1.75it/s]\n",
      "100%|███████████████████████████████████████████| 13/13 [00:02<00:00,  4.69it/s]\n"
     ]
    },
    {
     "name": "stdout",
     "output_type": "stream",
     "text": [
      "# Epoch 141 / 150\n"
     ]
    },
    {
     "name": "stderr",
     "output_type": "stream",
     "text": [
      "100%|███████████████████████████████████████████| 49/49 [00:27<00:00,  1.79it/s]\n",
      "100%|███████████████████████████████████████████| 13/13 [00:02<00:00,  4.84it/s]\n"
     ]
    },
    {
     "name": "stdout",
     "output_type": "stream",
     "text": [
      "# Epoch 142 / 150\n"
     ]
    },
    {
     "name": "stderr",
     "output_type": "stream",
     "text": [
      "100%|███████████████████████████████████████████| 49/49 [00:27<00:00,  1.80it/s]\n",
      "100%|███████████████████████████████████████████| 13/13 [00:02<00:00,  5.06it/s]\n"
     ]
    },
    {
     "name": "stdout",
     "output_type": "stream",
     "text": [
      "# Epoch 143 / 150\n"
     ]
    },
    {
     "name": "stderr",
     "output_type": "stream",
     "text": [
      "100%|███████████████████████████████████████████| 49/49 [00:27<00:00,  1.80it/s]\n",
      "100%|███████████████████████████████████████████| 13/13 [00:02<00:00,  4.82it/s]\n"
     ]
    },
    {
     "name": "stdout",
     "output_type": "stream",
     "text": [
      "# Epoch 144 / 150\n"
     ]
    },
    {
     "name": "stderr",
     "output_type": "stream",
     "text": [
      "100%|███████████████████████████████████████████| 49/49 [00:27<00:00,  1.80it/s]\n",
      "100%|███████████████████████████████████████████| 13/13 [00:02<00:00,  4.74it/s]\n"
     ]
    },
    {
     "name": "stdout",
     "output_type": "stream",
     "text": [
      "# Epoch 145 / 150\n"
     ]
    },
    {
     "name": "stderr",
     "output_type": "stream",
     "text": [
      "100%|███████████████████████████████████████████| 49/49 [00:27<00:00,  1.79it/s]\n",
      "100%|███████████████████████████████████████████| 13/13 [00:02<00:00,  4.80it/s]\n"
     ]
    },
    {
     "name": "stdout",
     "output_type": "stream",
     "text": [
      "# Epoch 146 / 150\n"
     ]
    },
    {
     "name": "stderr",
     "output_type": "stream",
     "text": [
      "100%|███████████████████████████████████████████| 49/49 [00:28<00:00,  1.75it/s]\n",
      "100%|███████████████████████████████████████████| 13/13 [00:02<00:00,  4.56it/s]\n"
     ]
    },
    {
     "name": "stdout",
     "output_type": "stream",
     "text": [
      "# Epoch 147 / 150\n"
     ]
    },
    {
     "name": "stderr",
     "output_type": "stream",
     "text": [
      "100%|███████████████████████████████████████████| 49/49 [00:27<00:00,  1.81it/s]\n",
      "100%|███████████████████████████████████████████| 13/13 [00:02<00:00,  4.86it/s]\n"
     ]
    },
    {
     "name": "stdout",
     "output_type": "stream",
     "text": [
      "# Epoch 148 / 150\n"
     ]
    },
    {
     "name": "stderr",
     "output_type": "stream",
     "text": [
      "100%|███████████████████████████████████████████| 49/49 [00:27<00:00,  1.79it/s]\n",
      "100%|███████████████████████████████████████████| 13/13 [00:03<00:00,  4.22it/s]\n"
     ]
    },
    {
     "name": "stdout",
     "output_type": "stream",
     "text": [
      "# Epoch 149 / 150\n"
     ]
    },
    {
     "name": "stderr",
     "output_type": "stream",
     "text": [
      "100%|███████████████████████████████████████████| 49/49 [00:27<00:00,  1.81it/s]\n",
      "100%|███████████████████████████████████████████| 13/13 [00:02<00:00,  4.55it/s]\n"
     ]
    },
    {
     "name": "stdout",
     "output_type": "stream",
     "text": [
      "# Epoch 150 / 150\n"
     ]
    },
    {
     "name": "stderr",
     "output_type": "stream",
     "text": [
      "100%|███████████████████████████████████████████| 49/49 [00:27<00:00,  1.75it/s]\n",
      "100%|███████████████████████████████████████████| 13/13 [00:02<00:00,  4.48it/s]\n"
     ]
    },
    {
     "data": {
      "text/html": [
       "Waiting for W&B process to finish... <strong style=\"color:green\">(success).</strong>"
      ],
      "text/plain": [
       "<IPython.core.display.HTML object>"
      ]
     },
     "metadata": {},
     "output_type": "display_data"
    },
    {
     "data": {
      "application/vnd.jupyter.widget-view+json": {
       "model_id": "",
       "version_major": 2,
       "version_minor": 0
      },
      "text/plain": [
       "VBox(children=(Label(value='0.001 MB of 0.001 MB uploaded (0.000 MB deduped)\\r'), FloatProgress(value=1.0, max…"
      ]
     },
     "metadata": {},
     "output_type": "display_data"
    },
    {
     "data": {
      "text/html": [
       "<style>\n",
       "    table.wandb td:nth-child(1) { padding: 0 10px; text-align: left ; width: auto;} td:nth-child(2) {text-align: left ; width: 100%}\n",
       "    .wandb-row { display: flex; flex-direction: row; flex-wrap: wrap; justify-content: flex-start; width: 100% }\n",
       "    .wandb-col { display: flex; flex-direction: column; flex-basis: 100%; flex: 1; padding: 10px; }\n",
       "    </style>\n",
       "<div class=\"wandb-row\"><div class=\"wandb-col\"><h3>Run history:</h3><br/><table class=\"wandb\"><tr><td>lr</td><td>█████▂▁▁▁▁▁▁▁▁▁▁▁▁▁▁▁▁▁▁▁▁▁▁▁▁▁▁▁▁▁▁▁▁▁▁</td></tr><tr><td>train_mae</td><td>▇██▆▅▃▃▂▂▁▂▂▂▂▂▂▂▂▂▂▁▃▂▂▂▃▂▁▂▁▁▁▂▂▂▂▂▂▂▁</td></tr><tr><td>train_mse</td><td>▅█▇▅▇▇▁▃▃▂▃▃▄▃▂▂▄▂▂▂▃▄▂▁▃▃▃▅▃▃▃▃▅▄▃▂▄▅▂▂</td></tr><tr><td>train_pearson</td><td>▄▁▄▂▂▃▆▆▄▅▄▃▂▅▅▅▄▅▄▇▇▆▅▅▄▄▇▆▅▅▅▆▃▆▄▅▅▄▆█</td></tr><tr><td>train_spearman</td><td>▇▂█▁▄▄▃▃▂▃▄▃▂▃▄▃▄▄▃▅▅▄▄▃▃▄▆▆▁▂▅▅▃▅▄▃▁▃▅▅</td></tr><tr><td>valid_mae</td><td>▁▆▃█▂▁▁▁▁▁▁▁▁▁▁▁▁▁▁▁▁▁▁▁▁▁▁▁▁▁▁▁▁▁▁▁▁▁▁▁</td></tr><tr><td>valid_mse</td><td>▁▆▃█▂▁▁▁▁▁▁▁▁▁▁▁▁▁▁▁▁▁▁▁▁▁▁▁▁▁▁▁▁▁▁▁▁▁▁▁</td></tr><tr><td>valid_pearson</td><td>▂▇▇▁▁▇██████████████████████████████████</td></tr><tr><td>valid_spearman</td><td>▃█▇▁▁▅▄▄▄▄▄▄▄▄▄▄▄▄▄▄▄▄▄▄▄▄▃▄▄▄▄▄▄▄▄▄▄▄▄▄</td></tr></table><br/></div><div class=\"wandb-col\"><h3>Run summary:</h3><br/><table class=\"wandb\"><tr><td>lr</td><td>0.0</td></tr><tr><td>train_mae</td><td>1.40422</td></tr><tr><td>train_mse</td><td>0.01549</td></tr><tr><td>train_pearson</td><td>0.18863</td></tr><tr><td>train_spearman</td><td>0.05977</td></tr><tr><td>valid_mae</td><td>1.24322</td></tr><tr><td>valid_mse</td><td>2.02557</td></tr><tr><td>valid_pearson</td><td>0.15106</td></tr><tr><td>valid_spearman</td><td>0.06767</td></tr></table><br/></div></div>"
      ],
      "text/plain": [
       "<IPython.core.display.HTML object>"
      ]
     },
     "metadata": {},
     "output_type": "display_data"
    },
    {
     "data": {
      "text/html": [
       "Synced <strong style=\"color:#cdcd00\">vivid-music-16</strong>: <a href=\"https://wandb.ai/hei-jung/20230214-validation/runs/2tecfjsz\" target=\"_blank\">https://wandb.ai/hei-jung/20230214-validation/runs/2tecfjsz</a><br/>Synced 6 W&B file(s), 0 media file(s), 0 artifact file(s) and 0 other file(s)"
      ],
      "text/plain": [
       "<IPython.core.display.HTML object>"
      ]
     },
     "metadata": {},
     "output_type": "display_data"
    },
    {
     "data": {
      "text/html": [
       "Find logs at: <code>./wandb/run-20230306_165711-2tecfjsz/logs</code>"
      ],
      "text/plain": [
       "<IPython.core.display.HTML object>"
      ]
     },
     "metadata": {},
     "output_type": "display_data"
    },
    {
     "data": {
      "text/html": [
       "wandb version 0.13.10 is available!  To upgrade, please run:\n",
       " $ pip install wandb --upgrade"
      ],
      "text/plain": [
       "<IPython.core.display.HTML object>"
      ]
     },
     "metadata": {},
     "output_type": "display_data"
    },
    {
     "data": {
      "text/html": [
       "Tracking run with wandb version 0.12.21"
      ],
      "text/plain": [
       "<IPython.core.display.HTML object>"
      ]
     },
     "metadata": {},
     "output_type": "display_data"
    },
    {
     "data": {
      "text/html": [
       "Run data is saved locally in <code>/home/jhj/Desktop/HJ_RESEARCH/snu_brain_disease/wandb/run-20230306_181226-19xr0z01</code>"
      ],
      "text/plain": [
       "<IPython.core.display.HTML object>"
      ]
     },
     "metadata": {},
     "output_type": "display_data"
    },
    {
     "data": {
      "text/html": [
       "Syncing run <strong><a href=\"https://wandb.ai/hei-jung/20230214-validation/runs/19xr0z01\" target=\"_blank\">royal-grass-17</a></strong> to <a href=\"https://wandb.ai/hei-jung/20230214-validation\" target=\"_blank\">Weights & Biases</a> (<a href=\"https://wandb.me/run\" target=\"_blank\">docs</a>)<br/>"
      ],
      "text/plain": [
       "<IPython.core.display.HTML object>"
      ]
     },
     "metadata": {},
     "output_type": "display_data"
    },
    {
     "name": "stdout",
     "output_type": "stream",
     "text": [
      "# Epoch 1 / 150\n"
     ]
    },
    {
     "name": "stderr",
     "output_type": "stream",
     "text": [
      "100%|███████████████████████████████████████████| 49/49 [00:27<00:00,  1.81it/s]\n",
      "100%|███████████████████████████████████████████| 49/49 [00:08<00:00,  6.01it/s]\n",
      "100%|███████████████████████████████████████████| 13/13 [00:02<00:00,  4.78it/s]\n"
     ]
    },
    {
     "name": "stdout",
     "output_type": "stream",
     "text": [
      "# Epoch 2 / 150\n"
     ]
    },
    {
     "name": "stderr",
     "output_type": "stream",
     "text": [
      "100%|███████████████████████████████████████████| 49/49 [00:27<00:00,  1.77it/s]\n",
      "100%|███████████████████████████████████████████| 49/49 [00:08<00:00,  6.01it/s]\n",
      "100%|███████████████████████████████████████████| 13/13 [00:02<00:00,  4.42it/s]\n"
     ]
    },
    {
     "name": "stdout",
     "output_type": "stream",
     "text": [
      "# Epoch 3 / 150\n"
     ]
    },
    {
     "name": "stderr",
     "output_type": "stream",
     "text": [
      "100%|███████████████████████████████████████████| 49/49 [00:27<00:00,  1.78it/s]\n",
      "100%|███████████████████████████████████████████| 49/49 [00:08<00:00,  5.82it/s]\n",
      "100%|███████████████████████████████████████████| 13/13 [00:02<00:00,  4.37it/s]\n"
     ]
    },
    {
     "name": "stdout",
     "output_type": "stream",
     "text": [
      "# Epoch 4 / 150\n"
     ]
    },
    {
     "name": "stderr",
     "output_type": "stream",
     "text": [
      "100%|███████████████████████████████████████████| 49/49 [00:27<00:00,  1.80it/s]\n",
      "100%|███████████████████████████████████████████| 49/49 [00:08<00:00,  5.81it/s]\n",
      "100%|███████████████████████████████████████████| 13/13 [00:02<00:00,  4.80it/s]\n"
     ]
    },
    {
     "name": "stdout",
     "output_type": "stream",
     "text": [
      "# Epoch 5 / 150\n"
     ]
    },
    {
     "name": "stderr",
     "output_type": "stream",
     "text": [
      "100%|███████████████████████████████████████████| 49/49 [00:27<00:00,  1.76it/s]\n",
      "100%|███████████████████████████████████████████| 49/49 [00:08<00:00,  6.02it/s]\n",
      "100%|███████████████████████████████████████████| 13/13 [00:02<00:00,  4.81it/s]\n"
     ]
    },
    {
     "name": "stdout",
     "output_type": "stream",
     "text": [
      "# Epoch 6 / 150\n"
     ]
    },
    {
     "name": "stderr",
     "output_type": "stream",
     "text": [
      "100%|███████████████████████████████████████████| 49/49 [00:27<00:00,  1.78it/s]\n",
      "100%|███████████████████████████████████████████| 49/49 [00:08<00:00,  5.90it/s]\n",
      "100%|███████████████████████████████████████████| 13/13 [00:02<00:00,  4.67it/s]\n"
     ]
    },
    {
     "name": "stdout",
     "output_type": "stream",
     "text": [
      "# Epoch 7 / 150\n"
     ]
    },
    {
     "name": "stderr",
     "output_type": "stream",
     "text": [
      "100%|███████████████████████████████████████████| 49/49 [00:26<00:00,  1.85it/s]\n",
      "100%|███████████████████████████████████████████| 49/49 [00:08<00:00,  5.92it/s]\n",
      "100%|███████████████████████████████████████████| 13/13 [00:02<00:00,  4.56it/s]\n"
     ]
    },
    {
     "name": "stdout",
     "output_type": "stream",
     "text": [
      "# Epoch 8 / 150\n"
     ]
    },
    {
     "name": "stderr",
     "output_type": "stream",
     "text": [
      "100%|███████████████████████████████████████████| 49/49 [00:28<00:00,  1.75it/s]\n",
      "100%|███████████████████████████████████████████| 49/49 [00:08<00:00,  5.87it/s]\n",
      "100%|███████████████████████████████████████████| 13/13 [00:02<00:00,  4.56it/s]\n"
     ]
    },
    {
     "name": "stdout",
     "output_type": "stream",
     "text": [
      "# Epoch 9 / 150\n"
     ]
    },
    {
     "name": "stderr",
     "output_type": "stream",
     "text": [
      "100%|███████████████████████████████████████████| 49/49 [00:27<00:00,  1.75it/s]\n",
      "100%|███████████████████████████████████████████| 49/49 [00:08<00:00,  5.87it/s]\n",
      "100%|███████████████████████████████████████████| 13/13 [00:02<00:00,  4.65it/s]\n"
     ]
    },
    {
     "name": "stdout",
     "output_type": "stream",
     "text": [
      "# Epoch 10 / 150\n"
     ]
    },
    {
     "name": "stderr",
     "output_type": "stream",
     "text": [
      "100%|███████████████████████████████████████████| 49/49 [00:28<00:00,  1.73it/s]\n",
      "100%|███████████████████████████████████████████| 49/49 [00:08<00:00,  5.82it/s]\n",
      "100%|███████████████████████████████████████████| 13/13 [00:02<00:00,  4.74it/s]\n"
     ]
    },
    {
     "name": "stdout",
     "output_type": "stream",
     "text": [
      "# Epoch 11 / 150\n"
     ]
    },
    {
     "name": "stderr",
     "output_type": "stream",
     "text": [
      "100%|███████████████████████████████████████████| 49/49 [00:27<00:00,  1.78it/s]\n",
      "100%|███████████████████████████████████████████| 49/49 [00:08<00:00,  6.07it/s]\n",
      "100%|███████████████████████████████████████████| 13/13 [00:02<00:00,  4.51it/s]\n"
     ]
    },
    {
     "name": "stdout",
     "output_type": "stream",
     "text": [
      "# Epoch 12 / 150\n"
     ]
    },
    {
     "name": "stderr",
     "output_type": "stream",
     "text": [
      "100%|███████████████████████████████████████████| 49/49 [00:27<00:00,  1.75it/s]\n",
      "100%|███████████████████████████████████████████| 49/49 [00:08<00:00,  5.86it/s]\n",
      "100%|███████████████████████████████████████████| 13/13 [00:02<00:00,  4.37it/s]\n"
     ]
    },
    {
     "name": "stdout",
     "output_type": "stream",
     "text": [
      "# Epoch 13 / 150\n"
     ]
    },
    {
     "name": "stderr",
     "output_type": "stream",
     "text": [
      "100%|███████████████████████████████████████████| 49/49 [00:27<00:00,  1.81it/s]\n",
      "100%|███████████████████████████████████████████| 49/49 [00:08<00:00,  5.88it/s]\n",
      "100%|███████████████████████████████████████████| 13/13 [00:02<00:00,  4.45it/s]\n"
     ]
    },
    {
     "name": "stdout",
     "output_type": "stream",
     "text": [
      "# Epoch 14 / 150\n"
     ]
    },
    {
     "name": "stderr",
     "output_type": "stream",
     "text": [
      "100%|███████████████████████████████████████████| 49/49 [00:27<00:00,  1.77it/s]\n",
      "100%|███████████████████████████████████████████| 49/49 [00:08<00:00,  5.75it/s]\n",
      "100%|███████████████████████████████████████████| 13/13 [00:02<00:00,  4.42it/s]\n"
     ]
    },
    {
     "name": "stdout",
     "output_type": "stream",
     "text": [
      "# Epoch 15 / 150\n"
     ]
    },
    {
     "name": "stderr",
     "output_type": "stream",
     "text": [
      "100%|███████████████████████████████████████████| 49/49 [00:27<00:00,  1.80it/s]\n",
      "100%|███████████████████████████████████████████| 49/49 [00:08<00:00,  5.87it/s]\n",
      "100%|███████████████████████████████████████████| 13/13 [00:02<00:00,  4.67it/s]\n"
     ]
    },
    {
     "name": "stdout",
     "output_type": "stream",
     "text": [
      "# Epoch 16 / 150\n"
     ]
    },
    {
     "name": "stderr",
     "output_type": "stream",
     "text": [
      "100%|███████████████████████████████████████████| 49/49 [00:27<00:00,  1.79it/s]\n",
      "100%|███████████████████████████████████████████| 49/49 [00:08<00:00,  5.76it/s]\n",
      "100%|███████████████████████████████████████████| 13/13 [00:03<00:00,  4.31it/s]\n"
     ]
    },
    {
     "name": "stdout",
     "output_type": "stream",
     "text": [
      "# Epoch 17 / 150\n"
     ]
    },
    {
     "name": "stderr",
     "output_type": "stream",
     "text": [
      "100%|███████████████████████████████████████████| 49/49 [00:26<00:00,  1.82it/s]\n",
      "100%|███████████████████████████████████████████| 49/49 [00:08<00:00,  5.79it/s]\n",
      "100%|███████████████████████████████████████████| 13/13 [00:02<00:00,  4.72it/s]\n"
     ]
    },
    {
     "name": "stdout",
     "output_type": "stream",
     "text": [
      "# Epoch 18 / 150\n"
     ]
    },
    {
     "name": "stderr",
     "output_type": "stream",
     "text": [
      "100%|███████████████████████████████████████████| 49/49 [00:26<00:00,  1.82it/s]\n",
      "100%|███████████████████████████████████████████| 49/49 [00:07<00:00,  6.20it/s]\n",
      "100%|███████████████████████████████████████████| 13/13 [00:02<00:00,  4.65it/s]\n"
     ]
    },
    {
     "name": "stdout",
     "output_type": "stream",
     "text": [
      "# Epoch 19 / 150\n"
     ]
    },
    {
     "name": "stderr",
     "output_type": "stream",
     "text": [
      "100%|███████████████████████████████████████████| 49/49 [00:27<00:00,  1.77it/s]\n",
      "100%|███████████████████████████████████████████| 49/49 [00:08<00:00,  5.80it/s]\n",
      "100%|███████████████████████████████████████████| 13/13 [00:02<00:00,  4.77it/s]\n"
     ]
    },
    {
     "name": "stdout",
     "output_type": "stream",
     "text": [
      "# Epoch 20 / 150\n"
     ]
    },
    {
     "name": "stderr",
     "output_type": "stream",
     "text": [
      "100%|███████████████████████████████████████████| 49/49 [00:28<00:00,  1.73it/s]\n",
      "100%|███████████████████████████████████████████| 49/49 [00:08<00:00,  5.89it/s]\n",
      "100%|███████████████████████████████████████████| 13/13 [00:02<00:00,  4.70it/s]\n"
     ]
    },
    {
     "name": "stdout",
     "output_type": "stream",
     "text": [
      "# Epoch 21 / 150\n"
     ]
    },
    {
     "name": "stderr",
     "output_type": "stream",
     "text": [
      "100%|███████████████████████████████████████████| 49/49 [00:27<00:00,  1.76it/s]\n",
      "100%|███████████████████████████████████████████| 49/49 [00:08<00:00,  5.97it/s]\n",
      "100%|███████████████████████████████████████████| 13/13 [00:02<00:00,  4.79it/s]\n"
     ]
    },
    {
     "name": "stdout",
     "output_type": "stream",
     "text": [
      "# Epoch 22 / 150\n"
     ]
    },
    {
     "name": "stderr",
     "output_type": "stream",
     "text": [
      "100%|███████████████████████████████████████████| 49/49 [00:26<00:00,  1.82it/s]\n",
      "100%|███████████████████████████████████████████| 49/49 [00:08<00:00,  5.86it/s]\n",
      "100%|███████████████████████████████████████████| 13/13 [00:02<00:00,  4.59it/s]\n"
     ]
    },
    {
     "name": "stdout",
     "output_type": "stream",
     "text": [
      "# Epoch 23 / 150\n"
     ]
    },
    {
     "name": "stderr",
     "output_type": "stream",
     "text": [
      "100%|███████████████████████████████████████████| 49/49 [00:27<00:00,  1.78it/s]\n",
      "100%|███████████████████████████████████████████| 49/49 [00:08<00:00,  5.83it/s]\n",
      "100%|███████████████████████████████████████████| 13/13 [00:02<00:00,  4.69it/s]\n"
     ]
    },
    {
     "name": "stdout",
     "output_type": "stream",
     "text": [
      "# Epoch 24 / 150\n"
     ]
    },
    {
     "name": "stderr",
     "output_type": "stream",
     "text": [
      "100%|███████████████████████████████████████████| 49/49 [00:27<00:00,  1.80it/s]\n",
      "100%|███████████████████████████████████████████| 49/49 [00:08<00:00,  6.10it/s]\n",
      "100%|███████████████████████████████████████████| 13/13 [00:02<00:00,  4.63it/s]\n"
     ]
    },
    {
     "name": "stdout",
     "output_type": "stream",
     "text": [
      "# Epoch 25 / 150\n"
     ]
    },
    {
     "name": "stderr",
     "output_type": "stream",
     "text": [
      "100%|███████████████████████████████████████████| 49/49 [00:28<00:00,  1.70it/s]\n",
      "100%|███████████████████████████████████████████| 49/49 [00:08<00:00,  5.85it/s]\n",
      "100%|███████████████████████████████████████████| 13/13 [00:02<00:00,  4.80it/s]\n"
     ]
    },
    {
     "name": "stdout",
     "output_type": "stream",
     "text": [
      "# Epoch 26 / 150\n"
     ]
    },
    {
     "name": "stderr",
     "output_type": "stream",
     "text": [
      "100%|███████████████████████████████████████████| 49/49 [00:27<00:00,  1.76it/s]\n",
      "100%|███████████████████████████████████████████| 49/49 [00:08<00:00,  5.88it/s]\n",
      "100%|███████████████████████████████████████████| 13/13 [00:02<00:00,  4.55it/s]\n"
     ]
    },
    {
     "name": "stdout",
     "output_type": "stream",
     "text": [
      "# Epoch 27 / 150\n"
     ]
    },
    {
     "name": "stderr",
     "output_type": "stream",
     "text": [
      "100%|███████████████████████████████████████████| 49/49 [00:27<00:00,  1.77it/s]\n",
      "100%|███████████████████████████████████████████| 49/49 [00:08<00:00,  5.87it/s]\n",
      "100%|███████████████████████████████████████████| 13/13 [00:02<00:00,  4.75it/s]\n"
     ]
    },
    {
     "name": "stdout",
     "output_type": "stream",
     "text": [
      "# Epoch 28 / 150\n"
     ]
    },
    {
     "name": "stderr",
     "output_type": "stream",
     "text": [
      "100%|███████████████████████████████████████████| 49/49 [00:28<00:00,  1.72it/s]\n",
      "100%|███████████████████████████████████████████| 49/49 [00:08<00:00,  5.93it/s]\n",
      "100%|███████████████████████████████████████████| 13/13 [00:02<00:00,  4.71it/s]\n"
     ]
    },
    {
     "name": "stdout",
     "output_type": "stream",
     "text": [
      "# Epoch 29 / 150\n"
     ]
    },
    {
     "name": "stderr",
     "output_type": "stream",
     "text": [
      "100%|███████████████████████████████████████████| 49/49 [00:27<00:00,  1.75it/s]\n",
      "100%|███████████████████████████████████████████| 49/49 [00:08<00:00,  5.90it/s]\n",
      "100%|███████████████████████████████████████████| 13/13 [00:02<00:00,  4.58it/s]\n"
     ]
    },
    {
     "name": "stdout",
     "output_type": "stream",
     "text": [
      "# Epoch 30 / 150\n"
     ]
    },
    {
     "name": "stderr",
     "output_type": "stream",
     "text": [
      "100%|███████████████████████████████████████████| 49/49 [00:27<00:00,  1.78it/s]\n",
      "100%|███████████████████████████████████████████| 49/49 [00:08<00:00,  5.89it/s]\n",
      "100%|███████████████████████████████████████████| 13/13 [00:02<00:00,  4.66it/s]\n"
     ]
    },
    {
     "name": "stdout",
     "output_type": "stream",
     "text": [
      "# Epoch 31 / 150\n"
     ]
    },
    {
     "name": "stderr",
     "output_type": "stream",
     "text": [
      "100%|███████████████████████████████████████████| 49/49 [00:28<00:00,  1.74it/s]\n",
      "100%|███████████████████████████████████████████| 49/49 [00:08<00:00,  5.95it/s]\n",
      "100%|███████████████████████████████████████████| 13/13 [00:02<00:00,  4.71it/s]\n"
     ]
    },
    {
     "name": "stdout",
     "output_type": "stream",
     "text": [
      "# Epoch 32 / 150\n"
     ]
    },
    {
     "name": "stderr",
     "output_type": "stream",
     "text": [
      "100%|███████████████████████████████████████████| 49/49 [00:27<00:00,  1.78it/s]\n",
      "100%|███████████████████████████████████████████| 49/49 [00:08<00:00,  5.75it/s]\n",
      "100%|███████████████████████████████████████████| 13/13 [00:02<00:00,  4.54it/s]\n"
     ]
    },
    {
     "name": "stdout",
     "output_type": "stream",
     "text": [
      "# Epoch 33 / 150\n"
     ]
    },
    {
     "name": "stderr",
     "output_type": "stream",
     "text": [
      "100%|███████████████████████████████████████████| 49/49 [00:27<00:00,  1.76it/s]\n",
      "100%|███████████████████████████████████████████| 49/49 [00:08<00:00,  5.87it/s]\n",
      "100%|███████████████████████████████████████████| 13/13 [00:02<00:00,  4.67it/s]\n"
     ]
    },
    {
     "name": "stdout",
     "output_type": "stream",
     "text": [
      "# Epoch 34 / 150\n"
     ]
    },
    {
     "name": "stderr",
     "output_type": "stream",
     "text": [
      "100%|███████████████████████████████████████████| 49/49 [00:27<00:00,  1.80it/s]\n",
      "100%|███████████████████████████████████████████| 49/49 [00:08<00:00,  5.86it/s]\n",
      "100%|███████████████████████████████████████████| 13/13 [00:02<00:00,  4.52it/s]\n"
     ]
    },
    {
     "name": "stdout",
     "output_type": "stream",
     "text": [
      "# Epoch 35 / 150\n"
     ]
    },
    {
     "name": "stderr",
     "output_type": "stream",
     "text": [
      "100%|███████████████████████████████████████████| 49/49 [00:27<00:00,  1.77it/s]\n",
      "100%|███████████████████████████████████████████| 49/49 [00:08<00:00,  6.03it/s]\n",
      "100%|███████████████████████████████████████████| 13/13 [00:02<00:00,  4.42it/s]\n"
     ]
    },
    {
     "name": "stdout",
     "output_type": "stream",
     "text": [
      "# Epoch 36 / 150\n"
     ]
    },
    {
     "name": "stderr",
     "output_type": "stream",
     "text": [
      "100%|███████████████████████████████████████████| 49/49 [00:28<00:00,  1.75it/s]\n",
      "100%|███████████████████████████████████████████| 49/49 [00:08<00:00,  5.99it/s]\n",
      "100%|███████████████████████████████████████████| 13/13 [00:02<00:00,  4.61it/s]\n"
     ]
    },
    {
     "name": "stdout",
     "output_type": "stream",
     "text": [
      "# Epoch 37 / 150\n"
     ]
    },
    {
     "name": "stderr",
     "output_type": "stream",
     "text": [
      "100%|███████████████████████████████████████████| 49/49 [00:28<00:00,  1.75it/s]\n",
      "100%|███████████████████████████████████████████| 49/49 [00:08<00:00,  5.97it/s]\n",
      "100%|███████████████████████████████████████████| 13/13 [00:02<00:00,  4.57it/s]\n"
     ]
    },
    {
     "name": "stdout",
     "output_type": "stream",
     "text": [
      "# Epoch 38 / 150\n"
     ]
    },
    {
     "name": "stderr",
     "output_type": "stream",
     "text": [
      "100%|███████████████████████████████████████████| 49/49 [00:28<00:00,  1.75it/s]\n",
      "100%|███████████████████████████████████████████| 49/49 [00:08<00:00,  5.74it/s]\n",
      "100%|███████████████████████████████████████████| 13/13 [00:02<00:00,  4.49it/s]\n"
     ]
    },
    {
     "name": "stdout",
     "output_type": "stream",
     "text": [
      "# Epoch 39 / 150\n"
     ]
    },
    {
     "name": "stderr",
     "output_type": "stream",
     "text": [
      "100%|███████████████████████████████████████████| 49/49 [00:27<00:00,  1.75it/s]\n",
      "100%|███████████████████████████████████████████| 49/49 [00:08<00:00,  6.10it/s]\n",
      "100%|███████████████████████████████████████████| 13/13 [00:02<00:00,  4.76it/s]\n"
     ]
    },
    {
     "name": "stdout",
     "output_type": "stream",
     "text": [
      "# Epoch 40 / 150\n"
     ]
    },
    {
     "name": "stderr",
     "output_type": "stream",
     "text": [
      "100%|███████████████████████████████████████████| 49/49 [00:27<00:00,  1.80it/s]\n",
      "100%|███████████████████████████████████████████| 49/49 [00:08<00:00,  5.98it/s]\n",
      "100%|███████████████████████████████████████████| 13/13 [00:02<00:00,  4.50it/s]\n"
     ]
    },
    {
     "name": "stdout",
     "output_type": "stream",
     "text": [
      "# Epoch 41 / 150\n"
     ]
    },
    {
     "name": "stderr",
     "output_type": "stream",
     "text": [
      "100%|███████████████████████████████████████████| 49/49 [00:27<00:00,  1.78it/s]\n",
      "100%|███████████████████████████████████████████| 49/49 [00:08<00:00,  6.05it/s]\n",
      "100%|███████████████████████████████████████████| 13/13 [00:02<00:00,  4.66it/s]\n"
     ]
    },
    {
     "name": "stdout",
     "output_type": "stream",
     "text": [
      "# Epoch 42 / 150\n"
     ]
    },
    {
     "name": "stderr",
     "output_type": "stream",
     "text": [
      "100%|███████████████████████████████████████████| 49/49 [00:28<00:00,  1.70it/s]\n",
      "100%|███████████████████████████████████████████| 49/49 [00:08<00:00,  5.99it/s]\n",
      "100%|███████████████████████████████████████████| 13/13 [00:02<00:00,  4.54it/s]\n"
     ]
    },
    {
     "name": "stdout",
     "output_type": "stream",
     "text": [
      "# Epoch 43 / 150\n"
     ]
    },
    {
     "name": "stderr",
     "output_type": "stream",
     "text": [
      "100%|███████████████████████████████████████████| 49/49 [00:28<00:00,  1.74it/s]\n",
      "100%|███████████████████████████████████████████| 49/49 [00:08<00:00,  5.80it/s]\n",
      "100%|███████████████████████████████████████████| 13/13 [00:03<00:00,  4.29it/s]\n"
     ]
    },
    {
     "name": "stdout",
     "output_type": "stream",
     "text": [
      "# Epoch 44 / 150\n"
     ]
    },
    {
     "name": "stderr",
     "output_type": "stream",
     "text": [
      "100%|███████████████████████████████████████████| 49/49 [00:27<00:00,  1.80it/s]\n",
      "100%|███████████████████████████████████████████| 49/49 [00:08<00:00,  5.99it/s]\n",
      "100%|███████████████████████████████████████████| 13/13 [00:02<00:00,  4.35it/s]\n"
     ]
    },
    {
     "name": "stdout",
     "output_type": "stream",
     "text": [
      "# Epoch 45 / 150\n"
     ]
    },
    {
     "name": "stderr",
     "output_type": "stream",
     "text": [
      "100%|███████████████████████████████████████████| 49/49 [00:27<00:00,  1.79it/s]\n",
      "100%|███████████████████████████████████████████| 49/49 [00:08<00:00,  5.72it/s]\n",
      "100%|███████████████████████████████████████████| 13/13 [00:02<00:00,  4.48it/s]\n"
     ]
    },
    {
     "name": "stdout",
     "output_type": "stream",
     "text": [
      "# Epoch 46 / 150\n"
     ]
    },
    {
     "name": "stderr",
     "output_type": "stream",
     "text": [
      "100%|███████████████████████████████████████████| 49/49 [00:28<00:00,  1.72it/s]\n",
      "100%|███████████████████████████████████████████| 49/49 [00:08<00:00,  5.93it/s]\n",
      "100%|███████████████████████████████████████████| 13/13 [00:02<00:00,  4.58it/s]\n"
     ]
    },
    {
     "name": "stdout",
     "output_type": "stream",
     "text": [
      "# Epoch 47 / 150\n"
     ]
    },
    {
     "name": "stderr",
     "output_type": "stream",
     "text": [
      "100%|███████████████████████████████████████████| 49/49 [00:27<00:00,  1.75it/s]\n",
      "100%|███████████████████████████████████████████| 49/49 [00:08<00:00,  6.11it/s]\n",
      "100%|███████████████████████████████████████████| 13/13 [00:02<00:00,  4.82it/s]\n"
     ]
    },
    {
     "name": "stdout",
     "output_type": "stream",
     "text": [
      "# Epoch 48 / 150\n"
     ]
    },
    {
     "name": "stderr",
     "output_type": "stream",
     "text": [
      "100%|███████████████████████████████████████████| 49/49 [00:28<00:00,  1.74it/s]\n",
      "100%|███████████████████████████████████████████| 49/49 [00:08<00:00,  5.77it/s]\n",
      "100%|███████████████████████████████████████████| 13/13 [00:03<00:00,  4.27it/s]\n"
     ]
    },
    {
     "name": "stdout",
     "output_type": "stream",
     "text": [
      "# Epoch 49 / 150\n"
     ]
    },
    {
     "name": "stderr",
     "output_type": "stream",
     "text": [
      "100%|███████████████████████████████████████████| 49/49 [00:28<00:00,  1.70it/s]\n",
      "100%|███████████████████████████████████████████| 49/49 [00:08<00:00,  5.93it/s]\n",
      "100%|███████████████████████████████████████████| 13/13 [00:02<00:00,  4.53it/s]\n"
     ]
    },
    {
     "name": "stdout",
     "output_type": "stream",
     "text": [
      "# Epoch 50 / 150\n"
     ]
    },
    {
     "name": "stderr",
     "output_type": "stream",
     "text": [
      "100%|███████████████████████████████████████████| 49/49 [00:27<00:00,  1.75it/s]\n",
      "100%|███████████████████████████████████████████| 49/49 [00:08<00:00,  5.85it/s]\n",
      "100%|███████████████████████████████████████████| 13/13 [00:02<00:00,  4.79it/s]\n"
     ]
    },
    {
     "name": "stdout",
     "output_type": "stream",
     "text": [
      "# Epoch 51 / 150\n"
     ]
    },
    {
     "name": "stderr",
     "output_type": "stream",
     "text": [
      "100%|███████████████████████████████████████████| 49/49 [00:27<00:00,  1.80it/s]\n",
      "100%|███████████████████████████████████████████| 49/49 [00:07<00:00,  6.17it/s]\n",
      "100%|███████████████████████████████████████████| 13/13 [00:02<00:00,  4.54it/s]\n"
     ]
    },
    {
     "name": "stdout",
     "output_type": "stream",
     "text": [
      "# Epoch 52 / 150\n"
     ]
    },
    {
     "name": "stderr",
     "output_type": "stream",
     "text": [
      "100%|███████████████████████████████████████████| 49/49 [00:26<00:00,  1.83it/s]\n",
      "100%|███████████████████████████████████████████| 49/49 [00:08<00:00,  5.85it/s]\n",
      "100%|███████████████████████████████████████████| 13/13 [00:02<00:00,  4.74it/s]\n"
     ]
    },
    {
     "name": "stdout",
     "output_type": "stream",
     "text": [
      "# Epoch 53 / 150\n"
     ]
    },
    {
     "name": "stderr",
     "output_type": "stream",
     "text": [
      "100%|███████████████████████████████████████████| 49/49 [00:28<00:00,  1.73it/s]\n",
      "100%|███████████████████████████████████████████| 49/49 [00:08<00:00,  5.87it/s]\n",
      "100%|███████████████████████████████████████████| 13/13 [00:02<00:00,  4.55it/s]\n"
     ]
    },
    {
     "name": "stdout",
     "output_type": "stream",
     "text": [
      "# Epoch 54 / 150\n"
     ]
    },
    {
     "name": "stderr",
     "output_type": "stream",
     "text": [
      "100%|███████████████████████████████████████████| 49/49 [00:27<00:00,  1.81it/s]\n",
      "100%|███████████████████████████████████████████| 49/49 [00:08<00:00,  5.78it/s]\n",
      "100%|███████████████████████████████████████████| 13/13 [00:02<00:00,  4.35it/s]\n"
     ]
    },
    {
     "name": "stdout",
     "output_type": "stream",
     "text": [
      "# Epoch 55 / 150\n"
     ]
    },
    {
     "name": "stderr",
     "output_type": "stream",
     "text": [
      "100%|███████████████████████████████████████████| 49/49 [00:27<00:00,  1.79it/s]\n",
      "100%|███████████████████████████████████████████| 49/49 [00:08<00:00,  5.76it/s]\n",
      "100%|███████████████████████████████████████████| 13/13 [00:02<00:00,  4.63it/s]\n"
     ]
    },
    {
     "name": "stdout",
     "output_type": "stream",
     "text": [
      "# Epoch 56 / 150\n"
     ]
    },
    {
     "name": "stderr",
     "output_type": "stream",
     "text": [
      "100%|███████████████████████████████████████████| 49/49 [00:27<00:00,  1.76it/s]\n",
      "100%|███████████████████████████████████████████| 49/49 [00:08<00:00,  5.92it/s]\n",
      "100%|███████████████████████████████████████████| 13/13 [00:02<00:00,  4.55it/s]\n"
     ]
    },
    {
     "name": "stdout",
     "output_type": "stream",
     "text": [
      "# Epoch 57 / 150\n"
     ]
    },
    {
     "name": "stderr",
     "output_type": "stream",
     "text": [
      "100%|███████████████████████████████████████████| 49/49 [00:27<00:00,  1.79it/s]\n",
      "100%|███████████████████████████████████████████| 49/49 [00:08<00:00,  5.80it/s]\n",
      "100%|███████████████████████████████████████████| 13/13 [00:02<00:00,  4.35it/s]\n"
     ]
    },
    {
     "name": "stdout",
     "output_type": "stream",
     "text": [
      "# Epoch 58 / 150\n"
     ]
    },
    {
     "name": "stderr",
     "output_type": "stream",
     "text": [
      "100%|███████████████████████████████████████████| 49/49 [00:28<00:00,  1.74it/s]\n",
      "100%|███████████████████████████████████████████| 49/49 [00:08<00:00,  5.76it/s]\n",
      "100%|███████████████████████████████████████████| 13/13 [00:02<00:00,  4.49it/s]\n"
     ]
    },
    {
     "name": "stdout",
     "output_type": "stream",
     "text": [
      "# Epoch 59 / 150\n"
     ]
    },
    {
     "name": "stderr",
     "output_type": "stream",
     "text": [
      "100%|███████████████████████████████████████████| 49/49 [00:27<00:00,  1.78it/s]\n",
      "100%|███████████████████████████████████████████| 49/49 [00:08<00:00,  5.98it/s]\n",
      "100%|███████████████████████████████████████████| 13/13 [00:02<00:00,  4.37it/s]\n"
     ]
    },
    {
     "name": "stdout",
     "output_type": "stream",
     "text": [
      "# Epoch 60 / 150\n"
     ]
    },
    {
     "name": "stderr",
     "output_type": "stream",
     "text": [
      "100%|███████████████████████████████████████████| 49/49 [00:27<00:00,  1.76it/s]\n",
      "100%|███████████████████████████████████████████| 49/49 [00:08<00:00,  5.76it/s]\n",
      "100%|███████████████████████████████████████████| 13/13 [00:02<00:00,  4.55it/s]\n"
     ]
    },
    {
     "name": "stdout",
     "output_type": "stream",
     "text": [
      "# Epoch 61 / 150\n"
     ]
    },
    {
     "name": "stderr",
     "output_type": "stream",
     "text": [
      "100%|███████████████████████████████████████████| 49/49 [00:27<00:00,  1.79it/s]\n",
      "100%|███████████████████████████████████████████| 49/49 [00:08<00:00,  5.72it/s]\n",
      "100%|███████████████████████████████████████████| 13/13 [00:02<00:00,  4.53it/s]\n"
     ]
    },
    {
     "name": "stdout",
     "output_type": "stream",
     "text": [
      "# Epoch 62 / 150\n"
     ]
    },
    {
     "name": "stderr",
     "output_type": "stream",
     "text": [
      "100%|███████████████████████████████████████████| 49/49 [00:27<00:00,  1.76it/s]\n",
      "100%|███████████████████████████████████████████| 49/49 [00:08<00:00,  5.93it/s]\n",
      "100%|███████████████████████████████████████████| 13/13 [00:02<00:00,  4.63it/s]\n"
     ]
    },
    {
     "name": "stdout",
     "output_type": "stream",
     "text": [
      "# Epoch 63 / 150\n"
     ]
    },
    {
     "name": "stderr",
     "output_type": "stream",
     "text": [
      "100%|███████████████████████████████████████████| 49/49 [00:27<00:00,  1.80it/s]\n",
      "100%|███████████████████████████████████████████| 49/49 [00:08<00:00,  5.73it/s]\n",
      "100%|███████████████████████████████████████████| 13/13 [00:02<00:00,  4.35it/s]\n"
     ]
    },
    {
     "name": "stdout",
     "output_type": "stream",
     "text": [
      "# Epoch 64 / 150\n"
     ]
    },
    {
     "name": "stderr",
     "output_type": "stream",
     "text": [
      "100%|███████████████████████████████████████████| 49/49 [00:26<00:00,  1.83it/s]\n",
      "100%|███████████████████████████████████████████| 49/49 [00:08<00:00,  5.90it/s]\n",
      "100%|███████████████████████████████████████████| 13/13 [00:02<00:00,  4.59it/s]\n"
     ]
    },
    {
     "name": "stdout",
     "output_type": "stream",
     "text": [
      "# Epoch 65 / 150\n"
     ]
    },
    {
     "name": "stderr",
     "output_type": "stream",
     "text": [
      "100%|███████████████████████████████████████████| 49/49 [00:26<00:00,  1.82it/s]\n",
      "100%|███████████████████████████████████████████| 49/49 [00:08<00:00,  5.92it/s]\n",
      "100%|███████████████████████████████████████████| 13/13 [00:03<00:00,  4.31it/s]\n"
     ]
    },
    {
     "name": "stdout",
     "output_type": "stream",
     "text": [
      "# Epoch 66 / 150\n"
     ]
    },
    {
     "name": "stderr",
     "output_type": "stream",
     "text": [
      "100%|███████████████████████████████████████████| 49/49 [00:27<00:00,  1.81it/s]\n",
      "100%|███████████████████████████████████████████| 49/49 [00:08<00:00,  5.73it/s]\n",
      "100%|███████████████████████████████████████████| 13/13 [00:02<00:00,  4.72it/s]\n"
     ]
    },
    {
     "name": "stdout",
     "output_type": "stream",
     "text": [
      "# Epoch 67 / 150\n"
     ]
    },
    {
     "name": "stderr",
     "output_type": "stream",
     "text": [
      "100%|███████████████████████████████████████████| 49/49 [00:27<00:00,  1.79it/s]\n",
      "100%|███████████████████████████████████████████| 49/49 [00:07<00:00,  6.37it/s]\n",
      "100%|███████████████████████████████████████████| 13/13 [00:02<00:00,  4.56it/s]\n"
     ]
    },
    {
     "name": "stdout",
     "output_type": "stream",
     "text": [
      "# Epoch 68 / 150\n"
     ]
    },
    {
     "name": "stderr",
     "output_type": "stream",
     "text": [
      "100%|███████████████████████████████████████████| 49/49 [00:27<00:00,  1.78it/s]\n",
      "100%|███████████████████████████████████████████| 49/49 [00:08<00:00,  6.04it/s]\n",
      "100%|███████████████████████████████████████████| 13/13 [00:02<00:00,  4.79it/s]\n"
     ]
    },
    {
     "name": "stdout",
     "output_type": "stream",
     "text": [
      "# Epoch 69 / 150\n"
     ]
    },
    {
     "name": "stderr",
     "output_type": "stream",
     "text": [
      "100%|███████████████████████████████████████████| 49/49 [00:26<00:00,  1.83it/s]\n",
      "100%|███████████████████████████████████████████| 49/49 [00:08<00:00,  6.02it/s]\n",
      "100%|███████████████████████████████████████████| 13/13 [00:02<00:00,  4.35it/s]\n"
     ]
    },
    {
     "name": "stdout",
     "output_type": "stream",
     "text": [
      "# Epoch 70 / 150\n"
     ]
    },
    {
     "name": "stderr",
     "output_type": "stream",
     "text": [
      "100%|███████████████████████████████████████████| 49/49 [00:26<00:00,  1.83it/s]\n",
      "100%|███████████████████████████████████████████| 49/49 [00:08<00:00,  5.68it/s]\n",
      "100%|███████████████████████████████████████████| 13/13 [00:02<00:00,  4.83it/s]\n"
     ]
    },
    {
     "name": "stdout",
     "output_type": "stream",
     "text": [
      "# Epoch 71 / 150\n"
     ]
    },
    {
     "name": "stderr",
     "output_type": "stream",
     "text": [
      "100%|███████████████████████████████████████████| 49/49 [00:27<00:00,  1.76it/s]\n",
      "100%|███████████████████████████████████████████| 49/49 [00:08<00:00,  5.85it/s]\n",
      "100%|███████████████████████████████████████████| 13/13 [00:02<00:00,  4.49it/s]\n"
     ]
    },
    {
     "name": "stdout",
     "output_type": "stream",
     "text": [
      "# Epoch 72 / 150\n"
     ]
    },
    {
     "name": "stderr",
     "output_type": "stream",
     "text": [
      "100%|███████████████████████████████████████████| 49/49 [00:27<00:00,  1.76it/s]\n",
      "100%|███████████████████████████████████████████| 49/49 [00:08<00:00,  5.94it/s]\n",
      "100%|███████████████████████████████████████████| 13/13 [00:02<00:00,  4.45it/s]\n"
     ]
    },
    {
     "name": "stdout",
     "output_type": "stream",
     "text": [
      "# Epoch 73 / 150\n"
     ]
    },
    {
     "name": "stderr",
     "output_type": "stream",
     "text": [
      "100%|███████████████████████████████████████████| 49/49 [00:27<00:00,  1.78it/s]\n",
      "100%|███████████████████████████████████████████| 49/49 [00:08<00:00,  5.84it/s]\n",
      "100%|███████████████████████████████████████████| 13/13 [00:02<00:00,  4.36it/s]\n"
     ]
    },
    {
     "name": "stdout",
     "output_type": "stream",
     "text": [
      "# Epoch 74 / 150\n"
     ]
    },
    {
     "name": "stderr",
     "output_type": "stream",
     "text": [
      "100%|███████████████████████████████████████████| 49/49 [00:27<00:00,  1.80it/s]\n",
      "100%|███████████████████████████████████████████| 49/49 [00:08<00:00,  5.99it/s]\n",
      "100%|███████████████████████████████████████████| 13/13 [00:02<00:00,  4.40it/s]\n"
     ]
    },
    {
     "name": "stdout",
     "output_type": "stream",
     "text": [
      "# Epoch 75 / 150\n"
     ]
    },
    {
     "name": "stderr",
     "output_type": "stream",
     "text": [
      "100%|███████████████████████████████████████████| 49/49 [00:27<00:00,  1.76it/s]\n",
      "100%|███████████████████████████████████████████| 49/49 [00:08<00:00,  6.04it/s]\n",
      "100%|███████████████████████████████████████████| 13/13 [00:02<00:00,  4.86it/s]\n"
     ]
    },
    {
     "name": "stdout",
     "output_type": "stream",
     "text": [
      "# Epoch 76 / 150\n"
     ]
    },
    {
     "name": "stderr",
     "output_type": "stream",
     "text": [
      "100%|███████████████████████████████████████████| 49/49 [00:26<00:00,  1.82it/s]\n",
      "100%|███████████████████████████████████████████| 49/49 [00:08<00:00,  6.02it/s]\n",
      "100%|███████████████████████████████████████████| 13/13 [00:02<00:00,  4.61it/s]\n"
     ]
    },
    {
     "name": "stdout",
     "output_type": "stream",
     "text": [
      "# Epoch 77 / 150\n"
     ]
    },
    {
     "name": "stderr",
     "output_type": "stream",
     "text": [
      "100%|███████████████████████████████████████████| 49/49 [00:26<00:00,  1.82it/s]\n",
      "100%|███████████████████████████████████████████| 49/49 [00:08<00:00,  5.84it/s]\n",
      "100%|███████████████████████████████████████████| 13/13 [00:02<00:00,  4.74it/s]\n"
     ]
    },
    {
     "name": "stdout",
     "output_type": "stream",
     "text": [
      "# Epoch 78 / 150\n"
     ]
    },
    {
     "name": "stderr",
     "output_type": "stream",
     "text": [
      "100%|███████████████████████████████████████████| 49/49 [00:27<00:00,  1.76it/s]\n",
      "100%|███████████████████████████████████████████| 49/49 [00:08<00:00,  5.67it/s]\n",
      "100%|███████████████████████████████████████████| 13/13 [00:02<00:00,  4.76it/s]\n"
     ]
    },
    {
     "name": "stdout",
     "output_type": "stream",
     "text": [
      "# Epoch 79 / 150\n"
     ]
    },
    {
     "name": "stderr",
     "output_type": "stream",
     "text": [
      "100%|███████████████████████████████████████████| 49/49 [00:27<00:00,  1.77it/s]\n",
      "100%|███████████████████████████████████████████| 49/49 [00:08<00:00,  5.94it/s]\n",
      "100%|███████████████████████████████████████████| 13/13 [00:02<00:00,  4.81it/s]\n"
     ]
    },
    {
     "name": "stdout",
     "output_type": "stream",
     "text": [
      "# Epoch 80 / 150\n"
     ]
    },
    {
     "name": "stderr",
     "output_type": "stream",
     "text": [
      "100%|███████████████████████████████████████████| 49/49 [00:26<00:00,  1.83it/s]\n",
      "100%|███████████████████████████████████████████| 49/49 [00:08<00:00,  5.77it/s]\n",
      "100%|███████████████████████████████████████████| 13/13 [00:02<00:00,  4.38it/s]\n"
     ]
    },
    {
     "name": "stdout",
     "output_type": "stream",
     "text": [
      "# Epoch 81 / 150\n"
     ]
    },
    {
     "name": "stderr",
     "output_type": "stream",
     "text": [
      "100%|███████████████████████████████████████████| 49/49 [00:28<00:00,  1.75it/s]\n",
      "100%|███████████████████████████████████████████| 49/49 [00:08<00:00,  5.89it/s]\n",
      "100%|███████████████████████████████████████████| 13/13 [00:02<00:00,  4.69it/s]\n"
     ]
    },
    {
     "name": "stdout",
     "output_type": "stream",
     "text": [
      "# Epoch 82 / 150\n"
     ]
    },
    {
     "name": "stderr",
     "output_type": "stream",
     "text": [
      "100%|███████████████████████████████████████████| 49/49 [00:28<00:00,  1.72it/s]\n",
      "100%|███████████████████████████████████████████| 49/49 [00:08<00:00,  5.93it/s]\n",
      "100%|███████████████████████████████████████████| 13/13 [00:02<00:00,  4.72it/s]\n"
     ]
    },
    {
     "name": "stdout",
     "output_type": "stream",
     "text": [
      "# Epoch 83 / 150\n"
     ]
    },
    {
     "name": "stderr",
     "output_type": "stream",
     "text": [
      "100%|███████████████████████████████████████████| 49/49 [00:27<00:00,  1.81it/s]\n",
      "100%|███████████████████████████████████████████| 49/49 [00:08<00:00,  5.88it/s]\n",
      "100%|███████████████████████████████████████████| 13/13 [00:02<00:00,  4.69it/s]\n"
     ]
    },
    {
     "name": "stdout",
     "output_type": "stream",
     "text": [
      "# Epoch 84 / 150\n"
     ]
    },
    {
     "name": "stderr",
     "output_type": "stream",
     "text": [
      "100%|███████████████████████████████████████████| 49/49 [00:27<00:00,  1.79it/s]\n",
      "100%|███████████████████████████████████████████| 49/49 [00:08<00:00,  5.85it/s]\n",
      "100%|███████████████████████████████████████████| 13/13 [00:03<00:00,  4.28it/s]\n"
     ]
    },
    {
     "name": "stdout",
     "output_type": "stream",
     "text": [
      "# Epoch 85 / 150\n"
     ]
    },
    {
     "name": "stderr",
     "output_type": "stream",
     "text": [
      "100%|███████████████████████████████████████████| 49/49 [00:27<00:00,  1.75it/s]\n",
      "100%|███████████████████████████████████████████| 49/49 [00:08<00:00,  6.10it/s]\n",
      "100%|███████████████████████████████████████████| 13/13 [00:03<00:00,  4.24it/s]\n"
     ]
    },
    {
     "name": "stdout",
     "output_type": "stream",
     "text": [
      "# Epoch 86 / 150\n"
     ]
    },
    {
     "name": "stderr",
     "output_type": "stream",
     "text": [
      "100%|███████████████████████████████████████████| 49/49 [00:28<00:00,  1.73it/s]\n",
      "100%|███████████████████████████████████████████| 49/49 [00:08<00:00,  5.90it/s]\n",
      "100%|███████████████████████████████████████████| 13/13 [00:02<00:00,  4.84it/s]\n"
     ]
    },
    {
     "name": "stdout",
     "output_type": "stream",
     "text": [
      "# Epoch 87 / 150\n"
     ]
    },
    {
     "name": "stderr",
     "output_type": "stream",
     "text": [
      "100%|███████████████████████████████████████████| 49/49 [00:27<00:00,  1.75it/s]\n",
      "100%|███████████████████████████████████████████| 49/49 [00:08<00:00,  5.99it/s]\n",
      "100%|███████████████████████████████████████████| 13/13 [00:02<00:00,  4.40it/s]\n"
     ]
    },
    {
     "name": "stdout",
     "output_type": "stream",
     "text": [
      "# Epoch 88 / 150\n"
     ]
    },
    {
     "name": "stderr",
     "output_type": "stream",
     "text": [
      "100%|███████████████████████████████████████████| 49/49 [00:27<00:00,  1.79it/s]\n",
      "100%|███████████████████████████████████████████| 49/49 [00:08<00:00,  5.98it/s]\n",
      "100%|███████████████████████████████████████████| 13/13 [00:02<00:00,  4.51it/s]\n"
     ]
    },
    {
     "name": "stdout",
     "output_type": "stream",
     "text": [
      "# Epoch 89 / 150\n"
     ]
    },
    {
     "name": "stderr",
     "output_type": "stream",
     "text": [
      "100%|███████████████████████████████████████████| 49/49 [00:26<00:00,  1.83it/s]\n",
      "100%|███████████████████████████████████████████| 49/49 [00:08<00:00,  5.81it/s]\n",
      "100%|███████████████████████████████████████████| 13/13 [00:02<00:00,  4.68it/s]\n"
     ]
    },
    {
     "name": "stdout",
     "output_type": "stream",
     "text": [
      "# Epoch 90 / 150\n"
     ]
    },
    {
     "name": "stderr",
     "output_type": "stream",
     "text": [
      "100%|███████████████████████████████████████████| 49/49 [00:27<00:00,  1.80it/s]\n",
      "100%|███████████████████████████████████████████| 49/49 [00:08<00:00,  5.88it/s]\n",
      "100%|███████████████████████████████████████████| 13/13 [00:02<00:00,  4.72it/s]\n"
     ]
    },
    {
     "name": "stdout",
     "output_type": "stream",
     "text": [
      "# Epoch 91 / 150\n"
     ]
    },
    {
     "name": "stderr",
     "output_type": "stream",
     "text": [
      "100%|███████████████████████████████████████████| 49/49 [00:27<00:00,  1.81it/s]\n",
      "100%|███████████████████████████████████████████| 49/49 [00:08<00:00,  5.81it/s]\n",
      "100%|███████████████████████████████████████████| 13/13 [00:02<00:00,  4.54it/s]\n"
     ]
    },
    {
     "name": "stdout",
     "output_type": "stream",
     "text": [
      "# Epoch 92 / 150\n"
     ]
    },
    {
     "name": "stderr",
     "output_type": "stream",
     "text": [
      "100%|███████████████████████████████████████████| 49/49 [00:26<00:00,  1.85it/s]\n",
      "100%|███████████████████████████████████████████| 49/49 [00:08<00:00,  6.08it/s]\n",
      "100%|███████████████████████████████████████████| 13/13 [00:02<00:00,  4.66it/s]\n"
     ]
    },
    {
     "name": "stdout",
     "output_type": "stream",
     "text": [
      "# Epoch 93 / 150\n"
     ]
    },
    {
     "name": "stderr",
     "output_type": "stream",
     "text": [
      "100%|███████████████████████████████████████████| 49/49 [00:27<00:00,  1.76it/s]\n",
      "100%|███████████████████████████████████████████| 49/49 [00:08<00:00,  5.90it/s]\n",
      "100%|███████████████████████████████████████████| 13/13 [00:02<00:00,  4.49it/s]\n"
     ]
    },
    {
     "name": "stdout",
     "output_type": "stream",
     "text": [
      "# Epoch 94 / 150\n"
     ]
    },
    {
     "name": "stderr",
     "output_type": "stream",
     "text": [
      "100%|███████████████████████████████████████████| 49/49 [00:26<00:00,  1.82it/s]\n",
      "100%|███████████████████████████████████████████| 49/49 [00:08<00:00,  5.83it/s]\n",
      "100%|███████████████████████████████████████████| 13/13 [00:02<00:00,  4.36it/s]\n"
     ]
    },
    {
     "name": "stdout",
     "output_type": "stream",
     "text": [
      "# Epoch 95 / 150\n"
     ]
    },
    {
     "name": "stderr",
     "output_type": "stream",
     "text": [
      "100%|███████████████████████████████████████████| 49/49 [00:28<00:00,  1.71it/s]\n",
      "100%|███████████████████████████████████████████| 49/49 [00:08<00:00,  5.90it/s]\n",
      "100%|███████████████████████████████████████████| 13/13 [00:02<00:00,  4.45it/s]\n"
     ]
    },
    {
     "name": "stdout",
     "output_type": "stream",
     "text": [
      "# Epoch 96 / 150\n"
     ]
    },
    {
     "name": "stderr",
     "output_type": "stream",
     "text": [
      "100%|███████████████████████████████████████████| 49/49 [00:27<00:00,  1.81it/s]\n",
      "100%|███████████████████████████████████████████| 49/49 [00:08<00:00,  5.88it/s]\n",
      "100%|███████████████████████████████████████████| 13/13 [00:02<00:00,  4.75it/s]\n"
     ]
    },
    {
     "name": "stdout",
     "output_type": "stream",
     "text": [
      "# Epoch 97 / 150\n"
     ]
    },
    {
     "name": "stderr",
     "output_type": "stream",
     "text": [
      "100%|███████████████████████████████████████████| 49/49 [00:28<00:00,  1.71it/s]\n",
      "100%|███████████████████████████████████████████| 49/49 [00:08<00:00,  5.83it/s]\n",
      "100%|███████████████████████████████████████████| 13/13 [00:02<00:00,  4.36it/s]\n"
     ]
    },
    {
     "name": "stdout",
     "output_type": "stream",
     "text": [
      "# Epoch 98 / 150\n"
     ]
    },
    {
     "name": "stderr",
     "output_type": "stream",
     "text": [
      "100%|███████████████████████████████████████████| 49/49 [00:26<00:00,  1.85it/s]\n",
      "100%|███████████████████████████████████████████| 49/49 [00:08<00:00,  5.96it/s]\n",
      "100%|███████████████████████████████████████████| 13/13 [00:02<00:00,  4.64it/s]\n"
     ]
    },
    {
     "name": "stdout",
     "output_type": "stream",
     "text": [
      "# Epoch 99 / 150\n"
     ]
    },
    {
     "name": "stderr",
     "output_type": "stream",
     "text": [
      "100%|███████████████████████████████████████████| 49/49 [00:27<00:00,  1.77it/s]\n",
      "100%|███████████████████████████████████████████| 49/49 [00:08<00:00,  5.81it/s]\n",
      "100%|███████████████████████████████████████████| 13/13 [00:03<00:00,  4.33it/s]\n"
     ]
    },
    {
     "name": "stdout",
     "output_type": "stream",
     "text": [
      "# Epoch 100 / 150\n"
     ]
    },
    {
     "name": "stderr",
     "output_type": "stream",
     "text": [
      "100%|███████████████████████████████████████████| 49/49 [00:27<00:00,  1.79it/s]\n",
      "100%|███████████████████████████████████████████| 49/49 [00:08<00:00,  5.81it/s]\n",
      "100%|███████████████████████████████████████████| 13/13 [00:02<00:00,  4.78it/s]\n"
     ]
    },
    {
     "name": "stdout",
     "output_type": "stream",
     "text": [
      "# Epoch 101 / 150\n"
     ]
    },
    {
     "name": "stderr",
     "output_type": "stream",
     "text": [
      "100%|███████████████████████████████████████████| 49/49 [00:27<00:00,  1.77it/s]\n",
      "100%|███████████████████████████████████████████| 49/49 [00:08<00:00,  5.85it/s]\n",
      "100%|███████████████████████████████████████████| 13/13 [00:02<00:00,  4.73it/s]\n"
     ]
    },
    {
     "name": "stdout",
     "output_type": "stream",
     "text": [
      "# Epoch 102 / 150\n"
     ]
    },
    {
     "name": "stderr",
     "output_type": "stream",
     "text": [
      "100%|███████████████████████████████████████████| 49/49 [00:28<00:00,  1.74it/s]\n",
      "100%|███████████████████████████████████████████| 49/49 [00:08<00:00,  6.04it/s]\n",
      "100%|███████████████████████████████████████████| 13/13 [00:02<00:00,  4.48it/s]\n"
     ]
    },
    {
     "name": "stdout",
     "output_type": "stream",
     "text": [
      "# Epoch 103 / 150\n"
     ]
    },
    {
     "name": "stderr",
     "output_type": "stream",
     "text": [
      "100%|███████████████████████████████████████████| 49/49 [00:27<00:00,  1.80it/s]\n",
      "100%|███████████████████████████████████████████| 49/49 [00:08<00:00,  5.77it/s]\n",
      "100%|███████████████████████████████████████████| 13/13 [00:02<00:00,  4.34it/s]\n"
     ]
    },
    {
     "name": "stdout",
     "output_type": "stream",
     "text": [
      "# Epoch 104 / 150\n"
     ]
    },
    {
     "name": "stderr",
     "output_type": "stream",
     "text": [
      "100%|███████████████████████████████████████████| 49/49 [00:27<00:00,  1.77it/s]\n",
      "100%|███████████████████████████████████████████| 49/49 [00:08<00:00,  5.73it/s]\n",
      "100%|███████████████████████████████████████████| 13/13 [00:02<00:00,  4.66it/s]\n"
     ]
    },
    {
     "name": "stdout",
     "output_type": "stream",
     "text": [
      "# Epoch 105 / 150\n"
     ]
    },
    {
     "name": "stderr",
     "output_type": "stream",
     "text": [
      "100%|███████████████████████████████████████████| 49/49 [00:27<00:00,  1.79it/s]\n",
      "100%|███████████████████████████████████████████| 49/49 [00:08<00:00,  5.87it/s]\n",
      "100%|███████████████████████████████████████████| 13/13 [00:02<00:00,  4.60it/s]\n"
     ]
    },
    {
     "name": "stdout",
     "output_type": "stream",
     "text": [
      "# Epoch 106 / 150\n"
     ]
    },
    {
     "name": "stderr",
     "output_type": "stream",
     "text": [
      "100%|███████████████████████████████████████████| 49/49 [00:27<00:00,  1.81it/s]\n",
      "100%|███████████████████████████████████████████| 49/49 [00:08<00:00,  5.85it/s]\n",
      "100%|███████████████████████████████████████████| 13/13 [00:02<00:00,  4.51it/s]\n"
     ]
    },
    {
     "name": "stdout",
     "output_type": "stream",
     "text": [
      "# Epoch 107 / 150\n"
     ]
    },
    {
     "name": "stderr",
     "output_type": "stream",
     "text": [
      "100%|███████████████████████████████████████████| 49/49 [00:27<00:00,  1.80it/s]\n",
      "100%|███████████████████████████████████████████| 49/49 [00:08<00:00,  5.78it/s]\n",
      "100%|███████████████████████████████████████████| 13/13 [00:03<00:00,  4.27it/s]\n"
     ]
    },
    {
     "name": "stdout",
     "output_type": "stream",
     "text": [
      "# Epoch 108 / 150\n"
     ]
    },
    {
     "name": "stderr",
     "output_type": "stream",
     "text": [
      "100%|███████████████████████████████████████████| 49/49 [00:26<00:00,  1.83it/s]\n",
      "100%|███████████████████████████████████████████| 49/49 [00:08<00:00,  6.10it/s]\n",
      "100%|███████████████████████████████████████████| 13/13 [00:02<00:00,  4.63it/s]\n"
     ]
    },
    {
     "name": "stdout",
     "output_type": "stream",
     "text": [
      "# Epoch 109 / 150\n"
     ]
    },
    {
     "name": "stderr",
     "output_type": "stream",
     "text": [
      "100%|███████████████████████████████████████████| 49/49 [00:27<00:00,  1.76it/s]\n",
      "100%|███████████████████████████████████████████| 49/49 [00:08<00:00,  5.87it/s]\n",
      "100%|███████████████████████████████████████████| 13/13 [00:02<00:00,  4.74it/s]\n"
     ]
    },
    {
     "name": "stdout",
     "output_type": "stream",
     "text": [
      "# Epoch 110 / 150\n"
     ]
    },
    {
     "name": "stderr",
     "output_type": "stream",
     "text": [
      "100%|███████████████████████████████████████████| 49/49 [00:26<00:00,  1.82it/s]\n",
      "100%|███████████████████████████████████████████| 49/49 [00:08<00:00,  5.88it/s]\n",
      "100%|███████████████████████████████████████████| 13/13 [00:02<00:00,  4.81it/s]\n"
     ]
    },
    {
     "name": "stdout",
     "output_type": "stream",
     "text": [
      "# Epoch 111 / 150\n"
     ]
    },
    {
     "name": "stderr",
     "output_type": "stream",
     "text": [
      "100%|███████████████████████████████████████████| 49/49 [00:27<00:00,  1.80it/s]\n",
      "100%|███████████████████████████████████████████| 49/49 [00:08<00:00,  6.00it/s]\n",
      "100%|███████████████████████████████████████████| 13/13 [00:02<00:00,  4.44it/s]\n"
     ]
    },
    {
     "name": "stdout",
     "output_type": "stream",
     "text": [
      "# Epoch 112 / 150\n"
     ]
    },
    {
     "name": "stderr",
     "output_type": "stream",
     "text": [
      "100%|███████████████████████████████████████████| 49/49 [00:26<00:00,  1.82it/s]\n",
      "100%|███████████████████████████████████████████| 49/49 [00:08<00:00,  6.02it/s]\n",
      "100%|███████████████████████████████████████████| 13/13 [00:02<00:00,  4.56it/s]\n"
     ]
    },
    {
     "name": "stdout",
     "output_type": "stream",
     "text": [
      "# Epoch 113 / 150\n"
     ]
    },
    {
     "name": "stderr",
     "output_type": "stream",
     "text": [
      "100%|███████████████████████████████████████████| 49/49 [00:27<00:00,  1.78it/s]\n",
      "100%|███████████████████████████████████████████| 49/49 [00:08<00:00,  5.68it/s]\n",
      "100%|███████████████████████████████████████████| 13/13 [00:02<00:00,  4.62it/s]\n"
     ]
    },
    {
     "name": "stdout",
     "output_type": "stream",
     "text": [
      "# Epoch 114 / 150\n"
     ]
    },
    {
     "name": "stderr",
     "output_type": "stream",
     "text": [
      "100%|███████████████████████████████████████████| 49/49 [00:27<00:00,  1.79it/s]\n",
      "100%|███████████████████████████████████████████| 49/49 [00:08<00:00,  5.84it/s]\n",
      "100%|███████████████████████████████████████████| 13/13 [00:02<00:00,  4.69it/s]\n"
     ]
    },
    {
     "name": "stdout",
     "output_type": "stream",
     "text": [
      "# Epoch 115 / 150\n"
     ]
    },
    {
     "name": "stderr",
     "output_type": "stream",
     "text": [
      "100%|███████████████████████████████████████████| 49/49 [00:27<00:00,  1.81it/s]\n",
      "100%|███████████████████████████████████████████| 49/49 [00:08<00:00,  5.85it/s]\n",
      "100%|███████████████████████████████████████████| 13/13 [00:02<00:00,  4.80it/s]\n"
     ]
    },
    {
     "name": "stdout",
     "output_type": "stream",
     "text": [
      "# Epoch 116 / 150\n"
     ]
    },
    {
     "name": "stderr",
     "output_type": "stream",
     "text": [
      "100%|███████████████████████████████████████████| 49/49 [00:27<00:00,  1.79it/s]\n",
      "100%|███████████████████████████████████████████| 49/49 [00:08<00:00,  5.97it/s]\n",
      "100%|███████████████████████████████████████████| 13/13 [00:02<00:00,  4.60it/s]\n"
     ]
    },
    {
     "name": "stdout",
     "output_type": "stream",
     "text": [
      "# Epoch 117 / 150\n"
     ]
    },
    {
     "name": "stderr",
     "output_type": "stream",
     "text": [
      "100%|███████████████████████████████████████████| 49/49 [00:27<00:00,  1.81it/s]\n",
      "100%|███████████████████████████████████████████| 49/49 [00:08<00:00,  5.93it/s]\n",
      "100%|███████████████████████████████████████████| 13/13 [00:02<00:00,  4.43it/s]\n"
     ]
    },
    {
     "name": "stdout",
     "output_type": "stream",
     "text": [
      "# Epoch 118 / 150\n"
     ]
    },
    {
     "name": "stderr",
     "output_type": "stream",
     "text": [
      "100%|███████████████████████████████████████████| 49/49 [00:27<00:00,  1.76it/s]\n",
      "100%|███████████████████████████████████████████| 49/49 [00:08<00:00,  5.93it/s]\n",
      "100%|███████████████████████████████████████████| 13/13 [00:02<00:00,  4.63it/s]\n"
     ]
    },
    {
     "name": "stdout",
     "output_type": "stream",
     "text": [
      "# Epoch 119 / 150\n"
     ]
    },
    {
     "name": "stderr",
     "output_type": "stream",
     "text": [
      "100%|███████████████████████████████████████████| 49/49 [00:27<00:00,  1.76it/s]\n",
      "100%|███████████████████████████████████████████| 49/49 [00:08<00:00,  5.77it/s]\n",
      "100%|███████████████████████████████████████████| 13/13 [00:02<00:00,  4.72it/s]\n"
     ]
    },
    {
     "name": "stdout",
     "output_type": "stream",
     "text": [
      "# Epoch 120 / 150\n"
     ]
    },
    {
     "name": "stderr",
     "output_type": "stream",
     "text": [
      "100%|███████████████████████████████████████████| 49/49 [00:28<00:00,  1.71it/s]\n",
      "100%|███████████████████████████████████████████| 49/49 [00:08<00:00,  5.85it/s]\n",
      "100%|███████████████████████████████████████████| 13/13 [00:02<00:00,  4.46it/s]\n"
     ]
    },
    {
     "name": "stdout",
     "output_type": "stream",
     "text": [
      "# Epoch 121 / 150\n"
     ]
    },
    {
     "name": "stderr",
     "output_type": "stream",
     "text": [
      "100%|███████████████████████████████████████████| 49/49 [00:26<00:00,  1.82it/s]\n",
      "100%|███████████████████████████████████████████| 49/49 [00:08<00:00,  5.84it/s]\n",
      "100%|███████████████████████████████████████████| 13/13 [00:02<00:00,  4.53it/s]\n"
     ]
    },
    {
     "name": "stdout",
     "output_type": "stream",
     "text": [
      "# Epoch 122 / 150\n"
     ]
    },
    {
     "name": "stderr",
     "output_type": "stream",
     "text": [
      "100%|███████████████████████████████████████████| 49/49 [00:28<00:00,  1.75it/s]\n",
      "100%|███████████████████████████████████████████| 49/49 [00:08<00:00,  6.07it/s]\n",
      "100%|███████████████████████████████████████████| 13/13 [00:02<00:00,  4.51it/s]\n"
     ]
    },
    {
     "name": "stdout",
     "output_type": "stream",
     "text": [
      "# Epoch 123 / 150\n"
     ]
    },
    {
     "name": "stderr",
     "output_type": "stream",
     "text": [
      "100%|███████████████████████████████████████████| 49/49 [00:27<00:00,  1.79it/s]\n",
      "100%|███████████████████████████████████████████| 49/49 [00:08<00:00,  5.97it/s]\n",
      "100%|███████████████████████████████████████████| 13/13 [00:02<00:00,  4.58it/s]\n"
     ]
    },
    {
     "name": "stdout",
     "output_type": "stream",
     "text": [
      "# Epoch 124 / 150\n"
     ]
    },
    {
     "name": "stderr",
     "output_type": "stream",
     "text": [
      "100%|███████████████████████████████████████████| 49/49 [00:27<00:00,  1.80it/s]\n",
      "100%|███████████████████████████████████████████| 49/49 [00:08<00:00,  5.78it/s]\n",
      "100%|███████████████████████████████████████████| 13/13 [00:02<00:00,  4.79it/s]\n"
     ]
    },
    {
     "name": "stdout",
     "output_type": "stream",
     "text": [
      "# Epoch 125 / 150\n"
     ]
    },
    {
     "name": "stderr",
     "output_type": "stream",
     "text": [
      "100%|███████████████████████████████████████████| 49/49 [00:26<00:00,  1.83it/s]\n",
      "100%|███████████████████████████████████████████| 49/49 [00:08<00:00,  5.72it/s]\n",
      "100%|███████████████████████████████████████████| 13/13 [00:02<00:00,  4.74it/s]\n"
     ]
    },
    {
     "name": "stdout",
     "output_type": "stream",
     "text": [
      "# Epoch 126 / 150\n"
     ]
    },
    {
     "name": "stderr",
     "output_type": "stream",
     "text": [
      "100%|███████████████████████████████████████████| 49/49 [00:28<00:00,  1.74it/s]\n",
      "100%|███████████████████████████████████████████| 49/49 [00:07<00:00,  6.20it/s]\n",
      "100%|███████████████████████████████████████████| 13/13 [00:02<00:00,  4.69it/s]\n"
     ]
    },
    {
     "name": "stdout",
     "output_type": "stream",
     "text": [
      "# Epoch 127 / 150\n"
     ]
    },
    {
     "name": "stderr",
     "output_type": "stream",
     "text": [
      "100%|███████████████████████████████████████████| 49/49 [00:27<00:00,  1.76it/s]\n",
      "100%|███████████████████████████████████████████| 49/49 [00:08<00:00,  5.84it/s]\n",
      "100%|███████████████████████████████████████████| 13/13 [00:02<00:00,  4.62it/s]\n"
     ]
    },
    {
     "name": "stdout",
     "output_type": "stream",
     "text": [
      "# Epoch 128 / 150\n"
     ]
    },
    {
     "name": "stderr",
     "output_type": "stream",
     "text": [
      "100%|███████████████████████████████████████████| 49/49 [00:28<00:00,  1.72it/s]\n",
      "100%|███████████████████████████████████████████| 49/49 [00:08<00:00,  6.02it/s]\n",
      "100%|███████████████████████████████████████████| 13/13 [00:02<00:00,  4.41it/s]\n"
     ]
    },
    {
     "name": "stdout",
     "output_type": "stream",
     "text": [
      "# Epoch 129 / 150\n"
     ]
    },
    {
     "name": "stderr",
     "output_type": "stream",
     "text": [
      "100%|███████████████████████████████████████████| 49/49 [00:27<00:00,  1.81it/s]\n",
      "100%|███████████████████████████████████████████| 49/49 [00:08<00:00,  5.98it/s]\n",
      "100%|███████████████████████████████████████████| 13/13 [00:02<00:00,  4.74it/s]\n"
     ]
    },
    {
     "name": "stdout",
     "output_type": "stream",
     "text": [
      "# Epoch 130 / 150\n"
     ]
    },
    {
     "name": "stderr",
     "output_type": "stream",
     "text": [
      "100%|███████████████████████████████████████████| 49/49 [00:27<00:00,  1.79it/s]\n",
      "100%|███████████████████████████████████████████| 49/49 [00:08<00:00,  5.83it/s]\n",
      "100%|███████████████████████████████████████████| 13/13 [00:02<00:00,  4.44it/s]\n"
     ]
    },
    {
     "name": "stdout",
     "output_type": "stream",
     "text": [
      "# Epoch 131 / 150\n"
     ]
    },
    {
     "name": "stderr",
     "output_type": "stream",
     "text": [
      "100%|███████████████████████████████████████████| 49/49 [00:27<00:00,  1.78it/s]\n",
      "100%|███████████████████████████████████████████| 49/49 [00:08<00:00,  5.72it/s]\n",
      "100%|███████████████████████████████████████████| 13/13 [00:03<00:00,  4.23it/s]\n"
     ]
    },
    {
     "name": "stdout",
     "output_type": "stream",
     "text": [
      "# Epoch 132 / 150\n"
     ]
    },
    {
     "name": "stderr",
     "output_type": "stream",
     "text": [
      "100%|███████████████████████████████████████████| 49/49 [00:27<00:00,  1.79it/s]\n",
      "100%|███████████████████████████████████████████| 49/49 [00:08<00:00,  5.77it/s]\n",
      "100%|███████████████████████████████████████████| 13/13 [00:02<00:00,  4.79it/s]\n"
     ]
    },
    {
     "name": "stdout",
     "output_type": "stream",
     "text": [
      "# Epoch 133 / 150\n"
     ]
    },
    {
     "name": "stderr",
     "output_type": "stream",
     "text": [
      "100%|███████████████████████████████████████████| 49/49 [00:26<00:00,  1.82it/s]\n",
      "100%|███████████████████████████████████████████| 49/49 [00:08<00:00,  5.91it/s]\n",
      "100%|███████████████████████████████████████████| 13/13 [00:02<00:00,  4.75it/s]\n"
     ]
    },
    {
     "name": "stdout",
     "output_type": "stream",
     "text": [
      "# Epoch 134 / 150\n"
     ]
    },
    {
     "name": "stderr",
     "output_type": "stream",
     "text": [
      "100%|███████████████████████████████████████████| 49/49 [00:26<00:00,  1.82it/s]\n",
      "100%|███████████████████████████████████████████| 49/49 [00:08<00:00,  6.00it/s]\n",
      "100%|███████████████████████████████████████████| 13/13 [00:02<00:00,  4.96it/s]\n"
     ]
    },
    {
     "name": "stdout",
     "output_type": "stream",
     "text": [
      "# Epoch 135 / 150\n"
     ]
    },
    {
     "name": "stderr",
     "output_type": "stream",
     "text": [
      "100%|███████████████████████████████████████████| 49/49 [00:28<00:00,  1.72it/s]\n",
      "100%|███████████████████████████████████████████| 49/49 [00:08<00:00,  5.98it/s]\n",
      "100%|███████████████████████████████████████████| 13/13 [00:02<00:00,  4.56it/s]\n"
     ]
    },
    {
     "name": "stdout",
     "output_type": "stream",
     "text": [
      "# Epoch 136 / 150\n"
     ]
    },
    {
     "name": "stderr",
     "output_type": "stream",
     "text": [
      "100%|███████████████████████████████████████████| 49/49 [00:27<00:00,  1.78it/s]\n",
      "100%|███████████████████████████████████████████| 49/49 [00:08<00:00,  5.99it/s]\n",
      "100%|███████████████████████████████████████████| 13/13 [00:02<00:00,  4.52it/s]\n"
     ]
    },
    {
     "name": "stdout",
     "output_type": "stream",
     "text": [
      "# Epoch 137 / 150\n"
     ]
    },
    {
     "name": "stderr",
     "output_type": "stream",
     "text": [
      "100%|███████████████████████████████████████████| 49/49 [00:27<00:00,  1.80it/s]\n",
      "100%|███████████████████████████████████████████| 49/49 [00:07<00:00,  6.20it/s]\n",
      "100%|███████████████████████████████████████████| 13/13 [00:02<00:00,  4.55it/s]\n"
     ]
    },
    {
     "name": "stdout",
     "output_type": "stream",
     "text": [
      "# Epoch 138 / 150\n"
     ]
    },
    {
     "name": "stderr",
     "output_type": "stream",
     "text": [
      "100%|███████████████████████████████████████████| 49/49 [00:27<00:00,  1.78it/s]\n",
      "100%|███████████████████████████████████████████| 49/49 [00:08<00:00,  6.00it/s]\n",
      "100%|███████████████████████████████████████████| 13/13 [00:02<00:00,  4.51it/s]\n"
     ]
    },
    {
     "name": "stdout",
     "output_type": "stream",
     "text": [
      "# Epoch 139 / 150\n"
     ]
    },
    {
     "name": "stderr",
     "output_type": "stream",
     "text": [
      "100%|███████████████████████████████████████████| 49/49 [00:28<00:00,  1.75it/s]\n",
      "100%|███████████████████████████████████████████| 49/49 [00:08<00:00,  5.96it/s]\n",
      "100%|███████████████████████████████████████████| 13/13 [00:02<00:00,  4.92it/s]\n"
     ]
    },
    {
     "name": "stdout",
     "output_type": "stream",
     "text": [
      "# Epoch 140 / 150\n"
     ]
    },
    {
     "name": "stderr",
     "output_type": "stream",
     "text": [
      "100%|███████████████████████████████████████████| 49/49 [00:27<00:00,  1.81it/s]\n",
      "100%|███████████████████████████████████████████| 49/49 [00:08<00:00,  5.86it/s]\n",
      "100%|███████████████████████████████████████████| 13/13 [00:02<00:00,  4.75it/s]\n"
     ]
    },
    {
     "name": "stdout",
     "output_type": "stream",
     "text": [
      "# Epoch 141 / 150\n"
     ]
    },
    {
     "name": "stderr",
     "output_type": "stream",
     "text": [
      "100%|███████████████████████████████████████████| 49/49 [00:26<00:00,  1.83it/s]\n",
      "100%|███████████████████████████████████████████| 49/49 [00:08<00:00,  5.95it/s]\n",
      "100%|███████████████████████████████████████████| 13/13 [00:02<00:00,  4.53it/s]\n"
     ]
    },
    {
     "name": "stdout",
     "output_type": "stream",
     "text": [
      "# Epoch 142 / 150\n"
     ]
    },
    {
     "name": "stderr",
     "output_type": "stream",
     "text": [
      "100%|███████████████████████████████████████████| 49/49 [00:27<00:00,  1.77it/s]\n",
      "100%|███████████████████████████████████████████| 49/49 [00:08<00:00,  5.89it/s]\n",
      "100%|███████████████████████████████████████████| 13/13 [00:02<00:00,  4.48it/s]\n"
     ]
    },
    {
     "name": "stdout",
     "output_type": "stream",
     "text": [
      "# Epoch 143 / 150\n"
     ]
    },
    {
     "name": "stderr",
     "output_type": "stream",
     "text": [
      "100%|███████████████████████████████████████████| 49/49 [00:27<00:00,  1.79it/s]\n",
      "100%|███████████████████████████████████████████| 49/49 [00:08<00:00,  6.03it/s]\n",
      "100%|███████████████████████████████████████████| 13/13 [00:02<00:00,  4.50it/s]\n"
     ]
    },
    {
     "name": "stdout",
     "output_type": "stream",
     "text": [
      "# Epoch 144 / 150\n"
     ]
    },
    {
     "name": "stderr",
     "output_type": "stream",
     "text": [
      "100%|███████████████████████████████████████████| 49/49 [00:27<00:00,  1.76it/s]\n",
      "100%|███████████████████████████████████████████| 49/49 [00:08<00:00,  5.88it/s]\n",
      "100%|███████████████████████████████████████████| 13/13 [00:02<00:00,  4.73it/s]\n"
     ]
    },
    {
     "name": "stdout",
     "output_type": "stream",
     "text": [
      "# Epoch 145 / 150\n"
     ]
    },
    {
     "name": "stderr",
     "output_type": "stream",
     "text": [
      "100%|███████████████████████████████████████████| 49/49 [00:27<00:00,  1.81it/s]\n",
      "100%|███████████████████████████████████████████| 49/49 [00:08<00:00,  5.92it/s]\n",
      "100%|███████████████████████████████████████████| 13/13 [00:02<00:00,  4.77it/s]\n"
     ]
    },
    {
     "name": "stdout",
     "output_type": "stream",
     "text": [
      "# Epoch 146 / 150\n"
     ]
    },
    {
     "name": "stderr",
     "output_type": "stream",
     "text": [
      "100%|███████████████████████████████████████████| 49/49 [00:28<00:00,  1.72it/s]\n",
      "100%|███████████████████████████████████████████| 49/49 [00:08<00:00,  5.66it/s]\n",
      "100%|███████████████████████████████████████████| 13/13 [00:02<00:00,  4.72it/s]\n"
     ]
    },
    {
     "name": "stdout",
     "output_type": "stream",
     "text": [
      "# Epoch 147 / 150\n"
     ]
    },
    {
     "name": "stderr",
     "output_type": "stream",
     "text": [
      "100%|███████████████████████████████████████████| 49/49 [00:26<00:00,  1.82it/s]\n",
      "100%|███████████████████████████████████████████| 49/49 [00:08<00:00,  5.80it/s]\n",
      "100%|███████████████████████████████████████████| 13/13 [00:02<00:00,  4.51it/s]\n"
     ]
    },
    {
     "name": "stdout",
     "output_type": "stream",
     "text": [
      "# Epoch 148 / 150\n"
     ]
    },
    {
     "name": "stderr",
     "output_type": "stream",
     "text": [
      "100%|███████████████████████████████████████████| 49/49 [00:26<00:00,  1.82it/s]\n",
      "100%|███████████████████████████████████████████| 49/49 [00:08<00:00,  6.08it/s]\n",
      "100%|███████████████████████████████████████████| 13/13 [00:02<00:00,  4.41it/s]\n"
     ]
    },
    {
     "name": "stdout",
     "output_type": "stream",
     "text": [
      "# Epoch 149 / 150\n"
     ]
    },
    {
     "name": "stderr",
     "output_type": "stream",
     "text": [
      "100%|███████████████████████████████████████████| 49/49 [00:27<00:00,  1.76it/s]\n",
      "100%|███████████████████████████████████████████| 49/49 [00:08<00:00,  5.76it/s]\n",
      "100%|███████████████████████████████████████████| 13/13 [00:03<00:00,  4.30it/s]\n"
     ]
    },
    {
     "name": "stdout",
     "output_type": "stream",
     "text": [
      "# Epoch 150 / 150\n"
     ]
    },
    {
     "name": "stderr",
     "output_type": "stream",
     "text": [
      "100%|███████████████████████████████████████████| 49/49 [00:28<00:00,  1.75it/s]\n",
      "100%|███████████████████████████████████████████| 49/49 [00:08<00:00,  5.73it/s]\n",
      "100%|███████████████████████████████████████████| 13/13 [00:02<00:00,  4.62it/s]\n"
     ]
    },
    {
     "data": {
      "text/html": [
       "Waiting for W&B process to finish... <strong style=\"color:green\">(success).</strong>"
      ],
      "text/plain": [
       "<IPython.core.display.HTML object>"
      ]
     },
     "metadata": {},
     "output_type": "display_data"
    },
    {
     "data": {
      "application/vnd.jupyter.widget-view+json": {
       "model_id": "",
       "version_major": 2,
       "version_minor": 0
      },
      "text/plain": [
       "VBox(children=(Label(value='0.001 MB of 0.001 MB uploaded (0.000 MB deduped)\\r'), FloatProgress(value=1.0, max…"
      ]
     },
     "metadata": {},
     "output_type": "display_data"
    },
    {
     "data": {
      "text/html": [
       "<style>\n",
       "    table.wandb td:nth-child(1) { padding: 0 10px; text-align: left ; width: auto;} td:nth-child(2) {text-align: left ; width: 100%}\n",
       "    .wandb-row { display: flex; flex-direction: row; flex-wrap: wrap; justify-content: flex-start; width: 100% }\n",
       "    .wandb-col { display: flex; flex-direction: column; flex-basis: 100%; flex: 1; padding: 10px; }\n",
       "    </style>\n",
       "<div class=\"wandb-row\"><div class=\"wandb-col\"><h3>Run history:</h3><br/><table class=\"wandb\"><tr><td>lr</td><td>█████▂▂▂▂▂▂▂▁▁▁▁▁▁▁▁▁▁▁▁▁▁▁▁▁▁▁▁▁▁▁▁▁▁▁▁</td></tr><tr><td>train_mae</td><td>█▆▅▅▅▄▃▂▂▃▂▂▂▂▂▂▂▂▁▂▂▂▂▂▂▂▂▂▂▁▁▂▂▂▁▂▁▂▂▁</td></tr><tr><td>train_mse</td><td>█▆▅▄▄▄▃▂▂▂▂▂▂▂▂▂▂▂▁▂▁▂▁▂▁▂▂▂▂▂▁▂▂▂▁▂▂▂▁▁</td></tr><tr><td>train_pearson</td><td>▁▂▄▅▅▅▆▇▇▇▇▇▇▇▇▇▇▇█▇█▇███▇▇▇▇███▇▇█▇▇▇██</td></tr><tr><td>train_spearman</td><td>▁▃▅▆▆▆▇▇▇▇█▇█▇▇█▇▇███▇▇█▇▇▇████▇█▇▇██▇██</td></tr><tr><td>valid_mae</td><td>▁▅▃█▃▅▆▇▇▇▆▅▆▅▅▆▅▄▅▅▅▅▅▅▅▅▅▄▅▄▄▄▅▄▄▄▅▄▄▄</td></tr><tr><td>valid_mse</td><td>█▇▅▃▃▂▂▂▂▂▂▂▂▂▁▂▂▁▁▁▂▁▁▂▁▁▁▁▁▁▁▁▂▁▁▁▂▁▁▁</td></tr><tr><td>valid_pearson</td><td>▂▁▅▆▆▆▇▇▇███████████████████████████████</td></tr><tr><td>valid_spearman</td><td>▁▂▅▆▅▇▇█▇███▇▇▇▇▇▇▇▇▇▇▇▇▇▇▇▇▇▇▇▇▇▇▇▇▇▇▇▇</td></tr></table><br/></div><div class=\"wandb-col\"><h3>Run summary:</h3><br/><table class=\"wandb\"><tr><td>lr</td><td>0.0</td></tr><tr><td>train_mae</td><td>0.27498</td></tr><tr><td>train_mse</td><td>0.19185</td></tr><tr><td>train_pearson</td><td>0.63432</td></tr><tr><td>train_spearman</td><td>0.54571</td></tr><tr><td>valid_mae</td><td>0.28885</td></tr><tr><td>valid_mse</td><td>0.20217</td></tr><tr><td>valid_pearson</td><td>0.63659</td></tr><tr><td>valid_spearman</td><td>0.57971</td></tr></table><br/></div></div>"
      ],
      "text/plain": [
       "<IPython.core.display.HTML object>"
      ]
     },
     "metadata": {},
     "output_type": "display_data"
    },
    {
     "data": {
      "text/html": [
       "Synced <strong style=\"color:#cdcd00\">royal-grass-17</strong>: <a href=\"https://wandb.ai/hei-jung/20230214-validation/runs/19xr0z01\" target=\"_blank\">https://wandb.ai/hei-jung/20230214-validation/runs/19xr0z01</a><br/>Synced 6 W&B file(s), 0 media file(s), 0 artifact file(s) and 0 other file(s)"
      ],
      "text/plain": [
       "<IPython.core.display.HTML object>"
      ]
     },
     "metadata": {},
     "output_type": "display_data"
    },
    {
     "data": {
      "text/html": [
       "Find logs at: <code>./wandb/run-20230306_181226-19xr0z01/logs</code>"
      ],
      "text/plain": [
       "<IPython.core.display.HTML object>"
      ]
     },
     "metadata": {},
     "output_type": "display_data"
    },
    {
     "data": {
      "text/html": [
       "wandb version 0.13.10 is available!  To upgrade, please run:\n",
       " $ pip install wandb --upgrade"
      ],
      "text/plain": [
       "<IPython.core.display.HTML object>"
      ]
     },
     "metadata": {},
     "output_type": "display_data"
    },
    {
     "data": {
      "text/html": [
       "Tracking run with wandb version 0.12.21"
      ],
      "text/plain": [
       "<IPython.core.display.HTML object>"
      ]
     },
     "metadata": {},
     "output_type": "display_data"
    },
    {
     "data": {
      "text/html": [
       "Run data is saved locally in <code>/home/jhj/Desktop/HJ_RESEARCH/snu_brain_disease/wandb/run-20230306_194934-1a0w58rs</code>"
      ],
      "text/plain": [
       "<IPython.core.display.HTML object>"
      ]
     },
     "metadata": {},
     "output_type": "display_data"
    },
    {
     "data": {
      "text/html": [
       "Syncing run <strong><a href=\"https://wandb.ai/hei-jung/20230214-validation/runs/1a0w58rs\" target=\"_blank\">wobbly-meadow-18</a></strong> to <a href=\"https://wandb.ai/hei-jung/20230214-validation\" target=\"_blank\">Weights & Biases</a> (<a href=\"https://wandb.me/run\" target=\"_blank\">docs</a>)<br/>"
      ],
      "text/plain": [
       "<IPython.core.display.HTML object>"
      ]
     },
     "metadata": {},
     "output_type": "display_data"
    },
    {
     "name": "stdout",
     "output_type": "stream",
     "text": [
      "# Epoch 1 / 150\n"
     ]
    },
    {
     "name": "stderr",
     "output_type": "stream",
     "text": [
      "100%|███████████████████████████████████████████| 49/49 [00:27<00:00,  1.81it/s]\n",
      "100%|███████████████████████████████████████████| 13/13 [00:02<00:00,  4.51it/s]\n"
     ]
    },
    {
     "name": "stdout",
     "output_type": "stream",
     "text": [
      "# Epoch 2 / 150\n"
     ]
    },
    {
     "name": "stderr",
     "output_type": "stream",
     "text": [
      "100%|███████████████████████████████████████████| 49/49 [00:27<00:00,  1.75it/s]\n",
      "100%|███████████████████████████████████████████| 13/13 [00:02<00:00,  4.56it/s]\n"
     ]
    },
    {
     "name": "stdout",
     "output_type": "stream",
     "text": [
      "# Epoch 3 / 150\n"
     ]
    },
    {
     "name": "stderr",
     "output_type": "stream",
     "text": [
      "100%|███████████████████████████████████████████| 49/49 [00:27<00:00,  1.77it/s]\n",
      "100%|███████████████████████████████████████████| 13/13 [00:02<00:00,  4.75it/s]\n"
     ]
    },
    {
     "name": "stdout",
     "output_type": "stream",
     "text": [
      "# Epoch 4 / 150\n"
     ]
    },
    {
     "name": "stderr",
     "output_type": "stream",
     "text": [
      "100%|███████████████████████████████████████████| 49/49 [00:27<00:00,  1.76it/s]\n",
      "100%|███████████████████████████████████████████| 13/13 [00:03<00:00,  4.26it/s]\n"
     ]
    },
    {
     "name": "stdout",
     "output_type": "stream",
     "text": [
      "# Epoch 5 / 150\n"
     ]
    },
    {
     "name": "stderr",
     "output_type": "stream",
     "text": [
      "100%|███████████████████████████████████████████| 49/49 [00:27<00:00,  1.79it/s]\n",
      "100%|███████████████████████████████████████████| 13/13 [00:02<00:00,  4.43it/s]\n"
     ]
    },
    {
     "name": "stdout",
     "output_type": "stream",
     "text": [
      "# Epoch 6 / 150\n"
     ]
    },
    {
     "name": "stderr",
     "output_type": "stream",
     "text": [
      "100%|███████████████████████████████████████████| 49/49 [00:28<00:00,  1.70it/s]\n",
      "100%|███████████████████████████████████████████| 13/13 [00:02<00:00,  4.65it/s]\n"
     ]
    },
    {
     "name": "stdout",
     "output_type": "stream",
     "text": [
      "# Epoch 7 / 150\n"
     ]
    },
    {
     "name": "stderr",
     "output_type": "stream",
     "text": [
      "100%|███████████████████████████████████████████| 49/49 [00:28<00:00,  1.73it/s]\n",
      "100%|███████████████████████████████████████████| 13/13 [00:02<00:00,  4.59it/s]\n"
     ]
    },
    {
     "name": "stdout",
     "output_type": "stream",
     "text": [
      "# Epoch 8 / 150\n"
     ]
    },
    {
     "name": "stderr",
     "output_type": "stream",
     "text": [
      "100%|███████████████████████████████████████████| 49/49 [00:28<00:00,  1.74it/s]\n",
      "100%|███████████████████████████████████████████| 13/13 [00:02<00:00,  4.60it/s]\n"
     ]
    },
    {
     "name": "stdout",
     "output_type": "stream",
     "text": [
      "# Epoch 9 / 150\n"
     ]
    },
    {
     "name": "stderr",
     "output_type": "stream",
     "text": [
      "100%|███████████████████████████████████████████| 49/49 [00:28<00:00,  1.75it/s]\n",
      "100%|███████████████████████████████████████████| 13/13 [00:02<00:00,  4.61it/s]\n"
     ]
    },
    {
     "name": "stdout",
     "output_type": "stream",
     "text": [
      "# Epoch 10 / 150\n"
     ]
    },
    {
     "name": "stderr",
     "output_type": "stream",
     "text": [
      "100%|███████████████████████████████████████████| 49/49 [00:26<00:00,  1.86it/s]\n",
      "100%|███████████████████████████████████████████| 13/13 [00:02<00:00,  4.48it/s]\n"
     ]
    },
    {
     "name": "stdout",
     "output_type": "stream",
     "text": [
      "# Epoch 11 / 150\n"
     ]
    },
    {
     "name": "stderr",
     "output_type": "stream",
     "text": [
      "100%|███████████████████████████████████████████| 49/49 [00:27<00:00,  1.79it/s]\n",
      "100%|███████████████████████████████████████████| 13/13 [00:02<00:00,  4.68it/s]\n"
     ]
    },
    {
     "name": "stdout",
     "output_type": "stream",
     "text": [
      "# Epoch 12 / 150\n"
     ]
    },
    {
     "name": "stderr",
     "output_type": "stream",
     "text": [
      "100%|███████████████████████████████████████████| 49/49 [00:27<00:00,  1.81it/s]\n",
      "100%|███████████████████████████████████████████| 13/13 [00:02<00:00,  4.42it/s]\n"
     ]
    },
    {
     "name": "stdout",
     "output_type": "stream",
     "text": [
      "# Epoch 13 / 150\n"
     ]
    },
    {
     "name": "stderr",
     "output_type": "stream",
     "text": [
      "100%|███████████████████████████████████████████| 49/49 [00:27<00:00,  1.79it/s]\n",
      "100%|███████████████████████████████████████████| 13/13 [00:02<00:00,  4.69it/s]\n"
     ]
    },
    {
     "name": "stdout",
     "output_type": "stream",
     "text": [
      "# Epoch 14 / 150\n"
     ]
    },
    {
     "name": "stderr",
     "output_type": "stream",
     "text": [
      "100%|███████████████████████████████████████████| 49/49 [00:28<00:00,  1.73it/s]\n",
      "100%|███████████████████████████████████████████| 13/13 [00:02<00:00,  4.85it/s]\n"
     ]
    },
    {
     "name": "stdout",
     "output_type": "stream",
     "text": [
      "# Epoch 15 / 150\n"
     ]
    },
    {
     "name": "stderr",
     "output_type": "stream",
     "text": [
      "100%|███████████████████████████████████████████| 49/49 [00:27<00:00,  1.80it/s]\n",
      "100%|███████████████████████████████████████████| 13/13 [00:02<00:00,  4.33it/s]\n"
     ]
    },
    {
     "name": "stdout",
     "output_type": "stream",
     "text": [
      "# Epoch 16 / 150\n"
     ]
    },
    {
     "name": "stderr",
     "output_type": "stream",
     "text": [
      "100%|███████████████████████████████████████████| 49/49 [00:28<00:00,  1.74it/s]\n",
      "100%|███████████████████████████████████████████| 13/13 [00:02<00:00,  4.86it/s]\n"
     ]
    },
    {
     "name": "stdout",
     "output_type": "stream",
     "text": [
      "# Epoch 17 / 150\n"
     ]
    },
    {
     "name": "stderr",
     "output_type": "stream",
     "text": [
      "100%|███████████████████████████████████████████| 49/49 [00:28<00:00,  1.72it/s]\n",
      "100%|███████████████████████████████████████████| 13/13 [00:02<00:00,  4.35it/s]\n"
     ]
    },
    {
     "name": "stdout",
     "output_type": "stream",
     "text": [
      "# Epoch 18 / 150\n"
     ]
    },
    {
     "name": "stderr",
     "output_type": "stream",
     "text": [
      "100%|███████████████████████████████████████████| 49/49 [00:28<00:00,  1.73it/s]\n",
      "100%|███████████████████████████████████████████| 13/13 [00:02<00:00,  4.35it/s]\n"
     ]
    },
    {
     "name": "stdout",
     "output_type": "stream",
     "text": [
      "# Epoch 19 / 150\n"
     ]
    },
    {
     "name": "stderr",
     "output_type": "stream",
     "text": [
      "100%|███████████████████████████████████████████| 49/49 [00:28<00:00,  1.72it/s]\n",
      "100%|███████████████████████████████████████████| 13/13 [00:02<00:00,  4.65it/s]\n"
     ]
    },
    {
     "name": "stdout",
     "output_type": "stream",
     "text": [
      "# Epoch 20 / 150\n"
     ]
    },
    {
     "name": "stderr",
     "output_type": "stream",
     "text": [
      "100%|███████████████████████████████████████████| 49/49 [00:27<00:00,  1.78it/s]\n",
      "100%|███████████████████████████████████████████| 13/13 [00:02<00:00,  4.53it/s]\n"
     ]
    },
    {
     "name": "stdout",
     "output_type": "stream",
     "text": [
      "# Epoch 21 / 150\n"
     ]
    },
    {
     "name": "stderr",
     "output_type": "stream",
     "text": [
      "100%|███████████████████████████████████████████| 49/49 [00:27<00:00,  1.76it/s]\n",
      "100%|███████████████████████████████████████████| 13/13 [00:03<00:00,  4.27it/s]\n"
     ]
    },
    {
     "name": "stdout",
     "output_type": "stream",
     "text": [
      "# Epoch 22 / 150\n"
     ]
    },
    {
     "name": "stderr",
     "output_type": "stream",
     "text": [
      "100%|███████████████████████████████████████████| 49/49 [00:26<00:00,  1.85it/s]\n",
      "100%|███████████████████████████████████████████| 13/13 [00:02<00:00,  4.41it/s]\n"
     ]
    },
    {
     "name": "stdout",
     "output_type": "stream",
     "text": [
      "# Epoch 23 / 150\n"
     ]
    },
    {
     "name": "stderr",
     "output_type": "stream",
     "text": [
      "100%|███████████████████████████████████████████| 49/49 [00:28<00:00,  1.75it/s]\n",
      "100%|███████████████████████████████████████████| 13/13 [00:02<00:00,  4.65it/s]\n"
     ]
    },
    {
     "name": "stdout",
     "output_type": "stream",
     "text": [
      "# Epoch 24 / 150\n"
     ]
    },
    {
     "name": "stderr",
     "output_type": "stream",
     "text": [
      "100%|███████████████████████████████████████████| 49/49 [00:27<00:00,  1.78it/s]\n",
      "100%|███████████████████████████████████████████| 13/13 [00:02<00:00,  4.57it/s]\n"
     ]
    },
    {
     "name": "stdout",
     "output_type": "stream",
     "text": [
      "# Epoch 25 / 150\n"
     ]
    },
    {
     "name": "stderr",
     "output_type": "stream",
     "text": [
      "100%|███████████████████████████████████████████| 49/49 [00:28<00:00,  1.71it/s]\n",
      "100%|███████████████████████████████████████████| 13/13 [00:02<00:00,  4.43it/s]\n"
     ]
    },
    {
     "name": "stdout",
     "output_type": "stream",
     "text": [
      "# Epoch 26 / 150\n"
     ]
    },
    {
     "name": "stderr",
     "output_type": "stream",
     "text": [
      "100%|███████████████████████████████████████████| 49/49 [00:27<00:00,  1.76it/s]\n",
      "100%|███████████████████████████████████████████| 13/13 [00:02<00:00,  4.64it/s]\n"
     ]
    },
    {
     "name": "stdout",
     "output_type": "stream",
     "text": [
      "# Epoch 27 / 150\n"
     ]
    },
    {
     "name": "stderr",
     "output_type": "stream",
     "text": [
      "100%|███████████████████████████████████████████| 49/49 [00:28<00:00,  1.74it/s]\n",
      "100%|███████████████████████████████████████████| 13/13 [00:02<00:00,  4.63it/s]\n"
     ]
    },
    {
     "name": "stdout",
     "output_type": "stream",
     "text": [
      "# Epoch 28 / 150\n"
     ]
    },
    {
     "name": "stderr",
     "output_type": "stream",
     "text": [
      "100%|███████████████████████████████████████████| 49/49 [00:28<00:00,  1.71it/s]\n",
      "100%|███████████████████████████████████████████| 13/13 [00:02<00:00,  4.42it/s]\n"
     ]
    },
    {
     "name": "stdout",
     "output_type": "stream",
     "text": [
      "# Epoch 29 / 150\n"
     ]
    },
    {
     "name": "stderr",
     "output_type": "stream",
     "text": [
      "100%|███████████████████████████████████████████| 49/49 [00:27<00:00,  1.79it/s]\n",
      "100%|███████████████████████████████████████████| 13/13 [00:02<00:00,  4.39it/s]\n"
     ]
    },
    {
     "name": "stdout",
     "output_type": "stream",
     "text": [
      "# Epoch 30 / 150\n"
     ]
    },
    {
     "name": "stderr",
     "output_type": "stream",
     "text": [
      "100%|███████████████████████████████████████████| 49/49 [00:26<00:00,  1.83it/s]\n",
      "100%|███████████████████████████████████████████| 13/13 [00:02<00:00,  4.41it/s]\n"
     ]
    },
    {
     "name": "stdout",
     "output_type": "stream",
     "text": [
      "# Epoch 31 / 150\n"
     ]
    },
    {
     "name": "stderr",
     "output_type": "stream",
     "text": [
      "100%|███████████████████████████████████████████| 49/49 [00:27<00:00,  1.78it/s]\n",
      "100%|███████████████████████████████████████████| 13/13 [00:02<00:00,  4.72it/s]\n"
     ]
    },
    {
     "name": "stdout",
     "output_type": "stream",
     "text": [
      "# Epoch 32 / 150\n"
     ]
    },
    {
     "name": "stderr",
     "output_type": "stream",
     "text": [
      "100%|███████████████████████████████████████████| 49/49 [00:27<00:00,  1.78it/s]\n",
      "100%|███████████████████████████████████████████| 13/13 [00:02<00:00,  4.37it/s]\n"
     ]
    },
    {
     "name": "stdout",
     "output_type": "stream",
     "text": [
      "# Epoch 33 / 150\n"
     ]
    },
    {
     "name": "stderr",
     "output_type": "stream",
     "text": [
      "100%|███████████████████████████████████████████| 49/49 [00:28<00:00,  1.72it/s]\n",
      "100%|███████████████████████████████████████████| 13/13 [00:02<00:00,  4.74it/s]\n"
     ]
    },
    {
     "name": "stdout",
     "output_type": "stream",
     "text": [
      "# Epoch 34 / 150\n"
     ]
    },
    {
     "name": "stderr",
     "output_type": "stream",
     "text": [
      "100%|███████████████████████████████████████████| 49/49 [00:27<00:00,  1.80it/s]\n",
      "100%|███████████████████████████████████████████| 13/13 [00:02<00:00,  4.49it/s]\n"
     ]
    },
    {
     "name": "stdout",
     "output_type": "stream",
     "text": [
      "# Epoch 35 / 150\n"
     ]
    },
    {
     "name": "stderr",
     "output_type": "stream",
     "text": [
      "100%|███████████████████████████████████████████| 49/49 [00:27<00:00,  1.79it/s]\n",
      "100%|███████████████████████████████████████████| 13/13 [00:02<00:00,  4.41it/s]\n"
     ]
    },
    {
     "name": "stdout",
     "output_type": "stream",
     "text": [
      "# Epoch 36 / 150\n"
     ]
    },
    {
     "name": "stderr",
     "output_type": "stream",
     "text": [
      "100%|███████████████████████████████████████████| 49/49 [00:27<00:00,  1.79it/s]\n",
      "100%|███████████████████████████████████████████| 13/13 [00:02<00:00,  4.87it/s]\n"
     ]
    },
    {
     "name": "stdout",
     "output_type": "stream",
     "text": [
      "# Epoch 37 / 150\n"
     ]
    },
    {
     "name": "stderr",
     "output_type": "stream",
     "text": [
      "100%|███████████████████████████████████████████| 49/49 [00:28<00:00,  1.74it/s]\n",
      "100%|███████████████████████████████████████████| 13/13 [00:02<00:00,  4.35it/s]\n"
     ]
    },
    {
     "name": "stdout",
     "output_type": "stream",
     "text": [
      "# Epoch 38 / 150\n"
     ]
    },
    {
     "name": "stderr",
     "output_type": "stream",
     "text": [
      "100%|███████████████████████████████████████████| 49/49 [00:27<00:00,  1.75it/s]\n",
      "100%|███████████████████████████████████████████| 13/13 [00:02<00:00,  4.42it/s]\n"
     ]
    },
    {
     "name": "stdout",
     "output_type": "stream",
     "text": [
      "# Epoch 39 / 150\n"
     ]
    },
    {
     "name": "stderr",
     "output_type": "stream",
     "text": [
      "100%|███████████████████████████████████████████| 49/49 [00:27<00:00,  1.78it/s]\n",
      "100%|███████████████████████████████████████████| 13/13 [00:02<00:00,  4.88it/s]\n"
     ]
    },
    {
     "name": "stdout",
     "output_type": "stream",
     "text": [
      "# Epoch 40 / 150\n"
     ]
    },
    {
     "name": "stderr",
     "output_type": "stream",
     "text": [
      "100%|███████████████████████████████████████████| 49/49 [00:28<00:00,  1.72it/s]\n",
      "100%|███████████████████████████████████████████| 13/13 [00:02<00:00,  4.91it/s]\n"
     ]
    },
    {
     "name": "stdout",
     "output_type": "stream",
     "text": [
      "# Epoch 41 / 150\n"
     ]
    },
    {
     "name": "stderr",
     "output_type": "stream",
     "text": [
      "100%|███████████████████████████████████████████| 49/49 [00:27<00:00,  1.79it/s]\n",
      "100%|███████████████████████████████████████████| 13/13 [00:02<00:00,  4.60it/s]\n"
     ]
    },
    {
     "name": "stdout",
     "output_type": "stream",
     "text": [
      "# Epoch 42 / 150\n"
     ]
    },
    {
     "name": "stderr",
     "output_type": "stream",
     "text": [
      "100%|███████████████████████████████████████████| 49/49 [00:28<00:00,  1.74it/s]\n",
      "100%|███████████████████████████████████████████| 13/13 [00:02<00:00,  4.57it/s]\n"
     ]
    },
    {
     "name": "stdout",
     "output_type": "stream",
     "text": [
      "# Epoch 43 / 150\n"
     ]
    },
    {
     "name": "stderr",
     "output_type": "stream",
     "text": [
      "100%|███████████████████████████████████████████| 49/49 [00:28<00:00,  1.72it/s]\n",
      "100%|███████████████████████████████████████████| 13/13 [00:02<00:00,  4.55it/s]\n"
     ]
    },
    {
     "name": "stdout",
     "output_type": "stream",
     "text": [
      "# Epoch 44 / 150\n"
     ]
    },
    {
     "name": "stderr",
     "output_type": "stream",
     "text": [
      "100%|███████████████████████████████████████████| 49/49 [00:27<00:00,  1.81it/s]\n",
      "100%|███████████████████████████████████████████| 13/13 [00:02<00:00,  4.55it/s]\n"
     ]
    },
    {
     "name": "stdout",
     "output_type": "stream",
     "text": [
      "# Epoch 45 / 150\n"
     ]
    },
    {
     "name": "stderr",
     "output_type": "stream",
     "text": [
      "100%|███████████████████████████████████████████| 49/49 [00:27<00:00,  1.80it/s]\n",
      "100%|███████████████████████████████████████████| 13/13 [00:02<00:00,  4.43it/s]\n"
     ]
    },
    {
     "name": "stdout",
     "output_type": "stream",
     "text": [
      "# Epoch 46 / 150\n"
     ]
    },
    {
     "name": "stderr",
     "output_type": "stream",
     "text": [
      "100%|███████████████████████████████████████████| 49/49 [00:28<00:00,  1.71it/s]\n",
      "100%|███████████████████████████████████████████| 13/13 [00:02<00:00,  4.38it/s]\n"
     ]
    },
    {
     "name": "stdout",
     "output_type": "stream",
     "text": [
      "# Epoch 47 / 150\n"
     ]
    },
    {
     "name": "stderr",
     "output_type": "stream",
     "text": [
      "100%|███████████████████████████████████████████| 49/49 [00:28<00:00,  1.73it/s]\n",
      "100%|███████████████████████████████████████████| 13/13 [00:02<00:00,  4.37it/s]\n"
     ]
    },
    {
     "name": "stdout",
     "output_type": "stream",
     "text": [
      "# Epoch 48 / 150\n"
     ]
    },
    {
     "name": "stderr",
     "output_type": "stream",
     "text": [
      "100%|███████████████████████████████████████████| 49/49 [00:27<00:00,  1.81it/s]\n",
      "100%|███████████████████████████████████████████| 13/13 [00:02<00:00,  4.60it/s]\n"
     ]
    },
    {
     "name": "stdout",
     "output_type": "stream",
     "text": [
      "# Epoch 49 / 150\n"
     ]
    },
    {
     "name": "stderr",
     "output_type": "stream",
     "text": [
      "100%|███████████████████████████████████████████| 49/49 [00:27<00:00,  1.78it/s]\n",
      "100%|███████████████████████████████████████████| 13/13 [00:02<00:00,  4.78it/s]\n"
     ]
    },
    {
     "name": "stdout",
     "output_type": "stream",
     "text": [
      "# Epoch 50 / 150\n"
     ]
    },
    {
     "name": "stderr",
     "output_type": "stream",
     "text": [
      "100%|███████████████████████████████████████████| 49/49 [00:28<00:00,  1.71it/s]\n",
      "100%|███████████████████████████████████████████| 13/13 [00:02<00:00,  4.77it/s]\n"
     ]
    },
    {
     "name": "stdout",
     "output_type": "stream",
     "text": [
      "# Epoch 51 / 150\n"
     ]
    },
    {
     "name": "stderr",
     "output_type": "stream",
     "text": [
      "100%|███████████████████████████████████████████| 49/49 [00:27<00:00,  1.76it/s]\n",
      "100%|███████████████████████████████████████████| 13/13 [00:02<00:00,  4.34it/s]\n"
     ]
    },
    {
     "name": "stdout",
     "output_type": "stream",
     "text": [
      "# Epoch 52 / 150\n"
     ]
    },
    {
     "name": "stderr",
     "output_type": "stream",
     "text": [
      "100%|███████████████████████████████████████████| 49/49 [00:27<00:00,  1.78it/s]\n",
      "100%|███████████████████████████████████████████| 13/13 [00:02<00:00,  4.47it/s]\n"
     ]
    },
    {
     "name": "stdout",
     "output_type": "stream",
     "text": [
      "# Epoch 53 / 150\n"
     ]
    },
    {
     "name": "stderr",
     "output_type": "stream",
     "text": [
      "100%|███████████████████████████████████████████| 49/49 [00:27<00:00,  1.79it/s]\n",
      "100%|███████████████████████████████████████████| 13/13 [00:02<00:00,  4.38it/s]\n"
     ]
    },
    {
     "name": "stdout",
     "output_type": "stream",
     "text": [
      "# Epoch 54 / 150\n"
     ]
    },
    {
     "name": "stderr",
     "output_type": "stream",
     "text": [
      "100%|███████████████████████████████████████████| 49/49 [00:28<00:00,  1.71it/s]\n",
      "100%|███████████████████████████████████████████| 13/13 [00:02<00:00,  4.82it/s]\n"
     ]
    },
    {
     "name": "stdout",
     "output_type": "stream",
     "text": [
      "# Epoch 55 / 150\n"
     ]
    },
    {
     "name": "stderr",
     "output_type": "stream",
     "text": [
      "100%|███████████████████████████████████████████| 49/49 [00:27<00:00,  1.75it/s]\n",
      "100%|███████████████████████████████████████████| 13/13 [00:02<00:00,  4.88it/s]\n"
     ]
    },
    {
     "name": "stdout",
     "output_type": "stream",
     "text": [
      "# Epoch 56 / 150\n"
     ]
    },
    {
     "name": "stderr",
     "output_type": "stream",
     "text": [
      "100%|███████████████████████████████████████████| 49/49 [00:26<00:00,  1.84it/s]\n",
      "100%|███████████████████████████████████████████| 13/13 [00:02<00:00,  4.64it/s]\n"
     ]
    },
    {
     "name": "stdout",
     "output_type": "stream",
     "text": [
      "# Epoch 57 / 150\n"
     ]
    },
    {
     "name": "stderr",
     "output_type": "stream",
     "text": [
      "100%|███████████████████████████████████████████| 49/49 [00:27<00:00,  1.81it/s]\n",
      "100%|███████████████████████████████████████████| 13/13 [00:02<00:00,  4.83it/s]\n"
     ]
    },
    {
     "name": "stdout",
     "output_type": "stream",
     "text": [
      "# Epoch 58 / 150\n"
     ]
    },
    {
     "name": "stderr",
     "output_type": "stream",
     "text": [
      "100%|███████████████████████████████████████████| 49/49 [00:27<00:00,  1.77it/s]\n",
      "100%|███████████████████████████████████████████| 13/13 [00:02<00:00,  4.84it/s]\n"
     ]
    },
    {
     "name": "stdout",
     "output_type": "stream",
     "text": [
      "# Epoch 59 / 150\n"
     ]
    },
    {
     "name": "stderr",
     "output_type": "stream",
     "text": [
      "100%|███████████████████████████████████████████| 49/49 [00:28<00:00,  1.71it/s]\n",
      "100%|███████████████████████████████████████████| 13/13 [00:03<00:00,  4.26it/s]\n"
     ]
    },
    {
     "name": "stdout",
     "output_type": "stream",
     "text": [
      "# Epoch 60 / 150\n"
     ]
    },
    {
     "name": "stderr",
     "output_type": "stream",
     "text": [
      "100%|███████████████████████████████████████████| 49/49 [00:27<00:00,  1.79it/s]\n",
      "100%|███████████████████████████████████████████| 13/13 [00:02<00:00,  4.70it/s]\n"
     ]
    },
    {
     "name": "stdout",
     "output_type": "stream",
     "text": [
      "# Epoch 61 / 150\n"
     ]
    },
    {
     "name": "stderr",
     "output_type": "stream",
     "text": [
      "100%|███████████████████████████████████████████| 49/49 [00:27<00:00,  1.77it/s]\n",
      "100%|███████████████████████████████████████████| 13/13 [00:02<00:00,  4.66it/s]\n"
     ]
    },
    {
     "name": "stdout",
     "output_type": "stream",
     "text": [
      "# Epoch 62 / 150\n"
     ]
    },
    {
     "name": "stderr",
     "output_type": "stream",
     "text": [
      "100%|███████████████████████████████████████████| 49/49 [00:26<00:00,  1.82it/s]\n",
      "100%|███████████████████████████████████████████| 13/13 [00:02<00:00,  4.70it/s]\n"
     ]
    },
    {
     "name": "stdout",
     "output_type": "stream",
     "text": [
      "# Epoch 63 / 150\n"
     ]
    },
    {
     "name": "stderr",
     "output_type": "stream",
     "text": [
      "100%|███████████████████████████████████████████| 49/49 [00:26<00:00,  1.85it/s]\n",
      "100%|███████████████████████████████████████████| 13/13 [00:03<00:00,  4.28it/s]\n"
     ]
    },
    {
     "name": "stdout",
     "output_type": "stream",
     "text": [
      "# Epoch 64 / 150\n"
     ]
    },
    {
     "name": "stderr",
     "output_type": "stream",
     "text": [
      "100%|███████████████████████████████████████████| 49/49 [00:26<00:00,  1.84it/s]\n",
      "100%|███████████████████████████████████████████| 13/13 [00:02<00:00,  4.90it/s]\n"
     ]
    },
    {
     "name": "stdout",
     "output_type": "stream",
     "text": [
      "# Epoch 65 / 150\n"
     ]
    },
    {
     "name": "stderr",
     "output_type": "stream",
     "text": [
      "100%|███████████████████████████████████████████| 49/49 [00:27<00:00,  1.81it/s]\n",
      "100%|███████████████████████████████████████████| 13/13 [00:02<00:00,  4.46it/s]\n"
     ]
    },
    {
     "name": "stdout",
     "output_type": "stream",
     "text": [
      "# Epoch 66 / 150\n"
     ]
    },
    {
     "name": "stderr",
     "output_type": "stream",
     "text": [
      "100%|███████████████████████████████████████████| 49/49 [00:28<00:00,  1.72it/s]\n",
      "100%|███████████████████████████████████████████| 13/13 [00:02<00:00,  4.82it/s]\n"
     ]
    },
    {
     "name": "stdout",
     "output_type": "stream",
     "text": [
      "# Epoch 67 / 150\n"
     ]
    },
    {
     "name": "stderr",
     "output_type": "stream",
     "text": [
      "100%|███████████████████████████████████████████| 49/49 [00:27<00:00,  1.79it/s]\n",
      "100%|███████████████████████████████████████████| 13/13 [00:02<00:00,  4.68it/s]\n"
     ]
    },
    {
     "name": "stdout",
     "output_type": "stream",
     "text": [
      "# Epoch 68 / 150\n"
     ]
    },
    {
     "name": "stderr",
     "output_type": "stream",
     "text": [
      "100%|███████████████████████████████████████████| 49/49 [00:28<00:00,  1.74it/s]\n",
      "100%|███████████████████████████████████████████| 13/13 [00:02<00:00,  4.40it/s]\n"
     ]
    },
    {
     "name": "stdout",
     "output_type": "stream",
     "text": [
      "# Epoch 69 / 150\n"
     ]
    },
    {
     "name": "stderr",
     "output_type": "stream",
     "text": [
      "100%|███████████████████████████████████████████| 49/49 [00:27<00:00,  1.80it/s]\n",
      "100%|███████████████████████████████████████████| 13/13 [00:02<00:00,  4.35it/s]\n"
     ]
    },
    {
     "name": "stdout",
     "output_type": "stream",
     "text": [
      "# Epoch 70 / 150\n"
     ]
    },
    {
     "name": "stderr",
     "output_type": "stream",
     "text": [
      "100%|███████████████████████████████████████████| 49/49 [00:28<00:00,  1.75it/s]\n",
      "100%|███████████████████████████████████████████| 13/13 [00:02<00:00,  4.62it/s]\n"
     ]
    },
    {
     "name": "stdout",
     "output_type": "stream",
     "text": [
      "# Epoch 71 / 150\n"
     ]
    },
    {
     "name": "stderr",
     "output_type": "stream",
     "text": [
      "100%|███████████████████████████████████████████| 49/49 [00:28<00:00,  1.73it/s]\n",
      "100%|███████████████████████████████████████████| 13/13 [00:02<00:00,  4.84it/s]\n"
     ]
    },
    {
     "name": "stdout",
     "output_type": "stream",
     "text": [
      "# Epoch 72 / 150\n"
     ]
    },
    {
     "name": "stderr",
     "output_type": "stream",
     "text": [
      "100%|███████████████████████████████████████████| 49/49 [00:28<00:00,  1.72it/s]\n",
      "100%|███████████████████████████████████████████| 13/13 [00:02<00:00,  4.63it/s]\n"
     ]
    },
    {
     "name": "stdout",
     "output_type": "stream",
     "text": [
      "# Epoch 73 / 150\n"
     ]
    },
    {
     "name": "stderr",
     "output_type": "stream",
     "text": [
      "100%|███████████████████████████████████████████| 49/49 [00:27<00:00,  1.81it/s]\n",
      "100%|███████████████████████████████████████████| 13/13 [00:02<00:00,  4.55it/s]\n"
     ]
    },
    {
     "name": "stdout",
     "output_type": "stream",
     "text": [
      "# Epoch 74 / 150\n"
     ]
    },
    {
     "name": "stderr",
     "output_type": "stream",
     "text": [
      "100%|███████████████████████████████████████████| 49/49 [00:28<00:00,  1.71it/s]\n",
      "100%|███████████████████████████████████████████| 13/13 [00:02<00:00,  4.48it/s]\n"
     ]
    },
    {
     "name": "stdout",
     "output_type": "stream",
     "text": [
      "# Epoch 75 / 150\n"
     ]
    },
    {
     "name": "stderr",
     "output_type": "stream",
     "text": [
      "100%|███████████████████████████████████████████| 49/49 [00:27<00:00,  1.79it/s]\n",
      "100%|███████████████████████████████████████████| 13/13 [00:03<00:00,  4.29it/s]\n"
     ]
    },
    {
     "name": "stdout",
     "output_type": "stream",
     "text": [
      "# Epoch 76 / 150\n"
     ]
    },
    {
     "name": "stderr",
     "output_type": "stream",
     "text": [
      "100%|███████████████████████████████████████████| 49/49 [00:27<00:00,  1.77it/s]\n",
      "100%|███████████████████████████████████████████| 13/13 [00:02<00:00,  4.38it/s]\n"
     ]
    },
    {
     "name": "stdout",
     "output_type": "stream",
     "text": [
      "# Epoch 77 / 150\n"
     ]
    },
    {
     "name": "stderr",
     "output_type": "stream",
     "text": [
      "100%|███████████████████████████████████████████| 49/49 [00:27<00:00,  1.76it/s]\n",
      "100%|███████████████████████████████████████████| 13/13 [00:02<00:00,  4.86it/s]\n"
     ]
    },
    {
     "name": "stdout",
     "output_type": "stream",
     "text": [
      "# Epoch 78 / 150\n"
     ]
    },
    {
     "name": "stderr",
     "output_type": "stream",
     "text": [
      "100%|███████████████████████████████████████████| 49/49 [00:28<00:00,  1.73it/s]\n",
      "100%|███████████████████████████████████████████| 13/13 [00:02<00:00,  4.81it/s]\n"
     ]
    },
    {
     "name": "stdout",
     "output_type": "stream",
     "text": [
      "# Epoch 79 / 150\n"
     ]
    },
    {
     "name": "stderr",
     "output_type": "stream",
     "text": [
      "100%|███████████████████████████████████████████| 49/49 [00:27<00:00,  1.80it/s]\n",
      "100%|███████████████████████████████████████████| 13/13 [00:02<00:00,  4.55it/s]\n"
     ]
    },
    {
     "name": "stdout",
     "output_type": "stream",
     "text": [
      "# Epoch 80 / 150\n"
     ]
    },
    {
     "name": "stderr",
     "output_type": "stream",
     "text": [
      "100%|███████████████████████████████████████████| 49/49 [00:27<00:00,  1.75it/s]\n",
      "100%|███████████████████████████████████████████| 13/13 [00:02<00:00,  4.76it/s]\n"
     ]
    },
    {
     "name": "stdout",
     "output_type": "stream",
     "text": [
      "# Epoch 81 / 150\n"
     ]
    },
    {
     "name": "stderr",
     "output_type": "stream",
     "text": [
      "100%|███████████████████████████████████████████| 49/49 [00:28<00:00,  1.71it/s]\n",
      "100%|███████████████████████████████████████████| 13/13 [00:02<00:00,  4.46it/s]\n"
     ]
    },
    {
     "name": "stdout",
     "output_type": "stream",
     "text": [
      "# Epoch 82 / 150\n"
     ]
    },
    {
     "name": "stderr",
     "output_type": "stream",
     "text": [
      "100%|███████████████████████████████████████████| 49/49 [00:27<00:00,  1.76it/s]\n",
      "100%|███████████████████████████████████████████| 13/13 [00:02<00:00,  4.86it/s]\n"
     ]
    },
    {
     "name": "stdout",
     "output_type": "stream",
     "text": [
      "# Epoch 83 / 150\n"
     ]
    },
    {
     "name": "stderr",
     "output_type": "stream",
     "text": [
      "100%|███████████████████████████████████████████| 49/49 [00:27<00:00,  1.80it/s]\n",
      "100%|███████████████████████████████████████████| 13/13 [00:02<00:00,  4.78it/s]\n"
     ]
    },
    {
     "name": "stdout",
     "output_type": "stream",
     "text": [
      "# Epoch 84 / 150\n"
     ]
    },
    {
     "name": "stderr",
     "output_type": "stream",
     "text": [
      "100%|███████████████████████████████████████████| 49/49 [00:27<00:00,  1.81it/s]\n",
      "100%|███████████████████████████████████████████| 13/13 [00:02<00:00,  4.57it/s]\n"
     ]
    },
    {
     "name": "stdout",
     "output_type": "stream",
     "text": [
      "# Epoch 85 / 150\n"
     ]
    },
    {
     "name": "stderr",
     "output_type": "stream",
     "text": [
      "100%|███████████████████████████████████████████| 49/49 [00:27<00:00,  1.79it/s]\n",
      "100%|███████████████████████████████████████████| 13/13 [00:02<00:00,  4.90it/s]\n"
     ]
    },
    {
     "name": "stdout",
     "output_type": "stream",
     "text": [
      "# Epoch 86 / 150\n"
     ]
    },
    {
     "name": "stderr",
     "output_type": "stream",
     "text": [
      "100%|███████████████████████████████████████████| 49/49 [00:27<00:00,  1.76it/s]\n",
      "100%|███████████████████████████████████████████| 13/13 [00:02<00:00,  4.65it/s]\n"
     ]
    },
    {
     "name": "stdout",
     "output_type": "stream",
     "text": [
      "# Epoch 87 / 150\n"
     ]
    },
    {
     "name": "stderr",
     "output_type": "stream",
     "text": [
      "100%|███████████████████████████████████████████| 49/49 [00:27<00:00,  1.81it/s]\n",
      "100%|███████████████████████████████████████████| 13/13 [00:02<00:00,  4.46it/s]\n"
     ]
    },
    {
     "name": "stdout",
     "output_type": "stream",
     "text": [
      "# Epoch 88 / 150\n"
     ]
    },
    {
     "name": "stderr",
     "output_type": "stream",
     "text": [
      "100%|███████████████████████████████████████████| 49/49 [00:27<00:00,  1.78it/s]\n",
      "100%|███████████████████████████████████████████| 13/13 [00:02<00:00,  4.63it/s]\n"
     ]
    },
    {
     "name": "stdout",
     "output_type": "stream",
     "text": [
      "# Epoch 89 / 150\n"
     ]
    },
    {
     "name": "stderr",
     "output_type": "stream",
     "text": [
      "100%|███████████████████████████████████████████| 49/49 [00:27<00:00,  1.79it/s]\n",
      "100%|███████████████████████████████████████████| 13/13 [00:02<00:00,  4.52it/s]\n"
     ]
    },
    {
     "name": "stdout",
     "output_type": "stream",
     "text": [
      "# Epoch 90 / 150\n"
     ]
    },
    {
     "name": "stderr",
     "output_type": "stream",
     "text": [
      "100%|███████████████████████████████████████████| 49/49 [00:27<00:00,  1.75it/s]\n",
      "100%|███████████████████████████████████████████| 13/13 [00:02<00:00,  4.81it/s]\n"
     ]
    },
    {
     "name": "stdout",
     "output_type": "stream",
     "text": [
      "# Epoch 91 / 150\n"
     ]
    },
    {
     "name": "stderr",
     "output_type": "stream",
     "text": [
      "100%|███████████████████████████████████████████| 49/49 [00:27<00:00,  1.80it/s]\n",
      "100%|███████████████████████████████████████████| 13/13 [00:02<00:00,  4.70it/s]\n"
     ]
    },
    {
     "name": "stdout",
     "output_type": "stream",
     "text": [
      "# Epoch 92 / 150\n"
     ]
    },
    {
     "name": "stderr",
     "output_type": "stream",
     "text": [
      "100%|███████████████████████████████████████████| 49/49 [00:27<00:00,  1.76it/s]\n",
      "100%|███████████████████████████████████████████| 13/13 [00:03<00:00,  4.33it/s]\n"
     ]
    },
    {
     "name": "stdout",
     "output_type": "stream",
     "text": [
      "# Epoch 93 / 150\n"
     ]
    },
    {
     "name": "stderr",
     "output_type": "stream",
     "text": [
      "100%|███████████████████████████████████████████| 49/49 [00:26<00:00,  1.84it/s]\n",
      "100%|███████████████████████████████████████████| 13/13 [00:02<00:00,  4.71it/s]\n"
     ]
    },
    {
     "name": "stdout",
     "output_type": "stream",
     "text": [
      "# Epoch 94 / 150\n"
     ]
    },
    {
     "name": "stderr",
     "output_type": "stream",
     "text": [
      "100%|███████████████████████████████████████████| 49/49 [00:26<00:00,  1.82it/s]\n",
      "100%|███████████████████████████████████████████| 13/13 [00:02<00:00,  4.56it/s]\n"
     ]
    },
    {
     "name": "stdout",
     "output_type": "stream",
     "text": [
      "# Epoch 95 / 150\n"
     ]
    },
    {
     "name": "stderr",
     "output_type": "stream",
     "text": [
      "100%|███████████████████████████████████████████| 49/49 [00:26<00:00,  1.83it/s]\n",
      "100%|███████████████████████████████████████████| 13/13 [00:02<00:00,  5.09it/s]\n"
     ]
    },
    {
     "name": "stdout",
     "output_type": "stream",
     "text": [
      "# Epoch 96 / 150\n"
     ]
    },
    {
     "name": "stderr",
     "output_type": "stream",
     "text": [
      "100%|███████████████████████████████████████████| 49/49 [00:27<00:00,  1.76it/s]\n",
      "100%|███████████████████████████████████████████| 13/13 [00:02<00:00,  4.73it/s]\n"
     ]
    },
    {
     "name": "stdout",
     "output_type": "stream",
     "text": [
      "# Epoch 97 / 150\n"
     ]
    },
    {
     "name": "stderr",
     "output_type": "stream",
     "text": [
      "100%|███████████████████████████████████████████| 49/49 [00:26<00:00,  1.84it/s]\n",
      "100%|███████████████████████████████████████████| 13/13 [00:02<00:00,  4.81it/s]\n"
     ]
    },
    {
     "name": "stdout",
     "output_type": "stream",
     "text": [
      "# Epoch 98 / 150\n"
     ]
    },
    {
     "name": "stderr",
     "output_type": "stream",
     "text": [
      "100%|███████████████████████████████████████████| 49/49 [00:27<00:00,  1.77it/s]\n",
      "100%|███████████████████████████████████████████| 13/13 [00:02<00:00,  4.56it/s]\n"
     ]
    },
    {
     "name": "stdout",
     "output_type": "stream",
     "text": [
      "# Epoch 99 / 150\n"
     ]
    },
    {
     "name": "stderr",
     "output_type": "stream",
     "text": [
      "100%|███████████████████████████████████████████| 49/49 [00:27<00:00,  1.78it/s]\n",
      "100%|███████████████████████████████████████████| 13/13 [00:02<00:00,  4.75it/s]\n"
     ]
    },
    {
     "name": "stdout",
     "output_type": "stream",
     "text": [
      "# Epoch 100 / 150\n"
     ]
    },
    {
     "name": "stderr",
     "output_type": "stream",
     "text": [
      "100%|███████████████████████████████████████████| 49/49 [00:27<00:00,  1.80it/s]\n",
      "100%|███████████████████████████████████████████| 13/13 [00:02<00:00,  4.42it/s]\n"
     ]
    },
    {
     "name": "stdout",
     "output_type": "stream",
     "text": [
      "# Epoch 101 / 150\n"
     ]
    },
    {
     "name": "stderr",
     "output_type": "stream",
     "text": [
      "100%|███████████████████████████████████████████| 49/49 [00:27<00:00,  1.79it/s]\n",
      "100%|███████████████████████████████████████████| 13/13 [00:02<00:00,  4.50it/s]\n"
     ]
    },
    {
     "name": "stdout",
     "output_type": "stream",
     "text": [
      "# Epoch 102 / 150\n"
     ]
    },
    {
     "name": "stderr",
     "output_type": "stream",
     "text": [
      "100%|███████████████████████████████████████████| 49/49 [00:26<00:00,  1.83it/s]\n",
      "100%|███████████████████████████████████████████| 13/13 [00:02<00:00,  4.45it/s]\n"
     ]
    },
    {
     "name": "stdout",
     "output_type": "stream",
     "text": [
      "# Epoch 103 / 150\n"
     ]
    },
    {
     "name": "stderr",
     "output_type": "stream",
     "text": [
      "100%|███████████████████████████████████████████| 49/49 [00:28<00:00,  1.74it/s]\n",
      "100%|███████████████████████████████████████████| 13/13 [00:02<00:00,  4.50it/s]\n"
     ]
    },
    {
     "name": "stdout",
     "output_type": "stream",
     "text": [
      "# Epoch 104 / 150\n"
     ]
    },
    {
     "name": "stderr",
     "output_type": "stream",
     "text": [
      "100%|███████████████████████████████████████████| 49/49 [00:28<00:00,  1.72it/s]\n",
      "100%|███████████████████████████████████████████| 13/13 [00:02<00:00,  4.68it/s]\n"
     ]
    },
    {
     "name": "stdout",
     "output_type": "stream",
     "text": [
      "# Epoch 105 / 150\n"
     ]
    },
    {
     "name": "stderr",
     "output_type": "stream",
     "text": [
      "100%|███████████████████████████████████████████| 49/49 [00:26<00:00,  1.83it/s]\n",
      "100%|███████████████████████████████████████████| 13/13 [00:02<00:00,  4.72it/s]\n"
     ]
    },
    {
     "name": "stdout",
     "output_type": "stream",
     "text": [
      "# Epoch 106 / 150\n"
     ]
    },
    {
     "name": "stderr",
     "output_type": "stream",
     "text": [
      "100%|███████████████████████████████████████████| 49/49 [00:26<00:00,  1.82it/s]\n",
      "100%|███████████████████████████████████████████| 13/13 [00:02<00:00,  4.85it/s]\n"
     ]
    },
    {
     "name": "stdout",
     "output_type": "stream",
     "text": [
      "# Epoch 107 / 150\n"
     ]
    },
    {
     "name": "stderr",
     "output_type": "stream",
     "text": [
      "100%|███████████████████████████████████████████| 49/49 [00:27<00:00,  1.81it/s]\n",
      "100%|███████████████████████████████████████████| 13/13 [00:02<00:00,  4.66it/s]\n"
     ]
    },
    {
     "name": "stdout",
     "output_type": "stream",
     "text": [
      "# Epoch 108 / 150\n"
     ]
    },
    {
     "name": "stderr",
     "output_type": "stream",
     "text": [
      "100%|███████████████████████████████████████████| 49/49 [00:28<00:00,  1.72it/s]\n",
      "100%|███████████████████████████████████████████| 13/13 [00:02<00:00,  4.37it/s]\n"
     ]
    },
    {
     "name": "stdout",
     "output_type": "stream",
     "text": [
      "# Epoch 109 / 150\n"
     ]
    },
    {
     "name": "stderr",
     "output_type": "stream",
     "text": [
      "100%|███████████████████████████████████████████| 49/49 [00:27<00:00,  1.79it/s]\n",
      "100%|███████████████████████████████████████████| 13/13 [00:02<00:00,  4.41it/s]\n"
     ]
    },
    {
     "name": "stdout",
     "output_type": "stream",
     "text": [
      "# Epoch 110 / 150\n"
     ]
    },
    {
     "name": "stderr",
     "output_type": "stream",
     "text": [
      "100%|███████████████████████████████████████████| 49/49 [00:27<00:00,  1.78it/s]\n",
      "100%|███████████████████████████████████████████| 13/13 [00:02<00:00,  4.41it/s]\n"
     ]
    },
    {
     "name": "stdout",
     "output_type": "stream",
     "text": [
      "# Epoch 111 / 150\n"
     ]
    },
    {
     "name": "stderr",
     "output_type": "stream",
     "text": [
      "100%|███████████████████████████████████████████| 49/49 [00:28<00:00,  1.75it/s]\n",
      "100%|███████████████████████████████████████████| 13/13 [00:02<00:00,  4.38it/s]\n"
     ]
    },
    {
     "name": "stdout",
     "output_type": "stream",
     "text": [
      "# Epoch 112 / 150\n"
     ]
    },
    {
     "name": "stderr",
     "output_type": "stream",
     "text": [
      "100%|███████████████████████████████████████████| 49/49 [00:27<00:00,  1.76it/s]\n",
      "100%|███████████████████████████████████████████| 13/13 [00:02<00:00,  4.60it/s]\n"
     ]
    },
    {
     "name": "stdout",
     "output_type": "stream",
     "text": [
      "# Epoch 113 / 150\n"
     ]
    },
    {
     "name": "stderr",
     "output_type": "stream",
     "text": [
      "100%|███████████████████████████████████████████| 49/49 [00:27<00:00,  1.80it/s]\n",
      "100%|███████████████████████████████████████████| 13/13 [00:02<00:00,  4.49it/s]\n"
     ]
    },
    {
     "name": "stdout",
     "output_type": "stream",
     "text": [
      "# Epoch 114 / 150\n"
     ]
    },
    {
     "name": "stderr",
     "output_type": "stream",
     "text": [
      "100%|███████████████████████████████████████████| 49/49 [00:26<00:00,  1.82it/s]\n",
      "100%|███████████████████████████████████████████| 13/13 [00:02<00:00,  4.55it/s]\n"
     ]
    },
    {
     "name": "stdout",
     "output_type": "stream",
     "text": [
      "# Epoch 115 / 150\n"
     ]
    },
    {
     "name": "stderr",
     "output_type": "stream",
     "text": [
      "100%|███████████████████████████████████████████| 49/49 [00:27<00:00,  1.77it/s]\n",
      "100%|███████████████████████████████████████████| 13/13 [00:03<00:00,  4.27it/s]\n"
     ]
    },
    {
     "name": "stdout",
     "output_type": "stream",
     "text": [
      "# Epoch 116 / 150\n"
     ]
    },
    {
     "name": "stderr",
     "output_type": "stream",
     "text": [
      "100%|███████████████████████████████████████████| 49/49 [00:27<00:00,  1.75it/s]\n",
      "100%|███████████████████████████████████████████| 13/13 [00:02<00:00,  4.76it/s]\n"
     ]
    },
    {
     "name": "stdout",
     "output_type": "stream",
     "text": [
      "# Epoch 117 / 150\n"
     ]
    },
    {
     "name": "stderr",
     "output_type": "stream",
     "text": [
      "100%|███████████████████████████████████████████| 49/49 [00:28<00:00,  1.73it/s]\n",
      "100%|███████████████████████████████████████████| 13/13 [00:02<00:00,  4.84it/s]\n"
     ]
    },
    {
     "name": "stdout",
     "output_type": "stream",
     "text": [
      "# Epoch 118 / 150\n"
     ]
    },
    {
     "name": "stderr",
     "output_type": "stream",
     "text": [
      "100%|███████████████████████████████████████████| 49/49 [00:27<00:00,  1.80it/s]\n",
      "100%|███████████████████████████████████████████| 13/13 [00:02<00:00,  4.44it/s]\n"
     ]
    },
    {
     "name": "stdout",
     "output_type": "stream",
     "text": [
      "# Epoch 119 / 150\n"
     ]
    },
    {
     "name": "stderr",
     "output_type": "stream",
     "text": [
      "100%|███████████████████████████████████████████| 49/49 [00:26<00:00,  1.82it/s]\n",
      "100%|███████████████████████████████████████████| 13/13 [00:02<00:00,  4.38it/s]\n"
     ]
    },
    {
     "name": "stdout",
     "output_type": "stream",
     "text": [
      "# Epoch 120 / 150\n"
     ]
    },
    {
     "name": "stderr",
     "output_type": "stream",
     "text": [
      "100%|███████████████████████████████████████████| 49/49 [00:27<00:00,  1.81it/s]\n",
      "100%|███████████████████████████████████████████| 13/13 [00:02<00:00,  4.53it/s]\n"
     ]
    },
    {
     "name": "stdout",
     "output_type": "stream",
     "text": [
      "# Epoch 121 / 150\n"
     ]
    },
    {
     "name": "stderr",
     "output_type": "stream",
     "text": [
      "100%|███████████████████████████████████████████| 49/49 [00:27<00:00,  1.78it/s]\n",
      "100%|███████████████████████████████████████████| 13/13 [00:02<00:00,  4.82it/s]\n"
     ]
    },
    {
     "name": "stdout",
     "output_type": "stream",
     "text": [
      "# Epoch 122 / 150\n"
     ]
    },
    {
     "name": "stderr",
     "output_type": "stream",
     "text": [
      "100%|███████████████████████████████████████████| 49/49 [00:27<00:00,  1.79it/s]\n",
      "100%|███████████████████████████████████████████| 13/13 [00:02<00:00,  4.72it/s]\n"
     ]
    },
    {
     "name": "stdout",
     "output_type": "stream",
     "text": [
      "# Epoch 123 / 150\n"
     ]
    },
    {
     "name": "stderr",
     "output_type": "stream",
     "text": [
      "100%|███████████████████████████████████████████| 49/49 [00:28<00:00,  1.74it/s]\n",
      "100%|███████████████████████████████████████████| 13/13 [00:02<00:00,  4.43it/s]\n"
     ]
    },
    {
     "name": "stdout",
     "output_type": "stream",
     "text": [
      "# Epoch 124 / 150\n"
     ]
    },
    {
     "name": "stderr",
     "output_type": "stream",
     "text": [
      "100%|███████████████████████████████████████████| 49/49 [00:28<00:00,  1.72it/s]\n",
      "100%|███████████████████████████████████████████| 13/13 [00:02<00:00,  4.56it/s]\n"
     ]
    },
    {
     "name": "stdout",
     "output_type": "stream",
     "text": [
      "# Epoch 125 / 150\n"
     ]
    },
    {
     "name": "stderr",
     "output_type": "stream",
     "text": [
      "100%|███████████████████████████████████████████| 49/49 [00:27<00:00,  1.77it/s]\n",
      "100%|███████████████████████████████████████████| 13/13 [00:02<00:00,  4.68it/s]\n"
     ]
    },
    {
     "name": "stdout",
     "output_type": "stream",
     "text": [
      "# Epoch 126 / 150\n"
     ]
    },
    {
     "name": "stderr",
     "output_type": "stream",
     "text": [
      "100%|███████████████████████████████████████████| 49/49 [00:28<00:00,  1.70it/s]\n",
      "100%|███████████████████████████████████████████| 13/13 [00:02<00:00,  4.79it/s]\n"
     ]
    },
    {
     "name": "stdout",
     "output_type": "stream",
     "text": [
      "# Epoch 127 / 150\n"
     ]
    },
    {
     "name": "stderr",
     "output_type": "stream",
     "text": [
      "100%|███████████████████████████████████████████| 49/49 [00:27<00:00,  1.75it/s]\n",
      "100%|███████████████████████████████████████████| 13/13 [00:02<00:00,  4.53it/s]\n"
     ]
    },
    {
     "name": "stdout",
     "output_type": "stream",
     "text": [
      "# Epoch 128 / 150\n"
     ]
    },
    {
     "name": "stderr",
     "output_type": "stream",
     "text": [
      "100%|███████████████████████████████████████████| 49/49 [00:26<00:00,  1.82it/s]\n",
      "100%|███████████████████████████████████████████| 13/13 [00:02<00:00,  4.80it/s]\n"
     ]
    },
    {
     "name": "stdout",
     "output_type": "stream",
     "text": [
      "# Epoch 129 / 150\n"
     ]
    },
    {
     "name": "stderr",
     "output_type": "stream",
     "text": [
      "100%|███████████████████████████████████████████| 49/49 [00:27<00:00,  1.79it/s]\n",
      "100%|███████████████████████████████████████████| 13/13 [00:02<00:00,  4.66it/s]\n"
     ]
    },
    {
     "name": "stdout",
     "output_type": "stream",
     "text": [
      "# Epoch 130 / 150\n"
     ]
    },
    {
     "name": "stderr",
     "output_type": "stream",
     "text": [
      "100%|███████████████████████████████████████████| 49/49 [00:28<00:00,  1.72it/s]\n",
      "100%|███████████████████████████████████████████| 13/13 [00:02<00:00,  4.40it/s]\n"
     ]
    },
    {
     "name": "stdout",
     "output_type": "stream",
     "text": [
      "# Epoch 131 / 150\n"
     ]
    },
    {
     "name": "stderr",
     "output_type": "stream",
     "text": [
      "100%|███████████████████████████████████████████| 49/49 [00:27<00:00,  1.75it/s]\n",
      "100%|███████████████████████████████████████████| 13/13 [00:02<00:00,  4.82it/s]\n"
     ]
    },
    {
     "name": "stdout",
     "output_type": "stream",
     "text": [
      "# Epoch 132 / 150\n"
     ]
    },
    {
     "name": "stderr",
     "output_type": "stream",
     "text": [
      "100%|███████████████████████████████████████████| 49/49 [00:28<00:00,  1.73it/s]\n",
      "100%|███████████████████████████████████████████| 13/13 [00:02<00:00,  4.56it/s]\n"
     ]
    },
    {
     "name": "stdout",
     "output_type": "stream",
     "text": [
      "# Epoch 133 / 150\n"
     ]
    },
    {
     "name": "stderr",
     "output_type": "stream",
     "text": [
      "100%|███████████████████████████████████████████| 49/49 [00:27<00:00,  1.81it/s]\n",
      "100%|███████████████████████████████████████████| 13/13 [00:02<00:00,  4.60it/s]\n"
     ]
    },
    {
     "name": "stdout",
     "output_type": "stream",
     "text": [
      "# Epoch 134 / 150\n"
     ]
    },
    {
     "name": "stderr",
     "output_type": "stream",
     "text": [
      "100%|███████████████████████████████████████████| 49/49 [00:27<00:00,  1.81it/s]\n",
      "100%|███████████████████████████████████████████| 13/13 [00:02<00:00,  4.68it/s]\n"
     ]
    },
    {
     "name": "stdout",
     "output_type": "stream",
     "text": [
      "# Epoch 135 / 150\n"
     ]
    },
    {
     "name": "stderr",
     "output_type": "stream",
     "text": [
      "100%|███████████████████████████████████████████| 49/49 [00:27<00:00,  1.78it/s]\n",
      "100%|███████████████████████████████████████████| 13/13 [00:02<00:00,  4.55it/s]\n"
     ]
    },
    {
     "name": "stdout",
     "output_type": "stream",
     "text": [
      "# Epoch 136 / 150\n"
     ]
    },
    {
     "name": "stderr",
     "output_type": "stream",
     "text": [
      "100%|███████████████████████████████████████████| 49/49 [00:28<00:00,  1.74it/s]\n",
      "100%|███████████████████████████████████████████| 13/13 [00:02<00:00,  4.41it/s]\n"
     ]
    },
    {
     "name": "stdout",
     "output_type": "stream",
     "text": [
      "# Epoch 137 / 150\n"
     ]
    },
    {
     "name": "stderr",
     "output_type": "stream",
     "text": [
      "100%|███████████████████████████████████████████| 49/49 [00:27<00:00,  1.81it/s]\n",
      "100%|███████████████████████████████████████████| 13/13 [00:02<00:00,  5.19it/s]\n"
     ]
    },
    {
     "name": "stdout",
     "output_type": "stream",
     "text": [
      "# Epoch 138 / 150\n"
     ]
    },
    {
     "name": "stderr",
     "output_type": "stream",
     "text": [
      "100%|███████████████████████████████████████████| 49/49 [00:27<00:00,  1.79it/s]\n",
      "100%|███████████████████████████████████████████| 13/13 [00:02<00:00,  4.84it/s]\n"
     ]
    },
    {
     "name": "stdout",
     "output_type": "stream",
     "text": [
      "# Epoch 139 / 150\n"
     ]
    },
    {
     "name": "stderr",
     "output_type": "stream",
     "text": [
      "100%|███████████████████████████████████████████| 49/49 [00:27<00:00,  1.77it/s]\n",
      "100%|███████████████████████████████████████████| 13/13 [00:02<00:00,  4.57it/s]\n"
     ]
    },
    {
     "name": "stdout",
     "output_type": "stream",
     "text": [
      "# Epoch 140 / 150\n"
     ]
    },
    {
     "name": "stderr",
     "output_type": "stream",
     "text": [
      "100%|███████████████████████████████████████████| 49/49 [00:27<00:00,  1.78it/s]\n",
      "100%|███████████████████████████████████████████| 13/13 [00:02<00:00,  4.61it/s]\n"
     ]
    },
    {
     "name": "stdout",
     "output_type": "stream",
     "text": [
      "# Epoch 141 / 150\n"
     ]
    },
    {
     "name": "stderr",
     "output_type": "stream",
     "text": [
      "100%|███████████████████████████████████████████| 49/49 [00:28<00:00,  1.73it/s]\n",
      "100%|███████████████████████████████████████████| 13/13 [00:02<00:00,  4.84it/s]\n"
     ]
    },
    {
     "name": "stdout",
     "output_type": "stream",
     "text": [
      "# Epoch 142 / 150\n"
     ]
    },
    {
     "name": "stderr",
     "output_type": "stream",
     "text": [
      "100%|███████████████████████████████████████████| 49/49 [00:27<00:00,  1.75it/s]\n",
      "100%|███████████████████████████████████████████| 13/13 [00:03<00:00,  4.28it/s]\n"
     ]
    },
    {
     "name": "stdout",
     "output_type": "stream",
     "text": [
      "# Epoch 143 / 150\n"
     ]
    },
    {
     "name": "stderr",
     "output_type": "stream",
     "text": [
      "100%|███████████████████████████████████████████| 49/49 [00:27<00:00,  1.79it/s]\n",
      "100%|███████████████████████████████████████████| 13/13 [00:02<00:00,  4.54it/s]\n"
     ]
    },
    {
     "name": "stdout",
     "output_type": "stream",
     "text": [
      "# Epoch 144 / 150\n"
     ]
    },
    {
     "name": "stderr",
     "output_type": "stream",
     "text": [
      "100%|███████████████████████████████████████████| 49/49 [00:28<00:00,  1.70it/s]\n",
      "100%|███████████████████████████████████████████| 13/13 [00:02<00:00,  4.60it/s]\n"
     ]
    },
    {
     "name": "stdout",
     "output_type": "stream",
     "text": [
      "# Epoch 145 / 150\n"
     ]
    },
    {
     "name": "stderr",
     "output_type": "stream",
     "text": [
      "100%|███████████████████████████████████████████| 49/49 [00:28<00:00,  1.72it/s]\n",
      "100%|███████████████████████████████████████████| 13/13 [00:02<00:00,  4.43it/s]\n"
     ]
    },
    {
     "name": "stdout",
     "output_type": "stream",
     "text": [
      "# Epoch 146 / 150\n"
     ]
    },
    {
     "name": "stderr",
     "output_type": "stream",
     "text": [
      "100%|███████████████████████████████████████████| 49/49 [00:26<00:00,  1.85it/s]\n",
      "100%|███████████████████████████████████████████| 13/13 [00:02<00:00,  4.62it/s]\n"
     ]
    },
    {
     "name": "stdout",
     "output_type": "stream",
     "text": [
      "# Epoch 147 / 150\n"
     ]
    },
    {
     "name": "stderr",
     "output_type": "stream",
     "text": [
      "100%|███████████████████████████████████████████| 49/49 [00:28<00:00,  1.74it/s]\n",
      "100%|███████████████████████████████████████████| 13/13 [00:02<00:00,  4.68it/s]\n"
     ]
    },
    {
     "name": "stdout",
     "output_type": "stream",
     "text": [
      "# Epoch 148 / 150\n"
     ]
    },
    {
     "name": "stderr",
     "output_type": "stream",
     "text": [
      "100%|███████████████████████████████████████████| 49/49 [00:27<00:00,  1.79it/s]\n",
      "100%|███████████████████████████████████████████| 13/13 [00:02<00:00,  4.71it/s]\n"
     ]
    },
    {
     "name": "stdout",
     "output_type": "stream",
     "text": [
      "# Epoch 149 / 150\n"
     ]
    },
    {
     "name": "stderr",
     "output_type": "stream",
     "text": [
      "100%|███████████████████████████████████████████| 49/49 [00:27<00:00,  1.79it/s]\n",
      "100%|███████████████████████████████████████████| 13/13 [00:02<00:00,  4.46it/s]\n"
     ]
    },
    {
     "name": "stdout",
     "output_type": "stream",
     "text": [
      "# Epoch 150 / 150\n"
     ]
    },
    {
     "name": "stderr",
     "output_type": "stream",
     "text": [
      "100%|███████████████████████████████████████████| 49/49 [00:27<00:00,  1.79it/s]\n",
      "100%|███████████████████████████████████████████| 13/13 [00:02<00:00,  4.43it/s]\n"
     ]
    },
    {
     "data": {
      "text/html": [
       "Waiting for W&B process to finish... <strong style=\"color:green\">(success).</strong>"
      ],
      "text/plain": [
       "<IPython.core.display.HTML object>"
      ]
     },
     "metadata": {},
     "output_type": "display_data"
    },
    {
     "data": {
      "application/vnd.jupyter.widget-view+json": {
       "model_id": "",
       "version_major": 2,
       "version_minor": 0
      },
      "text/plain": [
       "VBox(children=(Label(value='0.001 MB of 0.001 MB uploaded (0.000 MB deduped)\\r'), FloatProgress(value=1.0, max…"
      ]
     },
     "metadata": {},
     "output_type": "display_data"
    },
    {
     "data": {
      "text/html": [
       "<style>\n",
       "    table.wandb td:nth-child(1) { padding: 0 10px; text-align: left ; width: auto;} td:nth-child(2) {text-align: left ; width: 100%}\n",
       "    .wandb-row { display: flex; flex-direction: row; flex-wrap: wrap; justify-content: flex-start; width: 100% }\n",
       "    .wandb-col { display: flex; flex-direction: column; flex-basis: 100%; flex: 1; padding: 10px; }\n",
       "    </style>\n",
       "<div class=\"wandb-row\"><div class=\"wandb-col\"><h3>Run history:</h3><br/><table class=\"wandb\"><tr><td>lr</td><td>████▂▂▂▂▂▂▂▁▁▁▁▁▁▁▁▁▁▁▁▁▁▁▁▁▁▁▁▁▁▁▁▁▁▁▁▁</td></tr><tr><td>train_mae</td><td>█▆▆▅▄▃▃▃▃▂▃▂▂▂▁▂▂▂▂▂▁▁▂▂▂▂▁▂▂▂▁▂▂▁▁▁▂▁▁▁</td></tr><tr><td>train_mse</td><td>█▆▅▅▄▃▃▃▃▂▃▂▂▂▁▂▂▂▂▂▁▂▂▂▂▂▁▂▂▂▁▂▂▂▁▁▁▂▁▁</td></tr><tr><td>train_pearson</td><td>▁▃▄▄▅▆▆▆▆▇▆▇▇▇██▇▇▇▇██▇▇▇▇█▇▇▇█▇▇▇███▇██</td></tr><tr><td>train_spearman</td><td>▁▃▅▅▆▇▆▇▇▇▇▇██▇██▇█▇████▇▇██▇▇█▇▇█▇█▇███</td></tr><tr><td>valid_mae</td><td>▃▅▂█▂▄▃▂▅▁▁▃▃▃▃▃▃▃▃▃▃▃▃▃▃▃▃▃▃▃▃▃▃▃▃▃▃▃▃▃</td></tr><tr><td>valid_mse</td><td>█▃▃▅▂▂▂▁▃▁▃▁▁▂▁▁▁▁▁▁▂▁▁▁▁▁▁▁▁▁▁▁▁▁▁▁▁▁▁▁</td></tr><tr><td>valid_pearson</td><td>▁▃▄▄▅▅▆▇▆██▇▇▇▇▇▇▇▇▇▇▇▇▇▇▇▇▇▇▇▇▇▇▇▇▇▇▇▇▇</td></tr><tr><td>valid_spearman</td><td>▁▃▅▇▇█▇█▇██▇▇▆▇▇▇▇▇▆▇▇▇▇▇▇▆▇▇▆▇▇▇▇▇▇▇▇▇▇</td></tr></table><br/></div><div class=\"wandb-col\"><h3>Run summary:</h3><br/><table class=\"wandb\"><tr><td>lr</td><td>0.0</td></tr><tr><td>train_mae</td><td>0.27969</td></tr><tr><td>train_mse</td><td>0.19825</td></tr><tr><td>train_pearson</td><td>0.61869</td></tr><tr><td>train_spearman</td><td>0.55147</td></tr><tr><td>valid_mae</td><td>0.30296</td></tr><tr><td>valid_mse</td><td>0.21536</td></tr><tr><td>valid_pearson</td><td>0.59731</td></tr><tr><td>valid_spearman</td><td>0.56968</td></tr></table><br/></div></div>"
      ],
      "text/plain": [
       "<IPython.core.display.HTML object>"
      ]
     },
     "metadata": {},
     "output_type": "display_data"
    },
    {
     "data": {
      "text/html": [
       "Synced <strong style=\"color:#cdcd00\">wobbly-meadow-18</strong>: <a href=\"https://wandb.ai/hei-jung/20230214-validation/runs/1a0w58rs\" target=\"_blank\">https://wandb.ai/hei-jung/20230214-validation/runs/1a0w58rs</a><br/>Synced 6 W&B file(s), 0 media file(s), 0 artifact file(s) and 0 other file(s)"
      ],
      "text/plain": [
       "<IPython.core.display.HTML object>"
      ]
     },
     "metadata": {},
     "output_type": "display_data"
    },
    {
     "data": {
      "text/html": [
       "Find logs at: <code>./wandb/run-20230306_194934-1a0w58rs/logs</code>"
      ],
      "text/plain": [
       "<IPython.core.display.HTML object>"
      ]
     },
     "metadata": {},
     "output_type": "display_data"
    }
   ],
   "source": [
    "for lds, fds in [(True,True),(True,False),(False,True),(False,False)]:\n",
    "    set_seed()\n",
    "\n",
    "    model = SFCN_FDS(dropout_p=dropout_rate, fds=fds)\n",
    "    model.fc.add_module('relu', nn.LeakyReLU())\n",
    "    model = torch.nn.DataParallel(model, device_ids=[0, 1])\n",
    "    model.cuda()\n",
    "\n",
    "    wandb.init(project='20230214-validation',\n",
    "               config={\"model\": \"sfcn+lkrelu\", \"dropout\": dropout_rate,\n",
    "                       \"weight_decay\": weight_decay, \"epochs\": epochs, \"batch_size\": batch_size,\n",
    "                       \"cost_function\": \"mse_loss\", \"optimizer\": optim_class.__name__,\n",
    "                       \"scheduler\": sched_class.__name__, \"lds\": lds, \"fds\": fds})\n",
    "    wandb.watch(model)\n",
    "\n",
    "    optimizer = optim_class(model.parameters(), lr=lr, weight_decay=weight_decay)\n",
    "    scheduler = sched_class(optimizer, mode='min', patience=5, min_lr=0)\n",
    "\n",
    "    best_mae, best_mse, best_p, best_s = 100, 100, 0, 0\n",
    "\n",
    "    set_seed()\n",
    "    for epoch in range(epochs):\n",
    "        print('# Epoch %d / %d'%(epoch + 1, epochs))   \n",
    "\n",
    "        # train set\n",
    "        augment = get_augmentation_transform()\n",
    "        train_set = NeckDataset(X_train, y_train, transform=augment, lds=lds)\n",
    "        train_loader = DataLoader(train_set, batch_size=batch_size, num_workers=16)\n",
    "\n",
    "        # validation set\n",
    "\n",
    "        preds_t, truths_t, mae_t, mse_t = train(model, train_loader, epoch, lr, weight_decay, optimizer, lds=lds, fds=fds)\n",
    "        preds_v, truths_v, mae_v, mse_v = valid(model, test_loader)\n",
    "\n",
    "        scheduler.step(mse_v)\n",
    "        last_lr = scheduler._last_lr[0]\n",
    "\n",
    "        train_p, _ = pearsonr(preds_t, truths_t)\n",
    "        train_s, _ = spearmanr(preds_t, truths_t)\n",
    "        train_mae = mae_t / len(train_loader)\n",
    "        train_mse = mse_t / len(train_loader)\n",
    "\n",
    "        valid_p, _ = pearsonr(preds_v, truths_v)\n",
    "        valid_s, _ = spearmanr(preds_v, truths_v)\n",
    "        valid_mae = mae_v / len(test_loader)\n",
    "        valid_mse = mse_v / len(test_loader)\n",
    "\n",
    "        if best_mse > valid_mse:\n",
    "            best_mse = valid_mse\n",
    "            torch.save(model.state_dict(), 'pretrained/230304_sfcnlkrelu+mse_{}_lds{}fds{}_bestmse'.format(sched_class.__name__, lds, fds))\n",
    "        if best_mae > valid_mae:\n",
    "            best_mae = valid_mae\n",
    "            torch.save(model.state_dict(), 'pretrained/230304_sfcnlkrelu+mse_{}_lds{}fds{}_bestmae'.format(sched_class.__name__, lds, fds))\n",
    "        if best_p < valid_p:\n",
    "            best_p = valid_p\n",
    "        if best_s < valid_s:\n",
    "            best_s = valid_s\n",
    "\n",
    "        wandb.log({\"train_mae\": train_mae, \"train_mse\": train_mse, \"valid_mae\": valid_mae, \"valid_mse\": valid_mse,\n",
    "                   \"train_pearson\": train_p, \"train_spearman\": train_s, \"valid_pearson\": valid_p, \"valid_spearman\": valid_s,\n",
    "                   \"lr\": last_lr})\n",
    "    wandb.finish()\n",
    "    torch.save(model.state_dict(), 'pretrained/230304_sfcnlkrelu+mse_{}_lds{}fds{}_epochs{}'.format(sched_class.__name__, lds, fds, epochs))\n"
   ]
  },
  {
   "cell_type": "code",
   "execution_count": 16,
   "id": "ba474024",
   "metadata": {},
   "outputs": [],
   "source": [
    "import seaborn as sns\n",
    "\n",
    "def predict(model, data_loader, title='', line=False):\n",
    "    model.eval()\n",
    "    preds, truths = np.array([]), np.array([])\n",
    "    with torch.no_grad():\n",
    "        for inputs, labels, _ in tqdm(data_loader):\n",
    "            inputs, labels = inputs.to(device, dtype=torch.float), labels.to(device, dtype=torch.float)\n",
    "            output = model(inputs)\n",
    "            pred = output.detach().cpu().numpy()\n",
    "            truth = labels.detach().cpu().numpy()\n",
    "            preds = np.append(preds, pred.reshape(pred.size), axis=0)\n",
    "            truths = np.append(truths, truth.reshape(truth.size), axis=0)\n",
    "        \n",
    "    # Get correlation coefficients\n",
    "    pearson, pearson_p = pearsonr(preds, truths)\n",
    "    spearman, spearman_p = spearmanr(preds, truths)\n",
    "    \n",
    "    # For range setting\n",
    "    _min = y_min\n",
    "    _max = y_max\n",
    "    \n",
    "    # Figure size\n",
    "#     plt.figure(figsize=(5, 5))\n",
    "    \n",
    "    # Reference line\n",
    "    x = np.linspace(_min, _max)\n",
    "    y = x\n",
    "    plt.plot(x, y, c='gray', ls='--', label='Reference r = 1.0')\n",
    "    \n",
    "    # Regression Plot\n",
    "    \n",
    "    ## Scatter\n",
    "    plt.scatter(truths, preds, c='steelblue', label='Pearson\\'s r = {:.2f} / Spearman\\'s r = {:.2f}'.format(pearson,spearman))\n",
    "    \n",
    "    ## Linear Regression Line\n",
    "    if line:\n",
    "        m, b = np.polyfit(truths, preds, 1)\n",
    "        plt.plot(truths, m*truths + b, c='steelblue', label='m = {:.2f}'.format(m))\n",
    "#     # Regression Plot at once\n",
    "#     sns.regplot(x=truths, y=preds, ci=None, color='steelblue', label='Pearson r = {:.2f}'.format(pearson))\n",
    "\n",
    "    if title != '':\n",
    "        plt.title(title)\n",
    "    \n",
    "    plt.axis('square')\n",
    "    plt.ylabel('Predicted WMH'); plt.xlabel('Ground Truth')\n",
    "    plt.legend()\n",
    "    plt.tight_layout()\n",
    "    plt.xlim([_min, _max])\n",
    "    plt.ylim([_min, _max])\n",
    "    plt.show()\n",
    "    plt.close()\n",
    "    \n",
    "    return preds, truths"
   ]
  },
  {
   "cell_type": "code",
   "execution_count": 17,
   "id": "f495f821",
   "metadata": {},
   "outputs": [
    {
     "data": {
      "text/plain": [
       "(-0.5, 4.701782967868128)"
      ]
     },
     "execution_count": 17,
     "metadata": {},
     "output_type": "execute_result"
    }
   ],
   "source": [
    "y_min, y_max =y_test.min()-0.5, y_test.max()+0.5\n",
    "y_min, y_max"
   ]
  },
  {
   "cell_type": "code",
   "execution_count": 22,
   "id": "208b1812",
   "metadata": {},
   "outputs": [
    {
     "name": "stderr",
     "output_type": "stream",
     "text": [
      "100%|███████████████████████████████████████████| 13/13 [00:02<00:00,  4.63it/s]\n"
     ]
    },
    {
     "data": {
      "image/png": "[encoded data removed]",
      "text/plain": [
       "<Figure size 432x288 with 1 Axes>"
      ]
     },
     "metadata": {
      "needs_background": "light"
     },
     "output_type": "display_data"
    },
    {
     "name": "stderr",
     "output_type": "stream",
     "text": [
      "100%|███████████████████████████████████████████| 13/13 [00:02<00:00,  4.69it/s]\n"
     ]
    },
    {
     "data": {
      "image/png": "[encoded data removed]",
      "text/plain": [
       "<Figure size 432x288 with 1 Axes>"
      ]
     },
     "metadata": {
      "needs_background": "light"
     },
     "output_type": "display_data"
    },
    {
     "name": "stderr",
     "output_type": "stream",
     "text": [
      "100%|███████████████████████████████████████████| 13/13 [00:02<00:00,  5.05it/s]\n"
     ]
    },
    {
     "data": {
      "image/png": "[encoded data removed]",
      "text/plain": [
       "<Figure size 432x288 with 1 Axes>"
      ]
     },
     "metadata": {
      "needs_background": "light"
     },
     "output_type": "display_data"
    }
   ],
   "source": [
    "fds = True\n",
    "\n",
    "# FDS net, best MSE\n",
    "net = SFCN_FDS(dropout_p=dropout_rate, fds=fds)\n",
    "net.fc.add_module('relu', nn.LeakyReLU())\n",
    "net = torch.nn.DataParallel(net, device_ids=[0, 1])\n",
    "net.load_state_dict(torch.load('pretrained/230304_sfcnlkrelu+mse_{}_ldsFalsefds{}_bestmse'.format(sched_class.__name__, fds)))\n",
    "net.cuda()\n",
    "_,_ = predict(net, test_loader)\n",
    "\n",
    "# FDS net, best MAE\n",
    "net = SFCN_FDS(dropout_p=dropout_rate, fds=fds)\n",
    "net.fc.add_module('relu', nn.LeakyReLU())\n",
    "net = torch.nn.DataParallel(net, device_ids=[0, 1])\n",
    "net.load_state_dict(torch.load('pretrained/230304_sfcnlkrelu+mse_{}_ldsFalsefds{}_bestmae'.format(sched_class.__name__, fds)))\n",
    "net.cuda()\n",
    "_,_ = predict(net, test_loader)\n",
    "\n",
    "# FDS net, epoch 150\n",
    "net = SFCN_FDS(dropout_p=dropout_rate, fds=fds)\n",
    "net.fc.add_module('relu', nn.LeakyReLU())\n",
    "net = torch.nn.DataParallel(net, device_ids=[0, 1])\n",
    "net.load_state_dict(torch.load('pretrained/230304_sfcnlkrelu+mse_{}_ldsFalsefds{}_epochs{}'.format(sched_class.__name__, fds, epochs)))\n",
    "net.cuda()\n",
    "_,_ = predict(net, test_loader)"
   ]
  },
  {
   "cell_type": "code",
   "execution_count": 23,
   "id": "fc6cc2bb",
   "metadata": {
    "scrolled": true
   },
   "outputs": [
    {
     "name": "stderr",
     "output_type": "stream",
     "text": [
      "100%|███████████████████████████████████████████| 13/13 [00:02<00:00,  4.59it/s]\n"
     ]
    },
    {
     "data": {
      "image/png": "[encoded data removed]",
      "text/plain": [
       "<Figure size 432x288 with 1 Axes>"
      ]
     },
     "metadata": {
      "needs_background": "light"
     },
     "output_type": "display_data"
    },
    {
     "name": "stderr",
     "output_type": "stream",
     "text": [
      "100%|███████████████████████████████████████████| 13/13 [00:02<00:00,  4.53it/s]\n"
     ]
    },
    {
     "data": {
      "image/png": "[encoded data removed]",
      "text/plain": [
       "<Figure size 432x288 with 1 Axes>"
      ]
     },
     "metadata": {
      "needs_background": "light"
     },
     "output_type": "display_data"
    },
    {
     "name": "stderr",
     "output_type": "stream",
     "text": [
      "100%|███████████████████████████████████████████| 13/13 [00:02<00:00,  4.68it/s]\n"
     ]
    },
    {
     "data": {
      "image/png": "[encoded data removed]",
      "text/plain": [
       "<Figure size 432x288 with 1 Axes>"
      ]
     },
     "metadata": {
      "needs_background": "light"
     },
     "output_type": "display_data"
    }
   ],
   "source": [
    "fds = False\n",
    "\n",
    "# original net, best MSE\n",
    "net = SFCN_FDS(dropout_p=dropout_rate, fds=fds)\n",
    "net.fc.add_module('relu', nn.LeakyReLU())\n",
    "net = torch.nn.DataParallel(net, device_ids=[0, 1])\n",
    "net.load_state_dict(torch.load('pretrained/230304_sfcnlkrelu+mse_{}_ldsFalsefds{}_bestmse'.format(sched_class.__name__, fds)))\n",
    "net.cuda()\n",
    "_,_ = predict(net, test_loader)\n",
    "\n",
    "# original net, best MAE\n",
    "net = SFCN_FDS(dropout_p=dropout_rate, fds=fds)\n",
    "net.fc.add_module('relu', nn.LeakyReLU())\n",
    "net = torch.nn.DataParallel(net, device_ids=[0, 1])\n",
    "net.load_state_dict(torch.load('pretrained/230304_sfcnlkrelu+mse_{}_ldsFalsefds{}_bestmae'.format(sched_class.__name__, fds)))\n",
    "net.cuda()\n",
    "_,_ = predict(net, test_loader)\n",
    "\n",
    "# original net, epoch 150\n",
    "net = SFCN_FDS(dropout_p=dropout_rate, fds=fds)\n",
    "net.fc.add_module('relu', nn.LeakyReLU())\n",
    "net = torch.nn.DataParallel(net, device_ids=[0, 1])\n",
    "net.load_state_dict(torch.load('pretrained/230304_sfcnlkrelu+mse_{}_ldsFalsefds{}_epochs{}'.format(sched_class.__name__, fds, epochs)))\n",
    "net.cuda()\n",
    "_,_ = predict(net, test_loader)"
   ]
  },
  {
   "cell_type": "code",
   "execution_count": 24,
   "id": "8f1a2a2f",
   "metadata": {},
   "outputs": [
    {
     "name": "stderr",
     "output_type": "stream",
     "text": [
      "100%|███████████████████████████████████████████| 13/13 [00:02<00:00,  4.78it/s]\n"
     ]
    },
    {
     "data": {
      "image/png": "[encoded data removed]",
      "text/plain": [
       "<Figure size 432x288 with 1 Axes>"
      ]
     },
     "metadata": {
      "needs_background": "light"
     },
     "output_type": "display_data"
    },
    {
     "name": "stderr",
     "output_type": "stream",
     "text": [
      "100%|███████████████████████████████████████████| 13/13 [00:02<00:00,  4.92it/s]\n"
     ]
    },
    {
     "data": {
      "image/png": "[encoded data removed]",
      "text/plain": [
       "<Figure size 432x288 with 1 Axes>"
      ]
     },
     "metadata": {
      "needs_background": "light"
     },
     "output_type": "display_data"
    },
    {
     "name": "stderr",
     "output_type": "stream",
     "text": [
      "100%|███████████████████████████████████████████| 13/13 [00:02<00:00,  5.01it/s]\n"
     ]
    },
    {
     "data": {
      "image/png": "[encoded data removed]",
      "text/plain": [
       "<Figure size 432x288 with 1 Axes>"
      ]
     },
     "metadata": {
      "needs_background": "light"
     },
     "output_type": "display_data"
    }
   ],
   "source": [
    "lds = True\n",
    "fds = False\n",
    "\n",
    "# original net, best MSE\n",
    "net = SFCN_FDS(dropout_p=dropout_rate, fds=fds)\n",
    "net.fc.add_module('relu', nn.LeakyReLU())\n",
    "net = torch.nn.DataParallel(net, device_ids=[0, 1])\n",
    "net.load_state_dict(torch.load('pretrained/230304_sfcnlkrelu+mse_{}_ldsTruefds{}_bestmse'.format(sched_class.__name__, fds)))\n",
    "net.cuda()\n",
    "_,_ = predict(net, test_loader)\n",
    "\n",
    "# original net, best MAE\n",
    "net = SFCN_FDS(dropout_p=dropout_rate, fds=fds)\n",
    "net.fc.add_module('relu', nn.LeakyReLU())\n",
    "net = torch.nn.DataParallel(net, device_ids=[0, 1])\n",
    "net.load_state_dict(torch.load('pretrained/230304_sfcnlkrelu+mse_{}_ldsTruefds{}_bestmae'.format(sched_class.__name__, fds)))\n",
    "net.cuda()\n",
    "_,_ = predict(net, test_loader)\n",
    "\n",
    "# original net, epoch 150\n",
    "net = SFCN_FDS(dropout_p=dropout_rate, fds=fds)\n",
    "net.fc.add_module('relu', nn.LeakyReLU())\n",
    "net = torch.nn.DataParallel(net, device_ids=[0, 1])\n",
    "net.load_state_dict(torch.load('pretrained/230304_sfcnlkrelu+mse_{}_ldsTruefds{}_epochs{}'.format(sched_class.__name__, fds, epochs)))\n",
    "net.cuda()\n",
    "_,_ = predict(net, test_loader)"
   ]
  },
  {
   "cell_type": "code",
   "execution_count": 25,
   "id": "3c20b11e",
   "metadata": {},
   "outputs": [
    {
     "name": "stderr",
     "output_type": "stream",
     "text": [
      "100%|███████████████████████████████████████████| 13/13 [00:02<00:00,  5.06it/s]\n"
     ]
    },
    {
     "data": {
      "image/png": "[encoded data removed]",
      "text/plain": [
       "<Figure size 432x288 with 1 Axes>"
      ]
     },
     "metadata": {
      "needs_background": "light"
     },
     "output_type": "display_data"
    },
    {
     "name": "stderr",
     "output_type": "stream",
     "text": [
      "100%|███████████████████████████████████████████| 13/13 [00:02<00:00,  5.10it/s]\n"
     ]
    },
    {
     "data": {
      "image/png": "[encoded data removed]",
      "text/plain": [
       "<Figure size 432x288 with 1 Axes>"
      ]
     },
     "metadata": {
      "needs_background": "light"
     },
     "output_type": "display_data"
    },
    {
     "name": "stderr",
     "output_type": "stream",
     "text": [
      "100%|███████████████████████████████████████████| 13/13 [00:02<00:00,  4.88it/s]\n"
     ]
    },
    {
     "data": {
      "image/png": "[encoded data removed]",
      "text/plain": [
       "<Figure size 432x288 with 1 Axes>"
      ]
     },
     "metadata": {
      "needs_background": "light"
     },
     "output_type": "display_data"
    }
   ],
   "source": [
    "lds = True\n",
    "fds = True\n",
    "\n",
    "# original net, best MSE\n",
    "net = SFCN_FDS(dropout_p=dropout_rate, fds=fds)\n",
    "net.fc.add_module('relu', nn.LeakyReLU())\n",
    "net = torch.nn.DataParallel(net, device_ids=[0, 1])\n",
    "net.load_state_dict(torch.load('pretrained/230304_sfcnlkrelu+mse_{}_ldsTruefds{}_bestmse'.format(sched_class.__name__, fds)))\n",
    "net.cuda()\n",
    "_,_ = predict(net, test_loader)\n",
    "\n",
    "# original net, best MAE\n",
    "net = SFCN_FDS(dropout_p=dropout_rate, fds=fds)\n",
    "net.fc.add_module('relu', nn.LeakyReLU())\n",
    "net = torch.nn.DataParallel(net, device_ids=[0, 1])\n",
    "net.load_state_dict(torch.load('pretrained/230304_sfcnlkrelu+mse_{}_ldsTruefds{}_bestmae'.format(sched_class.__name__, fds)))\n",
    "net.cuda()\n",
    "_,_ = predict(net, test_loader)\n",
    "\n",
    "# original net, epoch 150\n",
    "net = SFCN_FDS(dropout_p=dropout_rate, fds=fds)\n",
    "net.fc.add_module('relu', nn.LeakyReLU())\n",
    "net = torch.nn.DataParallel(net, device_ids=[0, 1])\n",
    "net.load_state_dict(torch.load('pretrained/230304_sfcnlkrelu+mse_{}_ldsTruefds{}_epochs{}'.format(sched_class.__name__, fds, epochs)))\n",
    "net.cuda()\n",
    "_,_ = predict(net, test_loader)"
   ]
  },
  {
   "cell_type": "code",
   "execution_count": null,
   "id": "b9fcf45b",
   "metadata": {},
   "outputs": [],
   "source": [
    "net = SFCN()\n",
    "net.load_state_dict(torch.load('pretrained/230228_sfcn+mse_ReduceLROnPlateau_bestmse'))\n",
    "# net.to(device)\n",
    "# _,_ = predict(net, test_loader)"
   ]
  },
  {
   "cell_type": "code",
   "execution_count": null,
   "id": "df0a3066",
   "metadata": {},
   "outputs": [],
   "source": [
    "dataset = NeckDataset(train_X, train_y)\n",
    "data_loader = DataLoader(dataset, batch_size=batch_size, num_workers=16)\n",
    "_,_ = predict(model, train_loader, 'Training set')"
   ]
  }
 ],
 "metadata": {
  "kernelspec": {
   "display_name": "Python 3 (ipykernel)",
   "language": "python",
   "name": "python3"
  },
  "language_info": {
   "codemirror_mode": {
    "name": "ipython",
    "version": 3
   },
   "file_extension": ".py",
   "mimetype": "text/x-python",
   "name": "python",
   "nbconvert_exporter": "python",
   "pygments_lexer": "ipython3",
   "version": "3.8.13"
  }
 },
 "nbformat": 4,
 "nbformat_minor": 5
}
