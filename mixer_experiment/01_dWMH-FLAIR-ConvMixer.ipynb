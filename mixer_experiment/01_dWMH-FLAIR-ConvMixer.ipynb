{
 "cells": [
  {
   "cell_type": "code",
   "execution_count": 1,
   "id": "b9c0d942",
   "metadata": {},
   "outputs": [],
   "source": [
    "import os\n",
    "os.environ[\"CUDA_DEVICE_ORDER\"] = \"PCI_BUS_ID\"\n",
    "os.environ[\"CUDA_VISIBLE_DEVICES\"] = \"0,1\""
   ]
  },
  {
   "cell_type": "code",
   "execution_count": 2,
   "id": "c31da569",
   "metadata": {
    "scrolled": true
   },
   "outputs": [],
   "source": [
    "import random\n",
    "import numpy as np\n",
    "from tqdm import tqdm\n",
    "import pandas as pd\n",
    "from scipy import ndimage\n",
    "from scipy.ndimage import zoom\n",
    "import gc\n",
    "from sklearn.model_selection import train_test_split, KFold\n",
    "import matplotlib.pyplot as plt\n",
    "import matplotlib.patches as mpatches\n",
    "import torch\n",
    "from torch import nn, optim\n",
    "from torch.nn import functional as F\n",
    "from torch.utils.data import Dataset, DataLoader, SubsetRandomSampler\n",
    "import torch.backends.cudnn as cudnn\n",
    "import types\n",
    "from scipy.stats import pearsonr, spearmanr\n",
    "import torchio as tio\n",
    "from datetime import datetime\n",
    "import wandb\n",
    "from models.convmixer import *"
   ]
  },
  {
   "cell_type": "code",
   "execution_count": 3,
   "id": "7f0a9eef",
   "metadata": {},
   "outputs": [],
   "source": [
    "RANDOM_SEED = 551"
   ]
  },
  {
   "cell_type": "code",
   "execution_count": 4,
   "id": "0e96349f",
   "metadata": {},
   "outputs": [],
   "source": [
    "# control randomness\n",
    "def set_seed(random_seed=551):\n",
    "    torch.manual_seed(random_seed)\n",
    "    torch.cuda.manual_seed(random_seed)\n",
    "    torch.cuda.manual_seed_all(random_seed)\n",
    "    np.random.seed(random_seed)\n",
    "    cudnn.benchmark = False\n",
    "    cudnn.deterministic = True\n",
    "    random.seed(random_seed)"
   ]
  },
  {
   "cell_type": "code",
   "execution_count": 5,
   "id": "f7a34af8",
   "metadata": {},
   "outputs": [],
   "source": [
    "def load_data(img_dir, label_dir, label_name, std=False, norm=True):\n",
    "    df = pd.read_csv(label_dir, index_col=0)[label_name]\n",
    "    filenames = df.index\n",
    "    images = []\n",
    "    for i, index in enumerate(filenames):\n",
    "        file_name = img_dir + index + '.npy'\n",
    "        img = np.load(file_name)\n",
    "        x, y, z = img.shape\n",
    "        if norm:\n",
    "            img = (img - img.min()) / (img.max() - img.min())\n",
    "        if std:\n",
    "            m = np.mean(img)\n",
    "            s = np.std(img)\n",
    "            img = (img - m) / s\n",
    "        img = img.reshape((1, x, y, z))\n",
    "        images.append(img)\n",
    "    return images, df"
   ]
  },
  {
   "cell_type": "code",
   "execution_count": 6,
   "id": "f736886e",
   "metadata": {},
   "outputs": [],
   "source": [
    "# augmentation\n",
    "def get_augmentation_transform():\n",
    "    random_rotate = tio.RandomAffine(scales=(1.0, 1.0),\n",
    "                                     degrees=12,)\n",
    "    random_flip = tio.RandomFlip(axes='LR',\n",
    "                                 flip_probability=0.5)\n",
    "    random_shift = tio.RandomAffine(scales=(1.0, 1.0),\n",
    "                                    degrees=0,\n",
    "                                    translation=(20,20,20))\n",
    "    compose = tio.transforms.Compose([random_rotate, random_flip, random_shift])\n",
    "    augment = tio.transforms.OneOf([random_rotate, random_flip, random_shift, compose])\n",
    "    return augment"
   ]
  },
  {
   "cell_type": "code",
   "execution_count": 7,
   "id": "60667d38",
   "metadata": {},
   "outputs": [],
   "source": [
    "class NeckDataset(Dataset):\n",
    "    def __init__(self, X=None, y=None, transform=None, lds=False, lds_kernel='gaussian', lds_ks=5, lds_sigma=2):\n",
    "        self.X = X\n",
    "        self.y = y.values\n",
    "        self.transform = transform\n",
    "        \n",
    "    def __len__(self):\n",
    "        return len(self.y)\n",
    "    \n",
    "    def __getitem__(self, idx):\n",
    "        image = self.X[idx]\n",
    "        label = np.array([self.y[idx]]).astype('float16')\n",
    "        if self.transform is not None:\n",
    "            image = self.transform(image)\n",
    "        return [image, label]"
   ]
  },
  {
   "cell_type": "code",
   "execution_count": 8,
   "id": "6fabe692",
   "metadata": {},
   "outputs": [],
   "source": [
    "def train(model, train_loader, optimizer):\n",
    "    total_mae, total_mse = 0, 0\n",
    "    preds, truths = np.array([]), np.array([])\n",
    "    \n",
    "    model.train()\n",
    "    for inputs, labels in tqdm(train_loader):              \n",
    "        inputs, labels = inputs.to(device, dtype=torch.float), labels.to(device, dtype=torch.float)\n",
    "        \n",
    "        # feedforward\n",
    "        outputs = model(inputs)\n",
    "        \n",
    "        pred = outputs.detach().cpu().numpy()\n",
    "        truth = labels.detach().cpu().numpy()\n",
    "        preds = np.append(preds, pred.reshape(pred.size), axis=0)\n",
    "        truths = np.append(truths, truth.reshape(truth.size), axis=0)\n",
    "        \n",
    "        # calculate loss\n",
    "        mse = criterion1(outputs, labels)\n",
    "        mae = criterion2(outputs, labels)\n",
    "        \n",
    "        # gradient initialization\n",
    "        optimizer.zero_grad()\n",
    "        # backpropagation\n",
    "        mse.backward()\n",
    "        # weight update\n",
    "        optimizer.step()\n",
    "        \n",
    "        total_mae += mae.data.item()\n",
    "        total_mse += mse.data.item()\n",
    "        \n",
    "        gc.collect()\n",
    "        torch.cuda.empty_cache()\n",
    "    return preds, truths, total_mse, total_mae"
   ]
  },
  {
   "cell_type": "code",
   "execution_count": 9,
   "id": "57efcecb",
   "metadata": {},
   "outputs": [],
   "source": [
    "def valid(model, valid_loader):    \n",
    "    total_mae, total_mse = 0, 0\n",
    "    preds, truths = np.array([]), np.array([])\n",
    "    \n",
    "    model.eval()\n",
    "    with torch.no_grad():\n",
    "        for inputs, labels in tqdm(valid_loader):\n",
    "            inputs, labels = inputs.to(device, dtype=torch.float), labels.to(device, dtype=torch.float)\n",
    "\n",
    "            outputs = model(inputs)\n",
    "            \n",
    "            pred = outputs.detach().cpu().numpy()\n",
    "            truth = labels.detach().cpu().numpy()\n",
    "            preds = np.append(preds, pred.reshape(pred.size), axis=0)\n",
    "            truths = np.append(truths, truth.reshape(truth.size), axis=0)\n",
    "\n",
    "            mse = criterion1(outputs, labels)\n",
    "            mae = criterion2(outputs, labels)\n",
    "            \n",
    "            total_mae += mae.data.item()\n",
    "            total_mse += mse.data.item()\n",
    "        \n",
    "    return preds, truths, total_mse, total_mae"
   ]
  },
  {
   "cell_type": "code",
   "execution_count": 10,
   "id": "2eb08047",
   "metadata": {
    "scrolled": false
   },
   "outputs": [
    {
     "name": "stdout",
     "output_type": "stream",
     "text": [
      "Device: cuda\n",
      "Current cuda device: 0\n",
      "Count of using GPUs: 2\n"
     ]
    }
   ],
   "source": [
    "device = torch.device(\"cuda\" if torch.cuda.is_available() else \"cpu\")\n",
    "print('Device:', device)\n",
    "print('Current cuda device:', torch.cuda.current_device())\n",
    "print('Count of using GPUs:', torch.cuda.device_count())"
   ]
  },
  {
   "cell_type": "code",
   "execution_count": 11,
   "id": "2caeb213",
   "metadata": {},
   "outputs": [],
   "source": [
    "label_name = 'FL_WMH_VOL_icv'\n",
    "# label_name = 'FL_WMH_VOL_mL'\n",
    "# label_name = 'WMH_GRADE'\n",
    "# label_name = 'Cortical Gray Matter Total Percent Of Icv'\n",
    "# label_name = 'FL_PVWMH_VOL_icv'\n",
    "# label_name = 'FL_DWMH_VOL_icv'\n",
    "img_dir = 'img_npy/'\n",
    "label_dir = 'labels/data_975.csv'"
   ]
  },
  {
   "cell_type": "code",
   "execution_count": 12,
   "id": "3175e7a2",
   "metadata": {},
   "outputs": [],
   "source": [
    "# 이번 실험 고정 값\n",
    "batch_size = 2\n",
    "test_batch_size = 2\n",
    "k = 5"
   ]
  },
  {
   "cell_type": "code",
   "execution_count": 13,
   "id": "84166bd3",
   "metadata": {},
   "outputs": [
    {
     "data": {
      "text/plain": [
       "(780, 195, 780, 195)"
      ]
     },
     "execution_count": 13,
     "metadata": {},
     "output_type": "execute_result"
    }
   ],
   "source": [
    "# load data\n",
    "X, y = load_data(img_dir, label_dir, label_name, std=True, norm=True)\n",
    "\n",
    "# initialize seed\n",
    "set_seed()\n",
    "\n",
    "# train / test split\n",
    "X_train, X_test, y_train, y_test = train_test_split(X, y, test_size=0.2)\n",
    "\n",
    "# train set\n",
    "train_set = NeckDataset(X_train, y_train)\n",
    "\n",
    "# test set & loader\n",
    "test_set = NeckDataset(X_test, y_test)\n",
    "test_loader = DataLoader(test_set, batch_size=batch_size, num_workers=16)\n",
    "\n",
    "len(X_train), len(X_test), len(y_train), len(y_test)"
   ]
  },
  {
   "cell_type": "code",
   "execution_count": 14,
   "id": "8894a4cb",
   "metadata": {},
   "outputs": [
    {
     "data": {
      "image/png": "[encoded data removed]",
      "text/plain": [
       "<Figure size 432x288 with 1 Axes>"
      ]
     },
     "metadata": {
      "needs_background": "light"
     },
     "output_type": "display_data"
    },
    {
     "data": {
      "image/png": "[encoded data removed]",
      "text/plain": [
       "<Figure size 720x288 with 2 Axes>"
      ]
     },
     "metadata": {
      "needs_background": "light"
     },
     "output_type": "display_data"
    }
   ],
   "source": [
    "bins = np.linspace(0, 5, 30)\n",
    "\n",
    "plt.hist(y_train, bins, label='training set')\n",
    "plt.hist(y_test, bins, label='test set')\n",
    "plt.legend(loc='upper right')\n",
    "plt.show()\n",
    "plt.close()\n",
    "\n",
    "\n",
    "plt.figure(figsize=(10,4))\n",
    "plt.subplot(1,2,1)\n",
    "plt.hist(y_train, bins, label='training set')\n",
    "plt.legend(loc='upper right')\n",
    "\n",
    "plt.subplot(1,2,2)\n",
    "plt.hist(y_test, bins, label='test set')\n",
    "plt.legend(loc='upper right')\n",
    "\n",
    "plt.show()\n",
    "plt.close()"
   ]
  },
  {
   "cell_type": "markdown",
   "id": "3df4a586",
   "metadata": {},
   "source": [
    "---"
   ]
  },
  {
   "cell_type": "code",
   "execution_count": 15,
   "id": "613f939e",
   "metadata": {},
   "outputs": [],
   "source": [
    "# 바꿀 값\n",
    "epochs = 180\n",
    "weight_decay = 0.01\n",
    "lr = 1e-03\n",
    "optim_class = optim.AdamW\n",
    "dim = 256  # 128\n",
    "depth = 4  # 8,12,16,20\n",
    "patch_size = 1  # 2,4,8\n",
    "kernel_size = 3  # 3,5,7,9,11\n",
    "# dropout_rate = 0.2"
   ]
  },
  {
   "cell_type": "code",
   "execution_count": 16,
   "id": "4f117c66",
   "metadata": {
    "scrolled": true
   },
   "outputs": [
    {
     "name": "stdout",
     "output_type": "stream",
     "text": [
      "Fold 1\n"
     ]
    },
    {
     "name": "stderr",
     "output_type": "stream",
     "text": [
      "Failed to detect the name of this notebook, you can set it manually with the WANDB_NOTEBOOK_NAME environment variable to enable code saving.\n",
      "\u001b[34m\u001b[1mwandb\u001b[0m: Currently logged in as: \u001b[33mhei-jung\u001b[0m. Use \u001b[1m`wandb login --relogin`\u001b[0m to force relogin\n"
     ]
    },
    {
     "data": {
      "text/html": [
       "wandb version 0.14.0 is available!  To upgrade, please run:\n",
       " $ pip install wandb --upgrade"
      ],
      "text/plain": [
       "<IPython.core.display.HTML object>"
      ]
     },
     "metadata": {},
     "output_type": "display_data"
    },
    {
     "data": {
      "text/html": [
       "Tracking run with wandb version 0.12.21"
      ],
      "text/plain": [
       "<IPython.core.display.HTML object>"
      ]
     },
     "metadata": {},
     "output_type": "display_data"
    },
    {
     "data": {
      "text/html": [
       "Run data is saved locally in <code>/home/jhj/Desktop/HJ_RESEARCH/snu_brain_disease/wandb/run-20230315_205357-2hk5b1o1</code>"
      ],
      "text/plain": [
       "<IPython.core.display.HTML object>"
      ]
     },
     "metadata": {},
     "output_type": "display_data"
    },
    {
     "data": {
      "text/html": [
       "Syncing run <strong><a href=\"https://wandb.ai/hei-jung/20230314-ConvMixer/runs/2hk5b1o1\" target=\"_blank\">super-deluge-1</a></strong> to <a href=\"https://wandb.ai/hei-jung/20230314-ConvMixer\" target=\"_blank\">Weights & Biases</a> (<a href=\"https://wandb.me/run\" target=\"_blank\">docs</a>)<br/>"
      ],
      "text/plain": [
       "<IPython.core.display.HTML object>"
      ]
     },
     "metadata": {},
     "output_type": "display_data"
    },
    {
     "name": "stdout",
     "output_type": "stream",
     "text": [
      "# Epoch 1 / 180\n"
     ]
    },
    {
     "name": "stderr",
     "output_type": "stream",
     "text": [
      "100%|█████████████████████████████████████████| 312/312 [08:47<00:00,  1.69s/it]\n",
      "100%|███████████████████████████████████████████| 78/78 [00:22<00:00,  3.41it/s]\n"
     ]
    },
    {
     "name": "stdout",
     "output_type": "stream",
     "text": [
      "# Epoch 2 / 180\n"
     ]
    },
    {
     "name": "stderr",
     "output_type": "stream",
     "text": [
      "100%|█████████████████████████████████████████| 312/312 [09:25<00:00,  1.81s/it]\n",
      "100%|███████████████████████████████████████████| 78/78 [00:23<00:00,  3.30it/s]\n"
     ]
    },
    {
     "name": "stdout",
     "output_type": "stream",
     "text": [
      "# Epoch 3 / 180\n"
     ]
    },
    {
     "name": "stderr",
     "output_type": "stream",
     "text": [
      "100%|█████████████████████████████████████████| 312/312 [09:09<00:00,  1.76s/it]\n",
      "100%|███████████████████████████████████████████| 78/78 [00:24<00:00,  3.20it/s]\n"
     ]
    },
    {
     "name": "stdout",
     "output_type": "stream",
     "text": [
      "# Epoch 4 / 180\n"
     ]
    },
    {
     "name": "stderr",
     "output_type": "stream",
     "text": [
      "100%|█████████████████████████████████████████| 312/312 [09:11<00:00,  1.77s/it]\n",
      "100%|███████████████████████████████████████████| 78/78 [00:24<00:00,  3.25it/s]\n"
     ]
    },
    {
     "name": "stdout",
     "output_type": "stream",
     "text": [
      "# Epoch 5 / 180\n"
     ]
    },
    {
     "name": "stderr",
     "output_type": "stream",
     "text": [
      "100%|█████████████████████████████████████████| 312/312 [09:10<00:00,  1.77s/it]\n",
      "100%|███████████████████████████████████████████| 78/78 [00:23<00:00,  3.26it/s]\n"
     ]
    },
    {
     "name": "stdout",
     "output_type": "stream",
     "text": [
      "# Epoch 6 / 180\n"
     ]
    },
    {
     "name": "stderr",
     "output_type": "stream",
     "text": [
      "100%|█████████████████████████████████████████| 312/312 [09:10<00:00,  1.76s/it]\n",
      "100%|███████████████████████████████████████████| 78/78 [00:23<00:00,  3.26it/s]\n"
     ]
    },
    {
     "name": "stdout",
     "output_type": "stream",
     "text": [
      "# Epoch 7 / 180\n"
     ]
    },
    {
     "name": "stderr",
     "output_type": "stream",
     "text": [
      "100%|█████████████████████████████████████████| 312/312 [09:08<00:00,  1.76s/it]\n",
      "100%|███████████████████████████████████████████| 78/78 [00:23<00:00,  3.30it/s]\n"
     ]
    },
    {
     "name": "stdout",
     "output_type": "stream",
     "text": [
      "# Epoch 8 / 180\n"
     ]
    },
    {
     "name": "stderr",
     "output_type": "stream",
     "text": [
      "100%|█████████████████████████████████████████| 312/312 [09:12<00:00,  1.77s/it]\n",
      "100%|███████████████████████████████████████████| 78/78 [00:24<00:00,  3.21it/s]\n"
     ]
    },
    {
     "name": "stdout",
     "output_type": "stream",
     "text": [
      "# Epoch 9 / 180\n"
     ]
    },
    {
     "name": "stderr",
     "output_type": "stream",
     "text": [
      "100%|█████████████████████████████████████████| 312/312 [09:07<00:00,  1.76s/it]\n",
      "100%|███████████████████████████████████████████| 78/78 [00:23<00:00,  3.33it/s]\n"
     ]
    },
    {
     "name": "stdout",
     "output_type": "stream",
     "text": [
      "# Epoch 10 / 180\n"
     ]
    },
    {
     "name": "stderr",
     "output_type": "stream",
     "text": [
      "100%|█████████████████████████████████████████| 312/312 [09:09<00:00,  1.76s/it]\n",
      "100%|███████████████████████████████████████████| 78/78 [00:24<00:00,  3.23it/s]\n"
     ]
    },
    {
     "name": "stdout",
     "output_type": "stream",
     "text": [
      "# Epoch 11 / 180\n"
     ]
    },
    {
     "name": "stderr",
     "output_type": "stream",
     "text": [
      "100%|█████████████████████████████████████████| 312/312 [09:11<00:00,  1.77s/it]\n",
      "100%|███████████████████████████████████████████| 78/78 [00:23<00:00,  3.28it/s]\n"
     ]
    },
    {
     "name": "stdout",
     "output_type": "stream",
     "text": [
      "# Epoch 12 / 180\n"
     ]
    },
    {
     "name": "stderr",
     "output_type": "stream",
     "text": [
      "100%|█████████████████████████████████████████| 312/312 [09:11<00:00,  1.77s/it]\n",
      "100%|███████████████████████████████████████████| 78/78 [00:24<00:00,  3.23it/s]\n"
     ]
    },
    {
     "name": "stdout",
     "output_type": "stream",
     "text": [
      "# Epoch 13 / 180\n"
     ]
    },
    {
     "name": "stderr",
     "output_type": "stream",
     "text": [
      "100%|█████████████████████████████████████████| 312/312 [09:11<00:00,  1.77s/it]\n",
      "100%|███████████████████████████████████████████| 78/78 [00:23<00:00,  3.31it/s]\n"
     ]
    },
    {
     "name": "stdout",
     "output_type": "stream",
     "text": [
      "# Epoch 14 / 180\n"
     ]
    },
    {
     "name": "stderr",
     "output_type": "stream",
     "text": [
      "100%|█████████████████████████████████████████| 312/312 [09:11<00:00,  1.77s/it]\n",
      "100%|███████████████████████████████████████████| 78/78 [00:24<00:00,  3.21it/s]\n"
     ]
    },
    {
     "name": "stdout",
     "output_type": "stream",
     "text": [
      "# Epoch 15 / 180\n"
     ]
    },
    {
     "name": "stderr",
     "output_type": "stream",
     "text": [
      "100%|█████████████████████████████████████████| 312/312 [09:11<00:00,  1.77s/it]\n",
      "100%|███████████████████████████████████████████| 78/78 [00:24<00:00,  3.22it/s]\n"
     ]
    },
    {
     "name": "stdout",
     "output_type": "stream",
     "text": [
      "# Epoch 16 / 180\n"
     ]
    },
    {
     "name": "stderr",
     "output_type": "stream",
     "text": [
      "100%|█████████████████████████████████████████| 312/312 [09:09<00:00,  1.76s/it]\n",
      "100%|███████████████████████████████████████████| 78/78 [00:24<00:00,  3.21it/s]\n"
     ]
    },
    {
     "name": "stdout",
     "output_type": "stream",
     "text": [
      "# Epoch 17 / 180\n"
     ]
    },
    {
     "name": "stderr",
     "output_type": "stream",
     "text": [
      "100%|█████████████████████████████████████████| 312/312 [09:11<00:00,  1.77s/it]\n",
      "100%|███████████████████████████████████████████| 78/78 [00:23<00:00,  3.30it/s]\n"
     ]
    },
    {
     "name": "stdout",
     "output_type": "stream",
     "text": [
      "# Epoch 18 / 180\n"
     ]
    },
    {
     "name": "stderr",
     "output_type": "stream",
     "text": [
      "100%|█████████████████████████████████████████| 312/312 [09:12<00:00,  1.77s/it]\n",
      "100%|███████████████████████████████████████████| 78/78 [00:23<00:00,  3.31it/s]\n"
     ]
    },
    {
     "name": "stdout",
     "output_type": "stream",
     "text": [
      "# Epoch 19 / 180\n"
     ]
    },
    {
     "name": "stderr",
     "output_type": "stream",
     "text": [
      "100%|█████████████████████████████████████████| 312/312 [09:09<00:00,  1.76s/it]\n",
      "100%|███████████████████████████████████████████| 78/78 [00:24<00:00,  3.19it/s]\n"
     ]
    },
    {
     "name": "stdout",
     "output_type": "stream",
     "text": [
      "# Epoch 20 / 180\n"
     ]
    },
    {
     "name": "stderr",
     "output_type": "stream",
     "text": [
      "100%|█████████████████████████████████████████| 312/312 [09:14<00:00,  1.78s/it]\n",
      "100%|███████████████████████████████████████████| 78/78 [00:23<00:00,  3.28it/s]\n"
     ]
    },
    {
     "name": "stdout",
     "output_type": "stream",
     "text": [
      "# Epoch 21 / 180\n"
     ]
    },
    {
     "name": "stderr",
     "output_type": "stream",
     "text": [
      "100%|█████████████████████████████████████████| 312/312 [09:11<00:00,  1.77s/it]\n",
      "100%|███████████████████████████████████████████| 78/78 [00:23<00:00,  3.28it/s]\n"
     ]
    },
    {
     "name": "stdout",
     "output_type": "stream",
     "text": [
      "# Epoch 22 / 180\n"
     ]
    },
    {
     "name": "stderr",
     "output_type": "stream",
     "text": [
      "100%|█████████████████████████████████████████| 312/312 [09:11<00:00,  1.77s/it]\n",
      "100%|███████████████████████████████████████████| 78/78 [00:24<00:00,  3.20it/s]\n"
     ]
    },
    {
     "name": "stdout",
     "output_type": "stream",
     "text": [
      "# Epoch 23 / 180\n"
     ]
    },
    {
     "name": "stderr",
     "output_type": "stream",
     "text": [
      "100%|█████████████████████████████████████████| 312/312 [09:12<00:00,  1.77s/it]\n",
      "100%|███████████████████████████████████████████| 78/78 [00:24<00:00,  3.20it/s]\n"
     ]
    },
    {
     "name": "stdout",
     "output_type": "stream",
     "text": [
      "# Epoch 24 / 180\n"
     ]
    },
    {
     "name": "stderr",
     "output_type": "stream",
     "text": [
      "100%|█████████████████████████████████████████| 312/312 [09:14<00:00,  1.78s/it]\n",
      "100%|███████████████████████████████████████████| 78/78 [00:23<00:00,  3.30it/s]\n"
     ]
    },
    {
     "name": "stdout",
     "output_type": "stream",
     "text": [
      "# Epoch 25 / 180\n"
     ]
    },
    {
     "name": "stderr",
     "output_type": "stream",
     "text": [
      "100%|█████████████████████████████████████████| 312/312 [09:11<00:00,  1.77s/it]\n",
      "100%|███████████████████████████████████████████| 78/78 [00:23<00:00,  3.29it/s]\n"
     ]
    },
    {
     "name": "stdout",
     "output_type": "stream",
     "text": [
      "# Epoch 26 / 180\n"
     ]
    },
    {
     "name": "stderr",
     "output_type": "stream",
     "text": [
      "100%|█████████████████████████████████████████| 312/312 [09:14<00:00,  1.78s/it]\n",
      "100%|███████████████████████████████████████████| 78/78 [00:23<00:00,  3.25it/s]\n"
     ]
    },
    {
     "name": "stdout",
     "output_type": "stream",
     "text": [
      "# Epoch 27 / 180\n"
     ]
    },
    {
     "name": "stderr",
     "output_type": "stream",
     "text": [
      "100%|█████████████████████████████████████████| 312/312 [09:09<00:00,  1.76s/it]\n",
      "100%|███████████████████████████████████████████| 78/78 [00:24<00:00,  3.19it/s]\n"
     ]
    },
    {
     "name": "stdout",
     "output_type": "stream",
     "text": [
      "# Epoch 28 / 180\n"
     ]
    },
    {
     "name": "stderr",
     "output_type": "stream",
     "text": [
      "100%|█████████████████████████████████████████| 312/312 [09:10<00:00,  1.76s/it]\n",
      "100%|███████████████████████████████████████████| 78/78 [00:24<00:00,  3.24it/s]\n"
     ]
    },
    {
     "name": "stdout",
     "output_type": "stream",
     "text": [
      "# Epoch 29 / 180\n"
     ]
    },
    {
     "name": "stderr",
     "output_type": "stream",
     "text": [
      "100%|█████████████████████████████████████████| 312/312 [09:12<00:00,  1.77s/it]\n",
      "100%|███████████████████████████████████████████| 78/78 [00:24<00:00,  3.24it/s]\n"
     ]
    },
    {
     "name": "stdout",
     "output_type": "stream",
     "text": [
      "# Epoch 30 / 180\n"
     ]
    },
    {
     "name": "stderr",
     "output_type": "stream",
     "text": [
      "100%|█████████████████████████████████████████| 312/312 [09:10<00:00,  1.76s/it]\n",
      "100%|███████████████████████████████████████████| 78/78 [00:23<00:00,  3.28it/s]\n"
     ]
    },
    {
     "name": "stdout",
     "output_type": "stream",
     "text": [
      "# Epoch 31 / 180\n"
     ]
    },
    {
     "name": "stderr",
     "output_type": "stream",
     "text": [
      "100%|█████████████████████████████████████████| 312/312 [09:09<00:00,  1.76s/it]\n",
      "100%|███████████████████████████████████████████| 78/78 [00:24<00:00,  3.23it/s]\n"
     ]
    },
    {
     "name": "stdout",
     "output_type": "stream",
     "text": [
      "# Epoch 32 / 180\n"
     ]
    },
    {
     "name": "stderr",
     "output_type": "stream",
     "text": [
      "100%|█████████████████████████████████████████| 312/312 [09:12<00:00,  1.77s/it]\n",
      "100%|███████████████████████████████████████████| 78/78 [00:24<00:00,  3.24it/s]\n"
     ]
    },
    {
     "name": "stdout",
     "output_type": "stream",
     "text": [
      "# Epoch 33 / 180\n"
     ]
    },
    {
     "name": "stderr",
     "output_type": "stream",
     "text": [
      "100%|█████████████████████████████████████████| 312/312 [09:13<00:00,  1.78s/it]\n",
      "100%|███████████████████████████████████████████| 78/78 [00:23<00:00,  3.36it/s]\n"
     ]
    },
    {
     "name": "stdout",
     "output_type": "stream",
     "text": [
      "# Epoch 34 / 180\n"
     ]
    },
    {
     "name": "stderr",
     "output_type": "stream",
     "text": [
      "100%|█████████████████████████████████████████| 312/312 [09:12<00:00,  1.77s/it]\n",
      "100%|███████████████████████████████████████████| 78/78 [00:23<00:00,  3.30it/s]\n"
     ]
    },
    {
     "name": "stdout",
     "output_type": "stream",
     "text": [
      "# Epoch 35 / 180\n"
     ]
    },
    {
     "name": "stderr",
     "output_type": "stream",
     "text": [
      "100%|█████████████████████████████████████████| 312/312 [09:12<00:00,  1.77s/it]\n",
      "100%|███████████████████████████████████████████| 78/78 [00:23<00:00,  3.28it/s]\n"
     ]
    },
    {
     "name": "stdout",
     "output_type": "stream",
     "text": [
      "# Epoch 36 / 180\n"
     ]
    },
    {
     "name": "stderr",
     "output_type": "stream",
     "text": [
      "100%|█████████████████████████████████████████| 312/312 [09:14<00:00,  1.78s/it]\n",
      "100%|███████████████████████████████████████████| 78/78 [00:23<00:00,  3.25it/s]\n"
     ]
    },
    {
     "name": "stdout",
     "output_type": "stream",
     "text": [
      "# Epoch 37 / 180\n"
     ]
    },
    {
     "name": "stderr",
     "output_type": "stream",
     "text": [
      "100%|█████████████████████████████████████████| 312/312 [09:10<00:00,  1.76s/it]\n",
      "100%|███████████████████████████████████████████| 78/78 [00:23<00:00,  3.26it/s]\n"
     ]
    },
    {
     "name": "stdout",
     "output_type": "stream",
     "text": [
      "# Epoch 38 / 180\n"
     ]
    },
    {
     "name": "stderr",
     "output_type": "stream",
     "text": [
      "100%|█████████████████████████████████████████| 312/312 [09:10<00:00,  1.76s/it]\n",
      "100%|███████████████████████████████████████████| 78/78 [00:23<00:00,  3.32it/s]\n"
     ]
    },
    {
     "name": "stdout",
     "output_type": "stream",
     "text": [
      "# Epoch 39 / 180\n"
     ]
    },
    {
     "name": "stderr",
     "output_type": "stream",
     "text": [
      "100%|█████████████████████████████████████████| 312/312 [09:11<00:00,  1.77s/it]\n",
      "100%|███████████████████████████████████████████| 78/78 [00:23<00:00,  3.27it/s]\n"
     ]
    },
    {
     "name": "stdout",
     "output_type": "stream",
     "text": [
      "# Epoch 40 / 180\n"
     ]
    },
    {
     "name": "stderr",
     "output_type": "stream",
     "text": [
      "100%|█████████████████████████████████████████| 312/312 [09:14<00:00,  1.78s/it]\n",
      "100%|███████████████████████████████████████████| 78/78 [00:23<00:00,  3.30it/s]\n"
     ]
    },
    {
     "name": "stdout",
     "output_type": "stream",
     "text": [
      "# Epoch 41 / 180\n"
     ]
    },
    {
     "name": "stderr",
     "output_type": "stream",
     "text": [
      "100%|█████████████████████████████████████████| 312/312 [09:09<00:00,  1.76s/it]\n",
      "100%|███████████████████████████████████████████| 78/78 [00:24<00:00,  3.21it/s]\n"
     ]
    },
    {
     "name": "stdout",
     "output_type": "stream",
     "text": [
      "# Epoch 42 / 180\n"
     ]
    },
    {
     "name": "stderr",
     "output_type": "stream",
     "text": [
      "100%|█████████████████████████████████████████| 312/312 [09:12<00:00,  1.77s/it]\n",
      "100%|███████████████████████████████████████████| 78/78 [00:24<00:00,  3.22it/s]\n"
     ]
    },
    {
     "name": "stdout",
     "output_type": "stream",
     "text": [
      "# Epoch 43 / 180\n"
     ]
    },
    {
     "name": "stderr",
     "output_type": "stream",
     "text": [
      "100%|█████████████████████████████████████████| 312/312 [09:15<00:00,  1.78s/it]\n",
      "100%|███████████████████████████████████████████| 78/78 [00:24<00:00,  3.20it/s]\n"
     ]
    },
    {
     "name": "stdout",
     "output_type": "stream",
     "text": [
      "# Epoch 44 / 180\n"
     ]
    },
    {
     "name": "stderr",
     "output_type": "stream",
     "text": [
      "100%|█████████████████████████████████████████| 312/312 [09:14<00:00,  1.78s/it]\n",
      "100%|███████████████████████████████████████████| 78/78 [00:23<00:00,  3.30it/s]\n"
     ]
    },
    {
     "name": "stdout",
     "output_type": "stream",
     "text": [
      "# Epoch 45 / 180\n"
     ]
    },
    {
     "name": "stderr",
     "output_type": "stream",
     "text": [
      "100%|█████████████████████████████████████████| 312/312 [09:08<00:00,  1.76s/it]\n",
      "100%|███████████████████████████████████████████| 78/78 [00:24<00:00,  3.19it/s]\n"
     ]
    },
    {
     "name": "stdout",
     "output_type": "stream",
     "text": [
      "# Epoch 46 / 180\n"
     ]
    },
    {
     "name": "stderr",
     "output_type": "stream",
     "text": [
      "100%|█████████████████████████████████████████| 312/312 [09:13<00:00,  1.77s/it]\n",
      "100%|███████████████████████████████████████████| 78/78 [00:24<00:00,  3.20it/s]\n"
     ]
    },
    {
     "name": "stdout",
     "output_type": "stream",
     "text": [
      "# Epoch 47 / 180\n"
     ]
    },
    {
     "name": "stderr",
     "output_type": "stream",
     "text": [
      "100%|█████████████████████████████████████████| 312/312 [09:13<00:00,  1.77s/it]\n",
      "100%|███████████████████████████████████████████| 78/78 [00:23<00:00,  3.27it/s]\n"
     ]
    },
    {
     "name": "stdout",
     "output_type": "stream",
     "text": [
      "# Epoch 48 / 180\n"
     ]
    },
    {
     "name": "stderr",
     "output_type": "stream",
     "text": [
      "100%|█████████████████████████████████████████| 312/312 [09:12<00:00,  1.77s/it]\n",
      "100%|███████████████████████████████████████████| 78/78 [00:24<00:00,  3.23it/s]\n"
     ]
    },
    {
     "name": "stdout",
     "output_type": "stream",
     "text": [
      "# Epoch 49 / 180\n"
     ]
    },
    {
     "name": "stderr",
     "output_type": "stream",
     "text": [
      "100%|█████████████████████████████████████████| 312/312 [09:11<00:00,  1.77s/it]\n",
      "100%|███████████████████████████████████████████| 78/78 [00:24<00:00,  3.22it/s]\n"
     ]
    },
    {
     "name": "stdout",
     "output_type": "stream",
     "text": [
      "# Epoch 50 / 180\n"
     ]
    },
    {
     "name": "stderr",
     "output_type": "stream",
     "text": [
      "100%|█████████████████████████████████████████| 312/312 [09:12<00:00,  1.77s/it]\n",
      "100%|███████████████████████████████████████████| 78/78 [00:24<00:00,  3.25it/s]\n"
     ]
    },
    {
     "name": "stdout",
     "output_type": "stream",
     "text": [
      "# Epoch 51 / 180\n"
     ]
    },
    {
     "name": "stderr",
     "output_type": "stream",
     "text": [
      "100%|█████████████████████████████████████████| 312/312 [09:12<00:00,  1.77s/it]\n",
      "100%|███████████████████████████████████████████| 78/78 [00:24<00:00,  3.21it/s]\n"
     ]
    },
    {
     "name": "stdout",
     "output_type": "stream",
     "text": [
      "# Epoch 52 / 180\n"
     ]
    },
    {
     "name": "stderr",
     "output_type": "stream",
     "text": [
      "100%|█████████████████████████████████████████| 312/312 [09:13<00:00,  1.77s/it]\n",
      "100%|███████████████████████████████████████████| 78/78 [00:23<00:00,  3.25it/s]\n"
     ]
    },
    {
     "name": "stdout",
     "output_type": "stream",
     "text": [
      "# Epoch 53 / 180\n"
     ]
    },
    {
     "name": "stderr",
     "output_type": "stream",
     "text": [
      "100%|█████████████████████████████████████████| 312/312 [09:15<00:00,  1.78s/it]\n",
      "100%|███████████████████████████████████████████| 78/78 [00:24<00:00,  3.23it/s]\n"
     ]
    },
    {
     "name": "stdout",
     "output_type": "stream",
     "text": [
      "# Epoch 54 / 180\n"
     ]
    },
    {
     "name": "stderr",
     "output_type": "stream",
     "text": [
      "100%|█████████████████████████████████████████| 312/312 [09:13<00:00,  1.77s/it]\n",
      "100%|███████████████████████████████████████████| 78/78 [00:24<00:00,  3.21it/s]\n"
     ]
    },
    {
     "name": "stdout",
     "output_type": "stream",
     "text": [
      "# Epoch 55 / 180\n"
     ]
    },
    {
     "name": "stderr",
     "output_type": "stream",
     "text": [
      "100%|█████████████████████████████████████████| 312/312 [09:12<00:00,  1.77s/it]\n",
      "100%|███████████████████████████████████████████| 78/78 [00:24<00:00,  3.22it/s]\n"
     ]
    },
    {
     "name": "stdout",
     "output_type": "stream",
     "text": [
      "# Epoch 56 / 180\n"
     ]
    },
    {
     "name": "stderr",
     "output_type": "stream",
     "text": [
      "100%|█████████████████████████████████████████| 312/312 [09:13<00:00,  1.77s/it]\n",
      "100%|███████████████████████████████████████████| 78/78 [00:23<00:00,  3.26it/s]\n"
     ]
    },
    {
     "name": "stdout",
     "output_type": "stream",
     "text": [
      "# Epoch 57 / 180\n"
     ]
    },
    {
     "name": "stderr",
     "output_type": "stream",
     "text": [
      "100%|█████████████████████████████████████████| 312/312 [09:10<00:00,  1.77s/it]\n",
      "100%|███████████████████████████████████████████| 78/78 [00:23<00:00,  3.27it/s]\n"
     ]
    },
    {
     "name": "stdout",
     "output_type": "stream",
     "text": [
      "# Epoch 58 / 180\n"
     ]
    },
    {
     "name": "stderr",
     "output_type": "stream",
     "text": [
      "100%|█████████████████████████████████████████| 312/312 [09:12<00:00,  1.77s/it]\n",
      "100%|███████████████████████████████████████████| 78/78 [00:23<00:00,  3.31it/s]\n"
     ]
    },
    {
     "name": "stdout",
     "output_type": "stream",
     "text": [
      "# Epoch 59 / 180\n"
     ]
    },
    {
     "name": "stderr",
     "output_type": "stream",
     "text": [
      "100%|█████████████████████████████████████████| 312/312 [09:12<00:00,  1.77s/it]\n",
      "100%|███████████████████████████████████████████| 78/78 [00:23<00:00,  3.29it/s]\n"
     ]
    },
    {
     "name": "stdout",
     "output_type": "stream",
     "text": [
      "# Epoch 60 / 180\n"
     ]
    },
    {
     "name": "stderr",
     "output_type": "stream",
     "text": [
      "100%|█████████████████████████████████████████| 312/312 [09:08<00:00,  1.76s/it]\n",
      "100%|███████████████████████████████████████████| 78/78 [00:24<00:00,  3.20it/s]\n"
     ]
    },
    {
     "name": "stdout",
     "output_type": "stream",
     "text": [
      "# Epoch 61 / 180\n"
     ]
    },
    {
     "name": "stderr",
     "output_type": "stream",
     "text": [
      "100%|█████████████████████████████████████████| 312/312 [09:10<00:00,  1.76s/it]\n",
      "100%|███████████████████████████████████████████| 78/78 [00:23<00:00,  3.26it/s]\n"
     ]
    },
    {
     "name": "stdout",
     "output_type": "stream",
     "text": [
      "# Epoch 62 / 180\n"
     ]
    },
    {
     "name": "stderr",
     "output_type": "stream",
     "text": [
      "100%|█████████████████████████████████████████| 312/312 [09:08<00:00,  1.76s/it]\n",
      "100%|███████████████████████████████████████████| 78/78 [00:24<00:00,  3.23it/s]\n"
     ]
    },
    {
     "name": "stdout",
     "output_type": "stream",
     "text": [
      "# Epoch 63 / 180\n"
     ]
    },
    {
     "name": "stderr",
     "output_type": "stream",
     "text": [
      "100%|█████████████████████████████████████████| 312/312 [09:15<00:00,  1.78s/it]\n",
      "100%|███████████████████████████████████████████| 78/78 [00:23<00:00,  3.27it/s]\n"
     ]
    },
    {
     "name": "stdout",
     "output_type": "stream",
     "text": [
      "# Epoch 64 / 180\n"
     ]
    },
    {
     "name": "stderr",
     "output_type": "stream",
     "text": [
      "100%|█████████████████████████████████████████| 312/312 [09:14<00:00,  1.78s/it]\n",
      "100%|███████████████████████████████████████████| 78/78 [00:24<00:00,  3.20it/s]\n"
     ]
    },
    {
     "name": "stdout",
     "output_type": "stream",
     "text": [
      "# Epoch 65 / 180\n"
     ]
    },
    {
     "name": "stderr",
     "output_type": "stream",
     "text": [
      "100%|█████████████████████████████████████████| 312/312 [09:11<00:00,  1.77s/it]\n",
      "100%|███████████████████████████████████████████| 78/78 [00:23<00:00,  3.26it/s]\n"
     ]
    },
    {
     "name": "stdout",
     "output_type": "stream",
     "text": [
      "# Epoch 66 / 180\n"
     ]
    },
    {
     "name": "stderr",
     "output_type": "stream",
     "text": [
      "100%|█████████████████████████████████████████| 312/312 [09:12<00:00,  1.77s/it]\n",
      "100%|███████████████████████████████████████████| 78/78 [00:23<00:00,  3.31it/s]\n"
     ]
    },
    {
     "name": "stdout",
     "output_type": "stream",
     "text": [
      "# Epoch 67 / 180\n"
     ]
    },
    {
     "name": "stderr",
     "output_type": "stream",
     "text": [
      "100%|█████████████████████████████████████████| 312/312 [09:13<00:00,  1.77s/it]\n",
      "100%|███████████████████████████████████████████| 78/78 [00:23<00:00,  3.32it/s]\n"
     ]
    },
    {
     "name": "stdout",
     "output_type": "stream",
     "text": [
      "# Epoch 68 / 180\n"
     ]
    },
    {
     "name": "stderr",
     "output_type": "stream",
     "text": [
      "100%|█████████████████████████████████████████| 312/312 [09:13<00:00,  1.77s/it]\n",
      "100%|███████████████████████████████████████████| 78/78 [00:23<00:00,  3.29it/s]\n"
     ]
    },
    {
     "name": "stdout",
     "output_type": "stream",
     "text": [
      "# Epoch 69 / 180\n"
     ]
    },
    {
     "name": "stderr",
     "output_type": "stream",
     "text": [
      "100%|█████████████████████████████████████████| 312/312 [09:10<00:00,  1.76s/it]\n",
      "100%|███████████████████████████████████████████| 78/78 [00:23<00:00,  3.26it/s]\n"
     ]
    },
    {
     "name": "stdout",
     "output_type": "stream",
     "text": [
      "# Epoch 70 / 180\n"
     ]
    },
    {
     "name": "stderr",
     "output_type": "stream",
     "text": [
      "100%|█████████████████████████████████████████| 312/312 [09:10<00:00,  1.77s/it]\n",
      "100%|███████████████████████████████████████████| 78/78 [00:24<00:00,  3.16it/s]\n"
     ]
    },
    {
     "name": "stdout",
     "output_type": "stream",
     "text": [
      "# Epoch 71 / 180\n"
     ]
    },
    {
     "name": "stderr",
     "output_type": "stream",
     "text": [
      "100%|█████████████████████████████████████████| 312/312 [09:13<00:00,  1.77s/it]\n",
      "100%|███████████████████████████████████████████| 78/78 [00:23<00:00,  3.25it/s]\n"
     ]
    },
    {
     "name": "stdout",
     "output_type": "stream",
     "text": [
      "# Epoch 72 / 180\n"
     ]
    },
    {
     "name": "stderr",
     "output_type": "stream",
     "text": [
      "100%|█████████████████████████████████████████| 312/312 [09:11<00:00,  1.77s/it]\n",
      "100%|███████████████████████████████████████████| 78/78 [00:24<00:00,  3.25it/s]\n"
     ]
    },
    {
     "name": "stdout",
     "output_type": "stream",
     "text": [
      "# Epoch 73 / 180\n"
     ]
    },
    {
     "name": "stderr",
     "output_type": "stream",
     "text": [
      "100%|█████████████████████████████████████████| 312/312 [09:11<00:00,  1.77s/it]\n",
      "100%|███████████████████████████████████████████| 78/78 [00:23<00:00,  3.27it/s]\n"
     ]
    },
    {
     "name": "stdout",
     "output_type": "stream",
     "text": [
      "# Epoch 74 / 180\n"
     ]
    },
    {
     "name": "stderr",
     "output_type": "stream",
     "text": [
      "100%|█████████████████████████████████████████| 312/312 [09:11<00:00,  1.77s/it]\n",
      "100%|███████████████████████████████████████████| 78/78 [00:23<00:00,  3.26it/s]\n"
     ]
    },
    {
     "name": "stdout",
     "output_type": "stream",
     "text": [
      "# Epoch 75 / 180\n"
     ]
    },
    {
     "name": "stderr",
     "output_type": "stream",
     "text": [
      "100%|█████████████████████████████████████████| 312/312 [09:08<00:00,  1.76s/it]\n",
      "100%|███████████████████████████████████████████| 78/78 [00:23<00:00,  3.29it/s]\n"
     ]
    },
    {
     "name": "stdout",
     "output_type": "stream",
     "text": [
      "# Epoch 76 / 180\n"
     ]
    },
    {
     "name": "stderr",
     "output_type": "stream",
     "text": [
      "100%|█████████████████████████████████████████| 312/312 [09:10<00:00,  1.76s/it]\n",
      "100%|███████████████████████████████████████████| 78/78 [00:23<00:00,  3.27it/s]\n"
     ]
    },
    {
     "name": "stdout",
     "output_type": "stream",
     "text": [
      "# Epoch 77 / 180\n"
     ]
    },
    {
     "name": "stderr",
     "output_type": "stream",
     "text": [
      "100%|█████████████████████████████████████████| 312/312 [09:10<00:00,  1.77s/it]\n",
      "100%|███████████████████████████████████████████| 78/78 [00:24<00:00,  3.24it/s]\n"
     ]
    },
    {
     "name": "stdout",
     "output_type": "stream",
     "text": [
      "# Epoch 78 / 180\n"
     ]
    },
    {
     "name": "stderr",
     "output_type": "stream",
     "text": [
      "100%|█████████████████████████████████████████| 312/312 [09:13<00:00,  1.77s/it]\n",
      "100%|███████████████████████████████████████████| 78/78 [00:24<00:00,  3.25it/s]\n"
     ]
    },
    {
     "name": "stdout",
     "output_type": "stream",
     "text": [
      "# Epoch 79 / 180\n"
     ]
    },
    {
     "name": "stderr",
     "output_type": "stream",
     "text": [
      "100%|█████████████████████████████████████████| 312/312 [09:12<00:00,  1.77s/it]\n",
      "100%|███████████████████████████████████████████| 78/78 [00:24<00:00,  3.22it/s]\n"
     ]
    },
    {
     "name": "stdout",
     "output_type": "stream",
     "text": [
      "# Epoch 80 / 180\n"
     ]
    },
    {
     "name": "stderr",
     "output_type": "stream",
     "text": [
      "100%|█████████████████████████████████████████| 312/312 [09:11<00:00,  1.77s/it]\n",
      "100%|███████████████████████████████████████████| 78/78 [00:23<00:00,  3.30it/s]\n"
     ]
    },
    {
     "name": "stdout",
     "output_type": "stream",
     "text": [
      "# Epoch 81 / 180\n"
     ]
    },
    {
     "name": "stderr",
     "output_type": "stream",
     "text": [
      "100%|█████████████████████████████████████████| 312/312 [09:10<00:00,  1.76s/it]\n",
      "100%|███████████████████████████████████████████| 78/78 [00:24<00:00,  3.23it/s]\n"
     ]
    },
    {
     "name": "stdout",
     "output_type": "stream",
     "text": [
      "# Epoch 82 / 180\n"
     ]
    },
    {
     "name": "stderr",
     "output_type": "stream",
     "text": [
      "100%|█████████████████████████████████████████| 312/312 [09:13<00:00,  1.77s/it]\n",
      "100%|███████████████████████████████████████████| 78/78 [00:24<00:00,  3.21it/s]\n"
     ]
    },
    {
     "name": "stdout",
     "output_type": "stream",
     "text": [
      "# Epoch 83 / 180\n"
     ]
    },
    {
     "name": "stderr",
     "output_type": "stream",
     "text": [
      "100%|█████████████████████████████████████████| 312/312 [09:08<00:00,  1.76s/it]\n",
      "100%|███████████████████████████████████████████| 78/78 [00:24<00:00,  3.22it/s]\n"
     ]
    },
    {
     "name": "stdout",
     "output_type": "stream",
     "text": [
      "# Epoch 84 / 180\n"
     ]
    },
    {
     "name": "stderr",
     "output_type": "stream",
     "text": [
      "100%|█████████████████████████████████████████| 312/312 [09:12<00:00,  1.77s/it]\n",
      "100%|███████████████████████████████████████████| 78/78 [00:23<00:00,  3.26it/s]\n"
     ]
    },
    {
     "name": "stdout",
     "output_type": "stream",
     "text": [
      "# Epoch 85 / 180\n"
     ]
    },
    {
     "name": "stderr",
     "output_type": "stream",
     "text": [
      "100%|█████████████████████████████████████████| 312/312 [09:10<00:00,  1.76s/it]\n",
      "100%|███████████████████████████████████████████| 78/78 [00:24<00:00,  3.20it/s]\n"
     ]
    },
    {
     "name": "stdout",
     "output_type": "stream",
     "text": [
      "# Epoch 86 / 180\n"
     ]
    },
    {
     "name": "stderr",
     "output_type": "stream",
     "text": [
      "100%|█████████████████████████████████████████| 312/312 [09:13<00:00,  1.77s/it]\n",
      "100%|███████████████████████████████████████████| 78/78 [00:23<00:00,  3.33it/s]\n"
     ]
    },
    {
     "name": "stdout",
     "output_type": "stream",
     "text": [
      "# Epoch 87 / 180\n"
     ]
    },
    {
     "name": "stderr",
     "output_type": "stream",
     "text": [
      "100%|█████████████████████████████████████████| 312/312 [09:09<00:00,  1.76s/it]\n",
      "100%|███████████████████████████████████████████| 78/78 [00:24<00:00,  3.25it/s]\n"
     ]
    },
    {
     "name": "stdout",
     "output_type": "stream",
     "text": [
      "# Epoch 88 / 180\n"
     ]
    },
    {
     "name": "stderr",
     "output_type": "stream",
     "text": [
      "100%|█████████████████████████████████████████| 312/312 [09:13<00:00,  1.78s/it]\n",
      "100%|███████████████████████████████████████████| 78/78 [00:23<00:00,  3.25it/s]\n"
     ]
    },
    {
     "name": "stdout",
     "output_type": "stream",
     "text": [
      "# Epoch 89 / 180\n"
     ]
    },
    {
     "name": "stderr",
     "output_type": "stream",
     "text": [
      "100%|█████████████████████████████████████████| 312/312 [09:13<00:00,  1.77s/it]\n",
      "100%|███████████████████████████████████████████| 78/78 [00:24<00:00,  3.24it/s]\n"
     ]
    },
    {
     "name": "stdout",
     "output_type": "stream",
     "text": [
      "# Epoch 90 / 180\n"
     ]
    },
    {
     "name": "stderr",
     "output_type": "stream",
     "text": [
      "100%|█████████████████████████████████████████| 312/312 [09:08<00:00,  1.76s/it]\n",
      "100%|███████████████████████████████████████████| 78/78 [00:23<00:00,  3.36it/s]\n"
     ]
    },
    {
     "name": "stdout",
     "output_type": "stream",
     "text": [
      "# Epoch 91 / 180\n"
     ]
    },
    {
     "name": "stderr",
     "output_type": "stream",
     "text": [
      "100%|█████████████████████████████████████████| 312/312 [09:11<00:00,  1.77s/it]\n",
      "100%|███████████████████████████████████████████| 78/78 [00:23<00:00,  3.31it/s]\n"
     ]
    },
    {
     "name": "stdout",
     "output_type": "stream",
     "text": [
      "# Epoch 92 / 180\n"
     ]
    },
    {
     "name": "stderr",
     "output_type": "stream",
     "text": [
      "100%|█████████████████████████████████████████| 312/312 [09:10<00:00,  1.77s/it]\n",
      "100%|███████████████████████████████████████████| 78/78 [00:23<00:00,  3.33it/s]\n"
     ]
    },
    {
     "name": "stdout",
     "output_type": "stream",
     "text": [
      "# Epoch 93 / 180\n"
     ]
    },
    {
     "name": "stderr",
     "output_type": "stream",
     "text": [
      "100%|█████████████████████████████████████████| 312/312 [09:09<00:00,  1.76s/it]\n",
      "100%|███████████████████████████████████████████| 78/78 [00:23<00:00,  3.26it/s]\n"
     ]
    },
    {
     "name": "stdout",
     "output_type": "stream",
     "text": [
      "# Epoch 94 / 180\n"
     ]
    },
    {
     "name": "stderr",
     "output_type": "stream",
     "text": [
      " 57%|███████████████████████▌                 | 179/312 [05:22<03:59,  1.80s/it]\n"
     ]
    },
    {
     "ename": "KeyboardInterrupt",
     "evalue": "",
     "output_type": "error",
     "traceback": [
      "\u001b[0;31m---------------------------------------------------------------------------\u001b[0m",
      "\u001b[0;31mKeyboardInterrupt\u001b[0m                         Traceback (most recent call last)",
      "Input \u001b[0;32mIn [16]\u001b[0m, in \u001b[0;36m<cell line: 5>\u001b[0;34m()\u001b[0m\n\u001b[1;32m     38\u001b[0m train_set\u001b[38;5;241m.\u001b[39mtransform \u001b[38;5;241m=\u001b[39m \u001b[38;5;28;01mNone\u001b[39;00m\n\u001b[1;32m     39\u001b[0m valid_loader \u001b[38;5;241m=\u001b[39m DataLoader(train_set, batch_size\u001b[38;5;241m=\u001b[39mtest_batch_size, sampler\u001b[38;5;241m=\u001b[39mvalid_sampler, num_workers\u001b[38;5;241m=\u001b[39m\u001b[38;5;241m16\u001b[39m)\n\u001b[0;32m---> 41\u001b[0m preds_t, truths_t, mse_t, mae_t \u001b[38;5;241m=\u001b[39m \u001b[43mtrain\u001b[49m\u001b[43m(\u001b[49m\u001b[43mmodel\u001b[49m\u001b[43m,\u001b[49m\u001b[43m \u001b[49m\u001b[43mtrain_loader\u001b[49m\u001b[43m,\u001b[49m\u001b[43m \u001b[49m\u001b[43moptimizer\u001b[49m\u001b[43m)\u001b[49m\n\u001b[1;32m     42\u001b[0m preds_v, truths_v, mse_v, mae_v \u001b[38;5;241m=\u001b[39m valid(model, valid_loader)\n\u001b[1;32m     44\u001b[0m train_p, _ \u001b[38;5;241m=\u001b[39m pearsonr(preds_t, truths_t)\n",
      "Input \u001b[0;32mIn [8]\u001b[0m, in \u001b[0;36mtrain\u001b[0;34m(model, train_loader, optimizer)\u001b[0m\n\u001b[1;32m     25\u001b[0m \u001b[38;5;66;03m# weight update\u001b[39;00m\n\u001b[1;32m     26\u001b[0m optimizer\u001b[38;5;241m.\u001b[39mstep()\n\u001b[0;32m---> 28\u001b[0m total_mae \u001b[38;5;241m+\u001b[39m\u001b[38;5;241m=\u001b[39m \u001b[43mmae\u001b[49m\u001b[38;5;241;43m.\u001b[39;49m\u001b[43mdata\u001b[49m\u001b[38;5;241;43m.\u001b[39;49m\u001b[43mitem\u001b[49m\u001b[43m(\u001b[49m\u001b[43m)\u001b[49m\n\u001b[1;32m     29\u001b[0m total_mse \u001b[38;5;241m+\u001b[39m\u001b[38;5;241m=\u001b[39m mse\u001b[38;5;241m.\u001b[39mdata\u001b[38;5;241m.\u001b[39mitem()\n\u001b[1;32m     31\u001b[0m gc\u001b[38;5;241m.\u001b[39mcollect()\n",
      "\u001b[0;31mKeyboardInterrupt\u001b[0m: "
     ]
    }
   ],
   "source": [
    "# 5-Fold cross validation\n",
    "set_seed()\n",
    "splits = KFold(n_splits=k, shuffle=True, random_state=RANDOM_SEED)\n",
    "\n",
    "for fold, (train_idx, valid_idx) in enumerate(splits.split(np.arange(len(train_set)))):\n",
    "    print('Fold {}'.format(fold + 1))\n",
    "\n",
    "    train_sampler = SubsetRandomSampler(train_idx)\n",
    "    valid_sampler = SubsetRandomSampler(valid_idx)\n",
    "\n",
    "    set_seed()\n",
    "    model = ConvMixer(h=dim, depth=depth, kernel_size=kernel_size, patch_size=patch_size)\n",
    "    model = torch.nn.DataParallel(model, device_ids=[0, 1])\n",
    "    model.cuda()\n",
    "    \n",
    "    wandb.init(project='20230314-ConvMixer',\n",
    "               config={\"model\": f\"ConvMixer-{dim}/{depth}\", \n",
    "                       \"patch_size\": patch_size, \"kernel_size\": kernel_size,\n",
    "                       \"start_lr\": lr, \"weight_decay\": weight_decay, \"epochs\": epochs, \"batch_size\": batch_size,\n",
    "                       \"cost_function\": \"mse_loss\", \"optimizer\": optim_class.__name__, \"fold\": fold+1})\n",
    "    wandb.watch(model)\n",
    "\n",
    "    criterion1 = nn.MSELoss()\n",
    "    criterion2 = nn.L1Loss()\n",
    "\n",
    "    optimizer = optim_class(model.parameters(), lr=lr, weight_decay=weight_decay)\n",
    "\n",
    "    set_seed()\n",
    "    for epoch in range(epochs):\n",
    "        print('# Epoch %d / %d'%(epoch + 1, epochs))\n",
    "        \n",
    "        # train set\n",
    "        augment = get_augmentation_transform()\n",
    "        train_set.transform = augment\n",
    "        train_loader = DataLoader(train_set, batch_size=batch_size, sampler=train_sampler, num_workers=16)\n",
    "\n",
    "        # validation set\n",
    "        train_set.transform = None\n",
    "        valid_loader = DataLoader(train_set, batch_size=test_batch_size, sampler=valid_sampler, num_workers=16)\n",
    "        \n",
    "        preds_t, truths_t, mse_t, mae_t = train(model, train_loader, optimizer)\n",
    "        preds_v, truths_v, mse_v, mae_v = valid(model, valid_loader)\n",
    "\n",
    "        train_p, _ = pearsonr(preds_t, truths_t)\n",
    "        train_s, _ = spearmanr(preds_t, truths_t)\n",
    "        train_mae = mae_t / len(train_loader)\n",
    "        train_mse = mse_t / len(train_loader)\n",
    "\n",
    "        valid_p, _ = pearsonr(preds_v, truths_v)\n",
    "        valid_s, _ = spearmanr(preds_v, truths_v)\n",
    "        valid_mae = mae_v / len(valid_loader)\n",
    "        valid_mse = mse_v / len(valid_loader)\n",
    "        \n",
    "        wandb.log({\"train_mae\": train_mae, \"train_mse\": train_mse, \"valid_mae\": valid_mae, \"valid_mse\": valid_mse,\n",
    "                   \"train_pearson\": train_p, \"train_spearman\": train_s, \"valid_pearson\": valid_p, \"valid_spearman\": valid_s,})\n",
    "    wandb.finish()"
   ]
  },
  {
   "cell_type": "code",
   "execution_count": 17,
   "id": "c1d7e6c0",
   "metadata": {},
   "outputs": [
    {
     "data": {
      "text/plain": [
       "DataParallel(\n",
       "  (module): ConvMixer(\n",
       "    (embed): Sequential(\n",
       "      (0): Conv3d(1, 256, kernel_size=(1, 1, 1), stride=(1, 1, 1))\n",
       "      (1): GELU()\n",
       "      (2): BatchNorm3d(256, eps=1e-05, momentum=0.1, affine=True, track_running_stats=True)\n",
       "    )\n",
       "    (conv_mixer): Sequential(\n",
       "      (mixer_1): Sequential(\n",
       "        (0): Residual(\n",
       "          (fn): Sequential(\n",
       "            (0): Conv3d(256, 256, kernel_size=(3, 3, 3), stride=(1, 1, 1), padding=same, groups=256)\n",
       "            (1): GELU()\n",
       "            (2): BatchNorm3d(256, eps=1e-05, momentum=0.1, affine=True, track_running_stats=True)\n",
       "          )\n",
       "        )\n",
       "        (1): Conv3d(256, 256, kernel_size=(1, 1, 1), stride=(1, 1, 1))\n",
       "        (2): GELU()\n",
       "        (3): BatchNorm3d(256, eps=1e-05, momentum=0.1, affine=True, track_running_stats=True)\n",
       "      )\n",
       "      (mixer_2): Sequential(\n",
       "        (0): Residual(\n",
       "          (fn): Sequential(\n",
       "            (0): Conv3d(256, 256, kernel_size=(3, 3, 3), stride=(1, 1, 1), padding=same, groups=256)\n",
       "            (1): GELU()\n",
       "            (2): BatchNorm3d(256, eps=1e-05, momentum=0.1, affine=True, track_running_stats=True)\n",
       "          )\n",
       "        )\n",
       "        (1): Conv3d(256, 256, kernel_size=(1, 1, 1), stride=(1, 1, 1))\n",
       "        (2): GELU()\n",
       "        (3): BatchNorm3d(256, eps=1e-05, momentum=0.1, affine=True, track_running_stats=True)\n",
       "      )\n",
       "      (mixer_3): Sequential(\n",
       "        (0): Residual(\n",
       "          (fn): Sequential(\n",
       "            (0): Conv3d(256, 256, kernel_size=(3, 3, 3), stride=(1, 1, 1), padding=same, groups=256)\n",
       "            (1): GELU()\n",
       "            (2): BatchNorm3d(256, eps=1e-05, momentum=0.1, affine=True, track_running_stats=True)\n",
       "          )\n",
       "        )\n",
       "        (1): Conv3d(256, 256, kernel_size=(1, 1, 1), stride=(1, 1, 1))\n",
       "        (2): GELU()\n",
       "        (3): BatchNorm3d(256, eps=1e-05, momentum=0.1, affine=True, track_running_stats=True)\n",
       "      )\n",
       "      (mixer_4): Sequential(\n",
       "        (0): Residual(\n",
       "          (fn): Sequential(\n",
       "            (0): Conv3d(256, 256, kernel_size=(3, 3, 3), stride=(1, 1, 1), padding=same, groups=256)\n",
       "            (1): GELU()\n",
       "            (2): BatchNorm3d(256, eps=1e-05, momentum=0.1, affine=True, track_running_stats=True)\n",
       "          )\n",
       "        )\n",
       "        (1): Conv3d(256, 256, kernel_size=(1, 1, 1), stride=(1, 1, 1))\n",
       "        (2): GELU()\n",
       "        (3): BatchNorm3d(256, eps=1e-05, momentum=0.1, affine=True, track_running_stats=True)\n",
       "      )\n",
       "    )\n",
       "    (avg_pool): AdaptiveAvgPool3d(output_size=(1, 1, 1))\n",
       "    (flatten): Flatten(start_dim=1, end_dim=-1)\n",
       "    (linear): Linear(in_features=256, out_features=1, bias=True)\n",
       "  )\n",
       ")"
      ]
     },
     "execution_count": 17,
     "metadata": {},
     "output_type": "execute_result"
    }
   ],
   "source": [
    "model"
   ]
  },
  {
   "cell_type": "markdown",
   "id": "48403a13",
   "metadata": {},
   "source": [
    "---"
   ]
  },
  {
   "cell_type": "code",
   "execution_count": null,
   "id": "8c49594e",
   "metadata": {},
   "outputs": [],
   "source": [
    "# 바꿀 값\n",
    "epochs = 150\n",
    "weight_decay = 0.01\n",
    "lr = 1e-03\n",
    "optim_class = optim.AdamW\n",
    "dropout_rate = 0.0"
   ]
  },
  {
   "cell_type": "code",
   "execution_count": null,
   "id": "96a6910f",
   "metadata": {},
   "outputs": [],
   "source": [
    "# 5-Fold cross validation\n",
    "set_seed()\n",
    "splits = KFold(n_splits=k, shuffle=True, random_state=RANDOM_SEED)\n",
    "\n",
    "for fold, (train_idx, valid_idx) in enumerate(splits.split(np.arange(len(train_set)))):\n",
    "    print('Fold {}'.format(fold + 1))\n",
    "\n",
    "    train_sampler = SubsetRandomSampler(train_idx)\n",
    "    valid_sampler = SubsetRandomSampler(valid_idx)\n",
    "\n",
    "    set_seed()\n",
    "    model = MLP(dropout_p=dropout_rate)\n",
    "    model = torch.nn.DataParallel(model, device_ids=[0, 1])\n",
    "    model.cuda()\n",
    "    \n",
    "    wandb.init(project='20230309-MLP',\n",
    "               config={\"model\": \"MLP-1\", \"dropout\": dropout_rate,\n",
    "                       \"start_lr\": lr, \"weight_decay\": weight_decay, \"epochs\": epochs, \"batch_size\": batch_size,\n",
    "                       \"cost_function\": \"mse_loss\", \"optimizer\": optim_class.__name__, \"fold\": fold+1})\n",
    "    wandb.watch(model)\n",
    "\n",
    "    criterion1 = nn.MSELoss()\n",
    "    criterion2 = nn.L1Loss()\n",
    "\n",
    "    optimizer = optim_class(model.parameters(), lr=lr, weight_decay=weight_decay)\n",
    "\n",
    "    set_seed()\n",
    "    for epoch in range(epochs):\n",
    "        print('# Epoch %d / %d'%(epoch + 1, epochs))\n",
    "        \n",
    "        # train set\n",
    "        augment = get_augmentation_transform()\n",
    "        train_set.transform = augment\n",
    "        train_loader = DataLoader(train_set, batch_size=batch_size, sampler=train_sampler, num_workers=16)\n",
    "\n",
    "        # validation set\n",
    "        train_set.transform = None\n",
    "        valid_loader = DataLoader(train_set, batch_size=test_batch_size, sampler=valid_sampler, num_workers=16)\n",
    "        \n",
    "        preds_t, truths_t, mse_t, mae_t = train(model, train_loader, optimizer)\n",
    "        preds_v, truths_v, mse_v, mae_v = valid(model, test_loader)\n",
    "\n",
    "        train_p, _ = pearsonr(preds_t, truths_t)\n",
    "        train_s, _ = spearmanr(preds_t, truths_t)\n",
    "        train_mae = mae_t / len(train_loader)\n",
    "        train_mse = mse_t / len(train_loader)\n",
    "\n",
    "        valid_p, _ = pearsonr(preds_v, truths_v)\n",
    "        valid_s, _ = spearmanr(preds_v, truths_v)\n",
    "        valid_mae = mae_v / len(test_loader)\n",
    "        valid_mse = mse_v / len(test_loader)\n",
    "        \n",
    "        wandb.log({\"train_mae\": train_mae, \"train_mse\": train_mse, \"valid_mae\": valid_mae, \"valid_mse\": valid_mse,\n",
    "                   \"train_pearson\": train_p, \"train_spearman\": train_s, \"valid_pearson\": valid_p, \"valid_spearman\": valid_s,})\n",
    "    wandb.finish()"
   ]
  },
  {
   "cell_type": "markdown",
   "id": "5e735636",
   "metadata": {},
   "source": [
    "---"
   ]
  },
  {
   "cell_type": "code",
   "execution_count": null,
   "id": "4cbd73f4",
   "metadata": {},
   "outputs": [],
   "source": [
    "# 바꿀 값\n",
    "epochs = 70\n",
    "weight_decay = 0.01\n",
    "lr = 1e-03\n",
    "optim_class = optim.AdamW\n",
    "dropout_rate = 0.5"
   ]
  },
  {
   "cell_type": "code",
   "execution_count": null,
   "id": "9b75fdd1",
   "metadata": {},
   "outputs": [],
   "source": [
    "# 5-Fold cross validation\n",
    "set_seed()\n",
    "splits = KFold(n_splits=k, shuffle=True, random_state=RANDOM_SEED)\n",
    "\n",
    "for fold, (train_idx, valid_idx) in enumerate(splits.split(np.arange(len(train_set)))):\n",
    "    print('Fold {}'.format(fold + 1))\n",
    "\n",
    "    train_sampler = SubsetRandomSampler(train_idx)\n",
    "    valid_sampler = SubsetRandomSampler(valid_idx)\n",
    "\n",
    "    set_seed()\n",
    "    model = MLP(dropout_p=dropout_rate)\n",
    "    model = torch.nn.DataParallel(model, device_ids=[0, 1])\n",
    "    model.cuda()\n",
    "    \n",
    "    wandb.init(project='20230309-MLP',\n",
    "               config={\"model\": \"MLP-1\", \"dropout\": dropout_rate,\n",
    "                       \"start_lr\": lr, \"weight_decay\": weight_decay, \"epochs\": epochs, \"batch_size\": batch_size,\n",
    "                       \"cost_function\": \"mse_loss\", \"optimizer\": optim_class.__name__, \"fold\": fold+1})\n",
    "    wandb.watch(model)\n",
    "\n",
    "    criterion1 = nn.MSELoss()\n",
    "    criterion2 = nn.L1Loss()\n",
    "\n",
    "    optimizer = optim_class(model.parameters(), lr=lr, weight_decay=weight_decay)\n",
    "\n",
    "    set_seed()\n",
    "    for epoch in range(epochs):\n",
    "        print('# Epoch %d / %d'%(epoch + 1, epochs))\n",
    "        \n",
    "        # train set\n",
    "        augment = get_augmentation_transform()\n",
    "        train_set.transform = augment\n",
    "        train_loader = DataLoader(train_set, batch_size=batch_size, sampler=train_sampler, num_workers=16)\n",
    "\n",
    "        # validation set\n",
    "        train_set.transform = None\n",
    "        valid_loader = DataLoader(train_set, batch_size=test_batch_size, sampler=valid_sampler, num_workers=16)\n",
    "        \n",
    "        preds_t, truths_t, mse_t, mae_t = train(model, train_loader, optimizer)\n",
    "        preds_v, truths_v, mse_v, mae_v = valid(model, test_loader)\n",
    "\n",
    "        train_p, _ = pearsonr(preds_t, truths_t)\n",
    "        train_s, _ = spearmanr(preds_t, truths_t)\n",
    "        train_mae = mae_t / len(train_loader)\n",
    "        train_mse = mse_t / len(train_loader)\n",
    "\n",
    "        valid_p, _ = pearsonr(preds_v, truths_v)\n",
    "        valid_s, _ = spearmanr(preds_v, truths_v)\n",
    "        valid_mae = mae_v / len(test_loader)\n",
    "        valid_mse = mse_v / len(test_loader)\n",
    "        \n",
    "        wandb.log({\"train_mae\": train_mae, \"train_mse\": train_mse, \"valid_mae\": valid_mae, \"valid_mse\": valid_mse,\n",
    "                   \"train_pearson\": train_p, \"train_spearman\": train_s, \"valid_pearson\": valid_p, \"valid_spearman\": valid_s,})\n",
    "    wandb.finish()"
   ]
  },
  {
   "cell_type": "markdown",
   "id": "2f5d7d2b",
   "metadata": {},
   "source": [
    "---"
   ]
  },
  {
   "cell_type": "code",
   "execution_count": null,
   "id": "524016a0",
   "metadata": {
    "scrolled": true
   },
   "outputs": [],
   "source": [
    "# 바꿀 값\n",
    "epochs = 70\n",
    "weight_decay = 0.01\n",
    "lr = 1e-03\n",
    "optim_class = optim.AdamW\n",
    "sched_class = optim.lr_scheduler.ReduceLROnPlateau\n",
    "dropout_rate = 0.2"
   ]
  },
  {
   "cell_type": "code",
   "execution_count": null,
   "id": "58a05d0a",
   "metadata": {},
   "outputs": [],
   "source": [
    "set_seed()\n",
    "model = MLP(dropout_p=dropout_rate)\n",
    "model = torch.nn.DataParallel(model, device_ids=[0, 1])\n",
    "model.cuda()\n",
    "\n",
    "wandb.init(project='20230309-MLP',\n",
    "           config={\"model\": \"MLP-1\", \"dropout\": dropout_rate,\n",
    "                   \"start_lr\": lr, \"weight_decay\": weight_decay, \"epochs\": epochs, \"batch_size\": batch_size,\n",
    "                   \"cost_function\": \"mse_loss\", \"optimizer\": optim_class.__name__, \n",
    "                   \"scheduler\": sched_class.__name__, \"start_lr\": lr})\n",
    "wandb.watch(model)\n",
    "\n",
    "criterion1 = nn.MSELoss()\n",
    "criterion2 = nn.L1Loss()\n",
    "\n",
    "optimizer = optim_class(model.parameters(), lr=lr, weight_decay=weight_decay)\n",
    "scheduler = sched_class(optimizer, mode='min', patience=5, min_lr=0)\n",
    "\n",
    "best_mae, best_mse = 100, 100\n",
    "\n",
    "set_seed()\n",
    "for epoch in range(epochs):\n",
    "    print('# Epoch %d / %d'%(epoch + 1, epochs))\n",
    "\n",
    "    # train set\n",
    "    augment = get_augmentation_transform()\n",
    "    train_set = NeckDataset(X_train, y_train, transform=augment)\n",
    "    train_loader = DataLoader(train_set, batch_size=batch_size, num_workers=16)\n",
    "\n",
    "    # validation set\n",
    "\n",
    "    preds_t, truths_t, mse_t, mae_t = train(model, train_loader, optimizer)\n",
    "    preds_v, truths_v, mse_v, mae_v = valid(model, test_loader)\n",
    "    \n",
    "    scheduler.step(mse_v)\n",
    "    last_lr = scheduler._last_lr[0]\n",
    "\n",
    "    train_p, _ = pearsonr(preds_t, truths_t)\n",
    "    train_s, _ = spearmanr(preds_t, truths_t)\n",
    "    train_mae = mae_t / len(train_loader)\n",
    "    train_mse = mse_t / len(train_loader)\n",
    "\n",
    "    valid_p, _ = pearsonr(preds_v, truths_v)\n",
    "    valid_s, _ = spearmanr(preds_v, truths_v)\n",
    "    valid_mae = mae_v / len(test_loader)\n",
    "    valid_mse = mse_v / len(test_loader)\n",
    "    \n",
    "    if best_mse > valid_mse:\n",
    "        torch.save(model.state_dict(), 'pretrained/230313_mlp1+mse_{}_w{}_slr{}_bestmse'.format(sched_class.__name__, weight_decay, lr))\n",
    "        best_mse = valid_mse\n",
    "    if best_mae > valid_mae:\n",
    "        torch.save(model.state_dict(), 'pretrained/230313_mlp1+mse_{}_w{}_slr{}_bestmae'.format(sched_class.__name__, weight_decay, lr))\n",
    "        best_mae = valid_mae\n",
    "\n",
    "    wandb.log({\"train_mae\": train_mae, \"train_mse\": train_mse, \"valid_mae\": valid_mae, \"valid_mse\": valid_mse,\n",
    "               \"train_pearson\": train_p, \"train_spearman\": train_s, \"valid_pearson\": valid_p, \"valid_spearman\": valid_s,\n",
    "               \"lr\": last_lr})\n",
    "wandb.finish()"
   ]
  },
  {
   "cell_type": "markdown",
   "id": "dea88b82",
   "metadata": {},
   "source": [
    "---"
   ]
  },
  {
   "cell_type": "code",
   "execution_count": null,
   "id": "635bc5e2",
   "metadata": {
    "scrolled": true
   },
   "outputs": [],
   "source": [
    "# 바꿀 값\n",
    "epochs = 70\n",
    "weight_decay = 0.01\n",
    "lr = 1e-03\n",
    "optim_class = optim.AdamW\n",
    "sched_class = optim.lr_scheduler.ReduceLROnPlateau\n",
    "dropout_rate = 0.2"
   ]
  },
  {
   "cell_type": "code",
   "execution_count": null,
   "id": "84f3cdd1",
   "metadata": {},
   "outputs": [],
   "source": [
    "set_seed()\n",
    "model = MLP(dropout_p=dropout_rate, h=[512,256,128,64,32])\n",
    "model = torch.nn.DataParallel(model, device_ids=[0, 1])\n",
    "model.cuda()\n",
    "\n",
    "wandb.init(project='20230309-MLP',\n",
    "           config={\"model\": \"MLP-2\", \"dropout\": dropout_rate,\n",
    "                   \"start_lr\": lr, \"weight_decay\": weight_decay, \"epochs\": epochs, \"batch_size\": batch_size,\n",
    "                   \"cost_function\": \"mse_loss\", \"optimizer\": optim_class.__name__, \n",
    "                   \"scheduler\": sched_class.__name__, \"start_lr\": lr})\n",
    "wandb.watch(model)\n",
    "\n",
    "criterion1 = nn.MSELoss()\n",
    "criterion2 = nn.L1Loss()\n",
    "\n",
    "optimizer = optim_class(model.parameters(), lr=lr, weight_decay=weight_decay)\n",
    "scheduler = sched_class(optimizer, mode='min', patience=5, min_lr=0)\n",
    "\n",
    "best_mae, best_mse = 100, 100\n",
    "\n",
    "set_seed()\n",
    "for epoch in range(epochs):\n",
    "    print('# Epoch %d / %d'%(epoch + 1, epochs))\n",
    "\n",
    "    # train set\n",
    "    augment = get_augmentation_transform()\n",
    "    train_set = NeckDataset(X_train, y_train, transform=augment)\n",
    "    train_loader = DataLoader(train_set, batch_size=batch_size, num_workers=16)\n",
    "\n",
    "    # validation set\n",
    "\n",
    "    preds_t, truths_t, mse_t, mae_t = train(model, train_loader, optimizer)\n",
    "    preds_v, truths_v, mse_v, mae_v = valid(model, test_loader)\n",
    "    \n",
    "    scheduler.step(mse_v)\n",
    "    last_lr = scheduler._last_lr[0]\n",
    "\n",
    "    train_p, _ = pearsonr(preds_t, truths_t)\n",
    "    train_s, _ = spearmanr(preds_t, truths_t)\n",
    "    train_mae = mae_t / len(train_loader)\n",
    "    train_mse = mse_t / len(train_loader)\n",
    "\n",
    "    valid_p, _ = pearsonr(preds_v, truths_v)\n",
    "    valid_s, _ = spearmanr(preds_v, truths_v)\n",
    "    valid_mae = mae_v / len(test_loader)\n",
    "    valid_mse = mse_v / len(test_loader)\n",
    "    \n",
    "    if best_mse > valid_mse:\n",
    "        torch.save(model.state_dict(), 'pretrained/230313_mlp2+mse_{}_w{}_slr{}_bestmse'.format(sched_class.__name__, weight_decay, lr))\n",
    "        best_mse = valid_mse\n",
    "    if best_mae > valid_mae:\n",
    "        torch.save(model.state_dict(), 'pretrained/230313_mlp2+mse_{}_w{}_slr{}_bestmae'.format(sched_class.__name__, weight_decay, lr))\n",
    "        best_mae = valid_mae\n",
    "\n",
    "    wandb.log({\"train_mae\": train_mae, \"train_mse\": train_mse, \"valid_mae\": valid_mae, \"valid_mse\": valid_mse,\n",
    "               \"train_pearson\": train_p, \"train_spearman\": train_s, \"valid_pearson\": valid_p, \"valid_spearman\": valid_s,\n",
    "               \"lr\": last_lr})\n",
    "wandb.finish()"
   ]
  },
  {
   "cell_type": "markdown",
   "id": "aec36424",
   "metadata": {},
   "source": [
    "---"
   ]
  },
  {
   "cell_type": "code",
   "execution_count": null,
   "id": "f870285d",
   "metadata": {},
   "outputs": [],
   "source": [
    "epochs = 100\n",
    "weight_decay = 0.01\n",
    "lr = 1e-03\n",
    "optim_class = optim.AdamW\n",
    "# sched_class = optim.lr_scheduler.ReduceLROnPlateau"
   ]
  },
  {
   "cell_type": "code",
   "execution_count": null,
   "id": "69a86db4",
   "metadata": {},
   "outputs": [],
   "source": [
    "# Train\n",
    "set_seed()\n",
    "train_set = NeckDataset(X_train, y_train)\n",
    "train_loader = DataLoader(train_set, batch_size=batch_size, num_workers=16)\n",
    "\n",
    "model = MLP()\n",
    "model = torch.nn.DataParallel(model, device_ids=[0, 1])\n",
    "model.cuda()\n",
    "\n",
    "wandb.init(project='20230201-learningrate',\n",
    "           config={\"model\": \"sfcn\", \"dropout\": dropout_rate,\n",
    "                   \"lr\": lr, \"weight_decay\": weight_decay, \"epochs\": epochs, \"batch_size\": batch_size,\n",
    "                   \"cost_function\": \"mse_loss\", \"optimizer\": \"AdamW\", \"fold\": fold+1})\n",
    "wandb.watch(model)\n",
    "\n",
    "criterion1 = nn.MSELoss()\n",
    "criterion2 = nn.L1Loss()\n",
    "\n",
    "optimizer = optim_class(model.parameters(), lr=lr, weight_decay=weight_decay)\n",
    "\n",
    "set_seed()\n",
    "for epoch in range(epochs):\n",
    "    print('# Epoch %d / %d'%(epoch + 1, epochs))   \n",
    "    preds_t, truths_t, mse_t, mae_t = train(model, train_loader, optimizer)\n",
    "    preds_v, truths_v, mse_v, mae_v = valid(model, test_loader)\n",
    "\n",
    "    train_p, _ = pearsonr(preds_t, truths_t)\n",
    "    train_s, _ = spearmanr(preds_t, truths_t)\n",
    "    train_mae = mae_t / len(train_loader)\n",
    "    train_mse = mse_t / len(train_loader)\n",
    "\n",
    "    valid_p, _ = pearsonr(preds_v, truths_v)\n",
    "    valid_s, _ = spearmanr(preds_v, truths_v)\n",
    "    valid_mae = mae_v / len(test_loader)\n",
    "    valid_mse = mse_v / len(test_loader)\n",
    "\n",
    "    wandb.log({\"train_mae\": train_mae, \"train_mse\": train_mse, \"valid_mae\": valid_mae, \"valid_mse\": valid_mse,\n",
    "       \"train_pearson\": train_p, \"train_spearman\": train_s, \"valid_pearson\": valid_p, \"valid_spearman\": valid_s,})\n",
    "wandb.finish()"
   ]
  },
  {
   "cell_type": "code",
   "execution_count": null,
   "id": "ba474024",
   "metadata": {},
   "outputs": [],
   "source": [
    "import seaborn as sns\n",
    "\n",
    "def predict(model, data_loader, title='', line=False):\n",
    "    model.eval()\n",
    "    preds, truths = np.array([]), np.array([])\n",
    "    with torch.no_grad():\n",
    "        for inputs, labels in tqdm(data_loader):\n",
    "            inputs, labels = inputs.to(device, dtype=torch.float), labels.to(device, dtype=torch.float)\n",
    "            output = model(inputs)\n",
    "            pred = output.detach().cpu().numpy()\n",
    "            truth = labels.detach().cpu().numpy()\n",
    "            preds = np.append(preds, pred.reshape(pred.size), axis=0)\n",
    "            truths = np.append(truths, truth.reshape(truth.size), axis=0)\n",
    "        \n",
    "    # Get correlation coefficients\n",
    "    pearson, pearson_p = pearsonr(preds, truths)\n",
    "    spearman, spearman_p = spearmanr(preds, truths)\n",
    "    \n",
    "    # For range setting\n",
    "    _min = y_min - 0.5\n",
    "    _max = y_max + 0.5\n",
    "    \n",
    "    # Figure size\n",
    "#     plt.figure(figsize=(5, 5))\n",
    "    \n",
    "    # Reference line\n",
    "    x = np.linspace(_min, _max)\n",
    "    y = x\n",
    "    plt.plot(x, y, c='gray', ls='--', label='Reference r = 1.0')\n",
    "    \n",
    "    # Regression Plot\n",
    "    \n",
    "    ## Scatter\n",
    "    plt.scatter(truths, preds, c='steelblue', label='Pearson\\'s r = {:.2f} / Spearman\\'s r = {:.2f}'.format(pearson,spearman))\n",
    "    \n",
    "    ## Linear Regression Line\n",
    "    if line:\n",
    "        m, b = np.polyfit(truths, preds, 1)\n",
    "        plt.plot(truths, m*truths + b, c='steelblue', label='m = {:.2f}'.format(m))\n",
    "#     # Regression Plot at once\n",
    "#     sns.regplot(x=truths, y=preds, ci=None, color='steelblue', label='Pearson r = {:.2f}'.format(pearson))\n",
    "\n",
    "    if title != '':\n",
    "        plt.title(title)\n",
    "    \n",
    "    plt.axis('square')\n",
    "    plt.ylabel('Predicted WMH'); plt.xlabel('Ground Truth')\n",
    "    plt.legend()\n",
    "    plt.tight_layout()\n",
    "    plt.xlim([_min, _max])\n",
    "    plt.ylim([_min, _max])\n",
    "    plt.show()\n",
    "    plt.close()\n",
    "    \n",
    "    return preds, truths"
   ]
  },
  {
   "cell_type": "code",
   "execution_count": null,
   "id": "f495f821",
   "metadata": {},
   "outputs": [],
   "source": [
    "y_min, y_max =y_test.min(), y_test.max()\n",
    "y_min, y_max"
   ]
  },
  {
   "cell_type": "code",
   "execution_count": null,
   "id": "b4c8f9c0",
   "metadata": {
    "scrolled": false
   },
   "outputs": [],
   "source": [
    "_,_ = predict(model, test_loader)"
   ]
  },
  {
   "cell_type": "code",
   "execution_count": null,
   "id": "b9fcf45b",
   "metadata": {},
   "outputs": [],
   "source": [
    "net = SFCN()\n",
    "net.load_state_dict(torch.load('pretrained/230131_sfcn+mae_best'))\n",
    "net.to(device)\n",
    "_,_ = predict(net, test_loader)"
   ]
  },
  {
   "cell_type": "code",
   "execution_count": null,
   "id": "df0a3066",
   "metadata": {},
   "outputs": [],
   "source": [
    "dataset = NeckDataset(train_X, train_y)\n",
    "data_loader = DataLoader(dataset, batch_size=batch_size, num_workers=16)\n",
    "_,_ = predict(model, train_loader, 'Training set')"
   ]
  }
 ],
 "metadata": {
  "kernelspec": {
   "display_name": "Python 3 (ipykernel)",
   "language": "python",
   "name": "python3"
  },
  "language_info": {
   "codemirror_mode": {
    "name": "ipython",
    "version": 3
   },
   "file_extension": ".py",
   "mimetype": "text/x-python",
   "name": "python",
   "nbconvert_exporter": "python",
   "pygments_lexer": "ipython3",
   "version": "3.8.13"
  }
 },
 "nbformat": 4,
 "nbformat_minor": 5
}
