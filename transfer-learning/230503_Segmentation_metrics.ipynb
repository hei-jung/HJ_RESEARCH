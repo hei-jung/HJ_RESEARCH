{
 "cells": [
  {
   "cell_type": "code",
   "execution_count": 1,
   "id": "e59dce76",
   "metadata": {},
   "outputs": [],
   "source": [
    "import os\n",
    "os.environ[\"CUDA_DEVICE_ORDER\"]=\"PCI_BUS_ID\"\n",
    "os.environ[\"CUDA_VISIBLE_DEVICES\"]= \"0,1\""
   ]
  },
  {
   "cell_type": "code",
   "execution_count": 2,
   "id": "ecd3beb1",
   "metadata": {},
   "outputs": [],
   "source": [
    "import numpy as np\n",
    "import nibabel as nib\n",
    "import pandas as pd\n",
    "import random\n",
    "import torch\n",
    "import torch.backends.cudnn as cudnn\n",
    "import torch.optim as optim\n",
    "from torch import nn\n",
    "from torch.utils.data import Dataset, DataLoader, random_split\n",
    "from sklearn.model_selection import train_test_split\n",
    "from torch.autograd import Variable\n",
    "import torchio as tio\n",
    "from models.segmentation import *\n",
    "from models.sfcn import *\n",
    "from models.pretrained_cnn import *\n",
    "from models.vnet_regressor import *\n",
    "from models.sfcn_fds import *\n",
    "from models.pretrained_cnn_fds import *\n",
    "from models.lds_utils import get_lds_kernel_window\n",
    "from models.loss import weighted_focal_mse_loss, weighted_focal_l1_loss\n",
    "from collections import Counter\n",
    "from scipy.ndimage import zoom, convolve1d\n",
    "from scipy.stats import pearsonr, spearmanr\n",
    "from tqdm import tqdm\n",
    "import copy\n",
    "import matplotlib.pyplot as plt\n",
    "import matplotlib.patches as mpatches\n",
    "import time\n",
    "import gc\n",
    "import wandb"
   ]
  },
  {
   "cell_type": "code",
   "execution_count": 3,
   "id": "1d341b16",
   "metadata": {},
   "outputs": [
    {
     "name": "stdout",
     "output_type": "stream",
     "text": [
      "Last run on Sat Jun 17 21:42:30 2023\n",
      "TorchIO version: 0.18.83\n"
     ]
    }
   ],
   "source": [
    "plt.rcParams['figure.figsize'] = 12, 6\n",
    "\n",
    "print('Last run on', time.ctime())\n",
    "print('TorchIO version:', tio.__version__)"
   ]
  },
  {
   "cell_type": "code",
   "execution_count": 4,
   "id": "514b72a7",
   "metadata": {},
   "outputs": [],
   "source": [
    "RANDOM_SEED = 551"
   ]
  },
  {
   "cell_type": "code",
   "execution_count": 5,
   "id": "dd557c37",
   "metadata": {},
   "outputs": [],
   "source": [
    "# control randomness\n",
    "def set_seed(random_seed=551):\n",
    "    torch.manual_seed(random_seed)\n",
    "    torch.cuda.manual_seed(random_seed)\n",
    "    torch.cuda.manual_seed_all(random_seed)\n",
    "    np.random.seed(random_seed)\n",
    "    cudnn.benchmark = False\n",
    "    cudnn.deterministic = True\n",
    "    random.seed(random_seed)"
   ]
  },
  {
   "cell_type": "code",
   "execution_count": 6,
   "id": "8e828fcf",
   "metadata": {},
   "outputs": [
    {
     "name": "stdout",
     "output_type": "stream",
     "text": [
      "Count of using GPUs: 2\n"
     ]
    }
   ],
   "source": [
    "device = torch.device(\"cuda\" if torch.cuda.is_available() else \"cpu\")\n",
    "#print('Device:', device)\n",
    "#print('Current cuda device:', torch.cuda.current_device())\n",
    "print('Count of using GPUs:', torch.cuda.device_count())"
   ]
  },
  {
   "cell_type": "code",
   "execution_count": 7,
   "id": "cb0c4bb7",
   "metadata": {},
   "outputs": [],
   "source": [
    "def prepare_dataset(image_dir='./input_nifti_crop/', label_dir='./seg_nifti_crop/'):\n",
    "        # img_list = list(map(lambda path: img_dir + path, os.listdir(img_dir)))\n",
    "    filenames = os.listdir(label_dir)  # image_dir랑 label_dir에 저장되어있는 파일명이 같음\n",
    "\n",
    "    subjects = []\n",
    "    for filename in tqdm(filenames):\n",
    "        subject = tio.Subject(\n",
    "            img = tio.ScalarImage(image_dir + filename),\n",
    "            label = tio.LabelMap(label_dir + filename))   # label => LabelMap!!!!!!!\n",
    "        subjects.append(subject)\n",
    "    dataset = tio.SubjectsDataset(subjects)\n",
    "    return subjects, dataset"
   ]
  },
  {
   "cell_type": "code",
   "execution_count": 8,
   "id": "8da2eb9d",
   "metadata": {},
   "outputs": [],
   "source": [
    "def run_training(net_seg, loss_type):\n",
    "    running_seg_loss = 0.0\n",
    "    running_seg_score = 0.0\n",
    "\n",
    "    for i, data in enumerate(tqdm(train_loader, 0)):\n",
    "        inputs, labels = data['img']['data'], data['label']['data']\n",
    "\n",
    "#         print('before')\n",
    "#         plt.imshow(labels[0,0,:,:,labels.shape[4]//2])\n",
    "#         plt.show()\n",
    "\n",
    "        \n",
    "#         print('labels:', labels[0,0,:,:,labels.shape[4]//2])\n",
    "        \n",
    "#         l1=(labels==1)\n",
    "#         l0=(labels==0)\n",
    "#         labels = torch.cat((l0,l1),1)\n",
    "        \n",
    "#         print('after')\n",
    "#         plt.imshow(labels[0,0,:,:,labels.shape[4]//2])\n",
    "#         plt.show()\n",
    "#         plt.imshow(labels[0,1,:,:,labels.shape[4]//2])\n",
    "#         plt.show()\n",
    "#         break\n",
    "\n",
    "        if torch.cuda.is_available:\n",
    "            inputs, labels = inputs.type(torch.cuda.FloatTensor),labels.type(torch.cuda.FloatTensor)\n",
    "\n",
    "        inputs, labels = Variable(inputs), Variable(labels)\n",
    "#         if (i % effective_batchsize) == 0:\n",
    "        optimizer_seg.zero_grad()\n",
    "        \n",
    "        net_seg.train()\n",
    "        outputs_seg = net_seg(inputs)\n",
    "\n",
    "        outputs_seg = torch.nn.Softmax(dim=1)(outputs_seg)\n",
    "#         ##\n",
    "#         print('input:',outputs_seg.shape,'target:', labels.shape)\n",
    "        loss_seg, score_seg = criterion_seg(outputs_seg, labels, loss=loss_type)\n",
    "\n",
    "        loss_seg.backward()\n",
    "        optimizer_seg.step()\n",
    "\n",
    "        running_seg_loss += loss_seg.detach().cpu().item()\n",
    "        running_seg_score += score_seg.detach().cpu().item()\n",
    "        gc.collect()\n",
    "        torch.cuda.empty_cache()\n",
    "    \n",
    "    avg_loss = running_seg_loss / len(train_loader)\n",
    "    avg_score = running_seg_score / len(train_loader)\n",
    "    \n",
    "    one_output_seg = outputs_seg.detach().cpu().numpy()[0]\n",
    "    one_output_img = inputs.detach().cpu().numpy()[0]\n",
    "    one_output_lbl = labels.detach().cpu().numpy()[0]\n",
    "    \n",
    "    return avg_loss, avg_score, one_output_seg, one_output_img, one_output_lbl"
   ]
  },
  {
   "cell_type": "code",
   "execution_count": 9,
   "id": "c4191eb2",
   "metadata": {},
   "outputs": [],
   "source": [
    "def run_validation(net_seg, loss_type):\n",
    "    net_seg.eval()\n",
    "  \n",
    "    running_seg_loss = 0.0\n",
    "    running_seg_score = 0.0\n",
    "    \n",
    "    total_output_seg=[]\n",
    "    total_output_img=[]\n",
    "    \n",
    "    with torch.no_grad():\n",
    "        for i, data in enumerate(tqdm(valid_loader, 0)):\n",
    "            inputs, labels = data['img']['data'], data['label']['data']    \n",
    "            \n",
    "#             l1=(labels==1)\n",
    "#             l0=(labels==0)\n",
    "#             labels = torch.cat((l0,l1),1)\n",
    "            \n",
    "            if torch.cuda.is_available:\n",
    "                inputs, labels = inputs.type(torch.cuda.FloatTensor),labels.type(torch.cuda.FloatTensor)\n",
    "\n",
    "            inputs, labels = Variable(inputs), Variable(labels)\n",
    "            \n",
    "            net_seg.eval()\n",
    "            \n",
    "            total_inputs=copy.deepcopy(inputs)\n",
    "            total_output_img.append(total_inputs.detach().cpu().numpy())\n",
    "            \n",
    "            outputs_seg = net_seg(inputs)\n",
    "            outputs_seg = torch.nn.Softmax(dim=1)(outputs_seg)\n",
    "            total_outputs=copy.deepcopy(outputs_seg)\n",
    "            total_output_seg.append(total_outputs.detach().cpu().numpy())\n",
    "            \n",
    "            loss_seg, score_seg = criterion_seg(outputs_seg, labels, loss=loss_type)\n",
    "            \n",
    "            running_seg_loss += loss_seg.detach().cpu().item()\n",
    "            running_seg_score += score_seg.detach().cpu().item()\n",
    "            \n",
    "    avg_loss = running_seg_loss / len(valid_loader)\n",
    "    avg_score = running_seg_score / len(valid_loader)\n",
    "    \n",
    "    one_output_seg = outputs_seg.detach().cpu().numpy()[0]\n",
    "    one_output_img = inputs.detach().cpu().numpy()[0]\n",
    "    one_output_lbl = labels.detach().cpu().numpy()[0]\n",
    "    #total_output_img=np.reshape(1,224,224,32)\n",
    "    #total_output_seg=np.reshape(1,224,224,32)\n",
    "\n",
    "    return avg_loss, avg_score, one_output_seg, one_output_img, one_output_lbl, total_output_seg, total_output_img"
   ]
  },
  {
   "cell_type": "code",
   "execution_count": 10,
   "id": "1812f256",
   "metadata": {},
   "outputs": [
    {
     "name": "stderr",
     "output_type": "stream",
     "text": [
      "100%|██████████████████████████████████████| 130/130 [00:00<00:00, 14521.28it/s]"
     ]
    },
    {
     "name": "stdout",
     "output_type": "stream",
     "text": [
      "Dataset size :  130 subjects\n"
     ]
    },
    {
     "name": "stderr",
     "output_type": "stream",
     "text": [
      "\n"
     ]
    }
   ],
   "source": [
    "image_dir = './input_nifti_300/'  #'./input_nifti/'\n",
    "label_dir = './seg_nifti_300/'  #'./input_nifti_seg/'\n",
    "subjects, dataset = prepare_dataset(image_dir, label_dir)\n",
    "print('Dataset size : ', len(dataset), 'subjects')"
   ]
  },
  {
   "cell_type": "code",
   "execution_count": 11,
   "id": "db83ff4b",
   "metadata": {},
   "outputs": [
    {
     "name": "stdout",
     "output_type": "stream",
     "text": [
      "Training set: 104 subjects\n",
      "Validation set: 26 subjects\n"
     ]
    }
   ],
   "source": [
    "set_seed()\n",
    "\n",
    "split_rate = 0.8\n",
    "_, _, _, d = dataset[0].shape\n",
    "w, h = 300, 300\n",
    "img_size = 192  # [16,32,48,64,80,96,112,128,144,160, 176,192,208,224]\n",
    "sample_rate = 300 / img_size\n",
    "\n",
    "# transformation\n",
    "preprocess = tio.Compose([\n",
    "    tio.Resample(sample_rate),\n",
    "#     tio.Resample(1.5),\n",
    "#     tio.Crop((44,44,44,44,54,34)),\n",
    "#     tio.Clamp(480,720),\n",
    "    tio.ZNormalization(),\n",
    "    tio.OneHot(),\n",
    "])\n",
    "\n",
    "train_transform = tio.Compose([\n",
    "    tio.Resample(sample_rate),\n",
    "#     tio.Resample(1.5),\n",
    "#     tio.Crop((44,44,44,44,54,34)),\n",
    "#     tio.Clamp(480,720),\n",
    "    tio.ZNormalization(),\n",
    "    tio.OneHot(),\n",
    "])\n",
    "\n",
    "valid_transform = tio.Compose([\n",
    "    tio.Resample(sample_rate),\n",
    "#     tio.Resample(1.5),\n",
    "#     tio.Crop((44,44,44,44,54,34)),\n",
    "#     tio.Clamp(480,720),\n",
    "    tio.ZNormalization(),\n",
    "    tio.OneHot(),\n",
    "])\n",
    "\n",
    "# data split\n",
    "set_seed()\n",
    "num_subjects = len(dataset)\n",
    "num_train_subjects = int(split_rate * num_subjects)\n",
    "num_valid_subjects = num_subjects - num_train_subjects\n",
    "num_split_subjects = num_train_subjects, num_valid_subjects\n",
    "train_subjects, valid_subjects = random_split(subjects, num_split_subjects)\n",
    "\n",
    "# all data set\n",
    "dataset = tio.SubjectsDataset(subjects, transform=preprocess)\n",
    "\n",
    "# training set\n",
    "train_set = tio.SubjectsDataset(\n",
    "    train_subjects, transform=train_transform)\n",
    "# validation set\n",
    "valid_set = tio.SubjectsDataset(\n",
    "    valid_subjects, transform=valid_transform)\n",
    "\n",
    "print('Training set:', len(train_set), 'subjects')\n",
    "print('Validation set:', len(valid_set), 'subjects')"
   ]
  },
  {
   "cell_type": "code",
   "execution_count": 12,
   "id": "d1b8e087",
   "metadata": {},
   "outputs": [],
   "source": [
    "batch_size = 4\n",
    "valid_batch_size = 4\n",
    "\n",
    "# weight 값 얻기 용\n",
    "data_loader = DataLoader(dataset, batch_size=batch_size, num_workers=16)\n",
    "\n",
    "# hyper-paramter tuning 용\n",
    "train_loader = DataLoader(train_set, batch_size=batch_size, num_workers=16)\n",
    "valid_loader = DataLoader(valid_set, batch_size=valid_batch_size, num_workers=16)"
   ]
  },
  {
   "cell_type": "code",
   "execution_count": 13,
   "id": "7e560fbe",
   "metadata": {},
   "outputs": [],
   "source": [
    "normalization = 'groupnorm'\n",
    "num_epochs = 5\n",
    "lr = 0.001\n",
    "optim_class = optim.Adam"
   ]
  },
  {
   "cell_type": "code",
   "execution_count": 14,
   "id": "dbff3c8a",
   "metadata": {},
   "outputs": [
    {
     "name": "stderr",
     "output_type": "stream",
     "text": [
      "Failed to detect the name of this notebook, you can set it manually with the WANDB_NOTEBOOK_NAME environment variable to enable code saving.\n",
      "\u001b[34m\u001b[1mwandb\u001b[0m: Currently logged in as: \u001b[33mhei-jung\u001b[0m. Use \u001b[1m`wandb login --relogin`\u001b[0m to force relogin\n"
     ]
    },
    {
     "data": {
      "text/html": [
       "wandb version 0.15.1 is available!  To upgrade, please run:\n",
       " $ pip install wandb --upgrade"
      ],
      "text/plain": [
       "<IPython.core.display.HTML object>"
      ]
     },
     "metadata": {},
     "output_type": "display_data"
    },
    {
     "data": {
      "text/html": [
       "Tracking run with wandb version 0.12.21"
      ],
      "text/plain": [
       "<IPython.core.display.HTML object>"
      ]
     },
     "metadata": {},
     "output_type": "display_data"
    },
    {
     "data": {
      "text/html": [
       "Run data is saved locally in <code>/home/jhj/Desktop/HJ_RESEARCH/snu_brain_disease/wandb/run-20230503_171327-11va2ikj</code>"
      ],
      "text/plain": [
       "<IPython.core.display.HTML object>"
      ]
     },
     "metadata": {},
     "output_type": "display_data"
    },
    {
     "data": {
      "text/html": [
       "Syncing run <strong><a href=\"https://wandb.ai/hei-jung/202303-segmentation/runs/11va2ikj\" target=\"_blank\">woven-night-48</a></strong> to <a href=\"https://wandb.ai/hei-jung/202303-segmentation\" target=\"_blank\">Weights & Biases</a> (<a href=\"https://wandb.me/run\" target=\"_blank\">docs</a>)<br/>"
      ],
      "text/plain": [
       "<IPython.core.display.HTML object>"
      ]
     },
     "metadata": {},
     "output_type": "display_data"
    },
    {
     "name": "stderr",
     "output_type": "stream",
     "text": [
      "100%|███████████████████████████████████████████| 26/26 [01:31<00:00,  3.51s/it]\n",
      "100%|█████████████████████████████████████████████| 7/7 [00:25<00:00,  3.68s/it]\n"
     ]
    },
    {
     "name": "stdout",
     "output_type": "stream",
     "text": [
      "# EPOCH 1 / 5\n"
     ]
    },
    {
     "name": "stderr",
     "output_type": "stream",
     "text": [
      "100%|███████████████████████████████████████████| 26/26 [01:38<00:00,  3.80s/it]\n",
      "100%|█████████████████████████████████████████████| 7/7 [00:28<00:00,  4.14s/it]\n"
     ]
    },
    {
     "name": "stdout",
     "output_type": "stream",
     "text": [
      "# EPOCH 2 / 5\n"
     ]
    },
    {
     "name": "stderr",
     "output_type": "stream",
     "text": [
      "100%|███████████████████████████████████████████| 26/26 [01:44<00:00,  4.04s/it]\n",
      "100%|█████████████████████████████████████████████| 7/7 [00:29<00:00,  4.15s/it]\n"
     ]
    },
    {
     "name": "stdout",
     "output_type": "stream",
     "text": [
      "# EPOCH 3 / 5\n"
     ]
    },
    {
     "name": "stderr",
     "output_type": "stream",
     "text": [
      "100%|███████████████████████████████████████████| 26/26 [01:38<00:00,  3.78s/it]\n",
      "100%|█████████████████████████████████████████████| 7/7 [00:28<00:00,  4.05s/it]\n"
     ]
    },
    {
     "name": "stdout",
     "output_type": "stream",
     "text": [
      "# EPOCH 4 / 5\n"
     ]
    },
    {
     "name": "stderr",
     "output_type": "stream",
     "text": [
      "100%|███████████████████████████████████████████| 26/26 [01:33<00:00,  3.60s/it]\n",
      "100%|█████████████████████████████████████████████| 7/7 [00:28<00:00,  4.06s/it]\n"
     ]
    },
    {
     "name": "stdout",
     "output_type": "stream",
     "text": [
      "# EPOCH 5 / 5\n",
      "Train\n"
     ]
    },
    {
     "data": {
      "image/png": "[encoded data removed]",
      "text/plain": [
       "<Figure size 432x288 with 1 Axes>"
      ]
     },
     "metadata": {
      "needs_background": "light"
     },
     "output_type": "display_data"
    },
    {
     "data": {
      "image/png": "[encoded data removed]",
      "text/plain": [
       "<Figure size 432x288 with 1 Axes>"
      ]
     },
     "metadata": {
      "needs_background": "light"
     },
     "output_type": "display_data"
    },
    {
     "name": "stdout",
     "output_type": "stream",
     "text": [
      "Valid\n"
     ]
    },
    {
     "data": {
      "image/png": "[encoded data removed]",
      "text/plain": [
       "<Figure size 432x288 with 1 Axes>"
      ]
     },
     "metadata": {
      "needs_background": "light"
     },
     "output_type": "display_data"
    },
    {
     "data": {
      "image/png": "[encoded data removed]",
      "text/plain": [
       "<Figure size 432x288 with 1 Axes>"
      ]
     },
     "metadata": {
      "needs_background": "light"
     },
     "output_type": "display_data"
    },
    {
     "data": {
      "image/png": "[encoded data removed]",
      "text/plain": [
       "<Figure size 432x288 with 1 Axes>"
      ]
     },
     "metadata": {
      "needs_background": "light"
     },
     "output_type": "display_data"
    },
    {
     "data": {
      "text/html": [
       "Waiting for W&B process to finish... <strong style=\"color:green\">(success).</strong>"
      ],
      "text/plain": [
       "<IPython.core.display.HTML object>"
      ]
     },
     "metadata": {},
     "output_type": "display_data"
    },
    {
     "data": {
      "application/vnd.jupyter.widget-view+json": {
       "model_id": "",
       "version_major": 2,
       "version_minor": 0
      },
      "text/plain": [
       "VBox(children=(Label(value='0.161 MB of 0.196 MB uploaded (0.000 MB deduped)\\r'), FloatProgress(value=0.819708…"
      ]
     },
     "metadata": {},
     "output_type": "display_data"
    },
    {
     "data": {
      "text/html": [
       "<style>\n",
       "    table.wandb td:nth-child(1) { padding: 0 10px; text-align: left ; width: auto;} td:nth-child(2) {text-align: left ; width: 100%}\n",
       "    .wandb-row { display: flex; flex-direction: row; flex-wrap: wrap; justify-content: flex-start; width: 100% }\n",
       "    .wandb-col { display: flex; flex-direction: column; flex-basis: 100%; flex: 1; padding: 10px; }\n",
       "    </style>\n",
       "<div class=\"wandb-row\"><div class=\"wandb-col\"><h3>Run history:</h3><br/><table class=\"wandb\"><tr><td>train_loss</td><td>█▃▂▁▁</td></tr><tr><td>train_score</td><td>▁▆▇██</td></tr><tr><td>valid_loss</td><td>█▄▃▂▁</td></tr><tr><td>valid_score</td><td>▁▅▆▇█</td></tr></table><br/></div><div class=\"wandb-col\"><h3>Run summary:</h3><br/><table class=\"wandb\"><tr><td>train_loss</td><td>0.50666</td></tr><tr><td>train_score</td><td>0.49334</td></tr><tr><td>valid_loss</td><td>0.50564</td></tr><tr><td>valid_score</td><td>0.49436</td></tr></table><br/></div></div>"
      ],
      "text/plain": [
       "<IPython.core.display.HTML object>"
      ]
     },
     "metadata": {},
     "output_type": "display_data"
    },
    {
     "data": {
      "text/html": [
       "Synced <strong style=\"color:#cdcd00\">woven-night-48</strong>: <a href=\"https://wandb.ai/hei-jung/202303-segmentation/runs/11va2ikj\" target=\"_blank\">https://wandb.ai/hei-jung/202303-segmentation/runs/11va2ikj</a><br/>Synced 6 W&B file(s), 30 media file(s), 0 artifact file(s) and 0 other file(s)"
      ],
      "text/plain": [
       "<IPython.core.display.HTML object>"
      ]
     },
     "metadata": {},
     "output_type": "display_data"
    },
    {
     "data": {
      "text/html": [
       "Find logs at: <code>./wandb/run-20230503_171327-11va2ikj/logs</code>"
      ],
      "text/plain": [
       "<IPython.core.display.HTML object>"
      ]
     },
     "metadata": {},
     "output_type": "display_data"
    }
   ],
   "source": [
    "# SegLoss 코드 시험\n",
    "set_seed()\n",
    "net_seg = VNet(n_channels=1, n_classes=2, n_filters=16, normalization=normalization)  # num classes: 2 (background, label)\n",
    "net_seg = torch.nn.DataParallel(net_seg, device_ids=[0, 1])\n",
    "net_seg.cuda()\n",
    "\n",
    "wandb.init(\n",
    "    project='202303-segmentation',\n",
    "    config={\"model\": \"VNet\", \"input_size\": img_size,\n",
    "            \"start_lr\": lr, \"epochs\": num_epochs, \"batch_size\": batch_size,\n",
    "            \"cost_function\": \"DiceLoss\", \"optimizer\": optim_class.__name__},\n",
    "    notes='Dice 코드 시험용'\n",
    ")\n",
    "wandb.watch(net_seg)\n",
    "\n",
    "train_losses = []\n",
    "validation_losses = []\n",
    "S = 192 // 2\n",
    "\n",
    "optimizer_seg = optim_class(net_seg.parameters(), lr=lr)\n",
    "criterion_seg = SegLoss()\n",
    "\n",
    "set_seed()\n",
    "for epoch in range(num_epochs):\n",
    "    train_loss, train_score, train_seg_part, train_img_part, train_input_lbl = run_training(net_seg, \"dice\")\n",
    "    valid_loss, valid_score, valid_output_seg_part, valid_input_img_part, valid_input_lbl_part, valid_total_seg, valid_total_img = run_validation(net_seg, \"dice\")\n",
    "    print('# EPOCH %d / %d'%(epoch+1, num_epochs))\n",
    "    train_losses.append(train_loss)\n",
    "    validation_losses.append(valid_loss)\n",
    "    \n",
    "    train_img = wandb.Image(train_img_part[0,:,:,S])\n",
    "    train_truth = wandb.Image(train_input_lbl[1,:,:,S], caption=\"Ground truth\")\n",
    "    train_pred = wandb.Image(train_seg_part[1,:,:,S], caption=\"Prediction\")\n",
    "    valid_img = wandb.Image(valid_input_img_part[0,:,:,S])\n",
    "    valid_truth = wandb.Image(valid_input_lbl_part[1,:,:,S], caption=\"Ground truth\")\n",
    "    valid_pred = wandb.Image(valid_output_seg_part[1,:,:,S], caption=\"Prediction\")\n",
    "    \n",
    "#     lbl_train = train_input_lbl[0, :, : ,S]\n",
    "#     seg_train = train_seg_part[0, :, : , S]\n",
    "#     lbl_valid = valid_input_lbl_part[0, :, : , S]\n",
    "#     seg_valid = valid_output_seg_part[0, :, : , S]\n",
    "    \n",
    "    if (epoch+1)%5==0:\n",
    "        print('Train')\n",
    "        plt.imshow(np.squeeze(np.concatenate((1*train_img_part[0,:,:,S],train_input_lbl[0, :, : ,S],train_input_lbl[1, :, : ,S]),axis=1)),vmin=0,vmax=1, cmap='gray') # label\n",
    "        plt.show()\n",
    "        plt.imshow(np.squeeze(np.concatenate((1*train_img_part[0,:,:,S],train_seg_part[0, :, : , S],train_seg_part[1, :, : ,S]),axis=1)),vmin=0,vmax=1,cmap='gray') # label\n",
    "        plt.show()\n",
    "        \n",
    "        print('Valid')\n",
    "        plt.imshow(np.squeeze(np.concatenate((1*valid_input_img_part[0,:,:,S],valid_input_lbl_part[0, :, : , S],valid_input_lbl_part[1, :, : , S]),axis=1)),vmin=0,vmax=1, cmap='gray') # label\n",
    "        plt.show()  \n",
    "        plt.imshow(np.squeeze(np.concatenate((1*valid_input_img_part[0,:,:,S],valid_output_seg_part[0, :, : , S],valid_output_seg_part[1, :, : , S]),axis=1)),vmin=0,vmax=1,cmap='gray') # label\n",
    "        plt.show()\n",
    "        \n",
    "        # loss curve\n",
    "        plt.plot(range(len(train_losses)), train_losses, 'b', range(len(validation_losses)), validation_losses,'r')\n",
    "        red_patch = mpatches.Patch(color='red', label='Validation')\n",
    "        blue_patch = mpatches.Patch(color='blue', label='Training')\n",
    "        plt.legend(handles=[red_patch, blue_patch])\n",
    "        plt.show()\n",
    "        \n",
    "    wandb.log({\"train_loss\": train_loss, \"valid_loss\": valid_loss,\n",
    "               \"train_score\": train_score, \"valid_score\": valid_score,\n",
    "               \"train_img\": train_img, \"valid_img\": valid_img,\n",
    "               \"train_label\": train_truth, \"train_pred\": train_pred,\n",
    "               \"valid_label\": valid_truth, \"valid_pred\": valid_pred})\n",
    "wandb.finish()"
   ]
  },
  {
   "cell_type": "code",
   "execution_count": 14,
   "id": "7cac6820",
   "metadata": {},
   "outputs": [],
   "source": [
    "normalization = 'groupnorm'\n",
    "num_epochs = 30\n",
    "lr = 0.001\n",
    "optim_class = optim.Adam"
   ]
  },
  {
   "cell_type": "code",
   "execution_count": 15,
   "id": "c3e2db1a",
   "metadata": {
    "scrolled": true
   },
   "outputs": [
    {
     "name": "stderr",
     "output_type": "stream",
     "text": [
      "Failed to detect the name of this notebook, you can set it manually with the WANDB_NOTEBOOK_NAME environment variable to enable code saving.\n",
      "\u001b[34m\u001b[1mwandb\u001b[0m: Currently logged in as: \u001b[33mhei-jung\u001b[0m. Use \u001b[1m`wandb login --relogin`\u001b[0m to force relogin\n"
     ]
    },
    {
     "data": {
      "text/html": [
       "wandb version 0.15.1 is available!  To upgrade, please run:\n",
       " $ pip install wandb --upgrade"
      ],
      "text/plain": [
       "<IPython.core.display.HTML object>"
      ]
     },
     "metadata": {},
     "output_type": "display_data"
    },
    {
     "data": {
      "text/html": [
       "Tracking run with wandb version 0.12.21"
      ],
      "text/plain": [
       "<IPython.core.display.HTML object>"
      ]
     },
     "metadata": {},
     "output_type": "display_data"
    },
    {
     "data": {
      "text/html": [
       "Run data is saved locally in <code>/home/jhj/Desktop/HJ_RESEARCH/snu_brain_disease/wandb/run-20230503_173005-3k3qanay</code>"
      ],
      "text/plain": [
       "<IPython.core.display.HTML object>"
      ]
     },
     "metadata": {},
     "output_type": "display_data"
    },
    {
     "data": {
      "text/html": [
       "Syncing run <strong><a href=\"https://wandb.ai/hei-jung/202303-segmentation/runs/3k3qanay\" target=\"_blank\">fast-paper-51</a></strong> to <a href=\"https://wandb.ai/hei-jung/202303-segmentation\" target=\"_blank\">Weights & Biases</a> (<a href=\"https://wandb.me/run\" target=\"_blank\">docs</a>)<br/>"
      ],
      "text/plain": [
       "<IPython.core.display.HTML object>"
      ]
     },
     "metadata": {},
     "output_type": "display_data"
    },
    {
     "name": "stderr",
     "output_type": "stream",
     "text": [
      "100%|███████████████████████████████████████████| 26/26 [01:21<00:00,  3.14s/it]\n"
     ]
    },
    {
     "name": "stdout",
     "output_type": "stream",
     "text": [
      "# EPOCH 1 / 30\n"
     ]
    },
    {
     "name": "stderr",
     "output_type": "stream",
     "text": [
      "100%|███████████████████████████████████████████| 26/26 [01:18<00:00,  3.01s/it]\n"
     ]
    },
    {
     "name": "stdout",
     "output_type": "stream",
     "text": [
      "# EPOCH 2 / 30\n"
     ]
    },
    {
     "name": "stderr",
     "output_type": "stream",
     "text": [
      "100%|███████████████████████████████████████████| 26/26 [01:21<00:00,  3.14s/it]\n"
     ]
    },
    {
     "name": "stdout",
     "output_type": "stream",
     "text": [
      "# EPOCH 3 / 30\n"
     ]
    },
    {
     "name": "stderr",
     "output_type": "stream",
     "text": [
      "100%|███████████████████████████████████████████| 26/26 [01:23<00:00,  3.23s/it]\n"
     ]
    },
    {
     "name": "stdout",
     "output_type": "stream",
     "text": [
      "# EPOCH 4 / 30\n"
     ]
    },
    {
     "name": "stderr",
     "output_type": "stream",
     "text": [
      "100%|███████████████████████████████████████████| 26/26 [01:21<00:00,  3.13s/it]\n"
     ]
    },
    {
     "name": "stdout",
     "output_type": "stream",
     "text": [
      "# EPOCH 5 / 30\n"
     ]
    },
    {
     "name": "stderr",
     "output_type": "stream",
     "text": [
      "100%|███████████████████████████████████████████| 26/26 [01:17<00:00,  3.00s/it]\n"
     ]
    },
    {
     "name": "stdout",
     "output_type": "stream",
     "text": [
      "# EPOCH 6 / 30\n"
     ]
    },
    {
     "name": "stderr",
     "output_type": "stream",
     "text": [
      "100%|███████████████████████████████████████████| 26/26 [01:18<00:00,  3.02s/it]\n"
     ]
    },
    {
     "name": "stdout",
     "output_type": "stream",
     "text": [
      "# EPOCH 7 / 30\n"
     ]
    },
    {
     "name": "stderr",
     "output_type": "stream",
     "text": [
      "100%|███████████████████████████████████████████| 26/26 [01:24<00:00,  3.26s/it]\n"
     ]
    },
    {
     "name": "stdout",
     "output_type": "stream",
     "text": [
      "# EPOCH 8 / 30\n"
     ]
    },
    {
     "name": "stderr",
     "output_type": "stream",
     "text": [
      "100%|███████████████████████████████████████████| 26/26 [01:22<00:00,  3.18s/it]\n"
     ]
    },
    {
     "name": "stdout",
     "output_type": "stream",
     "text": [
      "# EPOCH 9 / 30\n"
     ]
    },
    {
     "name": "stderr",
     "output_type": "stream",
     "text": [
      "100%|███████████████████████████████████████████| 26/26 [01:22<00:00,  3.19s/it]\n"
     ]
    },
    {
     "name": "stdout",
     "output_type": "stream",
     "text": [
      "# EPOCH 10 / 30\n"
     ]
    },
    {
     "name": "stderr",
     "output_type": "stream",
     "text": [
      "100%|███████████████████████████████████████████| 26/26 [01:23<00:00,  3.22s/it]\n"
     ]
    },
    {
     "name": "stdout",
     "output_type": "stream",
     "text": [
      "# EPOCH 11 / 30\n"
     ]
    },
    {
     "name": "stderr",
     "output_type": "stream",
     "text": [
      "100%|███████████████████████████████████████████| 26/26 [01:25<00:00,  3.27s/it]\n"
     ]
    },
    {
     "name": "stdout",
     "output_type": "stream",
     "text": [
      "# EPOCH 12 / 30\n"
     ]
    },
    {
     "name": "stderr",
     "output_type": "stream",
     "text": [
      "100%|███████████████████████████████████████████| 26/26 [01:55<00:00,  4.44s/it]\n"
     ]
    },
    {
     "name": "stdout",
     "output_type": "stream",
     "text": [
      "# EPOCH 13 / 30\n"
     ]
    },
    {
     "name": "stderr",
     "output_type": "stream",
     "text": [
      "100%|███████████████████████████████████████████| 26/26 [01:32<00:00,  3.55s/it]\n"
     ]
    },
    {
     "name": "stdout",
     "output_type": "stream",
     "text": [
      "# EPOCH 14 / 30\n"
     ]
    },
    {
     "name": "stderr",
     "output_type": "stream",
     "text": [
      "100%|███████████████████████████████████████████| 26/26 [01:33<00:00,  3.60s/it]\n"
     ]
    },
    {
     "name": "stdout",
     "output_type": "stream",
     "text": [
      "# EPOCH 15 / 30\n"
     ]
    },
    {
     "name": "stderr",
     "output_type": "stream",
     "text": [
      "100%|███████████████████████████████████████████| 26/26 [01:28<00:00,  3.42s/it]\n"
     ]
    },
    {
     "name": "stdout",
     "output_type": "stream",
     "text": [
      "# EPOCH 16 / 30\n"
     ]
    },
    {
     "name": "stderr",
     "output_type": "stream",
     "text": [
      "100%|███████████████████████████████████████████| 26/26 [01:29<00:00,  3.43s/it]\n"
     ]
    },
    {
     "name": "stdout",
     "output_type": "stream",
     "text": [
      "# EPOCH 17 / 30\n"
     ]
    },
    {
     "name": "stderr",
     "output_type": "stream",
     "text": [
      "100%|███████████████████████████████████████████| 26/26 [01:34<00:00,  3.62s/it]\n"
     ]
    },
    {
     "name": "stdout",
     "output_type": "stream",
     "text": [
      "# EPOCH 18 / 30\n"
     ]
    },
    {
     "name": "stderr",
     "output_type": "stream",
     "text": [
      "100%|███████████████████████████████████████████| 26/26 [01:30<00:00,  3.47s/it]\n"
     ]
    },
    {
     "name": "stdout",
     "output_type": "stream",
     "text": [
      "# EPOCH 19 / 30\n"
     ]
    },
    {
     "name": "stderr",
     "output_type": "stream",
     "text": [
      "100%|███████████████████████████████████████████| 26/26 [01:34<00:00,  3.65s/it]\n"
     ]
    },
    {
     "name": "stdout",
     "output_type": "stream",
     "text": [
      "# EPOCH 20 / 30\n"
     ]
    },
    {
     "name": "stderr",
     "output_type": "stream",
     "text": [
      "100%|███████████████████████████████████████████| 26/26 [01:31<00:00,  3.53s/it]\n"
     ]
    },
    {
     "name": "stdout",
     "output_type": "stream",
     "text": [
      "# EPOCH 21 / 30\n"
     ]
    },
    {
     "name": "stderr",
     "output_type": "stream",
     "text": [
      "100%|███████████████████████████████████████████| 26/26 [01:28<00:00,  3.42s/it]\n"
     ]
    },
    {
     "name": "stdout",
     "output_type": "stream",
     "text": [
      "# EPOCH 22 / 30\n"
     ]
    },
    {
     "name": "stderr",
     "output_type": "stream",
     "text": [
      "100%|███████████████████████████████████████████| 26/26 [01:28<00:00,  3.41s/it]\n"
     ]
    },
    {
     "name": "stdout",
     "output_type": "stream",
     "text": [
      "# EPOCH 23 / 30\n"
     ]
    },
    {
     "name": "stderr",
     "output_type": "stream",
     "text": [
      "100%|███████████████████████████████████████████| 26/26 [01:33<00:00,  3.61s/it]\n"
     ]
    },
    {
     "name": "stdout",
     "output_type": "stream",
     "text": [
      "# EPOCH 24 / 30\n"
     ]
    },
    {
     "name": "stderr",
     "output_type": "stream",
     "text": [
      "100%|███████████████████████████████████████████| 26/26 [01:33<00:00,  3.61s/it]\n"
     ]
    },
    {
     "name": "stdout",
     "output_type": "stream",
     "text": [
      "# EPOCH 25 / 30\n"
     ]
    },
    {
     "name": "stderr",
     "output_type": "stream",
     "text": [
      "100%|███████████████████████████████████████████| 26/26 [01:36<00:00,  3.71s/it]\n"
     ]
    },
    {
     "name": "stdout",
     "output_type": "stream",
     "text": [
      "# EPOCH 26 / 30\n"
     ]
    },
    {
     "name": "stderr",
     "output_type": "stream",
     "text": [
      "100%|███████████████████████████████████████████| 26/26 [01:36<00:00,  3.69s/it]\n"
     ]
    },
    {
     "name": "stdout",
     "output_type": "stream",
     "text": [
      "# EPOCH 27 / 30\n"
     ]
    },
    {
     "name": "stderr",
     "output_type": "stream",
     "text": [
      "100%|███████████████████████████████████████████| 26/26 [01:30<00:00,  3.50s/it]\n"
     ]
    },
    {
     "name": "stdout",
     "output_type": "stream",
     "text": [
      "# EPOCH 28 / 30\n"
     ]
    },
    {
     "name": "stderr",
     "output_type": "stream",
     "text": [
      "100%|███████████████████████████████████████████| 26/26 [01:27<00:00,  3.36s/it]\n"
     ]
    },
    {
     "name": "stdout",
     "output_type": "stream",
     "text": [
      "# EPOCH 29 / 30\n"
     ]
    },
    {
     "name": "stderr",
     "output_type": "stream",
     "text": [
      "100%|███████████████████████████████████████████| 26/26 [01:31<00:00,  3.50s/it]\n"
     ]
    },
    {
     "name": "stdout",
     "output_type": "stream",
     "text": [
      "# EPOCH 30 / 30\n"
     ]
    },
    {
     "data": {
      "text/html": [
       "Waiting for W&B process to finish... <strong style=\"color:green\">(success).</strong>"
      ],
      "text/plain": [
       "<IPython.core.display.HTML object>"
      ]
     },
     "metadata": {},
     "output_type": "display_data"
    },
    {
     "data": {
      "application/vnd.jupyter.widget-view+json": {
       "model_id": "",
       "version_major": 2,
       "version_minor": 0
      },
      "text/plain": [
       "VBox(children=(Label(value='0.398 MB of 0.398 MB uploaded (0.000 MB deduped)\\r'), FloatProgress(value=1.0, max…"
      ]
     },
     "metadata": {},
     "output_type": "display_data"
    },
    {
     "data": {
      "text/html": [
       "<style>\n",
       "    table.wandb td:nth-child(1) { padding: 0 10px; text-align: left ; width: auto;} td:nth-child(2) {text-align: left ; width: 100%}\n",
       "    .wandb-row { display: flex; flex-direction: row; flex-wrap: wrap; justify-content: flex-start; width: 100% }\n",
       "    .wandb-col { display: flex; flex-direction: column; flex-basis: 100%; flex: 1; padding: 10px; }\n",
       "    </style>\n",
       "<div class=\"wandb-row\"><div class=\"wandb-col\"><h3>Run history:</h3><br/><table class=\"wandb\"><tr><td>train_loss</td><td>█▇▇▇▇▆▆▅▂▂▁▁▁▁▁▁▁▁▁▁▁▁▁▁▁▁▁▁▁▁</td></tr><tr><td>train_score</td><td>▁▂▂▂▂▃▃▄▇▇████████████████████</td></tr></table><br/></div><div class=\"wandb-col\"><h3>Run summary:</h3><br/><table class=\"wandb\"><tr><td>train_loss</td><td>0.2179</td></tr><tr><td>train_score</td><td>0.7821</td></tr></table><br/></div></div>"
      ],
      "text/plain": [
       "<IPython.core.display.HTML object>"
      ]
     },
     "metadata": {},
     "output_type": "display_data"
    },
    {
     "data": {
      "text/html": [
       "Synced <strong style=\"color:#cdcd00\">fast-paper-51</strong>: <a href=\"https://wandb.ai/hei-jung/202303-segmentation/runs/3k3qanay\" target=\"_blank\">https://wandb.ai/hei-jung/202303-segmentation/runs/3k3qanay</a><br/>Synced 6 W&B file(s), 90 media file(s), 0 artifact file(s) and 0 other file(s)"
      ],
      "text/plain": [
       "<IPython.core.display.HTML object>"
      ]
     },
     "metadata": {},
     "output_type": "display_data"
    },
    {
     "data": {
      "text/html": [
       "Find logs at: <code>./wandb/run-20230503_173005-3k3qanay/logs</code>"
      ],
      "text/plain": [
       "<IPython.core.display.HTML object>"
      ]
     },
     "metadata": {},
     "output_type": "display_data"
    },
    {
     "data": {
      "text/html": [
       "wandb version 0.15.1 is available!  To upgrade, please run:\n",
       " $ pip install wandb --upgrade"
      ],
      "text/plain": [
       "<IPython.core.display.HTML object>"
      ]
     },
     "metadata": {},
     "output_type": "display_data"
    },
    {
     "data": {
      "text/html": [
       "Tracking run with wandb version 0.12.21"
      ],
      "text/plain": [
       "<IPython.core.display.HTML object>"
      ]
     },
     "metadata": {},
     "output_type": "display_data"
    },
    {
     "data": {
      "text/html": [
       "Run data is saved locally in <code>/home/jhj/Desktop/HJ_RESEARCH/snu_brain_disease/wandb/run-20230503_181443-10af36ef</code>"
      ],
      "text/plain": [
       "<IPython.core.display.HTML object>"
      ]
     },
     "metadata": {},
     "output_type": "display_data"
    },
    {
     "data": {
      "text/html": [
       "Syncing run <strong><a href=\"https://wandb.ai/hei-jung/202303-segmentation/runs/10af36ef\" target=\"_blank\">dulcet-wildflower-52</a></strong> to <a href=\"https://wandb.ai/hei-jung/202303-segmentation\" target=\"_blank\">Weights & Biases</a> (<a href=\"https://wandb.me/run\" target=\"_blank\">docs</a>)<br/>"
      ],
      "text/plain": [
       "<IPython.core.display.HTML object>"
      ]
     },
     "metadata": {},
     "output_type": "display_data"
    },
    {
     "name": "stderr",
     "output_type": "stream",
     "text": [
      "100%|███████████████████████████████████████████| 26/26 [01:26<00:00,  3.33s/it]\n"
     ]
    },
    {
     "name": "stdout",
     "output_type": "stream",
     "text": [
      "# EPOCH 1 / 30\n"
     ]
    },
    {
     "name": "stderr",
     "output_type": "stream",
     "text": [
      "100%|███████████████████████████████████████████| 26/26 [01:13<00:00,  2.84s/it]\n"
     ]
    },
    {
     "name": "stdout",
     "output_type": "stream",
     "text": [
      "# EPOCH 2 / 30\n"
     ]
    },
    {
     "name": "stderr",
     "output_type": "stream",
     "text": [
      "100%|███████████████████████████████████████████| 26/26 [01:12<00:00,  2.80s/it]\n"
     ]
    },
    {
     "name": "stdout",
     "output_type": "stream",
     "text": [
      "# EPOCH 3 / 30\n"
     ]
    },
    {
     "name": "stderr",
     "output_type": "stream",
     "text": [
      "100%|███████████████████████████████████████████| 26/26 [01:13<00:00,  2.81s/it]\n"
     ]
    },
    {
     "name": "stdout",
     "output_type": "stream",
     "text": [
      "# EPOCH 4 / 30\n"
     ]
    },
    {
     "name": "stderr",
     "output_type": "stream",
     "text": [
      "100%|███████████████████████████████████████████| 26/26 [01:12<00:00,  2.77s/it]\n"
     ]
    },
    {
     "name": "stdout",
     "output_type": "stream",
     "text": [
      "# EPOCH 5 / 30\n"
     ]
    },
    {
     "name": "stderr",
     "output_type": "stream",
     "text": [
      "100%|███████████████████████████████████████████| 26/26 [01:12<00:00,  2.77s/it]\n"
     ]
    },
    {
     "name": "stdout",
     "output_type": "stream",
     "text": [
      "# EPOCH 6 / 30\n"
     ]
    },
    {
     "name": "stderr",
     "output_type": "stream",
     "text": [
      "100%|███████████████████████████████████████████| 26/26 [01:12<00:00,  2.77s/it]\n"
     ]
    },
    {
     "name": "stdout",
     "output_type": "stream",
     "text": [
      "# EPOCH 7 / 30\n"
     ]
    },
    {
     "name": "stderr",
     "output_type": "stream",
     "text": [
      "100%|███████████████████████████████████████████| 26/26 [01:13<00:00,  2.83s/it]\n"
     ]
    },
    {
     "name": "stdout",
     "output_type": "stream",
     "text": [
      "# EPOCH 8 / 30\n"
     ]
    },
    {
     "name": "stderr",
     "output_type": "stream",
     "text": [
      "100%|███████████████████████████████████████████| 26/26 [01:13<00:00,  2.83s/it]\n"
     ]
    },
    {
     "name": "stdout",
     "output_type": "stream",
     "text": [
      "# EPOCH 9 / 30\n"
     ]
    },
    {
     "name": "stderr",
     "output_type": "stream",
     "text": [
      "100%|███████████████████████████████████████████| 26/26 [01:12<00:00,  2.81s/it]\n"
     ]
    },
    {
     "name": "stdout",
     "output_type": "stream",
     "text": [
      "# EPOCH 10 / 30\n"
     ]
    },
    {
     "name": "stderr",
     "output_type": "stream",
     "text": [
      "100%|███████████████████████████████████████████| 26/26 [01:12<00:00,  2.79s/it]\n"
     ]
    },
    {
     "name": "stdout",
     "output_type": "stream",
     "text": [
      "# EPOCH 11 / 30\n"
     ]
    },
    {
     "name": "stderr",
     "output_type": "stream",
     "text": [
      "100%|███████████████████████████████████████████| 26/26 [01:13<00:00,  2.84s/it]\n"
     ]
    },
    {
     "name": "stdout",
     "output_type": "stream",
     "text": [
      "# EPOCH 12 / 30\n"
     ]
    },
    {
     "name": "stderr",
     "output_type": "stream",
     "text": [
      "100%|███████████████████████████████████████████| 26/26 [01:12<00:00,  2.77s/it]\n"
     ]
    },
    {
     "name": "stdout",
     "output_type": "stream",
     "text": [
      "# EPOCH 13 / 30\n"
     ]
    },
    {
     "name": "stderr",
     "output_type": "stream",
     "text": [
      "100%|███████████████████████████████████████████| 26/26 [01:13<00:00,  2.83s/it]\n"
     ]
    },
    {
     "name": "stdout",
     "output_type": "stream",
     "text": [
      "# EPOCH 14 / 30\n"
     ]
    },
    {
     "name": "stderr",
     "output_type": "stream",
     "text": [
      "100%|███████████████████████████████████████████| 26/26 [01:12<00:00,  2.77s/it]\n"
     ]
    },
    {
     "name": "stdout",
     "output_type": "stream",
     "text": [
      "# EPOCH 15 / 30\n"
     ]
    },
    {
     "name": "stderr",
     "output_type": "stream",
     "text": [
      "100%|███████████████████████████████████████████| 26/26 [01:12<00:00,  2.80s/it]\n"
     ]
    },
    {
     "name": "stdout",
     "output_type": "stream",
     "text": [
      "# EPOCH 16 / 30\n"
     ]
    },
    {
     "name": "stderr",
     "output_type": "stream",
     "text": [
      "100%|███████████████████████████████████████████| 26/26 [01:13<00:00,  2.83s/it]\n"
     ]
    },
    {
     "name": "stdout",
     "output_type": "stream",
     "text": [
      "# EPOCH 17 / 30\n"
     ]
    },
    {
     "name": "stderr",
     "output_type": "stream",
     "text": [
      "100%|███████████████████████████████████████████| 26/26 [01:12<00:00,  2.77s/it]\n"
     ]
    },
    {
     "name": "stdout",
     "output_type": "stream",
     "text": [
      "# EPOCH 18 / 30\n"
     ]
    },
    {
     "name": "stderr",
     "output_type": "stream",
     "text": [
      "100%|███████████████████████████████████████████| 26/26 [01:11<00:00,  2.74s/it]\n"
     ]
    },
    {
     "name": "stdout",
     "output_type": "stream",
     "text": [
      "# EPOCH 19 / 30\n"
     ]
    },
    {
     "name": "stderr",
     "output_type": "stream",
     "text": [
      "100%|███████████████████████████████████████████| 26/26 [01:12<00:00,  2.80s/it]\n"
     ]
    },
    {
     "name": "stdout",
     "output_type": "stream",
     "text": [
      "# EPOCH 20 / 30\n"
     ]
    },
    {
     "name": "stderr",
     "output_type": "stream",
     "text": [
      "100%|███████████████████████████████████████████| 26/26 [01:12<00:00,  2.80s/it]\n"
     ]
    },
    {
     "name": "stdout",
     "output_type": "stream",
     "text": [
      "# EPOCH 21 / 30\n"
     ]
    },
    {
     "name": "stderr",
     "output_type": "stream",
     "text": [
      "100%|███████████████████████████████████████████| 26/26 [01:12<00:00,  2.81s/it]\n"
     ]
    },
    {
     "name": "stdout",
     "output_type": "stream",
     "text": [
      "# EPOCH 22 / 30\n"
     ]
    },
    {
     "name": "stderr",
     "output_type": "stream",
     "text": [
      "100%|███████████████████████████████████████████| 26/26 [01:12<00:00,  2.77s/it]\n"
     ]
    },
    {
     "name": "stdout",
     "output_type": "stream",
     "text": [
      "# EPOCH 23 / 30\n"
     ]
    },
    {
     "name": "stderr",
     "output_type": "stream",
     "text": [
      "100%|███████████████████████████████████████████| 26/26 [01:11<00:00,  2.77s/it]\n"
     ]
    },
    {
     "name": "stdout",
     "output_type": "stream",
     "text": [
      "# EPOCH 24 / 30\n"
     ]
    },
    {
     "name": "stderr",
     "output_type": "stream",
     "text": [
      "100%|███████████████████████████████████████████| 26/26 [01:12<00:00,  2.80s/it]\n"
     ]
    },
    {
     "name": "stdout",
     "output_type": "stream",
     "text": [
      "# EPOCH 25 / 30\n"
     ]
    },
    {
     "name": "stderr",
     "output_type": "stream",
     "text": [
      "100%|███████████████████████████████████████████| 26/26 [01:12<00:00,  2.80s/it]\n"
     ]
    },
    {
     "name": "stdout",
     "output_type": "stream",
     "text": [
      "# EPOCH 26 / 30\n"
     ]
    },
    {
     "name": "stderr",
     "output_type": "stream",
     "text": [
      "100%|███████████████████████████████████████████| 26/26 [01:12<00:00,  2.78s/it]\n"
     ]
    },
    {
     "name": "stdout",
     "output_type": "stream",
     "text": [
      "# EPOCH 27 / 30\n"
     ]
    },
    {
     "name": "stderr",
     "output_type": "stream",
     "text": [
      "100%|███████████████████████████████████████████| 26/26 [01:10<00:00,  2.72s/it]\n"
     ]
    },
    {
     "name": "stdout",
     "output_type": "stream",
     "text": [
      "# EPOCH 28 / 30\n"
     ]
    },
    {
     "name": "stderr",
     "output_type": "stream",
     "text": [
      "100%|███████████████████████████████████████████| 26/26 [01:12<00:00,  2.80s/it]\n"
     ]
    },
    {
     "name": "stdout",
     "output_type": "stream",
     "text": [
      "# EPOCH 29 / 30\n"
     ]
    },
    {
     "name": "stderr",
     "output_type": "stream",
     "text": [
      "100%|███████████████████████████████████████████| 26/26 [01:11<00:00,  2.75s/it]\n"
     ]
    },
    {
     "name": "stdout",
     "output_type": "stream",
     "text": [
      "# EPOCH 30 / 30\n"
     ]
    },
    {
     "data": {
      "text/html": [
       "Waiting for W&B process to finish... <strong style=\"color:green\">(success).</strong>"
      ],
      "text/plain": [
       "<IPython.core.display.HTML object>"
      ]
     },
     "metadata": {},
     "output_type": "display_data"
    },
    {
     "data": {
      "application/vnd.jupyter.widget-view+json": {
       "model_id": "",
       "version_major": 2,
       "version_minor": 0
      },
      "text/plain": [
       "VBox(children=(Label(value='0.442 MB of 0.442 MB uploaded (0.000 MB deduped)\\r'), FloatProgress(value=1.0, max…"
      ]
     },
     "metadata": {},
     "output_type": "display_data"
    },
    {
     "data": {
      "text/html": [
       "<style>\n",
       "    table.wandb td:nth-child(1) { padding: 0 10px; text-align: left ; width: auto;} td:nth-child(2) {text-align: left ; width: 100%}\n",
       "    .wandb-row { display: flex; flex-direction: row; flex-wrap: wrap; justify-content: flex-start; width: 100% }\n",
       "    .wandb-col { display: flex; flex-direction: column; flex-basis: 100%; flex: 1; padding: 10px; }\n",
       "    </style>\n",
       "<div class=\"wandb-row\"><div class=\"wandb-col\"><h3>Run history:</h3><br/><table class=\"wandb\"><tr><td>train_loss</td><td>█▇▇▇▇▇▇▇▇▇▇▆▆▆▆▆▆▆▆▆▅▂▁▁▁▁▁▁▁▁</td></tr><tr><td>train_score</td><td>▁▂▂▂▂▂▂▂▂▂▂▃▃▃▃▃▃▃▃▃▄▇████████</td></tr></table><br/></div><div class=\"wandb-col\"><h3>Run summary:</h3><br/><table class=\"wandb\"><tr><td>train_loss</td><td>0.21495</td></tr><tr><td>train_score</td><td>0.78505</td></tr></table><br/></div></div>"
      ],
      "text/plain": [
       "<IPython.core.display.HTML object>"
      ]
     },
     "metadata": {},
     "output_type": "display_data"
    },
    {
     "data": {
      "text/html": [
       "Synced <strong style=\"color:#cdcd00\">dulcet-wildflower-52</strong>: <a href=\"https://wandb.ai/hei-jung/202303-segmentation/runs/10af36ef\" target=\"_blank\">https://wandb.ai/hei-jung/202303-segmentation/runs/10af36ef</a><br/>Synced 6 W&B file(s), 90 media file(s), 0 artifact file(s) and 0 other file(s)"
      ],
      "text/plain": [
       "<IPython.core.display.HTML object>"
      ]
     },
     "metadata": {},
     "output_type": "display_data"
    },
    {
     "data": {
      "text/html": [
       "Find logs at: <code>./wandb/run-20230503_181443-10af36ef/logs</code>"
      ],
      "text/plain": [
       "<IPython.core.display.HTML object>"
      ]
     },
     "metadata": {},
     "output_type": "display_data"
    },
    {
     "data": {
      "text/html": [
       "wandb version 0.15.1 is available!  To upgrade, please run:\n",
       " $ pip install wandb --upgrade"
      ],
      "text/plain": [
       "<IPython.core.display.HTML object>"
      ]
     },
     "metadata": {},
     "output_type": "display_data"
    },
    {
     "data": {
      "text/html": [
       "Tracking run with wandb version 0.12.21"
      ],
      "text/plain": [
       "<IPython.core.display.HTML object>"
      ]
     },
     "metadata": {},
     "output_type": "display_data"
    },
    {
     "data": {
      "text/html": [
       "Run data is saved locally in <code>/home/jhj/Desktop/HJ_RESEARCH/snu_brain_disease/wandb/run-20230503_185134-1zyxm7q1</code>"
      ],
      "text/plain": [
       "<IPython.core.display.HTML object>"
      ]
     },
     "metadata": {},
     "output_type": "display_data"
    },
    {
     "data": {
      "text/html": [
       "Syncing run <strong><a href=\"https://wandb.ai/hei-jung/202303-segmentation/runs/1zyxm7q1\" target=\"_blank\">charmed-water-53</a></strong> to <a href=\"https://wandb.ai/hei-jung/202303-segmentation\" target=\"_blank\">Weights & Biases</a> (<a href=\"https://wandb.me/run\" target=\"_blank\">docs</a>)<br/>"
      ],
      "text/plain": [
       "<IPython.core.display.HTML object>"
      ]
     },
     "metadata": {},
     "output_type": "display_data"
    },
    {
     "name": "stderr",
     "output_type": "stream",
     "text": [
      "100%|███████████████████████████████████████████| 26/26 [01:11<00:00,  2.76s/it]\n"
     ]
    },
    {
     "name": "stdout",
     "output_type": "stream",
     "text": [
      "# EPOCH 1 / 30\n"
     ]
    },
    {
     "name": "stderr",
     "output_type": "stream",
     "text": [
      "100%|███████████████████████████████████████████| 26/26 [01:14<00:00,  2.86s/it]\n"
     ]
    },
    {
     "name": "stdout",
     "output_type": "stream",
     "text": [
      "# EPOCH 2 / 30\n"
     ]
    },
    {
     "name": "stderr",
     "output_type": "stream",
     "text": [
      "100%|███████████████████████████████████████████| 26/26 [01:13<00:00,  2.82s/it]\n"
     ]
    },
    {
     "name": "stdout",
     "output_type": "stream",
     "text": [
      "# EPOCH 3 / 30\n"
     ]
    },
    {
     "name": "stderr",
     "output_type": "stream",
     "text": [
      "100%|███████████████████████████████████████████| 26/26 [01:12<00:00,  2.79s/it]\n"
     ]
    },
    {
     "name": "stdout",
     "output_type": "stream",
     "text": [
      "# EPOCH 4 / 30\n"
     ]
    },
    {
     "name": "stderr",
     "output_type": "stream",
     "text": [
      "100%|███████████████████████████████████████████| 26/26 [01:12<00:00,  2.79s/it]\n"
     ]
    },
    {
     "name": "stdout",
     "output_type": "stream",
     "text": [
      "# EPOCH 5 / 30\n"
     ]
    },
    {
     "name": "stderr",
     "output_type": "stream",
     "text": [
      "100%|███████████████████████████████████████████| 26/26 [01:13<00:00,  2.82s/it]\n"
     ]
    },
    {
     "name": "stdout",
     "output_type": "stream",
     "text": [
      "# EPOCH 6 / 30\n"
     ]
    },
    {
     "name": "stderr",
     "output_type": "stream",
     "text": [
      "100%|███████████████████████████████████████████| 26/26 [01:14<00:00,  2.85s/it]\n"
     ]
    },
    {
     "name": "stdout",
     "output_type": "stream",
     "text": [
      "# EPOCH 7 / 30\n"
     ]
    },
    {
     "name": "stderr",
     "output_type": "stream",
     "text": [
      "100%|███████████████████████████████████████████| 26/26 [01:14<00:00,  2.85s/it]\n"
     ]
    },
    {
     "name": "stdout",
     "output_type": "stream",
     "text": [
      "# EPOCH 8 / 30\n"
     ]
    },
    {
     "name": "stderr",
     "output_type": "stream",
     "text": [
      "100%|███████████████████████████████████████████| 26/26 [01:13<00:00,  2.82s/it]\n"
     ]
    },
    {
     "name": "stdout",
     "output_type": "stream",
     "text": [
      "# EPOCH 9 / 30\n"
     ]
    },
    {
     "name": "stderr",
     "output_type": "stream",
     "text": [
      "100%|███████████████████████████████████████████| 26/26 [01:13<00:00,  2.84s/it]\n"
     ]
    },
    {
     "name": "stdout",
     "output_type": "stream",
     "text": [
      "# EPOCH 10 / 30\n"
     ]
    },
    {
     "name": "stderr",
     "output_type": "stream",
     "text": [
      "100%|███████████████████████████████████████████| 26/26 [01:11<00:00,  2.76s/it]\n"
     ]
    },
    {
     "name": "stdout",
     "output_type": "stream",
     "text": [
      "# EPOCH 11 / 30\n"
     ]
    },
    {
     "name": "stderr",
     "output_type": "stream",
     "text": [
      "100%|███████████████████████████████████████████| 26/26 [01:14<00:00,  2.88s/it]\n"
     ]
    },
    {
     "name": "stdout",
     "output_type": "stream",
     "text": [
      "# EPOCH 12 / 30\n"
     ]
    },
    {
     "name": "stderr",
     "output_type": "stream",
     "text": [
      "100%|███████████████████████████████████████████| 26/26 [01:13<00:00,  2.84s/it]\n"
     ]
    },
    {
     "name": "stdout",
     "output_type": "stream",
     "text": [
      "# EPOCH 13 / 30\n"
     ]
    },
    {
     "name": "stderr",
     "output_type": "stream",
     "text": [
      "100%|███████████████████████████████████████████| 26/26 [01:13<00:00,  2.84s/it]\n"
     ]
    },
    {
     "name": "stdout",
     "output_type": "stream",
     "text": [
      "# EPOCH 14 / 30\n"
     ]
    },
    {
     "name": "stderr",
     "output_type": "stream",
     "text": [
      "100%|███████████████████████████████████████████| 26/26 [01:11<00:00,  2.75s/it]\n"
     ]
    },
    {
     "name": "stdout",
     "output_type": "stream",
     "text": [
      "# EPOCH 15 / 30\n"
     ]
    },
    {
     "name": "stderr",
     "output_type": "stream",
     "text": [
      "100%|███████████████████████████████████████████| 26/26 [01:13<00:00,  2.83s/it]\n"
     ]
    },
    {
     "name": "stdout",
     "output_type": "stream",
     "text": [
      "# EPOCH 16 / 30\n"
     ]
    },
    {
     "name": "stderr",
     "output_type": "stream",
     "text": [
      "100%|███████████████████████████████████████████| 26/26 [01:13<00:00,  2.84s/it]\n"
     ]
    },
    {
     "name": "stdout",
     "output_type": "stream",
     "text": [
      "# EPOCH 17 / 30\n"
     ]
    },
    {
     "name": "stderr",
     "output_type": "stream",
     "text": [
      "100%|███████████████████████████████████████████| 26/26 [01:14<00:00,  2.85s/it]\n"
     ]
    },
    {
     "name": "stdout",
     "output_type": "stream",
     "text": [
      "# EPOCH 18 / 30\n"
     ]
    },
    {
     "name": "stderr",
     "output_type": "stream",
     "text": [
      "100%|███████████████████████████████████████████| 26/26 [01:12<00:00,  2.79s/it]\n"
     ]
    },
    {
     "name": "stdout",
     "output_type": "stream",
     "text": [
      "# EPOCH 19 / 30\n"
     ]
    },
    {
     "name": "stderr",
     "output_type": "stream",
     "text": [
      "100%|███████████████████████████████████████████| 26/26 [01:13<00:00,  2.84s/it]\n"
     ]
    },
    {
     "name": "stdout",
     "output_type": "stream",
     "text": [
      "# EPOCH 20 / 30\n"
     ]
    },
    {
     "name": "stderr",
     "output_type": "stream",
     "text": [
      "100%|███████████████████████████████████████████| 26/26 [01:13<00:00,  2.82s/it]\n"
     ]
    },
    {
     "name": "stdout",
     "output_type": "stream",
     "text": [
      "# EPOCH 21 / 30\n"
     ]
    },
    {
     "name": "stderr",
     "output_type": "stream",
     "text": [
      "100%|███████████████████████████████████████████| 26/26 [01:13<00:00,  2.83s/it]\n"
     ]
    },
    {
     "name": "stdout",
     "output_type": "stream",
     "text": [
      "# EPOCH 22 / 30\n"
     ]
    },
    {
     "name": "stderr",
     "output_type": "stream",
     "text": [
      "100%|███████████████████████████████████████████| 26/26 [01:13<00:00,  2.82s/it]\n"
     ]
    },
    {
     "name": "stdout",
     "output_type": "stream",
     "text": [
      "# EPOCH 23 / 30\n"
     ]
    },
    {
     "name": "stderr",
     "output_type": "stream",
     "text": [
      "100%|███████████████████████████████████████████| 26/26 [01:13<00:00,  2.82s/it]\n"
     ]
    },
    {
     "name": "stdout",
     "output_type": "stream",
     "text": [
      "# EPOCH 24 / 30\n"
     ]
    },
    {
     "name": "stderr",
     "output_type": "stream",
     "text": [
      "100%|███████████████████████████████████████████| 26/26 [01:13<00:00,  2.82s/it]\n"
     ]
    },
    {
     "name": "stdout",
     "output_type": "stream",
     "text": [
      "# EPOCH 25 / 30\n"
     ]
    },
    {
     "name": "stderr",
     "output_type": "stream",
     "text": [
      "100%|███████████████████████████████████████████| 26/26 [01:12<00:00,  2.79s/it]\n"
     ]
    },
    {
     "name": "stdout",
     "output_type": "stream",
     "text": [
      "# EPOCH 26 / 30\n"
     ]
    },
    {
     "name": "stderr",
     "output_type": "stream",
     "text": [
      "100%|███████████████████████████████████████████| 26/26 [01:12<00:00,  2.79s/it]\n"
     ]
    },
    {
     "name": "stdout",
     "output_type": "stream",
     "text": [
      "# EPOCH 27 / 30\n"
     ]
    },
    {
     "name": "stderr",
     "output_type": "stream",
     "text": [
      "100%|███████████████████████████████████████████| 26/26 [01:14<00:00,  2.86s/it]\n"
     ]
    },
    {
     "name": "stdout",
     "output_type": "stream",
     "text": [
      "# EPOCH 28 / 30\n"
     ]
    },
    {
     "name": "stderr",
     "output_type": "stream",
     "text": [
      "100%|███████████████████████████████████████████| 26/26 [01:13<00:00,  2.84s/it]\n"
     ]
    },
    {
     "name": "stdout",
     "output_type": "stream",
     "text": [
      "# EPOCH 29 / 30\n"
     ]
    },
    {
     "name": "stderr",
     "output_type": "stream",
     "text": [
      "100%|███████████████████████████████████████████| 26/26 [01:11<00:00,  2.77s/it]\n"
     ]
    },
    {
     "name": "stdout",
     "output_type": "stream",
     "text": [
      "# EPOCH 30 / 30\n"
     ]
    },
    {
     "data": {
      "text/html": [
       "Waiting for W&B process to finish... <strong style=\"color:green\">(success).</strong>"
      ],
      "text/plain": [
       "<IPython.core.display.HTML object>"
      ]
     },
     "metadata": {},
     "output_type": "display_data"
    },
    {
     "data": {
      "application/vnd.jupyter.widget-view+json": {
       "model_id": "",
       "version_major": 2,
       "version_minor": 0
      },
      "text/plain": [
       "VBox(children=(Label(value='0.397 MB of 0.397 MB uploaded (0.000 MB deduped)\\r'), FloatProgress(value=1.0, max…"
      ]
     },
     "metadata": {},
     "output_type": "display_data"
    },
    {
     "data": {
      "text/html": [
       "<style>\n",
       "    table.wandb td:nth-child(1) { padding: 0 10px; text-align: left ; width: auto;} td:nth-child(2) {text-align: left ; width: 100%}\n",
       "    .wandb-row { display: flex; flex-direction: row; flex-wrap: wrap; justify-content: flex-start; width: 100% }\n",
       "    .wandb-col { display: flex; flex-direction: column; flex-basis: 100%; flex: 1; padding: 10px; }\n",
       "    </style>\n",
       "<div class=\"wandb-row\"><div class=\"wandb-col\"><h3>Run history:</h3><br/><table class=\"wandb\"><tr><td>train_loss</td><td>█▇▇▆▆▆▆▄▂▂▁▁▁▁▁▁▁▁▁▁▁▁▁▁▁▁▁▁▁▁</td></tr><tr><td>train_score</td><td>▁▂▂▃▃▃▃▅▇▇████████████████████</td></tr></table><br/></div><div class=\"wandb-col\"><h3>Run summary:</h3><br/><table class=\"wandb\"><tr><td>train_loss</td><td>0.20406</td></tr><tr><td>train_score</td><td>0.79594</td></tr></table><br/></div></div>"
      ],
      "text/plain": [
       "<IPython.core.display.HTML object>"
      ]
     },
     "metadata": {},
     "output_type": "display_data"
    },
    {
     "data": {
      "text/html": [
       "Synced <strong style=\"color:#cdcd00\">charmed-water-53</strong>: <a href=\"https://wandb.ai/hei-jung/202303-segmentation/runs/1zyxm7q1\" target=\"_blank\">https://wandb.ai/hei-jung/202303-segmentation/runs/1zyxm7q1</a><br/>Synced 6 W&B file(s), 90 media file(s), 0 artifact file(s) and 0 other file(s)"
      ],
      "text/plain": [
       "<IPython.core.display.HTML object>"
      ]
     },
     "metadata": {},
     "output_type": "display_data"
    },
    {
     "data": {
      "text/html": [
       "Find logs at: <code>./wandb/run-20230503_185134-1zyxm7q1/logs</code>"
      ],
      "text/plain": [
       "<IPython.core.display.HTML object>"
      ]
     },
     "metadata": {},
     "output_type": "display_data"
    },
    {
     "data": {
      "text/html": [
       "wandb version 0.15.1 is available!  To upgrade, please run:\n",
       " $ pip install wandb --upgrade"
      ],
      "text/plain": [
       "<IPython.core.display.HTML object>"
      ]
     },
     "metadata": {},
     "output_type": "display_data"
    },
    {
     "data": {
      "text/html": [
       "Tracking run with wandb version 0.12.21"
      ],
      "text/plain": [
       "<IPython.core.display.HTML object>"
      ]
     },
     "metadata": {},
     "output_type": "display_data"
    },
    {
     "data": {
      "text/html": [
       "Run data is saved locally in <code>/home/jhj/Desktop/HJ_RESEARCH/snu_brain_disease/wandb/run-20230503_192832-2cyesyr6</code>"
      ],
      "text/plain": [
       "<IPython.core.display.HTML object>"
      ]
     },
     "metadata": {},
     "output_type": "display_data"
    },
    {
     "data": {
      "text/html": [
       "Syncing run <strong><a href=\"https://wandb.ai/hei-jung/202303-segmentation/runs/2cyesyr6\" target=\"_blank\">cerulean-bush-54</a></strong> to <a href=\"https://wandb.ai/hei-jung/202303-segmentation\" target=\"_blank\">Weights & Biases</a> (<a href=\"https://wandb.me/run\" target=\"_blank\">docs</a>)<br/>"
      ],
      "text/plain": [
       "<IPython.core.display.HTML object>"
      ]
     },
     "metadata": {},
     "output_type": "display_data"
    },
    {
     "name": "stderr",
     "output_type": "stream",
     "text": [
      "100%|███████████████████████████████████████████| 26/26 [01:13<00:00,  2.82s/it]\n"
     ]
    },
    {
     "name": "stdout",
     "output_type": "stream",
     "text": [
      "# EPOCH 1 / 30\n"
     ]
    },
    {
     "name": "stderr",
     "output_type": "stream",
     "text": [
      "100%|███████████████████████████████████████████| 26/26 [01:13<00:00,  2.81s/it]\n"
     ]
    },
    {
     "name": "stdout",
     "output_type": "stream",
     "text": [
      "# EPOCH 2 / 30\n"
     ]
    },
    {
     "name": "stderr",
     "output_type": "stream",
     "text": [
      "100%|███████████████████████████████████████████| 26/26 [01:13<00:00,  2.84s/it]\n"
     ]
    },
    {
     "name": "stdout",
     "output_type": "stream",
     "text": [
      "# EPOCH 3 / 30\n"
     ]
    },
    {
     "name": "stderr",
     "output_type": "stream",
     "text": [
      "100%|███████████████████████████████████████████| 26/26 [01:13<00:00,  2.81s/it]\n"
     ]
    },
    {
     "name": "stdout",
     "output_type": "stream",
     "text": [
      "# EPOCH 4 / 30\n"
     ]
    },
    {
     "name": "stderr",
     "output_type": "stream",
     "text": [
      "100%|███████████████████████████████████████████| 26/26 [01:13<00:00,  2.82s/it]\n"
     ]
    },
    {
     "name": "stdout",
     "output_type": "stream",
     "text": [
      "# EPOCH 5 / 30\n"
     ]
    },
    {
     "name": "stderr",
     "output_type": "stream",
     "text": [
      "100%|███████████████████████████████████████████| 26/26 [01:13<00:00,  2.84s/it]\n"
     ]
    },
    {
     "name": "stdout",
     "output_type": "stream",
     "text": [
      "# EPOCH 6 / 30\n"
     ]
    },
    {
     "name": "stderr",
     "output_type": "stream",
     "text": [
      "100%|███████████████████████████████████████████| 26/26 [01:14<00:00,  2.88s/it]\n"
     ]
    },
    {
     "name": "stdout",
     "output_type": "stream",
     "text": [
      "# EPOCH 7 / 30\n"
     ]
    },
    {
     "name": "stderr",
     "output_type": "stream",
     "text": [
      "100%|███████████████████████████████████████████| 26/26 [01:14<00:00,  2.86s/it]\n"
     ]
    },
    {
     "name": "stdout",
     "output_type": "stream",
     "text": [
      "# EPOCH 8 / 30\n"
     ]
    },
    {
     "name": "stderr",
     "output_type": "stream",
     "text": [
      "100%|███████████████████████████████████████████| 26/26 [01:12<00:00,  2.79s/it]\n"
     ]
    },
    {
     "name": "stdout",
     "output_type": "stream",
     "text": [
      "# EPOCH 9 / 30\n"
     ]
    },
    {
     "name": "stderr",
     "output_type": "stream",
     "text": [
      "100%|███████████████████████████████████████████| 26/26 [01:13<00:00,  2.82s/it]\n"
     ]
    },
    {
     "name": "stdout",
     "output_type": "stream",
     "text": [
      "# EPOCH 10 / 30\n"
     ]
    },
    {
     "name": "stderr",
     "output_type": "stream",
     "text": [
      "100%|███████████████████████████████████████████| 26/26 [01:12<00:00,  2.79s/it]\n"
     ]
    },
    {
     "name": "stdout",
     "output_type": "stream",
     "text": [
      "# EPOCH 11 / 30\n"
     ]
    },
    {
     "name": "stderr",
     "output_type": "stream",
     "text": [
      "100%|███████████████████████████████████████████| 26/26 [01:14<00:00,  2.85s/it]\n"
     ]
    },
    {
     "name": "stdout",
     "output_type": "stream",
     "text": [
      "# EPOCH 12 / 30\n"
     ]
    },
    {
     "name": "stderr",
     "output_type": "stream",
     "text": [
      "100%|███████████████████████████████████████████| 26/26 [01:12<00:00,  2.78s/it]\n"
     ]
    },
    {
     "name": "stdout",
     "output_type": "stream",
     "text": [
      "# EPOCH 13 / 30\n"
     ]
    },
    {
     "name": "stderr",
     "output_type": "stream",
     "text": [
      "100%|███████████████████████████████████████████| 26/26 [01:13<00:00,  2.84s/it]\n"
     ]
    },
    {
     "name": "stdout",
     "output_type": "stream",
     "text": [
      "# EPOCH 14 / 30\n"
     ]
    },
    {
     "name": "stderr",
     "output_type": "stream",
     "text": [
      "100%|███████████████████████████████████████████| 26/26 [01:14<00:00,  2.86s/it]\n"
     ]
    },
    {
     "name": "stdout",
     "output_type": "stream",
     "text": [
      "# EPOCH 15 / 30\n"
     ]
    },
    {
     "name": "stderr",
     "output_type": "stream",
     "text": [
      "100%|███████████████████████████████████████████| 26/26 [01:14<00:00,  2.86s/it]\n"
     ]
    },
    {
     "name": "stdout",
     "output_type": "stream",
     "text": [
      "# EPOCH 16 / 30\n"
     ]
    },
    {
     "name": "stderr",
     "output_type": "stream",
     "text": [
      "100%|███████████████████████████████████████████| 26/26 [01:14<00:00,  2.88s/it]\n"
     ]
    },
    {
     "name": "stdout",
     "output_type": "stream",
     "text": [
      "# EPOCH 17 / 30\n"
     ]
    },
    {
     "name": "stderr",
     "output_type": "stream",
     "text": [
      "100%|███████████████████████████████████████████| 26/26 [01:11<00:00,  2.76s/it]\n"
     ]
    },
    {
     "name": "stdout",
     "output_type": "stream",
     "text": [
      "# EPOCH 18 / 30\n"
     ]
    },
    {
     "name": "stderr",
     "output_type": "stream",
     "text": [
      "100%|███████████████████████████████████████████| 26/26 [01:14<00:00,  2.85s/it]\n"
     ]
    },
    {
     "name": "stdout",
     "output_type": "stream",
     "text": [
      "# EPOCH 19 / 30\n"
     ]
    },
    {
     "name": "stderr",
     "output_type": "stream",
     "text": [
      "100%|███████████████████████████████████████████| 26/26 [01:14<00:00,  2.85s/it]\n"
     ]
    },
    {
     "name": "stdout",
     "output_type": "stream",
     "text": [
      "# EPOCH 20 / 30\n"
     ]
    },
    {
     "name": "stderr",
     "output_type": "stream",
     "text": [
      "100%|███████████████████████████████████████████| 26/26 [01:11<00:00,  2.73s/it]\n"
     ]
    },
    {
     "name": "stdout",
     "output_type": "stream",
     "text": [
      "# EPOCH 21 / 30\n"
     ]
    },
    {
     "name": "stderr",
     "output_type": "stream",
     "text": [
      "100%|███████████████████████████████████████████| 26/26 [01:13<00:00,  2.82s/it]\n"
     ]
    },
    {
     "name": "stdout",
     "output_type": "stream",
     "text": [
      "# EPOCH 22 / 30\n"
     ]
    },
    {
     "name": "stderr",
     "output_type": "stream",
     "text": [
      "100%|███████████████████████████████████████████| 26/26 [01:13<00:00,  2.81s/it]\n"
     ]
    },
    {
     "name": "stdout",
     "output_type": "stream",
     "text": [
      "# EPOCH 23 / 30\n"
     ]
    },
    {
     "name": "stderr",
     "output_type": "stream",
     "text": [
      "100%|███████████████████████████████████████████| 26/26 [01:11<00:00,  2.76s/it]\n"
     ]
    },
    {
     "name": "stdout",
     "output_type": "stream",
     "text": [
      "# EPOCH 24 / 30\n"
     ]
    },
    {
     "name": "stderr",
     "output_type": "stream",
     "text": [
      "100%|███████████████████████████████████████████| 26/26 [01:12<00:00,  2.79s/it]\n"
     ]
    },
    {
     "name": "stdout",
     "output_type": "stream",
     "text": [
      "# EPOCH 25 / 30\n"
     ]
    },
    {
     "name": "stderr",
     "output_type": "stream",
     "text": [
      "100%|███████████████████████████████████████████| 26/26 [01:13<00:00,  2.84s/it]\n"
     ]
    },
    {
     "name": "stdout",
     "output_type": "stream",
     "text": [
      "# EPOCH 26 / 30\n"
     ]
    },
    {
     "name": "stderr",
     "output_type": "stream",
     "text": [
      "100%|███████████████████████████████████████████| 26/26 [01:13<00:00,  2.85s/it]\n"
     ]
    },
    {
     "name": "stdout",
     "output_type": "stream",
     "text": [
      "# EPOCH 27 / 30\n"
     ]
    },
    {
     "name": "stderr",
     "output_type": "stream",
     "text": [
      "100%|███████████████████████████████████████████| 26/26 [01:13<00:00,  2.85s/it]\n"
     ]
    },
    {
     "name": "stdout",
     "output_type": "stream",
     "text": [
      "# EPOCH 28 / 30\n"
     ]
    },
    {
     "name": "stderr",
     "output_type": "stream",
     "text": [
      "100%|███████████████████████████████████████████| 26/26 [01:12<00:00,  2.79s/it]\n"
     ]
    },
    {
     "name": "stdout",
     "output_type": "stream",
     "text": [
      "# EPOCH 29 / 30\n"
     ]
    },
    {
     "name": "stderr",
     "output_type": "stream",
     "text": [
      "100%|███████████████████████████████████████████| 26/26 [01:13<00:00,  2.84s/it]\n"
     ]
    },
    {
     "name": "stdout",
     "output_type": "stream",
     "text": [
      "# EPOCH 30 / 30\n"
     ]
    },
    {
     "data": {
      "text/html": [
       "Waiting for W&B process to finish... <strong style=\"color:green\">(success).</strong>"
      ],
      "text/plain": [
       "<IPython.core.display.HTML object>"
      ]
     },
     "metadata": {},
     "output_type": "display_data"
    },
    {
     "data": {
      "application/vnd.jupyter.widget-view+json": {
       "model_id": "",
       "version_major": 2,
       "version_minor": 0
      },
      "text/plain": [
       "VBox(children=(Label(value='0.415 MB of 0.415 MB uploaded (0.000 MB deduped)\\r'), FloatProgress(value=1.0, max…"
      ]
     },
     "metadata": {},
     "output_type": "display_data"
    },
    {
     "data": {
      "text/html": [
       "<style>\n",
       "    table.wandb td:nth-child(1) { padding: 0 10px; text-align: left ; width: auto;} td:nth-child(2) {text-align: left ; width: 100%}\n",
       "    .wandb-row { display: flex; flex-direction: row; flex-wrap: wrap; justify-content: flex-start; width: 100% }\n",
       "    .wandb-col { display: flex; flex-direction: column; flex-basis: 100%; flex: 1; padding: 10px; }\n",
       "    </style>\n",
       "<div class=\"wandb-row\"><div class=\"wandb-col\"><h3>Run history:</h3><br/><table class=\"wandb\"><tr><td>train_loss</td><td>█▇▇▇▇▇▇▇▇▆▄▂▂▁▁▁▁▁▁▁▁▁▁▁▁▁▁▁▁▁</td></tr><tr><td>train_score</td><td>▁▂▂▂▂▂▂▂▂▃▅▇▇█████████████████</td></tr></table><br/></div><div class=\"wandb-col\"><h3>Run summary:</h3><br/><table class=\"wandb\"><tr><td>train_loss</td><td>0.20621</td></tr><tr><td>train_score</td><td>0.79379</td></tr></table><br/></div></div>"
      ],
      "text/plain": [
       "<IPython.core.display.HTML object>"
      ]
     },
     "metadata": {},
     "output_type": "display_data"
    },
    {
     "data": {
      "text/html": [
       "Synced <strong style=\"color:#cdcd00\">cerulean-bush-54</strong>: <a href=\"https://wandb.ai/hei-jung/202303-segmentation/runs/2cyesyr6\" target=\"_blank\">https://wandb.ai/hei-jung/202303-segmentation/runs/2cyesyr6</a><br/>Synced 6 W&B file(s), 90 media file(s), 0 artifact file(s) and 0 other file(s)"
      ],
      "text/plain": [
       "<IPython.core.display.HTML object>"
      ]
     },
     "metadata": {},
     "output_type": "display_data"
    },
    {
     "data": {
      "text/html": [
       "Find logs at: <code>./wandb/run-20230503_192832-2cyesyr6/logs</code>"
      ],
      "text/plain": [
       "<IPython.core.display.HTML object>"
      ]
     },
     "metadata": {},
     "output_type": "display_data"
    }
   ],
   "source": [
    "# Segmentation weight 생성\n",
    "for blocknum in range(1, 5):\n",
    "    set_seed()\n",
    "    net_seg = VNet_New(n_channels=1, n_classes=2, n_filters=16, n_blocks=blocknum, normalization=normalization)  # num classes: 2 (background, label)\n",
    "    net_seg = torch.nn.DataParallel(net_seg, device_ids=[0, 1])\n",
    "    net_seg.cuda()\n",
    "\n",
    "    wandb.init(\n",
    "        project='202303-segmentation',\n",
    "        config={\"model\": \"VNet-%d\"%blocknum, \"input_size\": img_size,\n",
    "                \"start_lr\": lr, \"epochs\": num_epochs, \"batch_size\": batch_size,\n",
    "                \"cost_function\": \"DiceLoss\", \"optimizer\": optim_class.__name__},\n",
    "        notes='Segmentation weight를 생성하기 위함 (300x300x300 => 192x192x192), change num of convolution layers'\n",
    "    )\n",
    "    wandb.watch(net_seg)\n",
    "\n",
    "    train_losses = []\n",
    "    S = 192 // 2\n",
    "    min_train_loss = 1.0\n",
    "\n",
    "    optimizer_seg = optim_class(net_seg.parameters(), lr=lr)\n",
    "    criterion_seg = SegLoss()\n",
    "    # criterion_seg = GeneralizedDiceLoss()\n",
    "    # scheduler = optim.lr_scheduler.StepLR(optimizer_seg, step_size=20, gamma=0.1)\n",
    "\n",
    "    set_seed()\n",
    "    for epoch in range(num_epochs):\n",
    "        train_loss, train_score, train_seg_part, train_img_part, train_input_lbl = run_training(net_seg, \"dice\")\n",
    "        print('# EPOCH %d / %d'%(epoch+1, num_epochs))\n",
    "        train_losses.append(train_loss)\n",
    "\n",
    "        train_img = wandb.Image(train_img_part[0,:,:,S])\n",
    "        train_truth = wandb.Image(train_input_lbl[1,:,:,S], caption=\"Ground truth\")\n",
    "        train_pred = wandb.Image(train_seg_part[1,:,:,S], caption=\"Prediction\")\n",
    "\n",
    "        if min_train_loss > train_loss:\n",
    "            min_train_loss = train_loss\n",
    "            torch.save(net_seg.state_dict(), 'pretrained/seg_2305_vnetencoder-{}_{}_bestmodel'.format(blocknum, img_size))        \n",
    "\n",
    "    #     lbl_train = train_input_lbl[0, :, : ,S]\n",
    "    #     seg_train = train_seg_part[0, :, : , S]\n",
    "    #     lbl_valid = valid_input_lbl_part[0, :, : , S]\n",
    "    #     seg_valid = valid_output_seg_part[0, :, : , S]\n",
    "\n",
    "\n",
    "    #     if i%5==0:\n",
    "    #         print('Train')\n",
    "    # #         plt.imshow(np.squeeze(np.concatenate((1*train_img_part[0,:,:,S],train_input_lbl[0, :, : ,S],train_input_lbl[1, :, : ,S]),axis=1)),vmin=0,vmax=1, cmap='gray') # label\n",
    "    #         plt.imshow(np.squeeze(np.concatenate((1*train_img_part[0,:,:,S],train_input_lbl[0, :, : ,S]),axis=1)),vmin=0,vmax=1, cmap='gray') # label\n",
    "    #         plt.show()\n",
    "    # #         plt.imshow(np.squeeze(np.concatenate((1*train_img_part[0,:,:,S],train_seg_part[0, :, : , S],train_seg_part[1, :, : ,S]),axis=1)),vmin=0,vmax=1,cmap='gray') # label\n",
    "    #         plt.imshow(np.squeeze(np.concatenate((1*train_img_part[0,:,:,S],train_seg_part[0, :, : , S]),axis=1)),vmin=0,vmax=1,cmap='gray') # label\n",
    "    #         plt.show()\n",
    "\n",
    "    #         print('Valid')\n",
    "    # #         plt.imshow(np.squeeze(np.concatenate((1*valid_input_img_part[0,:,:,S],valid_input_lbl_part[0, :, : , S],valid_input_lbl_part[1, :, : , S]),axis=1)),vmin=0,vmax=1, cmap='gray') # label\n",
    "    #         plt.imshow(np.squeeze(np.concatenate((1*valid_input_img_part[0,:,:,S],valid_input_lbl_part[0, :, : , S]),axis=1)),vmin=0,vmax=1, cmap='gray') # label\n",
    "    #         plt.show()  \n",
    "    # #         plt.imshow(np.squeeze(np.concatenate((1*valid_input_img_part[0,:,:,S],valid_output_seg_part[0, :, : , S],valid_output_seg_part[1, :, : , S]),axis=1)),vmin=0,vmax=1,cmap='gray') # label\n",
    "    #         plt.imshow(np.squeeze(np.concatenate((1*valid_input_img_part[0,:,:,S],valid_output_seg_part[0, :, : , S]),axis=1)),vmin=0,vmax=1,cmap='gray') # label\n",
    "    #         plt.show()\n",
    "\n",
    "    #         # loss curve\n",
    "    #         plt.plot(range(len(train_losses)), train_losses, 'b', range(len(validation_losses)), validation_losses,'r')\n",
    "    #         red_patch = mpatches.Patch(color='red', label='Validation')\n",
    "    #         blue_patch = mpatches.Patch(color='blue', label='Training')\n",
    "    #         plt.legend(handles=[red_patch, blue_patch])\n",
    "    #         plt.show()\n",
    "\n",
    "\n",
    "        wandb.log({\"train_loss\": train_loss, \"train_score\": train_score,\n",
    "                   \"train_img\": train_img, \"train_label\": train_truth, \"train_pred\": train_pred})\n",
    "    wandb.finish()"
   ]
  },
  {
   "cell_type": "code",
   "execution_count": 14,
   "id": "2b85b028",
   "metadata": {},
   "outputs": [
    {
     "name": "stderr",
     "output_type": "stream",
     "text": [
      "100%|███████████████████████████████████████████| 33/33 [01:25<00:00,  2.59s/it]\n",
      "100%|███████████████████████████████████████████| 33/33 [01:21<00:00,  2.48s/it]\n",
      "100%|███████████████████████████████████████████| 33/33 [01:27<00:00,  2.65s/it]\n",
      "100%|███████████████████████████████████████████| 33/33 [01:27<00:00,  2.66s/it]\n"
     ]
    },
    {
     "name": "stdout",
     "output_type": "stream",
     "text": [
      "-------------------------------------------------------------------------------\n",
      "Model\tPA\tDSC\tPPV\tRecall\tSpecificity\t\n",
      "===============================================================================\n",
      "VNet-1\t1.000\t0.781\t0.731\t0.871\t0.871\n",
      "VNet-2\t1.000\t0.785\t0.732\t0.882\t0.882\n",
      "VNet-3\t1.000\t0.793\t0.732\t0.908\t0.908\n",
      "VNet-4\t1.000\t0.792\t0.741\t0.880\t0.880\n",
      "===============================================================================\n",
      "\n"
     ]
    }
   ],
   "source": [
    "# Evaluation\n",
    "\n",
    "text = \"-------------------------------------------------------------------------------\\n\"\n",
    "text += \"Model\\tPA\\tDSC\\tPPV\\tRecall\\tSpecificity\\t\\n\"\n",
    "text += \"===============================================================================\\n\"\n",
    "\n",
    "for blocknum in range(1, 5):\n",
    "    normalization = 'groupnorm'\n",
    "    criterion = SegMetrics()\n",
    "    \n",
    "    net = VNet_New(n_channels=1, n_classes=2, n_filters=16, n_blocks=blocknum, normalization=normalization)  # num classes: 2 (background, label)\n",
    "    net = torch.nn.DataParallel(net, device_ids=[0, 1])\n",
    "    net.load_state_dict(torch.load('pretrained/seg_2305_vnetencoder-{}_{}_bestmodel'.format(blocknum, img_size)))\n",
    "    net.cuda()\n",
    "\n",
    "    net.eval()\n",
    "\n",
    "    running_pa = 0.0\n",
    "    running_dice = 0.0\n",
    "    running_prec = 0.0\n",
    "    running_rec = 0.0\n",
    "    running_spec = 0.0\n",
    "\n",
    "    total_output_seg=[]\n",
    "    total_output_img=[]\n",
    "\n",
    "    with torch.no_grad():\n",
    "        for i, data in enumerate(tqdm(data_loader, 0)):\n",
    "            inputs, labels = data['img']['data'], data['label']['data']    \n",
    "\n",
    "    #             l1=(labels==1)\n",
    "    #             l0=(labels==0)\n",
    "    #             labels = torch.cat((l0,l1),1)\n",
    "\n",
    "            if torch.cuda.is_available:\n",
    "                inputs, labels = inputs.type(torch.cuda.FloatTensor),labels.type(torch.cuda.FloatTensor)\n",
    "\n",
    "            inputs, labels = Variable(inputs), Variable(labels)\n",
    "\n",
    "            net.eval()\n",
    "\n",
    "            total_inputs=copy.deepcopy(inputs)\n",
    "            total_output_img.append(total_inputs.detach().cpu().numpy())\n",
    "\n",
    "            outputs_seg = net(inputs)\n",
    "            outputs_seg = torch.nn.Softmax(dim=1)(outputs_seg)\n",
    "            total_outputs=copy.deepcopy(outputs_seg)\n",
    "            total_output_seg.append(total_outputs.detach().cpu().numpy())\n",
    "\n",
    "            pixel_acc, dice, precision, recall, specificity = criterion(outputs_seg, labels)\n",
    "\n",
    "            running_pa += pixel_acc.detach().cpu().item()\n",
    "            running_dice += dice.detach().cpu().item()\n",
    "            running_prec += precision.detach().cpu().item()\n",
    "            running_rec += recall.detach().cpu().item()\n",
    "            running_spec += specificity.detach().cpu().item()\n",
    "\n",
    "    avg_pa = running_pa / len(data_loader)\n",
    "    avg_dice = running_dice / len(data_loader)\n",
    "    avg_prec = running_prec / len(data_loader)\n",
    "    avg_rec = running_rec / len(data_loader)\n",
    "    avg_spec = running_spec / len(data_loader)\n",
    "\n",
    "    one_output_seg = outputs_seg.detach().cpu().numpy()[0]\n",
    "    one_output_img = inputs.detach().cpu().numpy()[0]\n",
    "    one_output_lbl = labels.detach().cpu().numpy()[0]\n",
    "    #total_output_img=np.reshape(1,224,224,32)\n",
    "    #total_output_seg=np.reshape(1,224,224,32)\n",
    "    \n",
    "    text += \"VNet-{}\\t{:.3f}\\t{:.3f}\\t{:.3f}\\t{:.3f}\\t{:.3f}\\n\".format(blocknum, avg_pa, avg_dice, avg_prec, avg_rec, avg_spec)\n",
    "text += \"===============================================================================\\n\"\n",
    "print(text)"
   ]
  },
  {
   "cell_type": "code",
   "execution_count": 15,
   "id": "c17f0220",
   "metadata": {},
   "outputs": [
    {
     "name": "stderr",
     "output_type": "stream",
     "text": [
      "100%|███████████████████████████████████████████| 33/33 [01:27<00:00,  2.64s/it]\n",
      "100%|███████████████████████████████████████████| 33/33 [01:27<00:00,  2.65s/it]\n",
      "100%|███████████████████████████████████████████| 33/33 [01:29<00:00,  2.70s/it]\n",
      "100%|███████████████████████████████████████████| 33/33 [01:29<00:00,  2.71s/it]\n"
     ]
    },
    {
     "name": "stdout",
     "output_type": "stream",
     "text": [
      "-------------------------------------------------------------------------------\n",
      "Model\tPA\tDSC\tPPV\tRecall\tSpecificity\t\n",
      "===============================================================================\n",
      "VNet-1\t0.998\t0.603\t0.562\t0.842\t0.842\n",
      "VNet-2\t0.998\t0.614\t0.569\t0.861\t0.861\n",
      "VNet-3\t0.998\t0.615\t0.569\t0.874\t0.874\n",
      "VNet-4\t0.998\t0.584\t0.551\t0.753\t0.753\n",
      "===============================================================================\n",
      "\n"
     ]
    }
   ],
   "source": [
    "# Evaluation\n",
    "\n",
    "text = \"-------------------------------------------------------------------------------\\n\"\n",
    "text += \"Model\\tPA\\tDSC\\tPPV\\tRecall\\tSpecificity\\t\\n\"\n",
    "text += \"===============================================================================\\n\"\n",
    "\n",
    "for blocknum in range(1, 5):\n",
    "    normalization = 'groupnorm'\n",
    "    criterion = SegMetrics()\n",
    "    \n",
    "    net = VNet_New(n_channels=1, n_classes=2, n_filters=16, n_blocks=blocknum, normalization=normalization)  # num classes: 2 (background, label)\n",
    "    net = torch.nn.DataParallel(net, device_ids=[0, 1])\n",
    "    net.load_state_dict(torch.load('pretrained/seg_2304_vnetencoder-{}_{}_bestmodel'.format(blocknum, img_size)))\n",
    "    net.cuda()\n",
    "\n",
    "    net.eval()\n",
    "\n",
    "    running_pa = 0.0\n",
    "    running_dice = 0.0\n",
    "    running_prec = 0.0\n",
    "    running_rec = 0.0\n",
    "    running_spec = 0.0\n",
    "\n",
    "    total_output_seg=[]\n",
    "    total_output_img=[]\n",
    "\n",
    "    with torch.no_grad():\n",
    "        for i, data in enumerate(tqdm(data_loader, 0)):\n",
    "            inputs, labels = data['img']['data'], data['label']['data']    \n",
    "\n",
    "    #             l1=(labels==1)\n",
    "    #             l0=(labels==0)\n",
    "    #             labels = torch.cat((l0,l1),1)\n",
    "\n",
    "            if torch.cuda.is_available:\n",
    "                inputs, labels = inputs.type(torch.cuda.FloatTensor),labels.type(torch.cuda.FloatTensor)\n",
    "\n",
    "            inputs, labels = Variable(inputs), Variable(labels)\n",
    "\n",
    "            net.eval()\n",
    "\n",
    "            total_inputs=copy.deepcopy(inputs)\n",
    "            total_output_img.append(total_inputs.detach().cpu().numpy())\n",
    "\n",
    "            outputs_seg = net(inputs)\n",
    "            outputs_seg = torch.nn.Softmax(dim=1)(outputs_seg)\n",
    "            total_outputs=copy.deepcopy(outputs_seg)\n",
    "            total_output_seg.append(total_outputs.detach().cpu().numpy())\n",
    "\n",
    "            pixel_acc, dice, precision, recall, specificity = criterion(outputs_seg, labels)\n",
    "\n",
    "            running_pa += pixel_acc.detach().cpu().item()\n",
    "            running_dice += dice.detach().cpu().item()\n",
    "            running_prec += precision.detach().cpu().item()\n",
    "            running_rec += recall.detach().cpu().item()\n",
    "            running_spec += specificity.detach().cpu().item()\n",
    "\n",
    "    avg_pa = running_pa / len(data_loader)\n",
    "    avg_dice = running_dice / len(data_loader)\n",
    "    avg_prec = running_prec / len(data_loader)\n",
    "    avg_rec = running_rec / len(data_loader)\n",
    "    avg_spec = running_spec / len(data_loader)\n",
    "\n",
    "    one_output_seg = outputs_seg.detach().cpu().numpy()[0]\n",
    "    one_output_img = inputs.detach().cpu().numpy()[0]\n",
    "    one_output_lbl = labels.detach().cpu().numpy()[0]\n",
    "    #total_output_img=np.reshape(1,224,224,32)\n",
    "    #total_output_seg=np.reshape(1,224,224,32)\n",
    "    \n",
    "    text += \"VNet-{}\\t{:.3f}\\t{:.3f}\\t{:.3f}\\t{:.3f}\\t{:.3f}\\n\".format(blocknum, avg_pa, avg_dice, avg_prec, avg_rec, avg_spec)    \n",
    "text += \"===============================================================================\\n\"\n",
    "print(text)"
   ]
  },
  {
   "cell_type": "code",
   "execution_count": 14,
   "id": "2bcc9b94",
   "metadata": {},
   "outputs": [
    {
     "name": "stderr",
     "output_type": "stream",
     "text": [
      "100%|███████████████████████████████████████████| 33/33 [01:07<00:00,  2.05s/it]\n",
      "100%|███████████████████████████████████████████| 33/33 [01:09<00:00,  2.11s/it]\n",
      "100%|███████████████████████████████████████████| 33/33 [01:08<00:00,  2.07s/it]\n",
      "100%|███████████████████████████████████████████| 33/33 [01:07<00:00,  2.03s/it]\n"
     ]
    },
    {
     "name": "stdout",
     "output_type": "stream",
     "text": [
      "-------------------------------------------------------------------------------\n",
      "Model\tPA\tDSC\tPPV\tRecall\tSpecificity\t\n",
      "===============================================================================\n",
      "VNet-1\t1.000\t0.777\t0.735\t0.849\t0.849\n",
      "VNet-2\t1.000\t0.786\t0.737\t0.872\t0.872\n",
      "VNet-3\t1.000\t0.787\t0.733\t0.887\t0.887\n",
      "VNet-4\t1.000\t0.742\t0.743\t0.751\t0.751\n",
      "===============================================================================\n",
      "\n"
     ]
    }
   ],
   "source": [
    "# Evaluation\n",
    "\n",
    "text = \"-------------------------------------------------------------------------------\\n\"\n",
    "text += \"Model\\tPA\\tDSC\\tPPV\\tRecall\\tSpecificity\\t\\n\"\n",
    "text += \"===============================================================================\\n\"\n",
    "\n",
    "for blocknum in range(1, 5):\n",
    "    normalization = 'groupnorm'\n",
    "    criterion = SegMetrics()\n",
    "    \n",
    "    net = VNet_New(n_channels=1, n_classes=2, n_filters=16, n_blocks=blocknum, normalization=normalization)  # num classes: 2 (background, label)\n",
    "    net = torch.nn.DataParallel(net, device_ids=[0, 1])\n",
    "    net.load_state_dict(torch.load('pretrained/seg_2304_vnetencoder-{}_{}_bestmodel'.format(blocknum, img_size)))\n",
    "    net.cuda()\n",
    "\n",
    "    net.eval()\n",
    "\n",
    "    running_pa = 0.0\n",
    "    running_dice = 0.0\n",
    "    running_prec = 0.0\n",
    "    running_rec = 0.0\n",
    "    running_spec = 0.0\n",
    "\n",
    "    total_output_seg=[]\n",
    "    total_output_img=[]\n",
    "\n",
    "    with torch.no_grad():\n",
    "        for i, data in enumerate(tqdm(data_loader, 0)):\n",
    "            inputs, labels = data['img']['data'], data['label']['data']    \n",
    "\n",
    "    #             l1=(labels==1)\n",
    "    #             l0=(labels==0)\n",
    "    #             labels = torch.cat((l0,l1),1)\n",
    "\n",
    "            if torch.cuda.is_available:\n",
    "                inputs, labels = inputs.type(torch.cuda.FloatTensor),labels.type(torch.cuda.FloatTensor)\n",
    "\n",
    "            inputs, labels = Variable(inputs), Variable(labels)\n",
    "\n",
    "            net.eval()\n",
    "\n",
    "            total_inputs=copy.deepcopy(inputs)\n",
    "            total_output_img.append(total_inputs.detach().cpu().numpy())\n",
    "\n",
    "            outputs_seg = net(inputs)\n",
    "            outputs_seg = torch.nn.Softmax(dim=1)(outputs_seg)\n",
    "            total_outputs=copy.deepcopy(outputs_seg)\n",
    "            total_output_seg.append(total_outputs.detach().cpu().numpy())\n",
    "\n",
    "            outputs_seg = (outputs_seg >= 0.5).float()   # 확률값 => 0,1\n",
    "            pixel_acc, dice, precision, recall, specificity = criterion(outputs_seg, labels)\n",
    "\n",
    "            running_pa += pixel_acc.detach().cpu().item()\n",
    "            running_dice += dice.detach().cpu().item()\n",
    "            running_prec += precision.detach().cpu().item()\n",
    "            running_rec += recall.detach().cpu().item()\n",
    "            running_spec += specificity.detach().cpu().item()\n",
    "\n",
    "    avg_pa = running_pa / len(data_loader)\n",
    "    avg_dice = running_dice / len(data_loader)\n",
    "    avg_prec = running_prec / len(data_loader)\n",
    "    avg_rec = running_rec / len(data_loader)\n",
    "    avg_spec = running_spec / len(data_loader)\n",
    "\n",
    "    one_output_seg = outputs_seg.detach().cpu().numpy()[0]\n",
    "    one_output_img = inputs.detach().cpu().numpy()[0]\n",
    "    one_output_lbl = labels.detach().cpu().numpy()[0]\n",
    "    #total_output_img=np.reshape(1,224,224,32)\n",
    "    #total_output_seg=np.reshape(1,224,224,32)\n",
    "    \n",
    "    text += \"VNet-{}\\t{:.3f}\\t{:.3f}\\t{:.3f}\\t{:.3f}\\t{:.3f}\\n\".format(blocknum, avg_pa, avg_dice, avg_prec, avg_rec, avg_spec)    \n",
    "text += \"===============================================================================\\n\"\n",
    "print(text)"
   ]
  },
  {
   "cell_type": "code",
   "execution_count": 15,
   "id": "3e815158",
   "metadata": {
    "scrolled": true
   },
   "outputs": [
    {
     "name": "stderr",
     "output_type": "stream",
     "text": [
      "  0%|                                                    | 0/33 [00:32<?, ?it/s]\n"
     ]
    },
    {
     "data": {
      "image/png": "[encoded data removed]",
      "text/plain": [
       "<Figure size 432x288 with 1 Axes>"
      ]
     },
     "metadata": {
      "needs_background": "light"
     },
     "output_type": "display_data"
    },
    {
     "data": {
      "image/png": "[encoded data removed]",
      "text/plain": [
       "<Figure size 432x288 with 1 Axes>"
      ]
     },
     "metadata": {
      "needs_background": "light"
     },
     "output_type": "display_data"
    },
    {
     "data": {
      "image/png": "[encoded data removed]",
      "text/plain": [
       "<Figure size 432x288 with 1 Axes>"
      ]
     },
     "metadata": {
      "needs_background": "light"
     },
     "output_type": "display_data"
    },
    {
     "name": "stderr",
     "output_type": "stream",
     "text": [
      "  0%|                                                    | 0/33 [00:50<?, ?it/s]\n"
     ]
    },
    {
     "data": {
      "image/png": "[encoded data removed]",
      "text/plain": [
       "<Figure size 432x288 with 1 Axes>"
      ]
     },
     "metadata": {
      "needs_background": "light"
     },
     "output_type": "display_data"
    },
    {
     "data": {
      "image/png": "[encoded data removed]",
      "text/plain": [
       "<Figure size 432x288 with 1 Axes>"
      ]
     },
     "metadata": {
      "needs_background": "light"
     },
     "output_type": "display_data"
    },
    {
     "data": {
      "image/png": "[encoded data removed]",
      "text/plain": [
       "<Figure size 432x288 with 1 Axes>"
      ]
     },
     "metadata": {
      "needs_background": "light"
     },
     "output_type": "display_data"
    },
    {
     "name": "stderr",
     "output_type": "stream",
     "text": [
      "  0%|                                                    | 0/33 [00:56<?, ?it/s]\n"
     ]
    },
    {
     "data": {
      "image/png": "[encoded data removed]",
      "text/plain": [
       "<Figure size 432x288 with 1 Axes>"
      ]
     },
     "metadata": {
      "needs_background": "light"
     },
     "output_type": "display_data"
    },
    {
     "data": {
      "image/png": "[encoded data removed]",
      "text/plain": [
       "<Figure size 432x288 with 1 Axes>"
      ]
     },
     "metadata": {
      "needs_background": "light"
     },
     "output_type": "display_data"
    },
    {
     "data": {
      "image/png": "[encoded data removed]",
      "text/plain": [
       "<Figure size 432x288 with 1 Axes>"
      ]
     },
     "metadata": {
      "needs_background": "light"
     },
     "output_type": "display_data"
    },
    {
     "name": "stderr",
     "output_type": "stream",
     "text": [
      "  0%|                                                    | 0/33 [00:46<?, ?it/s]\n"
     ]
    },
    {
     "data": {
      "image/png": "[encoded data removed]",
      "text/plain": [
       "<Figure size 432x288 with 1 Axes>"
      ]
     },
     "metadata": {
      "needs_background": "light"
     },
     "output_type": "display_data"
    },
    {
     "data": {
      "image/png": "[encoded data removed]",
      "text/plain": [
       "<Figure size 432x288 with 1 Axes>"
      ]
     },
     "metadata": {
      "needs_background": "light"
     },
     "output_type": "display_data"
    },
    {
     "data": {
      "image/png": "[encoded data removed]",
      "text/plain": [
       "<Figure size 432x288 with 1 Axes>"
      ]
     },
     "metadata": {
      "needs_background": "light"
     },
     "output_type": "display_data"
    }
   ],
   "source": [
    "# Evaluation (예시 이미지)\n",
    "from scipy.ndimage import rotate, zoom\n",
    "\n",
    "for blocknum in range(1, 5):\n",
    "    normalization = 'groupnorm'\n",
    "\n",
    "    net = VNet_New(n_channels=1, n_classes=2, n_filters=16, n_blocks=blocknum, normalization=normalization)  # num classes: 2 (background, label)\n",
    "    net = torch.nn.DataParallel(net, device_ids=[0, 1])\n",
    "    net.load_state_dict(torch.load('pretrained/seg_2304_vnetencoder-{}_{}_bestmodel'.format(blocknum, img_size)))\n",
    "    net.cuda()\n",
    "\n",
    "    net.eval()\n",
    "\n",
    "    with torch.no_grad():\n",
    "        for i, data in enumerate(tqdm(data_loader, 0)):\n",
    "            inputs, labels = data['img']['data'], data['label']['data']    \n",
    "\n",
    "    #             l1=(labels==1)\n",
    "    #             l0=(labels==0)\n",
    "    #             labels = torch.cat((l0,l1),1)\n",
    "\n",
    "            if torch.cuda.is_available:\n",
    "                inputs, labels = inputs.type(torch.cuda.FloatTensor),labels.type(torch.cuda.FloatTensor)\n",
    "\n",
    "            inputs, labels = Variable(inputs), Variable(labels)\n",
    "\n",
    "            net.eval()\n",
    "\n",
    "            outputs_seg = net(inputs)\n",
    "            outputs_seg = torch.nn.Softmax(dim=1)(outputs_seg)\n",
    "            outputs_seg = (outputs_seg >= 0.5).float()\n",
    "            break\n",
    "\n",
    "    one_output_seg = outputs_seg.detach().cpu().numpy()[1]\n",
    "    one_output_img = inputs.detach().cpu().numpy()[1]\n",
    "    one_output_lbl = labels.detach().cpu().numpy()[1]\n",
    "    scale = 300 / img_size\n",
    "\n",
    "    plt.title(\"Input\")\n",
    "    img_in = zoom(one_output_img[0], (scale, scale, scale))\n",
    "    plt.imshow(rotate(np.max(img_in, axis=1), 90), cmap='gray')\n",
    "    plt.axis('off')\n",
    "    plt.show()\n",
    "\n",
    "    plt.title(\"Ground Truth\")\n",
    "    img_gt = zoom(one_output_lbl[0], (scale, scale, scale))\n",
    "    plt.imshow(rotate(np.max(img_gt, axis=1), 90), cmap='gray')\n",
    "    plt.axis('off')\n",
    "    plt.show()\n",
    "\n",
    "    plt.title(\"V-Net-{} Prediction\".format(blocknum))\n",
    "    img_p = zoom(one_output_seg[1], (scale, scale, scale))\n",
    "    plt.imshow(rotate(np.max(img_p, axis=1), 90), cmap='gray')\n",
    "    plt.axis('off')\n",
    "    plt.show()\n",
    "\n",
    "    # nifti_img = nib.Nifti1Image(img, affine=np.eye(4))"
   ]
  },
  {
   "cell_type": "code",
   "execution_count": 26,
   "id": "1104d784",
   "metadata": {},
   "outputs": [
    {
     "data": {
      "text/plain": [
       "((192, 192, 192), (192, 192, 192), (192, 192, 192))"
      ]
     },
     "execution_count": 26,
     "metadata": {},
     "output_type": "execute_result"
    }
   ],
   "source": [
    "one_output_seg[1].shape, one_output_img[0].shape, one_output_lbl[1].shape"
   ]
  },
  {
   "cell_type": "code",
   "execution_count": 38,
   "id": "ea351a95",
   "metadata": {
    "scrolled": true
   },
   "outputs": [
    {
     "name": "stdout",
     "output_type": "stream",
     "text": [
      "VNet-4 :\n"
     ]
    },
    {
     "data": {
      "image/png": "[encoded data removed]",
      "text/plain": [
       "<Figure size 432x288 with 1 Axes>"
      ]
     },
     "metadata": {
      "needs_background": "light"
     },
     "output_type": "display_data"
    },
    {
     "name": "stdout",
     "output_type": "stream",
     "text": [
      "VNet-4 :\n"
     ]
    },
    {
     "data": {
      "image/png": "[encoded data removed]",
      "text/plain": [
       "<Figure size 432x288 with 1 Axes>"
      ]
     },
     "metadata": {
      "needs_background": "light"
     },
     "output_type": "display_data"
    },
    {
     "name": "stdout",
     "output_type": "stream",
     "text": [
      "VNet-4 :\n"
     ]
    },
    {
     "data": {
      "image/png": "[encoded data removed]",
      "text/plain": [
       "<Figure size 432x288 with 1 Axes>"
      ]
     },
     "metadata": {
      "needs_background": "light"
     },
     "output_type": "display_data"
    },
    {
     "name": "stdout",
     "output_type": "stream",
     "text": [
      "VNet-4 :\n"
     ]
    },
    {
     "data": {
      "image/png": "[encoded data removed]",
      "text/plain": [
       "<Figure size 432x288 with 1 Axes>"
      ]
     },
     "metadata": {
      "needs_background": "light"
     },
     "output_type": "display_data"
    }
   ],
   "source": [
    "for i in range(len(outputs_seg)):\n",
    "    one_output_seg = outputs_seg.detach().cpu().numpy()[i]\n",
    "    one_output_img = inputs.detach().cpu().numpy()[i]\n",
    "    one_output_lbl = labels.detach().cpu().numpy()[i]\n",
    "\n",
    "    print('VNet-{} :'.format(blocknum))\n",
    "    plt.imshow(np.squeeze(np.concatenate((rotate(np.max(one_output_lbl[1], axis=1), 90),rotate(np.max(one_output_seg[1], axis=1), 90)),axis=1)),vmin=0,vmax=1,cmap='gray') # label\n",
    "    plt.axis('off')\n",
    "    plt.show()"
   ]
  },
  {
   "cell_type": "code",
   "execution_count": null,
   "id": "dd7bfe2b",
   "metadata": {},
   "outputs": [],
   "source": []
  }
 ],
 "metadata": {
  "kernelspec": {
   "display_name": "Python 3 (ipykernel)",
   "language": "python",
   "name": "python3"
  },
  "language_info": {
   "codemirror_mode": {
    "name": "ipython",
    "version": 3
   },
   "file_extension": ".py",
   "mimetype": "text/x-python",
   "name": "python",
   "nbconvert_exporter": "python",
   "pygments_lexer": "ipython3",
   "version": "3.8.13"
  }
 },
 "nbformat": 4,
 "nbformat_minor": 5
}
