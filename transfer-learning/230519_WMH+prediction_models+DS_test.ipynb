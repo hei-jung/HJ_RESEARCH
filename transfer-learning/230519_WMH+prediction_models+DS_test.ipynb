{
 "cells": [
  {
   "cell_type": "code",
   "execution_count": 1,
   "id": "b9c0d942",
   "metadata": {},
   "outputs": [],
   "source": [
    "import os\n",
    "os.environ[\"CUDA_DEVICE_ORDER\"] = \"PCI_BUS_ID\"\n",
    "os.environ[\"CUDA_VISIBLE_DEVICES\"] = \"0,1\""
   ]
  },
  {
   "cell_type": "code",
   "execution_count": 2,
   "id": "c31da569",
   "metadata": {
    "scrolled": true
   },
   "outputs": [],
   "source": [
    "import random\n",
    "import numpy as np\n",
    "from tqdm import tqdm\n",
    "import pandas as pd\n",
    "from scipy import ndimage\n",
    "from scipy.ndimage import zoom\n",
    "import gc\n",
    "from sklearn.model_selection import train_test_split, KFold\n",
    "import matplotlib.pyplot as plt\n",
    "import matplotlib.patches as mpatches\n",
    "from torch import nn, optim\n",
    "from torch.nn import functional as F\n",
    "from torch.utils.data import Dataset, DataLoader, SubsetRandomSampler\n",
    "import torch.backends.cudnn as cudnn\n",
    "import types\n",
    "from scipy.stats import pearsonr, spearmanr\n",
    "import torchio as tio\n",
    "from datetime import datetime\n",
    "import wandb\n",
    "###\n",
    "from models.lds_utils import get_lds_kernel_window\n",
    "from models.loss import *\n",
    "from models.sfcn_fds import *\n",
    "from collections import Counter\n",
    "from scipy.ndimage import zoom, convolve1d"
   ]
  },
  {
   "cell_type": "code",
   "execution_count": 3,
   "id": "7f0a9eef",
   "metadata": {},
   "outputs": [],
   "source": [
    "RANDOM_SEED = 551"
   ]
  },
  {
   "cell_type": "code",
   "execution_count": 4,
   "id": "0e96349f",
   "metadata": {},
   "outputs": [],
   "source": [
    "# control randomness\n",
    "def set_seed(random_seed=551):\n",
    "    torch.manual_seed(random_seed)\n",
    "    torch.cuda.manual_seed(random_seed)\n",
    "    torch.cuda.manual_seed_all(random_seed)\n",
    "    np.random.seed(random_seed)\n",
    "    cudnn.benchmark = False\n",
    "    cudnn.deterministic = True\n",
    "    random.seed(random_seed)"
   ]
  },
  {
   "cell_type": "code",
   "execution_count": 5,
   "id": "f7a34af8",
   "metadata": {},
   "outputs": [],
   "source": [
    "def load_data(img_dir, label_dir, label_name, std=False, norm=False):\n",
    "    df = pd.read_csv(label_dir, index_col=0)[label_name]\n",
    "    filenames = df.index\n",
    "    images = []\n",
    "    for i, index in enumerate(tqdm(filenames)):\n",
    "        file_name = img_dir + index + '.npy'\n",
    "        img = np.load(file_name)\n",
    "        x, y, z = img.shape\n",
    "        if norm:\n",
    "            img = (img - img.min()) / (img.max() - img.min())\n",
    "        if std:\n",
    "            m = np.mean(img)\n",
    "            s = np.std(img)\n",
    "            img = (img - m) / s\n",
    "        img = img.reshape((1, x, y, z))\n",
    "        images.append(img)\n",
    "    return images, df"
   ]
  },
  {
   "cell_type": "code",
   "execution_count": 6,
   "id": "8fdaa7d4",
   "metadata": {},
   "outputs": [],
   "source": [
    "def image_preprocess(img_size=192):\n",
    "    # [16,32,48,64,80,96,112,128,144,160]\n",
    "    sample_rate = 300 / img_size\n",
    "    # transformation\n",
    "    transform = tio.Compose([\n",
    "        tio.Resample(sample_rate),\n",
    "        tio.ZNormalization(),\n",
    "    ])\n",
    "    return transform"
   ]
  },
  {
   "cell_type": "code",
   "execution_count": 7,
   "id": "f736886e",
   "metadata": {},
   "outputs": [],
   "source": [
    "# augmentation\n",
    "def get_augmentation_transform():\n",
    "    random_rotate = tio.RandomAffine(scales=(1.0, 1.0),\n",
    "                                     degrees=12,)\n",
    "    random_flip = tio.RandomFlip(axes='LR',\n",
    "                                 flip_probability=0.5)\n",
    "    random_shift = tio.RandomAffine(scales=(1.0, 1.0),\n",
    "                                    degrees=0,\n",
    "                                    translation=(20,20,20))\n",
    "    compose = tio.transforms.Compose([random_rotate, random_flip, random_shift])\n",
    "    augment = tio.transforms.OneOf([random_rotate, random_flip, random_shift, compose])\n",
    "    return augment"
   ]
  },
  {
   "cell_type": "code",
   "execution_count": 8,
   "id": "60667d38",
   "metadata": {},
   "outputs": [],
   "source": [
    "class NeckDataset(Dataset):\n",
    "    def __init__(self, X=None, y=None, transform=None, lds=False, lds_kernel='gaussian', lds_ks=5, lds_sigma=2):\n",
    "        self.X = X\n",
    "        self.y = y.values\n",
    "        self.transform = transform\n",
    "        \n",
    "        self.bin_edges = np.histogram_bin_edges(self.y, bins='auto')\n",
    "        self.weights = self._prepare_weights(lds=lds, lds_kernel=lds_kernel, lds_ks=lds_ks, lds_sigma=lds_sigma)\n",
    "        \n",
    "    def __len__(self):\n",
    "        return len(self.y)\n",
    "    \n",
    "    def __getitem__(self, idx):\n",
    "        image = self.X[idx]\n",
    "        if self.transform is not None:\n",
    "            image = self.transform(image)\n",
    "        label = np.array([self.y[idx]]).astype('float16')\n",
    "        weight = np.array([self.weights[idx]]).astype('float16') if self.weights is not None else np.asarray([np.float16(1.)])\n",
    "        return [image, label, weight]\n",
    "    \n",
    "    def _prepare_weights(self, lds=False, lds_kernel='gaussian', lds_ks=5, lds_sigma=2):  \n",
    "        weights = None\n",
    "        if lds:\n",
    "            labels = self.y\n",
    "            bin_index_per_label = [self._get_bin_idx(label) for label in labels]\n",
    "            Nb = max(bin_index_per_label) + 1\n",
    "            num_samples_of_bins = dict(Counter(bin_index_per_label))\n",
    "            emp_label_dist = [num_samples_of_bins.get(i, 0) for i in range(Nb)]\n",
    "\n",
    "            lds_kernel_window = get_lds_kernel_window(kernel=lds_kernel, ks=lds_ks, sigma=lds_sigma)\n",
    "            eff_label_dist = convolve1d(np.array(emp_label_dist), weights=lds_kernel_window, mode='constant')\n",
    "\n",
    "            eff_num_per_label = [eff_label_dist[bin_idx] for bin_idx in bin_index_per_label]\n",
    "            weights = np.array([np.float32(1 / x) for x in eff_num_per_label]).reshape(labels.shape)\n",
    "        return weights\n",
    "    \n",
    "    def _get_bin_idx(self, label):\n",
    "        return np.max(np.where(self.bin_edges <= label))"
   ]
  },
  {
   "cell_type": "code",
   "execution_count": 9,
   "id": "2df07024",
   "metadata": {},
   "outputs": [],
   "source": [
    "def train(model, train_loader, epoch, optimizer, lds=False, fds=False):\n",
    "    criterion1 = nn.L1Loss()\n",
    "    criterion2 = nn.MSELoss()\n",
    "        \n",
    "    total_mae_loss, total_mse_loss = 0, 0\n",
    "    preds, truths = np.array([]), np.array([])\n",
    "    \n",
    "    model.train()\n",
    "    for inputs, labels, weights in tqdm(train_loader):              \n",
    "        inputs, labels = inputs.to(device, dtype=torch.float), labels.to(device, dtype=torch.float)\n",
    "        weights = weights.to(device, dtype=torch.float)\n",
    "        optimizer.zero_grad()\n",
    "\n",
    "        if fds:\n",
    "            output, _ = model(inputs, labels, epoch)\n",
    "        else:\n",
    "            output = model(inputs, labels, epoch)\n",
    "        \n",
    "        pred = output.detach().cpu().numpy()\n",
    "        truth = labels.detach().cpu().numpy()\n",
    "        preds = np.append(preds, pred.reshape(pred.size), axis=0)\n",
    "        truths = np.append(truths, truth.reshape(truth.size), axis=0)\n",
    "        \n",
    "        if lds:\n",
    "            mae_loss = criterion1(output, labels)\n",
    "            mse_loss = weighted_mse_loss(output, labels, weights=weights)\n",
    "        else:\n",
    "            mae_loss = criterion1(output, labels)\n",
    "            mse_loss = criterion2(output, labels)\n",
    "#         mae_loss.backward()\n",
    "        mse_loss.backward()\n",
    "        \n",
    "        optimizer.step()\n",
    "        \n",
    "        total_mae_loss += mae_loss.data.item()\n",
    "        total_mse_loss += mse_loss.data.item()\n",
    "        \n",
    "        gc.collect()\n",
    "        torch.cuda.empty_cache()\n",
    "        \n",
    "    if fds and epoch >= start_update:\n",
    "        encodings, targets = [], []\n",
    "        with torch.no_grad():\n",
    "            for inputs, labels, _ in tqdm(train_loader):\n",
    "                inputs = inputs.to(device, dtype=torch.float)\n",
    "                labels = labels.to(device, dtype=torch.float)\n",
    "                outputs, feature = model(inputs, labels, epoch)\n",
    "                encodings.extend(feature.data.squeeze().cpu().numpy())\n",
    "                targets.extend(labels.data.squeeze().cpu().numpy())\n",
    "                \n",
    "        encodings, targets = torch.from_numpy(np.vstack(encodings)).cuda(), torch.from_numpy(np.hstack(targets)).cuda()\n",
    "        if device_count > 1:\n",
    "            model.module.FDS.update_last_epoch_stats(epoch)\n",
    "            print('feature_dim:', model.module.FDS.feature_dim)\n",
    "            print('features.size(1):', encodings.size(1))\n",
    "            model.module.FDS.update_running_stats(encodings, targets, epoch)\n",
    "        else:\n",
    "            model.FDS.update_last_epoch_stats(epoch)\n",
    "            model.FDS.update_running_stats(encodings, targets, epoch)\n",
    "        \n",
    "    return preds, truths, total_mae_loss, total_mse_loss"
   ]
  },
  {
   "cell_type": "code",
   "execution_count": 10,
   "id": "6b20c8c8",
   "metadata": {},
   "outputs": [],
   "source": [
    "def valid(model, valid_loader):\n",
    "    criterion1 = nn.L1Loss()\n",
    "    criterion2 = nn.MSELoss()\n",
    "    \n",
    "    total_mae_loss, total_mse_loss = 0, 0\n",
    "    preds, truths = np.array([]), np.array([])\n",
    "    \n",
    "    model.eval()\n",
    "    with torch.no_grad():\n",
    "        for inputs, labels, _ in tqdm(valid_loader):\n",
    "            inputs, labels = inputs.to(device, dtype=torch.float), labels.to(device, dtype=torch.float)\n",
    "\n",
    "            output = model(inputs)\n",
    "            \n",
    "            pred = output.detach().cpu().numpy()\n",
    "            truth = labels.detach().cpu().numpy()\n",
    "            preds = np.append(preds, pred.reshape(pred.size), axis=0)\n",
    "            truths = np.append(truths, truth.reshape(truth.size), axis=0)\n",
    "\n",
    "            mae_loss = criterion1(output, labels)\n",
    "            mse_loss = criterion2(output, labels)\n",
    "            \n",
    "            total_mae_loss += mae_loss.data.item()\n",
    "            total_mse_loss += mse_loss.data.item()\n",
    "        \n",
    "    return preds, truths, total_mae_loss, total_mse_loss"
   ]
  },
  {
   "cell_type": "code",
   "execution_count": 11,
   "id": "2eb08047",
   "metadata": {
    "scrolled": false
   },
   "outputs": [
    {
     "name": "stdout",
     "output_type": "stream",
     "text": [
      "Device: cuda\n",
      "Current cuda device: 0\n",
      "Count of using GPUs: 2\n"
     ]
    }
   ],
   "source": [
    "device = torch.device(\"cuda\" if torch.cuda.is_available() else \"cpu\")\n",
    "print('Device:', device)\n",
    "print('Current cuda device:', torch.cuda.current_device())\n",
    "device_count = torch.cuda.device_count()\n",
    "print('Count of using GPUs:', torch.cuda.device_count())"
   ]
  },
  {
   "cell_type": "code",
   "execution_count": 12,
   "id": "2caeb213",
   "metadata": {},
   "outputs": [],
   "source": [
    "label_name = 'FL_WMH_VOL_icv'\n",
    "# label_name = 'FL_WMH_VOL_mL'\n",
    "# label_name = 'WMH_GRADE'\n",
    "# label_name = 'Cortical Gray Matter Total Percent Of Icv'\n",
    "# label_name = 'FL_PVWMH_VOL_icv'\n",
    "# label_name = 'FL_DWMH_VOL_icv'\n",
    "# img_dir = 'img_npy/'\n",
    "img_dir = './input_numpy_300/' \n",
    "label_dir = 'labels/data_975.csv'"
   ]
  },
  {
   "cell_type": "code",
   "execution_count": 13,
   "id": "c46ed522",
   "metadata": {},
   "outputs": [],
   "source": [
    "# 이번 실험 고정 값\n",
    "lds = False\n",
    "fds = True\n",
    "batch_size = 4\n",
    "test_batch_size = 4\n",
    "epochs = 5\n",
    "dropout_rate = 0.5\n",
    "start_update = 0"
   ]
  },
  {
   "cell_type": "code",
   "execution_count": 14,
   "id": "84166bd3",
   "metadata": {},
   "outputs": [
    {
     "name": "stderr",
     "output_type": "stream",
     "text": [
      "100%|█████████████████████████████████████████| 975/975 [02:24<00:00,  6.75it/s]\n"
     ]
    }
   ],
   "source": [
    "# load data\n",
    "X, y = load_data(img_dir, label_dir, label_name, std=False, norm=False)\n",
    "\n",
    "# initialize seed\n",
    "set_seed()\n",
    "\n",
    "# train / test split\n",
    "X_train, X_test, y_train, y_test = train_test_split(X, y, test_size=0.2)\n",
    "\n",
    "# train set\n",
    "# train_set = NeckDataset(X_train, y_train)"
   ]
  },
  {
   "cell_type": "code",
   "execution_count": 15,
   "id": "e26fa4ec",
   "metadata": {},
   "outputs": [
    {
     "data": {
      "text/plain": [
       "(780, 195, 780, 195)"
      ]
     },
     "execution_count": 15,
     "metadata": {},
     "output_type": "execute_result"
    }
   ],
   "source": [
    "# image preprocessing\n",
    "preprocess = image_preprocess()\n",
    "\n",
    "# test set & loader\n",
    "test_set = NeckDataset(X_test, y_test, transform=preprocess)\n",
    "test_loader = DataLoader(test_set, batch_size=test_batch_size, num_workers=16)\n",
    "\n",
    "len(X_train), len(X_test), len(y_train), len(y_test)"
   ]
  },
  {
   "cell_type": "code",
   "execution_count": 16,
   "id": "9cfd872c",
   "metadata": {},
   "outputs": [
    {
     "name": "stdout",
     "output_type": "stream",
     "text": [
      "(1, 192, 192, 192)\n",
      "[1.478]\n",
      "[0.03845]\n"
     ]
    },
    {
     "data": {
      "image/png": "[encoded data removed]",
      "text/plain": [
       "<Figure size 432x288 with 1 Axes>"
      ]
     },
     "metadata": {
      "needs_background": "light"
     },
     "output_type": "display_data"
    }
   ],
   "source": [
    "## 데이터셋 확인 (with LDS)\n",
    "train_set = NeckDataset(X_train, y_train, transform=preprocess, lds=True)\n",
    "\n",
    "for img, label, weight in train_set:\n",
    "    print(img.shape)\n",
    "    print(label)\n",
    "    print(weight)\n",
    "    plt.imshow(np.max(img, axis=2).squeeze(), cmap='gray')\n",
    "    plt.show()\n",
    "    break"
   ]
  },
  {
   "cell_type": "code",
   "execution_count": 17,
   "id": "8894a4cb",
   "metadata": {
    "scrolled": true
   },
   "outputs": [],
   "source": [
    "# bins = np.linspace(0, 5, 30)\n",
    "\n",
    "# plt.hist(y_train, bins, label='training set')\n",
    "# plt.hist(y_test, bins, label='test set')\n",
    "# plt.legend(loc='upper right')\n",
    "# plt.show()\n",
    "# plt.close()\n",
    "\n",
    "\n",
    "# plt.figure(figsize=(10,4))\n",
    "# plt.subplot(1,2,1)\n",
    "# plt.hist(y_train, bins, label='training set')\n",
    "# plt.legend(loc='upper right')\n",
    "\n",
    "# plt.subplot(1,2,2)\n",
    "# plt.hist(y_test, bins, label='test set')\n",
    "# plt.legend(loc='upper right')\n",
    "\n",
    "# plt.show()\n",
    "# plt.close()"
   ]
  },
  {
   "cell_type": "markdown",
   "id": "40fccb8b",
   "metadata": {},
   "source": [
    "---"
   ]
  },
  {
   "cell_type": "code",
   "execution_count": 18,
   "id": "3175e7a2",
   "metadata": {},
   "outputs": [],
   "source": [
    "# 바꿀 값\n",
    "weight_decay = 0.1\n",
    "lr = 1e-03\n",
    "optim_class = optim.AdamW\n",
    "sched_class = optim.lr_scheduler.ReduceLROnPlateau"
   ]
  },
  {
   "cell_type": "code",
   "execution_count": 22,
   "id": "1423e70f",
   "metadata": {},
   "outputs": [
    {
     "data": {
      "text/plain": [
       "DataParallel(\n",
       "  (module): SFCN_FDS(\n",
       "    (feature_extractor): Sequential(\n",
       "      (conv_0): Sequential(\n",
       "        (0): Conv3d(1, 32, kernel_size=(3, 3, 3), stride=(1, 1, 1), padding=(1, 1, 1))\n",
       "        (1): BatchNorm3d(32, eps=1e-05, momentum=0.1, affine=True, track_running_stats=True)\n",
       "        (2): MaxPool3d(kernel_size=2, stride=2, padding=0, dilation=1, ceil_mode=False)\n",
       "        (3): ReLU()\n",
       "      )\n",
       "      (conv_1): Sequential(\n",
       "        (0): Conv3d(32, 64, kernel_size=(3, 3, 3), stride=(1, 1, 1), padding=(1, 1, 1))\n",
       "        (1): BatchNorm3d(64, eps=1e-05, momentum=0.1, affine=True, track_running_stats=True)\n",
       "        (2): MaxPool3d(kernel_size=2, stride=2, padding=0, dilation=1, ceil_mode=False)\n",
       "        (3): ReLU()\n",
       "      )\n",
       "      (conv_2): Sequential(\n",
       "        (0): Conv3d(64, 128, kernel_size=(3, 3, 3), stride=(1, 1, 1), padding=(1, 1, 1))\n",
       "        (1): BatchNorm3d(128, eps=1e-05, momentum=0.1, affine=True, track_running_stats=True)\n",
       "        (2): MaxPool3d(kernel_size=2, stride=2, padding=0, dilation=1, ceil_mode=False)\n",
       "        (3): ReLU()\n",
       "      )\n",
       "      (conv_3): Sequential(\n",
       "        (0): Conv3d(128, 256, kernel_size=(3, 3, 3), stride=(1, 1, 1), padding=(1, 1, 1))\n",
       "        (1): BatchNorm3d(256, eps=1e-05, momentum=0.1, affine=True, track_running_stats=True)\n",
       "        (2): MaxPool3d(kernel_size=2, stride=2, padding=0, dilation=1, ceil_mode=False)\n",
       "        (3): ReLU()\n",
       "      )\n",
       "      (conv_4): Sequential(\n",
       "        (0): Conv3d(256, 256, kernel_size=(3, 3, 3), stride=(1, 1, 1), padding=(1, 1, 1))\n",
       "        (1): BatchNorm3d(256, eps=1e-05, momentum=0.1, affine=True, track_running_stats=True)\n",
       "        (2): MaxPool3d(kernel_size=2, stride=2, padding=0, dilation=1, ceil_mode=False)\n",
       "        (3): ReLU()\n",
       "      )\n",
       "      (conv_5): Sequential(\n",
       "        (0): Conv3d(256, 64, kernel_size=(1, 1, 1), stride=(1, 1, 1))\n",
       "        (1): BatchNorm3d(64, eps=1e-05, momentum=0.1, affine=True, track_running_stats=True)\n",
       "        (2): ReLU()\n",
       "      )\n",
       "    )\n",
       "    (classifier): Sequential(\n",
       "      (average_pool): AvgPool3d(kernel_size=[5, 5, 5], stride=[5, 5, 5], padding=0)\n",
       "      (dropout): Dropout(p=0.5, inplace=False)\n",
       "      (conv_6): Conv3d(64, 64, kernel_size=(1, 1, 1), stride=(1, 1, 1))\n",
       "    )\n",
       "    (fc): Sequential(\n",
       "      (linear_0): Linear(in_features=64, out_features=1, bias=True)\n",
       "      (relu): LeakyReLU(negative_slope=0.01)\n",
       "    )\n",
       "    (FDS): FDS()\n",
       "  )\n",
       ")"
      ]
     },
     "execution_count": 22,
     "metadata": {},
     "output_type": "execute_result"
    }
   ],
   "source": [
    "model = SFCN_FDS(dropout_p=dropout_rate, fds=fds, avg_shape=[5, 5, 5])\n",
    "# model.fc.linear_0.in_features = 384\n",
    "# model.FDS.feature_dim = 384\n",
    "model.fc.add_module('relu', nn.LeakyReLU())\n",
    "model = torch.nn.DataParallel(model, device_ids=[0, 1])\n",
    "model"
   ]
  },
  {
   "cell_type": "code",
   "execution_count": 19,
   "id": "a399075a",
   "metadata": {
    "scrolled": true
   },
   "outputs": [
    {
     "name": "stdout",
     "output_type": "stream",
     "text": [
      "# Epoch 1 / 5\n"
     ]
    },
    {
     "name": "stderr",
     "output_type": "stream",
     "text": [
      "100%|█████████████████████████████████████████| 195/195 [02:24<00:00,  1.35it/s]\n",
      "100%|█████████████████████████████████████████| 195/195 [01:34<00:00,  2.07it/s]\n"
     ]
    },
    {
     "name": "stdout",
     "output_type": "stream",
     "text": [
      "asdf\n",
      "feataure_dim: 64\n",
      "features.size(1): 64\n"
     ]
    },
    {
     "name": "stderr",
     "output_type": "stream",
     "text": [
      "100%|███████████████████████████████████████████| 49/49 [00:25<00:00,  1.94it/s]\n"
     ]
    },
    {
     "name": "stdout",
     "output_type": "stream",
     "text": [
      "# Epoch 2 / 5\n"
     ]
    },
    {
     "name": "stderr",
     "output_type": "stream",
     "text": [
      "100%|█████████████████████████████████████████| 195/195 [02:13<00:00,  1.46it/s]\n",
      "100%|█████████████████████████████████████████| 195/195 [01:36<00:00,  2.02it/s]\n"
     ]
    },
    {
     "name": "stdout",
     "output_type": "stream",
     "text": [
      "asdf\n",
      "feataure_dim: 64\n",
      "features.size(1): 64\n"
     ]
    },
    {
     "name": "stderr",
     "output_type": "stream",
     "text": [
      "100%|███████████████████████████████████████████| 49/49 [00:25<00:00,  1.92it/s]\n"
     ]
    },
    {
     "name": "stdout",
     "output_type": "stream",
     "text": [
      "# Epoch 3 / 5\n"
     ]
    },
    {
     "name": "stderr",
     "output_type": "stream",
     "text": [
      "100%|█████████████████████████████████████████| 195/195 [02:12<00:00,  1.48it/s]\n",
      "100%|█████████████████████████████████████████| 195/195 [01:33<00:00,  2.08it/s]\n"
     ]
    },
    {
     "name": "stdout",
     "output_type": "stream",
     "text": [
      "asdf\n",
      "feataure_dim: 64\n",
      "features.size(1): 64\n"
     ]
    },
    {
     "name": "stderr",
     "output_type": "stream",
     "text": [
      "100%|███████████████████████████████████████████| 49/49 [00:26<00:00,  1.84it/s]\n"
     ]
    },
    {
     "name": "stdout",
     "output_type": "stream",
     "text": [
      "# Epoch 4 / 5\n"
     ]
    },
    {
     "name": "stderr",
     "output_type": "stream",
     "text": [
      "100%|█████████████████████████████████████████| 195/195 [02:15<00:00,  1.44it/s]\n",
      "100%|█████████████████████████████████████████| 195/195 [01:30<00:00,  2.15it/s]\n"
     ]
    },
    {
     "name": "stdout",
     "output_type": "stream",
     "text": [
      "asdf\n",
      "feataure_dim: 64\n",
      "features.size(1): 64\n"
     ]
    },
    {
     "name": "stderr",
     "output_type": "stream",
     "text": [
      "100%|███████████████████████████████████████████| 49/49 [00:26<00:00,  1.87it/s]\n"
     ]
    },
    {
     "name": "stdout",
     "output_type": "stream",
     "text": [
      "# Epoch 5 / 5\n"
     ]
    },
    {
     "name": "stderr",
     "output_type": "stream",
     "text": [
      "100%|█████████████████████████████████████████| 195/195 [02:11<00:00,  1.48it/s]\n",
      "100%|█████████████████████████████████████████| 195/195 [01:30<00:00,  2.16it/s]\n"
     ]
    },
    {
     "name": "stdout",
     "output_type": "stream",
     "text": [
      "asdf\n",
      "feataure_dim: 64\n",
      "features.size(1): 64\n"
     ]
    },
    {
     "name": "stderr",
     "output_type": "stream",
     "text": [
      "100%|███████████████████████████████████████████| 49/49 [00:26<00:00,  1.88it/s]\n"
     ]
    }
   ],
   "source": [
    "set_seed()\n",
    "\n",
    "model = SFCN_FDS(dropout_p=dropout_rate, fds=fds, avg_shape=[5, 5, 5])\n",
    "# model.fc.linear_0.in_features = 384\n",
    "# model.FDS.feature_dim = 384\n",
    "model.fc.add_module('relu', nn.LeakyReLU())\n",
    "model = torch.nn.DataParallel(model, device_ids=[0, 1])\n",
    "model.cuda()\n",
    "\n",
    "# wandb.init(\n",
    "#     project='2023-warmup',\n",
    "#     config={\"model\": \"SFCN\",\n",
    "#             \"start_lr\": lr, \"epochs\": epochs, \"batch_size\": batch_size,\n",
    "#             \"cost_function\": \"mse\", \"optimizer\": optim_class.__name__, \"weight_decay\": weight_decay,\n",
    "#             \"lds\": lds, \"fds\": fds},\n",
    "#     notes='train with %d data'%(len(train_set)))\n",
    "# wandb.watch(model)\n",
    "\n",
    "optimizer = optim_class(model.parameters(), lr=lr, weight_decay=weight_decay)\n",
    "scheduler = sched_class(optimizer, mode='min', patience=5, min_lr=0)\n",
    "\n",
    "best_mae, best_mse, best_p, best_s = 100, 100, 0, 0\n",
    "\n",
    "set_seed()\n",
    "for epoch in range(epochs):\n",
    "    print('# Epoch %d / %d'%(epoch + 1, epochs))   \n",
    "\n",
    "    # train set\n",
    "    augment = get_augmentation_transform()\n",
    "    transform = tio.transforms.Compose([preprocess, augment])\n",
    "    train_set = NeckDataset(X_train, y_train, transform=transform, lds=lds)\n",
    "    train_loader = DataLoader(train_set, batch_size=batch_size, num_workers=16)\n",
    "\n",
    "    # validation set\n",
    "\n",
    "    preds_t, truths_t, mae_t, mse_t = train(model, train_loader, epoch, optimizer, lds=lds, fds=fds)\n",
    "    preds_v, truths_v, mae_v, mse_v = valid(model, test_loader)\n",
    "\n",
    "    scheduler.step(mse_v)\n",
    "    last_lr = scheduler._last_lr[0]\n",
    "\n",
    "    train_p, _ = pearsonr(preds_t, truths_t)\n",
    "    train_s, _ = spearmanr(preds_t, truths_t)\n",
    "    train_mae = mae_t / len(train_loader)\n",
    "    train_mse = mse_t / len(train_loader)\n",
    "\n",
    "    valid_p, _ = pearsonr(preds_v, truths_v)\n",
    "    valid_s, _ = spearmanr(preds_v, truths_v)\n",
    "    valid_mae = mae_v / len(test_loader)\n",
    "    valid_mse = mse_v / len(test_loader)\n",
    "\n",
    "    if best_mse > valid_mse:\n",
    "        best_mse = valid_mse\n",
    "#         torch.save(model.state_dict(), 'pretrained/230307_sfcnfds+mse_{}_w{}_slr{}_bestmse'.format(sched_class.__name__, weight_decay, lr))\n",
    "    if best_mae > valid_mae:\n",
    "        best_mae = valid_mae\n",
    "#         torch.save(model.state_dict(), 'pretrained/230307_sfcnfds+mse_{}_w{}_slr{}_bestmae'.format(sched_class.__name__, weight_decay, lr))\n",
    "    if best_p < valid_p:\n",
    "        best_p = valid_p\n",
    "    if best_s < valid_s:\n",
    "        best_s = valid_s\n",
    "\n",
    "#     wandb.log({\"train_mae\": train_mae, \"train_mse\": train_mse, \"valid_mae\": valid_mae, \"valid_mse\": valid_mse,\n",
    "#                \"train_pearson\": train_p, \"train_spearman\": train_s, \"valid_pearson\": valid_p, \"valid_spearman\": valid_s,})\n",
    "# wandb.finish()\n",
    "# torch.save(model.state_dict(), 'pretrained/230307_sfcnfds+mse_{}_w{}_slr{}_epochs{}'.format(sched_class.__name__, weight_decay, lr, epochs))\n"
   ]
  },
  {
   "cell_type": "code",
   "execution_count": 23,
   "id": "46ca5651",
   "metadata": {},
   "outputs": [],
   "source": [
    "# 바꿀 값\n",
    "weight_decay = 0.1\n",
    "lr = 1e-03\n",
    "optim_class = optim.AdamW\n",
    "sched_class = optim.lr_scheduler.ReduceLROnPlateau"
   ]
  },
  {
   "cell_type": "code",
   "execution_count": 19,
   "id": "75ecbdd9",
   "metadata": {},
   "outputs": [],
   "source": [
    "from models.vnet_encoder_reg import Regressor"
   ]
  },
  {
   "cell_type": "code",
   "execution_count": 20,
   "id": "10023937",
   "metadata": {
    "scrolled": true
   },
   "outputs": [
    {
     "data": {
      "text/plain": [
       "DataParallel(\n",
       "  (module): Regressor(\n",
       "    (encoder): Sequential(\n",
       "      (block_1): ResidualConvBlock(\n",
       "        (conv): Sequential(\n",
       "          (0): Conv3d(1, 16, kernel_size=(3, 3, 3), stride=(1, 1, 1), padding=(1, 1, 1))\n",
       "          (1): GroupNorm3D()\n",
       "          (2): ReLU(inplace=True)\n",
       "        )\n",
       "      )\n",
       "      (block_1_dw): DownsamplingConvBlock(\n",
       "        (conv): Sequential(\n",
       "          (0): Conv3d(16, 32, kernel_size=(2, 2, 2), stride=(2, 2, 2))\n",
       "          (1): GroupNorm3D()\n",
       "          (2): ReLU(inplace=True)\n",
       "        )\n",
       "      )\n",
       "    )\n",
       "    (decoder): Sequential(\n",
       "      (block_2): ResidualConvBlock(\n",
       "        (conv): Sequential(\n",
       "          (0): Conv3d(32, 32, kernel_size=(3, 3, 3), stride=(1, 1, 1), padding=(1, 1, 1))\n",
       "          (1): GroupNorm3D()\n",
       "          (2): ReLU(inplace=True)\n",
       "        )\n",
       "      )\n",
       "      (block_2_up): UpsamplingDeconvBlock(\n",
       "        (conv): Sequential(\n",
       "          (0): ConvTranspose3d(32, 16, kernel_size=(2, 2, 2), stride=(2, 2, 2))\n",
       "          (1): GroupNorm3D()\n",
       "          (2): ReLU(inplace=True)\n",
       "        )\n",
       "      )\n",
       "      (block_3): ResidualConvBlock(\n",
       "        (conv): Sequential(\n",
       "          (0): Conv3d(16, 16, kernel_size=(3, 3, 3), stride=(1, 1, 1), padding=(1, 1, 1))\n",
       "          (1): GroupNorm3D()\n",
       "          (2): ReLU(inplace=True)\n",
       "        )\n",
       "      )\n",
       "    )\n",
       "    (out_conv): Sequential(\n",
       "      (average_pool): AvgPool3d(kernel_size=3, stride=3, padding=0)\n",
       "      (dropout): Dropout(p=0.5, inplace=False)\n",
       "      (conv): Conv3d(32, 1, kernel_size=(1, 1, 1), stride=(1, 1, 1))\n",
       "    )\n",
       "    (fc): Sequential(\n",
       "      (linear_1): Linear(in_features=884736, out_features=30, bias=True)\n",
       "      (1): ReLU()\n",
       "      (linear_2): Linear(in_features=30, out_features=16, bias=True)\n",
       "      (3): ReLU()\n",
       "      (linear_3): Linear(in_features=16, out_features=4, bias=True)\n",
       "      (5): ReLU()\n",
       "      (dropout): Dropout(p=0.5, inplace=False)\n",
       "      (linear_out): Linear(in_features=4, out_features=1, bias=True)\n",
       "    )\n",
       "    (FDS): FDS()\n",
       "  )\n",
       ")"
      ]
     },
     "execution_count": 20,
     "metadata": {},
     "output_type": "execute_result"
    }
   ],
   "source": [
    "blocknum = 1\n",
    "normalization = 'groupnorm'\n",
    "img_size = 192\n",
    "out_size = 2 ** blocknum\n",
    "out_size = 192 // out_size\n",
    "num_fc = [out_size * out_size * out_size,30,16,4]\n",
    "\n",
    "model = Regressor(n_channels=1, n_classes=2, out_features=1, normalization=normalization, n_blocks=blocknum,\n",
    "                fc_features=[*num_fc], dropout_p=dropout_rate, fds=fds)\n",
    "# model.fc.linear_out.in_features = num_fc[0]\n",
    "# model.FDS.feature_dim = num_fc[0]\n",
    "model = torch.nn.DataParallel(model, device_ids=[0, 1])\n",
    "model.load_state_dict(torch.load('pretrained/seg_2304_vnetencoder-{}_{}_bestmodel'.format(blocknum, img_size)), strict=False)\n",
    "model"
   ]
  },
  {
   "cell_type": "code",
   "execution_count": 22,
   "id": "98479794",
   "metadata": {
    "scrolled": true
   },
   "outputs": [
    {
     "name": "stdout",
     "output_type": "stream",
     "text": [
      "# Epoch 1 / 5\n"
     ]
    },
    {
     "name": "stderr",
     "output_type": "stream",
     "text": [
      "100%|█████████████████████████████████████████| 195/195 [02:08<00:00,  1.52it/s]\n",
      "100%|█████████████████████████████████████████| 195/195 [01:31<00:00,  2.14it/s]\n"
     ]
    },
    {
     "name": "stdout",
     "output_type": "stream",
     "text": [
      "feature_dim: 32768\n",
      "features.size(1): 32768\n"
     ]
    },
    {
     "name": "stderr",
     "output_type": "stream",
     "text": [
      "100%|███████████████████████████████████████████| 49/49 [00:28<00:00,  1.75it/s]\n",
      "/home/jhj/.conda/envs/a6000/lib/python3.8/site-packages/scipy/stats/_stats_py.py:4068: PearsonRConstantInputWarning: An input array is constant; the correlation coefficient is not defined.\n",
      "  warnings.warn(PearsonRConstantInputWarning())\n",
      "/home/jhj/.conda/envs/a6000/lib/python3.8/site-packages/scipy/stats/_stats_py.py:4529: SpearmanRConstantInputWarning: An input array is constant; the correlation coefficient is not defined.\n",
      "  warnings.warn(SpearmanRConstantInputWarning())\n"
     ]
    },
    {
     "name": "stdout",
     "output_type": "stream",
     "text": [
      "# Epoch 2 / 5\n"
     ]
    },
    {
     "name": "stderr",
     "output_type": "stream",
     "text": [
      "100%|█████████████████████████████████████████| 195/195 [02:06<00:00,  1.54it/s]\n",
      "100%|█████████████████████████████████████████| 195/195 [01:29<00:00,  2.18it/s]\n"
     ]
    },
    {
     "name": "stdout",
     "output_type": "stream",
     "text": [
      "feature_dim: 32768\n",
      "features.size(1): 32768\n"
     ]
    },
    {
     "name": "stderr",
     "output_type": "stream",
     "text": [
      "100%|███████████████████████████████████████████| 49/49 [00:26<00:00,  1.82it/s]\n"
     ]
    },
    {
     "name": "stdout",
     "output_type": "stream",
     "text": [
      "# Epoch 3 / 5\n"
     ]
    },
    {
     "name": "stderr",
     "output_type": "stream",
     "text": [
      "100%|█████████████████████████████████████████| 195/195 [02:07<00:00,  1.52it/s]\n",
      "100%|█████████████████████████████████████████| 195/195 [01:30<00:00,  2.14it/s]\n"
     ]
    },
    {
     "name": "stdout",
     "output_type": "stream",
     "text": [
      "feature_dim: 32768\n",
      "features.size(1): 32768\n"
     ]
    },
    {
     "name": "stderr",
     "output_type": "stream",
     "text": [
      "100%|███████████████████████████████████████████| 49/49 [00:27<00:00,  1.78it/s]\n"
     ]
    },
    {
     "name": "stdout",
     "output_type": "stream",
     "text": [
      "# Epoch 4 / 5\n"
     ]
    },
    {
     "name": "stderr",
     "output_type": "stream",
     "text": [
      "100%|█████████████████████████████████████████| 195/195 [02:06<00:00,  1.54it/s]\n",
      "100%|█████████████████████████████████████████| 195/195 [01:31<00:00,  2.13it/s]\n"
     ]
    },
    {
     "name": "stdout",
     "output_type": "stream",
     "text": [
      "feature_dim: 32768\n",
      "features.size(1): 32768\n"
     ]
    },
    {
     "name": "stderr",
     "output_type": "stream",
     "text": [
      "100%|███████████████████████████████████████████| 49/49 [00:27<00:00,  1.81it/s]\n"
     ]
    },
    {
     "name": "stdout",
     "output_type": "stream",
     "text": [
      "# Epoch 5 / 5\n"
     ]
    },
    {
     "name": "stderr",
     "output_type": "stream",
     "text": [
      "100%|█████████████████████████████████████████| 195/195 [02:07<00:00,  1.53it/s]\n",
      "100%|█████████████████████████████████████████| 195/195 [01:29<00:00,  2.17it/s]\n"
     ]
    },
    {
     "name": "stdout",
     "output_type": "stream",
     "text": [
      "feature_dim: 32768\n",
      "features.size(1): 32768\n"
     ]
    },
    {
     "name": "stderr",
     "output_type": "stream",
     "text": [
      "100%|███████████████████████████████████████████| 49/49 [00:27<00:00,  1.81it/s]\n"
     ]
    }
   ],
   "source": [
    "blocknum = 1\n",
    "avg_pool = 5\n",
    "normalization = 'groupnorm'\n",
    "img_size = 192\n",
    "\n",
    "set_seed()\n",
    "\n",
    "out_size = 2 ** blocknum\n",
    "out_size = 192 // out_size\n",
    "out_size = out_size // 5\n",
    "num_fc = [out_size * out_size * out_size,30,16,4]\n",
    "model = Regressor(n_channels=1, n_classes=2, out_features=1, normalization=normalization, n_blocks=blocknum,\n",
    "                fc_features=[*num_fc], avg_shape=avg_pool, dropout_p=dropout_rate, fds=fds)\n",
    "# model.fc.linear_out.in_features = num_fc[0]\n",
    "# model.FDS.feature_dim = num_fc[0]\n",
    "model = torch.nn.DataParallel(model, device_ids=[0, 1])\n",
    "model.load_state_dict(torch.load('pretrained/seg_2304_vnetencoder-{}_{}_bestmodel'.format(blocknum, img_size)), strict=False)\n",
    "model.cuda()\n",
    "\n",
    "# wandb.init(\n",
    "#     project='2023-warmup',\n",
    "#     config={\"model\": \"SFCN\",\n",
    "#             \"start_lr\": lr, \"epochs\": epochs, \"batch_size\": batch_size,\n",
    "#             \"cost_function\": \"mse\", \"optimizer\": optim_class.__name__, \"weight_decay\": weight_decay,\n",
    "#             \"lds\": lds, \"fds\": fds},\n",
    "#     notes='train with %d data'%(len(train_set)))\n",
    "# wandb.watch(model)\n",
    "\n",
    "optimizer = optim_class(model.parameters(), lr=lr, weight_decay=weight_decay)\n",
    "scheduler = sched_class(optimizer, mode='min', patience=5, min_lr=0)\n",
    "\n",
    "best_mae, best_mse, best_p, best_s = 100, 100, 0, 0\n",
    "\n",
    "set_seed()\n",
    "for epoch in range(epochs):\n",
    "    print('# Epoch %d / %d'%(epoch + 1, epochs))   \n",
    "\n",
    "    # train set\n",
    "    augment = get_augmentation_transform()\n",
    "    transform = tio.transforms.Compose([preprocess, augment])\n",
    "    train_set = NeckDataset(X_train, y_train, transform=transform, lds=lds)\n",
    "    train_loader = DataLoader(train_set, batch_size=batch_size, num_workers=16)\n",
    "\n",
    "    # validation set\n",
    "\n",
    "    preds_t, truths_t, mae_t, mse_t = train(model, train_loader, epoch, optimizer, lds=lds, fds=fds)\n",
    "    preds_v, truths_v, mae_v, mse_v = valid(model, test_loader)\n",
    "\n",
    "    scheduler.step(mse_v)\n",
    "    last_lr = scheduler._last_lr[0]\n",
    "\n",
    "    train_p, _ = pearsonr(preds_t, truths_t)\n",
    "    train_s, _ = spearmanr(preds_t, truths_t)\n",
    "    train_mae = mae_t / len(train_loader)\n",
    "    train_mse = mse_t / len(train_loader)\n",
    "\n",
    "    valid_p, _ = pearsonr(preds_v, truths_v)\n",
    "    valid_s, _ = spearmanr(preds_v, truths_v)\n",
    "    valid_mae = mae_v / len(test_loader)\n",
    "    valid_mse = mse_v / len(test_loader)\n",
    "\n",
    "    if best_mse > valid_mse:\n",
    "        best_mse = valid_mse\n",
    "#         torch.save(model.state_dict(), 'pretrained/230307_sfcnfds+mse_{}_w{}_slr{}_bestmse'.format(sched_class.__name__, weight_decay, lr))\n",
    "    if best_mae > valid_mae:\n",
    "        best_mae = valid_mae\n",
    "#         torch.save(model.state_dict(), 'pretrained/230307_sfcnfds+mse_{}_w{}_slr{}_bestmae'.format(sched_class.__name__, weight_decay, lr))\n",
    "    if best_p < valid_p:\n",
    "        best_p = valid_p\n",
    "    if best_s < valid_s:\n",
    "        best_s = valid_s\n",
    "\n",
    "#     wandb.log({\"train_mae\": train_mae, \"train_mse\": train_mse, \"valid_mae\": valid_mae, \"valid_mse\": valid_mse,\n",
    "#                \"train_pearson\": train_p, \"train_spearman\": train_s, \"valid_pearson\": valid_p, \"valid_spearman\": valid_s,})\n",
    "# wandb.finish()\n",
    "# torch.save(model.state_dict(), 'pretrained/230307_sfcnfds+mse_{}_w{}_slr{}_epochs{}'.format(sched_class.__name__, weight_decay, lr, epochs))\n"
   ]
  },
  {
   "cell_type": "markdown",
   "id": "bf754799",
   "metadata": {},
   "source": [
    "---"
   ]
  },
  {
   "cell_type": "code",
   "execution_count": null,
   "id": "fda37713",
   "metadata": {},
   "outputs": [],
   "source": [
    "# 바꿀 값\n",
    "weight_decay = 0.01\n",
    "lr = 1e-03\n",
    "optim_class = optim.AdamW\n",
    "sched_class = optim.lr_scheduler.ReduceLROnPlateau"
   ]
  },
  {
   "cell_type": "code",
   "execution_count": null,
   "id": "43680347",
   "metadata": {
    "scrolled": true
   },
   "outputs": [],
   "source": [
    "set_seed()\n",
    "\n",
    "model = SFCN_FDS(dropout_p=dropout_rate, fds=fds)\n",
    "model.fc.add_module('relu', nn.LeakyReLU())\n",
    "model = torch.nn.DataParallel(model, device_ids=[0, 1])\n",
    "model.cuda()\n",
    "\n",
    "wandb.init(project='20230307-sfcn+lkrelu+fds',\n",
    "           config={\"model\": \"sfcn+lkrelu+fds\", \"dropout\": dropout_rate,\n",
    "                   \"weight_decay\": weight_decay, \"epochs\": epochs, \"batch_size\": batch_size,\n",
    "                   \"cost_function\": \"mse_loss\", \"optimizer\": optim_class.__name__,\n",
    "                   \"scheduler\": sched_class.__name__, \"lds\": lds, \"fds\": fds,\n",
    "                   \"start_lr\": lr})\n",
    "wandb.watch(model)\n",
    "\n",
    "optimizer = optim_class(model.parameters(), lr=lr, weight_decay=weight_decay)\n",
    "scheduler = sched_class(optimizer, mode='min', patience=5, min_lr=0)\n",
    "\n",
    "best_mae, best_mse, best_p, best_s = 100, 100, 0, 0\n",
    "\n",
    "set_seed()\n",
    "for epoch in range(epochs):\n",
    "    print('# Epoch %d / %d'%(epoch + 1, epochs))   \n",
    "\n",
    "    # train set\n",
    "    augment = get_augmentation_transform()\n",
    "    train_set = NeckDataset(X_train, y_train, transform=augment, lds=lds)\n",
    "    train_loader = DataLoader(train_set, batch_size=batch_size, num_workers=16)\n",
    "\n",
    "    # validation set\n",
    "\n",
    "    preds_t, truths_t, mae_t, mse_t = train(model, train_loader, epoch, optimizer, lds=lds, fds=fds)\n",
    "    preds_v, truths_v, mae_v, mse_v = valid(model, test_loader)\n",
    "\n",
    "    scheduler.step(mse_v)\n",
    "    last_lr = scheduler._last_lr[0]\n",
    "\n",
    "    train_p, _ = pearsonr(preds_t, truths_t)\n",
    "    train_s, _ = spearmanr(preds_t, truths_t)\n",
    "    train_mae = mae_t / len(train_loader)\n",
    "    train_mse = mse_t / len(train_loader)\n",
    "\n",
    "    valid_p, _ = pearsonr(preds_v, truths_v)\n",
    "    valid_s, _ = spearmanr(preds_v, truths_v)\n",
    "    valid_mae = mae_v / len(test_loader)\n",
    "    valid_mse = mse_v / len(test_loader)\n",
    "\n",
    "    if best_mse > valid_mse:\n",
    "        best_mse = valid_mse\n",
    "        torch.save(model.state_dict(), 'pretrained/230307_sfcnfds+mse_{}_w{}_slr{}_bestmse'.format(sched_class.__name__, weight_decay, lr))\n",
    "    if best_mae > valid_mae:\n",
    "        best_mae = valid_mae\n",
    "        torch.save(model.state_dict(), 'pretrained/230307_sfcnfds+mse_{}_w{}_slr{}_bestmae'.format(sched_class.__name__, weight_decay, lr))\n",
    "    if best_p < valid_p:\n",
    "        best_p = valid_p\n",
    "    if best_s < valid_s:\n",
    "        best_s = valid_s\n",
    "\n",
    "    wandb.log({\"train_mae\": train_mae, \"train_mse\": train_mse, \"valid_mae\": valid_mae, \"valid_mse\": valid_mse,\n",
    "               \"train_pearson\": train_p, \"train_spearman\": train_s, \"valid_pearson\": valid_p, \"valid_spearman\": valid_s,\n",
    "               \"lr\": last_lr})\n",
    "wandb.finish()\n",
    "torch.save(model.state_dict(), 'pretrained/230307_sfcnfds+mse_{}_w{}_slr{}_epochs{}'.format(sched_class.__name__, weight_decay, lr, epochs))\n"
   ]
  },
  {
   "cell_type": "markdown",
   "id": "6093ca6b",
   "metadata": {},
   "source": [
    "---"
   ]
  },
  {
   "cell_type": "code",
   "execution_count": null,
   "id": "bf714650",
   "metadata": {},
   "outputs": [],
   "source": [
    "# 바꿀 값\n",
    "weight_decay = 0.1\n",
    "lr = 1e-03\n",
    "optim_class = optim.AdamW\n",
    "sched_class = optim.lr_scheduler.ReduceLROnPlateau"
   ]
  },
  {
   "cell_type": "code",
   "execution_count": null,
   "id": "37cc4058",
   "metadata": {
    "scrolled": true
   },
   "outputs": [],
   "source": [
    "set_seed()\n",
    "\n",
    "model = SFCN_FDS(dropout_p=dropout_rate, fds=fds)\n",
    "model.fc.add_module('relu', nn.LeakyReLU())\n",
    "model = torch.nn.DataParallel(model, device_ids=[0, 1])\n",
    "model.cuda()\n",
    "\n",
    "wandb.init(project='20230307-sfcn+lkrelu+fds',\n",
    "           config={\"model\": \"sfcn+lkrelu+fds\", \"dropout\": dropout_rate,\n",
    "                   \"weight_decay\": weight_decay, \"epochs\": epochs, \"batch_size\": batch_size,\n",
    "                   \"cost_function\": \"mse_loss\", \"optimizer\": optim_class.__name__,\n",
    "                   \"scheduler\": sched_class.__name__, \"lds\": lds, \"fds\": fds,\n",
    "                   \"start_lr\": lr})\n",
    "wandb.watch(model)\n",
    "\n",
    "optimizer = optim_class(model.parameters(), lr=lr, weight_decay=weight_decay)\n",
    "scheduler = sched_class(optimizer, mode='min', patience=5, min_lr=0)\n",
    "\n",
    "best_mae, best_mse, best_p, best_s = 100, 100, 0, 0\n",
    "\n",
    "set_seed()\n",
    "for epoch in range(epochs):\n",
    "    print('# Epoch %d / %d'%(epoch + 1, epochs))   \n",
    "\n",
    "    # train set\n",
    "    augment = get_augmentation_transform()\n",
    "    train_set = NeckDataset(X_train, y_train, transform=augment, lds=lds)\n",
    "    train_loader = DataLoader(train_set, batch_size=batch_size, num_workers=16)\n",
    "\n",
    "    # validation set\n",
    "\n",
    "    preds_t, truths_t, mae_t, mse_t = train(model, train_loader, epoch, optimizer, lds=lds, fds=fds)\n",
    "    preds_v, truths_v, mae_v, mse_v = valid(model, test_loader)\n",
    "\n",
    "    scheduler.step(mse_v)\n",
    "    last_lr = scheduler._last_lr[0]\n",
    "\n",
    "    train_p, _ = pearsonr(preds_t, truths_t)\n",
    "    train_s, _ = spearmanr(preds_t, truths_t)\n",
    "    train_mae = mae_t / len(train_loader)\n",
    "    train_mse = mse_t / len(train_loader)\n",
    "\n",
    "    valid_p, _ = pearsonr(preds_v, truths_v)\n",
    "    valid_s, _ = spearmanr(preds_v, truths_v)\n",
    "    valid_mae = mae_v / len(test_loader)\n",
    "    valid_mse = mse_v / len(test_loader)\n",
    "\n",
    "    if best_mse > valid_mse:\n",
    "        best_mse = valid_mse\n",
    "        torch.save(model.state_dict(), 'pretrained/230307_sfcnfds+mse_{}_w{}_slr{}_bestmse'.format(sched_class.__name__, weight_decay, lr))\n",
    "    if best_mae > valid_mae:\n",
    "        best_mae = valid_mae\n",
    "        torch.save(model.state_dict(), 'pretrained/230307_sfcnfds+mse_{}_w{}_slr{}_bestmae'.format(sched_class.__name__, weight_decay, lr))\n",
    "    if best_p < valid_p:\n",
    "        best_p = valid_p\n",
    "    if best_s < valid_s:\n",
    "        best_s = valid_s\n",
    "\n",
    "    wandb.log({\"train_mae\": train_mae, \"train_mse\": train_mse, \"valid_mae\": valid_mae, \"valid_mse\": valid_mse,\n",
    "               \"train_pearson\": train_p, \"train_spearman\": train_s, \"valid_pearson\": valid_p, \"valid_spearman\": valid_s,\n",
    "               \"lr\": last_lr})\n",
    "wandb.finish()\n",
    "torch.save(model.state_dict(), 'pretrained/230307_sfcnfds+mse_{}_w{}_slr{}_epochs{}'.format(sched_class.__name__, weight_decay, lr, epochs))\n"
   ]
  },
  {
   "cell_type": "markdown",
   "id": "82e5ab36",
   "metadata": {},
   "source": [
    "---"
   ]
  },
  {
   "cell_type": "code",
   "execution_count": null,
   "id": "f118ee31",
   "metadata": {},
   "outputs": [],
   "source": [
    "# 바꿀 값\n",
    "weight_decay = 0.1\n",
    "lr = 1e-04\n",
    "optim_class = optim.AdamW\n",
    "sched_class = optim.lr_scheduler.ReduceLROnPlateau"
   ]
  },
  {
   "cell_type": "code",
   "execution_count": null,
   "id": "15f734b1",
   "metadata": {
    "scrolled": true
   },
   "outputs": [],
   "source": [
    "set_seed()\n",
    "\n",
    "model = SFCN_FDS(dropout_p=dropout_rate, fds=fds)\n",
    "model.fc.add_module('relu', nn.LeakyReLU())\n",
    "model = torch.nn.DataParallel(model, device_ids=[0, 1])\n",
    "model.cuda()\n",
    "\n",
    "wandb.init(project='20230307-sfcn+lkrelu+fds',\n",
    "           config={\"model\": \"sfcn+lkrelu+fds\", \"dropout\": dropout_rate,\n",
    "                   \"weight_decay\": weight_decay, \"epochs\": epochs, \"batch_size\": batch_size,\n",
    "                   \"cost_function\": \"mse_loss\", \"optimizer\": optim_class.__name__,\n",
    "                   \"scheduler\": sched_class.__name__, \"lds\": lds, \"fds\": fds,\n",
    "                   \"start_lr\": lr})\n",
    "wandb.watch(model)\n",
    "\n",
    "optimizer = optim_class(model.parameters(), lr=lr, weight_decay=weight_decay)\n",
    "scheduler = sched_class(optimizer, mode='min', patience=5, min_lr=0)\n",
    "\n",
    "best_mae, best_mse, best_p, best_s = 100, 100, 0, 0\n",
    "\n",
    "set_seed()\n",
    "for epoch in range(epochs):\n",
    "    print('# Epoch %d / %d'%(epoch + 1, epochs))   \n",
    "\n",
    "    # train set\n",
    "    augment = get_augmentation_transform()\n",
    "    train_set = NeckDataset(X_train, y_train, transform=augment, lds=lds)\n",
    "    train_loader = DataLoader(train_set, batch_size=batch_size, num_workers=16)\n",
    "\n",
    "    # validation set\n",
    "\n",
    "    preds_t, truths_t, mae_t, mse_t = train(model, train_loader, epoch, optimizer, lds=lds, fds=fds)\n",
    "    preds_v, truths_v, mae_v, mse_v = valid(model, test_loader)\n",
    "\n",
    "    scheduler.step(mse_v)\n",
    "    last_lr = scheduler._last_lr[0]\n",
    "\n",
    "    train_p, _ = pearsonr(preds_t, truths_t)\n",
    "    train_s, _ = spearmanr(preds_t, truths_t)\n",
    "    train_mae = mae_t / len(train_loader)\n",
    "    train_mse = mse_t / len(train_loader)\n",
    "\n",
    "    valid_p, _ = pearsonr(preds_v, truths_v)\n",
    "    valid_s, _ = spearmanr(preds_v, truths_v)\n",
    "    valid_mae = mae_v / len(test_loader)\n",
    "    valid_mse = mse_v / len(test_loader)\n",
    "\n",
    "    if best_mse > valid_mse:\n",
    "        best_mse = valid_mse\n",
    "        torch.save(model.state_dict(), 'pretrained/230307_sfcnfds+mse_{}_w{}_slr{}_bestmse'.format(sched_class.__name__, weight_decay, lr))\n",
    "    if best_mae > valid_mae:\n",
    "        best_mae = valid_mae\n",
    "        torch.save(model.state_dict(), 'pretrained/230307_sfcnfds+mse_{}_w{}_slr{}_bestmae'.format(sched_class.__name__, weight_decay, lr))\n",
    "    if best_p < valid_p:\n",
    "        best_p = valid_p\n",
    "    if best_s < valid_s:\n",
    "        best_s = valid_s\n",
    "\n",
    "    wandb.log({\"train_mae\": train_mae, \"train_mse\": train_mse, \"valid_mae\": valid_mae, \"valid_mse\": valid_mse,\n",
    "               \"train_pearson\": train_p, \"train_spearman\": train_s, \"valid_pearson\": valid_p, \"valid_spearman\": valid_s,\n",
    "               \"lr\": last_lr})\n",
    "wandb.finish()\n",
    "torch.save(model.state_dict(), 'pretrained/230307_sfcnfds+mse_{}_w{}_slr{}_epochs{}'.format(sched_class.__name__, weight_decay, lr, epochs))\n"
   ]
  },
  {
   "cell_type": "markdown",
   "id": "c8065241",
   "metadata": {},
   "source": [
    "---"
   ]
  },
  {
   "cell_type": "code",
   "execution_count": null,
   "id": "fa24ad68",
   "metadata": {},
   "outputs": [],
   "source": [
    "# 바꿀 값\n",
    "weight_decay = 0.1\n",
    "lr = 1e-05\n",
    "optim_class = optim.AdamW\n",
    "sched_class = optim.lr_scheduler.ReduceLROnPlateau"
   ]
  },
  {
   "cell_type": "code",
   "execution_count": null,
   "id": "dc0a50b1",
   "metadata": {
    "scrolled": true
   },
   "outputs": [],
   "source": [
    "set_seed()\n",
    "\n",
    "model = SFCN_FDS(dropout_p=dropout_rate, fds=fds)\n",
    "model.fc.add_module('relu', nn.LeakyReLU())\n",
    "model = torch.nn.DataParallel(model, device_ids=[0, 1])\n",
    "model.cuda()\n",
    "\n",
    "wandb.init(project='20230307-sfcn+lkrelu+fds',\n",
    "           config={\"model\": \"sfcn+lkrelu+fds\", \"dropout\": dropout_rate,\n",
    "                   \"weight_decay\": weight_decay, \"epochs\": epochs, \"batch_size\": batch_size,\n",
    "                   \"cost_function\": \"mse_loss\", \"optimizer\": optim_class.__name__,\n",
    "                   \"scheduler\": sched_class.__name__, \"lds\": lds, \"fds\": fds,\n",
    "                   \"start_lr\": lr})\n",
    "wandb.watch(model)\n",
    "\n",
    "optimizer = optim_class(model.parameters(), lr=lr, weight_decay=weight_decay)\n",
    "scheduler = sched_class(optimizer, mode='min', patience=5, min_lr=0)\n",
    "\n",
    "best_mae, best_mse, best_p, best_s = 100, 100, 0, 0\n",
    "\n",
    "set_seed()\n",
    "for epoch in range(epochs):\n",
    "    print('# Epoch %d / %d'%(epoch + 1, epochs))   \n",
    "\n",
    "    # train set\n",
    "    augment = get_augmentation_transform()\n",
    "    train_set = NeckDataset(X_train, y_train, transform=augment, lds=lds)\n",
    "    train_loader = DataLoader(train_set, batch_size=batch_size, num_workers=16)\n",
    "\n",
    "    # validation set\n",
    "\n",
    "    preds_t, truths_t, mae_t, mse_t = train(model, train_loader, epoch, optimizer, lds=lds, fds=fds)\n",
    "    preds_v, truths_v, mae_v, mse_v = valid(model, test_loader)\n",
    "\n",
    "    scheduler.step(mse_v)\n",
    "    last_lr = scheduler._last_lr[0]\n",
    "\n",
    "    train_p, _ = pearsonr(preds_t, truths_t)\n",
    "    train_s, _ = spearmanr(preds_t, truths_t)\n",
    "    train_mae = mae_t / len(train_loader)\n",
    "    train_mse = mse_t / len(train_loader)\n",
    "\n",
    "    valid_p, _ = pearsonr(preds_v, truths_v)\n",
    "    valid_s, _ = spearmanr(preds_v, truths_v)\n",
    "    valid_mae = mae_v / len(test_loader)\n",
    "    valid_mse = mse_v / len(test_loader)\n",
    "\n",
    "    if best_mse > valid_mse:\n",
    "        best_mse = valid_mse\n",
    "        torch.save(model.state_dict(), 'pretrained/230307_sfcnfds+mse_{}_w{}_slr{}_bestmse'.format(sched_class.__name__, weight_decay, lr))\n",
    "    if best_mae > valid_mae:\n",
    "        best_mae = valid_mae\n",
    "        torch.save(model.state_dict(), 'pretrained/230307_sfcnfds+mse_{}_w{}_slr{}_bestmae'.format(sched_class.__name__, weight_decay, lr))\n",
    "    if best_p < valid_p:\n",
    "        best_p = valid_p\n",
    "    if best_s < valid_s:\n",
    "        best_s = valid_s\n",
    "\n",
    "    wandb.log({\"train_mae\": train_mae, \"train_mse\": train_mse, \"valid_mae\": valid_mae, \"valid_mse\": valid_mse,\n",
    "               \"train_pearson\": train_p, \"train_spearman\": train_s, \"valid_pearson\": valid_p, \"valid_spearman\": valid_s,\n",
    "               \"lr\": last_lr})\n",
    "wandb.finish()\n",
    "torch.save(model.state_dict(), 'pretrained/230307_sfcnfds+mse_{}_w{}_slr{}_epochs{}'.format(sched_class.__name__, weight_decay, lr, epochs))\n"
   ]
  },
  {
   "cell_type": "markdown",
   "id": "a6dcc83e",
   "metadata": {},
   "source": [
    "---"
   ]
  },
  {
   "cell_type": "code",
   "execution_count": null,
   "id": "aa8f6361",
   "metadata": {},
   "outputs": [],
   "source": [
    "# 바꿀 값\n",
    "weight_decay = 0.1\n",
    "lr = 1e-03\n",
    "optim_class = optim.Adam\n",
    "sched_class = optim.lr_scheduler.ReduceLROnPlateau"
   ]
  },
  {
   "cell_type": "code",
   "execution_count": null,
   "id": "1d508fbf",
   "metadata": {
    "scrolled": true
   },
   "outputs": [],
   "source": [
    "set_seed()\n",
    "\n",
    "model = SFCN_FDS(dropout_p=dropout_rate, fds=fds)\n",
    "model.fc.add_module('relu', nn.LeakyReLU())\n",
    "model = torch.nn.DataParallel(model, device_ids=[0, 1])\n",
    "model.cuda()\n",
    "\n",
    "wandb.init(project='20230307-sfcn+lkrelu+fds',\n",
    "           config={\"model\": \"sfcn+lkrelu+fds\", \"dropout\": dropout_rate,\n",
    "                   \"weight_decay\": weight_decay, \"epochs\": epochs, \"batch_size\": batch_size,\n",
    "                   \"cost_function\": \"mse_loss\", \"optimizer\": optim_class.__name__,\n",
    "                   \"scheduler\": sched_class.__name__, \"lds\": lds, \"fds\": fds,\n",
    "                   \"start_lr\": lr})\n",
    "wandb.watch(model)\n",
    "\n",
    "optimizer = optim_class(model.parameters(), lr=lr, weight_decay=weight_decay)\n",
    "scheduler = sched_class(optimizer, mode='min', patience=5, min_lr=0)\n",
    "\n",
    "best_mae, best_mse, best_p, best_s = 100, 100, 0, 0\n",
    "\n",
    "set_seed()\n",
    "for epoch in range(epochs):\n",
    "    print('# Epoch %d / %d'%(epoch + 1, epochs))   \n",
    "\n",
    "    # train set\n",
    "    augment = get_augmentation_transform()\n",
    "    train_set = NeckDataset(X_train, y_train, transform=augment, lds=lds)\n",
    "    train_loader = DataLoader(train_set, batch_size=batch_size, num_workers=16)\n",
    "\n",
    "    # validation set\n",
    "\n",
    "    preds_t, truths_t, mae_t, mse_t = train(model, train_loader, epoch, optimizer, lds=lds, fds=fds)\n",
    "    preds_v, truths_v, mae_v, mse_v = valid(model, test_loader)\n",
    "\n",
    "    scheduler.step(mse_v)\n",
    "    last_lr = scheduler._last_lr[0]\n",
    "\n",
    "    train_p, _ = pearsonr(preds_t, truths_t)\n",
    "    train_s, _ = spearmanr(preds_t, truths_t)\n",
    "    train_mae = mae_t / len(train_loader)\n",
    "    train_mse = mse_t / len(train_loader)\n",
    "\n",
    "    valid_p, _ = pearsonr(preds_v, truths_v)\n",
    "    valid_s, _ = spearmanr(preds_v, truths_v)\n",
    "    valid_mae = mae_v / len(test_loader)\n",
    "    valid_mse = mse_v / len(test_loader)\n",
    "\n",
    "    if best_mse > valid_mse:\n",
    "        best_mse = valid_mse\n",
    "        torch.save(model.state_dict(), 'pretrained/230307_sfcnfds+mse+Adam_{}_w{}_slr{}_bestmse'.format(sched_class.__name__, weight_decay, lr))\n",
    "    if best_mae > valid_mae:\n",
    "        best_mae = valid_mae\n",
    "        torch.save(model.state_dict(), 'pretrained/230307_sfcnfds+mse+Adam_{}_w{}_slr{}_bestmae'.format(sched_class.__name__, weight_decay, lr))\n",
    "    if best_p < valid_p:\n",
    "        best_p = valid_p\n",
    "    if best_s < valid_s:\n",
    "        best_s = valid_s\n",
    "\n",
    "    wandb.log({\"train_mae\": train_mae, \"train_mse\": train_mse, \"valid_mae\": valid_mae, \"valid_mse\": valid_mse,\n",
    "               \"train_pearson\": train_p, \"train_spearman\": train_s, \"valid_pearson\": valid_p, \"valid_spearman\": valid_s,\n",
    "               \"lr\": last_lr})\n",
    "wandb.finish()\n",
    "torch.save(model.state_dict(), 'pretrained/230307_sfcnfds+mse+Adam_{}_w{}_slr{}_epochs{}'.format(sched_class.__name__, weight_decay, lr, epochs))\n"
   ]
  },
  {
   "cell_type": "markdown",
   "id": "4c95b835",
   "metadata": {},
   "source": [
    "---"
   ]
  },
  {
   "cell_type": "code",
   "execution_count": null,
   "id": "90aea929",
   "metadata": {},
   "outputs": [],
   "source": [
    "# 바꿀 값\n",
    "weight_decay = 0.1\n",
    "lr = 1e-03\n",
    "optim_class = optim.AdamW\n",
    "sched_class = optim.lr_scheduler.CosineAnnealingWarmRestarts"
   ]
  },
  {
   "cell_type": "code",
   "execution_count": null,
   "id": "570d3bef",
   "metadata": {
    "scrolled": true
   },
   "outputs": [],
   "source": [
    "set_seed()\n",
    "\n",
    "model = SFCN_FDS(dropout_p=dropout_rate, fds=fds)\n",
    "model.fc.add_module('relu', nn.LeakyReLU())\n",
    "model = torch.nn.DataParallel(model, device_ids=[0, 1])\n",
    "model.cuda()\n",
    "\n",
    "wandb.init(project='20230307-sfcn+lkrelu+fds',\n",
    "           config={\"model\": \"sfcn+lkrelu+fds\", \"dropout\": dropout_rate,\n",
    "                   \"weight_decay\": weight_decay, \"epochs\": epochs, \"batch_size\": batch_size,\n",
    "                   \"cost_function\": \"mse_loss\", \"optimizer\": optim_class.__name__,\n",
    "                   \"scheduler\": sched_class.__name__, \"lds\": lds, \"fds\": fds,\n",
    "                   \"start_lr\": lr})\n",
    "wandb.watch(model)\n",
    "\n",
    "optimizer = optim_class(model.parameters(), lr=lr, weight_decay=weight_decay)\n",
    "scheduler = sched_class(optimizer, T_0=10)\n",
    "\n",
    "best_mae, best_mse, best_p, best_s = 100, 100, 0, 0\n",
    "\n",
    "set_seed()\n",
    "for epoch in range(epochs):\n",
    "    print('# Epoch %d / %d'%(epoch + 1, epochs))   \n",
    "\n",
    "    # train set\n",
    "    augment = get_augmentation_transform()\n",
    "    train_set = NeckDataset(X_train, y_train, transform=augment, lds=lds)\n",
    "    train_loader = DataLoader(train_set, batch_size=batch_size, num_workers=16)\n",
    "\n",
    "    # validation set\n",
    "\n",
    "    preds_t, truths_t, mae_t, mse_t = train(model, train_loader, epoch, optimizer, lds=lds, fds=fds)\n",
    "    preds_v, truths_v, mae_v, mse_v = valid(model, test_loader)\n",
    "\n",
    "    scheduler.step()\n",
    "    last_lr = scheduler._last_lr[0]\n",
    "\n",
    "    train_p, _ = pearsonr(preds_t, truths_t)\n",
    "    train_s, _ = spearmanr(preds_t, truths_t)\n",
    "    train_mae = mae_t / len(train_loader)\n",
    "    train_mse = mse_t / len(train_loader)\n",
    "\n",
    "    valid_p, _ = pearsonr(preds_v, truths_v)\n",
    "    valid_s, _ = spearmanr(preds_v, truths_v)\n",
    "    valid_mae = mae_v / len(test_loader)\n",
    "    valid_mse = mse_v / len(test_loader)\n",
    "\n",
    "    if best_mse > valid_mse:\n",
    "        best_mse = valid_mse\n",
    "        torch.save(model.state_dict(), 'pretrained/230307_sfcnfds+mse_{}_w{}_slr{}_bestmse'.format(sched_class.__name__, weight_decay, lr))\n",
    "    if best_mae > valid_mae:\n",
    "        best_mae = valid_mae\n",
    "        torch.save(model.state_dict(), 'pretrained/230307_sfcnfds+mse_{}_w{}_slr{}_bestmae'.format(sched_class.__name__, weight_decay, lr))\n",
    "    if best_p < valid_p:\n",
    "        best_p = valid_p\n",
    "    if best_s < valid_s:\n",
    "        best_s = valid_s\n",
    "\n",
    "    wandb.log({\"train_mae\": train_mae, \"train_mse\": train_mse, \"valid_mae\": valid_mae, \"valid_mse\": valid_mse,\n",
    "               \"train_pearson\": train_p, \"train_spearman\": train_s, \"valid_pearson\": valid_p, \"valid_spearman\": valid_s,\n",
    "               \"lr\": last_lr})\n",
    "wandb.finish()\n",
    "torch.save(model.state_dict(), 'pretrained/230307_sfcnfds+mse_{}_w{}_slr{}_epochs{}'.format(sched_class.__name__, weight_decay, lr, epochs))\n"
   ]
  },
  {
   "cell_type": "markdown",
   "id": "e2b2ae8f",
   "metadata": {},
   "source": [
    "---"
   ]
  },
  {
   "cell_type": "code",
   "execution_count": null,
   "id": "f31f8af9",
   "metadata": {},
   "outputs": [],
   "source": [
    "# 바꿀 값\n",
    "weight_decay = 0.1\n",
    "lr = 1e-03\n",
    "optim_class = optim.AdamW\n",
    "sched_class = optim.lr_scheduler.CosineAnnealingLR"
   ]
  },
  {
   "cell_type": "code",
   "execution_count": null,
   "id": "b6550860",
   "metadata": {
    "scrolled": true
   },
   "outputs": [],
   "source": [
    "set_seed()\n",
    "\n",
    "model = SFCN_FDS(dropout_p=dropout_rate, fds=fds)\n",
    "model.fc.add_module('relu', nn.LeakyReLU())\n",
    "model = torch.nn.DataParallel(model, device_ids=[0, 1])\n",
    "model.cuda()\n",
    "\n",
    "wandb.init(project='20230307-sfcn+lkrelu+fds',\n",
    "           config={\"model\": \"sfcn+lkrelu+fds\", \"dropout\": dropout_rate,\n",
    "                   \"weight_decay\": weight_decay, \"epochs\": epochs, \"batch_size\": batch_size,\n",
    "                   \"cost_function\": \"mse_loss\", \"optimizer\": optim_class.__name__,\n",
    "                   \"scheduler\": sched_class.__name__, \"lds\": lds, \"fds\": fds,\n",
    "                   \"start_lr\": lr})\n",
    "wandb.watch(model)\n",
    "\n",
    "optimizer = optim_class(model.parameters(), lr=lr, weight_decay=weight_decay)\n",
    "scheduler = sched_class(optimizer, T_max=50)\n",
    "\n",
    "best_mae, best_mse, best_p, best_s = 100, 100, 0, 0\n",
    "\n",
    "set_seed()\n",
    "for epoch in range(epochs):\n",
    "    print('# Epoch %d / %d'%(epoch + 1, epochs))   \n",
    "\n",
    "    # train set\n",
    "    augment = get_augmentation_transform()\n",
    "    train_set = NeckDataset(X_train, y_train, transform=augment, lds=lds)\n",
    "    train_loader = DataLoader(train_set, batch_size=batch_size, num_workers=16)\n",
    "\n",
    "    # validation set\n",
    "\n",
    "    preds_t, truths_t, mae_t, mse_t = train(model, train_loader, epoch, optimizer, lds=lds, fds=fds)\n",
    "    preds_v, truths_v, mae_v, mse_v = valid(model, test_loader)\n",
    "\n",
    "    scheduler.step()\n",
    "    last_lr = scheduler._last_lr[0]\n",
    "\n",
    "    train_p, _ = pearsonr(preds_t, truths_t)\n",
    "    train_s, _ = spearmanr(preds_t, truths_t)\n",
    "    train_mae = mae_t / len(train_loader)\n",
    "    train_mse = mse_t / len(train_loader)\n",
    "\n",
    "    valid_p, _ = pearsonr(preds_v, truths_v)\n",
    "    valid_s, _ = spearmanr(preds_v, truths_v)\n",
    "    valid_mae = mae_v / len(test_loader)\n",
    "    valid_mse = mse_v / len(test_loader)\n",
    "\n",
    "    if best_mse > valid_mse:\n",
    "        best_mse = valid_mse\n",
    "        torch.save(model.state_dict(), 'pretrained/230307_sfcnfds+mse_{}_w{}_slr{}_bestmse'.format(sched_class.__name__, weight_decay, lr))\n",
    "    if best_mae > valid_mae:\n",
    "        best_mae = valid_mae\n",
    "        torch.save(model.state_dict(), 'pretrained/230307_sfcnfds+mse_{}_w{}_slr{}_bestmae'.format(sched_class.__name__, weight_decay, lr))\n",
    "    if best_p < valid_p:\n",
    "        best_p = valid_p\n",
    "    if best_s < valid_s:\n",
    "        best_s = valid_s\n",
    "\n",
    "    wandb.log({\"train_mae\": train_mae, \"train_mse\": train_mse, \"valid_mae\": valid_mae, \"valid_mse\": valid_mse,\n",
    "               \"train_pearson\": train_p, \"train_spearman\": train_s, \"valid_pearson\": valid_p, \"valid_spearman\": valid_s,\n",
    "               \"lr\": last_lr})\n",
    "wandb.finish()\n",
    "torch.save(model.state_dict(), 'pretrained/230307_sfcnfds+mse_{}_w{}_slr{}_epochs{}'.format(sched_class.__name__, weight_decay, lr, epochs))\n"
   ]
  },
  {
   "cell_type": "markdown",
   "id": "bf732d3e",
   "metadata": {},
   "source": [
    "---"
   ]
  },
  {
   "cell_type": "code",
   "execution_count": 15,
   "id": "b5202a73",
   "metadata": {},
   "outputs": [],
   "source": [
    "# 바꿀 값\n",
    "weight_decay = 0.1\n",
    "lr = 1e-03\n",
    "optim_class = optim.AdamW\n",
    "sched_class = optim.lr_scheduler.ReduceLROnPlateau"
   ]
  },
  {
   "cell_type": "code",
   "execution_count": null,
   "id": "bae5f87a",
   "metadata": {
    "scrolled": true
   },
   "outputs": [
    {
     "name": "stderr",
     "output_type": "stream",
     "text": [
      "ERROR:wandb.jupyter:Failed to detect the name of this notebook, you can set it manually with the WANDB_NOTEBOOK_NAME environment variable to enable code saving.\n",
      "\u001b[34m\u001b[1mwandb\u001b[0m: Currently logged in as: \u001b[33mhei-jung\u001b[0m. Use \u001b[1m`wandb login --relogin`\u001b[0m to force relogin\n"
     ]
    },
    {
     "data": {
      "text/html": [
       "wandb version 0.13.10 is available!  To upgrade, please run:\n",
       " $ pip install wandb --upgrade"
      ],
      "text/plain": [
       "<IPython.core.display.HTML object>"
      ]
     },
     "metadata": {},
     "output_type": "display_data"
    },
    {
     "data": {
      "text/html": [
       "Tracking run with wandb version 0.12.21"
      ],
      "text/plain": [
       "<IPython.core.display.HTML object>"
      ]
     },
     "metadata": {},
     "output_type": "display_data"
    },
    {
     "data": {
      "text/html": [
       "Run data is saved locally in <code>/home/jhj/Desktop/HJ_RESEARCH/snu_brain_disease/wandb/run-20230307_162617-ilyr66s0</code>"
      ],
      "text/plain": [
       "<IPython.core.display.HTML object>"
      ]
     },
     "metadata": {},
     "output_type": "display_data"
    },
    {
     "data": {
      "text/html": [
       "Syncing run <strong><a href=\"https://wandb.ai/hei-jung/20230307-sfcn%2Blkrelu%2Bfds/runs/ilyr66s0\" target=\"_blank\">pleasant-disco-1</a></strong> to <a href=\"https://wandb.ai/hei-jung/20230307-sfcn%2Blkrelu%2Bfds\" target=\"_blank\">Weights & Biases</a> (<a href=\"https://wandb.me/run\" target=\"_blank\">docs</a>)<br/>"
      ],
      "text/plain": [
       "<IPython.core.display.HTML object>"
      ]
     },
     "metadata": {},
     "output_type": "display_data"
    },
    {
     "name": "stdout",
     "output_type": "stream",
     "text": [
      "# Epoch 1 / 150\n"
     ]
    },
    {
     "name": "stderr",
     "output_type": "stream",
     "text": [
      "100%|███████████████████████████████████████████| 49/49 [00:29<00:00,  1.63it/s]\n",
      "100%|███████████████████████████████████████████| 49/49 [00:07<00:00,  6.36it/s]\n",
      "100%|███████████████████████████████████████████| 13/13 [00:02<00:00,  4.85it/s]\n"
     ]
    },
    {
     "name": "stdout",
     "output_type": "stream",
     "text": [
      "# Epoch 2 / 150\n"
     ]
    },
    {
     "name": "stderr",
     "output_type": "stream",
     "text": [
      "100%|███████████████████████████████████████████| 49/49 [00:27<00:00,  1.78it/s]\n",
      "100%|███████████████████████████████████████████| 49/49 [00:07<00:00,  6.29it/s]\n",
      "100%|███████████████████████████████████████████| 13/13 [00:02<00:00,  4.66it/s]\n"
     ]
    },
    {
     "name": "stdout",
     "output_type": "stream",
     "text": [
      "# Epoch 3 / 150\n"
     ]
    },
    {
     "name": "stderr",
     "output_type": "stream",
     "text": [
      "100%|███████████████████████████████████████████| 49/49 [00:27<00:00,  1.79it/s]\n",
      "100%|███████████████████████████████████████████| 49/49 [00:07<00:00,  6.63it/s]\n",
      "100%|███████████████████████████████████████████| 13/13 [00:02<00:00,  4.84it/s]\n"
     ]
    },
    {
     "name": "stdout",
     "output_type": "stream",
     "text": [
      "# Epoch 4 / 150\n"
     ]
    },
    {
     "name": "stderr",
     "output_type": "stream",
     "text": [
      "100%|███████████████████████████████████████████| 49/49 [00:27<00:00,  1.79it/s]\n",
      "100%|███████████████████████████████████████████| 49/49 [00:07<00:00,  6.18it/s]\n",
      "100%|███████████████████████████████████████████| 13/13 [00:02<00:00,  4.98it/s]\n"
     ]
    },
    {
     "name": "stdout",
     "output_type": "stream",
     "text": [
      "# Epoch 5 / 150\n"
     ]
    },
    {
     "name": "stderr",
     "output_type": "stream",
     "text": [
      "100%|███████████████████████████████████████████| 49/49 [00:27<00:00,  1.78it/s]\n",
      "100%|███████████████████████████████████████████| 49/49 [00:07<00:00,  6.36it/s]\n",
      "100%|███████████████████████████████████████████| 13/13 [00:02<00:00,  4.77it/s]\n"
     ]
    },
    {
     "name": "stdout",
     "output_type": "stream",
     "text": [
      "# Epoch 6 / 150\n"
     ]
    },
    {
     "name": "stderr",
     "output_type": "stream",
     "text": [
      "100%|███████████████████████████████████████████| 49/49 [00:27<00:00,  1.76it/s]\n",
      "100%|███████████████████████████████████████████| 49/49 [00:07<00:00,  6.17it/s]\n",
      "100%|███████████████████████████████████████████| 13/13 [00:02<00:00,  5.10it/s]\n"
     ]
    },
    {
     "name": "stdout",
     "output_type": "stream",
     "text": [
      "# Epoch 7 / 150\n"
     ]
    },
    {
     "name": "stderr",
     "output_type": "stream",
     "text": [
      "100%|███████████████████████████████████████████| 49/49 [00:27<00:00,  1.76it/s]\n",
      "100%|███████████████████████████████████████████| 49/49 [00:07<00:00,  6.41it/s]\n",
      "100%|███████████████████████████████████████████| 13/13 [00:02<00:00,  4.94it/s]\n"
     ]
    },
    {
     "name": "stdout",
     "output_type": "stream",
     "text": [
      "# Epoch 8 / 150\n"
     ]
    },
    {
     "name": "stderr",
     "output_type": "stream",
     "text": [
      "100%|███████████████████████████████████████████| 49/49 [00:27<00:00,  1.78it/s]\n",
      "100%|███████████████████████████████████████████| 49/49 [00:07<00:00,  6.29it/s]\n",
      "100%|███████████████████████████████████████████| 13/13 [00:02<00:00,  4.77it/s]\n"
     ]
    },
    {
     "name": "stdout",
     "output_type": "stream",
     "text": [
      "# Epoch 9 / 150\n"
     ]
    },
    {
     "name": "stderr",
     "output_type": "stream",
     "text": [
      " 61%|██████████████████████████▎                | 30/49 [00:18<00:09,  1.97it/s]"
     ]
    }
   ],
   "source": [
    "set_seed()\n",
    "\n",
    "model = SFCN_FDS(dropout_p=dropout_rate, fds=fds)\n",
    "model.fc.add_module('relu', nn.LeakyReLU())\n",
    "model = torch.nn.DataParallel(model, device_ids=[0, 1])\n",
    "model.cuda()\n",
    "\n",
    "wandb.init(project='20230307-sfcn+lkrelu+fds',\n",
    "           config={\"model\": \"sfcn+lkrelu+fds\", \"dropout\": dropout_rate,\n",
    "                   \"weight_decay\": weight_decay, \"epochs\": epochs, \"batch_size\": batch_size,\n",
    "                   \"cost_function\": \"mse_loss\", \"optimizer\": optim_class.__name__,\n",
    "                   \"scheduler\": sched_class.__name__, \"lds\": lds, \"fds\": fds,\n",
    "                   \"start_lr\": lr})\n",
    "wandb.watch(model)\n",
    "\n",
    "optimizer = optim_class(model.parameters(), lr=lr, weight_decay=weight_decay)\n",
    "scheduler = sched_class(optimizer, mode='min', patience=5, min_lr=0)\n",
    "\n",
    "best_mae, best_mse, best_p, best_s = 100, 100, 0, 0\n",
    "\n",
    "set_seed()\n",
    "for epoch in range(epochs):\n",
    "    print('# Epoch %d / %d'%(epoch + 1, epochs))   \n",
    "\n",
    "    # train set\n",
    "    augment = get_augmentation_transform()\n",
    "    train_set = NeckDataset(X_train, y_train, transform=augment, lds=lds)\n",
    "    train_loader = DataLoader(train_set, batch_size=batch_size, num_workers=16)\n",
    "\n",
    "    # validation set\n",
    "\n",
    "    preds_t, truths_t, mae_t, mse_t = train(model, train_loader, epoch, optimizer, lds=lds, fds=fds)\n",
    "    preds_v, truths_v, mae_v, mse_v = valid(model, test_loader)\n",
    "\n",
    "    scheduler.step(mse_v)\n",
    "    last_lr = scheduler._last_lr[0]\n",
    "\n",
    "    train_p, _ = pearsonr(preds_t, truths_t)\n",
    "    train_s, _ = spearmanr(preds_t, truths_t)\n",
    "    train_mae = mae_t / len(train_loader)\n",
    "    train_mse = mse_t / len(train_loader)\n",
    "\n",
    "    valid_p, _ = pearsonr(preds_v, truths_v)\n",
    "    valid_s, _ = spearmanr(preds_v, truths_v)\n",
    "    valid_mae = mae_v / len(test_loader)\n",
    "    valid_mse = mse_v / len(test_loader)\n",
    "\n",
    "    if best_mse > valid_mse:\n",
    "        best_mse = valid_mse\n",
    "        torch.save(model.state_dict(), 'pretrained/230307_sfcnfds+mse_{}_w{}_slr{}_bestmse'.format(sched_class.__name__, weight_decay, lr))\n",
    "    if best_mae > valid_mae:\n",
    "        best_mae = valid_mae\n",
    "        torch.save(model.state_dict(), 'pretrained/230307_sfcnfds+mse_{}_w{}_slr{}_bestmae'.format(sched_class.__name__, weight_decay, lr))\n",
    "    if best_p < valid_p:\n",
    "        best_p = valid_p\n",
    "    if best_s < valid_s:\n",
    "        best_s = valid_s\n",
    "\n",
    "    wandb.log({\"train_mae\": train_mae, \"train_mse\": train_mse, \"valid_mae\": valid_mae, \"valid_mse\": valid_mse,\n",
    "               \"train_pearson\": train_p, \"train_spearman\": train_s, \"valid_pearson\": valid_p, \"valid_spearman\": valid_s,\n",
    "               \"lr\": last_lr})\n",
    "wandb.finish()\n",
    "torch.save(model.state_dict(), 'pretrained/230307_sfcnfds+mse_{}_w{}_slr{}_epochs{}'.format(sched_class.__name__, weight_decay, lr, epochs))\n"
   ]
  },
  {
   "cell_type": "markdown",
   "id": "2575a768",
   "metadata": {},
   "source": [
    "---"
   ]
  },
  {
   "cell_type": "code",
   "execution_count": 15,
   "id": "908e88df",
   "metadata": {},
   "outputs": [],
   "source": [
    "weight_decay = 0.1\n",
    "lr = 1e-03\n",
    "optim_class = optim.AdamW\n",
    "sched_class = optim.lr_scheduler.ReduceLROnPlateau"
   ]
  },
  {
   "cell_type": "code",
   "execution_count": 16,
   "id": "5c43f06a",
   "metadata": {
    "scrolled": true
   },
   "outputs": [
    {
     "name": "stderr",
     "output_type": "stream",
     "text": [
      "ERROR:wandb.jupyter:Failed to detect the name of this notebook, you can set it manually with the WANDB_NOTEBOOK_NAME environment variable to enable code saving.\n",
      "\u001b[34m\u001b[1mwandb\u001b[0m: Currently logged in as: \u001b[33mhei-jung\u001b[0m. Use \u001b[1m`wandb login --relogin`\u001b[0m to force relogin\n"
     ]
    },
    {
     "data": {
      "text/html": [
       "wandb version 0.13.11 is available!  To upgrade, please run:\n",
       " $ pip install wandb --upgrade"
      ],
      "text/plain": [
       "<IPython.core.display.HTML object>"
      ]
     },
     "metadata": {},
     "output_type": "display_data"
    },
    {
     "data": {
      "text/html": [
       "Tracking run with wandb version 0.12.21"
      ],
      "text/plain": [
       "<IPython.core.display.HTML object>"
      ]
     },
     "metadata": {},
     "output_type": "display_data"
    },
    {
     "data": {
      "text/html": [
       "Run data is saved locally in <code>/home/jhj/Desktop/HJ_RESEARCH/snu_brain_disease/wandb/run-20230308_165658-1aiythds</code>"
      ],
      "text/plain": [
       "<IPython.core.display.HTML object>"
      ]
     },
     "metadata": {},
     "output_type": "display_data"
    },
    {
     "data": {
      "text/html": [
       "Syncing run <strong><a href=\"https://wandb.ai/hei-jung/20230307-sfcn%2Blkrelu%2Bfds/runs/1aiythds\" target=\"_blank\">clean-vortex-10</a></strong> to <a href=\"https://wandb.ai/hei-jung/20230307-sfcn%2Blkrelu%2Bfds\" target=\"_blank\">Weights & Biases</a> (<a href=\"https://wandb.me/run\" target=\"_blank\">docs</a>)<br/>"
      ],
      "text/plain": [
       "<IPython.core.display.HTML object>"
      ]
     },
     "metadata": {},
     "output_type": "display_data"
    },
    {
     "name": "stdout",
     "output_type": "stream",
     "text": [
      "# Epoch 1 / 150\n"
     ]
    },
    {
     "name": "stderr",
     "output_type": "stream",
     "text": [
      "100%|███████████████████████████████████████████| 49/49 [00:30<00:00,  1.63it/s]\n",
      "100%|███████████████████████████████████████████| 49/49 [00:08<00:00,  5.72it/s]\n",
      "100%|███████████████████████████████████████████| 13/13 [00:02<00:00,  4.99it/s]\n"
     ]
    },
    {
     "name": "stdout",
     "output_type": "stream",
     "text": [
      "# Epoch 2 / 150\n"
     ]
    },
    {
     "name": "stderr",
     "output_type": "stream",
     "text": [
      "100%|███████████████████████████████████████████| 49/49 [00:27<00:00,  1.76it/s]\n",
      "100%|███████████████████████████████████████████| 49/49 [00:07<00:00,  6.45it/s]\n",
      "100%|███████████████████████████████████████████| 13/13 [00:02<00:00,  5.04it/s]\n"
     ]
    },
    {
     "name": "stdout",
     "output_type": "stream",
     "text": [
      "# Epoch 3 / 150\n"
     ]
    },
    {
     "name": "stderr",
     "output_type": "stream",
     "text": [
      "100%|███████████████████████████████████████████| 49/49 [00:27<00:00,  1.81it/s]\n",
      "100%|███████████████████████████████████████████| 49/49 [00:07<00:00,  6.51it/s]\n",
      "100%|███████████████████████████████████████████| 13/13 [00:02<00:00,  4.96it/s]\n"
     ]
    },
    {
     "name": "stdout",
     "output_type": "stream",
     "text": [
      "# Epoch 4 / 150\n"
     ]
    },
    {
     "name": "stderr",
     "output_type": "stream",
     "text": [
      "100%|███████████████████████████████████████████| 49/49 [00:26<00:00,  1.82it/s]\n",
      "100%|███████████████████████████████████████████| 49/49 [00:07<00:00,  6.23it/s]\n",
      "100%|███████████████████████████████████████████| 13/13 [00:02<00:00,  5.02it/s]\n"
     ]
    },
    {
     "name": "stdout",
     "output_type": "stream",
     "text": [
      "# Epoch 5 / 150\n"
     ]
    },
    {
     "name": "stderr",
     "output_type": "stream",
     "text": [
      "100%|███████████████████████████████████████████| 49/49 [00:27<00:00,  1.79it/s]\n",
      "100%|███████████████████████████████████████████| 49/49 [00:07<00:00,  6.28it/s]\n",
      "100%|███████████████████████████████████████████| 13/13 [00:02<00:00,  4.54it/s]\n"
     ]
    },
    {
     "name": "stdout",
     "output_type": "stream",
     "text": [
      "# Epoch 6 / 150\n"
     ]
    },
    {
     "name": "stderr",
     "output_type": "stream",
     "text": [
      "100%|███████████████████████████████████████████| 49/49 [00:27<00:00,  1.76it/s]\n",
      "100%|███████████████████████████████████████████| 49/49 [00:08<00:00,  6.10it/s]\n",
      "100%|███████████████████████████████████████████| 13/13 [00:02<00:00,  4.93it/s]\n"
     ]
    },
    {
     "name": "stdout",
     "output_type": "stream",
     "text": [
      "# Epoch 7 / 150\n"
     ]
    },
    {
     "name": "stderr",
     "output_type": "stream",
     "text": [
      "100%|███████████████████████████████████████████| 49/49 [00:27<00:00,  1.77it/s]\n",
      "100%|███████████████████████████████████████████| 49/49 [00:07<00:00,  6.22it/s]\n",
      "100%|███████████████████████████████████████████| 13/13 [00:02<00:00,  4.89it/s]\n"
     ]
    },
    {
     "name": "stdout",
     "output_type": "stream",
     "text": [
      "# Epoch 8 / 150\n"
     ]
    },
    {
     "name": "stderr",
     "output_type": "stream",
     "text": [
      "100%|███████████████████████████████████████████| 49/49 [00:26<00:00,  1.83it/s]\n",
      "100%|███████████████████████████████████████████| 49/49 [00:07<00:00,  6.28it/s]\n",
      "100%|███████████████████████████████████████████| 13/13 [00:02<00:00,  5.09it/s]\n"
     ]
    },
    {
     "name": "stdout",
     "output_type": "stream",
     "text": [
      "# Epoch 9 / 150\n"
     ]
    },
    {
     "name": "stderr",
     "output_type": "stream",
     "text": [
      "100%|███████████████████████████████████████████| 49/49 [00:27<00:00,  1.75it/s]\n",
      "100%|███████████████████████████████████████████| 49/49 [00:07<00:00,  6.21it/s]\n",
      "100%|███████████████████████████████████████████| 13/13 [00:02<00:00,  4.94it/s]\n"
     ]
    },
    {
     "name": "stdout",
     "output_type": "stream",
     "text": [
      "# Epoch 10 / 150\n"
     ]
    },
    {
     "name": "stderr",
     "output_type": "stream",
     "text": [
      "100%|███████████████████████████████████████████| 49/49 [00:27<00:00,  1.80it/s]\n",
      "100%|███████████████████████████████████████████| 49/49 [00:08<00:00,  6.04it/s]\n",
      "100%|███████████████████████████████████████████| 13/13 [00:02<00:00,  4.48it/s]\n"
     ]
    },
    {
     "name": "stdout",
     "output_type": "stream",
     "text": [
      "# Epoch 11 / 150\n"
     ]
    },
    {
     "name": "stderr",
     "output_type": "stream",
     "text": [
      "100%|███████████████████████████████████████████| 49/49 [00:27<00:00,  1.76it/s]\n",
      "100%|███████████████████████████████████████████| 49/49 [00:08<00:00,  6.00it/s]\n",
      "100%|███████████████████████████████████████████| 13/13 [00:03<00:00,  4.14it/s]\n"
     ]
    },
    {
     "name": "stdout",
     "output_type": "stream",
     "text": [
      "# Epoch 12 / 150\n"
     ]
    },
    {
     "name": "stderr",
     "output_type": "stream",
     "text": [
      "100%|███████████████████████████████████████████| 49/49 [00:28<00:00,  1.74it/s]\n",
      "100%|███████████████████████████████████████████| 49/49 [00:08<00:00,  5.86it/s]\n",
      "100%|███████████████████████████████████████████| 13/13 [00:02<00:00,  4.74it/s]\n"
     ]
    },
    {
     "name": "stdout",
     "output_type": "stream",
     "text": [
      "# Epoch 13 / 150\n"
     ]
    },
    {
     "name": "stderr",
     "output_type": "stream",
     "text": [
      "100%|███████████████████████████████████████████| 49/49 [00:28<00:00,  1.69it/s]\n",
      "100%|███████████████████████████████████████████| 49/49 [00:08<00:00,  6.09it/s]\n",
      "100%|███████████████████████████████████████████| 13/13 [00:02<00:00,  4.84it/s]\n"
     ]
    },
    {
     "name": "stdout",
     "output_type": "stream",
     "text": [
      "# Epoch 14 / 150\n"
     ]
    },
    {
     "name": "stderr",
     "output_type": "stream",
     "text": [
      "100%|███████████████████████████████████████████| 49/49 [00:27<00:00,  1.79it/s]\n",
      "100%|███████████████████████████████████████████| 49/49 [00:08<00:00,  5.88it/s]\n",
      "100%|███████████████████████████████████████████| 13/13 [00:03<00:00,  4.23it/s]\n"
     ]
    },
    {
     "name": "stdout",
     "output_type": "stream",
     "text": [
      "# Epoch 15 / 150\n"
     ]
    },
    {
     "name": "stderr",
     "output_type": "stream",
     "text": [
      "100%|███████████████████████████████████████████| 49/49 [00:27<00:00,  1.81it/s]\n",
      "100%|███████████████████████████████████████████| 49/49 [00:07<00:00,  6.28it/s]\n",
      "100%|███████████████████████████████████████████| 13/13 [00:02<00:00,  4.99it/s]\n"
     ]
    },
    {
     "name": "stdout",
     "output_type": "stream",
     "text": [
      "# Epoch 16 / 150\n"
     ]
    },
    {
     "name": "stderr",
     "output_type": "stream",
     "text": [
      "100%|███████████████████████████████████████████| 49/49 [00:28<00:00,  1.75it/s]\n",
      "100%|███████████████████████████████████████████| 49/49 [00:08<00:00,  5.93it/s]\n",
      "100%|███████████████████████████████████████████| 13/13 [00:02<00:00,  4.83it/s]\n"
     ]
    },
    {
     "name": "stdout",
     "output_type": "stream",
     "text": [
      "# Epoch 17 / 150\n"
     ]
    },
    {
     "name": "stderr",
     "output_type": "stream",
     "text": [
      "100%|███████████████████████████████████████████| 49/49 [00:27<00:00,  1.80it/s]\n",
      "100%|███████████████████████████████████████████| 49/49 [00:08<00:00,  6.02it/s]\n",
      "100%|███████████████████████████████████████████| 13/13 [00:02<00:00,  4.80it/s]\n"
     ]
    },
    {
     "name": "stdout",
     "output_type": "stream",
     "text": [
      "# Epoch 18 / 150\n"
     ]
    },
    {
     "name": "stderr",
     "output_type": "stream",
     "text": [
      "100%|███████████████████████████████████████████| 49/49 [00:28<00:00,  1.74it/s]\n",
      "100%|███████████████████████████████████████████| 49/49 [00:09<00:00,  5.41it/s]\n",
      "100%|███████████████████████████████████████████| 13/13 [00:02<00:00,  4.60it/s]\n"
     ]
    },
    {
     "name": "stdout",
     "output_type": "stream",
     "text": [
      "# Epoch 19 / 150\n"
     ]
    },
    {
     "name": "stderr",
     "output_type": "stream",
     "text": [
      "100%|███████████████████████████████████████████| 49/49 [00:28<00:00,  1.75it/s]\n",
      "100%|███████████████████████████████████████████| 49/49 [00:08<00:00,  5.94it/s]\n",
      "100%|███████████████████████████████████████████| 13/13 [00:02<00:00,  4.43it/s]\n"
     ]
    },
    {
     "name": "stdout",
     "output_type": "stream",
     "text": [
      "# Epoch 20 / 150\n"
     ]
    },
    {
     "name": "stderr",
     "output_type": "stream",
     "text": [
      "100%|███████████████████████████████████████████| 49/49 [00:28<00:00,  1.71it/s]\n",
      "100%|███████████████████████████████████████████| 49/49 [00:07<00:00,  6.31it/s]\n",
      "100%|███████████████████████████████████████████| 13/13 [00:02<00:00,  4.89it/s]\n"
     ]
    },
    {
     "name": "stdout",
     "output_type": "stream",
     "text": [
      "# Epoch 21 / 150\n"
     ]
    },
    {
     "name": "stderr",
     "output_type": "stream",
     "text": [
      "100%|███████████████████████████████████████████| 49/49 [00:28<00:00,  1.71it/s]\n",
      "100%|███████████████████████████████████████████| 49/49 [00:08<00:00,  5.55it/s]\n",
      "100%|███████████████████████████████████████████| 13/13 [00:03<00:00,  4.23it/s]\n"
     ]
    },
    {
     "name": "stdout",
     "output_type": "stream",
     "text": [
      "# Epoch 22 / 150\n"
     ]
    },
    {
     "name": "stderr",
     "output_type": "stream",
     "text": [
      "100%|███████████████████████████████████████████| 49/49 [00:28<00:00,  1.72it/s]\n",
      "100%|███████████████████████████████████████████| 49/49 [00:08<00:00,  5.93it/s]\n",
      "100%|███████████████████████████████████████████| 13/13 [00:02<00:00,  4.45it/s]\n"
     ]
    },
    {
     "name": "stdout",
     "output_type": "stream",
     "text": [
      "# Epoch 23 / 150\n"
     ]
    },
    {
     "name": "stderr",
     "output_type": "stream",
     "text": [
      "100%|███████████████████████████████████████████| 49/49 [00:27<00:00,  1.76it/s]\n",
      "100%|███████████████████████████████████████████| 49/49 [00:07<00:00,  6.16it/s]\n",
      "100%|███████████████████████████████████████████| 13/13 [00:03<00:00,  4.20it/s]\n"
     ]
    },
    {
     "name": "stdout",
     "output_type": "stream",
     "text": [
      "# Epoch 24 / 150\n"
     ]
    },
    {
     "name": "stderr",
     "output_type": "stream",
     "text": [
      "100%|███████████████████████████████████████████| 49/49 [00:28<00:00,  1.70it/s]\n",
      "100%|███████████████████████████████████████████| 49/49 [00:08<00:00,  5.86it/s]\n",
      "100%|███████████████████████████████████████████| 13/13 [00:02<00:00,  4.41it/s]\n"
     ]
    },
    {
     "name": "stdout",
     "output_type": "stream",
     "text": [
      "# Epoch 25 / 150\n"
     ]
    },
    {
     "name": "stderr",
     "output_type": "stream",
     "text": [
      "100%|███████████████████████████████████████████| 49/49 [00:28<00:00,  1.75it/s]\n",
      "100%|███████████████████████████████████████████| 49/49 [00:07<00:00,  6.33it/s]\n",
      "100%|███████████████████████████████████████████| 13/13 [00:02<00:00,  4.36it/s]\n"
     ]
    },
    {
     "name": "stdout",
     "output_type": "stream",
     "text": [
      "# Epoch 26 / 150\n"
     ]
    },
    {
     "name": "stderr",
     "output_type": "stream",
     "text": [
      "100%|███████████████████████████████████████████| 49/49 [00:27<00:00,  1.76it/s]\n",
      "100%|███████████████████████████████████████████| 49/49 [00:08<00:00,  5.89it/s]\n",
      "100%|███████████████████████████████████████████| 13/13 [00:02<00:00,  4.42it/s]\n"
     ]
    },
    {
     "name": "stdout",
     "output_type": "stream",
     "text": [
      "# Epoch 27 / 150\n"
     ]
    },
    {
     "name": "stderr",
     "output_type": "stream",
     "text": [
      "100%|███████████████████████████████████████████| 49/49 [00:28<00:00,  1.73it/s]\n",
      "100%|███████████████████████████████████████████| 49/49 [00:08<00:00,  5.97it/s]\n",
      "100%|███████████████████████████████████████████| 13/13 [00:03<00:00,  4.27it/s]\n"
     ]
    },
    {
     "name": "stdout",
     "output_type": "stream",
     "text": [
      "# Epoch 28 / 150\n"
     ]
    },
    {
     "name": "stderr",
     "output_type": "stream",
     "text": [
      "100%|███████████████████████████████████████████| 49/49 [00:28<00:00,  1.74it/s]\n",
      "100%|███████████████████████████████████████████| 49/49 [00:08<00:00,  6.09it/s]\n",
      "100%|███████████████████████████████████████████| 13/13 [00:02<00:00,  4.54it/s]\n"
     ]
    },
    {
     "name": "stdout",
     "output_type": "stream",
     "text": [
      "# Epoch 29 / 150\n"
     ]
    },
    {
     "name": "stderr",
     "output_type": "stream",
     "text": [
      "100%|███████████████████████████████████████████| 49/49 [00:27<00:00,  1.79it/s]\n",
      "100%|███████████████████████████████████████████| 49/49 [00:08<00:00,  5.95it/s]\n",
      "100%|███████████████████████████████████████████| 13/13 [00:03<00:00,  4.25it/s]\n"
     ]
    },
    {
     "name": "stdout",
     "output_type": "stream",
     "text": [
      "# Epoch 30 / 150\n"
     ]
    },
    {
     "name": "stderr",
     "output_type": "stream",
     "text": [
      "100%|███████████████████████████████████████████| 49/49 [00:28<00:00,  1.73it/s]\n",
      "100%|███████████████████████████████████████████| 49/49 [00:08<00:00,  5.87it/s]\n",
      "100%|███████████████████████████████████████████| 13/13 [00:02<00:00,  4.58it/s]\n"
     ]
    },
    {
     "name": "stdout",
     "output_type": "stream",
     "text": [
      "# Epoch 31 / 150\n"
     ]
    },
    {
     "name": "stderr",
     "output_type": "stream",
     "text": [
      "100%|███████████████████████████████████████████| 49/49 [00:28<00:00,  1.70it/s]\n",
      "100%|███████████████████████████████████████████| 49/49 [00:08<00:00,  5.90it/s]\n",
      "100%|███████████████████████████████████████████| 13/13 [00:02<00:00,  4.95it/s]\n"
     ]
    },
    {
     "name": "stdout",
     "output_type": "stream",
     "text": [
      "# Epoch 32 / 150\n"
     ]
    },
    {
     "name": "stderr",
     "output_type": "stream",
     "text": [
      "100%|███████████████████████████████████████████| 49/49 [00:27<00:00,  1.76it/s]\n",
      "100%|███████████████████████████████████████████| 49/49 [00:08<00:00,  5.53it/s]\n",
      "100%|███████████████████████████████████████████| 13/13 [00:02<00:00,  4.48it/s]\n"
     ]
    },
    {
     "name": "stdout",
     "output_type": "stream",
     "text": [
      "# Epoch 33 / 150\n"
     ]
    },
    {
     "name": "stderr",
     "output_type": "stream",
     "text": [
      "100%|███████████████████████████████████████████| 49/49 [00:27<00:00,  1.78it/s]\n",
      "100%|███████████████████████████████████████████| 49/49 [00:07<00:00,  6.16it/s]\n",
      "100%|███████████████████████████████████████████| 13/13 [00:03<00:00,  4.31it/s]\n"
     ]
    },
    {
     "name": "stdout",
     "output_type": "stream",
     "text": [
      "# Epoch 34 / 150\n"
     ]
    },
    {
     "name": "stderr",
     "output_type": "stream",
     "text": [
      "100%|███████████████████████████████████████████| 49/49 [00:28<00:00,  1.73it/s]\n",
      "100%|███████████████████████████████████████████| 49/49 [00:08<00:00,  6.06it/s]\n",
      "100%|███████████████████████████████████████████| 13/13 [00:02<00:00,  4.62it/s]\n"
     ]
    },
    {
     "name": "stdout",
     "output_type": "stream",
     "text": [
      "# Epoch 35 / 150\n"
     ]
    },
    {
     "name": "stderr",
     "output_type": "stream",
     "text": [
      "100%|███████████████████████████████████████████| 49/49 [00:28<00:00,  1.74it/s]\n",
      "100%|███████████████████████████████████████████| 49/49 [00:07<00:00,  6.38it/s]\n",
      "100%|███████████████████████████████████████████| 13/13 [00:02<00:00,  4.85it/s]\n"
     ]
    },
    {
     "name": "stdout",
     "output_type": "stream",
     "text": [
      "# Epoch 36 / 150\n"
     ]
    },
    {
     "name": "stderr",
     "output_type": "stream",
     "text": [
      "100%|███████████████████████████████████████████| 49/49 [00:28<00:00,  1.72it/s]\n",
      "100%|███████████████████████████████████████████| 49/49 [00:08<00:00,  5.97it/s]\n",
      "100%|███████████████████████████████████████████| 13/13 [00:02<00:00,  4.73it/s]\n"
     ]
    },
    {
     "name": "stdout",
     "output_type": "stream",
     "text": [
      "# Epoch 37 / 150\n"
     ]
    },
    {
     "name": "stderr",
     "output_type": "stream",
     "text": [
      "100%|███████████████████████████████████████████| 49/49 [00:27<00:00,  1.75it/s]\n",
      "100%|███████████████████████████████████████████| 49/49 [00:08<00:00,  5.75it/s]\n",
      "100%|███████████████████████████████████████████| 13/13 [00:02<00:00,  4.50it/s]\n"
     ]
    },
    {
     "name": "stdout",
     "output_type": "stream",
     "text": [
      "# Epoch 38 / 150\n"
     ]
    },
    {
     "name": "stderr",
     "output_type": "stream",
     "text": [
      "100%|███████████████████████████████████████████| 49/49 [00:27<00:00,  1.75it/s]\n",
      "100%|███████████████████████████████████████████| 49/49 [00:08<00:00,  6.02it/s]\n",
      "100%|███████████████████████████████████████████| 13/13 [00:02<00:00,  4.57it/s]\n"
     ]
    },
    {
     "name": "stdout",
     "output_type": "stream",
     "text": [
      "# Epoch 39 / 150\n"
     ]
    },
    {
     "name": "stderr",
     "output_type": "stream",
     "text": [
      "100%|███████████████████████████████████████████| 49/49 [00:28<00:00,  1.73it/s]\n",
      "100%|███████████████████████████████████████████| 49/49 [00:08<00:00,  5.75it/s]\n",
      "100%|███████████████████████████████████████████| 13/13 [00:02<00:00,  4.46it/s]\n"
     ]
    },
    {
     "name": "stdout",
     "output_type": "stream",
     "text": [
      "# Epoch 40 / 150\n"
     ]
    },
    {
     "name": "stderr",
     "output_type": "stream",
     "text": [
      "100%|███████████████████████████████████████████| 49/49 [00:27<00:00,  1.78it/s]\n",
      "100%|███████████████████████████████████████████| 49/49 [00:08<00:00,  5.80it/s]\n",
      "100%|███████████████████████████████████████████| 13/13 [00:02<00:00,  4.46it/s]\n"
     ]
    },
    {
     "name": "stdout",
     "output_type": "stream",
     "text": [
      "# Epoch 41 / 150\n"
     ]
    },
    {
     "name": "stderr",
     "output_type": "stream",
     "text": [
      "100%|███████████████████████████████████████████| 49/49 [00:27<00:00,  1.77it/s]\n",
      "100%|███████████████████████████████████████████| 49/49 [00:08<00:00,  5.90it/s]\n",
      "100%|███████████████████████████████████████████| 13/13 [00:02<00:00,  4.42it/s]\n"
     ]
    },
    {
     "name": "stdout",
     "output_type": "stream",
     "text": [
      "# Epoch 42 / 150\n"
     ]
    },
    {
     "name": "stderr",
     "output_type": "stream",
     "text": [
      "100%|███████████████████████████████████████████| 49/49 [00:27<00:00,  1.76it/s]\n",
      "100%|███████████████████████████████████████████| 49/49 [00:08<00:00,  5.90it/s]\n",
      "100%|███████████████████████████████████████████| 13/13 [00:03<00:00,  4.30it/s]\n"
     ]
    },
    {
     "name": "stdout",
     "output_type": "stream",
     "text": [
      "# Epoch 43 / 150\n"
     ]
    },
    {
     "name": "stderr",
     "output_type": "stream",
     "text": [
      "100%|███████████████████████████████████████████| 49/49 [00:28<00:00,  1.74it/s]\n",
      "100%|███████████████████████████████████████████| 49/49 [00:08<00:00,  5.82it/s]\n",
      "100%|███████████████████████████████████████████| 13/13 [00:02<00:00,  4.79it/s]\n"
     ]
    },
    {
     "name": "stdout",
     "output_type": "stream",
     "text": [
      "# Epoch 44 / 150\n"
     ]
    },
    {
     "name": "stderr",
     "output_type": "stream",
     "text": [
      "100%|███████████████████████████████████████████| 49/49 [00:27<00:00,  1.80it/s]\n",
      "100%|███████████████████████████████████████████| 49/49 [00:08<00:00,  5.71it/s]\n",
      "100%|███████████████████████████████████████████| 13/13 [00:03<00:00,  4.22it/s]\n"
     ]
    },
    {
     "name": "stdout",
     "output_type": "stream",
     "text": [
      "# Epoch 45 / 150\n"
     ]
    },
    {
     "name": "stderr",
     "output_type": "stream",
     "text": [
      "100%|███████████████████████████████████████████| 49/49 [00:28<00:00,  1.72it/s]\n",
      "100%|███████████████████████████████████████████| 49/49 [00:08<00:00,  5.89it/s]\n",
      "100%|███████████████████████████████████████████| 13/13 [00:02<00:00,  5.08it/s]\n"
     ]
    },
    {
     "name": "stdout",
     "output_type": "stream",
     "text": [
      "# Epoch 46 / 150\n"
     ]
    },
    {
     "name": "stderr",
     "output_type": "stream",
     "text": [
      "100%|███████████████████████████████████████████| 49/49 [00:27<00:00,  1.79it/s]\n",
      "100%|███████████████████████████████████████████| 49/49 [00:08<00:00,  5.95it/s]\n",
      "100%|███████████████████████████████████████████| 13/13 [00:02<00:00,  4.72it/s]\n"
     ]
    },
    {
     "name": "stdout",
     "output_type": "stream",
     "text": [
      "# Epoch 47 / 150\n"
     ]
    },
    {
     "name": "stderr",
     "output_type": "stream",
     "text": [
      "100%|███████████████████████████████████████████| 49/49 [00:28<00:00,  1.74it/s]\n",
      "100%|███████████████████████████████████████████| 49/49 [00:08<00:00,  5.97it/s]\n",
      "100%|███████████████████████████████████████████| 13/13 [00:02<00:00,  4.49it/s]\n"
     ]
    },
    {
     "name": "stdout",
     "output_type": "stream",
     "text": [
      "# Epoch 48 / 150\n"
     ]
    },
    {
     "name": "stderr",
     "output_type": "stream",
     "text": [
      "100%|███████████████████████████████████████████| 49/49 [00:27<00:00,  1.75it/s]\n",
      "100%|███████████████████████████████████████████| 49/49 [00:08<00:00,  6.06it/s]\n",
      "100%|███████████████████████████████████████████| 13/13 [00:02<00:00,  4.68it/s]\n"
     ]
    },
    {
     "name": "stdout",
     "output_type": "stream",
     "text": [
      "# Epoch 49 / 150\n"
     ]
    },
    {
     "name": "stderr",
     "output_type": "stream",
     "text": [
      "100%|███████████████████████████████████████████| 49/49 [00:28<00:00,  1.74it/s]\n",
      "100%|███████████████████████████████████████████| 49/49 [00:08<00:00,  5.86it/s]\n",
      "100%|███████████████████████████████████████████| 13/13 [00:02<00:00,  4.48it/s]\n"
     ]
    },
    {
     "name": "stdout",
     "output_type": "stream",
     "text": [
      "# Epoch 50 / 150\n"
     ]
    },
    {
     "name": "stderr",
     "output_type": "stream",
     "text": [
      "100%|███████████████████████████████████████████| 49/49 [00:28<00:00,  1.73it/s]\n",
      "100%|███████████████████████████████████████████| 49/49 [00:08<00:00,  5.85it/s]\n",
      "100%|███████████████████████████████████████████| 13/13 [00:02<00:00,  4.36it/s]\n"
     ]
    },
    {
     "name": "stdout",
     "output_type": "stream",
     "text": [
      "# Epoch 51 / 150\n"
     ]
    },
    {
     "name": "stderr",
     "output_type": "stream",
     "text": [
      "100%|███████████████████████████████████████████| 49/49 [00:27<00:00,  1.78it/s]\n",
      "100%|███████████████████████████████████████████| 49/49 [00:08<00:00,  5.93it/s]\n",
      "100%|███████████████████████████████████████████| 13/13 [00:02<00:00,  4.82it/s]\n"
     ]
    },
    {
     "name": "stdout",
     "output_type": "stream",
     "text": [
      "# Epoch 52 / 150\n"
     ]
    },
    {
     "name": "stderr",
     "output_type": "stream",
     "text": [
      "100%|███████████████████████████████████████████| 49/49 [00:27<00:00,  1.78it/s]\n",
      "100%|███████████████████████████████████████████| 49/49 [00:07<00:00,  6.13it/s]\n",
      "100%|███████████████████████████████████████████| 13/13 [00:03<00:00,  3.93it/s]\n"
     ]
    },
    {
     "name": "stdout",
     "output_type": "stream",
     "text": [
      "# Epoch 53 / 150\n"
     ]
    },
    {
     "name": "stderr",
     "output_type": "stream",
     "text": [
      "100%|███████████████████████████████████████████| 49/49 [00:28<00:00,  1.70it/s]\n",
      "100%|███████████████████████████████████████████| 49/49 [00:08<00:00,  5.52it/s]\n",
      "100%|███████████████████████████████████████████| 13/13 [00:02<00:00,  4.48it/s]\n"
     ]
    },
    {
     "name": "stdout",
     "output_type": "stream",
     "text": [
      "# Epoch 54 / 150\n"
     ]
    },
    {
     "name": "stderr",
     "output_type": "stream",
     "text": [
      "100%|███████████████████████████████████████████| 49/49 [00:28<00:00,  1.74it/s]\n",
      "100%|███████████████████████████████████████████| 49/49 [00:08<00:00,  5.47it/s]\n",
      "100%|███████████████████████████████████████████| 13/13 [00:02<00:00,  4.42it/s]\n"
     ]
    },
    {
     "name": "stdout",
     "output_type": "stream",
     "text": [
      "# Epoch 55 / 150\n"
     ]
    },
    {
     "name": "stderr",
     "output_type": "stream",
     "text": [
      "100%|███████████████████████████████████████████| 49/49 [00:28<00:00,  1.73it/s]\n",
      "100%|███████████████████████████████████████████| 49/49 [00:08<00:00,  5.73it/s]\n",
      "100%|███████████████████████████████████████████| 13/13 [00:02<00:00,  4.37it/s]\n"
     ]
    },
    {
     "name": "stdout",
     "output_type": "stream",
     "text": [
      "# Epoch 56 / 150\n"
     ]
    },
    {
     "name": "stderr",
     "output_type": "stream",
     "text": [
      "100%|███████████████████████████████████████████| 49/49 [00:28<00:00,  1.74it/s]\n",
      "100%|███████████████████████████████████████████| 49/49 [00:08<00:00,  5.97it/s]\n",
      "100%|███████████████████████████████████████████| 13/13 [00:02<00:00,  4.83it/s]\n"
     ]
    },
    {
     "name": "stdout",
     "output_type": "stream",
     "text": [
      "# Epoch 57 / 150\n"
     ]
    },
    {
     "name": "stderr",
     "output_type": "stream",
     "text": [
      "100%|███████████████████████████████████████████| 49/49 [00:28<00:00,  1.74it/s]\n",
      "100%|███████████████████████████████████████████| 49/49 [00:08<00:00,  5.77it/s]\n",
      "100%|███████████████████████████████████████████| 13/13 [00:02<00:00,  4.66it/s]\n"
     ]
    },
    {
     "name": "stdout",
     "output_type": "stream",
     "text": [
      "# Epoch 58 / 150\n"
     ]
    },
    {
     "name": "stderr",
     "output_type": "stream",
     "text": [
      "100%|███████████████████████████████████████████| 49/49 [00:28<00:00,  1.72it/s]\n",
      "100%|███████████████████████████████████████████| 49/49 [00:08<00:00,  5.74it/s]\n",
      "100%|███████████████████████████████████████████| 13/13 [00:02<00:00,  5.11it/s]\n"
     ]
    },
    {
     "name": "stdout",
     "output_type": "stream",
     "text": [
      "# Epoch 59 / 150\n"
     ]
    },
    {
     "name": "stderr",
     "output_type": "stream",
     "text": [
      "100%|███████████████████████████████████████████| 49/49 [00:28<00:00,  1.73it/s]\n",
      "100%|███████████████████████████████████████████| 49/49 [00:07<00:00,  6.34it/s]\n",
      "100%|███████████████████████████████████████████| 13/13 [00:02<00:00,  5.05it/s]\n"
     ]
    },
    {
     "name": "stdout",
     "output_type": "stream",
     "text": [
      "# Epoch 60 / 150\n"
     ]
    },
    {
     "name": "stderr",
     "output_type": "stream",
     "text": [
      "100%|███████████████████████████████████████████| 49/49 [00:27<00:00,  1.75it/s]\n",
      "100%|███████████████████████████████████████████| 49/49 [00:08<00:00,  6.08it/s]\n",
      "100%|███████████████████████████████████████████| 13/13 [00:02<00:00,  4.47it/s]\n"
     ]
    },
    {
     "name": "stdout",
     "output_type": "stream",
     "text": [
      "# Epoch 61 / 150\n"
     ]
    },
    {
     "name": "stderr",
     "output_type": "stream",
     "text": [
      "100%|███████████████████████████████████████████| 49/49 [00:28<00:00,  1.73it/s]\n",
      "100%|███████████████████████████████████████████| 49/49 [00:07<00:00,  6.49it/s]\n",
      "100%|███████████████████████████████████████████| 13/13 [00:02<00:00,  4.89it/s]\n"
     ]
    },
    {
     "name": "stdout",
     "output_type": "stream",
     "text": [
      "# Epoch 62 / 150\n"
     ]
    },
    {
     "name": "stderr",
     "output_type": "stream",
     "text": [
      "100%|███████████████████████████████████████████| 49/49 [00:28<00:00,  1.72it/s]\n",
      "100%|███████████████████████████████████████████| 49/49 [00:07<00:00,  6.52it/s]\n",
      "100%|███████████████████████████████████████████| 13/13 [00:03<00:00,  4.27it/s]\n"
     ]
    },
    {
     "name": "stdout",
     "output_type": "stream",
     "text": [
      "# Epoch 63 / 150\n"
     ]
    },
    {
     "name": "stderr",
     "output_type": "stream",
     "text": [
      "100%|███████████████████████████████████████████| 49/49 [00:27<00:00,  1.81it/s]\n",
      "100%|███████████████████████████████████████████| 49/49 [00:07<00:00,  6.21it/s]\n",
      "100%|███████████████████████████████████████████| 13/13 [00:02<00:00,  4.68it/s]\n"
     ]
    },
    {
     "name": "stdout",
     "output_type": "stream",
     "text": [
      "# Epoch 64 / 150\n"
     ]
    },
    {
     "name": "stderr",
     "output_type": "stream",
     "text": [
      "100%|███████████████████████████████████████████| 49/49 [00:27<00:00,  1.81it/s]\n",
      "100%|███████████████████████████████████████████| 49/49 [00:07<00:00,  6.20it/s]\n",
      "100%|███████████████████████████████████████████| 13/13 [00:02<00:00,  4.86it/s]\n"
     ]
    },
    {
     "name": "stdout",
     "output_type": "stream",
     "text": [
      "# Epoch 65 / 150\n"
     ]
    },
    {
     "name": "stderr",
     "output_type": "stream",
     "text": [
      "100%|███████████████████████████████████████████| 49/49 [00:27<00:00,  1.78it/s]\n",
      "100%|███████████████████████████████████████████| 49/49 [00:07<00:00,  6.35it/s]\n",
      "100%|███████████████████████████████████████████| 13/13 [00:02<00:00,  4.59it/s]\n"
     ]
    },
    {
     "name": "stdout",
     "output_type": "stream",
     "text": [
      "# Epoch 66 / 150\n"
     ]
    },
    {
     "name": "stderr",
     "output_type": "stream",
     "text": [
      "100%|███████████████████████████████████████████| 49/49 [00:27<00:00,  1.77it/s]\n",
      "100%|███████████████████████████████████████████| 49/49 [00:08<00:00,  5.78it/s]\n",
      "100%|███████████████████████████████████████████| 13/13 [00:02<00:00,  4.99it/s]\n"
     ]
    },
    {
     "name": "stdout",
     "output_type": "stream",
     "text": [
      "# Epoch 67 / 150\n"
     ]
    },
    {
     "name": "stderr",
     "output_type": "stream",
     "text": [
      "100%|███████████████████████████████████████████| 49/49 [00:27<00:00,  1.75it/s]\n",
      "100%|███████████████████████████████████████████| 49/49 [00:07<00:00,  6.16it/s]\n",
      "100%|███████████████████████████████████████████| 13/13 [00:02<00:00,  4.93it/s]\n"
     ]
    },
    {
     "name": "stdout",
     "output_type": "stream",
     "text": [
      "# Epoch 68 / 150\n"
     ]
    },
    {
     "name": "stderr",
     "output_type": "stream",
     "text": [
      "100%|███████████████████████████████████████████| 49/49 [00:27<00:00,  1.79it/s]\n",
      "100%|███████████████████████████████████████████| 49/49 [00:07<00:00,  6.15it/s]\n",
      "100%|███████████████████████████████████████████| 13/13 [00:02<00:00,  4.97it/s]\n"
     ]
    },
    {
     "name": "stdout",
     "output_type": "stream",
     "text": [
      "# Epoch 69 / 150\n"
     ]
    },
    {
     "name": "stderr",
     "output_type": "stream",
     "text": [
      "100%|███████████████████████████████████████████| 49/49 [00:27<00:00,  1.79it/s]\n",
      "100%|███████████████████████████████████████████| 49/49 [00:07<00:00,  6.49it/s]\n",
      "100%|███████████████████████████████████████████| 13/13 [00:02<00:00,  4.78it/s]\n"
     ]
    },
    {
     "name": "stdout",
     "output_type": "stream",
     "text": [
      "# Epoch 70 / 150\n"
     ]
    },
    {
     "name": "stderr",
     "output_type": "stream",
     "text": [
      "100%|███████████████████████████████████████████| 49/49 [00:27<00:00,  1.77it/s]\n",
      "100%|███████████████████████████████████████████| 49/49 [00:07<00:00,  6.32it/s]\n",
      "100%|███████████████████████████████████████████| 13/13 [00:02<00:00,  4.84it/s]\n"
     ]
    },
    {
     "name": "stdout",
     "output_type": "stream",
     "text": [
      "# Epoch 71 / 150\n"
     ]
    },
    {
     "name": "stderr",
     "output_type": "stream",
     "text": [
      "100%|███████████████████████████████████████████| 49/49 [00:26<00:00,  1.82it/s]\n",
      "100%|███████████████████████████████████████████| 49/49 [00:07<00:00,  6.33it/s]\n",
      "100%|███████████████████████████████████████████| 13/13 [00:02<00:00,  4.81it/s]\n"
     ]
    },
    {
     "name": "stdout",
     "output_type": "stream",
     "text": [
      "# Epoch 72 / 150\n"
     ]
    },
    {
     "name": "stderr",
     "output_type": "stream",
     "text": [
      "100%|███████████████████████████████████████████| 49/49 [00:27<00:00,  1.80it/s]\n",
      "100%|███████████████████████████████████████████| 49/49 [00:07<00:00,  6.39it/s]\n",
      "100%|███████████████████████████████████████████| 13/13 [00:02<00:00,  4.81it/s]\n"
     ]
    },
    {
     "name": "stdout",
     "output_type": "stream",
     "text": [
      "# Epoch 73 / 150\n"
     ]
    },
    {
     "name": "stderr",
     "output_type": "stream",
     "text": [
      "100%|███████████████████████████████████████████| 49/49 [00:27<00:00,  1.80it/s]\n",
      "100%|███████████████████████████████████████████| 49/49 [00:07<00:00,  6.41it/s]\n",
      "100%|███████████████████████████████████████████| 13/13 [00:02<00:00,  5.16it/s]\n"
     ]
    },
    {
     "name": "stdout",
     "output_type": "stream",
     "text": [
      "# Epoch 74 / 150\n"
     ]
    },
    {
     "name": "stderr",
     "output_type": "stream",
     "text": [
      "100%|███████████████████████████████████████████| 49/49 [00:27<00:00,  1.81it/s]\n",
      "100%|███████████████████████████████████████████| 49/49 [00:07<00:00,  6.21it/s]\n",
      "100%|███████████████████████████████████████████| 13/13 [00:02<00:00,  4.59it/s]\n"
     ]
    },
    {
     "name": "stdout",
     "output_type": "stream",
     "text": [
      "# Epoch 75 / 150\n"
     ]
    },
    {
     "name": "stderr",
     "output_type": "stream",
     "text": [
      "100%|███████████████████████████████████████████| 49/49 [00:28<00:00,  1.74it/s]\n",
      "100%|███████████████████████████████████████████| 49/49 [00:07<00:00,  6.34it/s]\n",
      "100%|███████████████████████████████████████████| 13/13 [00:02<00:00,  5.00it/s]\n"
     ]
    },
    {
     "name": "stdout",
     "output_type": "stream",
     "text": [
      "# Epoch 76 / 150\n"
     ]
    },
    {
     "name": "stderr",
     "output_type": "stream",
     "text": [
      "100%|███████████████████████████████████████████| 49/49 [00:27<00:00,  1.81it/s]\n",
      "100%|███████████████████████████████████████████| 49/49 [00:07<00:00,  6.56it/s]\n",
      "100%|███████████████████████████████████████████| 13/13 [00:02<00:00,  4.88it/s]\n"
     ]
    },
    {
     "name": "stdout",
     "output_type": "stream",
     "text": [
      "# Epoch 77 / 150\n"
     ]
    },
    {
     "name": "stderr",
     "output_type": "stream",
     "text": [
      "100%|███████████████████████████████████████████| 49/49 [00:27<00:00,  1.75it/s]\n",
      "100%|███████████████████████████████████████████| 49/49 [00:07<00:00,  6.37it/s]\n",
      "100%|███████████████████████████████████████████| 13/13 [00:02<00:00,  5.06it/s]\n"
     ]
    },
    {
     "name": "stdout",
     "output_type": "stream",
     "text": [
      "# Epoch 78 / 150\n"
     ]
    },
    {
     "name": "stderr",
     "output_type": "stream",
     "text": [
      "100%|███████████████████████████████████████████| 49/49 [00:27<00:00,  1.77it/s]\n",
      "100%|███████████████████████████████████████████| 49/49 [00:07<00:00,  6.40it/s]\n",
      "100%|███████████████████████████████████████████| 13/13 [00:02<00:00,  5.11it/s]\n"
     ]
    },
    {
     "name": "stdout",
     "output_type": "stream",
     "text": [
      "# Epoch 79 / 150\n"
     ]
    },
    {
     "name": "stderr",
     "output_type": "stream",
     "text": [
      "100%|███████████████████████████████████████████| 49/49 [00:27<00:00,  1.81it/s]\n",
      "100%|███████████████████████████████████████████| 49/49 [00:07<00:00,  6.38it/s]\n",
      "100%|███████████████████████████████████████████| 13/13 [00:02<00:00,  4.85it/s]\n"
     ]
    },
    {
     "name": "stdout",
     "output_type": "stream",
     "text": [
      "# Epoch 80 / 150\n"
     ]
    },
    {
     "name": "stderr",
     "output_type": "stream",
     "text": [
      "100%|███████████████████████████████████████████| 49/49 [00:28<00:00,  1.75it/s]\n",
      "100%|███████████████████████████████████████████| 49/49 [00:07<00:00,  6.25it/s]\n",
      "100%|███████████████████████████████████████████| 13/13 [00:02<00:00,  4.88it/s]\n"
     ]
    },
    {
     "name": "stdout",
     "output_type": "stream",
     "text": [
      "# Epoch 81 / 150\n"
     ]
    },
    {
     "name": "stderr",
     "output_type": "stream",
     "text": [
      "100%|███████████████████████████████████████████| 49/49 [00:26<00:00,  1.83it/s]\n",
      "100%|███████████████████████████████████████████| 49/49 [00:07<00:00,  6.16it/s]\n",
      "100%|███████████████████████████████████████████| 13/13 [00:02<00:00,  5.06it/s]\n"
     ]
    },
    {
     "name": "stdout",
     "output_type": "stream",
     "text": [
      "# Epoch 82 / 150\n"
     ]
    },
    {
     "name": "stderr",
     "output_type": "stream",
     "text": [
      "100%|███████████████████████████████████████████| 49/49 [00:27<00:00,  1.79it/s]\n",
      "100%|███████████████████████████████████████████| 49/49 [00:07<00:00,  6.38it/s]\n",
      "100%|███████████████████████████████████████████| 13/13 [00:02<00:00,  5.01it/s]\n"
     ]
    },
    {
     "name": "stdout",
     "output_type": "stream",
     "text": [
      "# Epoch 83 / 150\n"
     ]
    },
    {
     "name": "stderr",
     "output_type": "stream",
     "text": [
      "100%|███████████████████████████████████████████| 49/49 [00:26<00:00,  1.82it/s]\n",
      "100%|███████████████████████████████████████████| 49/49 [00:07<00:00,  6.35it/s]\n",
      "100%|███████████████████████████████████████████| 13/13 [00:02<00:00,  4.92it/s]\n"
     ]
    },
    {
     "name": "stdout",
     "output_type": "stream",
     "text": [
      "# Epoch 84 / 150\n"
     ]
    },
    {
     "name": "stderr",
     "output_type": "stream",
     "text": [
      "100%|███████████████████████████████████████████| 49/49 [00:27<00:00,  1.77it/s]\n",
      "100%|███████████████████████████████████████████| 49/49 [00:07<00:00,  6.45it/s]\n",
      "100%|███████████████████████████████████████████| 13/13 [00:02<00:00,  5.09it/s]\n"
     ]
    },
    {
     "name": "stdout",
     "output_type": "stream",
     "text": [
      "# Epoch 85 / 150\n"
     ]
    },
    {
     "name": "stderr",
     "output_type": "stream",
     "text": [
      "100%|███████████████████████████████████████████| 49/49 [00:27<00:00,  1.76it/s]\n",
      "100%|███████████████████████████████████████████| 49/49 [00:07<00:00,  6.16it/s]\n",
      "100%|███████████████████████████████████████████| 13/13 [00:02<00:00,  4.78it/s]\n"
     ]
    },
    {
     "name": "stdout",
     "output_type": "stream",
     "text": [
      "# Epoch 86 / 150\n"
     ]
    },
    {
     "name": "stderr",
     "output_type": "stream",
     "text": [
      "100%|███████████████████████████████████████████| 49/49 [00:27<00:00,  1.77it/s]\n",
      "100%|███████████████████████████████████████████| 49/49 [00:07<00:00,  6.41it/s]\n",
      "100%|███████████████████████████████████████████| 13/13 [00:02<00:00,  5.07it/s]\n"
     ]
    },
    {
     "name": "stdout",
     "output_type": "stream",
     "text": [
      "# Epoch 87 / 150\n"
     ]
    },
    {
     "name": "stderr",
     "output_type": "stream",
     "text": [
      "100%|███████████████████████████████████████████| 49/49 [00:27<00:00,  1.78it/s]\n",
      "100%|███████████████████████████████████████████| 49/49 [00:07<00:00,  6.49it/s]\n",
      "100%|███████████████████████████████████████████| 13/13 [00:02<00:00,  4.97it/s]\n"
     ]
    },
    {
     "name": "stdout",
     "output_type": "stream",
     "text": [
      "# Epoch 88 / 150\n"
     ]
    },
    {
     "name": "stderr",
     "output_type": "stream",
     "text": [
      "100%|███████████████████████████████████████████| 49/49 [00:27<00:00,  1.81it/s]\n",
      "100%|███████████████████████████████████████████| 49/49 [00:07<00:00,  6.42it/s]\n",
      "100%|███████████████████████████████████████████| 13/13 [00:02<00:00,  4.64it/s]\n"
     ]
    },
    {
     "name": "stdout",
     "output_type": "stream",
     "text": [
      "# Epoch 89 / 150\n"
     ]
    },
    {
     "name": "stderr",
     "output_type": "stream",
     "text": [
      "100%|███████████████████████████████████████████| 49/49 [00:27<00:00,  1.80it/s]\n",
      "100%|███████████████████████████████████████████| 49/49 [00:07<00:00,  6.24it/s]\n",
      "100%|███████████████████████████████████████████| 13/13 [00:02<00:00,  4.90it/s]\n"
     ]
    },
    {
     "name": "stdout",
     "output_type": "stream",
     "text": [
      "# Epoch 90 / 150\n"
     ]
    },
    {
     "name": "stderr",
     "output_type": "stream",
     "text": [
      "100%|███████████████████████████████████████████| 49/49 [00:27<00:00,  1.79it/s]\n",
      "100%|███████████████████████████████████████████| 49/49 [00:07<00:00,  6.30it/s]\n",
      "100%|███████████████████████████████████████████| 13/13 [00:02<00:00,  4.88it/s]\n"
     ]
    },
    {
     "name": "stdout",
     "output_type": "stream",
     "text": [
      "# Epoch 91 / 150\n"
     ]
    },
    {
     "name": "stderr",
     "output_type": "stream",
     "text": [
      "100%|███████████████████████████████████████████| 49/49 [00:28<00:00,  1.75it/s]\n",
      "100%|███████████████████████████████████████████| 49/49 [00:07<00:00,  6.32it/s]\n",
      "100%|███████████████████████████████████████████| 13/13 [00:02<00:00,  4.91it/s]\n"
     ]
    },
    {
     "name": "stdout",
     "output_type": "stream",
     "text": [
      "# Epoch 92 / 150\n"
     ]
    },
    {
     "name": "stderr",
     "output_type": "stream",
     "text": [
      "100%|███████████████████████████████████████████| 49/49 [00:27<00:00,  1.78it/s]\n",
      "100%|███████████████████████████████████████████| 49/49 [00:07<00:00,  6.27it/s]\n",
      "100%|███████████████████████████████████████████| 13/13 [00:02<00:00,  4.99it/s]\n"
     ]
    },
    {
     "name": "stdout",
     "output_type": "stream",
     "text": [
      "# Epoch 93 / 150\n"
     ]
    },
    {
     "name": "stderr",
     "output_type": "stream",
     "text": [
      "100%|███████████████████████████████████████████| 49/49 [00:28<00:00,  1.75it/s]\n",
      "100%|███████████████████████████████████████████| 49/49 [00:07<00:00,  6.33it/s]\n",
      "100%|███████████████████████████████████████████| 13/13 [00:02<00:00,  4.82it/s]\n"
     ]
    },
    {
     "name": "stdout",
     "output_type": "stream",
     "text": [
      "# Epoch 94 / 150\n"
     ]
    },
    {
     "name": "stderr",
     "output_type": "stream",
     "text": [
      "100%|███████████████████████████████████████████| 49/49 [00:27<00:00,  1.79it/s]\n",
      "100%|███████████████████████████████████████████| 49/49 [00:07<00:00,  6.34it/s]\n",
      "100%|███████████████████████████████████████████| 13/13 [00:02<00:00,  5.10it/s]\n"
     ]
    },
    {
     "name": "stdout",
     "output_type": "stream",
     "text": [
      "# Epoch 95 / 150\n"
     ]
    },
    {
     "name": "stderr",
     "output_type": "stream",
     "text": [
      "100%|███████████████████████████████████████████| 49/49 [00:27<00:00,  1.78it/s]\n",
      "100%|███████████████████████████████████████████| 49/49 [00:07<00:00,  6.23it/s]\n",
      "100%|███████████████████████████████████████████| 13/13 [00:02<00:00,  4.91it/s]\n"
     ]
    },
    {
     "name": "stdout",
     "output_type": "stream",
     "text": [
      "# Epoch 96 / 150\n"
     ]
    },
    {
     "name": "stderr",
     "output_type": "stream",
     "text": [
      "100%|███████████████████████████████████████████| 49/49 [00:27<00:00,  1.78it/s]\n",
      "100%|███████████████████████████████████████████| 49/49 [00:08<00:00,  6.09it/s]\n",
      "100%|███████████████████████████████████████████| 13/13 [00:02<00:00,  4.40it/s]\n"
     ]
    },
    {
     "name": "stdout",
     "output_type": "stream",
     "text": [
      "# Epoch 97 / 150\n"
     ]
    },
    {
     "name": "stderr",
     "output_type": "stream",
     "text": [
      "100%|███████████████████████████████████████████| 49/49 [00:26<00:00,  1.82it/s]\n",
      "100%|███████████████████████████████████████████| 49/49 [00:07<00:00,  6.56it/s]\n",
      "100%|███████████████████████████████████████████| 13/13 [00:02<00:00,  4.43it/s]\n"
     ]
    },
    {
     "name": "stdout",
     "output_type": "stream",
     "text": [
      "# Epoch 98 / 150\n"
     ]
    },
    {
     "name": "stderr",
     "output_type": "stream",
     "text": [
      "100%|███████████████████████████████████████████| 49/49 [00:27<00:00,  1.78it/s]\n",
      "100%|███████████████████████████████████████████| 49/49 [00:08<00:00,  5.79it/s]\n",
      "100%|███████████████████████████████████████████| 13/13 [00:02<00:00,  4.51it/s]\n"
     ]
    },
    {
     "name": "stdout",
     "output_type": "stream",
     "text": [
      "# Epoch 99 / 150\n"
     ]
    },
    {
     "name": "stderr",
     "output_type": "stream",
     "text": [
      "100%|███████████████████████████████████████████| 49/49 [00:27<00:00,  1.77it/s]\n",
      "100%|███████████████████████████████████████████| 49/49 [00:08<00:00,  5.87it/s]\n",
      "100%|███████████████████████████████████████████| 13/13 [00:02<00:00,  4.77it/s]\n"
     ]
    },
    {
     "name": "stdout",
     "output_type": "stream",
     "text": [
      "# Epoch 100 / 150\n"
     ]
    },
    {
     "name": "stderr",
     "output_type": "stream",
     "text": [
      "100%|███████████████████████████████████████████| 49/49 [00:28<00:00,  1.75it/s]\n",
      "100%|███████████████████████████████████████████| 49/49 [00:08<00:00,  5.87it/s]\n",
      "100%|███████████████████████████████████████████| 13/13 [00:02<00:00,  4.55it/s]\n"
     ]
    },
    {
     "name": "stdout",
     "output_type": "stream",
     "text": [
      "# Epoch 101 / 150\n"
     ]
    },
    {
     "name": "stderr",
     "output_type": "stream",
     "text": [
      "100%|███████████████████████████████████████████| 49/49 [00:28<00:00,  1.73it/s]\n",
      "100%|███████████████████████████████████████████| 49/49 [00:08<00:00,  5.86it/s]\n",
      "100%|███████████████████████████████████████████| 13/13 [00:02<00:00,  4.74it/s]\n"
     ]
    },
    {
     "name": "stdout",
     "output_type": "stream",
     "text": [
      "# Epoch 102 / 150\n"
     ]
    },
    {
     "name": "stderr",
     "output_type": "stream",
     "text": [
      "100%|███████████████████████████████████████████| 49/49 [00:27<00:00,  1.78it/s]\n",
      "100%|███████████████████████████████████████████| 49/49 [00:08<00:00,  5.99it/s]\n",
      "100%|███████████████████████████████████████████| 13/13 [00:02<00:00,  4.74it/s]\n"
     ]
    },
    {
     "name": "stdout",
     "output_type": "stream",
     "text": [
      "# Epoch 103 / 150\n"
     ]
    },
    {
     "name": "stderr",
     "output_type": "stream",
     "text": [
      "100%|███████████████████████████████████████████| 49/49 [00:27<00:00,  1.79it/s]\n",
      "100%|███████████████████████████████████████████| 49/49 [00:08<00:00,  5.96it/s]\n",
      "100%|███████████████████████████████████████████| 13/13 [00:02<00:00,  4.90it/s]\n"
     ]
    },
    {
     "name": "stdout",
     "output_type": "stream",
     "text": [
      "# Epoch 104 / 150\n"
     ]
    },
    {
     "name": "stderr",
     "output_type": "stream",
     "text": [
      "100%|███████████████████████████████████████████| 49/49 [00:28<00:00,  1.75it/s]\n",
      "100%|███████████████████████████████████████████| 49/49 [00:08<00:00,  5.98it/s]\n",
      "100%|███████████████████████████████████████████| 13/13 [00:02<00:00,  4.93it/s]\n"
     ]
    },
    {
     "name": "stdout",
     "output_type": "stream",
     "text": [
      "# Epoch 105 / 150\n"
     ]
    },
    {
     "name": "stderr",
     "output_type": "stream",
     "text": [
      "100%|███████████████████████████████████████████| 49/49 [00:27<00:00,  1.80it/s]\n",
      "100%|███████████████████████████████████████████| 49/49 [00:08<00:00,  5.74it/s]\n",
      "100%|███████████████████████████████████████████| 13/13 [00:03<00:00,  4.15it/s]\n"
     ]
    },
    {
     "name": "stdout",
     "output_type": "stream",
     "text": [
      "# Epoch 106 / 150\n"
     ]
    },
    {
     "name": "stderr",
     "output_type": "stream",
     "text": [
      "100%|███████████████████████████████████████████| 49/49 [00:27<00:00,  1.78it/s]\n",
      "100%|███████████████████████████████████████████| 49/49 [00:08<00:00,  5.71it/s]\n",
      "100%|███████████████████████████████████████████| 13/13 [00:02<00:00,  4.71it/s]\n"
     ]
    },
    {
     "name": "stdout",
     "output_type": "stream",
     "text": [
      "# Epoch 107 / 150\n"
     ]
    },
    {
     "name": "stderr",
     "output_type": "stream",
     "text": [
      "100%|███████████████████████████████████████████| 49/49 [00:28<00:00,  1.71it/s]\n",
      "100%|███████████████████████████████████████████| 49/49 [00:08<00:00,  5.95it/s]\n",
      "100%|███████████████████████████████████████████| 13/13 [00:02<00:00,  4.34it/s]\n"
     ]
    },
    {
     "name": "stdout",
     "output_type": "stream",
     "text": [
      "# Epoch 108 / 150\n"
     ]
    },
    {
     "name": "stderr",
     "output_type": "stream",
     "text": [
      "100%|███████████████████████████████████████████| 49/49 [00:28<00:00,  1.74it/s]\n",
      "100%|███████████████████████████████████████████| 49/49 [00:08<00:00,  6.07it/s]\n",
      "100%|███████████████████████████████████████████| 13/13 [00:02<00:00,  4.81it/s]\n"
     ]
    },
    {
     "name": "stdout",
     "output_type": "stream",
     "text": [
      "# Epoch 109 / 150\n"
     ]
    },
    {
     "name": "stderr",
     "output_type": "stream",
     "text": [
      "100%|███████████████████████████████████████████| 49/49 [00:27<00:00,  1.79it/s]\n",
      "100%|███████████████████████████████████████████| 49/49 [00:08<00:00,  6.07it/s]\n",
      "100%|███████████████████████████████████████████| 13/13 [00:02<00:00,  4.77it/s]\n"
     ]
    },
    {
     "name": "stdout",
     "output_type": "stream",
     "text": [
      "# Epoch 110 / 150\n"
     ]
    },
    {
     "name": "stderr",
     "output_type": "stream",
     "text": [
      "100%|███████████████████████████████████████████| 49/49 [00:28<00:00,  1.75it/s]\n",
      "100%|███████████████████████████████████████████| 49/49 [00:08<00:00,  5.80it/s]\n",
      "100%|███████████████████████████████████████████| 13/13 [00:02<00:00,  4.57it/s]\n"
     ]
    },
    {
     "name": "stdout",
     "output_type": "stream",
     "text": [
      "# Epoch 111 / 150\n"
     ]
    },
    {
     "name": "stderr",
     "output_type": "stream",
     "text": [
      "100%|███████████████████████████████████████████| 49/49 [00:27<00:00,  1.80it/s]\n",
      "100%|███████████████████████████████████████████| 49/49 [00:08<00:00,  6.01it/s]\n",
      "100%|███████████████████████████████████████████| 13/13 [00:02<00:00,  4.57it/s]\n"
     ]
    },
    {
     "name": "stdout",
     "output_type": "stream",
     "text": [
      "# Epoch 112 / 150\n"
     ]
    },
    {
     "name": "stderr",
     "output_type": "stream",
     "text": [
      "100%|███████████████████████████████████████████| 49/49 [00:27<00:00,  1.81it/s]\n",
      "100%|███████████████████████████████████████████| 49/49 [00:08<00:00,  6.12it/s]\n",
      "100%|███████████████████████████████████████████| 13/13 [00:02<00:00,  4.63it/s]\n"
     ]
    },
    {
     "name": "stdout",
     "output_type": "stream",
     "text": [
      "# Epoch 113 / 150\n"
     ]
    },
    {
     "name": "stderr",
     "output_type": "stream",
     "text": [
      "100%|███████████████████████████████████████████| 49/49 [00:27<00:00,  1.80it/s]\n",
      "100%|███████████████████████████████████████████| 49/49 [00:08<00:00,  5.72it/s]\n",
      "100%|███████████████████████████████████████████| 13/13 [00:02<00:00,  4.53it/s]\n"
     ]
    },
    {
     "name": "stdout",
     "output_type": "stream",
     "text": [
      "# Epoch 114 / 150\n"
     ]
    },
    {
     "name": "stderr",
     "output_type": "stream",
     "text": [
      "100%|███████████████████████████████████████████| 49/49 [00:27<00:00,  1.78it/s]\n",
      "100%|███████████████████████████████████████████| 49/49 [00:09<00:00,  5.38it/s]\n",
      "100%|███████████████████████████████████████████| 13/13 [00:02<00:00,  4.69it/s]\n"
     ]
    },
    {
     "name": "stdout",
     "output_type": "stream",
     "text": [
      "# Epoch 115 / 150\n"
     ]
    },
    {
     "name": "stderr",
     "output_type": "stream",
     "text": [
      "100%|███████████████████████████████████████████| 49/49 [00:27<00:00,  1.79it/s]\n",
      "100%|███████████████████████████████████████████| 49/49 [00:08<00:00,  5.82it/s]\n",
      "100%|███████████████████████████████████████████| 13/13 [00:02<00:00,  4.87it/s]\n"
     ]
    },
    {
     "name": "stdout",
     "output_type": "stream",
     "text": [
      "# Epoch 116 / 150\n"
     ]
    },
    {
     "name": "stderr",
     "output_type": "stream",
     "text": [
      "100%|███████████████████████████████████████████| 49/49 [00:28<00:00,  1.71it/s]\n",
      "100%|███████████████████████████████████████████| 49/49 [00:08<00:00,  5.93it/s]\n",
      "100%|███████████████████████████████████████████| 13/13 [00:02<00:00,  4.40it/s]\n"
     ]
    },
    {
     "name": "stdout",
     "output_type": "stream",
     "text": [
      "# Epoch 117 / 150\n"
     ]
    },
    {
     "name": "stderr",
     "output_type": "stream",
     "text": [
      "100%|███████████████████████████████████████████| 49/49 [00:26<00:00,  1.85it/s]\n",
      "100%|███████████████████████████████████████████| 49/49 [00:08<00:00,  5.73it/s]\n",
      "100%|███████████████████████████████████████████| 13/13 [00:02<00:00,  4.72it/s]\n"
     ]
    },
    {
     "name": "stdout",
     "output_type": "stream",
     "text": [
      "# Epoch 118 / 150\n"
     ]
    },
    {
     "name": "stderr",
     "output_type": "stream",
     "text": [
      "100%|███████████████████████████████████████████| 49/49 [00:27<00:00,  1.77it/s]\n",
      "100%|███████████████████████████████████████████| 49/49 [00:08<00:00,  6.03it/s]\n",
      "100%|███████████████████████████████████████████| 13/13 [00:02<00:00,  4.56it/s]\n"
     ]
    },
    {
     "name": "stdout",
     "output_type": "stream",
     "text": [
      "# Epoch 119 / 150\n"
     ]
    },
    {
     "name": "stderr",
     "output_type": "stream",
     "text": [
      "100%|███████████████████████████████████████████| 49/49 [00:28<00:00,  1.74it/s]\n",
      "100%|███████████████████████████████████████████| 49/49 [00:08<00:00,  5.82it/s]\n",
      "100%|███████████████████████████████████████████| 13/13 [00:02<00:00,  4.71it/s]\n"
     ]
    },
    {
     "name": "stdout",
     "output_type": "stream",
     "text": [
      "# Epoch 120 / 150\n"
     ]
    },
    {
     "name": "stderr",
     "output_type": "stream",
     "text": [
      "100%|███████████████████████████████████████████| 49/49 [00:28<00:00,  1.75it/s]\n",
      "100%|███████████████████████████████████████████| 49/49 [00:08<00:00,  5.82it/s]\n",
      "100%|███████████████████████████████████████████| 13/13 [00:02<00:00,  4.57it/s]\n"
     ]
    },
    {
     "name": "stdout",
     "output_type": "stream",
     "text": [
      "# Epoch 121 / 150\n"
     ]
    },
    {
     "name": "stderr",
     "output_type": "stream",
     "text": [
      "100%|███████████████████████████████████████████| 49/49 [00:26<00:00,  1.82it/s]\n",
      "100%|███████████████████████████████████████████| 49/49 [00:08<00:00,  5.83it/s]\n",
      "100%|███████████████████████████████████████████| 13/13 [00:02<00:00,  4.84it/s]\n"
     ]
    },
    {
     "name": "stdout",
     "output_type": "stream",
     "text": [
      "# Epoch 122 / 150\n"
     ]
    },
    {
     "name": "stderr",
     "output_type": "stream",
     "text": [
      "100%|███████████████████████████████████████████| 49/49 [00:27<00:00,  1.81it/s]\n",
      "100%|███████████████████████████████████████████| 49/49 [00:08<00:00,  5.99it/s]\n",
      "100%|███████████████████████████████████████████| 13/13 [00:02<00:00,  4.67it/s]\n"
     ]
    },
    {
     "name": "stdout",
     "output_type": "stream",
     "text": [
      "# Epoch 123 / 150\n"
     ]
    },
    {
     "name": "stderr",
     "output_type": "stream",
     "text": [
      "100%|███████████████████████████████████████████| 49/49 [00:27<00:00,  1.75it/s]\n",
      "100%|███████████████████████████████████████████| 49/49 [00:08<00:00,  5.99it/s]\n",
      "100%|███████████████████████████████████████████| 13/13 [00:02<00:00,  4.63it/s]\n"
     ]
    },
    {
     "name": "stdout",
     "output_type": "stream",
     "text": [
      "# Epoch 124 / 150\n"
     ]
    },
    {
     "name": "stderr",
     "output_type": "stream",
     "text": [
      "100%|███████████████████████████████████████████| 49/49 [00:26<00:00,  1.82it/s]\n",
      "100%|███████████████████████████████████████████| 49/49 [00:08<00:00,  5.77it/s]\n",
      "100%|███████████████████████████████████████████| 13/13 [00:02<00:00,  4.72it/s]\n"
     ]
    },
    {
     "name": "stdout",
     "output_type": "stream",
     "text": [
      "# Epoch 125 / 150\n"
     ]
    },
    {
     "name": "stderr",
     "output_type": "stream",
     "text": [
      "100%|███████████████████████████████████████████| 49/49 [00:27<00:00,  1.80it/s]\n",
      "100%|███████████████████████████████████████████| 49/49 [00:08<00:00,  5.71it/s]\n",
      "100%|███████████████████████████████████████████| 13/13 [00:03<00:00,  4.32it/s]\n"
     ]
    },
    {
     "name": "stdout",
     "output_type": "stream",
     "text": [
      "# Epoch 126 / 150\n"
     ]
    },
    {
     "name": "stderr",
     "output_type": "stream",
     "text": [
      "100%|███████████████████████████████████████████| 49/49 [00:28<00:00,  1.74it/s]\n",
      "100%|███████████████████████████████████████████| 49/49 [00:08<00:00,  5.97it/s]\n",
      "100%|███████████████████████████████████████████| 13/13 [00:02<00:00,  4.38it/s]\n"
     ]
    },
    {
     "name": "stdout",
     "output_type": "stream",
     "text": [
      "# Epoch 127 / 150\n"
     ]
    },
    {
     "name": "stderr",
     "output_type": "stream",
     "text": [
      "100%|███████████████████████████████████████████| 49/49 [00:28<00:00,  1.74it/s]\n",
      "100%|███████████████████████████████████████████| 49/49 [00:08<00:00,  5.80it/s]\n",
      "100%|███████████████████████████████████████████| 13/13 [00:02<00:00,  4.55it/s]\n"
     ]
    },
    {
     "name": "stdout",
     "output_type": "stream",
     "text": [
      "# Epoch 128 / 150\n"
     ]
    },
    {
     "name": "stderr",
     "output_type": "stream",
     "text": [
      "100%|███████████████████████████████████████████| 49/49 [00:27<00:00,  1.81it/s]\n",
      "100%|███████████████████████████████████████████| 49/49 [00:08<00:00,  5.96it/s]\n",
      "100%|███████████████████████████████████████████| 13/13 [00:03<00:00,  4.33it/s]\n"
     ]
    },
    {
     "name": "stdout",
     "output_type": "stream",
     "text": [
      "# Epoch 129 / 150\n"
     ]
    },
    {
     "name": "stderr",
     "output_type": "stream",
     "text": [
      "100%|███████████████████████████████████████████| 49/49 [00:26<00:00,  1.82it/s]\n",
      "100%|███████████████████████████████████████████| 49/49 [00:08<00:00,  5.71it/s]\n",
      "100%|███████████████████████████████████████████| 13/13 [00:02<00:00,  4.84it/s]\n"
     ]
    },
    {
     "name": "stdout",
     "output_type": "stream",
     "text": [
      "# Epoch 130 / 150\n"
     ]
    },
    {
     "name": "stderr",
     "output_type": "stream",
     "text": [
      "100%|███████████████████████████████████████████| 49/49 [00:26<00:00,  1.84it/s]\n",
      "100%|███████████████████████████████████████████| 49/49 [00:08<00:00,  5.78it/s]\n",
      "100%|███████████████████████████████████████████| 13/13 [00:02<00:00,  4.78it/s]\n"
     ]
    },
    {
     "name": "stdout",
     "output_type": "stream",
     "text": [
      "# Epoch 131 / 150\n"
     ]
    },
    {
     "name": "stderr",
     "output_type": "stream",
     "text": [
      "100%|███████████████████████████████████████████| 49/49 [00:27<00:00,  1.80it/s]\n",
      "100%|███████████████████████████████████████████| 49/49 [00:08<00:00,  5.93it/s]\n",
      "100%|███████████████████████████████████████████| 13/13 [00:02<00:00,  4.80it/s]\n"
     ]
    },
    {
     "name": "stdout",
     "output_type": "stream",
     "text": [
      "# Epoch 132 / 150\n"
     ]
    },
    {
     "name": "stderr",
     "output_type": "stream",
     "text": [
      "100%|███████████████████████████████████████████| 49/49 [00:28<00:00,  1.75it/s]\n",
      "100%|███████████████████████████████████████████| 49/49 [00:08<00:00,  5.88it/s]\n",
      "100%|███████████████████████████████████████████| 13/13 [00:02<00:00,  4.54it/s]\n"
     ]
    },
    {
     "name": "stdout",
     "output_type": "stream",
     "text": [
      "# Epoch 133 / 150\n"
     ]
    },
    {
     "name": "stderr",
     "output_type": "stream",
     "text": [
      "100%|███████████████████████████████████████████| 49/49 [00:27<00:00,  1.79it/s]\n",
      "100%|███████████████████████████████████████████| 49/49 [00:08<00:00,  5.97it/s]\n",
      "100%|███████████████████████████████████████████| 13/13 [00:02<00:00,  4.56it/s]\n"
     ]
    },
    {
     "name": "stdout",
     "output_type": "stream",
     "text": [
      "# Epoch 134 / 150\n"
     ]
    },
    {
     "name": "stderr",
     "output_type": "stream",
     "text": [
      "100%|███████████████████████████████████████████| 49/49 [00:27<00:00,  1.77it/s]\n",
      "100%|███████████████████████████████████████████| 49/49 [00:08<00:00,  6.00it/s]\n",
      "100%|███████████████████████████████████████████| 13/13 [00:02<00:00,  4.78it/s]\n"
     ]
    },
    {
     "name": "stdout",
     "output_type": "stream",
     "text": [
      "# Epoch 135 / 150\n"
     ]
    },
    {
     "name": "stderr",
     "output_type": "stream",
     "text": [
      "100%|███████████████████████████████████████████| 49/49 [00:27<00:00,  1.79it/s]\n",
      "100%|███████████████████████████████████████████| 49/49 [00:08<00:00,  5.89it/s]\n",
      "100%|███████████████████████████████████████████| 13/13 [00:02<00:00,  4.71it/s]\n"
     ]
    },
    {
     "name": "stdout",
     "output_type": "stream",
     "text": [
      "# Epoch 136 / 150\n"
     ]
    },
    {
     "name": "stderr",
     "output_type": "stream",
     "text": [
      "100%|███████████████████████████████████████████| 49/49 [00:28<00:00,  1.72it/s]\n",
      "100%|███████████████████████████████████████████| 49/49 [00:08<00:00,  5.93it/s]\n",
      "100%|███████████████████████████████████████████| 13/13 [00:02<00:00,  4.52it/s]\n"
     ]
    },
    {
     "name": "stdout",
     "output_type": "stream",
     "text": [
      "# Epoch 137 / 150\n"
     ]
    },
    {
     "name": "stderr",
     "output_type": "stream",
     "text": [
      "100%|███████████████████████████████████████████| 49/49 [00:26<00:00,  1.82it/s]\n",
      "100%|███████████████████████████████████████████| 49/49 [00:08<00:00,  5.58it/s]\n",
      "100%|███████████████████████████████████████████| 13/13 [00:03<00:00,  4.30it/s]\n"
     ]
    },
    {
     "name": "stdout",
     "output_type": "stream",
     "text": [
      "# Epoch 138 / 150\n"
     ]
    },
    {
     "name": "stderr",
     "output_type": "stream",
     "text": [
      "100%|███████████████████████████████████████████| 49/49 [00:27<00:00,  1.76it/s]\n",
      "100%|███████████████████████████████████████████| 49/49 [00:08<00:00,  5.83it/s]\n",
      "100%|███████████████████████████████████████████| 13/13 [00:02<00:00,  4.63it/s]\n"
     ]
    },
    {
     "name": "stdout",
     "output_type": "stream",
     "text": [
      "# Epoch 139 / 150\n"
     ]
    },
    {
     "name": "stderr",
     "output_type": "stream",
     "text": [
      "100%|███████████████████████████████████████████| 49/49 [00:27<00:00,  1.76it/s]\n",
      "100%|███████████████████████████████████████████| 49/49 [00:08<00:00,  5.95it/s]\n",
      "100%|███████████████████████████████████████████| 13/13 [00:02<00:00,  4.83it/s]\n"
     ]
    },
    {
     "name": "stdout",
     "output_type": "stream",
     "text": [
      "# Epoch 140 / 150\n"
     ]
    },
    {
     "name": "stderr",
     "output_type": "stream",
     "text": [
      "100%|███████████████████████████████████████████| 49/49 [00:27<00:00,  1.78it/s]\n",
      "100%|███████████████████████████████████████████| 49/49 [00:08<00:00,  5.98it/s]\n",
      "100%|███████████████████████████████████████████| 13/13 [00:02<00:00,  4.53it/s]\n"
     ]
    },
    {
     "name": "stdout",
     "output_type": "stream",
     "text": [
      "# Epoch 141 / 150\n"
     ]
    },
    {
     "name": "stderr",
     "output_type": "stream",
     "text": [
      "100%|███████████████████████████████████████████| 49/49 [00:27<00:00,  1.79it/s]\n",
      "100%|███████████████████████████████████████████| 49/49 [00:08<00:00,  5.76it/s]\n",
      "100%|███████████████████████████████████████████| 13/13 [00:03<00:00,  4.19it/s]\n"
     ]
    },
    {
     "name": "stdout",
     "output_type": "stream",
     "text": [
      "# Epoch 142 / 150\n"
     ]
    },
    {
     "name": "stderr",
     "output_type": "stream",
     "text": [
      "100%|███████████████████████████████████████████| 49/49 [00:27<00:00,  1.75it/s]\n",
      "100%|███████████████████████████████████████████| 49/49 [00:07<00:00,  6.14it/s]\n",
      "100%|███████████████████████████████████████████| 13/13 [00:02<00:00,  4.75it/s]\n"
     ]
    },
    {
     "name": "stdout",
     "output_type": "stream",
     "text": [
      "# Epoch 143 / 150\n"
     ]
    },
    {
     "name": "stderr",
     "output_type": "stream",
     "text": [
      "100%|███████████████████████████████████████████| 49/49 [00:27<00:00,  1.79it/s]\n",
      "100%|███████████████████████████████████████████| 49/49 [00:08<00:00,  5.93it/s]\n",
      "100%|███████████████████████████████████████████| 13/13 [00:02<00:00,  4.54it/s]\n"
     ]
    },
    {
     "name": "stdout",
     "output_type": "stream",
     "text": [
      "# Epoch 144 / 150\n"
     ]
    },
    {
     "name": "stderr",
     "output_type": "stream",
     "text": [
      "100%|███████████████████████████████████████████| 49/49 [00:27<00:00,  1.80it/s]\n",
      "100%|███████████████████████████████████████████| 49/49 [00:08<00:00,  6.02it/s]\n",
      "100%|███████████████████████████████████████████| 13/13 [00:02<00:00,  4.78it/s]\n"
     ]
    },
    {
     "name": "stdout",
     "output_type": "stream",
     "text": [
      "# Epoch 145 / 150\n"
     ]
    },
    {
     "name": "stderr",
     "output_type": "stream",
     "text": [
      "100%|███████████████████████████████████████████| 49/49 [00:27<00:00,  1.79it/s]\n",
      "100%|███████████████████████████████████████████| 49/49 [00:08<00:00,  6.01it/s]\n",
      "100%|███████████████████████████████████████████| 13/13 [00:02<00:00,  4.96it/s]\n"
     ]
    },
    {
     "name": "stdout",
     "output_type": "stream",
     "text": [
      "# Epoch 146 / 150\n"
     ]
    },
    {
     "name": "stderr",
     "output_type": "stream",
     "text": [
      "100%|███████████████████████████████████████████| 49/49 [00:27<00:00,  1.81it/s]\n",
      "100%|███████████████████████████████████████████| 49/49 [00:08<00:00,  5.80it/s]\n",
      "100%|███████████████████████████████████████████| 13/13 [00:02<00:00,  4.71it/s]\n"
     ]
    },
    {
     "name": "stdout",
     "output_type": "stream",
     "text": [
      "# Epoch 147 / 150\n"
     ]
    },
    {
     "name": "stderr",
     "output_type": "stream",
     "text": [
      "100%|███████████████████████████████████████████| 49/49 [00:27<00:00,  1.81it/s]\n",
      "100%|███████████████████████████████████████████| 49/49 [00:08<00:00,  5.99it/s]\n",
      "100%|███████████████████████████████████████████| 13/13 [00:02<00:00,  4.78it/s]\n"
     ]
    },
    {
     "name": "stdout",
     "output_type": "stream",
     "text": [
      "# Epoch 148 / 150\n"
     ]
    },
    {
     "name": "stderr",
     "output_type": "stream",
     "text": [
      "100%|███████████████████████████████████████████| 49/49 [00:27<00:00,  1.78it/s]\n",
      "100%|███████████████████████████████████████████| 49/49 [00:08<00:00,  6.01it/s]\n",
      "100%|███████████████████████████████████████████| 13/13 [00:02<00:00,  4.67it/s]\n"
     ]
    },
    {
     "name": "stdout",
     "output_type": "stream",
     "text": [
      "# Epoch 149 / 150\n"
     ]
    },
    {
     "name": "stderr",
     "output_type": "stream",
     "text": [
      "100%|███████████████████████████████████████████| 49/49 [00:28<00:00,  1.75it/s]\n",
      "100%|███████████████████████████████████████████| 49/49 [00:08<00:00,  5.86it/s]\n",
      "100%|███████████████████████████████████████████| 13/13 [00:02<00:00,  4.57it/s]\n"
     ]
    },
    {
     "name": "stdout",
     "output_type": "stream",
     "text": [
      "# Epoch 150 / 150\n"
     ]
    },
    {
     "name": "stderr",
     "output_type": "stream",
     "text": [
      "100%|███████████████████████████████████████████| 49/49 [00:27<00:00,  1.76it/s]\n",
      "100%|███████████████████████████████████████████| 49/49 [00:08<00:00,  5.83it/s]\n",
      "100%|███████████████████████████████████████████| 13/13 [00:02<00:00,  4.83it/s]\n"
     ]
    },
    {
     "data": {
      "text/html": [
       "Waiting for W&B process to finish... <strong style=\"color:green\">(success).</strong>"
      ],
      "text/plain": [
       "<IPython.core.display.HTML object>"
      ]
     },
     "metadata": {},
     "output_type": "display_data"
    },
    {
     "data": {
      "application/vnd.jupyter.widget-view+json": {
       "model_id": "",
       "version_major": 2,
       "version_minor": 0
      },
      "text/plain": [
       "VBox(children=(Label(value='0.001 MB of 0.001 MB uploaded (0.000 MB deduped)\\r'), FloatProgress(value=1.0, max…"
      ]
     },
     "metadata": {},
     "output_type": "display_data"
    },
    {
     "data": {
      "text/html": [
       "<style>\n",
       "    table.wandb td:nth-child(1) { padding: 0 10px; text-align: left ; width: auto;} td:nth-child(2) {text-align: left ; width: 100%}\n",
       "    .wandb-row { display: flex; flex-direction: row; flex-wrap: wrap; justify-content: flex-start; width: 100% }\n",
       "    .wandb-col { display: flex; flex-direction: column; flex-basis: 100%; flex: 1; padding: 10px; }\n",
       "    </style>\n",
       "<div class=\"wandb-row\"><div class=\"wandb-col\"><h3>Run history:</h3><br/><table class=\"wandb\"><tr><td>lr</td><td>███████▂▂▁▁▁▁▁▁▁▁▁▁▁▁▁▁▁▁▁▁▁▁▁▁▁▁▁▁▁▁▁▁▁</td></tr><tr><td>train_mae</td><td>█▇▇▆▅▄▄▂▁▃▂▁▂▂▂▃▁▂▂▂▂▂▁▂▂▂▂▁▂▂▁▂▂▂▂▂▂▂▁▂</td></tr><tr><td>train_mse</td><td>█▇▇▅▅▄▄▃▂▂▁▁▂▂▂▃▂▂▁▂▂▃▁▂▂▂▁▂▂▂▂▂▂▂▁▂▂▂▁▁</td></tr><tr><td>train_pearson</td><td>▁▂▃▄▅▅▆▇▇▇██▇█▇▇███▇█▇█▇█▇█▇▇▇█▇▇▇█▇▇▇██</td></tr><tr><td>train_spearman</td><td>▁▃▄▆▅▆▇▇▇▇▇█▇█▇▇█▇███▇▇▇█▇▇█▇███▇█▇█▇▇██</td></tr><tr><td>valid_mae</td><td>▇█▄█▃▁▆█▆▅▅▅▅▆▅▆▅▅▅▅▅▅▅▅▅▅▅▄▅▄▅▄▅▅▅▅▆▅▄▅</td></tr><tr><td>valid_mse</td><td>█▇▅▃▂▁▁▄▃▂▁▁▁▂▂▂▁▁▂▂▂▁▂▁▁▂▁▁▁▁▁▁▂▁▁▁▂▁▁▁</td></tr><tr><td>valid_pearson</td><td>▁▃▅▆▇▇█▆▇▇▇▇▇▇▇▇▇▇▇▇▇█▇▇▇▇███▇██▇▇▇█▇▇█▇</td></tr><tr><td>valid_spearman</td><td>▁▃▅▄▅▅█▆▇▇███████████▇███▇████▇██████▇██</td></tr></table><br/></div><div class=\"wandb-col\"><h3>Run summary:</h3><br/><table class=\"wandb\"><tr><td>lr</td><td>0.0</td></tr><tr><td>train_mae</td><td>0.29089</td></tr><tr><td>train_mse</td><td>0.20847</td></tr><tr><td>train_pearson</td><td>0.59233</td></tr><tr><td>train_spearman</td><td>0.52951</td></tr><tr><td>valid_mae</td><td>0.29887</td></tr><tr><td>valid_mse</td><td>0.20536</td></tr><tr><td>valid_pearson</td><td>0.6173</td></tr><tr><td>valid_spearman</td><td>0.59225</td></tr></table><br/></div></div>"
      ],
      "text/plain": [
       "<IPython.core.display.HTML object>"
      ]
     },
     "metadata": {},
     "output_type": "display_data"
    },
    {
     "data": {
      "text/html": [
       "Synced <strong style=\"color:#cdcd00\">clean-vortex-10</strong>: <a href=\"https://wandb.ai/hei-jung/20230307-sfcn%2Blkrelu%2Bfds/runs/1aiythds\" target=\"_blank\">https://wandb.ai/hei-jung/20230307-sfcn%2Blkrelu%2Bfds/runs/1aiythds</a><br/>Synced 6 W&B file(s), 0 media file(s), 0 artifact file(s) and 0 other file(s)"
      ],
      "text/plain": [
       "<IPython.core.display.HTML object>"
      ]
     },
     "metadata": {},
     "output_type": "display_data"
    },
    {
     "data": {
      "text/html": [
       "Find logs at: <code>./wandb/run-20230308_165658-1aiythds/logs</code>"
      ],
      "text/plain": [
       "<IPython.core.display.HTML object>"
      ]
     },
     "metadata": {},
     "output_type": "display_data"
    }
   ],
   "source": [
    "# FC layer +1\n",
    "set_seed()\n",
    "\n",
    "model = SFCN_FDS(dropout_p=dropout_rate, fds=fds)\n",
    "model.fc = nn.Sequential(\n",
    "    nn.Linear(64,16),\n",
    "    nn.ReLU(),\n",
    "    nn.Linear(16,1),\n",
    "    nn.LeakyReLU(),\n",
    ")\n",
    "model = torch.nn.DataParallel(model, device_ids=[0, 1])\n",
    "model.cuda()\n",
    "\n",
    "wandb.init(project='20230307-sfcn+lkrelu+fds',\n",
    "           config={\"model\": \"sfcn+lkrelu+fds\", \"dropout\": dropout_rate,\n",
    "                   \"weight_decay\": weight_decay, \"epochs\": epochs, \"batch_size\": batch_size,\n",
    "                   \"cost_function\": \"mse_loss\", \"optimizer\": optim_class.__name__,\n",
    "                   \"scheduler\": sched_class.__name__, \"lds\": lds, \"fds\": fds,\n",
    "                   \"start_lr\": lr, \"fc_added\": 1})\n",
    "wandb.watch(model)\n",
    "\n",
    "optimizer = optim_class(model.parameters(), lr=lr, weight_decay=weight_decay)\n",
    "scheduler = sched_class(optimizer, mode='min', patience=5, min_lr=0)\n",
    "\n",
    "best_mae, best_mse, best_p, best_s = 100, 100, 0, 0\n",
    "\n",
    "set_seed()\n",
    "for epoch in range(epochs):\n",
    "    print('# Epoch %d / %d'%(epoch + 1, epochs))   \n",
    "\n",
    "    # train set\n",
    "    augment = get_augmentation_transform()\n",
    "    train_set = NeckDataset(X_train, y_train, transform=augment, lds=lds)\n",
    "    train_loader = DataLoader(train_set, batch_size=batch_size, num_workers=16)\n",
    "\n",
    "    # validation set\n",
    "\n",
    "    preds_t, truths_t, mae_t, mse_t = train(model, train_loader, epoch, optimizer, lds=lds, fds=fds)\n",
    "    preds_v, truths_v, mae_v, mse_v = valid(model, test_loader)\n",
    "\n",
    "    scheduler.step(mse_v)\n",
    "    last_lr = scheduler._last_lr[0]\n",
    "\n",
    "    train_p, _ = pearsonr(preds_t, truths_t)\n",
    "    train_s, _ = spearmanr(preds_t, truths_t)\n",
    "    train_mae = mae_t / len(train_loader)\n",
    "    train_mse = mse_t / len(train_loader)\n",
    "\n",
    "    valid_p, _ = pearsonr(preds_v, truths_v)\n",
    "    valid_s, _ = spearmanr(preds_v, truths_v)\n",
    "    valid_mae = mae_v / len(test_loader)\n",
    "    valid_mse = mse_v / len(test_loader)\n",
    "\n",
    "    if best_mse > valid_mse:\n",
    "        best_mse = valid_mse\n",
    "        torch.save(model.state_dict(), 'pretrained/230308_sfcnfdsfc1+mse_{}_w{}_slr{}_bestmse'.format(sched_class.__name__, weight_decay, lr))\n",
    "    if best_mae > valid_mae:\n",
    "        best_mae = valid_mae\n",
    "        torch.save(model.state_dict(), 'pretrained/230308_sfcnfdsfc1+mse_{}_w{}_slr{}_bestmae'.format(sched_class.__name__, weight_decay, lr))\n",
    "    if best_p < valid_p:\n",
    "        best_p = valid_p\n",
    "    if best_s < valid_s:\n",
    "        best_s = valid_s\n",
    "\n",
    "    wandb.log({\"train_mae\": train_mae, \"train_mse\": train_mse, \"valid_mae\": valid_mae, \"valid_mse\": valid_mse,\n",
    "               \"train_pearson\": train_p, \"train_spearman\": train_s, \"valid_pearson\": valid_p, \"valid_spearman\": valid_s,\n",
    "               \"lr\": last_lr})\n",
    "wandb.finish()\n",
    "torch.save(model.state_dict(), 'pretrained/230307_sfcnfdsfc1+mse_{}_w{}_slr{}_epochs{}'.format(sched_class.__name__, weight_decay, lr, epochs))\n"
   ]
  },
  {
   "cell_type": "code",
   "execution_count": 17,
   "id": "93b821fa",
   "metadata": {},
   "outputs": [
    {
     "data": {
      "text/html": [
       "wandb version 0.13.11 is available!  To upgrade, please run:\n",
       " $ pip install wandb --upgrade"
      ],
      "text/plain": [
       "<IPython.core.display.HTML object>"
      ]
     },
     "metadata": {},
     "output_type": "display_data"
    },
    {
     "data": {
      "text/html": [
       "Tracking run with wandb version 0.12.21"
      ],
      "text/plain": [
       "<IPython.core.display.HTML object>"
      ]
     },
     "metadata": {},
     "output_type": "display_data"
    },
    {
     "data": {
      "text/html": [
       "Run data is saved locally in <code>/home/jhj/Desktop/HJ_RESEARCH/snu_brain_disease/wandb/run-20230308_183358-5hv46gni</code>"
      ],
      "text/plain": [
       "<IPython.core.display.HTML object>"
      ]
     },
     "metadata": {},
     "output_type": "display_data"
    },
    {
     "data": {
      "text/html": [
       "Syncing run <strong><a href=\"https://wandb.ai/hei-jung/20230307-sfcn%2Blkrelu%2Bfds/runs/5hv46gni\" target=\"_blank\">bright-oath-11</a></strong> to <a href=\"https://wandb.ai/hei-jung/20230307-sfcn%2Blkrelu%2Bfds\" target=\"_blank\">Weights & Biases</a> (<a href=\"https://wandb.me/run\" target=\"_blank\">docs</a>)<br/>"
      ],
      "text/plain": [
       "<IPython.core.display.HTML object>"
      ]
     },
     "metadata": {},
     "output_type": "display_data"
    },
    {
     "name": "stdout",
     "output_type": "stream",
     "text": [
      "# Epoch 1 / 150\n"
     ]
    },
    {
     "name": "stderr",
     "output_type": "stream",
     "text": [
      "100%|███████████████████████████████████████████| 49/49 [00:27<00:00,  1.78it/s]\n",
      "100%|███████████████████████████████████████████| 49/49 [00:08<00:00,  5.86it/s]\n",
      "100%|███████████████████████████████████████████| 13/13 [00:02<00:00,  4.45it/s]\n"
     ]
    },
    {
     "name": "stdout",
     "output_type": "stream",
     "text": [
      "# Epoch 2 / 150\n"
     ]
    },
    {
     "name": "stderr",
     "output_type": "stream",
     "text": [
      "100%|███████████████████████████████████████████| 49/49 [00:27<00:00,  1.80it/s]\n",
      "100%|███████████████████████████████████████████| 49/49 [00:08<00:00,  5.83it/s]\n",
      "100%|███████████████████████████████████████████| 13/13 [00:02<00:00,  4.63it/s]\n"
     ]
    },
    {
     "name": "stdout",
     "output_type": "stream",
     "text": [
      "# Epoch 3 / 150\n"
     ]
    },
    {
     "name": "stderr",
     "output_type": "stream",
     "text": [
      "100%|███████████████████████████████████████████| 49/49 [00:26<00:00,  1.82it/s]\n",
      "100%|███████████████████████████████████████████| 49/49 [00:08<00:00,  6.04it/s]\n",
      "100%|███████████████████████████████████████████| 13/13 [00:02<00:00,  4.73it/s]\n"
     ]
    },
    {
     "name": "stdout",
     "output_type": "stream",
     "text": [
      "# Epoch 4 / 150\n"
     ]
    },
    {
     "name": "stderr",
     "output_type": "stream",
     "text": [
      "100%|███████████████████████████████████████████| 49/49 [00:27<00:00,  1.80it/s]\n",
      "100%|███████████████████████████████████████████| 49/49 [00:08<00:00,  6.03it/s]\n",
      "100%|███████████████████████████████████████████| 13/13 [00:02<00:00,  4.34it/s]\n"
     ]
    },
    {
     "name": "stdout",
     "output_type": "stream",
     "text": [
      "# Epoch 5 / 150\n"
     ]
    },
    {
     "name": "stderr",
     "output_type": "stream",
     "text": [
      "100%|███████████████████████████████████████████| 49/49 [00:26<00:00,  1.82it/s]\n",
      "100%|███████████████████████████████████████████| 49/49 [00:08<00:00,  5.77it/s]\n",
      "100%|███████████████████████████████████████████| 13/13 [00:02<00:00,  4.94it/s]\n"
     ]
    },
    {
     "name": "stdout",
     "output_type": "stream",
     "text": [
      "# Epoch 6 / 150\n"
     ]
    },
    {
     "name": "stderr",
     "output_type": "stream",
     "text": [
      "100%|███████████████████████████████████████████| 49/49 [00:27<00:00,  1.77it/s]\n",
      "100%|███████████████████████████████████████████| 49/49 [00:08<00:00,  5.97it/s]\n",
      "100%|███████████████████████████████████████████| 13/13 [00:02<00:00,  4.49it/s]\n"
     ]
    },
    {
     "name": "stdout",
     "output_type": "stream",
     "text": [
      "# Epoch 7 / 150\n"
     ]
    },
    {
     "name": "stderr",
     "output_type": "stream",
     "text": [
      "100%|███████████████████████████████████████████| 49/49 [00:27<00:00,  1.79it/s]\n",
      "100%|███████████████████████████████████████████| 49/49 [00:08<00:00,  5.87it/s]\n",
      "100%|███████████████████████████████████████████| 13/13 [00:02<00:00,  4.88it/s]\n"
     ]
    },
    {
     "name": "stdout",
     "output_type": "stream",
     "text": [
      "# Epoch 8 / 150\n"
     ]
    },
    {
     "name": "stderr",
     "output_type": "stream",
     "text": [
      "100%|███████████████████████████████████████████| 49/49 [00:27<00:00,  1.78it/s]\n",
      "100%|███████████████████████████████████████████| 49/49 [00:08<00:00,  5.91it/s]\n",
      "100%|███████████████████████████████████████████| 13/13 [00:02<00:00,  4.51it/s]\n"
     ]
    },
    {
     "name": "stdout",
     "output_type": "stream",
     "text": [
      "# Epoch 9 / 150\n"
     ]
    },
    {
     "name": "stderr",
     "output_type": "stream",
     "text": [
      "100%|███████████████████████████████████████████| 49/49 [00:27<00:00,  1.77it/s]\n",
      "100%|███████████████████████████████████████████| 49/49 [00:07<00:00,  6.16it/s]\n",
      "100%|███████████████████████████████████████████| 13/13 [00:02<00:00,  4.53it/s]\n"
     ]
    },
    {
     "name": "stdout",
     "output_type": "stream",
     "text": [
      "# Epoch 10 / 150\n"
     ]
    },
    {
     "name": "stderr",
     "output_type": "stream",
     "text": [
      "100%|███████████████████████████████████████████| 49/49 [00:27<00:00,  1.76it/s]\n",
      "100%|███████████████████████████████████████████| 49/49 [00:08<00:00,  5.97it/s]\n",
      "100%|███████████████████████████████████████████| 13/13 [00:02<00:00,  4.81it/s]\n"
     ]
    },
    {
     "name": "stdout",
     "output_type": "stream",
     "text": [
      "# Epoch 11 / 150\n"
     ]
    },
    {
     "name": "stderr",
     "output_type": "stream",
     "text": [
      "100%|███████████████████████████████████████████| 49/49 [00:26<00:00,  1.82it/s]\n",
      "100%|███████████████████████████████████████████| 49/49 [00:08<00:00,  5.93it/s]\n",
      "100%|███████████████████████████████████████████| 13/13 [00:02<00:00,  4.38it/s]\n"
     ]
    },
    {
     "name": "stdout",
     "output_type": "stream",
     "text": [
      "# Epoch 12 / 150\n"
     ]
    },
    {
     "name": "stderr",
     "output_type": "stream",
     "text": [
      "100%|███████████████████████████████████████████| 49/49 [00:27<00:00,  1.78it/s]\n",
      "100%|███████████████████████████████████████████| 49/49 [00:08<00:00,  6.08it/s]\n",
      "100%|███████████████████████████████████████████| 13/13 [00:02<00:00,  5.05it/s]\n"
     ]
    },
    {
     "name": "stdout",
     "output_type": "stream",
     "text": [
      "# Epoch 13 / 150\n"
     ]
    },
    {
     "name": "stderr",
     "output_type": "stream",
     "text": [
      "100%|███████████████████████████████████████████| 49/49 [00:26<00:00,  1.83it/s]\n",
      "100%|███████████████████████████████████████████| 49/49 [00:08<00:00,  6.09it/s]\n",
      "100%|███████████████████████████████████████████| 13/13 [00:02<00:00,  4.85it/s]\n"
     ]
    },
    {
     "name": "stdout",
     "output_type": "stream",
     "text": [
      "# Epoch 14 / 150\n"
     ]
    },
    {
     "name": "stderr",
     "output_type": "stream",
     "text": [
      "100%|███████████████████████████████████████████| 49/49 [00:27<00:00,  1.78it/s]\n",
      "100%|███████████████████████████████████████████| 49/49 [00:08<00:00,  6.09it/s]\n",
      "100%|███████████████████████████████████████████| 13/13 [00:02<00:00,  4.63it/s]\n"
     ]
    },
    {
     "name": "stdout",
     "output_type": "stream",
     "text": [
      "# Epoch 15 / 150\n"
     ]
    },
    {
     "name": "stderr",
     "output_type": "stream",
     "text": [
      "100%|███████████████████████████████████████████| 49/49 [00:28<00:00,  1.73it/s]\n",
      "100%|███████████████████████████████████████████| 49/49 [00:07<00:00,  6.40it/s]\n",
      "100%|███████████████████████████████████████████| 13/13 [00:02<00:00,  4.72it/s]\n"
     ]
    },
    {
     "name": "stdout",
     "output_type": "stream",
     "text": [
      "# Epoch 16 / 150\n"
     ]
    },
    {
     "name": "stderr",
     "output_type": "stream",
     "text": [
      "100%|███████████████████████████████████████████| 49/49 [00:27<00:00,  1.78it/s]\n",
      "100%|███████████████████████████████████████████| 49/49 [00:08<00:00,  5.95it/s]\n",
      "100%|███████████████████████████████████████████| 13/13 [00:02<00:00,  5.13it/s]\n"
     ]
    },
    {
     "name": "stdout",
     "output_type": "stream",
     "text": [
      "# Epoch 17 / 150\n"
     ]
    },
    {
     "name": "stderr",
     "output_type": "stream",
     "text": [
      "100%|███████████████████████████████████████████| 49/49 [00:27<00:00,  1.78it/s]\n",
      "100%|███████████████████████████████████████████| 49/49 [00:07<00:00,  6.50it/s]\n",
      "100%|███████████████████████████████████████████| 13/13 [00:02<00:00,  4.64it/s]\n"
     ]
    },
    {
     "name": "stdout",
     "output_type": "stream",
     "text": [
      "# Epoch 18 / 150\n"
     ]
    },
    {
     "name": "stderr",
     "output_type": "stream",
     "text": [
      "100%|███████████████████████████████████████████| 49/49 [00:27<00:00,  1.76it/s]\n",
      "100%|███████████████████████████████████████████| 49/49 [00:07<00:00,  6.37it/s]\n",
      "100%|███████████████████████████████████████████| 13/13 [00:02<00:00,  4.85it/s]\n"
     ]
    },
    {
     "name": "stdout",
     "output_type": "stream",
     "text": [
      "# Epoch 19 / 150\n"
     ]
    },
    {
     "name": "stderr",
     "output_type": "stream",
     "text": [
      "100%|███████████████████████████████████████████| 49/49 [00:27<00:00,  1.77it/s]\n",
      "100%|███████████████████████████████████████████| 49/49 [00:07<00:00,  6.32it/s]\n",
      "100%|███████████████████████████████████████████| 13/13 [00:02<00:00,  4.87it/s]\n"
     ]
    },
    {
     "name": "stdout",
     "output_type": "stream",
     "text": [
      "# Epoch 20 / 150\n"
     ]
    },
    {
     "name": "stderr",
     "output_type": "stream",
     "text": [
      "100%|███████████████████████████████████████████| 49/49 [00:27<00:00,  1.78it/s]\n",
      "100%|███████████████████████████████████████████| 49/49 [00:07<00:00,  6.15it/s]\n",
      "100%|███████████████████████████████████████████| 13/13 [00:02<00:00,  4.61it/s]\n"
     ]
    },
    {
     "name": "stdout",
     "output_type": "stream",
     "text": [
      "# Epoch 21 / 150\n"
     ]
    },
    {
     "name": "stderr",
     "output_type": "stream",
     "text": [
      "100%|███████████████████████████████████████████| 49/49 [00:27<00:00,  1.78it/s]\n",
      "100%|███████████████████████████████████████████| 49/49 [00:07<00:00,  6.28it/s]\n",
      "100%|███████████████████████████████████████████| 13/13 [00:02<00:00,  5.18it/s]\n"
     ]
    },
    {
     "name": "stdout",
     "output_type": "stream",
     "text": [
      "# Epoch 22 / 150\n"
     ]
    },
    {
     "name": "stderr",
     "output_type": "stream",
     "text": [
      "100%|███████████████████████████████████████████| 49/49 [00:26<00:00,  1.82it/s]\n",
      "100%|███████████████████████████████████████████| 49/49 [00:07<00:00,  6.46it/s]\n",
      "100%|███████████████████████████████████████████| 13/13 [00:02<00:00,  5.11it/s]\n"
     ]
    },
    {
     "name": "stdout",
     "output_type": "stream",
     "text": [
      "# Epoch 23 / 150\n"
     ]
    },
    {
     "name": "stderr",
     "output_type": "stream",
     "text": [
      "100%|███████████████████████████████████████████| 49/49 [00:27<00:00,  1.79it/s]\n",
      "100%|███████████████████████████████████████████| 49/49 [00:07<00:00,  6.25it/s]\n",
      "100%|███████████████████████████████████████████| 13/13 [00:02<00:00,  4.65it/s]\n"
     ]
    },
    {
     "name": "stdout",
     "output_type": "stream",
     "text": [
      "# Epoch 24 / 150\n"
     ]
    },
    {
     "name": "stderr",
     "output_type": "stream",
     "text": [
      "100%|███████████████████████████████████████████| 49/49 [00:27<00:00,  1.80it/s]\n",
      "100%|███████████████████████████████████████████| 49/49 [00:07<00:00,  6.29it/s]\n",
      "100%|███████████████████████████████████████████| 13/13 [00:02<00:00,  5.10it/s]\n"
     ]
    },
    {
     "name": "stdout",
     "output_type": "stream",
     "text": [
      "# Epoch 25 / 150\n"
     ]
    },
    {
     "name": "stderr",
     "output_type": "stream",
     "text": [
      "100%|███████████████████████████████████████████| 49/49 [00:28<00:00,  1.75it/s]\n",
      "100%|███████████████████████████████████████████| 49/49 [00:07<00:00,  6.16it/s]\n",
      "100%|███████████████████████████████████████████| 13/13 [00:02<00:00,  4.45it/s]\n"
     ]
    },
    {
     "name": "stdout",
     "output_type": "stream",
     "text": [
      "# Epoch 26 / 150\n"
     ]
    },
    {
     "name": "stderr",
     "output_type": "stream",
     "text": [
      "100%|███████████████████████████████████████████| 49/49 [00:26<00:00,  1.82it/s]\n",
      "100%|███████████████████████████████████████████| 49/49 [00:07<00:00,  6.13it/s]\n",
      "100%|███████████████████████████████████████████| 13/13 [00:02<00:00,  5.04it/s]\n"
     ]
    },
    {
     "name": "stdout",
     "output_type": "stream",
     "text": [
      "# Epoch 27 / 150\n"
     ]
    },
    {
     "name": "stderr",
     "output_type": "stream",
     "text": [
      "100%|███████████████████████████████████████████| 49/49 [00:27<00:00,  1.76it/s]\n",
      "100%|███████████████████████████████████████████| 49/49 [00:08<00:00,  6.09it/s]\n",
      "100%|███████████████████████████████████████████| 13/13 [00:02<00:00,  4.60it/s]\n"
     ]
    },
    {
     "name": "stdout",
     "output_type": "stream",
     "text": [
      "# Epoch 28 / 150\n"
     ]
    },
    {
     "name": "stderr",
     "output_type": "stream",
     "text": [
      "100%|███████████████████████████████████████████| 49/49 [00:28<00:00,  1.73it/s]\n",
      "100%|███████████████████████████████████████████| 49/49 [00:08<00:00,  5.95it/s]\n",
      "100%|███████████████████████████████████████████| 13/13 [00:02<00:00,  4.60it/s]\n"
     ]
    },
    {
     "name": "stdout",
     "output_type": "stream",
     "text": [
      "# Epoch 29 / 150\n"
     ]
    },
    {
     "name": "stderr",
     "output_type": "stream",
     "text": [
      "100%|███████████████████████████████████████████| 49/49 [00:28<00:00,  1.72it/s]\n",
      "100%|███████████████████████████████████████████| 49/49 [00:08<00:00,  6.11it/s]\n",
      "100%|███████████████████████████████████████████| 13/13 [00:02<00:00,  5.12it/s]\n"
     ]
    },
    {
     "name": "stdout",
     "output_type": "stream",
     "text": [
      "# Epoch 30 / 150\n"
     ]
    },
    {
     "name": "stderr",
     "output_type": "stream",
     "text": [
      "100%|███████████████████████████████████████████| 49/49 [00:27<00:00,  1.77it/s]\n",
      "100%|███████████████████████████████████████████| 49/49 [00:08<00:00,  6.01it/s]\n",
      "100%|███████████████████████████████████████████| 13/13 [00:02<00:00,  4.49it/s]\n"
     ]
    },
    {
     "name": "stdout",
     "output_type": "stream",
     "text": [
      "# Epoch 31 / 150\n"
     ]
    },
    {
     "name": "stderr",
     "output_type": "stream",
     "text": [
      "100%|███████████████████████████████████████████| 49/49 [00:28<00:00,  1.73it/s]\n",
      "100%|███████████████████████████████████████████| 49/49 [00:08<00:00,  6.00it/s]\n",
      "100%|███████████████████████████████████████████| 13/13 [00:02<00:00,  4.85it/s]\n"
     ]
    },
    {
     "name": "stdout",
     "output_type": "stream",
     "text": [
      "# Epoch 32 / 150\n"
     ]
    },
    {
     "name": "stderr",
     "output_type": "stream",
     "text": [
      "100%|███████████████████████████████████████████| 49/49 [00:28<00:00,  1.73it/s]\n",
      "100%|███████████████████████████████████████████| 49/49 [00:07<00:00,  6.23it/s]\n",
      "100%|███████████████████████████████████████████| 13/13 [00:02<00:00,  5.03it/s]\n"
     ]
    },
    {
     "name": "stdout",
     "output_type": "stream",
     "text": [
      "# Epoch 33 / 150\n"
     ]
    },
    {
     "name": "stderr",
     "output_type": "stream",
     "text": [
      "100%|███████████████████████████████████████████| 49/49 [00:26<00:00,  1.83it/s]\n",
      "100%|███████████████████████████████████████████| 49/49 [00:07<00:00,  6.18it/s]\n",
      "100%|███████████████████████████████████████████| 13/13 [00:02<00:00,  5.13it/s]\n"
     ]
    },
    {
     "name": "stdout",
     "output_type": "stream",
     "text": [
      "# Epoch 34 / 150\n"
     ]
    },
    {
     "name": "stderr",
     "output_type": "stream",
     "text": [
      "100%|███████████████████████████████████████████| 49/49 [00:27<00:00,  1.78it/s]\n",
      "100%|███████████████████████████████████████████| 49/49 [00:08<00:00,  6.10it/s]\n",
      "100%|███████████████████████████████████████████| 13/13 [00:02<00:00,  4.64it/s]\n"
     ]
    },
    {
     "name": "stdout",
     "output_type": "stream",
     "text": [
      "# Epoch 35 / 150\n"
     ]
    },
    {
     "name": "stderr",
     "output_type": "stream",
     "text": [
      "100%|███████████████████████████████████████████| 49/49 [00:27<00:00,  1.79it/s]\n",
      "100%|███████████████████████████████████████████| 49/49 [00:07<00:00,  6.42it/s]\n",
      "100%|███████████████████████████████████████████| 13/13 [00:02<00:00,  4.79it/s]\n"
     ]
    },
    {
     "name": "stdout",
     "output_type": "stream",
     "text": [
      "# Epoch 36 / 150\n"
     ]
    },
    {
     "name": "stderr",
     "output_type": "stream",
     "text": [
      "100%|███████████████████████████████████████████| 49/49 [00:26<00:00,  1.83it/s]\n",
      "100%|███████████████████████████████████████████| 49/49 [00:08<00:00,  6.09it/s]\n",
      "100%|███████████████████████████████████████████| 13/13 [00:02<00:00,  5.03it/s]\n"
     ]
    },
    {
     "name": "stdout",
     "output_type": "stream",
     "text": [
      "# Epoch 37 / 150\n"
     ]
    },
    {
     "name": "stderr",
     "output_type": "stream",
     "text": [
      "100%|███████████████████████████████████████████| 49/49 [00:26<00:00,  1.84it/s]\n",
      "100%|███████████████████████████████████████████| 49/49 [00:07<00:00,  6.28it/s]\n",
      "100%|███████████████████████████████████████████| 13/13 [00:02<00:00,  4.45it/s]\n"
     ]
    },
    {
     "name": "stdout",
     "output_type": "stream",
     "text": [
      "# Epoch 38 / 150\n"
     ]
    },
    {
     "name": "stderr",
     "output_type": "stream",
     "text": [
      "100%|███████████████████████████████████████████| 49/49 [00:26<00:00,  1.83it/s]\n",
      "100%|███████████████████████████████████████████| 49/49 [00:08<00:00,  6.04it/s]\n",
      "100%|███████████████████████████████████████████| 13/13 [00:02<00:00,  4.67it/s]\n"
     ]
    },
    {
     "name": "stdout",
     "output_type": "stream",
     "text": [
      "# Epoch 39 / 150\n"
     ]
    },
    {
     "name": "stderr",
     "output_type": "stream",
     "text": [
      "100%|███████████████████████████████████████████| 49/49 [00:28<00:00,  1.74it/s]\n",
      "100%|███████████████████████████████████████████| 49/49 [00:08<00:00,  6.04it/s]\n",
      "100%|███████████████████████████████████████████| 13/13 [00:02<00:00,  5.22it/s]\n"
     ]
    },
    {
     "name": "stdout",
     "output_type": "stream",
     "text": [
      "# Epoch 40 / 150\n"
     ]
    },
    {
     "name": "stderr",
     "output_type": "stream",
     "text": [
      "100%|███████████████████████████████████████████| 49/49 [00:27<00:00,  1.80it/s]\n",
      "100%|███████████████████████████████████████████| 49/49 [00:07<00:00,  6.35it/s]\n",
      "100%|███████████████████████████████████████████| 13/13 [00:02<00:00,  4.81it/s]\n"
     ]
    },
    {
     "name": "stdout",
     "output_type": "stream",
     "text": [
      "# Epoch 41 / 150\n"
     ]
    },
    {
     "name": "stderr",
     "output_type": "stream",
     "text": [
      "100%|███████████████████████████████████████████| 49/49 [00:27<00:00,  1.80it/s]\n",
      "100%|███████████████████████████████████████████| 49/49 [00:07<00:00,  6.26it/s]\n",
      "100%|███████████████████████████████████████████| 13/13 [00:02<00:00,  4.96it/s]\n"
     ]
    },
    {
     "name": "stdout",
     "output_type": "stream",
     "text": [
      "# Epoch 42 / 150\n"
     ]
    },
    {
     "name": "stderr",
     "output_type": "stream",
     "text": [
      "100%|███████████████████████████████████████████| 49/49 [00:27<00:00,  1.79it/s]\n",
      "100%|███████████████████████████████████████████| 49/49 [00:08<00:00,  6.09it/s]\n",
      "100%|███████████████████████████████████████████| 13/13 [00:02<00:00,  5.15it/s]\n"
     ]
    },
    {
     "name": "stdout",
     "output_type": "stream",
     "text": [
      "# Epoch 43 / 150\n"
     ]
    },
    {
     "name": "stderr",
     "output_type": "stream",
     "text": [
      "100%|███████████████████████████████████████████| 49/49 [00:26<00:00,  1.85it/s]\n",
      "100%|███████████████████████████████████████████| 49/49 [00:07<00:00,  6.49it/s]\n",
      "100%|███████████████████████████████████████████| 13/13 [00:02<00:00,  4.99it/s]\n"
     ]
    },
    {
     "name": "stdout",
     "output_type": "stream",
     "text": [
      "# Epoch 44 / 150\n"
     ]
    },
    {
     "name": "stderr",
     "output_type": "stream",
     "text": [
      "100%|███████████████████████████████████████████| 49/49 [00:27<00:00,  1.79it/s]\n",
      "100%|███████████████████████████████████████████| 49/49 [00:07<00:00,  6.23it/s]\n",
      "100%|███████████████████████████████████████████| 13/13 [00:02<00:00,  4.93it/s]\n"
     ]
    },
    {
     "name": "stdout",
     "output_type": "stream",
     "text": [
      "# Epoch 45 / 150\n"
     ]
    },
    {
     "name": "stderr",
     "output_type": "stream",
     "text": [
      "100%|███████████████████████████████████████████| 49/49 [00:26<00:00,  1.82it/s]\n",
      "100%|███████████████████████████████████████████| 49/49 [00:08<00:00,  5.99it/s]\n",
      "100%|███████████████████████████████████████████| 13/13 [00:02<00:00,  4.66it/s]\n"
     ]
    },
    {
     "name": "stdout",
     "output_type": "stream",
     "text": [
      "# Epoch 46 / 150\n"
     ]
    },
    {
     "name": "stderr",
     "output_type": "stream",
     "text": [
      "100%|███████████████████████████████████████████| 49/49 [00:28<00:00,  1.73it/s]\n",
      "100%|███████████████████████████████████████████| 49/49 [00:08<00:00,  6.04it/s]\n",
      "100%|███████████████████████████████████████████| 13/13 [00:02<00:00,  4.89it/s]\n"
     ]
    },
    {
     "name": "stdout",
     "output_type": "stream",
     "text": [
      "# Epoch 47 / 150\n"
     ]
    },
    {
     "name": "stderr",
     "output_type": "stream",
     "text": [
      "100%|███████████████████████████████████████████| 49/49 [00:26<00:00,  1.82it/s]\n",
      "100%|███████████████████████████████████████████| 49/49 [00:07<00:00,  6.61it/s]\n",
      "100%|███████████████████████████████████████████| 13/13 [00:02<00:00,  4.87it/s]\n"
     ]
    },
    {
     "name": "stdout",
     "output_type": "stream",
     "text": [
      "# Epoch 48 / 150\n"
     ]
    },
    {
     "name": "stderr",
     "output_type": "stream",
     "text": [
      "100%|███████████████████████████████████████████| 49/49 [00:27<00:00,  1.77it/s]\n",
      "100%|███████████████████████████████████████████| 49/49 [00:07<00:00,  6.21it/s]\n",
      "100%|███████████████████████████████████████████| 13/13 [00:02<00:00,  5.01it/s]\n"
     ]
    },
    {
     "name": "stdout",
     "output_type": "stream",
     "text": [
      "# Epoch 49 / 150\n"
     ]
    },
    {
     "name": "stderr",
     "output_type": "stream",
     "text": [
      "100%|███████████████████████████████████████████| 49/49 [00:27<00:00,  1.80it/s]\n",
      "100%|███████████████████████████████████████████| 49/49 [00:07<00:00,  6.45it/s]\n",
      "100%|███████████████████████████████████████████| 13/13 [00:02<00:00,  4.85it/s]\n"
     ]
    },
    {
     "name": "stdout",
     "output_type": "stream",
     "text": [
      "# Epoch 50 / 150\n"
     ]
    },
    {
     "name": "stderr",
     "output_type": "stream",
     "text": [
      "100%|███████████████████████████████████████████| 49/49 [00:26<00:00,  1.82it/s]\n",
      "100%|███████████████████████████████████████████| 49/49 [00:08<00:00,  6.00it/s]\n",
      "100%|███████████████████████████████████████████| 13/13 [00:02<00:00,  4.65it/s]\n"
     ]
    },
    {
     "name": "stdout",
     "output_type": "stream",
     "text": [
      "# Epoch 51 / 150\n"
     ]
    },
    {
     "name": "stderr",
     "output_type": "stream",
     "text": [
      "100%|███████████████████████████████████████████| 49/49 [00:26<00:00,  1.82it/s]\n",
      "100%|███████████████████████████████████████████| 49/49 [00:07<00:00,  6.29it/s]\n",
      "100%|███████████████████████████████████████████| 13/13 [00:02<00:00,  4.91it/s]\n"
     ]
    },
    {
     "name": "stdout",
     "output_type": "stream",
     "text": [
      "# Epoch 52 / 150\n"
     ]
    },
    {
     "name": "stderr",
     "output_type": "stream",
     "text": [
      "100%|███████████████████████████████████████████| 49/49 [00:27<00:00,  1.79it/s]\n",
      "100%|███████████████████████████████████████████| 49/49 [00:08<00:00,  6.04it/s]\n",
      "100%|███████████████████████████████████████████| 13/13 [00:02<00:00,  4.66it/s]\n"
     ]
    },
    {
     "name": "stdout",
     "output_type": "stream",
     "text": [
      "# Epoch 53 / 150\n"
     ]
    },
    {
     "name": "stderr",
     "output_type": "stream",
     "text": [
      "100%|███████████████████████████████████████████| 49/49 [00:27<00:00,  1.77it/s]\n",
      "100%|███████████████████████████████████████████| 49/49 [00:08<00:00,  5.97it/s]\n",
      "100%|███████████████████████████████████████████| 13/13 [00:02<00:00,  4.88it/s]\n"
     ]
    },
    {
     "name": "stdout",
     "output_type": "stream",
     "text": [
      "# Epoch 54 / 150\n"
     ]
    },
    {
     "name": "stderr",
     "output_type": "stream",
     "text": [
      "100%|███████████████████████████████████████████| 49/49 [00:26<00:00,  1.82it/s]\n",
      "100%|███████████████████████████████████████████| 49/49 [00:08<00:00,  6.06it/s]\n",
      "100%|███████████████████████████████████████████| 13/13 [00:02<00:00,  4.75it/s]\n"
     ]
    },
    {
     "name": "stdout",
     "output_type": "stream",
     "text": [
      "# Epoch 55 / 150\n"
     ]
    },
    {
     "name": "stderr",
     "output_type": "stream",
     "text": [
      "100%|███████████████████████████████████████████| 49/49 [00:26<00:00,  1.82it/s]\n",
      "100%|███████████████████████████████████████████| 49/49 [00:08<00:00,  6.03it/s]\n",
      "100%|███████████████████████████████████████████| 13/13 [00:02<00:00,  4.75it/s]\n"
     ]
    },
    {
     "name": "stdout",
     "output_type": "stream",
     "text": [
      "# Epoch 56 / 150\n"
     ]
    },
    {
     "name": "stderr",
     "output_type": "stream",
     "text": [
      "100%|███████████████████████████████████████████| 49/49 [00:26<00:00,  1.82it/s]\n",
      "100%|███████████████████████████████████████████| 49/49 [00:08<00:00,  6.08it/s]\n",
      "100%|███████████████████████████████████████████| 13/13 [00:02<00:00,  5.03it/s]\n"
     ]
    },
    {
     "name": "stdout",
     "output_type": "stream",
     "text": [
      "# Epoch 57 / 150\n"
     ]
    },
    {
     "name": "stderr",
     "output_type": "stream",
     "text": [
      "100%|███████████████████████████████████████████| 49/49 [00:26<00:00,  1.82it/s]\n",
      "100%|███████████████████████████████████████████| 49/49 [00:07<00:00,  6.25it/s]\n",
      "100%|███████████████████████████████████████████| 13/13 [00:02<00:00,  4.84it/s]\n"
     ]
    },
    {
     "name": "stdout",
     "output_type": "stream",
     "text": [
      "# Epoch 58 / 150\n"
     ]
    },
    {
     "name": "stderr",
     "output_type": "stream",
     "text": [
      "100%|███████████████████████████████████████████| 49/49 [00:27<00:00,  1.80it/s]\n",
      "100%|███████████████████████████████████████████| 49/49 [00:08<00:00,  5.79it/s]\n",
      "100%|███████████████████████████████████████████| 13/13 [00:02<00:00,  4.84it/s]\n"
     ]
    },
    {
     "name": "stdout",
     "output_type": "stream",
     "text": [
      "# Epoch 59 / 150\n"
     ]
    },
    {
     "name": "stderr",
     "output_type": "stream",
     "text": [
      "100%|███████████████████████████████████████████| 49/49 [00:28<00:00,  1.74it/s]\n",
      "100%|███████████████████████████████████████████| 49/49 [00:08<00:00,  6.01it/s]\n",
      "100%|███████████████████████████████████████████| 13/13 [00:02<00:00,  4.56it/s]\n"
     ]
    },
    {
     "name": "stdout",
     "output_type": "stream",
     "text": [
      "# Epoch 60 / 150\n"
     ]
    },
    {
     "name": "stderr",
     "output_type": "stream",
     "text": [
      "100%|███████████████████████████████████████████| 49/49 [00:27<00:00,  1.78it/s]\n",
      "100%|███████████████████████████████████████████| 49/49 [00:07<00:00,  6.28it/s]\n",
      "100%|███████████████████████████████████████████| 13/13 [00:02<00:00,  4.69it/s]\n"
     ]
    },
    {
     "name": "stdout",
     "output_type": "stream",
     "text": [
      "# Epoch 61 / 150\n"
     ]
    },
    {
     "name": "stderr",
     "output_type": "stream",
     "text": [
      "100%|███████████████████████████████████████████| 49/49 [00:27<00:00,  1.81it/s]\n",
      "100%|███████████████████████████████████████████| 49/49 [00:07<00:00,  6.30it/s]\n",
      "100%|███████████████████████████████████████████| 13/13 [00:02<00:00,  4.83it/s]\n"
     ]
    },
    {
     "name": "stdout",
     "output_type": "stream",
     "text": [
      "# Epoch 62 / 150\n"
     ]
    },
    {
     "name": "stderr",
     "output_type": "stream",
     "text": [
      "100%|███████████████████████████████████████████| 49/49 [00:27<00:00,  1.79it/s]\n",
      "100%|███████████████████████████████████████████| 49/49 [00:07<00:00,  6.47it/s]\n",
      "100%|███████████████████████████████████████████| 13/13 [00:02<00:00,  4.82it/s]\n"
     ]
    },
    {
     "name": "stdout",
     "output_type": "stream",
     "text": [
      "# Epoch 63 / 150\n"
     ]
    },
    {
     "name": "stderr",
     "output_type": "stream",
     "text": [
      "100%|███████████████████████████████████████████| 49/49 [00:27<00:00,  1.79it/s]\n",
      "100%|███████████████████████████████████████████| 49/49 [00:07<00:00,  6.26it/s]\n",
      "100%|███████████████████████████████████████████| 13/13 [00:02<00:00,  4.81it/s]\n"
     ]
    },
    {
     "name": "stdout",
     "output_type": "stream",
     "text": [
      "# Epoch 64 / 150\n"
     ]
    },
    {
     "name": "stderr",
     "output_type": "stream",
     "text": [
      "100%|███████████████████████████████████████████| 49/49 [00:27<00:00,  1.77it/s]\n",
      "100%|███████████████████████████████████████████| 49/49 [00:07<00:00,  6.27it/s]\n",
      "100%|███████████████████████████████████████████| 13/13 [00:02<00:00,  4.48it/s]\n"
     ]
    },
    {
     "name": "stdout",
     "output_type": "stream",
     "text": [
      "# Epoch 65 / 150\n"
     ]
    },
    {
     "name": "stderr",
     "output_type": "stream",
     "text": [
      "100%|███████████████████████████████████████████| 49/49 [00:27<00:00,  1.81it/s]\n",
      "100%|███████████████████████████████████████████| 49/49 [00:07<00:00,  6.32it/s]\n",
      "100%|███████████████████████████████████████████| 13/13 [00:03<00:00,  4.29it/s]\n"
     ]
    },
    {
     "name": "stdout",
     "output_type": "stream",
     "text": [
      "# Epoch 66 / 150\n"
     ]
    },
    {
     "name": "stderr",
     "output_type": "stream",
     "text": [
      "100%|███████████████████████████████████████████| 49/49 [00:27<00:00,  1.79it/s]\n",
      "100%|███████████████████████████████████████████| 49/49 [00:07<00:00,  6.26it/s]\n",
      "100%|███████████████████████████████████████████| 13/13 [00:02<00:00,  4.69it/s]\n"
     ]
    },
    {
     "name": "stdout",
     "output_type": "stream",
     "text": [
      "# Epoch 67 / 150\n"
     ]
    },
    {
     "name": "stderr",
     "output_type": "stream",
     "text": [
      "100%|███████████████████████████████████████████| 49/49 [00:27<00:00,  1.75it/s]\n",
      "100%|███████████████████████████████████████████| 49/49 [00:07<00:00,  6.57it/s]\n",
      "100%|███████████████████████████████████████████| 13/13 [00:02<00:00,  4.63it/s]\n"
     ]
    },
    {
     "name": "stdout",
     "output_type": "stream",
     "text": [
      "# Epoch 68 / 150\n"
     ]
    },
    {
     "name": "stderr",
     "output_type": "stream",
     "text": [
      "100%|███████████████████████████████████████████| 49/49 [00:27<00:00,  1.76it/s]\n",
      "100%|███████████████████████████████████████████| 49/49 [00:07<00:00,  6.15it/s]\n",
      "100%|███████████████████████████████████████████| 13/13 [00:02<00:00,  5.11it/s]\n"
     ]
    },
    {
     "name": "stdout",
     "output_type": "stream",
     "text": [
      "# Epoch 69 / 150\n"
     ]
    },
    {
     "name": "stderr",
     "output_type": "stream",
     "text": [
      "100%|███████████████████████████████████████████| 49/49 [00:27<00:00,  1.81it/s]\n",
      "100%|███████████████████████████████████████████| 49/49 [00:07<00:00,  6.48it/s]\n",
      "100%|███████████████████████████████████████████| 13/13 [00:02<00:00,  4.85it/s]\n"
     ]
    },
    {
     "name": "stdout",
     "output_type": "stream",
     "text": [
      "# Epoch 70 / 150\n"
     ]
    },
    {
     "name": "stderr",
     "output_type": "stream",
     "text": [
      "100%|███████████████████████████████████████████| 49/49 [00:26<00:00,  1.82it/s]\n",
      "100%|███████████████████████████████████████████| 49/49 [00:07<00:00,  6.26it/s]\n",
      "100%|███████████████████████████████████████████| 13/13 [00:02<00:00,  5.13it/s]\n"
     ]
    },
    {
     "name": "stdout",
     "output_type": "stream",
     "text": [
      "# Epoch 71 / 150\n"
     ]
    },
    {
     "name": "stderr",
     "output_type": "stream",
     "text": [
      "100%|███████████████████████████████████████████| 49/49 [00:26<00:00,  1.84it/s]\n",
      "100%|███████████████████████████████████████████| 49/49 [00:08<00:00,  6.04it/s]\n",
      "100%|███████████████████████████████████████████| 13/13 [00:02<00:00,  4.83it/s]\n"
     ]
    },
    {
     "name": "stdout",
     "output_type": "stream",
     "text": [
      "# Epoch 72 / 150\n"
     ]
    },
    {
     "name": "stderr",
     "output_type": "stream",
     "text": [
      "100%|███████████████████████████████████████████| 49/49 [00:28<00:00,  1.72it/s]\n",
      "100%|███████████████████████████████████████████| 49/49 [00:08<00:00,  6.09it/s]\n",
      "100%|███████████████████████████████████████████| 13/13 [00:02<00:00,  4.79it/s]\n"
     ]
    },
    {
     "name": "stdout",
     "output_type": "stream",
     "text": [
      "# Epoch 73 / 150\n"
     ]
    },
    {
     "name": "stderr",
     "output_type": "stream",
     "text": [
      "100%|███████████████████████████████████████████| 49/49 [00:27<00:00,  1.79it/s]\n",
      "100%|███████████████████████████████████████████| 49/49 [00:07<00:00,  6.18it/s]\n",
      "100%|███████████████████████████████████████████| 13/13 [00:02<00:00,  4.91it/s]\n"
     ]
    },
    {
     "name": "stdout",
     "output_type": "stream",
     "text": [
      "# Epoch 74 / 150\n"
     ]
    },
    {
     "name": "stderr",
     "output_type": "stream",
     "text": [
      "100%|███████████████████████████████████████████| 49/49 [00:27<00:00,  1.78it/s]\n",
      "100%|███████████████████████████████████████████| 49/49 [00:08<00:00,  6.11it/s]\n",
      "100%|███████████████████████████████████████████| 13/13 [00:02<00:00,  4.76it/s]\n"
     ]
    },
    {
     "name": "stdout",
     "output_type": "stream",
     "text": [
      "# Epoch 75 / 150\n"
     ]
    },
    {
     "name": "stderr",
     "output_type": "stream",
     "text": [
      "100%|███████████████████████████████████████████| 49/49 [00:27<00:00,  1.78it/s]\n",
      "100%|███████████████████████████████████████████| 49/49 [00:08<00:00,  5.98it/s]\n",
      "100%|███████████████████████████████████████████| 13/13 [00:02<00:00,  4.51it/s]\n"
     ]
    },
    {
     "name": "stdout",
     "output_type": "stream",
     "text": [
      "# Epoch 76 / 150\n"
     ]
    },
    {
     "name": "stderr",
     "output_type": "stream",
     "text": [
      "100%|███████████████████████████████████████████| 49/49 [00:26<00:00,  1.84it/s]\n",
      "100%|███████████████████████████████████████████| 49/49 [00:08<00:00,  6.05it/s]\n",
      "100%|███████████████████████████████████████████| 13/13 [00:02<00:00,  4.46it/s]\n"
     ]
    },
    {
     "name": "stdout",
     "output_type": "stream",
     "text": [
      "# Epoch 77 / 150\n"
     ]
    },
    {
     "name": "stderr",
     "output_type": "stream",
     "text": [
      "100%|███████████████████████████████████████████| 49/49 [00:27<00:00,  1.81it/s]\n",
      "100%|███████████████████████████████████████████| 49/49 [00:08<00:00,  6.00it/s]\n",
      "100%|███████████████████████████████████████████| 13/13 [00:02<00:00,  4.62it/s]\n"
     ]
    },
    {
     "name": "stdout",
     "output_type": "stream",
     "text": [
      "# Epoch 78 / 150\n"
     ]
    },
    {
     "name": "stderr",
     "output_type": "stream",
     "text": [
      "100%|███████████████████████████████████████████| 49/49 [00:27<00:00,  1.77it/s]\n",
      "100%|███████████████████████████████████████████| 49/49 [00:07<00:00,  6.15it/s]\n",
      "100%|███████████████████████████████████████████| 13/13 [00:02<00:00,  4.55it/s]\n"
     ]
    },
    {
     "name": "stdout",
     "output_type": "stream",
     "text": [
      "# Epoch 79 / 150\n"
     ]
    },
    {
     "name": "stderr",
     "output_type": "stream",
     "text": [
      "100%|███████████████████████████████████████████| 49/49 [00:27<00:00,  1.77it/s]\n",
      "100%|███████████████████████████████████████████| 49/49 [00:07<00:00,  6.34it/s]\n",
      "100%|███████████████████████████████████████████| 13/13 [00:02<00:00,  4.81it/s]\n"
     ]
    },
    {
     "name": "stdout",
     "output_type": "stream",
     "text": [
      "# Epoch 80 / 150\n"
     ]
    },
    {
     "name": "stderr",
     "output_type": "stream",
     "text": [
      "100%|███████████████████████████████████████████| 49/49 [00:27<00:00,  1.80it/s]\n",
      "100%|███████████████████████████████████████████| 49/49 [00:08<00:00,  6.12it/s]\n",
      "100%|███████████████████████████████████████████| 13/13 [00:02<00:00,  4.71it/s]\n"
     ]
    },
    {
     "name": "stdout",
     "output_type": "stream",
     "text": [
      "# Epoch 81 / 150\n"
     ]
    },
    {
     "name": "stderr",
     "output_type": "stream",
     "text": [
      "100%|███████████████████████████████████████████| 49/49 [00:27<00:00,  1.79it/s]\n",
      "100%|███████████████████████████████████████████| 49/49 [00:07<00:00,  6.33it/s]\n",
      "100%|███████████████████████████████████████████| 13/13 [00:02<00:00,  4.57it/s]\n"
     ]
    },
    {
     "name": "stdout",
     "output_type": "stream",
     "text": [
      "# Epoch 82 / 150\n"
     ]
    },
    {
     "name": "stderr",
     "output_type": "stream",
     "text": [
      "100%|███████████████████████████████████████████| 49/49 [00:27<00:00,  1.76it/s]\n",
      "100%|███████████████████████████████████████████| 49/49 [00:08<00:00,  5.85it/s]\n",
      "100%|███████████████████████████████████████████| 13/13 [00:02<00:00,  4.73it/s]\n"
     ]
    },
    {
     "name": "stdout",
     "output_type": "stream",
     "text": [
      "# Epoch 83 / 150\n"
     ]
    },
    {
     "name": "stderr",
     "output_type": "stream",
     "text": [
      "100%|███████████████████████████████████████████| 49/49 [00:27<00:00,  1.78it/s]\n",
      "100%|███████████████████████████████████████████| 49/49 [00:08<00:00,  5.80it/s]\n",
      "100%|███████████████████████████████████████████| 13/13 [00:02<00:00,  4.46it/s]\n"
     ]
    },
    {
     "name": "stdout",
     "output_type": "stream",
     "text": [
      "# Epoch 84 / 150\n"
     ]
    },
    {
     "name": "stderr",
     "output_type": "stream",
     "text": [
      "100%|███████████████████████████████████████████| 49/49 [00:28<00:00,  1.75it/s]\n",
      "100%|███████████████████████████████████████████| 49/49 [00:07<00:00,  6.16it/s]\n",
      "100%|███████████████████████████████████████████| 13/13 [00:02<00:00,  5.06it/s]\n"
     ]
    },
    {
     "name": "stdout",
     "output_type": "stream",
     "text": [
      "# Epoch 85 / 150\n"
     ]
    },
    {
     "name": "stderr",
     "output_type": "stream",
     "text": [
      "100%|███████████████████████████████████████████| 49/49 [00:27<00:00,  1.79it/s]\n",
      "100%|███████████████████████████████████████████| 49/49 [00:07<00:00,  6.41it/s]\n",
      "100%|███████████████████████████████████████████| 13/13 [00:02<00:00,  4.82it/s]\n"
     ]
    },
    {
     "name": "stdout",
     "output_type": "stream",
     "text": [
      "# Epoch 86 / 150\n"
     ]
    },
    {
     "name": "stderr",
     "output_type": "stream",
     "text": [
      "100%|███████████████████████████████████████████| 49/49 [00:27<00:00,  1.75it/s]\n",
      "100%|███████████████████████████████████████████| 49/49 [00:07<00:00,  6.29it/s]\n",
      "100%|███████████████████████████████████████████| 13/13 [00:02<00:00,  4.91it/s]\n"
     ]
    },
    {
     "name": "stdout",
     "output_type": "stream",
     "text": [
      "# Epoch 87 / 150\n"
     ]
    },
    {
     "name": "stderr",
     "output_type": "stream",
     "text": [
      "100%|███████████████████████████████████████████| 49/49 [00:28<00:00,  1.75it/s]\n",
      "100%|███████████████████████████████████████████| 49/49 [00:08<00:00,  6.01it/s]\n",
      "100%|███████████████████████████████████████████| 13/13 [00:02<00:00,  5.17it/s]\n"
     ]
    },
    {
     "name": "stdout",
     "output_type": "stream",
     "text": [
      "# Epoch 88 / 150\n"
     ]
    },
    {
     "name": "stderr",
     "output_type": "stream",
     "text": [
      "100%|███████████████████████████████████████████| 49/49 [00:28<00:00,  1.74it/s]\n",
      "100%|███████████████████████████████████████████| 49/49 [00:07<00:00,  6.32it/s]\n",
      "100%|███████████████████████████████████████████| 13/13 [00:02<00:00,  4.79it/s]\n"
     ]
    },
    {
     "name": "stdout",
     "output_type": "stream",
     "text": [
      "# Epoch 89 / 150\n"
     ]
    },
    {
     "name": "stderr",
     "output_type": "stream",
     "text": [
      "100%|███████████████████████████████████████████| 49/49 [00:27<00:00,  1.76it/s]\n",
      "100%|███████████████████████████████████████████| 49/49 [00:08<00:00,  6.12it/s]\n",
      "100%|███████████████████████████████████████████| 13/13 [00:02<00:00,  4.84it/s]\n"
     ]
    },
    {
     "name": "stdout",
     "output_type": "stream",
     "text": [
      "# Epoch 90 / 150\n"
     ]
    },
    {
     "name": "stderr",
     "output_type": "stream",
     "text": [
      "100%|███████████████████████████████████████████| 49/49 [00:27<00:00,  1.77it/s]\n",
      "100%|███████████████████████████████████████████| 49/49 [00:08<00:00,  6.02it/s]\n",
      "100%|███████████████████████████████████████████| 13/13 [00:02<00:00,  4.68it/s]\n"
     ]
    },
    {
     "name": "stdout",
     "output_type": "stream",
     "text": [
      "# Epoch 91 / 150\n"
     ]
    },
    {
     "name": "stderr",
     "output_type": "stream",
     "text": [
      "100%|███████████████████████████████████████████| 49/49 [00:27<00:00,  1.79it/s]\n",
      "100%|███████████████████████████████████████████| 49/49 [00:08<00:00,  6.05it/s]\n",
      "100%|███████████████████████████████████████████| 13/13 [00:02<00:00,  4.60it/s]\n"
     ]
    },
    {
     "name": "stdout",
     "output_type": "stream",
     "text": [
      "# Epoch 92 / 150\n"
     ]
    },
    {
     "name": "stderr",
     "output_type": "stream",
     "text": [
      "100%|███████████████████████████████████████████| 49/49 [00:28<00:00,  1.74it/s]\n",
      "100%|███████████████████████████████████████████| 49/49 [00:07<00:00,  6.25it/s]\n",
      "100%|███████████████████████████████████████████| 13/13 [00:02<00:00,  4.89it/s]\n"
     ]
    },
    {
     "name": "stdout",
     "output_type": "stream",
     "text": [
      "# Epoch 93 / 150\n"
     ]
    },
    {
     "name": "stderr",
     "output_type": "stream",
     "text": [
      "100%|███████████████████████████████████████████| 49/49 [00:27<00:00,  1.77it/s]\n",
      "100%|███████████████████████████████████████████| 49/49 [00:07<00:00,  6.59it/s]\n",
      "100%|███████████████████████████████████████████| 13/13 [00:02<00:00,  4.82it/s]\n"
     ]
    },
    {
     "name": "stdout",
     "output_type": "stream",
     "text": [
      "# Epoch 94 / 150\n"
     ]
    },
    {
     "name": "stderr",
     "output_type": "stream",
     "text": [
      "100%|███████████████████████████████████████████| 49/49 [00:26<00:00,  1.82it/s]\n",
      "100%|███████████████████████████████████████████| 49/49 [00:07<00:00,  6.15it/s]\n",
      "100%|███████████████████████████████████████████| 13/13 [00:02<00:00,  4.46it/s]\n"
     ]
    },
    {
     "name": "stdout",
     "output_type": "stream",
     "text": [
      "# Epoch 95 / 150\n"
     ]
    },
    {
     "name": "stderr",
     "output_type": "stream",
     "text": [
      "100%|███████████████████████████████████████████| 49/49 [00:26<00:00,  1.83it/s]\n",
      "100%|███████████████████████████████████████████| 49/49 [00:08<00:00,  6.10it/s]\n",
      "100%|███████████████████████████████████████████| 13/13 [00:02<00:00,  4.40it/s]\n"
     ]
    },
    {
     "name": "stdout",
     "output_type": "stream",
     "text": [
      "# Epoch 96 / 150\n"
     ]
    },
    {
     "name": "stderr",
     "output_type": "stream",
     "text": [
      "100%|███████████████████████████████████████████| 49/49 [00:27<00:00,  1.77it/s]\n",
      "100%|███████████████████████████████████████████| 49/49 [00:07<00:00,  6.26it/s]\n",
      "100%|███████████████████████████████████████████| 13/13 [00:02<00:00,  4.62it/s]\n"
     ]
    },
    {
     "name": "stdout",
     "output_type": "stream",
     "text": [
      "# Epoch 97 / 150\n"
     ]
    },
    {
     "name": "stderr",
     "output_type": "stream",
     "text": [
      "100%|███████████████████████████████████████████| 49/49 [00:28<00:00,  1.72it/s]\n",
      "100%|███████████████████████████████████████████| 49/49 [00:07<00:00,  6.22it/s]\n",
      "100%|███████████████████████████████████████████| 13/13 [00:02<00:00,  5.01it/s]\n"
     ]
    },
    {
     "name": "stdout",
     "output_type": "stream",
     "text": [
      "# Epoch 98 / 150\n"
     ]
    },
    {
     "name": "stderr",
     "output_type": "stream",
     "text": [
      "100%|███████████████████████████████████████████| 49/49 [00:27<00:00,  1.76it/s]\n",
      "100%|███████████████████████████████████████████| 49/49 [00:07<00:00,  6.23it/s]\n",
      "100%|███████████████████████████████████████████| 13/13 [00:02<00:00,  4.55it/s]\n"
     ]
    },
    {
     "name": "stdout",
     "output_type": "stream",
     "text": [
      "# Epoch 99 / 150\n"
     ]
    },
    {
     "name": "stderr",
     "output_type": "stream",
     "text": [
      "100%|███████████████████████████████████████████| 49/49 [00:27<00:00,  1.81it/s]\n",
      "100%|███████████████████████████████████████████| 49/49 [00:07<00:00,  6.25it/s]\n",
      "100%|███████████████████████████████████████████| 13/13 [00:02<00:00,  4.60it/s]\n"
     ]
    },
    {
     "name": "stdout",
     "output_type": "stream",
     "text": [
      "# Epoch 100 / 150\n"
     ]
    },
    {
     "name": "stderr",
     "output_type": "stream",
     "text": [
      "100%|███████████████████████████████████████████| 49/49 [00:28<00:00,  1.74it/s]\n",
      "100%|███████████████████████████████████████████| 49/49 [00:08<00:00,  5.94it/s]\n",
      "100%|███████████████████████████████████████████| 13/13 [00:02<00:00,  4.51it/s]\n"
     ]
    },
    {
     "name": "stdout",
     "output_type": "stream",
     "text": [
      "# Epoch 101 / 150\n"
     ]
    },
    {
     "name": "stderr",
     "output_type": "stream",
     "text": [
      "100%|███████████████████████████████████████████| 49/49 [00:27<00:00,  1.79it/s]\n",
      "100%|███████████████████████████████████████████| 49/49 [00:07<00:00,  6.15it/s]\n",
      "100%|███████████████████████████████████████████| 13/13 [00:02<00:00,  4.58it/s]\n"
     ]
    },
    {
     "name": "stdout",
     "output_type": "stream",
     "text": [
      "# Epoch 102 / 150\n"
     ]
    },
    {
     "name": "stderr",
     "output_type": "stream",
     "text": [
      "100%|███████████████████████████████████████████| 49/49 [00:27<00:00,  1.81it/s]\n",
      "100%|███████████████████████████████████████████| 49/49 [00:08<00:00,  6.10it/s]\n",
      "100%|███████████████████████████████████████████| 13/13 [00:02<00:00,  5.08it/s]\n"
     ]
    },
    {
     "name": "stdout",
     "output_type": "stream",
     "text": [
      "# Epoch 103 / 150\n"
     ]
    },
    {
     "name": "stderr",
     "output_type": "stream",
     "text": [
      "100%|███████████████████████████████████████████| 49/49 [00:28<00:00,  1.74it/s]\n",
      "100%|███████████████████████████████████████████| 49/49 [00:07<00:00,  6.17it/s]\n",
      "100%|███████████████████████████████████████████| 13/13 [00:02<00:00,  4.71it/s]\n"
     ]
    },
    {
     "name": "stdout",
     "output_type": "stream",
     "text": [
      "# Epoch 104 / 150\n"
     ]
    },
    {
     "name": "stderr",
     "output_type": "stream",
     "text": [
      "100%|███████████████████████████████████████████| 49/49 [00:27<00:00,  1.81it/s]\n",
      "100%|███████████████████████████████████████████| 49/49 [00:08<00:00,  6.01it/s]\n",
      "100%|███████████████████████████████████████████| 13/13 [00:02<00:00,  5.05it/s]\n"
     ]
    },
    {
     "name": "stdout",
     "output_type": "stream",
     "text": [
      "# Epoch 105 / 150\n"
     ]
    },
    {
     "name": "stderr",
     "output_type": "stream",
     "text": [
      "100%|███████████████████████████████████████████| 49/49 [00:26<00:00,  1.83it/s]\n",
      "100%|███████████████████████████████████████████| 49/49 [00:08<00:00,  5.72it/s]\n",
      "100%|███████████████████████████████████████████| 13/13 [00:02<00:00,  4.58it/s]\n"
     ]
    },
    {
     "name": "stdout",
     "output_type": "stream",
     "text": [
      "# Epoch 106 / 150\n"
     ]
    },
    {
     "name": "stderr",
     "output_type": "stream",
     "text": [
      "100%|███████████████████████████████████████████| 49/49 [00:27<00:00,  1.76it/s]\n",
      "100%|███████████████████████████████████████████| 49/49 [00:08<00:00,  6.05it/s]\n",
      "100%|███████████████████████████████████████████| 13/13 [00:02<00:00,  5.06it/s]\n"
     ]
    },
    {
     "name": "stdout",
     "output_type": "stream",
     "text": [
      "# Epoch 107 / 150\n"
     ]
    },
    {
     "name": "stderr",
     "output_type": "stream",
     "text": [
      "100%|███████████████████████████████████████████| 49/49 [00:27<00:00,  1.79it/s]\n",
      "100%|███████████████████████████████████████████| 49/49 [00:07<00:00,  6.21it/s]\n",
      "100%|███████████████████████████████████████████| 13/13 [00:02<00:00,  4.71it/s]\n"
     ]
    },
    {
     "name": "stdout",
     "output_type": "stream",
     "text": [
      "# Epoch 108 / 150\n"
     ]
    },
    {
     "name": "stderr",
     "output_type": "stream",
     "text": [
      "100%|███████████████████████████████████████████| 49/49 [00:26<00:00,  1.83it/s]\n",
      "100%|███████████████████████████████████████████| 49/49 [00:07<00:00,  6.21it/s]\n",
      "100%|███████████████████████████████████████████| 13/13 [00:03<00:00,  4.32it/s]\n"
     ]
    },
    {
     "name": "stdout",
     "output_type": "stream",
     "text": [
      "# Epoch 109 / 150\n"
     ]
    },
    {
     "name": "stderr",
     "output_type": "stream",
     "text": [
      "100%|███████████████████████████████████████████| 49/49 [00:27<00:00,  1.81it/s]\n",
      "100%|███████████████████████████████████████████| 49/49 [00:07<00:00,  6.25it/s]\n",
      "100%|███████████████████████████████████████████| 13/13 [00:02<00:00,  4.51it/s]\n"
     ]
    },
    {
     "name": "stdout",
     "output_type": "stream",
     "text": [
      "# Epoch 110 / 150\n"
     ]
    },
    {
     "name": "stderr",
     "output_type": "stream",
     "text": [
      "100%|███████████████████████████████████████████| 49/49 [00:26<00:00,  1.83it/s]\n",
      "100%|███████████████████████████████████████████| 49/49 [00:07<00:00,  6.14it/s]\n",
      "100%|███████████████████████████████████████████| 13/13 [00:02<00:00,  4.50it/s]\n"
     ]
    },
    {
     "name": "stdout",
     "output_type": "stream",
     "text": [
      "# Epoch 111 / 150\n"
     ]
    },
    {
     "name": "stderr",
     "output_type": "stream",
     "text": [
      "100%|███████████████████████████████████████████| 49/49 [00:26<00:00,  1.83it/s]\n",
      "100%|███████████████████████████████████████████| 49/49 [00:07<00:00,  6.16it/s]\n",
      "100%|███████████████████████████████████████████| 13/13 [00:02<00:00,  4.58it/s]\n"
     ]
    },
    {
     "name": "stdout",
     "output_type": "stream",
     "text": [
      "# Epoch 112 / 150\n"
     ]
    },
    {
     "name": "stderr",
     "output_type": "stream",
     "text": [
      "100%|███████████████████████████████████████████| 49/49 [00:26<00:00,  1.82it/s]\n",
      "100%|███████████████████████████████████████████| 49/49 [00:08<00:00,  6.10it/s]\n",
      "100%|███████████████████████████████████████████| 13/13 [00:02<00:00,  4.85it/s]\n"
     ]
    },
    {
     "name": "stdout",
     "output_type": "stream",
     "text": [
      "# Epoch 113 / 150\n"
     ]
    },
    {
     "name": "stderr",
     "output_type": "stream",
     "text": [
      "100%|███████████████████████████████████████████| 49/49 [00:27<00:00,  1.81it/s]\n",
      "100%|███████████████████████████████████████████| 49/49 [00:08<00:00,  6.00it/s]\n",
      "100%|███████████████████████████████████████████| 13/13 [00:02<00:00,  4.53it/s]\n"
     ]
    },
    {
     "name": "stdout",
     "output_type": "stream",
     "text": [
      "# Epoch 114 / 150\n"
     ]
    },
    {
     "name": "stderr",
     "output_type": "stream",
     "text": [
      "100%|███████████████████████████████████████████| 49/49 [00:27<00:00,  1.77it/s]\n",
      "100%|███████████████████████████████████████████| 49/49 [00:07<00:00,  6.29it/s]\n",
      "100%|███████████████████████████████████████████| 13/13 [00:02<00:00,  5.01it/s]\n"
     ]
    },
    {
     "name": "stdout",
     "output_type": "stream",
     "text": [
      "# Epoch 115 / 150\n"
     ]
    },
    {
     "name": "stderr",
     "output_type": "stream",
     "text": [
      "100%|███████████████████████████████████████████| 49/49 [00:26<00:00,  1.84it/s]\n",
      "100%|███████████████████████████████████████████| 49/49 [00:08<00:00,  6.01it/s]\n",
      "100%|███████████████████████████████████████████| 13/13 [00:02<00:00,  5.14it/s]\n"
     ]
    },
    {
     "name": "stdout",
     "output_type": "stream",
     "text": [
      "# Epoch 116 / 150\n"
     ]
    },
    {
     "name": "stderr",
     "output_type": "stream",
     "text": [
      "100%|███████████████████████████████████████████| 49/49 [00:27<00:00,  1.76it/s]\n",
      "100%|███████████████████████████████████████████| 49/49 [00:07<00:00,  6.28it/s]\n",
      "100%|███████████████████████████████████████████| 13/13 [00:02<00:00,  4.84it/s]\n"
     ]
    },
    {
     "name": "stdout",
     "output_type": "stream",
     "text": [
      "# Epoch 117 / 150\n"
     ]
    },
    {
     "name": "stderr",
     "output_type": "stream",
     "text": [
      "100%|███████████████████████████████████████████| 49/49 [00:27<00:00,  1.78it/s]\n",
      "100%|███████████████████████████████████████████| 49/49 [00:07<00:00,  6.13it/s]\n",
      "100%|███████████████████████████████████████████| 13/13 [00:02<00:00,  4.36it/s]\n"
     ]
    },
    {
     "name": "stdout",
     "output_type": "stream",
     "text": [
      "# Epoch 118 / 150\n"
     ]
    },
    {
     "name": "stderr",
     "output_type": "stream",
     "text": [
      "100%|███████████████████████████████████████████| 49/49 [00:28<00:00,  1.71it/s]\n",
      "100%|███████████████████████████████████████████| 49/49 [00:07<00:00,  6.13it/s]\n",
      "100%|███████████████████████████████████████████| 13/13 [00:02<00:00,  4.68it/s]\n"
     ]
    },
    {
     "name": "stdout",
     "output_type": "stream",
     "text": [
      "# Epoch 119 / 150\n"
     ]
    },
    {
     "name": "stderr",
     "output_type": "stream",
     "text": [
      "100%|███████████████████████████████████████████| 49/49 [00:27<00:00,  1.77it/s]\n",
      "100%|███████████████████████████████████████████| 49/49 [00:08<00:00,  5.91it/s]\n",
      "100%|███████████████████████████████████████████| 13/13 [00:02<00:00,  4.93it/s]\n"
     ]
    },
    {
     "name": "stdout",
     "output_type": "stream",
     "text": [
      "# Epoch 120 / 150\n"
     ]
    },
    {
     "name": "stderr",
     "output_type": "stream",
     "text": [
      "100%|███████████████████████████████████████████| 49/49 [00:27<00:00,  1.76it/s]\n",
      "100%|███████████████████████████████████████████| 49/49 [00:08<00:00,  6.10it/s]\n",
      "100%|███████████████████████████████████████████| 13/13 [00:02<00:00,  5.08it/s]\n"
     ]
    },
    {
     "name": "stdout",
     "output_type": "stream",
     "text": [
      "# Epoch 121 / 150\n"
     ]
    },
    {
     "name": "stderr",
     "output_type": "stream",
     "text": [
      "100%|███████████████████████████████████████████| 49/49 [00:26<00:00,  1.82it/s]\n",
      "100%|███████████████████████████████████████████| 49/49 [00:08<00:00,  6.05it/s]\n",
      "100%|███████████████████████████████████████████| 13/13 [00:02<00:00,  4.57it/s]\n"
     ]
    },
    {
     "name": "stdout",
     "output_type": "stream",
     "text": [
      "# Epoch 122 / 150\n"
     ]
    },
    {
     "name": "stderr",
     "output_type": "stream",
     "text": [
      "100%|███████████████████████████████████████████| 49/49 [00:26<00:00,  1.83it/s]\n",
      "100%|███████████████████████████████████████████| 49/49 [00:07<00:00,  6.28it/s]\n",
      "100%|███████████████████████████████████████████| 13/13 [00:02<00:00,  4.41it/s]\n"
     ]
    },
    {
     "name": "stdout",
     "output_type": "stream",
     "text": [
      "# Epoch 123 / 150\n"
     ]
    },
    {
     "name": "stderr",
     "output_type": "stream",
     "text": [
      "100%|███████████████████████████████████████████| 49/49 [00:27<00:00,  1.77it/s]\n",
      "100%|███████████████████████████████████████████| 49/49 [00:08<00:00,  5.96it/s]\n",
      "100%|███████████████████████████████████████████| 13/13 [00:02<00:00,  4.47it/s]\n"
     ]
    },
    {
     "name": "stdout",
     "output_type": "stream",
     "text": [
      "# Epoch 124 / 150\n"
     ]
    },
    {
     "name": "stderr",
     "output_type": "stream",
     "text": [
      "100%|███████████████████████████████████████████| 49/49 [00:26<00:00,  1.82it/s]\n",
      "100%|███████████████████████████████████████████| 49/49 [00:08<00:00,  5.97it/s]\n",
      "100%|███████████████████████████████████████████| 13/13 [00:02<00:00,  4.69it/s]\n"
     ]
    },
    {
     "name": "stdout",
     "output_type": "stream",
     "text": [
      "# Epoch 125 / 150\n"
     ]
    },
    {
     "name": "stderr",
     "output_type": "stream",
     "text": [
      "100%|███████████████████████████████████████████| 49/49 [00:26<00:00,  1.83it/s]\n",
      "100%|███████████████████████████████████████████| 49/49 [00:08<00:00,  5.93it/s]\n",
      "100%|███████████████████████████████████████████| 13/13 [00:02<00:00,  4.67it/s]\n"
     ]
    },
    {
     "name": "stdout",
     "output_type": "stream",
     "text": [
      "# Epoch 126 / 150\n"
     ]
    },
    {
     "name": "stderr",
     "output_type": "stream",
     "text": [
      "100%|███████████████████████████████████████████| 49/49 [00:28<00:00,  1.75it/s]\n",
      "100%|███████████████████████████████████████████| 49/49 [00:07<00:00,  6.17it/s]\n",
      "100%|███████████████████████████████████████████| 13/13 [00:02<00:00,  4.34it/s]\n"
     ]
    },
    {
     "name": "stdout",
     "output_type": "stream",
     "text": [
      "# Epoch 127 / 150\n"
     ]
    },
    {
     "name": "stderr",
     "output_type": "stream",
     "text": [
      "100%|███████████████████████████████████████████| 49/49 [00:26<00:00,  1.82it/s]\n",
      "100%|███████████████████████████████████████████| 49/49 [00:07<00:00,  6.32it/s]\n",
      "100%|███████████████████████████████████████████| 13/13 [00:02<00:00,  4.78it/s]\n"
     ]
    },
    {
     "name": "stdout",
     "output_type": "stream",
     "text": [
      "# Epoch 128 / 150\n"
     ]
    },
    {
     "name": "stderr",
     "output_type": "stream",
     "text": [
      "100%|███████████████████████████████████████████| 49/49 [00:26<00:00,  1.82it/s]\n",
      "100%|███████████████████████████████████████████| 49/49 [00:07<00:00,  6.22it/s]\n",
      "100%|███████████████████████████████████████████| 13/13 [00:02<00:00,  4.78it/s]\n"
     ]
    },
    {
     "name": "stdout",
     "output_type": "stream",
     "text": [
      "# Epoch 129 / 150\n"
     ]
    },
    {
     "name": "stderr",
     "output_type": "stream",
     "text": [
      "100%|███████████████████████████████████████████| 49/49 [00:27<00:00,  1.81it/s]\n",
      "100%|███████████████████████████████████████████| 49/49 [00:08<00:00,  6.04it/s]\n",
      "100%|███████████████████████████████████████████| 13/13 [00:02<00:00,  4.58it/s]\n"
     ]
    },
    {
     "name": "stdout",
     "output_type": "stream",
     "text": [
      "# Epoch 130 / 150\n"
     ]
    },
    {
     "name": "stderr",
     "output_type": "stream",
     "text": [
      "100%|███████████████████████████████████████████| 49/49 [00:27<00:00,  1.80it/s]\n",
      "100%|███████████████████████████████████████████| 49/49 [00:08<00:00,  6.10it/s]\n",
      "100%|███████████████████████████████████████████| 13/13 [00:02<00:00,  5.16it/s]\n"
     ]
    },
    {
     "name": "stdout",
     "output_type": "stream",
     "text": [
      "# Epoch 131 / 150\n"
     ]
    },
    {
     "name": "stderr",
     "output_type": "stream",
     "text": [
      "100%|███████████████████████████████████████████| 49/49 [00:26<00:00,  1.82it/s]\n",
      "100%|███████████████████████████████████████████| 49/49 [00:08<00:00,  6.00it/s]\n",
      "100%|███████████████████████████████████████████| 13/13 [00:02<00:00,  4.60it/s]\n"
     ]
    },
    {
     "name": "stdout",
     "output_type": "stream",
     "text": [
      "# Epoch 132 / 150\n"
     ]
    },
    {
     "name": "stderr",
     "output_type": "stream",
     "text": [
      "100%|███████████████████████████████████████████| 49/49 [00:26<00:00,  1.83it/s]\n",
      "100%|███████████████████████████████████████████| 49/49 [00:07<00:00,  6.43it/s]\n",
      "100%|███████████████████████████████████████████| 13/13 [00:02<00:00,  4.37it/s]\n"
     ]
    },
    {
     "name": "stdout",
     "output_type": "stream",
     "text": [
      "# Epoch 133 / 150\n"
     ]
    },
    {
     "name": "stderr",
     "output_type": "stream",
     "text": [
      "100%|███████████████████████████████████████████| 49/49 [00:27<00:00,  1.78it/s]\n",
      "100%|███████████████████████████████████████████| 49/49 [00:07<00:00,  6.14it/s]\n",
      "100%|███████████████████████████████████████████| 13/13 [00:02<00:00,  4.89it/s]\n"
     ]
    },
    {
     "name": "stdout",
     "output_type": "stream",
     "text": [
      "# Epoch 134 / 150\n"
     ]
    },
    {
     "name": "stderr",
     "output_type": "stream",
     "text": [
      "100%|███████████████████████████████████████████| 49/49 [00:27<00:00,  1.78it/s]\n",
      "100%|███████████████████████████████████████████| 49/49 [00:08<00:00,  6.08it/s]\n",
      "100%|███████████████████████████████████████████| 13/13 [00:02<00:00,  4.76it/s]\n"
     ]
    },
    {
     "name": "stdout",
     "output_type": "stream",
     "text": [
      "# Epoch 135 / 150\n"
     ]
    },
    {
     "name": "stderr",
     "output_type": "stream",
     "text": [
      "100%|███████████████████████████████████████████| 49/49 [00:26<00:00,  1.82it/s]\n",
      "100%|███████████████████████████████████████████| 49/49 [00:07<00:00,  6.20it/s]\n",
      "100%|███████████████████████████████████████████| 13/13 [00:02<00:00,  5.11it/s]\n"
     ]
    },
    {
     "name": "stdout",
     "output_type": "stream",
     "text": [
      "# Epoch 136 / 150\n"
     ]
    },
    {
     "name": "stderr",
     "output_type": "stream",
     "text": [
      "100%|███████████████████████████████████████████| 49/49 [00:27<00:00,  1.78it/s]\n",
      "100%|███████████████████████████████████████████| 49/49 [00:07<00:00,  6.52it/s]\n",
      "100%|███████████████████████████████████████████| 13/13 [00:02<00:00,  5.13it/s]\n"
     ]
    },
    {
     "name": "stdout",
     "output_type": "stream",
     "text": [
      "# Epoch 137 / 150\n"
     ]
    },
    {
     "name": "stderr",
     "output_type": "stream",
     "text": [
      "100%|███████████████████████████████████████████| 49/49 [00:27<00:00,  1.80it/s]\n",
      "100%|███████████████████████████████████████████| 49/49 [00:08<00:00,  6.04it/s]\n",
      "100%|███████████████████████████████████████████| 13/13 [00:02<00:00,  4.56it/s]\n"
     ]
    },
    {
     "name": "stdout",
     "output_type": "stream",
     "text": [
      "# Epoch 138 / 150\n"
     ]
    },
    {
     "name": "stderr",
     "output_type": "stream",
     "text": [
      "100%|███████████████████████████████████████████| 49/49 [00:27<00:00,  1.76it/s]\n",
      "100%|███████████████████████████████████████████| 49/49 [00:08<00:00,  6.04it/s]\n",
      "100%|███████████████████████████████████████████| 13/13 [00:02<00:00,  4.79it/s]\n"
     ]
    },
    {
     "name": "stdout",
     "output_type": "stream",
     "text": [
      "# Epoch 139 / 150\n"
     ]
    },
    {
     "name": "stderr",
     "output_type": "stream",
     "text": [
      "100%|███████████████████████████████████████████| 49/49 [00:27<00:00,  1.80it/s]\n",
      "100%|███████████████████████████████████████████| 49/49 [00:08<00:00,  5.96it/s]\n",
      "100%|███████████████████████████████████████████| 13/13 [00:02<00:00,  4.80it/s]\n"
     ]
    },
    {
     "name": "stdout",
     "output_type": "stream",
     "text": [
      "# Epoch 140 / 150\n"
     ]
    },
    {
     "name": "stderr",
     "output_type": "stream",
     "text": [
      "100%|███████████████████████████████████████████| 49/49 [00:27<00:00,  1.76it/s]\n",
      "100%|███████████████████████████████████████████| 49/49 [00:07<00:00,  6.73it/s]\n",
      "100%|███████████████████████████████████████████| 13/13 [00:02<00:00,  4.70it/s]\n"
     ]
    },
    {
     "name": "stdout",
     "output_type": "stream",
     "text": [
      "# Epoch 141 / 150\n"
     ]
    },
    {
     "name": "stderr",
     "output_type": "stream",
     "text": [
      "100%|███████████████████████████████████████████| 49/49 [00:26<00:00,  1.85it/s]\n",
      "100%|███████████████████████████████████████████| 49/49 [00:08<00:00,  6.02it/s]\n",
      "100%|███████████████████████████████████████████| 13/13 [00:02<00:00,  5.00it/s]\n"
     ]
    },
    {
     "name": "stdout",
     "output_type": "stream",
     "text": [
      "# Epoch 142 / 150\n"
     ]
    },
    {
     "name": "stderr",
     "output_type": "stream",
     "text": [
      "100%|███████████████████████████████████████████| 49/49 [00:27<00:00,  1.80it/s]\n",
      "100%|███████████████████████████████████████████| 49/49 [00:08<00:00,  6.09it/s]\n",
      "100%|███████████████████████████████████████████| 13/13 [00:02<00:00,  4.78it/s]\n"
     ]
    },
    {
     "name": "stdout",
     "output_type": "stream",
     "text": [
      "# Epoch 143 / 150\n"
     ]
    },
    {
     "name": "stderr",
     "output_type": "stream",
     "text": [
      "100%|███████████████████████████████████████████| 49/49 [00:27<00:00,  1.77it/s]\n",
      "100%|███████████████████████████████████████████| 49/49 [00:08<00:00,  5.97it/s]\n",
      "100%|███████████████████████████████████████████| 13/13 [00:02<00:00,  5.04it/s]\n"
     ]
    },
    {
     "name": "stdout",
     "output_type": "stream",
     "text": [
      "# Epoch 144 / 150\n"
     ]
    },
    {
     "name": "stderr",
     "output_type": "stream",
     "text": [
      "100%|███████████████████████████████████████████| 49/49 [00:27<00:00,  1.79it/s]\n",
      "100%|███████████████████████████████████████████| 49/49 [00:08<00:00,  5.99it/s]\n",
      "100%|███████████████████████████████████████████| 13/13 [00:02<00:00,  4.86it/s]\n"
     ]
    },
    {
     "name": "stdout",
     "output_type": "stream",
     "text": [
      "# Epoch 145 / 150\n"
     ]
    },
    {
     "name": "stderr",
     "output_type": "stream",
     "text": [
      "100%|███████████████████████████████████████████| 49/49 [00:27<00:00,  1.80it/s]\n",
      "100%|███████████████████████████████████████████| 49/49 [00:07<00:00,  6.35it/s]\n",
      "100%|███████████████████████████████████████████| 13/13 [00:02<00:00,  4.89it/s]\n"
     ]
    },
    {
     "name": "stdout",
     "output_type": "stream",
     "text": [
      "# Epoch 146 / 150\n"
     ]
    },
    {
     "name": "stderr",
     "output_type": "stream",
     "text": [
      "100%|███████████████████████████████████████████| 49/49 [00:27<00:00,  1.80it/s]\n",
      "100%|███████████████████████████████████████████| 49/49 [00:08<00:00,  5.99it/s]\n",
      "100%|███████████████████████████████████████████| 13/13 [00:02<00:00,  4.46it/s]\n"
     ]
    },
    {
     "name": "stdout",
     "output_type": "stream",
     "text": [
      "# Epoch 147 / 150\n"
     ]
    },
    {
     "name": "stderr",
     "output_type": "stream",
     "text": [
      "100%|███████████████████████████████████████████| 49/49 [00:26<00:00,  1.82it/s]\n",
      "100%|███████████████████████████████████████████| 49/49 [00:07<00:00,  6.37it/s]\n",
      "100%|███████████████████████████████████████████| 13/13 [00:02<00:00,  4.87it/s]\n"
     ]
    },
    {
     "name": "stdout",
     "output_type": "stream",
     "text": [
      "# Epoch 148 / 150\n"
     ]
    },
    {
     "name": "stderr",
     "output_type": "stream",
     "text": [
      "100%|███████████████████████████████████████████| 49/49 [00:26<00:00,  1.83it/s]\n",
      "100%|███████████████████████████████████████████| 49/49 [00:08<00:00,  6.06it/s]\n",
      "100%|███████████████████████████████████████████| 13/13 [00:02<00:00,  4.34it/s]\n"
     ]
    },
    {
     "name": "stdout",
     "output_type": "stream",
     "text": [
      "# Epoch 149 / 150\n"
     ]
    },
    {
     "name": "stderr",
     "output_type": "stream",
     "text": [
      "100%|███████████████████████████████████████████| 49/49 [00:27<00:00,  1.78it/s]\n",
      "100%|███████████████████████████████████████████| 49/49 [00:08<00:00,  6.08it/s]\n",
      "100%|███████████████████████████████████████████| 13/13 [00:02<00:00,  4.96it/s]\n"
     ]
    },
    {
     "name": "stdout",
     "output_type": "stream",
     "text": [
      "# Epoch 150 / 150\n"
     ]
    },
    {
     "name": "stderr",
     "output_type": "stream",
     "text": [
      "100%|███████████████████████████████████████████| 49/49 [00:27<00:00,  1.79it/s]\n",
      "100%|███████████████████████████████████████████| 49/49 [00:07<00:00,  6.33it/s]\n",
      "100%|███████████████████████████████████████████| 13/13 [00:02<00:00,  4.59it/s]\n"
     ]
    },
    {
     "data": {
      "text/html": [
       "Waiting for W&B process to finish... <strong style=\"color:green\">(success).</strong>"
      ],
      "text/plain": [
       "<IPython.core.display.HTML object>"
      ]
     },
     "metadata": {},
     "output_type": "display_data"
    },
    {
     "data": {
      "application/vnd.jupyter.widget-view+json": {
       "model_id": "",
       "version_major": 2,
       "version_minor": 0
      },
      "text/plain": [
       "VBox(children=(Label(value='0.001 MB of 0.001 MB uploaded (0.000 MB deduped)\\r'), FloatProgress(value=1.0, max…"
      ]
     },
     "metadata": {},
     "output_type": "display_data"
    },
    {
     "data": {
      "text/html": [
       "<style>\n",
       "    table.wandb td:nth-child(1) { padding: 0 10px; text-align: left ; width: auto;} td:nth-child(2) {text-align: left ; width: 100%}\n",
       "    .wandb-row { display: flex; flex-direction: row; flex-wrap: wrap; justify-content: flex-start; width: 100% }\n",
       "    .wandb-col { display: flex; flex-direction: column; flex-basis: 100%; flex: 1; padding: 10px; }\n",
       "    </style>\n",
       "<div class=\"wandb-row\"><div class=\"wandb-col\"><h3>Run history:</h3><br/><table class=\"wandb\"><tr><td>lr</td><td>███████▂▁▁▁▁▁▁▁▁▁▁▁▁▁▁▁▁▁▁▁▁▁▁▁▁▁▁▁▁▁▁▁▁</td></tr><tr><td>train_mae</td><td>█▆▆▅▅▄▄▃▂▂▁▁▂▂▃▃▂▂▂▂▂▂▂▂▁▂▂▃▁▁▂▂▂▂▁▂▂▂▂▂</td></tr><tr><td>train_mse</td><td>█▇▆▆▅▄▄▃▂▃▁▂▃▂▃▃▂▂▂▃▂▂▂▃▂▃▂▃▂▂▂▂▂▂▁▂▂▃▂▂</td></tr><tr><td>train_pearson</td><td>▁▃▃▄▅▆▆▇▇▇█▇▇▇▇▆▇▇▇▇▇▇▇▇█▇▇▆▇▇▇█▇▇█▇▇▇▇▇</td></tr><tr><td>train_spearman</td><td>▁▄▅▅▅▆▇██████▇▇▇▇▇▇█▇█▇▇▇▇▇▇████████▇▇▇▇</td></tr><tr><td>valid_mae</td><td>▄▃▂█▁▂▄▄▄▄▃▃▄▄▄▄▄▄▃▄▄▄▄▄▄▄▄▄▄▃▄▃▄▃▄▃▄▄▃▄</td></tr><tr><td>valid_mse</td><td>█▆▁▅▁▂▅▄▃▁▂▂▁▃▂▂▂▂▂▂▂▃▂▂▃▂▂▂▂▁▂▁▂▁▂▁▂▂▁▂</td></tr><tr><td>valid_pearson</td><td>▂▁▄▄█▆▅▆▇▇▇▇▇▇▇▇▇▇▇▇▇▇▇▇▇▇▇▇▇▇▇▇▇▇▇▇▇▇▇▇</td></tr><tr><td>valid_spearman</td><td>▂▁▆▄▄▅▆█████████████████████████████████</td></tr></table><br/></div><div class=\"wandb-col\"><h3>Run summary:</h3><br/><table class=\"wandb\"><tr><td>lr</td><td>0.0</td></tr><tr><td>train_mae</td><td>0.28624</td></tr><tr><td>train_mse</td><td>0.19693</td></tr><tr><td>train_pearson</td><td>0.62535</td></tr><tr><td>train_spearman</td><td>0.51604</td></tr><tr><td>valid_mae</td><td>0.31331</td></tr><tr><td>valid_mse</td><td>0.24406</td></tr><tr><td>valid_pearson</td><td>0.58509</td></tr><tr><td>valid_spearman</td><td>0.60497</td></tr></table><br/></div></div>"
      ],
      "text/plain": [
       "<IPython.core.display.HTML object>"
      ]
     },
     "metadata": {},
     "output_type": "display_data"
    },
    {
     "data": {
      "text/html": [
       "Synced <strong style=\"color:#cdcd00\">bright-oath-11</strong>: <a href=\"https://wandb.ai/hei-jung/20230307-sfcn%2Blkrelu%2Bfds/runs/5hv46gni\" target=\"_blank\">https://wandb.ai/hei-jung/20230307-sfcn%2Blkrelu%2Bfds/runs/5hv46gni</a><br/>Synced 6 W&B file(s), 0 media file(s), 0 artifact file(s) and 0 other file(s)"
      ],
      "text/plain": [
       "<IPython.core.display.HTML object>"
      ]
     },
     "metadata": {},
     "output_type": "display_data"
    },
    {
     "data": {
      "text/html": [
       "Find logs at: <code>./wandb/run-20230308_183358-5hv46gni/logs</code>"
      ],
      "text/plain": [
       "<IPython.core.display.HTML object>"
      ]
     },
     "metadata": {},
     "output_type": "display_data"
    }
   ],
   "source": [
    "# FC layer +2\n",
    "set_seed()\n",
    "\n",
    "model = SFCN_FDS(dropout_p=dropout_rate, fds=fds)\n",
    "model.fc = nn.Sequential(\n",
    "    nn.Linear(64,16),\n",
    "    nn.ReLU(),\n",
    "    nn.Linear(16,4),\n",
    "    nn.ReLU(),\n",
    "    nn.Linear(4,1),\n",
    "    nn.LeakyReLU(),\n",
    ")\n",
    "model = torch.nn.DataParallel(model, device_ids=[0, 1])\n",
    "model.cuda()\n",
    "\n",
    "wandb.init(project='20230307-sfcn+lkrelu+fds',\n",
    "           config={\"model\": \"sfcn+lkrelu+fds\", \"dropout\": dropout_rate,\n",
    "                   \"weight_decay\": weight_decay, \"epochs\": epochs, \"batch_size\": batch_size,\n",
    "                   \"cost_function\": \"mse_loss\", \"optimizer\": optim_class.__name__,\n",
    "                   \"scheduler\": sched_class.__name__, \"lds\": lds, \"fds\": fds,\n",
    "                   \"start_lr\": lr, \"fc_added\": 2})\n",
    "wandb.watch(model)\n",
    "\n",
    "optimizer = optim_class(model.parameters(), lr=lr, weight_decay=weight_decay)\n",
    "scheduler = sched_class(optimizer, mode='min', patience=5, min_lr=0)\n",
    "\n",
    "best_mae, best_mse, best_p, best_s = 100, 100, 0, 0\n",
    "\n",
    "set_seed()\n",
    "for epoch in range(epochs):\n",
    "    print('# Epoch %d / %d'%(epoch + 1, epochs))   \n",
    "\n",
    "    # train set\n",
    "    augment = get_augmentation_transform()\n",
    "    train_set = NeckDataset(X_train, y_train, transform=augment, lds=lds)\n",
    "    train_loader = DataLoader(train_set, batch_size=batch_size, num_workers=16)\n",
    "\n",
    "    # validation set\n",
    "\n",
    "    preds_t, truths_t, mae_t, mse_t = train(model, train_loader, epoch, optimizer, lds=lds, fds=fds)\n",
    "    preds_v, truths_v, mae_v, mse_v = valid(model, test_loader)\n",
    "\n",
    "    scheduler.step(mse_v)\n",
    "    last_lr = scheduler._last_lr[0]\n",
    "\n",
    "    train_p, _ = pearsonr(preds_t, truths_t)\n",
    "    train_s, _ = spearmanr(preds_t, truths_t)\n",
    "    train_mae = mae_t / len(train_loader)\n",
    "    train_mse = mse_t / len(train_loader)\n",
    "\n",
    "    valid_p, _ = pearsonr(preds_v, truths_v)\n",
    "    valid_s, _ = spearmanr(preds_v, truths_v)\n",
    "    valid_mae = mae_v / len(test_loader)\n",
    "    valid_mse = mse_v / len(test_loader)\n",
    "\n",
    "    if best_mse > valid_mse:\n",
    "        best_mse = valid_mse\n",
    "        torch.save(model.state_dict(), 'pretrained/230308_sfcnfdsfc2+mse_{}_w{}_slr{}_bestmse'.format(sched_class.__name__, weight_decay, lr))\n",
    "    if best_mae > valid_mae:\n",
    "        best_mae = valid_mae\n",
    "        torch.save(model.state_dict(), 'pretrained/230308_sfcnfdsfc2+mse_{}_w{}_slr{}_bestmae'.format(sched_class.__name__, weight_decay, lr))\n",
    "    if best_p < valid_p:\n",
    "        best_p = valid_p\n",
    "    if best_s < valid_s:\n",
    "        best_s = valid_s\n",
    "\n",
    "    wandb.log({\"train_mae\": train_mae, \"train_mse\": train_mse, \"valid_mae\": valid_mae, \"valid_mse\": valid_mse,\n",
    "               \"train_pearson\": train_p, \"train_spearman\": train_s, \"valid_pearson\": valid_p, \"valid_spearman\": valid_s,\n",
    "               \"lr\": last_lr})\n",
    "wandb.finish()\n",
    "torch.save(model.state_dict(), 'pretrained/230307_sfcnfdsfc2+mse_{}_w{}_slr{}_epochs{}'.format(sched_class.__name__, weight_decay, lr, epochs))\n"
   ]
  },
  {
   "cell_type": "code",
   "execution_count": 18,
   "id": "06f46a94",
   "metadata": {},
   "outputs": [
    {
     "data": {
      "text/html": [
       "wandb version 0.13.11 is available!  To upgrade, please run:\n",
       " $ pip install wandb --upgrade"
      ],
      "text/plain": [
       "<IPython.core.display.HTML object>"
      ]
     },
     "metadata": {},
     "output_type": "display_data"
    },
    {
     "data": {
      "text/html": [
       "Tracking run with wandb version 0.12.21"
      ],
      "text/plain": [
       "<IPython.core.display.HTML object>"
      ]
     },
     "metadata": {},
     "output_type": "display_data"
    },
    {
     "data": {
      "text/html": [
       "Run data is saved locally in <code>/home/jhj/Desktop/HJ_RESEARCH/snu_brain_disease/wandb/run-20230308_200934-3qwlhps4</code>"
      ],
      "text/plain": [
       "<IPython.core.display.HTML object>"
      ]
     },
     "metadata": {},
     "output_type": "display_data"
    },
    {
     "data": {
      "text/html": [
       "Syncing run <strong><a href=\"https://wandb.ai/hei-jung/20230307-sfcn%2Blkrelu%2Bfds/runs/3qwlhps4\" target=\"_blank\">hopeful-plasma-12</a></strong> to <a href=\"https://wandb.ai/hei-jung/20230307-sfcn%2Blkrelu%2Bfds\" target=\"_blank\">Weights & Biases</a> (<a href=\"https://wandb.me/run\" target=\"_blank\">docs</a>)<br/>"
      ],
      "text/plain": [
       "<IPython.core.display.HTML object>"
      ]
     },
     "metadata": {},
     "output_type": "display_data"
    },
    {
     "name": "stdout",
     "output_type": "stream",
     "text": [
      "# Epoch 1 / 150\n"
     ]
    },
    {
     "name": "stderr",
     "output_type": "stream",
     "text": [
      "100%|███████████████████████████████████████████| 49/49 [00:26<00:00,  1.85it/s]\n",
      "100%|███████████████████████████████████████████| 49/49 [00:08<00:00,  6.08it/s]\n",
      "100%|███████████████████████████████████████████| 13/13 [00:02<00:00,  4.61it/s]\n"
     ]
    },
    {
     "name": "stdout",
     "output_type": "stream",
     "text": [
      "# Epoch 2 / 150\n"
     ]
    },
    {
     "name": "stderr",
     "output_type": "stream",
     "text": [
      "100%|███████████████████████████████████████████| 49/49 [00:28<00:00,  1.73it/s]\n",
      "100%|███████████████████████████████████████████| 49/49 [00:08<00:00,  5.76it/s]\n",
      "100%|███████████████████████████████████████████| 13/13 [00:02<00:00,  4.79it/s]\n"
     ]
    },
    {
     "name": "stdout",
     "output_type": "stream",
     "text": [
      "# Epoch 3 / 150\n"
     ]
    },
    {
     "name": "stderr",
     "output_type": "stream",
     "text": [
      "100%|███████████████████████████████████████████| 49/49 [00:27<00:00,  1.78it/s]\n",
      "100%|███████████████████████████████████████████| 49/49 [00:07<00:00,  6.24it/s]\n",
      "100%|███████████████████████████████████████████| 13/13 [00:02<00:00,  5.08it/s]\n"
     ]
    },
    {
     "name": "stdout",
     "output_type": "stream",
     "text": [
      "# Epoch 4 / 150\n"
     ]
    },
    {
     "name": "stderr",
     "output_type": "stream",
     "text": [
      "100%|███████████████████████████████████████████| 49/49 [00:27<00:00,  1.79it/s]\n",
      "100%|███████████████████████████████████████████| 49/49 [00:07<00:00,  6.42it/s]\n",
      "100%|███████████████████████████████████████████| 13/13 [00:02<00:00,  4.94it/s]\n"
     ]
    },
    {
     "name": "stdout",
     "output_type": "stream",
     "text": [
      "# Epoch 5 / 150\n"
     ]
    },
    {
     "name": "stderr",
     "output_type": "stream",
     "text": [
      "100%|███████████████████████████████████████████| 49/49 [00:26<00:00,  1.83it/s]\n",
      "100%|███████████████████████████████████████████| 49/49 [00:08<00:00,  5.99it/s]\n",
      "100%|███████████████████████████████████████████| 13/13 [00:02<00:00,  4.81it/s]\n"
     ]
    },
    {
     "name": "stdout",
     "output_type": "stream",
     "text": [
      "# Epoch 6 / 150\n"
     ]
    },
    {
     "name": "stderr",
     "output_type": "stream",
     "text": [
      "100%|███████████████████████████████████████████| 49/49 [00:27<00:00,  1.79it/s]\n",
      "100%|███████████████████████████████████████████| 49/49 [00:08<00:00,  6.07it/s]\n",
      "100%|███████████████████████████████████████████| 13/13 [00:02<00:00,  4.76it/s]\n"
     ]
    },
    {
     "name": "stdout",
     "output_type": "stream",
     "text": [
      "# Epoch 7 / 150\n"
     ]
    },
    {
     "name": "stderr",
     "output_type": "stream",
     "text": [
      "100%|███████████████████████████████████████████| 49/49 [00:27<00:00,  1.78it/s]\n",
      "100%|███████████████████████████████████████████| 49/49 [00:08<00:00,  5.98it/s]\n",
      "100%|███████████████████████████████████████████| 13/13 [00:02<00:00,  4.49it/s]\n"
     ]
    },
    {
     "name": "stdout",
     "output_type": "stream",
     "text": [
      "# Epoch 8 / 150\n"
     ]
    },
    {
     "name": "stderr",
     "output_type": "stream",
     "text": [
      "100%|███████████████████████████████████████████| 49/49 [00:27<00:00,  1.79it/s]\n",
      "100%|███████████████████████████████████████████| 49/49 [00:08<00:00,  6.08it/s]\n",
      "100%|███████████████████████████████████████████| 13/13 [00:02<00:00,  4.79it/s]\n"
     ]
    },
    {
     "name": "stdout",
     "output_type": "stream",
     "text": [
      "# Epoch 9 / 150\n"
     ]
    },
    {
     "name": "stderr",
     "output_type": "stream",
     "text": [
      "100%|███████████████████████████████████████████| 49/49 [00:28<00:00,  1.71it/s]\n",
      "100%|███████████████████████████████████████████| 49/49 [00:07<00:00,  6.32it/s]\n",
      "100%|███████████████████████████████████████████| 13/13 [00:02<00:00,  4.89it/s]\n"
     ]
    },
    {
     "name": "stdout",
     "output_type": "stream",
     "text": [
      "# Epoch 10 / 150\n"
     ]
    },
    {
     "name": "stderr",
     "output_type": "stream",
     "text": [
      "100%|███████████████████████████████████████████| 49/49 [00:28<00:00,  1.73it/s]\n",
      "100%|███████████████████████████████████████████| 49/49 [00:08<00:00,  6.09it/s]\n",
      "100%|███████████████████████████████████████████| 13/13 [00:02<00:00,  4.52it/s]\n"
     ]
    },
    {
     "name": "stdout",
     "output_type": "stream",
     "text": [
      "# Epoch 11 / 150\n"
     ]
    },
    {
     "name": "stderr",
     "output_type": "stream",
     "text": [
      "100%|███████████████████████████████████████████| 49/49 [00:26<00:00,  1.84it/s]\n",
      "100%|███████████████████████████████████████████| 49/49 [00:07<00:00,  6.17it/s]\n",
      "100%|███████████████████████████████████████████| 13/13 [00:02<00:00,  4.57it/s]\n"
     ]
    },
    {
     "name": "stdout",
     "output_type": "stream",
     "text": [
      "# Epoch 12 / 150\n"
     ]
    },
    {
     "name": "stderr",
     "output_type": "stream",
     "text": [
      "100%|███████████████████████████████████████████| 49/49 [00:27<00:00,  1.81it/s]\n",
      "100%|███████████████████████████████████████████| 49/49 [00:07<00:00,  6.40it/s]\n",
      "100%|███████████████████████████████████████████| 13/13 [00:02<00:00,  4.67it/s]\n"
     ]
    },
    {
     "name": "stdout",
     "output_type": "stream",
     "text": [
      "# Epoch 13 / 150\n"
     ]
    },
    {
     "name": "stderr",
     "output_type": "stream",
     "text": [
      "100%|███████████████████████████████████████████| 49/49 [00:27<00:00,  1.79it/s]\n",
      "100%|███████████████████████████████████████████| 49/49 [00:07<00:00,  6.42it/s]\n",
      "100%|███████████████████████████████████████████| 13/13 [00:02<00:00,  4.71it/s]\n"
     ]
    },
    {
     "name": "stdout",
     "output_type": "stream",
     "text": [
      "# Epoch 14 / 150\n"
     ]
    },
    {
     "name": "stderr",
     "output_type": "stream",
     "text": [
      "100%|███████████████████████████████████████████| 49/49 [00:27<00:00,  1.78it/s]\n",
      "100%|███████████████████████████████████████████| 49/49 [00:08<00:00,  5.97it/s]\n",
      "100%|███████████████████████████████████████████| 13/13 [00:02<00:00,  4.71it/s]\n"
     ]
    },
    {
     "name": "stdout",
     "output_type": "stream",
     "text": [
      "# Epoch 15 / 150\n"
     ]
    },
    {
     "name": "stderr",
     "output_type": "stream",
     "text": [
      "100%|███████████████████████████████████████████| 49/49 [00:27<00:00,  1.79it/s]\n",
      "100%|███████████████████████████████████████████| 49/49 [00:07<00:00,  6.32it/s]\n",
      "100%|███████████████████████████████████████████| 13/13 [00:02<00:00,  4.70it/s]\n"
     ]
    },
    {
     "name": "stdout",
     "output_type": "stream",
     "text": [
      "# Epoch 16 / 150\n"
     ]
    },
    {
     "name": "stderr",
     "output_type": "stream",
     "text": [
      "100%|███████████████████████████████████████████| 49/49 [00:26<00:00,  1.82it/s]\n",
      "100%|███████████████████████████████████████████| 49/49 [00:08<00:00,  6.07it/s]\n",
      "100%|███████████████████████████████████████████| 13/13 [00:02<00:00,  5.00it/s]\n"
     ]
    },
    {
     "name": "stdout",
     "output_type": "stream",
     "text": [
      "# Epoch 17 / 150\n"
     ]
    },
    {
     "name": "stderr",
     "output_type": "stream",
     "text": [
      "100%|███████████████████████████████████████████| 49/49 [00:27<00:00,  1.81it/s]\n",
      "100%|███████████████████████████████████████████| 49/49 [00:08<00:00,  6.08it/s]\n",
      "100%|███████████████████████████████████████████| 13/13 [00:02<00:00,  4.95it/s]\n"
     ]
    },
    {
     "name": "stdout",
     "output_type": "stream",
     "text": [
      "# Epoch 18 / 150\n"
     ]
    },
    {
     "name": "stderr",
     "output_type": "stream",
     "text": [
      "100%|███████████████████████████████████████████| 49/49 [00:26<00:00,  1.82it/s]\n",
      "100%|███████████████████████████████████████████| 49/49 [00:07<00:00,  6.36it/s]\n",
      "100%|███████████████████████████████████████████| 13/13 [00:02<00:00,  5.10it/s]\n"
     ]
    },
    {
     "name": "stdout",
     "output_type": "stream",
     "text": [
      "# Epoch 19 / 150\n"
     ]
    },
    {
     "name": "stderr",
     "output_type": "stream",
     "text": [
      "100%|███████████████████████████████████████████| 49/49 [00:27<00:00,  1.80it/s]\n",
      "100%|███████████████████████████████████████████| 49/49 [00:08<00:00,  6.06it/s]\n",
      "100%|███████████████████████████████████████████| 13/13 [00:02<00:00,  4.88it/s]\n"
     ]
    },
    {
     "name": "stdout",
     "output_type": "stream",
     "text": [
      "# Epoch 20 / 150\n"
     ]
    },
    {
     "name": "stderr",
     "output_type": "stream",
     "text": [
      "100%|███████████████████████████████████████████| 49/49 [00:28<00:00,  1.74it/s]\n",
      "100%|███████████████████████████████████████████| 49/49 [00:07<00:00,  6.25it/s]\n",
      "100%|███████████████████████████████████████████| 13/13 [00:02<00:00,  5.01it/s]\n"
     ]
    },
    {
     "name": "stdout",
     "output_type": "stream",
     "text": [
      "# Epoch 21 / 150\n"
     ]
    },
    {
     "name": "stderr",
     "output_type": "stream",
     "text": [
      "100%|███████████████████████████████████████████| 49/49 [00:28<00:00,  1.75it/s]\n",
      "100%|███████████████████████████████████████████| 49/49 [00:08<00:00,  6.10it/s]\n",
      "100%|███████████████████████████████████████████| 13/13 [00:02<00:00,  5.03it/s]\n"
     ]
    },
    {
     "name": "stdout",
     "output_type": "stream",
     "text": [
      "# Epoch 22 / 150\n"
     ]
    },
    {
     "name": "stderr",
     "output_type": "stream",
     "text": [
      "100%|███████████████████████████████████████████| 49/49 [00:27<00:00,  1.79it/s]\n",
      "100%|███████████████████████████████████████████| 49/49 [00:07<00:00,  6.28it/s]\n",
      "100%|███████████████████████████████████████████| 13/13 [00:02<00:00,  4.64it/s]\n"
     ]
    },
    {
     "name": "stdout",
     "output_type": "stream",
     "text": [
      "# Epoch 23 / 150\n"
     ]
    },
    {
     "name": "stderr",
     "output_type": "stream",
     "text": [
      "100%|███████████████████████████████████████████| 49/49 [00:27<00:00,  1.77it/s]\n",
      "100%|███████████████████████████████████████████| 49/49 [00:07<00:00,  6.18it/s]\n",
      "100%|███████████████████████████████████████████| 13/13 [00:02<00:00,  4.64it/s]\n"
     ]
    },
    {
     "name": "stdout",
     "output_type": "stream",
     "text": [
      "# Epoch 24 / 150\n"
     ]
    },
    {
     "name": "stderr",
     "output_type": "stream",
     "text": [
      "100%|███████████████████████████████████████████| 49/49 [00:27<00:00,  1.79it/s]\n",
      "100%|███████████████████████████████████████████| 49/49 [00:08<00:00,  6.10it/s]\n",
      "100%|███████████████████████████████████████████| 13/13 [00:02<00:00,  4.55it/s]\n"
     ]
    },
    {
     "name": "stdout",
     "output_type": "stream",
     "text": [
      "# Epoch 25 / 150\n"
     ]
    },
    {
     "name": "stderr",
     "output_type": "stream",
     "text": [
      "100%|███████████████████████████████████████████| 49/49 [00:27<00:00,  1.77it/s]\n",
      "100%|███████████████████████████████████████████| 49/49 [00:08<00:00,  6.07it/s]\n",
      "100%|███████████████████████████████████████████| 13/13 [00:02<00:00,  4.80it/s]\n"
     ]
    },
    {
     "name": "stdout",
     "output_type": "stream",
     "text": [
      "# Epoch 26 / 150\n"
     ]
    },
    {
     "name": "stderr",
     "output_type": "stream",
     "text": [
      "100%|███████████████████████████████████████████| 49/49 [00:27<00:00,  1.77it/s]\n",
      "100%|███████████████████████████████████████████| 49/49 [00:08<00:00,  5.83it/s]\n",
      "100%|███████████████████████████████████████████| 13/13 [00:02<00:00,  4.63it/s]\n"
     ]
    },
    {
     "name": "stdout",
     "output_type": "stream",
     "text": [
      "# Epoch 27 / 150\n"
     ]
    },
    {
     "name": "stderr",
     "output_type": "stream",
     "text": [
      "100%|███████████████████████████████████████████| 49/49 [00:27<00:00,  1.75it/s]\n",
      "100%|███████████████████████████████████████████| 49/49 [00:08<00:00,  6.11it/s]\n",
      "100%|███████████████████████████████████████████| 13/13 [00:02<00:00,  4.85it/s]\n"
     ]
    },
    {
     "name": "stdout",
     "output_type": "stream",
     "text": [
      "# Epoch 28 / 150\n"
     ]
    },
    {
     "name": "stderr",
     "output_type": "stream",
     "text": [
      "100%|███████████████████████████████████████████| 49/49 [00:28<00:00,  1.75it/s]\n",
      "100%|███████████████████████████████████████████| 49/49 [00:07<00:00,  6.29it/s]\n",
      "100%|███████████████████████████████████████████| 13/13 [00:02<00:00,  4.70it/s]\n"
     ]
    },
    {
     "name": "stdout",
     "output_type": "stream",
     "text": [
      "# Epoch 29 / 150\n"
     ]
    },
    {
     "name": "stderr",
     "output_type": "stream",
     "text": [
      "100%|███████████████████████████████████████████| 49/49 [00:27<00:00,  1.76it/s]\n",
      "100%|███████████████████████████████████████████| 49/49 [00:07<00:00,  6.30it/s]\n",
      "100%|███████████████████████████████████████████| 13/13 [00:02<00:00,  4.80it/s]\n"
     ]
    },
    {
     "name": "stdout",
     "output_type": "stream",
     "text": [
      "# Epoch 30 / 150\n"
     ]
    },
    {
     "name": "stderr",
     "output_type": "stream",
     "text": [
      "100%|███████████████████████████████████████████| 49/49 [00:28<00:00,  1.74it/s]\n",
      "100%|███████████████████████████████████████████| 49/49 [00:08<00:00,  6.09it/s]\n",
      "100%|███████████████████████████████████████████| 13/13 [00:02<00:00,  4.43it/s]\n"
     ]
    },
    {
     "name": "stdout",
     "output_type": "stream",
     "text": [
      "# Epoch 31 / 150\n"
     ]
    },
    {
     "name": "stderr",
     "output_type": "stream",
     "text": [
      "100%|███████████████████████████████████████████| 49/49 [00:28<00:00,  1.73it/s]\n",
      "100%|███████████████████████████████████████████| 49/49 [00:08<00:00,  5.95it/s]\n",
      "100%|███████████████████████████████████████████| 13/13 [00:02<00:00,  4.74it/s]\n"
     ]
    },
    {
     "name": "stdout",
     "output_type": "stream",
     "text": [
      "# Epoch 32 / 150\n"
     ]
    },
    {
     "name": "stderr",
     "output_type": "stream",
     "text": [
      "100%|███████████████████████████████████████████| 49/49 [00:27<00:00,  1.79it/s]\n",
      "100%|███████████████████████████████████████████| 49/49 [00:07<00:00,  6.21it/s]\n",
      "100%|███████████████████████████████████████████| 13/13 [00:02<00:00,  4.85it/s]\n"
     ]
    },
    {
     "name": "stdout",
     "output_type": "stream",
     "text": [
      "# Epoch 33 / 150\n"
     ]
    },
    {
     "name": "stderr",
     "output_type": "stream",
     "text": [
      "100%|███████████████████████████████████████████| 49/49 [00:28<00:00,  1.74it/s]\n",
      "100%|███████████████████████████████████████████| 49/49 [00:07<00:00,  6.42it/s]\n",
      "100%|███████████████████████████████████████████| 13/13 [00:02<00:00,  4.82it/s]\n"
     ]
    },
    {
     "name": "stdout",
     "output_type": "stream",
     "text": [
      "# Epoch 34 / 150\n"
     ]
    },
    {
     "name": "stderr",
     "output_type": "stream",
     "text": [
      "100%|███████████████████████████████████████████| 49/49 [00:28<00:00,  1.73it/s]\n",
      "100%|███████████████████████████████████████████| 49/49 [00:08<00:00,  6.08it/s]\n",
      "100%|███████████████████████████████████████████| 13/13 [00:02<00:00,  4.34it/s]\n"
     ]
    },
    {
     "name": "stdout",
     "output_type": "stream",
     "text": [
      "# Epoch 35 / 150\n"
     ]
    },
    {
     "name": "stderr",
     "output_type": "stream",
     "text": [
      "100%|███████████████████████████████████████████| 49/49 [00:28<00:00,  1.74it/s]\n",
      "100%|███████████████████████████████████████████| 49/49 [00:07<00:00,  6.31it/s]\n",
      "100%|███████████████████████████████████████████| 13/13 [00:02<00:00,  5.00it/s]\n"
     ]
    },
    {
     "name": "stdout",
     "output_type": "stream",
     "text": [
      "# Epoch 36 / 150\n"
     ]
    },
    {
     "name": "stderr",
     "output_type": "stream",
     "text": [
      "100%|███████████████████████████████████████████| 49/49 [00:27<00:00,  1.76it/s]\n",
      "100%|███████████████████████████████████████████| 49/49 [00:07<00:00,  6.36it/s]\n",
      "100%|███████████████████████████████████████████| 13/13 [00:02<00:00,  5.04it/s]\n"
     ]
    },
    {
     "name": "stdout",
     "output_type": "stream",
     "text": [
      "# Epoch 37 / 150\n"
     ]
    },
    {
     "name": "stderr",
     "output_type": "stream",
     "text": [
      "100%|███████████████████████████████████████████| 49/49 [00:27<00:00,  1.80it/s]\n",
      "100%|███████████████████████████████████████████| 49/49 [00:07<00:00,  6.22it/s]\n",
      "100%|███████████████████████████████████████████| 13/13 [00:02<00:00,  4.83it/s]\n"
     ]
    },
    {
     "name": "stdout",
     "output_type": "stream",
     "text": [
      "# Epoch 38 / 150\n"
     ]
    },
    {
     "name": "stderr",
     "output_type": "stream",
     "text": [
      "100%|███████████████████████████████████████████| 49/49 [00:26<00:00,  1.82it/s]\n",
      "100%|███████████████████████████████████████████| 49/49 [00:08<00:00,  6.06it/s]\n",
      "100%|███████████████████████████████████████████| 13/13 [00:02<00:00,  4.98it/s]\n"
     ]
    },
    {
     "name": "stdout",
     "output_type": "stream",
     "text": [
      "# Epoch 39 / 150\n"
     ]
    },
    {
     "name": "stderr",
     "output_type": "stream",
     "text": [
      "100%|███████████████████████████████████████████| 49/49 [00:27<00:00,  1.76it/s]\n",
      "100%|███████████████████████████████████████████| 49/49 [00:08<00:00,  6.01it/s]\n",
      "100%|███████████████████████████████████████████| 13/13 [00:02<00:00,  4.68it/s]\n"
     ]
    },
    {
     "name": "stdout",
     "output_type": "stream",
     "text": [
      "# Epoch 40 / 150\n"
     ]
    },
    {
     "name": "stderr",
     "output_type": "stream",
     "text": [
      "100%|███████████████████████████████████████████| 49/49 [00:27<00:00,  1.78it/s]\n",
      "100%|███████████████████████████████████████████| 49/49 [00:07<00:00,  6.32it/s]\n",
      "100%|███████████████████████████████████████████| 13/13 [00:02<00:00,  4.87it/s]\n"
     ]
    },
    {
     "name": "stdout",
     "output_type": "stream",
     "text": [
      "# Epoch 41 / 150\n"
     ]
    },
    {
     "name": "stderr",
     "output_type": "stream",
     "text": [
      "100%|███████████████████████████████████████████| 49/49 [00:26<00:00,  1.82it/s]\n",
      "100%|███████████████████████████████████████████| 49/49 [00:07<00:00,  6.29it/s]\n",
      "100%|███████████████████████████████████████████| 13/13 [00:02<00:00,  4.47it/s]\n"
     ]
    },
    {
     "name": "stdout",
     "output_type": "stream",
     "text": [
      "# Epoch 42 / 150\n"
     ]
    },
    {
     "name": "stderr",
     "output_type": "stream",
     "text": [
      "100%|███████████████████████████████████████████| 49/49 [00:27<00:00,  1.75it/s]\n",
      "100%|███████████████████████████████████████████| 49/49 [00:07<00:00,  6.22it/s]\n",
      "100%|███████████████████████████████████████████| 13/13 [00:02<00:00,  4.61it/s]\n"
     ]
    },
    {
     "name": "stdout",
     "output_type": "stream",
     "text": [
      "# Epoch 43 / 150\n"
     ]
    },
    {
     "name": "stderr",
     "output_type": "stream",
     "text": [
      "100%|███████████████████████████████████████████| 49/49 [00:26<00:00,  1.82it/s]\n",
      "100%|███████████████████████████████████████████| 49/49 [00:08<00:00,  6.05it/s]\n",
      "100%|███████████████████████████████████████████| 13/13 [00:02<00:00,  4.59it/s]\n"
     ]
    },
    {
     "name": "stdout",
     "output_type": "stream",
     "text": [
      "# Epoch 44 / 150\n"
     ]
    },
    {
     "name": "stderr",
     "output_type": "stream",
     "text": [
      "100%|███████████████████████████████████████████| 49/49 [00:28<00:00,  1.73it/s]\n",
      "100%|███████████████████████████████████████████| 49/49 [00:08<00:00,  5.93it/s]\n",
      "100%|███████████████████████████████████████████| 13/13 [00:02<00:00,  4.55it/s]\n"
     ]
    },
    {
     "name": "stdout",
     "output_type": "stream",
     "text": [
      "# Epoch 45 / 150\n"
     ]
    },
    {
     "name": "stderr",
     "output_type": "stream",
     "text": [
      "100%|███████████████████████████████████████████| 49/49 [00:27<00:00,  1.76it/s]\n",
      "100%|███████████████████████████████████████████| 49/49 [00:08<00:00,  5.92it/s]\n",
      "100%|███████████████████████████████████████████| 13/13 [00:02<00:00,  4.70it/s]\n"
     ]
    },
    {
     "name": "stdout",
     "output_type": "stream",
     "text": [
      "# Epoch 46 / 150\n"
     ]
    },
    {
     "name": "stderr",
     "output_type": "stream",
     "text": [
      "100%|███████████████████████████████████████████| 49/49 [00:27<00:00,  1.80it/s]\n",
      "100%|███████████████████████████████████████████| 49/49 [00:07<00:00,  6.13it/s]\n",
      "100%|███████████████████████████████████████████| 13/13 [00:02<00:00,  4.48it/s]\n"
     ]
    },
    {
     "name": "stdout",
     "output_type": "stream",
     "text": [
      "# Epoch 47 / 150\n"
     ]
    },
    {
     "name": "stderr",
     "output_type": "stream",
     "text": [
      "100%|███████████████████████████████████████████| 49/49 [00:27<00:00,  1.79it/s]\n",
      "100%|███████████████████████████████████████████| 49/49 [00:07<00:00,  6.41it/s]\n",
      "100%|███████████████████████████████████████████| 13/13 [00:02<00:00,  4.77it/s]\n"
     ]
    },
    {
     "name": "stdout",
     "output_type": "stream",
     "text": [
      "# Epoch 48 / 150\n"
     ]
    },
    {
     "name": "stderr",
     "output_type": "stream",
     "text": [
      "100%|███████████████████████████████████████████| 49/49 [00:28<00:00,  1.75it/s]\n",
      "100%|███████████████████████████████████████████| 49/49 [00:07<00:00,  6.25it/s]\n",
      "100%|███████████████████████████████████████████| 13/13 [00:02<00:00,  4.83it/s]\n"
     ]
    },
    {
     "name": "stdout",
     "output_type": "stream",
     "text": [
      "# Epoch 49 / 150\n"
     ]
    },
    {
     "name": "stderr",
     "output_type": "stream",
     "text": [
      "100%|███████████████████████████████████████████| 49/49 [00:27<00:00,  1.75it/s]\n",
      "100%|███████████████████████████████████████████| 49/49 [00:08<00:00,  5.81it/s]\n",
      "100%|███████████████████████████████████████████| 13/13 [00:02<00:00,  4.55it/s]\n"
     ]
    },
    {
     "name": "stdout",
     "output_type": "stream",
     "text": [
      "# Epoch 50 / 150\n"
     ]
    },
    {
     "name": "stderr",
     "output_type": "stream",
     "text": [
      "100%|███████████████████████████████████████████| 49/49 [00:28<00:00,  1.70it/s]\n",
      "100%|███████████████████████████████████████████| 49/49 [00:08<00:00,  5.86it/s]\n",
      "100%|███████████████████████████████████████████| 13/13 [00:02<00:00,  4.75it/s]\n"
     ]
    },
    {
     "name": "stdout",
     "output_type": "stream",
     "text": [
      "# Epoch 51 / 150\n"
     ]
    },
    {
     "name": "stderr",
     "output_type": "stream",
     "text": [
      "100%|███████████████████████████████████████████| 49/49 [00:27<00:00,  1.80it/s]\n",
      "100%|███████████████████████████████████████████| 49/49 [00:08<00:00,  5.95it/s]\n",
      "100%|███████████████████████████████████████████| 13/13 [00:02<00:00,  4.57it/s]\n"
     ]
    },
    {
     "name": "stdout",
     "output_type": "stream",
     "text": [
      "# Epoch 52 / 150\n"
     ]
    },
    {
     "name": "stderr",
     "output_type": "stream",
     "text": [
      "100%|███████████████████████████████████████████| 49/49 [00:27<00:00,  1.79it/s]\n",
      "100%|███████████████████████████████████████████| 49/49 [00:08<00:00,  5.71it/s]\n",
      "100%|███████████████████████████████████████████| 13/13 [00:02<00:00,  4.35it/s]\n"
     ]
    },
    {
     "name": "stdout",
     "output_type": "stream",
     "text": [
      "# Epoch 53 / 150\n"
     ]
    },
    {
     "name": "stderr",
     "output_type": "stream",
     "text": [
      "100%|███████████████████████████████████████████| 49/49 [00:28<00:00,  1.73it/s]\n",
      "100%|███████████████████████████████████████████| 49/49 [00:08<00:00,  5.82it/s]\n",
      "100%|███████████████████████████████████████████| 13/13 [00:02<00:00,  4.91it/s]\n"
     ]
    },
    {
     "name": "stdout",
     "output_type": "stream",
     "text": [
      "# Epoch 54 / 150\n"
     ]
    },
    {
     "name": "stderr",
     "output_type": "stream",
     "text": [
      "100%|███████████████████████████████████████████| 49/49 [00:27<00:00,  1.76it/s]\n",
      "100%|███████████████████████████████████████████| 49/49 [00:08<00:00,  5.93it/s]\n",
      "100%|███████████████████████████████████████████| 13/13 [00:02<00:00,  4.73it/s]\n"
     ]
    },
    {
     "name": "stdout",
     "output_type": "stream",
     "text": [
      "# Epoch 55 / 150\n"
     ]
    },
    {
     "name": "stderr",
     "output_type": "stream",
     "text": [
      "100%|███████████████████████████████████████████| 49/49 [00:27<00:00,  1.78it/s]\n",
      "100%|███████████████████████████████████████████| 49/49 [00:08<00:00,  5.71it/s]\n",
      "100%|███████████████████████████████████████████| 13/13 [00:02<00:00,  4.38it/s]\n"
     ]
    },
    {
     "name": "stdout",
     "output_type": "stream",
     "text": [
      "# Epoch 56 / 150\n"
     ]
    },
    {
     "name": "stderr",
     "output_type": "stream",
     "text": [
      "100%|███████████████████████████████████████████| 49/49 [00:28<00:00,  1.74it/s]\n",
      "100%|███████████████████████████████████████████| 49/49 [00:08<00:00,  5.69it/s]\n",
      "100%|███████████████████████████████████████████| 13/13 [00:02<00:00,  4.36it/s]\n"
     ]
    },
    {
     "name": "stdout",
     "output_type": "stream",
     "text": [
      "# Epoch 57 / 150\n"
     ]
    },
    {
     "name": "stderr",
     "output_type": "stream",
     "text": [
      "100%|███████████████████████████████████████████| 49/49 [00:26<00:00,  1.83it/s]\n",
      "100%|███████████████████████████████████████████| 49/49 [00:08<00:00,  5.74it/s]\n",
      "100%|███████████████████████████████████████████| 13/13 [00:02<00:00,  4.57it/s]\n"
     ]
    },
    {
     "name": "stdout",
     "output_type": "stream",
     "text": [
      "# Epoch 58 / 150\n"
     ]
    },
    {
     "name": "stderr",
     "output_type": "stream",
     "text": [
      "100%|███████████████████████████████████████████| 49/49 [00:27<00:00,  1.80it/s]\n",
      "100%|███████████████████████████████████████████| 49/49 [00:08<00:00,  5.86it/s]\n",
      "100%|███████████████████████████████████████████| 13/13 [00:02<00:00,  4.72it/s]\n"
     ]
    },
    {
     "name": "stdout",
     "output_type": "stream",
     "text": [
      "# Epoch 59 / 150\n"
     ]
    },
    {
     "name": "stderr",
     "output_type": "stream",
     "text": [
      "100%|███████████████████████████████████████████| 49/49 [00:28<00:00,  1.73it/s]\n",
      "100%|███████████████████████████████████████████| 49/49 [00:08<00:00,  5.99it/s]\n",
      "100%|███████████████████████████████████████████| 13/13 [00:02<00:00,  4.56it/s]\n"
     ]
    },
    {
     "name": "stdout",
     "output_type": "stream",
     "text": [
      "# Epoch 60 / 150\n"
     ]
    },
    {
     "name": "stderr",
     "output_type": "stream",
     "text": [
      "100%|███████████████████████████████████████████| 49/49 [00:27<00:00,  1.77it/s]\n",
      "100%|███████████████████████████████████████████| 49/49 [00:08<00:00,  5.80it/s]\n",
      "100%|███████████████████████████████████████████| 13/13 [00:02<00:00,  4.73it/s]\n"
     ]
    },
    {
     "name": "stdout",
     "output_type": "stream",
     "text": [
      "# Epoch 61 / 150\n"
     ]
    },
    {
     "name": "stderr",
     "output_type": "stream",
     "text": [
      "100%|███████████████████████████████████████████| 49/49 [00:27<00:00,  1.78it/s]\n",
      "100%|███████████████████████████████████████████| 49/49 [00:08<00:00,  5.96it/s]\n",
      "100%|███████████████████████████████████████████| 13/13 [00:02<00:00,  4.39it/s]\n"
     ]
    },
    {
     "name": "stdout",
     "output_type": "stream",
     "text": [
      "# Epoch 62 / 150\n"
     ]
    },
    {
     "name": "stderr",
     "output_type": "stream",
     "text": [
      "100%|███████████████████████████████████████████| 49/49 [00:28<00:00,  1.74it/s]\n",
      "100%|███████████████████████████████████████████| 49/49 [00:08<00:00,  5.99it/s]\n",
      "100%|███████████████████████████████████████████| 13/13 [00:02<00:00,  4.40it/s]\n"
     ]
    },
    {
     "name": "stdout",
     "output_type": "stream",
     "text": [
      "# Epoch 63 / 150\n"
     ]
    },
    {
     "name": "stderr",
     "output_type": "stream",
     "text": [
      "100%|███████████████████████████████████████████| 49/49 [00:27<00:00,  1.79it/s]\n",
      "100%|███████████████████████████████████████████| 49/49 [00:08<00:00,  5.81it/s]\n",
      "100%|███████████████████████████████████████████| 13/13 [00:02<00:00,  4.67it/s]\n"
     ]
    },
    {
     "name": "stdout",
     "output_type": "stream",
     "text": [
      "# Epoch 64 / 150\n"
     ]
    },
    {
     "name": "stderr",
     "output_type": "stream",
     "text": [
      "100%|███████████████████████████████████████████| 49/49 [00:27<00:00,  1.79it/s]\n",
      "100%|███████████████████████████████████████████| 49/49 [00:08<00:00,  5.94it/s]\n",
      "100%|███████████████████████████████████████████| 13/13 [00:02<00:00,  4.53it/s]\n"
     ]
    },
    {
     "name": "stdout",
     "output_type": "stream",
     "text": [
      "# Epoch 65 / 150\n"
     ]
    },
    {
     "name": "stderr",
     "output_type": "stream",
     "text": [
      "100%|███████████████████████████████████████████| 49/49 [00:27<00:00,  1.75it/s]\n",
      "100%|███████████████████████████████████████████| 49/49 [00:08<00:00,  5.72it/s]\n",
      "100%|███████████████████████████████████████████| 13/13 [00:02<00:00,  4.78it/s]\n"
     ]
    },
    {
     "name": "stdout",
     "output_type": "stream",
     "text": [
      "# Epoch 66 / 150\n"
     ]
    },
    {
     "name": "stderr",
     "output_type": "stream",
     "text": [
      "100%|███████████████████████████████████████████| 49/49 [00:28<00:00,  1.72it/s]\n",
      "100%|███████████████████████████████████████████| 49/49 [00:08<00:00,  5.82it/s]\n",
      "100%|███████████████████████████████████████████| 13/13 [00:02<00:00,  4.71it/s]\n"
     ]
    },
    {
     "name": "stdout",
     "output_type": "stream",
     "text": [
      "# Epoch 67 / 150\n"
     ]
    },
    {
     "name": "stderr",
     "output_type": "stream",
     "text": [
      "100%|███████████████████████████████████████████| 49/49 [00:27<00:00,  1.78it/s]\n",
      "100%|███████████████████████████████████████████| 49/49 [00:08<00:00,  5.82it/s]\n",
      "100%|███████████████████████████████████████████| 13/13 [00:02<00:00,  4.83it/s]\n"
     ]
    },
    {
     "name": "stdout",
     "output_type": "stream",
     "text": [
      "# Epoch 68 / 150\n"
     ]
    },
    {
     "name": "stderr",
     "output_type": "stream",
     "text": [
      "100%|███████████████████████████████████████████| 49/49 [00:28<00:00,  1.74it/s]\n",
      "100%|███████████████████████████████████████████| 49/49 [00:08<00:00,  5.97it/s]\n",
      "100%|███████████████████████████████████████████| 13/13 [00:02<00:00,  4.57it/s]\n"
     ]
    },
    {
     "name": "stdout",
     "output_type": "stream",
     "text": [
      "# Epoch 69 / 150\n"
     ]
    },
    {
     "name": "stderr",
     "output_type": "stream",
     "text": [
      "100%|███████████████████████████████████████████| 49/49 [00:28<00:00,  1.74it/s]\n",
      "100%|███████████████████████████████████████████| 49/49 [00:08<00:00,  5.92it/s]\n",
      "100%|███████████████████████████████████████████| 13/13 [00:02<00:00,  4.58it/s]\n"
     ]
    },
    {
     "name": "stdout",
     "output_type": "stream",
     "text": [
      "# Epoch 70 / 150\n"
     ]
    },
    {
     "name": "stderr",
     "output_type": "stream",
     "text": [
      "100%|███████████████████████████████████████████| 49/49 [00:27<00:00,  1.79it/s]\n",
      "100%|███████████████████████████████████████████| 49/49 [00:08<00:00,  5.74it/s]\n",
      "100%|███████████████████████████████████████████| 13/13 [00:02<00:00,  4.37it/s]\n"
     ]
    },
    {
     "name": "stdout",
     "output_type": "stream",
     "text": [
      "# Epoch 71 / 150\n"
     ]
    },
    {
     "name": "stderr",
     "output_type": "stream",
     "text": [
      "100%|███████████████████████████████████████████| 49/49 [00:28<00:00,  1.74it/s]\n",
      "100%|███████████████████████████████████████████| 49/49 [00:08<00:00,  5.77it/s]\n",
      "100%|███████████████████████████████████████████| 13/13 [00:02<00:00,  4.78it/s]\n"
     ]
    },
    {
     "name": "stdout",
     "output_type": "stream",
     "text": [
      "# Epoch 72 / 150\n"
     ]
    },
    {
     "name": "stderr",
     "output_type": "stream",
     "text": [
      "100%|███████████████████████████████████████████| 49/49 [00:27<00:00,  1.80it/s]\n",
      "100%|███████████████████████████████████████████| 49/49 [00:08<00:00,  5.82it/s]\n",
      "100%|███████████████████████████████████████████| 13/13 [00:02<00:00,  4.50it/s]\n"
     ]
    },
    {
     "name": "stdout",
     "output_type": "stream",
     "text": [
      "# Epoch 73 / 150\n"
     ]
    },
    {
     "name": "stderr",
     "output_type": "stream",
     "text": [
      "100%|███████████████████████████████████████████| 49/49 [00:28<00:00,  1.71it/s]\n",
      "100%|███████████████████████████████████████████| 49/49 [00:08<00:00,  5.89it/s]\n",
      "100%|███████████████████████████████████████████| 13/13 [00:02<00:00,  4.59it/s]\n"
     ]
    },
    {
     "name": "stdout",
     "output_type": "stream",
     "text": [
      "# Epoch 74 / 150\n"
     ]
    },
    {
     "name": "stderr",
     "output_type": "stream",
     "text": [
      "100%|███████████████████████████████████████████| 49/49 [00:28<00:00,  1.73it/s]\n",
      "100%|███████████████████████████████████████████| 49/49 [00:08<00:00,  5.95it/s]\n",
      "100%|███████████████████████████████████████████| 13/13 [00:02<00:00,  4.53it/s]\n"
     ]
    },
    {
     "name": "stdout",
     "output_type": "stream",
     "text": [
      "# Epoch 75 / 150\n"
     ]
    },
    {
     "name": "stderr",
     "output_type": "stream",
     "text": [
      "100%|███████████████████████████████████████████| 49/49 [00:27<00:00,  1.81it/s]\n",
      "100%|███████████████████████████████████████████| 49/49 [00:08<00:00,  5.95it/s]\n",
      "100%|███████████████████████████████████████████| 13/13 [00:02<00:00,  4.36it/s]\n"
     ]
    },
    {
     "name": "stdout",
     "output_type": "stream",
     "text": [
      "# Epoch 76 / 150\n"
     ]
    },
    {
     "name": "stderr",
     "output_type": "stream",
     "text": [
      "100%|███████████████████████████████████████████| 49/49 [00:27<00:00,  1.80it/s]\n",
      "100%|███████████████████████████████████████████| 49/49 [00:08<00:00,  5.92it/s]\n",
      "100%|███████████████████████████████████████████| 13/13 [00:02<00:00,  4.38it/s]\n"
     ]
    },
    {
     "name": "stdout",
     "output_type": "stream",
     "text": [
      "# Epoch 77 / 150\n"
     ]
    },
    {
     "name": "stderr",
     "output_type": "stream",
     "text": [
      "100%|███████████████████████████████████████████| 49/49 [00:27<00:00,  1.77it/s]\n",
      "100%|███████████████████████████████████████████| 49/49 [00:08<00:00,  5.90it/s]\n",
      "100%|███████████████████████████████████████████| 13/13 [00:02<00:00,  4.70it/s]\n"
     ]
    },
    {
     "name": "stdout",
     "output_type": "stream",
     "text": [
      "# Epoch 78 / 150\n"
     ]
    },
    {
     "name": "stderr",
     "output_type": "stream",
     "text": [
      "100%|███████████████████████████████████████████| 49/49 [00:28<00:00,  1.75it/s]\n",
      "100%|███████████████████████████████████████████| 49/49 [00:08<00:00,  5.60it/s]\n",
      "100%|███████████████████████████████████████████| 13/13 [00:03<00:00,  4.24it/s]\n"
     ]
    },
    {
     "name": "stdout",
     "output_type": "stream",
     "text": [
      "# Epoch 79 / 150\n"
     ]
    },
    {
     "name": "stderr",
     "output_type": "stream",
     "text": [
      "100%|███████████████████████████████████████████| 49/49 [00:27<00:00,  1.78it/s]\n",
      "100%|███████████████████████████████████████████| 49/49 [00:08<00:00,  5.96it/s]\n",
      "100%|███████████████████████████████████████████| 13/13 [00:02<00:00,  4.72it/s]\n"
     ]
    },
    {
     "name": "stdout",
     "output_type": "stream",
     "text": [
      "# Epoch 80 / 150\n"
     ]
    },
    {
     "name": "stderr",
     "output_type": "stream",
     "text": [
      "100%|███████████████████████████████████████████| 49/49 [00:27<00:00,  1.79it/s]\n",
      "100%|███████████████████████████████████████████| 49/49 [00:08<00:00,  5.80it/s]\n",
      "100%|███████████████████████████████████████████| 13/13 [00:02<00:00,  4.60it/s]\n"
     ]
    },
    {
     "name": "stdout",
     "output_type": "stream",
     "text": [
      "# Epoch 81 / 150\n"
     ]
    },
    {
     "name": "stderr",
     "output_type": "stream",
     "text": [
      "100%|███████████████████████████████████████████| 49/49 [00:27<00:00,  1.75it/s]\n",
      "100%|███████████████████████████████████████████| 49/49 [00:08<00:00,  5.64it/s]\n",
      "100%|███████████████████████████████████████████| 13/13 [00:02<00:00,  4.73it/s]\n"
     ]
    },
    {
     "name": "stdout",
     "output_type": "stream",
     "text": [
      "# Epoch 82 / 150\n"
     ]
    },
    {
     "name": "stderr",
     "output_type": "stream",
     "text": [
      "100%|███████████████████████████████████████████| 49/49 [00:27<00:00,  1.78it/s]\n",
      "100%|███████████████████████████████████████████| 49/49 [00:08<00:00,  6.08it/s]\n",
      "100%|███████████████████████████████████████████| 13/13 [00:02<00:00,  4.49it/s]\n"
     ]
    },
    {
     "name": "stdout",
     "output_type": "stream",
     "text": [
      "# Epoch 83 / 150\n"
     ]
    },
    {
     "name": "stderr",
     "output_type": "stream",
     "text": [
      "100%|███████████████████████████████████████████| 49/49 [00:27<00:00,  1.79it/s]\n",
      "100%|███████████████████████████████████████████| 49/49 [00:08<00:00,  5.91it/s]\n",
      "100%|███████████████████████████████████████████| 13/13 [00:02<00:00,  4.45it/s]\n"
     ]
    },
    {
     "name": "stdout",
     "output_type": "stream",
     "text": [
      "# Epoch 84 / 150\n"
     ]
    },
    {
     "name": "stderr",
     "output_type": "stream",
     "text": [
      "100%|███████████████████████████████████████████| 49/49 [00:28<00:00,  1.74it/s]\n",
      "100%|███████████████████████████████████████████| 49/49 [00:08<00:00,  5.82it/s]\n",
      "100%|███████████████████████████████████████████| 13/13 [00:02<00:00,  4.53it/s]\n"
     ]
    },
    {
     "name": "stdout",
     "output_type": "stream",
     "text": [
      "# Epoch 85 / 150\n"
     ]
    },
    {
     "name": "stderr",
     "output_type": "stream",
     "text": [
      "100%|███████████████████████████████████████████| 49/49 [00:26<00:00,  1.82it/s]\n",
      "100%|███████████████████████████████████████████| 49/49 [00:08<00:00,  5.84it/s]\n",
      "100%|███████████████████████████████████████████| 13/13 [00:02<00:00,  4.39it/s]\n"
     ]
    },
    {
     "name": "stdout",
     "output_type": "stream",
     "text": [
      "# Epoch 86 / 150\n"
     ]
    },
    {
     "name": "stderr",
     "output_type": "stream",
     "text": [
      "100%|███████████████████████████████████████████| 49/49 [00:26<00:00,  1.83it/s]\n",
      "100%|███████████████████████████████████████████| 49/49 [00:08<00:00,  5.89it/s]\n",
      "100%|███████████████████████████████████████████| 13/13 [00:02<00:00,  4.61it/s]\n"
     ]
    },
    {
     "name": "stdout",
     "output_type": "stream",
     "text": [
      "# Epoch 87 / 150\n"
     ]
    },
    {
     "name": "stderr",
     "output_type": "stream",
     "text": [
      "100%|███████████████████████████████████████████| 49/49 [00:27<00:00,  1.78it/s]\n",
      "100%|███████████████████████████████████████████| 49/49 [00:08<00:00,  6.07it/s]\n",
      "100%|███████████████████████████████████████████| 13/13 [00:02<00:00,  4.77it/s]\n"
     ]
    },
    {
     "name": "stdout",
     "output_type": "stream",
     "text": [
      "# Epoch 88 / 150\n"
     ]
    },
    {
     "name": "stderr",
     "output_type": "stream",
     "text": [
      "100%|███████████████████████████████████████████| 49/49 [00:27<00:00,  1.78it/s]\n",
      "100%|███████████████████████████████████████████| 49/49 [00:08<00:00,  6.02it/s]\n",
      "100%|███████████████████████████████████████████| 13/13 [00:02<00:00,  4.55it/s]\n"
     ]
    },
    {
     "name": "stdout",
     "output_type": "stream",
     "text": [
      "# Epoch 89 / 150\n"
     ]
    },
    {
     "name": "stderr",
     "output_type": "stream",
     "text": [
      "100%|███████████████████████████████████████████| 49/49 [00:28<00:00,  1.74it/s]\n",
      "100%|███████████████████████████████████████████| 49/49 [00:08<00:00,  5.94it/s]\n",
      "100%|███████████████████████████████████████████| 13/13 [00:02<00:00,  4.52it/s]\n"
     ]
    },
    {
     "name": "stdout",
     "output_type": "stream",
     "text": [
      "# Epoch 90 / 150\n"
     ]
    },
    {
     "name": "stderr",
     "output_type": "stream",
     "text": [
      "100%|███████████████████████████████████████████| 49/49 [00:27<00:00,  1.80it/s]\n",
      "100%|███████████████████████████████████████████| 49/49 [00:08<00:00,  5.94it/s]\n",
      "100%|███████████████████████████████████████████| 13/13 [00:02<00:00,  4.54it/s]\n"
     ]
    },
    {
     "name": "stdout",
     "output_type": "stream",
     "text": [
      "# Epoch 91 / 150\n"
     ]
    },
    {
     "name": "stderr",
     "output_type": "stream",
     "text": [
      "100%|███████████████████████████████████████████| 49/49 [00:27<00:00,  1.79it/s]\n",
      "100%|███████████████████████████████████████████| 49/49 [00:08<00:00,  5.77it/s]\n",
      "100%|███████████████████████████████████████████| 13/13 [00:02<00:00,  4.86it/s]\n"
     ]
    },
    {
     "name": "stdout",
     "output_type": "stream",
     "text": [
      "# Epoch 92 / 150\n"
     ]
    },
    {
     "name": "stderr",
     "output_type": "stream",
     "text": [
      "100%|███████████████████████████████████████████| 49/49 [00:27<00:00,  1.76it/s]\n",
      "100%|███████████████████████████████████████████| 49/49 [00:08<00:00,  5.88it/s]\n",
      "100%|███████████████████████████████████████████| 13/13 [00:02<00:00,  4.36it/s]\n"
     ]
    },
    {
     "name": "stdout",
     "output_type": "stream",
     "text": [
      "# Epoch 93 / 150\n"
     ]
    },
    {
     "name": "stderr",
     "output_type": "stream",
     "text": [
      "100%|███████████████████████████████████████████| 49/49 [00:28<00:00,  1.75it/s]\n",
      "100%|███████████████████████████████████████████| 49/49 [00:08<00:00,  6.07it/s]\n",
      "100%|███████████████████████████████████████████| 13/13 [00:02<00:00,  4.69it/s]\n"
     ]
    },
    {
     "name": "stdout",
     "output_type": "stream",
     "text": [
      "# Epoch 94 / 150\n"
     ]
    },
    {
     "name": "stderr",
     "output_type": "stream",
     "text": [
      "100%|███████████████████████████████████████████| 49/49 [00:27<00:00,  1.78it/s]\n",
      "100%|███████████████████████████████████████████| 49/49 [00:08<00:00,  5.89it/s]\n",
      "100%|███████████████████████████████████████████| 13/13 [00:02<00:00,  4.34it/s]\n"
     ]
    },
    {
     "name": "stdout",
     "output_type": "stream",
     "text": [
      "# Epoch 95 / 150\n"
     ]
    },
    {
     "name": "stderr",
     "output_type": "stream",
     "text": [
      "100%|███████████████████████████████████████████| 49/49 [00:27<00:00,  1.81it/s]\n",
      "100%|███████████████████████████████████████████| 49/49 [00:08<00:00,  5.58it/s]\n",
      "100%|███████████████████████████████████████████| 13/13 [00:02<00:00,  4.51it/s]\n"
     ]
    },
    {
     "name": "stdout",
     "output_type": "stream",
     "text": [
      "# Epoch 96 / 150\n"
     ]
    },
    {
     "name": "stderr",
     "output_type": "stream",
     "text": [
      "100%|███████████████████████████████████████████| 49/49 [00:27<00:00,  1.79it/s]\n",
      "100%|███████████████████████████████████████████| 49/49 [00:08<00:00,  5.91it/s]\n",
      "100%|███████████████████████████████████████████| 13/13 [00:02<00:00,  4.71it/s]\n"
     ]
    },
    {
     "name": "stdout",
     "output_type": "stream",
     "text": [
      "# Epoch 97 / 150\n"
     ]
    },
    {
     "name": "stderr",
     "output_type": "stream",
     "text": [
      "100%|███████████████████████████████████████████| 49/49 [00:27<00:00,  1.80it/s]\n",
      "100%|███████████████████████████████████████████| 49/49 [00:08<00:00,  5.64it/s]\n",
      "100%|███████████████████████████████████████████| 13/13 [00:02<00:00,  4.50it/s]\n"
     ]
    },
    {
     "name": "stdout",
     "output_type": "stream",
     "text": [
      "# Epoch 98 / 150\n"
     ]
    },
    {
     "name": "stderr",
     "output_type": "stream",
     "text": [
      "100%|███████████████████████████████████████████| 49/49 [00:26<00:00,  1.82it/s]\n",
      "100%|███████████████████████████████████████████| 49/49 [00:08<00:00,  6.10it/s]\n",
      "100%|███████████████████████████████████████████| 13/13 [00:02<00:00,  4.55it/s]\n"
     ]
    },
    {
     "name": "stdout",
     "output_type": "stream",
     "text": [
      "# Epoch 99 / 150\n"
     ]
    },
    {
     "name": "stderr",
     "output_type": "stream",
     "text": [
      "100%|███████████████████████████████████████████| 49/49 [00:28<00:00,  1.75it/s]\n",
      "100%|███████████████████████████████████████████| 49/49 [00:08<00:00,  5.73it/s]\n",
      "100%|███████████████████████████████████████████| 13/13 [00:03<00:00,  4.24it/s]\n"
     ]
    },
    {
     "name": "stdout",
     "output_type": "stream",
     "text": [
      "# Epoch 100 / 150\n"
     ]
    },
    {
     "name": "stderr",
     "output_type": "stream",
     "text": [
      "100%|███████████████████████████████████████████| 49/49 [00:28<00:00,  1.74it/s]\n",
      "100%|███████████████████████████████████████████| 49/49 [00:08<00:00,  5.77it/s]\n",
      "100%|███████████████████████████████████████████| 13/13 [00:02<00:00,  4.67it/s]\n"
     ]
    },
    {
     "name": "stdout",
     "output_type": "stream",
     "text": [
      "# Epoch 101 / 150\n"
     ]
    },
    {
     "name": "stderr",
     "output_type": "stream",
     "text": [
      "100%|███████████████████████████████████████████| 49/49 [00:27<00:00,  1.78it/s]\n",
      "100%|███████████████████████████████████████████| 49/49 [00:08<00:00,  5.77it/s]\n",
      "100%|███████████████████████████████████████████| 13/13 [00:02<00:00,  5.14it/s]\n"
     ]
    },
    {
     "name": "stdout",
     "output_type": "stream",
     "text": [
      "# Epoch 102 / 150\n"
     ]
    },
    {
     "name": "stderr",
     "output_type": "stream",
     "text": [
      "100%|███████████████████████████████████████████| 49/49 [00:27<00:00,  1.79it/s]\n",
      "100%|███████████████████████████████████████████| 49/49 [00:08<00:00,  5.90it/s]\n",
      "100%|███████████████████████████████████████████| 13/13 [00:02<00:00,  4.71it/s]\n"
     ]
    },
    {
     "name": "stdout",
     "output_type": "stream",
     "text": [
      "# Epoch 103 / 150\n"
     ]
    },
    {
     "name": "stderr",
     "output_type": "stream",
     "text": [
      "100%|███████████████████████████████████████████| 49/49 [00:28<00:00,  1.74it/s]\n",
      "100%|███████████████████████████████████████████| 49/49 [00:08<00:00,  6.03it/s]\n",
      "100%|███████████████████████████████████████████| 13/13 [00:02<00:00,  4.42it/s]\n"
     ]
    },
    {
     "name": "stdout",
     "output_type": "stream",
     "text": [
      "# Epoch 104 / 150\n"
     ]
    },
    {
     "name": "stderr",
     "output_type": "stream",
     "text": [
      "100%|███████████████████████████████████████████| 49/49 [00:27<00:00,  1.80it/s]\n",
      "100%|███████████████████████████████████████████| 49/49 [00:08<00:00,  5.89it/s]\n",
      "100%|███████████████████████████████████████████| 13/13 [00:02<00:00,  4.53it/s]\n"
     ]
    },
    {
     "name": "stdout",
     "output_type": "stream",
     "text": [
      "# Epoch 105 / 150\n"
     ]
    },
    {
     "name": "stderr",
     "output_type": "stream",
     "text": [
      "100%|███████████████████████████████████████████| 49/49 [00:27<00:00,  1.78it/s]\n",
      "100%|███████████████████████████████████████████| 49/49 [00:08<00:00,  5.80it/s]\n",
      "100%|███████████████████████████████████████████| 13/13 [00:02<00:00,  4.51it/s]\n"
     ]
    },
    {
     "name": "stdout",
     "output_type": "stream",
     "text": [
      "# Epoch 106 / 150\n"
     ]
    },
    {
     "name": "stderr",
     "output_type": "stream",
     "text": [
      "100%|███████████████████████████████████████████| 49/49 [00:27<00:00,  1.79it/s]\n",
      "100%|███████████████████████████████████████████| 49/49 [00:08<00:00,  5.82it/s]\n",
      "100%|███████████████████████████████████████████| 13/13 [00:02<00:00,  4.64it/s]\n"
     ]
    },
    {
     "name": "stdout",
     "output_type": "stream",
     "text": [
      "# Epoch 107 / 150\n"
     ]
    },
    {
     "name": "stderr",
     "output_type": "stream",
     "text": [
      "100%|███████████████████████████████████████████| 49/49 [00:28<00:00,  1.70it/s]\n",
      "100%|███████████████████████████████████████████| 49/49 [00:08<00:00,  5.76it/s]\n",
      "100%|███████████████████████████████████████████| 13/13 [00:02<00:00,  4.38it/s]\n"
     ]
    },
    {
     "name": "stdout",
     "output_type": "stream",
     "text": [
      "# Epoch 108 / 150\n"
     ]
    },
    {
     "name": "stderr",
     "output_type": "stream",
     "text": [
      "100%|███████████████████████████████████████████| 49/49 [00:27<00:00,  1.76it/s]\n",
      "100%|███████████████████████████████████████████| 49/49 [00:08<00:00,  5.95it/s]\n",
      "100%|███████████████████████████████████████████| 13/13 [00:02<00:00,  4.75it/s]\n"
     ]
    },
    {
     "name": "stdout",
     "output_type": "stream",
     "text": [
      "# Epoch 109 / 150\n"
     ]
    },
    {
     "name": "stderr",
     "output_type": "stream",
     "text": [
      "100%|███████████████████████████████████████████| 49/49 [00:28<00:00,  1.74it/s]\n",
      "100%|███████████████████████████████████████████| 49/49 [00:08<00:00,  5.88it/s]\n",
      "100%|███████████████████████████████████████████| 13/13 [00:02<00:00,  4.56it/s]\n"
     ]
    },
    {
     "name": "stdout",
     "output_type": "stream",
     "text": [
      "# Epoch 110 / 150\n"
     ]
    },
    {
     "name": "stderr",
     "output_type": "stream",
     "text": [
      "100%|███████████████████████████████████████████| 49/49 [00:27<00:00,  1.75it/s]\n",
      "100%|███████████████████████████████████████████| 49/49 [00:08<00:00,  5.73it/s]\n",
      "100%|███████████████████████████████████████████| 13/13 [00:02<00:00,  4.78it/s]\n"
     ]
    },
    {
     "name": "stdout",
     "output_type": "stream",
     "text": [
      "# Epoch 111 / 150\n"
     ]
    },
    {
     "name": "stderr",
     "output_type": "stream",
     "text": [
      "100%|███████████████████████████████████████████| 49/49 [00:27<00:00,  1.78it/s]\n",
      "100%|███████████████████████████████████████████| 49/49 [00:08<00:00,  5.80it/s]\n",
      "100%|███████████████████████████████████████████| 13/13 [00:02<00:00,  4.60it/s]\n"
     ]
    },
    {
     "name": "stdout",
     "output_type": "stream",
     "text": [
      "# Epoch 112 / 150\n"
     ]
    },
    {
     "name": "stderr",
     "output_type": "stream",
     "text": [
      "100%|███████████████████████████████████████████| 49/49 [00:27<00:00,  1.76it/s]\n",
      "100%|███████████████████████████████████████████| 49/49 [00:08<00:00,  5.96it/s]\n",
      "100%|███████████████████████████████████████████| 13/13 [00:02<00:00,  4.57it/s]\n"
     ]
    },
    {
     "name": "stdout",
     "output_type": "stream",
     "text": [
      "# Epoch 113 / 150\n"
     ]
    },
    {
     "name": "stderr",
     "output_type": "stream",
     "text": [
      "100%|███████████████████████████████████████████| 49/49 [00:27<00:00,  1.78it/s]\n",
      "100%|███████████████████████████████████████████| 49/49 [00:08<00:00,  5.66it/s]\n",
      "100%|███████████████████████████████████████████| 13/13 [00:02<00:00,  4.71it/s]\n"
     ]
    },
    {
     "name": "stdout",
     "output_type": "stream",
     "text": [
      "# Epoch 114 / 150\n"
     ]
    },
    {
     "name": "stderr",
     "output_type": "stream",
     "text": [
      "100%|███████████████████████████████████████████| 49/49 [00:27<00:00,  1.75it/s]\n",
      "100%|███████████████████████████████████████████| 49/49 [00:08<00:00,  6.02it/s]\n",
      "100%|███████████████████████████████████████████| 13/13 [00:02<00:00,  4.56it/s]\n"
     ]
    },
    {
     "name": "stdout",
     "output_type": "stream",
     "text": [
      "# Epoch 115 / 150\n"
     ]
    },
    {
     "name": "stderr",
     "output_type": "stream",
     "text": [
      "100%|███████████████████████████████████████████| 49/49 [00:26<00:00,  1.83it/s]\n",
      "100%|███████████████████████████████████████████| 49/49 [00:08<00:00,  5.79it/s]\n",
      "100%|███████████████████████████████████████████| 13/13 [00:02<00:00,  4.75it/s]\n"
     ]
    },
    {
     "name": "stdout",
     "output_type": "stream",
     "text": [
      "# Epoch 116 / 150\n"
     ]
    },
    {
     "name": "stderr",
     "output_type": "stream",
     "text": [
      "100%|███████████████████████████████████████████| 49/49 [00:27<00:00,  1.80it/s]\n",
      "100%|███████████████████████████████████████████| 49/49 [00:08<00:00,  5.97it/s]\n",
      "100%|███████████████████████████████████████████| 13/13 [00:02<00:00,  4.84it/s]\n"
     ]
    },
    {
     "name": "stdout",
     "output_type": "stream",
     "text": [
      "# Epoch 117 / 150\n"
     ]
    },
    {
     "name": "stderr",
     "output_type": "stream",
     "text": [
      "100%|███████████████████████████████████████████| 49/49 [00:28<00:00,  1.72it/s]\n",
      "100%|███████████████████████████████████████████| 49/49 [00:08<00:00,  5.87it/s]\n",
      "100%|███████████████████████████████████████████| 13/13 [00:02<00:00,  4.34it/s]\n"
     ]
    },
    {
     "name": "stdout",
     "output_type": "stream",
     "text": [
      "# Epoch 118 / 150\n"
     ]
    },
    {
     "name": "stderr",
     "output_type": "stream",
     "text": [
      "100%|███████████████████████████████████████████| 49/49 [00:27<00:00,  1.78it/s]\n",
      "100%|███████████████████████████████████████████| 49/49 [00:08<00:00,  5.91it/s]\n",
      "100%|███████████████████████████████████████████| 13/13 [00:02<00:00,  4.42it/s]\n"
     ]
    },
    {
     "name": "stdout",
     "output_type": "stream",
     "text": [
      "# Epoch 119 / 150\n"
     ]
    },
    {
     "name": "stderr",
     "output_type": "stream",
     "text": [
      "100%|███████████████████████████████████████████| 49/49 [00:26<00:00,  1.82it/s]\n",
      "100%|███████████████████████████████████████████| 49/49 [00:08<00:00,  5.91it/s]\n",
      "100%|███████████████████████████████████████████| 13/13 [00:02<00:00,  4.56it/s]\n"
     ]
    },
    {
     "name": "stdout",
     "output_type": "stream",
     "text": [
      "# Epoch 120 / 150\n"
     ]
    },
    {
     "name": "stderr",
     "output_type": "stream",
     "text": [
      "100%|███████████████████████████████████████████| 49/49 [00:28<00:00,  1.75it/s]\n",
      "100%|███████████████████████████████████████████| 49/49 [00:08<00:00,  5.64it/s]\n",
      "100%|███████████████████████████████████████████| 13/13 [00:02<00:00,  4.41it/s]\n"
     ]
    },
    {
     "name": "stdout",
     "output_type": "stream",
     "text": [
      "# Epoch 121 / 150\n"
     ]
    },
    {
     "name": "stderr",
     "output_type": "stream",
     "text": [
      "100%|███████████████████████████████████████████| 49/49 [00:27<00:00,  1.81it/s]\n",
      "100%|███████████████████████████████████████████| 49/49 [00:08<00:00,  6.01it/s]\n",
      "100%|███████████████████████████████████████████| 13/13 [00:02<00:00,  4.57it/s]\n"
     ]
    },
    {
     "name": "stdout",
     "output_type": "stream",
     "text": [
      "# Epoch 122 / 150\n"
     ]
    },
    {
     "name": "stderr",
     "output_type": "stream",
     "text": [
      "100%|███████████████████████████████████████████| 49/49 [00:27<00:00,  1.81it/s]\n",
      "100%|███████████████████████████████████████████| 49/49 [00:08<00:00,  5.91it/s]\n",
      "100%|███████████████████████████████████████████| 13/13 [00:02<00:00,  5.12it/s]\n"
     ]
    },
    {
     "name": "stdout",
     "output_type": "stream",
     "text": [
      "# Epoch 123 / 150\n"
     ]
    },
    {
     "name": "stderr",
     "output_type": "stream",
     "text": [
      "100%|███████████████████████████████████████████| 49/49 [00:27<00:00,  1.78it/s]\n",
      "100%|███████████████████████████████████████████| 49/49 [00:08<00:00,  5.81it/s]\n",
      "100%|███████████████████████████████████████████| 13/13 [00:03<00:00,  4.25it/s]\n"
     ]
    },
    {
     "name": "stdout",
     "output_type": "stream",
     "text": [
      "# Epoch 124 / 150\n"
     ]
    },
    {
     "name": "stderr",
     "output_type": "stream",
     "text": [
      "100%|███████████████████████████████████████████| 49/49 [00:27<00:00,  1.76it/s]\n",
      "100%|███████████████████████████████████████████| 49/49 [00:08<00:00,  5.92it/s]\n",
      "100%|███████████████████████████████████████████| 13/13 [00:02<00:00,  4.62it/s]\n"
     ]
    },
    {
     "name": "stdout",
     "output_type": "stream",
     "text": [
      "# Epoch 125 / 150\n"
     ]
    },
    {
     "name": "stderr",
     "output_type": "stream",
     "text": [
      "100%|███████████████████████████████████████████| 49/49 [00:27<00:00,  1.76it/s]\n",
      "100%|███████████████████████████████████████████| 49/49 [00:08<00:00,  5.91it/s]\n",
      "100%|███████████████████████████████████████████| 13/13 [00:02<00:00,  4.34it/s]\n"
     ]
    },
    {
     "name": "stdout",
     "output_type": "stream",
     "text": [
      "# Epoch 126 / 150\n"
     ]
    },
    {
     "name": "stderr",
     "output_type": "stream",
     "text": [
      "100%|███████████████████████████████████████████| 49/49 [00:28<00:00,  1.73it/s]\n",
      "100%|███████████████████████████████████████████| 49/49 [00:08<00:00,  5.95it/s]\n",
      "100%|███████████████████████████████████████████| 13/13 [00:02<00:00,  4.51it/s]\n"
     ]
    },
    {
     "name": "stdout",
     "output_type": "stream",
     "text": [
      "# Epoch 127 / 150\n"
     ]
    },
    {
     "name": "stderr",
     "output_type": "stream",
     "text": [
      "100%|███████████████████████████████████████████| 49/49 [00:27<00:00,  1.76it/s]\n",
      "100%|███████████████████████████████████████████| 49/49 [00:08<00:00,  5.98it/s]\n",
      "100%|███████████████████████████████████████████| 13/13 [00:02<00:00,  4.40it/s]\n"
     ]
    },
    {
     "name": "stdout",
     "output_type": "stream",
     "text": [
      "# Epoch 128 / 150\n"
     ]
    },
    {
     "name": "stderr",
     "output_type": "stream",
     "text": [
      "100%|███████████████████████████████████████████| 49/49 [00:27<00:00,  1.80it/s]\n",
      "100%|███████████████████████████████████████████| 49/49 [00:08<00:00,  6.11it/s]\n",
      "100%|███████████████████████████████████████████| 13/13 [00:02<00:00,  4.55it/s]\n"
     ]
    },
    {
     "name": "stdout",
     "output_type": "stream",
     "text": [
      "# Epoch 129 / 150\n"
     ]
    },
    {
     "name": "stderr",
     "output_type": "stream",
     "text": [
      "100%|███████████████████████████████████████████| 49/49 [00:27<00:00,  1.79it/s]\n",
      "100%|███████████████████████████████████████████| 49/49 [00:08<00:00,  5.94it/s]\n",
      "100%|███████████████████████████████████████████| 13/13 [00:02<00:00,  4.46it/s]\n"
     ]
    },
    {
     "name": "stdout",
     "output_type": "stream",
     "text": [
      "# Epoch 130 / 150\n"
     ]
    },
    {
     "name": "stderr",
     "output_type": "stream",
     "text": [
      "100%|███████████████████████████████████████████| 49/49 [00:27<00:00,  1.78it/s]\n",
      "100%|███████████████████████████████████████████| 49/49 [00:08<00:00,  5.82it/s]\n",
      "100%|███████████████████████████████████████████| 13/13 [00:02<00:00,  4.75it/s]\n"
     ]
    },
    {
     "name": "stdout",
     "output_type": "stream",
     "text": [
      "# Epoch 131 / 150\n"
     ]
    },
    {
     "name": "stderr",
     "output_type": "stream",
     "text": [
      "100%|███████████████████████████████████████████| 49/49 [00:28<00:00,  1.74it/s]\n",
      "100%|███████████████████████████████████████████| 49/49 [00:08<00:00,  5.84it/s]\n",
      "100%|███████████████████████████████████████████| 13/13 [00:02<00:00,  4.72it/s]\n"
     ]
    },
    {
     "name": "stdout",
     "output_type": "stream",
     "text": [
      "# Epoch 132 / 150\n"
     ]
    },
    {
     "name": "stderr",
     "output_type": "stream",
     "text": [
      "100%|███████████████████████████████████████████| 49/49 [00:28<00:00,  1.75it/s]\n",
      "100%|███████████████████████████████████████████| 49/49 [00:08<00:00,  5.89it/s]\n",
      "100%|███████████████████████████████████████████| 13/13 [00:02<00:00,  4.72it/s]\n"
     ]
    },
    {
     "name": "stdout",
     "output_type": "stream",
     "text": [
      "# Epoch 133 / 150\n"
     ]
    },
    {
     "name": "stderr",
     "output_type": "stream",
     "text": [
      "100%|███████████████████████████████████████████| 49/49 [00:27<00:00,  1.79it/s]\n",
      "100%|███████████████████████████████████████████| 49/49 [00:08<00:00,  5.70it/s]\n",
      "100%|███████████████████████████████████████████| 13/13 [00:02<00:00,  4.82it/s]\n"
     ]
    },
    {
     "name": "stdout",
     "output_type": "stream",
     "text": [
      "# Epoch 134 / 150\n"
     ]
    },
    {
     "name": "stderr",
     "output_type": "stream",
     "text": [
      "100%|███████████████████████████████████████████| 49/49 [00:27<00:00,  1.81it/s]\n",
      "100%|███████████████████████████████████████████| 49/49 [00:08<00:00,  6.06it/s]\n",
      "100%|███████████████████████████████████████████| 13/13 [00:02<00:00,  4.34it/s]\n"
     ]
    },
    {
     "name": "stdout",
     "output_type": "stream",
     "text": [
      "# Epoch 135 / 150\n"
     ]
    },
    {
     "name": "stderr",
     "output_type": "stream",
     "text": [
      "100%|███████████████████████████████████████████| 49/49 [00:28<00:00,  1.74it/s]\n",
      "100%|███████████████████████████████████████████| 49/49 [00:08<00:00,  6.02it/s]\n",
      "100%|███████████████████████████████████████████| 13/13 [00:02<00:00,  4.95it/s]\n"
     ]
    },
    {
     "name": "stdout",
     "output_type": "stream",
     "text": [
      "# Epoch 136 / 150\n"
     ]
    },
    {
     "name": "stderr",
     "output_type": "stream",
     "text": [
      "100%|███████████████████████████████████████████| 49/49 [00:28<00:00,  1.75it/s]\n",
      "100%|███████████████████████████████████████████| 49/49 [00:08<00:00,  5.93it/s]\n",
      "100%|███████████████████████████████████████████| 13/13 [00:02<00:00,  4.53it/s]\n"
     ]
    },
    {
     "name": "stdout",
     "output_type": "stream",
     "text": [
      "# Epoch 137 / 150\n"
     ]
    },
    {
     "name": "stderr",
     "output_type": "stream",
     "text": [
      "100%|███████████████████████████████████████████| 49/49 [00:27<00:00,  1.80it/s]\n",
      "100%|███████████████████████████████████████████| 49/49 [00:08<00:00,  5.79it/s]\n",
      "100%|███████████████████████████████████████████| 13/13 [00:02<00:00,  4.63it/s]\n"
     ]
    },
    {
     "name": "stdout",
     "output_type": "stream",
     "text": [
      "# Epoch 138 / 150\n"
     ]
    },
    {
     "name": "stderr",
     "output_type": "stream",
     "text": [
      "100%|███████████████████████████████████████████| 49/49 [00:28<00:00,  1.70it/s]\n",
      "100%|███████████████████████████████████████████| 49/49 [00:08<00:00,  5.84it/s]\n",
      "100%|███████████████████████████████████████████| 13/13 [00:02<00:00,  4.63it/s]\n"
     ]
    },
    {
     "name": "stdout",
     "output_type": "stream",
     "text": [
      "# Epoch 139 / 150\n"
     ]
    },
    {
     "name": "stderr",
     "output_type": "stream",
     "text": [
      "100%|███████████████████████████████████████████| 49/49 [00:27<00:00,  1.77it/s]\n",
      "100%|███████████████████████████████████████████| 49/49 [00:08<00:00,  5.93it/s]\n",
      "100%|███████████████████████████████████████████| 13/13 [00:02<00:00,  4.59it/s]\n"
     ]
    },
    {
     "name": "stdout",
     "output_type": "stream",
     "text": [
      "# Epoch 140 / 150\n"
     ]
    },
    {
     "name": "stderr",
     "output_type": "stream",
     "text": [
      "100%|███████████████████████████████████████████| 49/49 [00:27<00:00,  1.80it/s]\n",
      "100%|███████████████████████████████████████████| 49/49 [00:08<00:00,  6.01it/s]\n",
      "100%|███████████████████████████████████████████| 13/13 [00:02<00:00,  4.74it/s]\n"
     ]
    },
    {
     "name": "stdout",
     "output_type": "stream",
     "text": [
      "# Epoch 141 / 150\n"
     ]
    },
    {
     "name": "stderr",
     "output_type": "stream",
     "text": [
      "100%|███████████████████████████████████████████| 49/49 [00:26<00:00,  1.83it/s]\n",
      "100%|███████████████████████████████████████████| 49/49 [00:08<00:00,  5.63it/s]\n",
      "100%|███████████████████████████████████████████| 13/13 [00:02<00:00,  4.55it/s]\n"
     ]
    },
    {
     "name": "stdout",
     "output_type": "stream",
     "text": [
      "# Epoch 142 / 150\n"
     ]
    },
    {
     "name": "stderr",
     "output_type": "stream",
     "text": [
      "100%|███████████████████████████████████████████| 49/49 [00:28<00:00,  1.70it/s]\n",
      "100%|███████████████████████████████████████████| 49/49 [00:08<00:00,  5.86it/s]\n",
      "100%|███████████████████████████████████████████| 13/13 [00:02<00:00,  4.55it/s]\n"
     ]
    },
    {
     "name": "stdout",
     "output_type": "stream",
     "text": [
      "# Epoch 143 / 150\n"
     ]
    },
    {
     "name": "stderr",
     "output_type": "stream",
     "text": [
      "100%|███████████████████████████████████████████| 49/49 [00:27<00:00,  1.76it/s]\n",
      "100%|███████████████████████████████████████████| 49/49 [00:08<00:00,  5.95it/s]\n",
      "100%|███████████████████████████████████████████| 13/13 [00:02<00:00,  4.51it/s]\n"
     ]
    },
    {
     "name": "stdout",
     "output_type": "stream",
     "text": [
      "# Epoch 144 / 150\n"
     ]
    },
    {
     "name": "stderr",
     "output_type": "stream",
     "text": [
      "100%|███████████████████████████████████████████| 49/49 [00:27<00:00,  1.81it/s]\n",
      "100%|███████████████████████████████████████████| 49/49 [00:08<00:00,  5.85it/s]\n",
      "100%|███████████████████████████████████████████| 13/13 [00:02<00:00,  4.71it/s]\n"
     ]
    },
    {
     "name": "stdout",
     "output_type": "stream",
     "text": [
      "# Epoch 145 / 150\n"
     ]
    },
    {
     "name": "stderr",
     "output_type": "stream",
     "text": [
      "100%|███████████████████████████████████████████| 49/49 [00:27<00:00,  1.77it/s]\n",
      "100%|███████████████████████████████████████████| 49/49 [00:08<00:00,  6.04it/s]\n",
      "100%|███████████████████████████████████████████| 13/13 [00:02<00:00,  4.62it/s]\n"
     ]
    },
    {
     "name": "stdout",
     "output_type": "stream",
     "text": [
      "# Epoch 146 / 150\n"
     ]
    },
    {
     "name": "stderr",
     "output_type": "stream",
     "text": [
      "100%|███████████████████████████████████████████| 49/49 [00:27<00:00,  1.76it/s]\n",
      "100%|███████████████████████████████████████████| 49/49 [00:08<00:00,  5.75it/s]\n",
      "100%|███████████████████████████████████████████| 13/13 [00:02<00:00,  4.63it/s]\n"
     ]
    },
    {
     "name": "stdout",
     "output_type": "stream",
     "text": [
      "# Epoch 147 / 150\n"
     ]
    },
    {
     "name": "stderr",
     "output_type": "stream",
     "text": [
      "100%|███████████████████████████████████████████| 49/49 [00:27<00:00,  1.78it/s]\n",
      "100%|███████████████████████████████████████████| 49/49 [00:08<00:00,  5.71it/s]\n",
      "100%|███████████████████████████████████████████| 13/13 [00:03<00:00,  4.25it/s]\n"
     ]
    },
    {
     "name": "stdout",
     "output_type": "stream",
     "text": [
      "# Epoch 148 / 150\n"
     ]
    },
    {
     "name": "stderr",
     "output_type": "stream",
     "text": [
      "100%|███████████████████████████████████████████| 49/49 [00:26<00:00,  1.82it/s]\n",
      "100%|███████████████████████████████████████████| 49/49 [00:08<00:00,  5.99it/s]\n",
      "100%|███████████████████████████████████████████| 13/13 [00:02<00:00,  4.50it/s]\n"
     ]
    },
    {
     "name": "stdout",
     "output_type": "stream",
     "text": [
      "# Epoch 149 / 150\n"
     ]
    },
    {
     "name": "stderr",
     "output_type": "stream",
     "text": [
      "100%|███████████████████████████████████████████| 49/49 [00:28<00:00,  1.75it/s]\n",
      "100%|███████████████████████████████████████████| 49/49 [00:08<00:00,  5.66it/s]\n",
      "100%|███████████████████████████████████████████| 13/13 [00:02<00:00,  4.57it/s]\n"
     ]
    },
    {
     "name": "stdout",
     "output_type": "stream",
     "text": [
      "# Epoch 150 / 150\n"
     ]
    },
    {
     "name": "stderr",
     "output_type": "stream",
     "text": [
      "100%|███████████████████████████████████████████| 49/49 [00:27<00:00,  1.76it/s]\n",
      "100%|███████████████████████████████████████████| 49/49 [00:08<00:00,  6.00it/s]\n",
      "100%|███████████████████████████████████████████| 13/13 [00:02<00:00,  4.42it/s]\n"
     ]
    },
    {
     "data": {
      "text/html": [
       "Waiting for W&B process to finish... <strong style=\"color:green\">(success).</strong>"
      ],
      "text/plain": [
       "<IPython.core.display.HTML object>"
      ]
     },
     "metadata": {},
     "output_type": "display_data"
    },
    {
     "data": {
      "application/vnd.jupyter.widget-view+json": {
       "model_id": "",
       "version_major": 2,
       "version_minor": 0
      },
      "text/plain": [
       "VBox(children=(Label(value='0.001 MB of 0.001 MB uploaded (0.000 MB deduped)\\r'), FloatProgress(value=1.0, max…"
      ]
     },
     "metadata": {},
     "output_type": "display_data"
    },
    {
     "data": {
      "text/html": [
       "<style>\n",
       "    table.wandb td:nth-child(1) { padding: 0 10px; text-align: left ; width: auto;} td:nth-child(2) {text-align: left ; width: 100%}\n",
       "    .wandb-row { display: flex; flex-direction: row; flex-wrap: wrap; justify-content: flex-start; width: 100% }\n",
       "    .wandb-col { display: flex; flex-direction: column; flex-basis: 100%; flex: 1; padding: 10px; }\n",
       "    </style>\n",
       "<div class=\"wandb-row\"><div class=\"wandb-col\"><h3>Run history:</h3><br/><table class=\"wandb\"><tr><td>lr</td><td>█████████▂▂▁▁▁▁▁▁▁▁▁▁▁▁▁▁▁▁▁▁▁▁▁▁▁▁▁▁▁▁▁</td></tr><tr><td>train_mae</td><td>██▇▆▆▅▄▄▃▃▃▁▂▂▂▂▂▂▂▂▁▃▁▃▂▂▂▂▁▂▂▂▂▂▁▂▂▂▂▂</td></tr><tr><td>train_mse</td><td>██▇▆▅▅▄▄▃▄▂▂▂▂▂▃▂▂▂▂▁▃▂▃▂▂▂▂▂▂▂▂▃▂▁▂▂▂▂▂</td></tr><tr><td>train_pearson</td><td>▁▃▄▅▅▆▆▆▇▆▇█▇▇▇▇▇▇▇▇█▇█▇▇▇▇▇▇▇██▇▇█▇██▇█</td></tr><tr><td>train_spearman</td><td>▁▅▆▆▇▇▇▇█▇███████▇███████▇██████████████</td></tr><tr><td>valid_mae</td><td>▇▅▅▆▅▂█▃▄▁▄▄▄▄▄▄▄▄▃▄▄▄▄▄▄▄▄▄▄▄▃▄▄▄▄▃▄▄▃▄</td></tr><tr><td>valid_mse</td><td>█▇▅▃▂▅▄▂▃▁▃▃▃▃▂▃▃▃▂▃▃▃▃▃▃▃▃▃▂▃▂▃▃▃▃▂▃▃▂▃</td></tr><tr><td>valid_pearson</td><td>▁▄▅▆▇▅▇▇▆█▇▇▇▇█▇▇▇█▇█▇█▇▇▇▇██▇██▇▇▇█▇▇█▇</td></tr><tr><td>valid_spearman</td><td>▁▆▇▇▇▄█▆▇▇██████████████████████████████</td></tr></table><br/></div><div class=\"wandb-col\"><h3>Run summary:</h3><br/><table class=\"wandb\"><tr><td>lr</td><td>0.0</td></tr><tr><td>train_mae</td><td>0.26514</td></tr><tr><td>train_mse</td><td>0.17224</td></tr><tr><td>train_pearson</td><td>0.68272</td></tr><tr><td>train_spearman</td><td>0.5381</td></tr><tr><td>valid_mae</td><td>0.30765</td></tr><tr><td>valid_mse</td><td>0.23412</td></tr><tr><td>valid_pearson</td><td>0.57544</td></tr><tr><td>valid_spearman</td><td>0.56986</td></tr></table><br/></div></div>"
      ],
      "text/plain": [
       "<IPython.core.display.HTML object>"
      ]
     },
     "metadata": {},
     "output_type": "display_data"
    },
    {
     "data": {
      "text/html": [
       "Synced <strong style=\"color:#cdcd00\">hopeful-plasma-12</strong>: <a href=\"https://wandb.ai/hei-jung/20230307-sfcn%2Blkrelu%2Bfds/runs/3qwlhps4\" target=\"_blank\">https://wandb.ai/hei-jung/20230307-sfcn%2Blkrelu%2Bfds/runs/3qwlhps4</a><br/>Synced 6 W&B file(s), 0 media file(s), 0 artifact file(s) and 0 other file(s)"
      ],
      "text/plain": [
       "<IPython.core.display.HTML object>"
      ]
     },
     "metadata": {},
     "output_type": "display_data"
    },
    {
     "data": {
      "text/html": [
       "Find logs at: <code>./wandb/run-20230308_200934-3qwlhps4/logs</code>"
      ],
      "text/plain": [
       "<IPython.core.display.HTML object>"
      ]
     },
     "metadata": {},
     "output_type": "display_data"
    }
   ],
   "source": [
    "# FC layer +3\n",
    "set_seed()\n",
    "\n",
    "model = SFCN_FDS(dropout_p=dropout_rate, fds=fds)\n",
    "model.fc = nn.Sequential(\n",
    "    nn.Linear(64,64),\n",
    "    nn.ReLU(),\n",
    "    nn.Linear(64,16),\n",
    "    nn.ReLU(),\n",
    "    nn.Linear(16,4),\n",
    "    nn.ReLU(),\n",
    "    nn.Linear(4,1),\n",
    "    nn.LeakyReLU(),\n",
    ")\n",
    "model = torch.nn.DataParallel(model, device_ids=[0, 1])\n",
    "model.cuda()\n",
    "\n",
    "wandb.init(project='20230307-sfcn+lkrelu+fds',\n",
    "           config={\"model\": \"sfcn+lkrelu+fds\", \"dropout\": dropout_rate,\n",
    "                   \"weight_decay\": weight_decay, \"epochs\": epochs, \"batch_size\": batch_size,\n",
    "                   \"cost_function\": \"mse_loss\", \"optimizer\": optim_class.__name__,\n",
    "                   \"scheduler\": sched_class.__name__, \"lds\": lds, \"fds\": fds,\n",
    "                   \"start_lr\": lr, \"fc_added\": 3.1})\n",
    "wandb.watch(model)\n",
    "\n",
    "optimizer = optim_class(model.parameters(), lr=lr, weight_decay=weight_decay)\n",
    "scheduler = sched_class(optimizer, mode='min', patience=5, min_lr=0)\n",
    "\n",
    "best_mae, best_mse, best_p, best_s = 100, 100, 0, 0\n",
    "\n",
    "set_seed()\n",
    "for epoch in range(epochs):\n",
    "    print('# Epoch %d / %d'%(epoch + 1, epochs))   \n",
    "\n",
    "    # train set\n",
    "    augment = get_augmentation_transform()\n",
    "    train_set = NeckDataset(X_train, y_train, transform=augment, lds=lds)\n",
    "    train_loader = DataLoader(train_set, batch_size=batch_size, num_workers=16)\n",
    "\n",
    "    # validation set\n",
    "\n",
    "    preds_t, truths_t, mae_t, mse_t = train(model, train_loader, epoch, optimizer, lds=lds, fds=fds)\n",
    "    preds_v, truths_v, mae_v, mse_v = valid(model, test_loader)\n",
    "\n",
    "    scheduler.step(mse_v)\n",
    "    last_lr = scheduler._last_lr[0]\n",
    "\n",
    "    train_p, _ = pearsonr(preds_t, truths_t)\n",
    "    train_s, _ = spearmanr(preds_t, truths_t)\n",
    "    train_mae = mae_t / len(train_loader)\n",
    "    train_mse = mse_t / len(train_loader)\n",
    "\n",
    "    valid_p, _ = pearsonr(preds_v, truths_v)\n",
    "    valid_s, _ = spearmanr(preds_v, truths_v)\n",
    "    valid_mae = mae_v / len(test_loader)\n",
    "    valid_mse = mse_v / len(test_loader)\n",
    "\n",
    "    if best_mse > valid_mse:\n",
    "        best_mse = valid_mse\n",
    "        torch.save(model.state_dict(), 'pretrained/230308_sfcnfdsfc3.1+mse_{}_w{}_slr{}_bestmse'.format(sched_class.__name__, weight_decay, lr))\n",
    "    if best_mae > valid_mae:\n",
    "        best_mae = valid_mae\n",
    "        torch.save(model.state_dict(), 'pretrained/230308_sfcnfdsfc3.1+mse_{}_w{}_slr{}_bestmae'.format(sched_class.__name__, weight_decay, lr))\n",
    "    if best_p < valid_p:\n",
    "        best_p = valid_p\n",
    "    if best_s < valid_s:\n",
    "        best_s = valid_s\n",
    "\n",
    "    wandb.log({\"train_mae\": train_mae, \"train_mse\": train_mse, \"valid_mae\": valid_mae, \"valid_mse\": valid_mse,\n",
    "               \"train_pearson\": train_p, \"train_spearman\": train_s, \"valid_pearson\": valid_p, \"valid_spearman\": valid_s,\n",
    "               \"lr\": last_lr})\n",
    "wandb.finish()\n",
    "torch.save(model.state_dict(), 'pretrained/230307_sfcnfdsfc3.1+mse_{}_w{}_slr{}_epochs{}'.format(sched_class.__name__, weight_decay, lr, epochs))\n"
   ]
  },
  {
   "cell_type": "code",
   "execution_count": 19,
   "id": "0d4552e5",
   "metadata": {},
   "outputs": [
    {
     "data": {
      "text/html": [
       "wandb version 0.13.11 is available!  To upgrade, please run:\n",
       " $ pip install wandb --upgrade"
      ],
      "text/plain": [
       "<IPython.core.display.HTML object>"
      ]
     },
     "metadata": {},
     "output_type": "display_data"
    },
    {
     "data": {
      "text/html": [
       "Tracking run with wandb version 0.12.21"
      ],
      "text/plain": [
       "<IPython.core.display.HTML object>"
      ]
     },
     "metadata": {},
     "output_type": "display_data"
    },
    {
     "data": {
      "text/html": [
       "Run data is saved locally in <code>/home/jhj/Desktop/HJ_RESEARCH/snu_brain_disease/wandb/run-20230308_214640-rcv5gds9</code>"
      ],
      "text/plain": [
       "<IPython.core.display.HTML object>"
      ]
     },
     "metadata": {},
     "output_type": "display_data"
    },
    {
     "data": {
      "text/html": [
       "Syncing run <strong><a href=\"https://wandb.ai/hei-jung/20230307-sfcn%2Blkrelu%2Bfds/runs/rcv5gds9\" target=\"_blank\">splendid-dew-13</a></strong> to <a href=\"https://wandb.ai/hei-jung/20230307-sfcn%2Blkrelu%2Bfds\" target=\"_blank\">Weights & Biases</a> (<a href=\"https://wandb.me/run\" target=\"_blank\">docs</a>)<br/>"
      ],
      "text/plain": [
       "<IPython.core.display.HTML object>"
      ]
     },
     "metadata": {},
     "output_type": "display_data"
    },
    {
     "name": "stdout",
     "output_type": "stream",
     "text": [
      "# Epoch 1 / 150\n"
     ]
    },
    {
     "name": "stderr",
     "output_type": "stream",
     "text": [
      "100%|███████████████████████████████████████████| 49/49 [00:27<00:00,  1.78it/s]\n",
      "100%|███████████████████████████████████████████| 49/49 [00:08<00:00,  6.04it/s]\n",
      "100%|███████████████████████████████████████████| 13/13 [00:02<00:00,  4.66it/s]\n"
     ]
    },
    {
     "name": "stdout",
     "output_type": "stream",
     "text": [
      "# Epoch 2 / 150\n"
     ]
    },
    {
     "name": "stderr",
     "output_type": "stream",
     "text": [
      "100%|███████████████████████████████████████████| 49/49 [00:28<00:00,  1.74it/s]\n",
      "100%|███████████████████████████████████████████| 49/49 [00:08<00:00,  5.84it/s]\n",
      "100%|███████████████████████████████████████████| 13/13 [00:02<00:00,  4.85it/s]\n"
     ]
    },
    {
     "name": "stdout",
     "output_type": "stream",
     "text": [
      "# Epoch 3 / 150\n"
     ]
    },
    {
     "name": "stderr",
     "output_type": "stream",
     "text": [
      "100%|███████████████████████████████████████████| 49/49 [00:28<00:00,  1.73it/s]\n",
      "100%|███████████████████████████████████████████| 49/49 [00:08<00:00,  5.95it/s]\n",
      "100%|███████████████████████████████████████████| 13/13 [00:02<00:00,  4.80it/s]\n"
     ]
    },
    {
     "name": "stdout",
     "output_type": "stream",
     "text": [
      "# Epoch 4 / 150\n"
     ]
    },
    {
     "name": "stderr",
     "output_type": "stream",
     "text": [
      "100%|███████████████████████████████████████████| 49/49 [00:27<00:00,  1.77it/s]\n",
      "100%|███████████████████████████████████████████| 49/49 [00:08<00:00,  5.91it/s]\n",
      "100%|███████████████████████████████████████████| 13/13 [00:02<00:00,  4.66it/s]\n"
     ]
    },
    {
     "name": "stdout",
     "output_type": "stream",
     "text": [
      "# Epoch 5 / 150\n"
     ]
    },
    {
     "name": "stderr",
     "output_type": "stream",
     "text": [
      "100%|███████████████████████████████████████████| 49/49 [00:28<00:00,  1.70it/s]\n",
      "100%|███████████████████████████████████████████| 49/49 [00:08<00:00,  5.97it/s]\n",
      "100%|███████████████████████████████████████████| 13/13 [00:02<00:00,  4.60it/s]\n"
     ]
    },
    {
     "name": "stdout",
     "output_type": "stream",
     "text": [
      "# Epoch 6 / 150\n"
     ]
    },
    {
     "name": "stderr",
     "output_type": "stream",
     "text": [
      "100%|███████████████████████████████████████████| 49/49 [00:27<00:00,  1.78it/s]\n",
      "100%|███████████████████████████████████████████| 49/49 [00:08<00:00,  6.10it/s]\n",
      "100%|███████████████████████████████████████████| 13/13 [00:02<00:00,  4.37it/s]\n"
     ]
    },
    {
     "name": "stdout",
     "output_type": "stream",
     "text": [
      "# Epoch 7 / 150\n"
     ]
    },
    {
     "name": "stderr",
     "output_type": "stream",
     "text": [
      "100%|███████████████████████████████████████████| 49/49 [00:28<00:00,  1.73it/s]\n",
      "100%|███████████████████████████████████████████| 49/49 [00:08<00:00,  5.68it/s]\n",
      "100%|███████████████████████████████████████████| 13/13 [00:02<00:00,  4.43it/s]\n"
     ]
    },
    {
     "name": "stdout",
     "output_type": "stream",
     "text": [
      "# Epoch 8 / 150\n"
     ]
    },
    {
     "name": "stderr",
     "output_type": "stream",
     "text": [
      "100%|███████████████████████████████████████████| 49/49 [00:27<00:00,  1.78it/s]\n",
      "100%|███████████████████████████████████████████| 49/49 [00:08<00:00,  5.78it/s]\n",
      "100%|███████████████████████████████████████████| 13/13 [00:02<00:00,  4.72it/s]\n"
     ]
    },
    {
     "name": "stdout",
     "output_type": "stream",
     "text": [
      "# Epoch 9 / 150\n"
     ]
    },
    {
     "name": "stderr",
     "output_type": "stream",
     "text": [
      "100%|███████████████████████████████████████████| 49/49 [00:27<00:00,  1.80it/s]\n",
      "100%|███████████████████████████████████████████| 49/49 [00:08<00:00,  5.93it/s]\n",
      "100%|███████████████████████████████████████████| 13/13 [00:02<00:00,  4.57it/s]\n"
     ]
    },
    {
     "name": "stdout",
     "output_type": "stream",
     "text": [
      "# Epoch 10 / 150\n"
     ]
    },
    {
     "name": "stderr",
     "output_type": "stream",
     "text": [
      "100%|███████████████████████████████████████████| 49/49 [00:27<00:00,  1.79it/s]\n",
      "100%|███████████████████████████████████████████| 49/49 [00:08<00:00,  5.95it/s]\n",
      "100%|███████████████████████████████████████████| 13/13 [00:02<00:00,  4.65it/s]\n"
     ]
    },
    {
     "name": "stdout",
     "output_type": "stream",
     "text": [
      "# Epoch 11 / 150\n"
     ]
    },
    {
     "name": "stderr",
     "output_type": "stream",
     "text": [
      "100%|███████████████████████████████████████████| 49/49 [00:28<00:00,  1.75it/s]\n",
      "100%|███████████████████████████████████████████| 49/49 [00:08<00:00,  5.75it/s]\n",
      "100%|███████████████████████████████████████████| 13/13 [00:02<00:00,  4.48it/s]\n"
     ]
    },
    {
     "name": "stdout",
     "output_type": "stream",
     "text": [
      "# Epoch 12 / 150\n"
     ]
    },
    {
     "name": "stderr",
     "output_type": "stream",
     "text": [
      "100%|███████████████████████████████████████████| 49/49 [00:27<00:00,  1.78it/s]\n",
      "100%|███████████████████████████████████████████| 49/49 [00:07<00:00,  6.13it/s]\n",
      "100%|███████████████████████████████████████████| 13/13 [00:02<00:00,  4.90it/s]\n"
     ]
    },
    {
     "name": "stdout",
     "output_type": "stream",
     "text": [
      "# Epoch 13 / 150\n"
     ]
    },
    {
     "name": "stderr",
     "output_type": "stream",
     "text": [
      "100%|███████████████████████████████████████████| 49/49 [00:27<00:00,  1.78it/s]\n",
      "100%|███████████████████████████████████████████| 49/49 [00:08<00:00,  5.74it/s]\n",
      "100%|███████████████████████████████████████████| 13/13 [00:02<00:00,  4.53it/s]\n"
     ]
    },
    {
     "name": "stdout",
     "output_type": "stream",
     "text": [
      "# Epoch 14 / 150\n"
     ]
    },
    {
     "name": "stderr",
     "output_type": "stream",
     "text": [
      "100%|███████████████████████████████████████████| 49/49 [00:27<00:00,  1.77it/s]\n",
      "100%|███████████████████████████████████████████| 49/49 [00:08<00:00,  5.89it/s]\n",
      "100%|███████████████████████████████████████████| 13/13 [00:02<00:00,  4.55it/s]\n"
     ]
    },
    {
     "name": "stdout",
     "output_type": "stream",
     "text": [
      "# Epoch 15 / 150\n"
     ]
    },
    {
     "name": "stderr",
     "output_type": "stream",
     "text": [
      "100%|███████████████████████████████████████████| 49/49 [00:27<00:00,  1.77it/s]\n",
      "100%|███████████████████████████████████████████| 49/49 [00:08<00:00,  5.96it/s]\n",
      "100%|███████████████████████████████████████████| 13/13 [00:02<00:00,  4.73it/s]\n"
     ]
    },
    {
     "name": "stdout",
     "output_type": "stream",
     "text": [
      "# Epoch 16 / 150\n"
     ]
    },
    {
     "name": "stderr",
     "output_type": "stream",
     "text": [
      "100%|███████████████████████████████████████████| 49/49 [00:28<00:00,  1.71it/s]\n",
      "100%|███████████████████████████████████████████| 49/49 [00:08<00:00,  5.90it/s]\n",
      "100%|███████████████████████████████████████████| 13/13 [00:02<00:00,  4.77it/s]\n"
     ]
    },
    {
     "name": "stdout",
     "output_type": "stream",
     "text": [
      "# Epoch 17 / 150\n"
     ]
    },
    {
     "name": "stderr",
     "output_type": "stream",
     "text": [
      "100%|███████████████████████████████████████████| 49/49 [00:28<00:00,  1.73it/s]\n",
      "100%|███████████████████████████████████████████| 49/49 [00:08<00:00,  6.02it/s]\n",
      "100%|███████████████████████████████████████████| 13/13 [00:02<00:00,  4.84it/s]\n"
     ]
    },
    {
     "name": "stdout",
     "output_type": "stream",
     "text": [
      "# Epoch 18 / 150\n"
     ]
    },
    {
     "name": "stderr",
     "output_type": "stream",
     "text": [
      "100%|███████████████████████████████████████████| 49/49 [00:27<00:00,  1.79it/s]\n",
      "100%|███████████████████████████████████████████| 49/49 [00:08<00:00,  5.90it/s]\n",
      "100%|███████████████████████████████████████████| 13/13 [00:02<00:00,  4.65it/s]\n"
     ]
    },
    {
     "name": "stdout",
     "output_type": "stream",
     "text": [
      "# Epoch 19 / 150\n"
     ]
    },
    {
     "name": "stderr",
     "output_type": "stream",
     "text": [
      "100%|███████████████████████████████████████████| 49/49 [00:28<00:00,  1.73it/s]\n",
      "100%|███████████████████████████████████████████| 49/49 [00:08<00:00,  5.65it/s]\n",
      "100%|███████████████████████████████████████████| 13/13 [00:03<00:00,  4.29it/s]\n"
     ]
    },
    {
     "name": "stdout",
     "output_type": "stream",
     "text": [
      "# Epoch 20 / 150\n"
     ]
    },
    {
     "name": "stderr",
     "output_type": "stream",
     "text": [
      "100%|███████████████████████████████████████████| 49/49 [00:28<00:00,  1.74it/s]\n",
      "100%|███████████████████████████████████████████| 49/49 [00:08<00:00,  5.81it/s]\n",
      "100%|███████████████████████████████████████████| 13/13 [00:02<00:00,  4.56it/s]\n"
     ]
    },
    {
     "name": "stdout",
     "output_type": "stream",
     "text": [
      "# Epoch 21 / 150\n"
     ]
    },
    {
     "name": "stderr",
     "output_type": "stream",
     "text": [
      "100%|███████████████████████████████████████████| 49/49 [00:27<00:00,  1.76it/s]\n",
      "100%|███████████████████████████████████████████| 49/49 [00:08<00:00,  5.95it/s]\n",
      "100%|███████████████████████████████████████████| 13/13 [00:02<00:00,  4.91it/s]\n"
     ]
    },
    {
     "name": "stdout",
     "output_type": "stream",
     "text": [
      "# Epoch 22 / 150\n"
     ]
    },
    {
     "name": "stderr",
     "output_type": "stream",
     "text": [
      "100%|███████████████████████████████████████████| 49/49 [00:27<00:00,  1.81it/s]\n",
      "100%|███████████████████████████████████████████| 49/49 [00:08<00:00,  5.84it/s]\n",
      "100%|███████████████████████████████████████████| 13/13 [00:02<00:00,  4.68it/s]\n"
     ]
    },
    {
     "name": "stdout",
     "output_type": "stream",
     "text": [
      "# Epoch 23 / 150\n"
     ]
    },
    {
     "name": "stderr",
     "output_type": "stream",
     "text": [
      "100%|███████████████████████████████████████████| 49/49 [00:28<00:00,  1.74it/s]\n",
      "100%|███████████████████████████████████████████| 49/49 [00:08<00:00,  6.01it/s]\n",
      "100%|███████████████████████████████████████████| 13/13 [00:02<00:00,  4.51it/s]\n"
     ]
    },
    {
     "name": "stdout",
     "output_type": "stream",
     "text": [
      "# Epoch 24 / 150\n"
     ]
    },
    {
     "name": "stderr",
     "output_type": "stream",
     "text": [
      "100%|███████████████████████████████████████████| 49/49 [00:28<00:00,  1.72it/s]\n",
      "100%|███████████████████████████████████████████| 49/49 [00:08<00:00,  6.03it/s]\n",
      "100%|███████████████████████████████████████████| 13/13 [00:02<00:00,  4.69it/s]\n"
     ]
    },
    {
     "name": "stdout",
     "output_type": "stream",
     "text": [
      "# Epoch 25 / 150\n"
     ]
    },
    {
     "name": "stderr",
     "output_type": "stream",
     "text": [
      "100%|███████████████████████████████████████████| 49/49 [00:28<00:00,  1.74it/s]\n",
      "100%|███████████████████████████████████████████| 49/49 [00:08<00:00,  5.86it/s]\n",
      "100%|███████████████████████████████████████████| 13/13 [00:02<00:00,  4.70it/s]\n"
     ]
    },
    {
     "name": "stdout",
     "output_type": "stream",
     "text": [
      "# Epoch 26 / 150\n"
     ]
    },
    {
     "name": "stderr",
     "output_type": "stream",
     "text": [
      "100%|███████████████████████████████████████████| 49/49 [00:27<00:00,  1.80it/s]\n",
      "100%|███████████████████████████████████████████| 49/49 [00:08<00:00,  5.78it/s]\n",
      "100%|███████████████████████████████████████████| 13/13 [00:02<00:00,  4.64it/s]\n"
     ]
    },
    {
     "name": "stdout",
     "output_type": "stream",
     "text": [
      "# Epoch 27 / 150\n"
     ]
    },
    {
     "name": "stderr",
     "output_type": "stream",
     "text": [
      "100%|███████████████████████████████████████████| 49/49 [00:28<00:00,  1.72it/s]\n",
      "100%|███████████████████████████████████████████| 49/49 [00:07<00:00,  6.14it/s]\n",
      "100%|███████████████████████████████████████████| 13/13 [00:02<00:00,  4.52it/s]\n"
     ]
    },
    {
     "name": "stdout",
     "output_type": "stream",
     "text": [
      "# Epoch 28 / 150\n"
     ]
    },
    {
     "name": "stderr",
     "output_type": "stream",
     "text": [
      "100%|███████████████████████████████████████████| 49/49 [00:27<00:00,  1.79it/s]\n",
      "100%|███████████████████████████████████████████| 49/49 [00:08<00:00,  5.91it/s]\n",
      "100%|███████████████████████████████████████████| 13/13 [00:02<00:00,  4.56it/s]\n"
     ]
    },
    {
     "name": "stdout",
     "output_type": "stream",
     "text": [
      "# Epoch 29 / 150\n"
     ]
    },
    {
     "name": "stderr",
     "output_type": "stream",
     "text": [
      "100%|███████████████████████████████████████████| 49/49 [00:27<00:00,  1.78it/s]\n",
      "100%|███████████████████████████████████████████| 49/49 [00:08<00:00,  6.00it/s]\n",
      "100%|███████████████████████████████████████████| 13/13 [00:02<00:00,  4.65it/s]\n"
     ]
    },
    {
     "name": "stdout",
     "output_type": "stream",
     "text": [
      "# Epoch 30 / 150\n"
     ]
    },
    {
     "name": "stderr",
     "output_type": "stream",
     "text": [
      "100%|███████████████████████████████████████████| 49/49 [00:28<00:00,  1.71it/s]\n",
      "100%|███████████████████████████████████████████| 49/49 [00:08<00:00,  5.90it/s]\n",
      "100%|███████████████████████████████████████████| 13/13 [00:02<00:00,  4.56it/s]\n"
     ]
    },
    {
     "name": "stdout",
     "output_type": "stream",
     "text": [
      "# Epoch 31 / 150\n"
     ]
    },
    {
     "name": "stderr",
     "output_type": "stream",
     "text": [
      "100%|███████████████████████████████████████████| 49/49 [00:27<00:00,  1.76it/s]\n",
      "100%|███████████████████████████████████████████| 49/49 [00:08<00:00,  5.88it/s]\n",
      "100%|███████████████████████████████████████████| 13/13 [00:02<00:00,  4.72it/s]\n"
     ]
    },
    {
     "name": "stdout",
     "output_type": "stream",
     "text": [
      "# Epoch 32 / 150\n"
     ]
    },
    {
     "name": "stderr",
     "output_type": "stream",
     "text": [
      "100%|███████████████████████████████████████████| 49/49 [00:28<00:00,  1.71it/s]\n",
      "100%|███████████████████████████████████████████| 49/49 [00:08<00:00,  6.04it/s]\n",
      "100%|███████████████████████████████████████████| 13/13 [00:02<00:00,  4.75it/s]\n"
     ]
    },
    {
     "name": "stdout",
     "output_type": "stream",
     "text": [
      "# Epoch 33 / 150\n"
     ]
    },
    {
     "name": "stderr",
     "output_type": "stream",
     "text": [
      "100%|███████████████████████████████████████████| 49/49 [00:28<00:00,  1.73it/s]\n",
      "100%|███████████████████████████████████████████| 49/49 [00:08<00:00,  5.93it/s]\n",
      "100%|███████████████████████████████████████████| 13/13 [00:02<00:00,  4.68it/s]\n"
     ]
    },
    {
     "name": "stdout",
     "output_type": "stream",
     "text": [
      "# Epoch 34 / 150\n"
     ]
    },
    {
     "name": "stderr",
     "output_type": "stream",
     "text": [
      "100%|███████████████████████████████████████████| 49/49 [00:27<00:00,  1.79it/s]\n",
      "100%|███████████████████████████████████████████| 49/49 [00:08<00:00,  5.86it/s]\n",
      "100%|███████████████████████████████████████████| 13/13 [00:02<00:00,  4.42it/s]\n"
     ]
    },
    {
     "name": "stdout",
     "output_type": "stream",
     "text": [
      "# Epoch 35 / 150\n"
     ]
    },
    {
     "name": "stderr",
     "output_type": "stream",
     "text": [
      "100%|███████████████████████████████████████████| 49/49 [00:28<00:00,  1.73it/s]\n",
      "100%|███████████████████████████████████████████| 49/49 [00:08<00:00,  6.02it/s]\n",
      "100%|███████████████████████████████████████████| 13/13 [00:02<00:00,  4.38it/s]\n"
     ]
    },
    {
     "name": "stdout",
     "output_type": "stream",
     "text": [
      "# Epoch 36 / 150\n"
     ]
    },
    {
     "name": "stderr",
     "output_type": "stream",
     "text": [
      "100%|███████████████████████████████████████████| 49/49 [00:27<00:00,  1.78it/s]\n",
      "100%|███████████████████████████████████████████| 49/49 [00:08<00:00,  6.06it/s]\n",
      "100%|███████████████████████████████████████████| 13/13 [00:02<00:00,  4.70it/s]\n"
     ]
    },
    {
     "name": "stdout",
     "output_type": "stream",
     "text": [
      "# Epoch 37 / 150\n"
     ]
    },
    {
     "name": "stderr",
     "output_type": "stream",
     "text": [
      "100%|███████████████████████████████████████████| 49/49 [00:27<00:00,  1.80it/s]\n",
      "100%|███████████████████████████████████████████| 49/49 [00:07<00:00,  6.15it/s]\n",
      "100%|███████████████████████████████████████████| 13/13 [00:02<00:00,  4.63it/s]\n"
     ]
    },
    {
     "name": "stdout",
     "output_type": "stream",
     "text": [
      "# Epoch 38 / 150\n"
     ]
    },
    {
     "name": "stderr",
     "output_type": "stream",
     "text": [
      "100%|███████████████████████████████████████████| 49/49 [00:27<00:00,  1.75it/s]\n",
      "100%|███████████████████████████████████████████| 49/49 [00:08<00:00,  5.97it/s]\n",
      "100%|███████████████████████████████████████████| 13/13 [00:02<00:00,  4.53it/s]\n"
     ]
    },
    {
     "name": "stdout",
     "output_type": "stream",
     "text": [
      "# Epoch 39 / 150\n"
     ]
    },
    {
     "name": "stderr",
     "output_type": "stream",
     "text": [
      "100%|███████████████████████████████████████████| 49/49 [00:28<00:00,  1.71it/s]\n",
      "100%|███████████████████████████████████████████| 49/49 [00:08<00:00,  5.84it/s]\n",
      "100%|███████████████████████████████████████████| 13/13 [00:02<00:00,  4.72it/s]\n"
     ]
    },
    {
     "name": "stdout",
     "output_type": "stream",
     "text": [
      "# Epoch 40 / 150\n"
     ]
    },
    {
     "name": "stderr",
     "output_type": "stream",
     "text": [
      "100%|███████████████████████████████████████████| 49/49 [00:28<00:00,  1.75it/s]\n",
      "100%|███████████████████████████████████████████| 49/49 [00:08<00:00,  6.03it/s]\n",
      "100%|███████████████████████████████████████████| 13/13 [00:03<00:00,  4.32it/s]\n"
     ]
    },
    {
     "name": "stdout",
     "output_type": "stream",
     "text": [
      "# Epoch 41 / 150\n"
     ]
    },
    {
     "name": "stderr",
     "output_type": "stream",
     "text": [
      "100%|███████████████████████████████████████████| 49/49 [00:28<00:00,  1.73it/s]\n",
      "100%|███████████████████████████████████████████| 49/49 [00:08<00:00,  5.93it/s]\n",
      "100%|███████████████████████████████████████████| 13/13 [00:02<00:00,  4.65it/s]\n"
     ]
    },
    {
     "name": "stdout",
     "output_type": "stream",
     "text": [
      "# Epoch 42 / 150\n"
     ]
    },
    {
     "name": "stderr",
     "output_type": "stream",
     "text": [
      "100%|███████████████████████████████████████████| 49/49 [00:28<00:00,  1.73it/s]\n",
      "100%|███████████████████████████████████████████| 49/49 [00:08<00:00,  5.80it/s]\n",
      "100%|███████████████████████████████████████████| 13/13 [00:02<00:00,  4.66it/s]\n"
     ]
    },
    {
     "name": "stdout",
     "output_type": "stream",
     "text": [
      "# Epoch 43 / 150\n"
     ]
    },
    {
     "name": "stderr",
     "output_type": "stream",
     "text": [
      "100%|███████████████████████████████████████████| 49/49 [00:27<00:00,  1.79it/s]\n",
      "100%|███████████████████████████████████████████| 49/49 [00:08<00:00,  5.93it/s]\n",
      "100%|███████████████████████████████████████████| 13/13 [00:02<00:00,  4.52it/s]\n"
     ]
    },
    {
     "name": "stdout",
     "output_type": "stream",
     "text": [
      "# Epoch 44 / 150\n"
     ]
    },
    {
     "name": "stderr",
     "output_type": "stream",
     "text": [
      "100%|███████████████████████████████████████████| 49/49 [00:27<00:00,  1.76it/s]\n",
      "100%|███████████████████████████████████████████| 49/49 [00:08<00:00,  5.87it/s]\n",
      "100%|███████████████████████████████████████████| 13/13 [00:02<00:00,  4.75it/s]\n"
     ]
    },
    {
     "name": "stdout",
     "output_type": "stream",
     "text": [
      "# Epoch 45 / 150\n"
     ]
    },
    {
     "name": "stderr",
     "output_type": "stream",
     "text": [
      "100%|███████████████████████████████████████████| 49/49 [00:27<00:00,  1.79it/s]\n",
      "100%|███████████████████████████████████████████| 49/49 [00:08<00:00,  5.69it/s]\n",
      "100%|███████████████████████████████████████████| 13/13 [00:02<00:00,  4.60it/s]\n"
     ]
    },
    {
     "name": "stdout",
     "output_type": "stream",
     "text": [
      "# Epoch 46 / 150\n"
     ]
    },
    {
     "name": "stderr",
     "output_type": "stream",
     "text": [
      "100%|███████████████████████████████████████████| 49/49 [00:27<00:00,  1.79it/s]\n",
      "100%|███████████████████████████████████████████| 49/49 [00:08<00:00,  5.87it/s]\n",
      "100%|███████████████████████████████████████████| 13/13 [00:02<00:00,  4.54it/s]\n"
     ]
    },
    {
     "name": "stdout",
     "output_type": "stream",
     "text": [
      "# Epoch 47 / 150\n"
     ]
    },
    {
     "name": "stderr",
     "output_type": "stream",
     "text": [
      "100%|███████████████████████████████████████████| 49/49 [00:26<00:00,  1.82it/s]\n",
      "100%|███████████████████████████████████████████| 49/49 [00:08<00:00,  5.89it/s]\n",
      "100%|███████████████████████████████████████████| 13/13 [00:02<00:00,  4.47it/s]\n"
     ]
    },
    {
     "name": "stdout",
     "output_type": "stream",
     "text": [
      "# Epoch 48 / 150\n"
     ]
    },
    {
     "name": "stderr",
     "output_type": "stream",
     "text": [
      "100%|███████████████████████████████████████████| 49/49 [00:28<00:00,  1.72it/s]\n",
      "100%|███████████████████████████████████████████| 49/49 [00:08<00:00,  5.89it/s]\n",
      "100%|███████████████████████████████████████████| 13/13 [00:02<00:00,  4.54it/s]\n"
     ]
    },
    {
     "name": "stdout",
     "output_type": "stream",
     "text": [
      "# Epoch 49 / 150\n"
     ]
    },
    {
     "name": "stderr",
     "output_type": "stream",
     "text": [
      "100%|███████████████████████████████████████████| 49/49 [00:28<00:00,  1.71it/s]\n",
      "100%|███████████████████████████████████████████| 49/49 [00:08<00:00,  6.05it/s]\n",
      "100%|███████████████████████████████████████████| 13/13 [00:02<00:00,  4.57it/s]\n"
     ]
    },
    {
     "name": "stdout",
     "output_type": "stream",
     "text": [
      "# Epoch 50 / 150\n"
     ]
    },
    {
     "name": "stderr",
     "output_type": "stream",
     "text": [
      "100%|███████████████████████████████████████████| 49/49 [00:27<00:00,  1.80it/s]\n",
      "100%|███████████████████████████████████████████| 49/49 [00:08<00:00,  5.81it/s]\n",
      "100%|███████████████████████████████████████████| 13/13 [00:02<00:00,  4.68it/s]\n"
     ]
    },
    {
     "name": "stdout",
     "output_type": "stream",
     "text": [
      "# Epoch 51 / 150\n"
     ]
    },
    {
     "name": "stderr",
     "output_type": "stream",
     "text": [
      "100%|███████████████████████████████████████████| 49/49 [00:26<00:00,  1.82it/s]\n",
      "100%|███████████████████████████████████████████| 49/49 [00:08<00:00,  5.83it/s]\n",
      "100%|███████████████████████████████████████████| 13/13 [00:02<00:00,  4.75it/s]\n"
     ]
    },
    {
     "name": "stdout",
     "output_type": "stream",
     "text": [
      "# Epoch 52 / 150\n"
     ]
    },
    {
     "name": "stderr",
     "output_type": "stream",
     "text": [
      "100%|███████████████████████████████████████████| 49/49 [00:27<00:00,  1.76it/s]\n",
      "100%|███████████████████████████████████████████| 49/49 [00:08<00:00,  5.66it/s]\n",
      "100%|███████████████████████████████████████████| 13/13 [00:02<00:00,  4.77it/s]\n"
     ]
    },
    {
     "name": "stdout",
     "output_type": "stream",
     "text": [
      "# Epoch 53 / 150\n"
     ]
    },
    {
     "name": "stderr",
     "output_type": "stream",
     "text": [
      "100%|███████████████████████████████████████████| 49/49 [00:28<00:00,  1.75it/s]\n",
      "100%|███████████████████████████████████████████| 49/49 [00:08<00:00,  5.90it/s]\n",
      "100%|███████████████████████████████████████████| 13/13 [00:02<00:00,  4.55it/s]\n"
     ]
    },
    {
     "name": "stdout",
     "output_type": "stream",
     "text": [
      "# Epoch 54 / 150\n"
     ]
    },
    {
     "name": "stderr",
     "output_type": "stream",
     "text": [
      "100%|███████████████████████████████████████████| 49/49 [00:26<00:00,  1.82it/s]\n",
      "100%|███████████████████████████████████████████| 49/49 [00:08<00:00,  5.88it/s]\n",
      "100%|███████████████████████████████████████████| 13/13 [00:02<00:00,  4.94it/s]\n"
     ]
    },
    {
     "name": "stdout",
     "output_type": "stream",
     "text": [
      "# Epoch 55 / 150\n"
     ]
    },
    {
     "name": "stderr",
     "output_type": "stream",
     "text": [
      "100%|███████████████████████████████████████████| 49/49 [00:27<00:00,  1.79it/s]\n",
      "100%|███████████████████████████████████████████| 49/49 [00:08<00:00,  5.76it/s]\n",
      "100%|███████████████████████████████████████████| 13/13 [00:02<00:00,  4.90it/s]\n"
     ]
    },
    {
     "name": "stdout",
     "output_type": "stream",
     "text": [
      "# Epoch 56 / 150\n"
     ]
    },
    {
     "name": "stderr",
     "output_type": "stream",
     "text": [
      "100%|███████████████████████████████████████████| 49/49 [00:27<00:00,  1.79it/s]\n",
      "100%|███████████████████████████████████████████| 49/49 [00:08<00:00,  6.01it/s]\n",
      "100%|███████████████████████████████████████████| 13/13 [00:02<00:00,  4.65it/s]\n"
     ]
    },
    {
     "name": "stdout",
     "output_type": "stream",
     "text": [
      "# Epoch 57 / 150\n"
     ]
    },
    {
     "name": "stderr",
     "output_type": "stream",
     "text": [
      "100%|███████████████████████████████████████████| 49/49 [00:27<00:00,  1.78it/s]\n",
      "100%|███████████████████████████████████████████| 49/49 [00:08<00:00,  5.98it/s]\n",
      "100%|███████████████████████████████████████████| 13/13 [00:02<00:00,  4.52it/s]\n"
     ]
    },
    {
     "name": "stdout",
     "output_type": "stream",
     "text": [
      "# Epoch 58 / 150\n"
     ]
    },
    {
     "name": "stderr",
     "output_type": "stream",
     "text": [
      "100%|███████████████████████████████████████████| 49/49 [00:28<00:00,  1.72it/s]\n",
      "100%|███████████████████████████████████████████| 49/49 [00:08<00:00,  5.74it/s]\n",
      "100%|███████████████████████████████████████████| 13/13 [00:02<00:00,  4.61it/s]\n"
     ]
    },
    {
     "name": "stdout",
     "output_type": "stream",
     "text": [
      "# Epoch 59 / 150\n"
     ]
    },
    {
     "name": "stderr",
     "output_type": "stream",
     "text": [
      "100%|███████████████████████████████████████████| 49/49 [00:27<00:00,  1.78it/s]\n",
      "100%|███████████████████████████████████████████| 49/49 [00:08<00:00,  5.85it/s]\n",
      "100%|███████████████████████████████████████████| 13/13 [00:02<00:00,  4.73it/s]\n"
     ]
    },
    {
     "name": "stdout",
     "output_type": "stream",
     "text": [
      "# Epoch 60 / 150\n"
     ]
    },
    {
     "name": "stderr",
     "output_type": "stream",
     "text": [
      "100%|███████████████████████████████████████████| 49/49 [00:26<00:00,  1.82it/s]\n",
      "100%|███████████████████████████████████████████| 49/49 [00:08<00:00,  5.65it/s]\n",
      "100%|███████████████████████████████████████████| 13/13 [00:02<00:00,  4.57it/s]\n"
     ]
    },
    {
     "name": "stdout",
     "output_type": "stream",
     "text": [
      "# Epoch 61 / 150\n"
     ]
    },
    {
     "name": "stderr",
     "output_type": "stream",
     "text": [
      "100%|███████████████████████████████████████████| 49/49 [00:27<00:00,  1.75it/s]\n",
      "100%|███████████████████████████████████████████| 49/49 [00:08<00:00,  5.75it/s]\n",
      "100%|███████████████████████████████████████████| 13/13 [00:02<00:00,  4.91it/s]\n"
     ]
    },
    {
     "name": "stdout",
     "output_type": "stream",
     "text": [
      "# Epoch 62 / 150\n"
     ]
    },
    {
     "name": "stderr",
     "output_type": "stream",
     "text": [
      "100%|███████████████████████████████████████████| 49/49 [00:27<00:00,  1.79it/s]\n",
      "100%|███████████████████████████████████████████| 49/49 [00:08<00:00,  5.96it/s]\n",
      "100%|███████████████████████████████████████████| 13/13 [00:02<00:00,  4.63it/s]\n"
     ]
    },
    {
     "name": "stdout",
     "output_type": "stream",
     "text": [
      "# Epoch 63 / 150\n"
     ]
    },
    {
     "name": "stderr",
     "output_type": "stream",
     "text": [
      "100%|███████████████████████████████████████████| 49/49 [00:27<00:00,  1.77it/s]\n",
      "100%|███████████████████████████████████████████| 49/49 [00:08<00:00,  5.74it/s]\n",
      "100%|███████████████████████████████████████████| 13/13 [00:02<00:00,  4.72it/s]\n"
     ]
    },
    {
     "name": "stdout",
     "output_type": "stream",
     "text": [
      "# Epoch 64 / 150\n"
     ]
    },
    {
     "name": "stderr",
     "output_type": "stream",
     "text": [
      "100%|███████████████████████████████████████████| 49/49 [00:27<00:00,  1.75it/s]\n",
      "100%|███████████████████████████████████████████| 49/49 [00:08<00:00,  5.83it/s]\n",
      "100%|███████████████████████████████████████████| 13/13 [00:02<00:00,  4.71it/s]\n"
     ]
    },
    {
     "name": "stdout",
     "output_type": "stream",
     "text": [
      "# Epoch 65 / 150\n"
     ]
    },
    {
     "name": "stderr",
     "output_type": "stream",
     "text": [
      "100%|███████████████████████████████████████████| 49/49 [00:28<00:00,  1.73it/s]\n",
      "100%|███████████████████████████████████████████| 49/49 [00:08<00:00,  6.04it/s]\n",
      "100%|███████████████████████████████████████████| 13/13 [00:02<00:00,  4.52it/s]\n"
     ]
    },
    {
     "name": "stdout",
     "output_type": "stream",
     "text": [
      "# Epoch 66 / 150\n"
     ]
    },
    {
     "name": "stderr",
     "output_type": "stream",
     "text": [
      "100%|███████████████████████████████████████████| 49/49 [00:28<00:00,  1.74it/s]\n",
      "100%|███████████████████████████████████████████| 49/49 [00:08<00:00,  5.70it/s]\n",
      "100%|███████████████████████████████████████████| 13/13 [00:02<00:00,  4.60it/s]\n"
     ]
    },
    {
     "name": "stdout",
     "output_type": "stream",
     "text": [
      "# Epoch 67 / 150\n"
     ]
    },
    {
     "name": "stderr",
     "output_type": "stream",
     "text": [
      "100%|███████████████████████████████████████████| 49/49 [00:28<00:00,  1.74it/s]\n",
      "100%|███████████████████████████████████████████| 49/49 [00:07<00:00,  6.23it/s]\n",
      "100%|███████████████████████████████████████████| 13/13 [00:03<00:00,  4.33it/s]\n"
     ]
    },
    {
     "name": "stdout",
     "output_type": "stream",
     "text": [
      "# Epoch 68 / 150\n"
     ]
    },
    {
     "name": "stderr",
     "output_type": "stream",
     "text": [
      "100%|███████████████████████████████████████████| 49/49 [00:28<00:00,  1.74it/s]\n",
      "100%|███████████████████████████████████████████| 49/49 [00:08<00:00,  5.93it/s]\n",
      "100%|███████████████████████████████████████████| 13/13 [00:02<00:00,  4.72it/s]\n"
     ]
    },
    {
     "name": "stdout",
     "output_type": "stream",
     "text": [
      "# Epoch 69 / 150\n"
     ]
    },
    {
     "name": "stderr",
     "output_type": "stream",
     "text": [
      "100%|███████████████████████████████████████████| 49/49 [00:27<00:00,  1.78it/s]\n",
      "100%|███████████████████████████████████████████| 49/49 [00:08<00:00,  5.75it/s]\n",
      "100%|███████████████████████████████████████████| 13/13 [00:02<00:00,  4.62it/s]\n"
     ]
    },
    {
     "name": "stdout",
     "output_type": "stream",
     "text": [
      "# Epoch 70 / 150\n"
     ]
    },
    {
     "name": "stderr",
     "output_type": "stream",
     "text": [
      "100%|███████████████████████████████████████████| 49/49 [00:27<00:00,  1.77it/s]\n",
      "100%|███████████████████████████████████████████| 49/49 [00:08<00:00,  6.00it/s]\n",
      "100%|███████████████████████████████████████████| 13/13 [00:03<00:00,  4.33it/s]\n"
     ]
    },
    {
     "name": "stdout",
     "output_type": "stream",
     "text": [
      "# Epoch 71 / 150\n"
     ]
    },
    {
     "name": "stderr",
     "output_type": "stream",
     "text": [
      "100%|███████████████████████████████████████████| 49/49 [00:27<00:00,  1.77it/s]\n",
      "100%|███████████████████████████████████████████| 49/49 [00:08<00:00,  6.05it/s]\n",
      "100%|███████████████████████████████████████████| 13/13 [00:02<00:00,  4.42it/s]\n"
     ]
    },
    {
     "name": "stdout",
     "output_type": "stream",
     "text": [
      "# Epoch 72 / 150\n"
     ]
    },
    {
     "name": "stderr",
     "output_type": "stream",
     "text": [
      "100%|███████████████████████████████████████████| 49/49 [00:28<00:00,  1.71it/s]\n",
      "100%|███████████████████████████████████████████| 49/49 [00:08<00:00,  5.96it/s]\n",
      "100%|███████████████████████████████████████████| 13/13 [00:02<00:00,  4.53it/s]\n"
     ]
    },
    {
     "name": "stdout",
     "output_type": "stream",
     "text": [
      "# Epoch 73 / 150\n"
     ]
    },
    {
     "name": "stderr",
     "output_type": "stream",
     "text": [
      "100%|███████████████████████████████████████████| 49/49 [00:27<00:00,  1.80it/s]\n",
      "100%|███████████████████████████████████████████| 49/49 [00:08<00:00,  6.06it/s]\n",
      "100%|███████████████████████████████████████████| 13/13 [00:02<00:00,  4.75it/s]\n"
     ]
    },
    {
     "name": "stdout",
     "output_type": "stream",
     "text": [
      "# Epoch 74 / 150\n"
     ]
    },
    {
     "name": "stderr",
     "output_type": "stream",
     "text": [
      "100%|███████████████████████████████████████████| 49/49 [00:27<00:00,  1.78it/s]\n",
      "100%|███████████████████████████████████████████| 49/49 [00:08<00:00,  5.79it/s]\n",
      "100%|███████████████████████████████████████████| 13/13 [00:03<00:00,  4.17it/s]\n"
     ]
    },
    {
     "name": "stdout",
     "output_type": "stream",
     "text": [
      "# Epoch 75 / 150\n"
     ]
    },
    {
     "name": "stderr",
     "output_type": "stream",
     "text": [
      "100%|███████████████████████████████████████████| 49/49 [00:27<00:00,  1.81it/s]\n",
      "100%|███████████████████████████████████████████| 49/49 [00:08<00:00,  5.92it/s]\n",
      "100%|███████████████████████████████████████████| 13/13 [00:02<00:00,  4.51it/s]\n"
     ]
    },
    {
     "name": "stdout",
     "output_type": "stream",
     "text": [
      "# Epoch 76 / 150\n"
     ]
    },
    {
     "name": "stderr",
     "output_type": "stream",
     "text": [
      "100%|███████████████████████████████████████████| 49/49 [00:27<00:00,  1.78it/s]\n",
      "100%|███████████████████████████████████████████| 49/49 [00:08<00:00,  5.89it/s]\n",
      "100%|███████████████████████████████████████████| 13/13 [00:02<00:00,  4.81it/s]\n"
     ]
    },
    {
     "name": "stdout",
     "output_type": "stream",
     "text": [
      "# Epoch 77 / 150\n"
     ]
    },
    {
     "name": "stderr",
     "output_type": "stream",
     "text": [
      "100%|███████████████████████████████████████████| 49/49 [00:27<00:00,  1.76it/s]\n",
      "100%|███████████████████████████████████████████| 49/49 [00:08<00:00,  6.07it/s]\n",
      "100%|███████████████████████████████████████████| 13/13 [00:02<00:00,  4.69it/s]\n"
     ]
    },
    {
     "name": "stdout",
     "output_type": "stream",
     "text": [
      "# Epoch 78 / 150\n"
     ]
    },
    {
     "name": "stderr",
     "output_type": "stream",
     "text": [
      "100%|███████████████████████████████████████████| 49/49 [00:27<00:00,  1.80it/s]\n",
      "100%|███████████████████████████████████████████| 49/49 [00:08<00:00,  5.79it/s]\n",
      "100%|███████████████████████████████████████████| 13/13 [00:02<00:00,  4.78it/s]\n"
     ]
    },
    {
     "name": "stdout",
     "output_type": "stream",
     "text": [
      "# Epoch 79 / 150\n"
     ]
    },
    {
     "name": "stderr",
     "output_type": "stream",
     "text": [
      "100%|███████████████████████████████████████████| 49/49 [00:27<00:00,  1.78it/s]\n",
      "100%|███████████████████████████████████████████| 49/49 [00:08<00:00,  5.73it/s]\n",
      "100%|███████████████████████████████████████████| 13/13 [00:03<00:00,  4.29it/s]\n"
     ]
    },
    {
     "name": "stdout",
     "output_type": "stream",
     "text": [
      "# Epoch 80 / 150\n"
     ]
    },
    {
     "name": "stderr",
     "output_type": "stream",
     "text": [
      "100%|███████████████████████████████████████████| 49/49 [00:27<00:00,  1.79it/s]\n",
      "100%|███████████████████████████████████████████| 49/49 [00:08<00:00,  5.87it/s]\n",
      "100%|███████████████████████████████████████████| 13/13 [00:02<00:00,  4.49it/s]\n"
     ]
    },
    {
     "name": "stdout",
     "output_type": "stream",
     "text": [
      "# Epoch 81 / 150\n"
     ]
    },
    {
     "name": "stderr",
     "output_type": "stream",
     "text": [
      "100%|███████████████████████████████████████████| 49/49 [00:27<00:00,  1.76it/s]\n",
      "100%|███████████████████████████████████████████| 49/49 [00:08<00:00,  5.70it/s]\n",
      "100%|███████████████████████████████████████████| 13/13 [00:02<00:00,  4.43it/s]\n"
     ]
    },
    {
     "name": "stdout",
     "output_type": "stream",
     "text": [
      "# Epoch 82 / 150\n"
     ]
    },
    {
     "name": "stderr",
     "output_type": "stream",
     "text": [
      "100%|███████████████████████████████████████████| 49/49 [00:28<00:00,  1.70it/s]\n",
      "100%|███████████████████████████████████████████| 49/49 [00:08<00:00,  5.82it/s]\n",
      "100%|███████████████████████████████████████████| 13/13 [00:02<00:00,  4.69it/s]\n"
     ]
    },
    {
     "name": "stdout",
     "output_type": "stream",
     "text": [
      "# Epoch 83 / 150\n"
     ]
    },
    {
     "name": "stderr",
     "output_type": "stream",
     "text": [
      "100%|███████████████████████████████████████████| 49/49 [00:27<00:00,  1.81it/s]\n",
      "100%|███████████████████████████████████████████| 49/49 [00:08<00:00,  5.75it/s]\n",
      "100%|███████████████████████████████████████████| 13/13 [00:02<00:00,  4.73it/s]\n"
     ]
    },
    {
     "name": "stdout",
     "output_type": "stream",
     "text": [
      "# Epoch 84 / 150\n"
     ]
    },
    {
     "name": "stderr",
     "output_type": "stream",
     "text": [
      "100%|███████████████████████████████████████████| 49/49 [00:28<00:00,  1.75it/s]\n",
      "100%|███████████████████████████████████████████| 49/49 [00:08<00:00,  5.82it/s]\n",
      "100%|███████████████████████████████████████████| 13/13 [00:02<00:00,  4.82it/s]\n"
     ]
    },
    {
     "name": "stdout",
     "output_type": "stream",
     "text": [
      "# Epoch 85 / 150\n"
     ]
    },
    {
     "name": "stderr",
     "output_type": "stream",
     "text": [
      "100%|███████████████████████████████████████████| 49/49 [00:27<00:00,  1.79it/s]\n",
      "100%|███████████████████████████████████████████| 49/49 [00:08<00:00,  5.95it/s]\n",
      "100%|███████████████████████████████████████████| 13/13 [00:02<00:00,  4.55it/s]\n"
     ]
    },
    {
     "name": "stdout",
     "output_type": "stream",
     "text": [
      "# Epoch 86 / 150\n"
     ]
    },
    {
     "name": "stderr",
     "output_type": "stream",
     "text": [
      "100%|███████████████████████████████████████████| 49/49 [00:27<00:00,  1.78it/s]\n",
      "100%|███████████████████████████████████████████| 49/49 [00:08<00:00,  5.96it/s]\n",
      "100%|███████████████████████████████████████████| 13/13 [00:02<00:00,  4.65it/s]\n"
     ]
    },
    {
     "name": "stdout",
     "output_type": "stream",
     "text": [
      "# Epoch 87 / 150\n"
     ]
    },
    {
     "name": "stderr",
     "output_type": "stream",
     "text": [
      "100%|███████████████████████████████████████████| 49/49 [00:28<00:00,  1.71it/s]\n",
      "100%|███████████████████████████████████████████| 49/49 [00:08<00:00,  5.81it/s]\n",
      "100%|███████████████████████████████████████████| 13/13 [00:02<00:00,  4.53it/s]\n"
     ]
    },
    {
     "name": "stdout",
     "output_type": "stream",
     "text": [
      "# Epoch 88 / 150\n"
     ]
    },
    {
     "name": "stderr",
     "output_type": "stream",
     "text": [
      "100%|███████████████████████████████████████████| 49/49 [00:27<00:00,  1.80it/s]\n",
      "100%|███████████████████████████████████████████| 49/49 [00:08<00:00,  5.96it/s]\n",
      "100%|███████████████████████████████████████████| 13/13 [00:02<00:00,  4.71it/s]\n"
     ]
    },
    {
     "name": "stdout",
     "output_type": "stream",
     "text": [
      "# Epoch 89 / 150\n"
     ]
    },
    {
     "name": "stderr",
     "output_type": "stream",
     "text": [
      "100%|███████████████████████████████████████████| 49/49 [00:27<00:00,  1.81it/s]\n",
      "100%|███████████████████████████████████████████| 49/49 [00:08<00:00,  5.92it/s]\n",
      "100%|███████████████████████████████████████████| 13/13 [00:02<00:00,  4.57it/s]\n"
     ]
    },
    {
     "name": "stdout",
     "output_type": "stream",
     "text": [
      "# Epoch 90 / 150\n"
     ]
    },
    {
     "name": "stderr",
     "output_type": "stream",
     "text": [
      "100%|███████████████████████████████████████████| 49/49 [00:28<00:00,  1.73it/s]\n",
      "100%|███████████████████████████████████████████| 49/49 [00:08<00:00,  5.84it/s]\n",
      "100%|███████████████████████████████████████████| 13/13 [00:02<00:00,  4.76it/s]\n"
     ]
    },
    {
     "name": "stdout",
     "output_type": "stream",
     "text": [
      "# Epoch 91 / 150\n"
     ]
    },
    {
     "name": "stderr",
     "output_type": "stream",
     "text": [
      "100%|███████████████████████████████████████████| 49/49 [00:28<00:00,  1.73it/s]\n",
      "100%|███████████████████████████████████████████| 49/49 [00:08<00:00,  5.94it/s]\n",
      "100%|███████████████████████████████████████████| 13/13 [00:02<00:00,  4.72it/s]\n"
     ]
    },
    {
     "name": "stdout",
     "output_type": "stream",
     "text": [
      "# Epoch 92 / 150\n"
     ]
    },
    {
     "name": "stderr",
     "output_type": "stream",
     "text": [
      "100%|███████████████████████████████████████████| 49/49 [00:28<00:00,  1.74it/s]\n",
      "100%|███████████████████████████████████████████| 49/49 [00:08<00:00,  5.95it/s]\n",
      "100%|███████████████████████████████████████████| 13/13 [00:02<00:00,  4.67it/s]\n"
     ]
    },
    {
     "name": "stdout",
     "output_type": "stream",
     "text": [
      "# Epoch 93 / 150\n"
     ]
    },
    {
     "name": "stderr",
     "output_type": "stream",
     "text": [
      "100%|███████████████████████████████████████████| 49/49 [00:28<00:00,  1.70it/s]\n",
      "100%|███████████████████████████████████████████| 49/49 [00:08<00:00,  5.94it/s]\n",
      "100%|███████████████████████████████████████████| 13/13 [00:02<00:00,  4.38it/s]\n"
     ]
    },
    {
     "name": "stdout",
     "output_type": "stream",
     "text": [
      "# Epoch 94 / 150\n"
     ]
    },
    {
     "name": "stderr",
     "output_type": "stream",
     "text": [
      "100%|███████████████████████████████████████████| 49/49 [00:27<00:00,  1.80it/s]\n",
      "100%|███████████████████████████████████████████| 49/49 [00:08<00:00,  5.84it/s]\n",
      "100%|███████████████████████████████████████████| 13/13 [00:02<00:00,  4.68it/s]\n"
     ]
    },
    {
     "name": "stdout",
     "output_type": "stream",
     "text": [
      "# Epoch 95 / 150\n"
     ]
    },
    {
     "name": "stderr",
     "output_type": "stream",
     "text": [
      "100%|███████████████████████████████████████████| 49/49 [00:27<00:00,  1.81it/s]\n",
      "100%|███████████████████████████████████████████| 49/49 [00:08<00:00,  5.96it/s]\n",
      "100%|███████████████████████████████████████████| 13/13 [00:02<00:00,  4.65it/s]\n"
     ]
    },
    {
     "name": "stdout",
     "output_type": "stream",
     "text": [
      "# Epoch 96 / 150\n"
     ]
    },
    {
     "name": "stderr",
     "output_type": "stream",
     "text": [
      "100%|███████████████████████████████████████████| 49/49 [00:27<00:00,  1.78it/s]\n",
      "100%|███████████████████████████████████████████| 49/49 [00:08<00:00,  6.05it/s]\n",
      "100%|███████████████████████████████████████████| 13/13 [00:02<00:00,  4.56it/s]\n"
     ]
    },
    {
     "name": "stdout",
     "output_type": "stream",
     "text": [
      "# Epoch 97 / 150\n"
     ]
    },
    {
     "name": "stderr",
     "output_type": "stream",
     "text": [
      "100%|███████████████████████████████████████████| 49/49 [00:28<00:00,  1.74it/s]\n",
      "100%|███████████████████████████████████████████| 49/49 [00:08<00:00,  5.79it/s]\n",
      "100%|███████████████████████████████████████████| 13/13 [00:02<00:00,  4.82it/s]\n"
     ]
    },
    {
     "name": "stdout",
     "output_type": "stream",
     "text": [
      "# Epoch 98 / 150\n"
     ]
    },
    {
     "name": "stderr",
     "output_type": "stream",
     "text": [
      "100%|███████████████████████████████████████████| 49/49 [00:27<00:00,  1.76it/s]\n",
      "100%|███████████████████████████████████████████| 49/49 [00:08<00:00,  6.12it/s]\n",
      "100%|███████████████████████████████████████████| 13/13 [00:02<00:00,  4.77it/s]\n"
     ]
    },
    {
     "name": "stdout",
     "output_type": "stream",
     "text": [
      "# Epoch 99 / 150\n"
     ]
    },
    {
     "name": "stderr",
     "output_type": "stream",
     "text": [
      "100%|███████████████████████████████████████████| 49/49 [00:27<00:00,  1.79it/s]\n",
      "100%|███████████████████████████████████████████| 49/49 [00:08<00:00,  5.82it/s]\n",
      "100%|███████████████████████████████████████████| 13/13 [00:02<00:00,  4.64it/s]\n"
     ]
    },
    {
     "name": "stdout",
     "output_type": "stream",
     "text": [
      "# Epoch 100 / 150\n"
     ]
    },
    {
     "name": "stderr",
     "output_type": "stream",
     "text": [
      "100%|███████████████████████████████████████████| 49/49 [00:27<00:00,  1.79it/s]\n",
      "100%|███████████████████████████████████████████| 49/49 [00:08<00:00,  5.78it/s]\n",
      "100%|███████████████████████████████████████████| 13/13 [00:02<00:00,  4.54it/s]\n"
     ]
    },
    {
     "name": "stdout",
     "output_type": "stream",
     "text": [
      "# Epoch 101 / 150\n"
     ]
    },
    {
     "name": "stderr",
     "output_type": "stream",
     "text": [
      "100%|███████████████████████████████████████████| 49/49 [00:27<00:00,  1.80it/s]\n",
      "100%|███████████████████████████████████████████| 49/49 [00:08<00:00,  6.04it/s]\n",
      "100%|███████████████████████████████████████████| 13/13 [00:02<00:00,  4.54it/s]\n"
     ]
    },
    {
     "name": "stdout",
     "output_type": "stream",
     "text": [
      "# Epoch 102 / 150\n"
     ]
    },
    {
     "name": "stderr",
     "output_type": "stream",
     "text": [
      "100%|███████████████████████████████████████████| 49/49 [00:27<00:00,  1.79it/s]\n",
      "100%|███████████████████████████████████████████| 49/49 [00:08<00:00,  6.06it/s]\n",
      "100%|███████████████████████████████████████████| 13/13 [00:02<00:00,  4.74it/s]\n"
     ]
    },
    {
     "name": "stdout",
     "output_type": "stream",
     "text": [
      "# Epoch 103 / 150\n"
     ]
    },
    {
     "name": "stderr",
     "output_type": "stream",
     "text": [
      "100%|███████████████████████████████████████████| 49/49 [00:27<00:00,  1.80it/s]\n",
      "100%|███████████████████████████████████████████| 49/49 [00:08<00:00,  5.92it/s]\n",
      "100%|███████████████████████████████████████████| 13/13 [00:02<00:00,  4.57it/s]\n"
     ]
    },
    {
     "name": "stdout",
     "output_type": "stream",
     "text": [
      "# Epoch 104 / 150\n"
     ]
    },
    {
     "name": "stderr",
     "output_type": "stream",
     "text": [
      "100%|███████████████████████████████████████████| 49/49 [00:27<00:00,  1.76it/s]\n",
      "100%|███████████████████████████████████████████| 49/49 [00:08<00:00,  5.79it/s]\n",
      "100%|███████████████████████████████████████████| 13/13 [00:02<00:00,  4.64it/s]\n"
     ]
    },
    {
     "name": "stdout",
     "output_type": "stream",
     "text": [
      "# Epoch 105 / 150\n"
     ]
    },
    {
     "name": "stderr",
     "output_type": "stream",
     "text": [
      "100%|███████████████████████████████████████████| 49/49 [00:27<00:00,  1.78it/s]\n",
      "100%|███████████████████████████████████████████| 49/49 [00:08<00:00,  5.84it/s]\n",
      "100%|███████████████████████████████████████████| 13/13 [00:02<00:00,  4.58it/s]\n"
     ]
    },
    {
     "name": "stdout",
     "output_type": "stream",
     "text": [
      "# Epoch 106 / 150\n"
     ]
    },
    {
     "name": "stderr",
     "output_type": "stream",
     "text": [
      "100%|███████████████████████████████████████████| 49/49 [00:28<00:00,  1.75it/s]\n",
      "100%|███████████████████████████████████████████| 49/49 [00:08<00:00,  5.96it/s]\n",
      "100%|███████████████████████████████████████████| 13/13 [00:02<00:00,  4.75it/s]\n"
     ]
    },
    {
     "name": "stdout",
     "output_type": "stream",
     "text": [
      "# Epoch 107 / 150\n"
     ]
    },
    {
     "name": "stderr",
     "output_type": "stream",
     "text": [
      "100%|███████████████████████████████████████████| 49/49 [00:27<00:00,  1.78it/s]\n",
      "100%|███████████████████████████████████████████| 49/49 [00:08<00:00,  5.80it/s]\n",
      "100%|███████████████████████████████████████████| 13/13 [00:02<00:00,  4.66it/s]\n"
     ]
    },
    {
     "name": "stdout",
     "output_type": "stream",
     "text": [
      "# Epoch 108 / 150\n"
     ]
    },
    {
     "name": "stderr",
     "output_type": "stream",
     "text": [
      "100%|███████████████████████████████████████████| 49/49 [00:27<00:00,  1.76it/s]\n",
      "100%|███████████████████████████████████████████| 49/49 [00:08<00:00,  5.86it/s]\n",
      "100%|███████████████████████████████████████████| 13/13 [00:02<00:00,  4.78it/s]\n"
     ]
    },
    {
     "name": "stdout",
     "output_type": "stream",
     "text": [
      "# Epoch 109 / 150\n"
     ]
    },
    {
     "name": "stderr",
     "output_type": "stream",
     "text": [
      "100%|███████████████████████████████████████████| 49/49 [00:28<00:00,  1.75it/s]\n",
      "100%|███████████████████████████████████████████| 49/49 [00:08<00:00,  5.85it/s]\n",
      "100%|███████████████████████████████████████████| 13/13 [00:02<00:00,  4.78it/s]\n"
     ]
    },
    {
     "name": "stdout",
     "output_type": "stream",
     "text": [
      "# Epoch 110 / 150\n"
     ]
    },
    {
     "name": "stderr",
     "output_type": "stream",
     "text": [
      "100%|███████████████████████████████████████████| 49/49 [00:27<00:00,  1.77it/s]\n",
      "100%|███████████████████████████████████████████| 49/49 [00:08<00:00,  5.92it/s]\n",
      "100%|███████████████████████████████████████████| 13/13 [00:02<00:00,  4.78it/s]\n"
     ]
    },
    {
     "name": "stdout",
     "output_type": "stream",
     "text": [
      "# Epoch 111 / 150\n"
     ]
    },
    {
     "name": "stderr",
     "output_type": "stream",
     "text": [
      "100%|███████████████████████████████████████████| 49/49 [00:26<00:00,  1.82it/s]\n",
      "100%|███████████████████████████████████████████| 49/49 [00:07<00:00,  6.17it/s]\n",
      "100%|███████████████████████████████████████████| 13/13 [00:02<00:00,  4.85it/s]\n"
     ]
    },
    {
     "name": "stdout",
     "output_type": "stream",
     "text": [
      "# Epoch 112 / 150\n"
     ]
    },
    {
     "name": "stderr",
     "output_type": "stream",
     "text": [
      "100%|███████████████████████████████████████████| 49/49 [00:26<00:00,  1.82it/s]\n",
      "100%|███████████████████████████████████████████| 49/49 [00:08<00:00,  5.86it/s]\n",
      "100%|███████████████████████████████████████████| 13/13 [00:02<00:00,  4.69it/s]\n"
     ]
    },
    {
     "name": "stdout",
     "output_type": "stream",
     "text": [
      "# Epoch 113 / 150\n"
     ]
    },
    {
     "name": "stderr",
     "output_type": "stream",
     "text": [
      "100%|███████████████████████████████████████████| 49/49 [00:27<00:00,  1.80it/s]\n",
      "100%|███████████████████████████████████████████| 49/49 [00:08<00:00,  5.73it/s]\n",
      "100%|███████████████████████████████████████████| 13/13 [00:03<00:00,  4.30it/s]\n"
     ]
    },
    {
     "name": "stdout",
     "output_type": "stream",
     "text": [
      "# Epoch 114 / 150\n"
     ]
    },
    {
     "name": "stderr",
     "output_type": "stream",
     "text": [
      "100%|███████████████████████████████████████████| 49/49 [00:27<00:00,  1.79it/s]\n",
      "100%|███████████████████████████████████████████| 49/49 [00:08<00:00,  5.61it/s]\n",
      "100%|███████████████████████████████████████████| 13/13 [00:02<00:00,  4.86it/s]\n"
     ]
    },
    {
     "name": "stdout",
     "output_type": "stream",
     "text": [
      "# Epoch 115 / 150\n"
     ]
    },
    {
     "name": "stderr",
     "output_type": "stream",
     "text": [
      "100%|███████████████████████████████████████████| 49/49 [00:27<00:00,  1.78it/s]\n",
      "100%|███████████████████████████████████████████| 49/49 [00:08<00:00,  5.80it/s]\n",
      "100%|███████████████████████████████████████████| 13/13 [00:02<00:00,  4.70it/s]\n"
     ]
    },
    {
     "name": "stdout",
     "output_type": "stream",
     "text": [
      "# Epoch 116 / 150\n"
     ]
    },
    {
     "name": "stderr",
     "output_type": "stream",
     "text": [
      "100%|███████████████████████████████████████████| 49/49 [00:28<00:00,  1.72it/s]\n",
      "100%|███████████████████████████████████████████| 49/49 [00:08<00:00,  5.93it/s]\n",
      "100%|███████████████████████████████████████████| 13/13 [00:02<00:00,  4.70it/s]\n"
     ]
    },
    {
     "name": "stdout",
     "output_type": "stream",
     "text": [
      "# Epoch 117 / 150\n"
     ]
    },
    {
     "name": "stderr",
     "output_type": "stream",
     "text": [
      "100%|███████████████████████████████████████████| 49/49 [00:28<00:00,  1.73it/s]\n",
      "100%|███████████████████████████████████████████| 49/49 [00:08<00:00,  5.73it/s]\n",
      "100%|███████████████████████████████████████████| 13/13 [00:02<00:00,  4.35it/s]\n"
     ]
    },
    {
     "name": "stdout",
     "output_type": "stream",
     "text": [
      "# Epoch 118 / 150\n"
     ]
    },
    {
     "name": "stderr",
     "output_type": "stream",
     "text": [
      "100%|███████████████████████████████████████████| 49/49 [00:27<00:00,  1.76it/s]\n",
      "100%|███████████████████████████████████████████| 49/49 [00:08<00:00,  5.92it/s]\n",
      "100%|███████████████████████████████████████████| 13/13 [00:03<00:00,  4.20it/s]\n"
     ]
    },
    {
     "name": "stdout",
     "output_type": "stream",
     "text": [
      "# Epoch 119 / 150\n"
     ]
    },
    {
     "name": "stderr",
     "output_type": "stream",
     "text": [
      "100%|███████████████████████████████████████████| 49/49 [00:27<00:00,  1.79it/s]\n",
      "100%|███████████████████████████████████████████| 49/49 [00:08<00:00,  5.78it/s]\n",
      "100%|███████████████████████████████████████████| 13/13 [00:02<00:00,  4.52it/s]\n"
     ]
    },
    {
     "name": "stdout",
     "output_type": "stream",
     "text": [
      "# Epoch 120 / 150\n"
     ]
    },
    {
     "name": "stderr",
     "output_type": "stream",
     "text": [
      "100%|███████████████████████████████████████████| 49/49 [00:27<00:00,  1.76it/s]\n",
      "100%|███████████████████████████████████████████| 49/49 [00:08<00:00,  5.83it/s]\n",
      "100%|███████████████████████████████████████████| 13/13 [00:02<00:00,  4.74it/s]\n"
     ]
    },
    {
     "name": "stdout",
     "output_type": "stream",
     "text": [
      "# Epoch 121 / 150\n"
     ]
    },
    {
     "name": "stderr",
     "output_type": "stream",
     "text": [
      "100%|███████████████████████████████████████████| 49/49 [00:27<00:00,  1.75it/s]\n",
      "100%|███████████████████████████████████████████| 49/49 [00:08<00:00,  5.87it/s]\n",
      "100%|███████████████████████████████████████████| 13/13 [00:02<00:00,  4.35it/s]\n"
     ]
    },
    {
     "name": "stdout",
     "output_type": "stream",
     "text": [
      "# Epoch 122 / 150\n"
     ]
    },
    {
     "name": "stderr",
     "output_type": "stream",
     "text": [
      "100%|███████████████████████████████████████████| 49/49 [00:26<00:00,  1.83it/s]\n",
      "100%|███████████████████████████████████████████| 49/49 [00:08<00:00,  6.03it/s]\n",
      "100%|███████████████████████████████████████████| 13/13 [00:02<00:00,  4.85it/s]\n"
     ]
    },
    {
     "name": "stdout",
     "output_type": "stream",
     "text": [
      "# Epoch 123 / 150\n"
     ]
    },
    {
     "name": "stderr",
     "output_type": "stream",
     "text": [
      "100%|███████████████████████████████████████████| 49/49 [00:27<00:00,  1.76it/s]\n",
      "100%|███████████████████████████████████████████| 49/49 [00:08<00:00,  6.02it/s]\n",
      "100%|███████████████████████████████████████████| 13/13 [00:02<00:00,  4.40it/s]\n"
     ]
    },
    {
     "name": "stdout",
     "output_type": "stream",
     "text": [
      "# Epoch 124 / 150\n"
     ]
    },
    {
     "name": "stderr",
     "output_type": "stream",
     "text": [
      "100%|███████████████████████████████████████████| 49/49 [00:27<00:00,  1.77it/s]\n",
      "100%|███████████████████████████████████████████| 49/49 [00:08<00:00,  5.83it/s]\n",
      "100%|███████████████████████████████████████████| 13/13 [00:02<00:00,  4.92it/s]\n"
     ]
    },
    {
     "name": "stdout",
     "output_type": "stream",
     "text": [
      "# Epoch 125 / 150\n"
     ]
    },
    {
     "name": "stderr",
     "output_type": "stream",
     "text": [
      "100%|███████████████████████████████████████████| 49/49 [00:27<00:00,  1.81it/s]\n",
      "100%|███████████████████████████████████████████| 49/49 [00:08<00:00,  5.79it/s]\n",
      "100%|███████████████████████████████████████████| 13/13 [00:02<00:00,  4.61it/s]\n"
     ]
    },
    {
     "name": "stdout",
     "output_type": "stream",
     "text": [
      "# Epoch 126 / 150\n"
     ]
    },
    {
     "name": "stderr",
     "output_type": "stream",
     "text": [
      "100%|███████████████████████████████████████████| 49/49 [00:28<00:00,  1.71it/s]\n",
      "100%|███████████████████████████████████████████| 49/49 [00:08<00:00,  5.88it/s]\n",
      "100%|███████████████████████████████████████████| 13/13 [00:02<00:00,  4.52it/s]\n"
     ]
    },
    {
     "name": "stdout",
     "output_type": "stream",
     "text": [
      "# Epoch 127 / 150\n"
     ]
    },
    {
     "name": "stderr",
     "output_type": "stream",
     "text": [
      "100%|███████████████████████████████████████████| 49/49 [00:28<00:00,  1.73it/s]\n",
      "100%|███████████████████████████████████████████| 49/49 [00:08<00:00,  5.76it/s]\n",
      "100%|███████████████████████████████████████████| 13/13 [00:02<00:00,  4.54it/s]\n"
     ]
    },
    {
     "name": "stdout",
     "output_type": "stream",
     "text": [
      "# Epoch 128 / 150\n"
     ]
    },
    {
     "name": "stderr",
     "output_type": "stream",
     "text": [
      "100%|███████████████████████████████████████████| 49/49 [00:27<00:00,  1.80it/s]\n",
      "100%|███████████████████████████████████████████| 49/49 [00:08<00:00,  5.78it/s]\n",
      "100%|███████████████████████████████████████████| 13/13 [00:02<00:00,  4.62it/s]\n"
     ]
    },
    {
     "name": "stdout",
     "output_type": "stream",
     "text": [
      "# Epoch 129 / 150\n"
     ]
    },
    {
     "name": "stderr",
     "output_type": "stream",
     "text": [
      "100%|███████████████████████████████████████████| 49/49 [00:27<00:00,  1.80it/s]\n",
      "100%|███████████████████████████████████████████| 49/49 [00:08<00:00,  5.98it/s]\n",
      "100%|███████████████████████████████████████████| 13/13 [00:02<00:00,  4.68it/s]\n"
     ]
    },
    {
     "name": "stdout",
     "output_type": "stream",
     "text": [
      "# Epoch 130 / 150\n"
     ]
    },
    {
     "name": "stderr",
     "output_type": "stream",
     "text": [
      "100%|███████████████████████████████████████████| 49/49 [00:28<00:00,  1.70it/s]\n",
      "100%|███████████████████████████████████████████| 49/49 [00:08<00:00,  5.80it/s]\n",
      "100%|███████████████████████████████████████████| 13/13 [00:02<00:00,  4.50it/s]\n"
     ]
    },
    {
     "name": "stdout",
     "output_type": "stream",
     "text": [
      "# Epoch 131 / 150\n"
     ]
    },
    {
     "name": "stderr",
     "output_type": "stream",
     "text": [
      "100%|███████████████████████████████████████████| 49/49 [00:28<00:00,  1.75it/s]\n",
      "100%|███████████████████████████████████████████| 49/49 [00:08<00:00,  5.83it/s]\n",
      "100%|███████████████████████████████████████████| 13/13 [00:02<00:00,  4.67it/s]\n"
     ]
    },
    {
     "name": "stdout",
     "output_type": "stream",
     "text": [
      "# Epoch 132 / 150\n"
     ]
    },
    {
     "name": "stderr",
     "output_type": "stream",
     "text": [
      "100%|███████████████████████████████████████████| 49/49 [00:27<00:00,  1.78it/s]\n",
      "100%|███████████████████████████████████████████| 49/49 [00:08<00:00,  5.74it/s]\n",
      "100%|███████████████████████████████████████████| 13/13 [00:02<00:00,  4.80it/s]\n"
     ]
    },
    {
     "name": "stdout",
     "output_type": "stream",
     "text": [
      "# Epoch 133 / 150\n"
     ]
    },
    {
     "name": "stderr",
     "output_type": "stream",
     "text": [
      "100%|███████████████████████████████████████████| 49/49 [00:27<00:00,  1.80it/s]\n",
      "100%|███████████████████████████████████████████| 49/49 [00:08<00:00,  5.68it/s]\n",
      "100%|███████████████████████████████████████████| 13/13 [00:02<00:00,  4.50it/s]\n"
     ]
    },
    {
     "name": "stdout",
     "output_type": "stream",
     "text": [
      "# Epoch 134 / 150\n"
     ]
    },
    {
     "name": "stderr",
     "output_type": "stream",
     "text": [
      "100%|███████████████████████████████████████████| 49/49 [00:27<00:00,  1.80it/s]\n",
      "100%|███████████████████████████████████████████| 49/49 [00:08<00:00,  5.81it/s]\n",
      "100%|███████████████████████████████████████████| 13/13 [00:02<00:00,  4.76it/s]\n"
     ]
    },
    {
     "name": "stdout",
     "output_type": "stream",
     "text": [
      "# Epoch 135 / 150\n"
     ]
    },
    {
     "name": "stderr",
     "output_type": "stream",
     "text": [
      "100%|███████████████████████████████████████████| 49/49 [00:28<00:00,  1.71it/s]\n",
      "100%|███████████████████████████████████████████| 49/49 [00:08<00:00,  5.83it/s]\n",
      "100%|███████████████████████████████████████████| 13/13 [00:02<00:00,  5.07it/s]\n"
     ]
    },
    {
     "name": "stdout",
     "output_type": "stream",
     "text": [
      "# Epoch 136 / 150\n"
     ]
    },
    {
     "name": "stderr",
     "output_type": "stream",
     "text": [
      "100%|███████████████████████████████████████████| 49/49 [00:28<00:00,  1.75it/s]\n",
      "100%|███████████████████████████████████████████| 49/49 [00:08<00:00,  6.02it/s]\n",
      "100%|███████████████████████████████████████████| 13/13 [00:02<00:00,  4.57it/s]\n"
     ]
    },
    {
     "name": "stdout",
     "output_type": "stream",
     "text": [
      "# Epoch 137 / 150\n"
     ]
    },
    {
     "name": "stderr",
     "output_type": "stream",
     "text": [
      "100%|███████████████████████████████████████████| 49/49 [00:27<00:00,  1.76it/s]\n",
      "100%|███████████████████████████████████████████| 49/49 [00:08<00:00,  5.91it/s]\n",
      "100%|███████████████████████████████████████████| 13/13 [00:02<00:00,  4.74it/s]\n"
     ]
    },
    {
     "name": "stdout",
     "output_type": "stream",
     "text": [
      "# Epoch 138 / 150\n"
     ]
    },
    {
     "name": "stderr",
     "output_type": "stream",
     "text": [
      "100%|███████████████████████████████████████████| 49/49 [00:27<00:00,  1.79it/s]\n",
      "100%|███████████████████████████████████████████| 49/49 [00:08<00:00,  5.65it/s]\n",
      "100%|███████████████████████████████████████████| 13/13 [00:02<00:00,  4.92it/s]\n"
     ]
    },
    {
     "name": "stdout",
     "output_type": "stream",
     "text": [
      "# Epoch 139 / 150\n"
     ]
    },
    {
     "name": "stderr",
     "output_type": "stream",
     "text": [
      "100%|███████████████████████████████████████████| 49/49 [00:27<00:00,  1.78it/s]\n",
      "100%|███████████████████████████████████████████| 49/49 [00:08<00:00,  5.88it/s]\n",
      "100%|███████████████████████████████████████████| 13/13 [00:03<00:00,  4.29it/s]\n"
     ]
    },
    {
     "name": "stdout",
     "output_type": "stream",
     "text": [
      "# Epoch 140 / 150\n"
     ]
    },
    {
     "name": "stderr",
     "output_type": "stream",
     "text": [
      "100%|███████████████████████████████████████████| 49/49 [00:27<00:00,  1.78it/s]\n",
      "100%|███████████████████████████████████████████| 49/49 [00:08<00:00,  6.06it/s]\n",
      "100%|███████████████████████████████████████████| 13/13 [00:02<00:00,  4.64it/s]\n"
     ]
    },
    {
     "name": "stdout",
     "output_type": "stream",
     "text": [
      "# Epoch 141 / 150\n"
     ]
    },
    {
     "name": "stderr",
     "output_type": "stream",
     "text": [
      "100%|███████████████████████████████████████████| 49/49 [00:28<00:00,  1.75it/s]\n",
      "100%|███████████████████████████████████████████| 49/49 [00:08<00:00,  5.81it/s]\n",
      "100%|███████████████████████████████████████████| 13/13 [00:02<00:00,  4.60it/s]\n"
     ]
    },
    {
     "name": "stdout",
     "output_type": "stream",
     "text": [
      "# Epoch 142 / 150\n"
     ]
    },
    {
     "name": "stderr",
     "output_type": "stream",
     "text": [
      "100%|███████████████████████████████████████████| 49/49 [00:27<00:00,  1.76it/s]\n",
      "100%|███████████████████████████████████████████| 49/49 [00:08<00:00,  5.89it/s]\n",
      "100%|███████████████████████████████████████████| 13/13 [00:02<00:00,  4.51it/s]\n"
     ]
    },
    {
     "name": "stdout",
     "output_type": "stream",
     "text": [
      "# Epoch 143 / 150\n"
     ]
    },
    {
     "name": "stderr",
     "output_type": "stream",
     "text": [
      "100%|███████████████████████████████████████████| 49/49 [00:28<00:00,  1.74it/s]\n",
      "100%|███████████████████████████████████████████| 49/49 [00:08<00:00,  5.92it/s]\n",
      "100%|███████████████████████████████████████████| 13/13 [00:02<00:00,  4.54it/s]\n"
     ]
    },
    {
     "name": "stdout",
     "output_type": "stream",
     "text": [
      "# Epoch 144 / 150\n"
     ]
    },
    {
     "name": "stderr",
     "output_type": "stream",
     "text": [
      "100%|███████████████████████████████████████████| 49/49 [00:28<00:00,  1.71it/s]\n",
      "100%|███████████████████████████████████████████| 49/49 [00:08<00:00,  5.70it/s]\n",
      "100%|███████████████████████████████████████████| 13/13 [00:02<00:00,  4.51it/s]\n"
     ]
    },
    {
     "name": "stdout",
     "output_type": "stream",
     "text": [
      "# Epoch 145 / 150\n"
     ]
    },
    {
     "name": "stderr",
     "output_type": "stream",
     "text": [
      "100%|███████████████████████████████████████████| 49/49 [00:26<00:00,  1.82it/s]\n",
      "100%|███████████████████████████████████████████| 49/49 [00:08<00:00,  5.92it/s]\n",
      "100%|███████████████████████████████████████████| 13/13 [00:03<00:00,  4.31it/s]\n"
     ]
    },
    {
     "name": "stdout",
     "output_type": "stream",
     "text": [
      "# Epoch 146 / 150\n"
     ]
    },
    {
     "name": "stderr",
     "output_type": "stream",
     "text": [
      "100%|███████████████████████████████████████████| 49/49 [00:27<00:00,  1.77it/s]\n",
      "100%|███████████████████████████████████████████| 49/49 [00:08<00:00,  5.87it/s]\n",
      "100%|███████████████████████████████████████████| 13/13 [00:02<00:00,  4.35it/s]\n"
     ]
    },
    {
     "name": "stdout",
     "output_type": "stream",
     "text": [
      "# Epoch 147 / 150\n"
     ]
    },
    {
     "name": "stderr",
     "output_type": "stream",
     "text": [
      "100%|███████████████████████████████████████████| 49/49 [00:26<00:00,  1.82it/s]\n",
      "100%|███████████████████████████████████████████| 49/49 [00:08<00:00,  5.98it/s]\n",
      "100%|███████████████████████████████████████████| 13/13 [00:02<00:00,  4.73it/s]\n"
     ]
    },
    {
     "name": "stdout",
     "output_type": "stream",
     "text": [
      "# Epoch 148 / 150\n"
     ]
    },
    {
     "name": "stderr",
     "output_type": "stream",
     "text": [
      "100%|███████████████████████████████████████████| 49/49 [00:26<00:00,  1.82it/s]\n",
      "100%|███████████████████████████████████████████| 49/49 [00:08<00:00,  6.05it/s]\n",
      "100%|███████████████████████████████████████████| 13/13 [00:02<00:00,  4.76it/s]\n"
     ]
    },
    {
     "name": "stdout",
     "output_type": "stream",
     "text": [
      "# Epoch 149 / 150\n"
     ]
    },
    {
     "name": "stderr",
     "output_type": "stream",
     "text": [
      "100%|███████████████████████████████████████████| 49/49 [00:27<00:00,  1.80it/s]\n",
      "100%|███████████████████████████████████████████| 49/49 [00:08<00:00,  5.73it/s]\n",
      "100%|███████████████████████████████████████████| 13/13 [00:02<00:00,  4.72it/s]\n"
     ]
    },
    {
     "name": "stdout",
     "output_type": "stream",
     "text": [
      "# Epoch 150 / 150\n"
     ]
    },
    {
     "name": "stderr",
     "output_type": "stream",
     "text": [
      "100%|███████████████████████████████████████████| 49/49 [00:27<00:00,  1.80it/s]\n",
      "100%|███████████████████████████████████████████| 49/49 [00:08<00:00,  5.92it/s]\n",
      "100%|███████████████████████████████████████████| 13/13 [00:02<00:00,  4.41it/s]\n"
     ]
    },
    {
     "data": {
      "text/html": [
       "Waiting for W&B process to finish... <strong style=\"color:green\">(success).</strong>"
      ],
      "text/plain": [
       "<IPython.core.display.HTML object>"
      ]
     },
     "metadata": {},
     "output_type": "display_data"
    },
    {
     "data": {
      "application/vnd.jupyter.widget-view+json": {
       "model_id": "",
       "version_major": 2,
       "version_minor": 0
      },
      "text/plain": [
       "VBox(children=(Label(value='0.001 MB of 0.001 MB uploaded (0.000 MB deduped)\\r'), FloatProgress(value=1.0, max…"
      ]
     },
     "metadata": {},
     "output_type": "display_data"
    },
    {
     "data": {
      "text/html": [
       "<style>\n",
       "    table.wandb td:nth-child(1) { padding: 0 10px; text-align: left ; width: auto;} td:nth-child(2) {text-align: left ; width: 100%}\n",
       "    .wandb-row { display: flex; flex-direction: row; flex-wrap: wrap; justify-content: flex-start; width: 100% }\n",
       "    .wandb-col { display: flex; flex-direction: column; flex-basis: 100%; flex: 1; padding: 10px; }\n",
       "    </style>\n",
       "<div class=\"wandb-row\"><div class=\"wandb-col\"><h3>Run history:</h3><br/><table class=\"wandb\"><tr><td>lr</td><td>█████▂▂▂▂▂▂▁▁▁▁▁▁▁▁▁▁▁▁▁▁▁▁▁▁▁▁▁▁▁▁▁▁▁▁▁</td></tr><tr><td>train_mae</td><td>█▆▆▅▅▃▃▂▃▃▂▂▂▂▂▂▂▂▂▃▂▂▁▂▂▂▂▂▂▂▁▂▂▂▂▂▂▂▂▂</td></tr><tr><td>train_mse</td><td>█▇▆▅▅▃▃▂▂▃▂▂▂▂▂▂▁▂▂▃▁▂▁▁▁▂▂▂▂▂▁▁▂▂▁▂▁▁▁▁</td></tr><tr><td>train_pearson</td><td>▁▃▄▅▅▆▇▇▇▇▇█▇▇▇▇█▇▇▇█▇████▇██▇██▇▇█▇████</td></tr><tr><td>train_spearman</td><td>▁▄▆▅▆▇██▇▇████▇▇▇▇▇▇█▇▇▇▇▇▇█████▇█▇▇▇▇█▇</td></tr><tr><td>valid_mae</td><td>██▆▃▃▁▃▄▃▃▂▂▂▃▂▃▂▂▂▂▂▂▂▂▂▂▂▂▂▂▂▂▃▂▂▂▃▂▂▂</td></tr><tr><td>valid_mse</td><td>█▆▄▁▂▁▂▂▁▂▁▁▁▂▁▂▁▁▁▁▁▁▁▁▁▁▁▁▁▁▁▁▁▁▁▁▁▁▁▁</td></tr><tr><td>valid_pearson</td><td>▁▄▆████▇████████████████████████████████</td></tr><tr><td>valid_spearman</td><td>▁▅▆▇█▇███▇█▇▇▇▇▇▇▇▇▇▇▇▇▇▇▇▇▇▇▇▇▇▇▇▇▇▇▇▇▇</td></tr></table><br/></div><div class=\"wandb-col\"><h3>Run summary:</h3><br/><table class=\"wandb\"><tr><td>lr</td><td>0.0</td></tr><tr><td>train_mae</td><td>0.28515</td></tr><tr><td>train_mse</td><td>0.1914</td></tr><tr><td>train_pearson</td><td>0.63666</td></tr><tr><td>train_spearman</td><td>0.50073</td></tr><tr><td>valid_mae</td><td>0.28761</td></tr><tr><td>valid_mse</td><td>0.19815</td></tr><tr><td>valid_pearson</td><td>0.63523</td></tr><tr><td>valid_spearman</td><td>0.57955</td></tr></table><br/></div></div>"
      ],
      "text/plain": [
       "<IPython.core.display.HTML object>"
      ]
     },
     "metadata": {},
     "output_type": "display_data"
    },
    {
     "data": {
      "text/html": [
       "Synced <strong style=\"color:#cdcd00\">splendid-dew-13</strong>: <a href=\"https://wandb.ai/hei-jung/20230307-sfcn%2Blkrelu%2Bfds/runs/rcv5gds9\" target=\"_blank\">https://wandb.ai/hei-jung/20230307-sfcn%2Blkrelu%2Bfds/runs/rcv5gds9</a><br/>Synced 6 W&B file(s), 0 media file(s), 0 artifact file(s) and 0 other file(s)"
      ],
      "text/plain": [
       "<IPython.core.display.HTML object>"
      ]
     },
     "metadata": {},
     "output_type": "display_data"
    },
    {
     "data": {
      "text/html": [
       "Find logs at: <code>./wandb/run-20230308_214640-rcv5gds9/logs</code>"
      ],
      "text/plain": [
       "<IPython.core.display.HTML object>"
      ]
     },
     "metadata": {},
     "output_type": "display_data"
    }
   ],
   "source": [
    "# FC layer +3\n",
    "set_seed()\n",
    "\n",
    "model = SFCN_FDS(dropout_p=dropout_rate, fds=fds)\n",
    "model.fc = nn.Sequential(\n",
    "    nn.Linear(64,32),\n",
    "    nn.ReLU(),\n",
    "    nn.Linear(32,16),\n",
    "    nn.ReLU(),\n",
    "    nn.Linear(16,4),\n",
    "    nn.ReLU(),\n",
    "    nn.Linear(4,1),\n",
    "    nn.LeakyReLU(),\n",
    ")\n",
    "model = torch.nn.DataParallel(model, device_ids=[0, 1])\n",
    "model.cuda()\n",
    "\n",
    "wandb.init(project='20230307-sfcn+lkrelu+fds',\n",
    "           config={\"model\": \"sfcn+lkrelu+fds\", \"dropout\": dropout_rate,\n",
    "                   \"weight_decay\": weight_decay, \"epochs\": epochs, \"batch_size\": batch_size,\n",
    "                   \"cost_function\": \"mse_loss\", \"optimizer\": optim_class.__name__,\n",
    "                   \"scheduler\": sched_class.__name__, \"lds\": lds, \"fds\": fds,\n",
    "                   \"start_lr\": lr, \"fc_added\": 3.2})\n",
    "wandb.watch(model)\n",
    "\n",
    "optimizer = optim_class(model.parameters(), lr=lr, weight_decay=weight_decay)\n",
    "scheduler = sched_class(optimizer, mode='min', patience=5, min_lr=0)\n",
    "\n",
    "best_mae, best_mse, best_p, best_s = 100, 100, 0, 0\n",
    "\n",
    "set_seed()\n",
    "for epoch in range(epochs):\n",
    "    print('# Epoch %d / %d'%(epoch + 1, epochs))   \n",
    "\n",
    "    # train set\n",
    "    augment = get_augmentation_transform()\n",
    "    train_set = NeckDataset(X_train, y_train, transform=augment, lds=lds)\n",
    "    train_loader = DataLoader(train_set, batch_size=batch_size, num_workers=16)\n",
    "\n",
    "    # validation set\n",
    "\n",
    "    preds_t, truths_t, mae_t, mse_t = train(model, train_loader, epoch, optimizer, lds=lds, fds=fds)\n",
    "    preds_v, truths_v, mae_v, mse_v = valid(model, test_loader)\n",
    "\n",
    "    scheduler.step(mse_v)\n",
    "    last_lr = scheduler._last_lr[0]\n",
    "\n",
    "    train_p, _ = pearsonr(preds_t, truths_t)\n",
    "    train_s, _ = spearmanr(preds_t, truths_t)\n",
    "    train_mae = mae_t / len(train_loader)\n",
    "    train_mse = mse_t / len(train_loader)\n",
    "\n",
    "    valid_p, _ = pearsonr(preds_v, truths_v)\n",
    "    valid_s, _ = spearmanr(preds_v, truths_v)\n",
    "    valid_mae = mae_v / len(test_loader)\n",
    "    valid_mse = mse_v / len(test_loader)\n",
    "\n",
    "    if best_mse > valid_mse:\n",
    "        best_mse = valid_mse\n",
    "        torch.save(model.state_dict(), 'pretrained/230308_sfcnfdsfc3.2+mse_{}_w{}_slr{}_bestmse'.format(sched_class.__name__, weight_decay, lr))\n",
    "    if best_mae > valid_mae:\n",
    "        best_mae = valid_mae\n",
    "        torch.save(model.state_dict(), 'pretrained/230308_sfcnfdsfc3.2+mse_{}_w{}_slr{}_bestmae'.format(sched_class.__name__, weight_decay, lr))\n",
    "    if best_p < valid_p:\n",
    "        best_p = valid_p\n",
    "    if best_s < valid_s:\n",
    "        best_s = valid_s\n",
    "\n",
    "    wandb.log({\"train_mae\": train_mae, \"train_mse\": train_mse, \"valid_mae\": valid_mae, \"valid_mse\": valid_mse,\n",
    "               \"train_pearson\": train_p, \"train_spearman\": train_s, \"valid_pearson\": valid_p, \"valid_spearman\": valid_s,\n",
    "               \"lr\": last_lr})\n",
    "wandb.finish()\n",
    "torch.save(model.state_dict(), 'pretrained/230307_sfcnfdsfc3.2+mse_{}_w{}_slr{}_epochs{}'.format(sched_class.__name__, weight_decay, lr, epochs))\n"
   ]
  },
  {
   "cell_type": "code",
   "execution_count": 20,
   "id": "26df1641",
   "metadata": {},
   "outputs": [
    {
     "data": {
      "text/html": [
       "Tracking run with wandb version 0.12.21"
      ],
      "text/plain": [
       "<IPython.core.display.HTML object>"
      ]
     },
     "metadata": {},
     "output_type": "display_data"
    },
    {
     "data": {
      "text/html": [
       "Run data is saved locally in <code>/home/jhj/Desktop/HJ_RESEARCH/snu_brain_disease/wandb/run-20230309_132550-3b6mnbf8</code>"
      ],
      "text/plain": [
       "<IPython.core.display.HTML object>"
      ]
     },
     "metadata": {},
     "output_type": "display_data"
    },
    {
     "data": {
      "text/html": [
       "Syncing run <strong><a href=\"https://wandb.ai/hei-jung/20230307-sfcn%2Blkrelu%2Bfds/runs/3b6mnbf8\" target=\"_blank\">sweet-aardvark-14</a></strong> to <a href=\"https://wandb.ai/hei-jung/20230307-sfcn%2Blkrelu%2Bfds\" target=\"_blank\">Weights & Biases</a> (<a href=\"https://wandb.me/run\" target=\"_blank\">docs</a>)<br/>"
      ],
      "text/plain": [
       "<IPython.core.display.HTML object>"
      ]
     },
     "metadata": {},
     "output_type": "display_data"
    },
    {
     "name": "stdout",
     "output_type": "stream",
     "text": [
      "# Epoch 1 / 150\n"
     ]
    },
    {
     "name": "stderr",
     "output_type": "stream",
     "text": [
      "100%|███████████████████████████████████████████| 49/49 [00:27<00:00,  1.81it/s]\n",
      "100%|███████████████████████████████████████████| 49/49 [00:07<00:00,  6.36it/s]\n",
      "100%|███████████████████████████████████████████| 13/13 [00:02<00:00,  4.95it/s]\n",
      "/home/jhj/.conda/envs/a6000/lib/python3.8/site-packages/scipy/stats/_stats_py.py:4068: PearsonRConstantInputWarning: An input array is constant; the correlation coefficient is not defined.\n",
      "  warnings.warn(PearsonRConstantInputWarning())\n",
      "/home/jhj/.conda/envs/a6000/lib/python3.8/site-packages/scipy/stats/_stats_py.py:4529: SpearmanRConstantInputWarning: An input array is constant; the correlation coefficient is not defined.\n",
      "  warnings.warn(SpearmanRConstantInputWarning())\n"
     ]
    },
    {
     "name": "stdout",
     "output_type": "stream",
     "text": [
      "# Epoch 2 / 150\n"
     ]
    },
    {
     "name": "stderr",
     "output_type": "stream",
     "text": [
      "100%|███████████████████████████████████████████| 49/49 [00:26<00:00,  1.86it/s]\n",
      "100%|███████████████████████████████████████████| 49/49 [00:08<00:00,  5.77it/s]\n",
      "100%|███████████████████████████████████████████| 13/13 [00:02<00:00,  4.51it/s]\n"
     ]
    },
    {
     "name": "stdout",
     "output_type": "stream",
     "text": [
      "# Epoch 3 / 150\n"
     ]
    },
    {
     "name": "stderr",
     "output_type": "stream",
     "text": [
      "100%|███████████████████████████████████████████| 49/49 [00:27<00:00,  1.79it/s]\n",
      "100%|███████████████████████████████████████████| 49/49 [00:07<00:00,  6.39it/s]\n",
      "100%|███████████████████████████████████████████| 13/13 [00:02<00:00,  5.01it/s]\n"
     ]
    },
    {
     "name": "stdout",
     "output_type": "stream",
     "text": [
      "# Epoch 4 / 150\n"
     ]
    },
    {
     "name": "stderr",
     "output_type": "stream",
     "text": [
      "100%|███████████████████████████████████████████| 49/49 [00:27<00:00,  1.76it/s]\n",
      "100%|███████████████████████████████████████████| 49/49 [00:08<00:00,  5.82it/s]\n",
      "100%|███████████████████████████████████████████| 13/13 [00:02<00:00,  4.69it/s]\n"
     ]
    },
    {
     "name": "stdout",
     "output_type": "stream",
     "text": [
      "# Epoch 5 / 150\n"
     ]
    },
    {
     "name": "stderr",
     "output_type": "stream",
     "text": [
      "100%|███████████████████████████████████████████| 49/49 [00:27<00:00,  1.77it/s]\n",
      "100%|███████████████████████████████████████████| 49/49 [00:07<00:00,  6.31it/s]\n",
      "100%|███████████████████████████████████████████| 13/13 [00:02<00:00,  4.63it/s]\n"
     ]
    },
    {
     "name": "stdout",
     "output_type": "stream",
     "text": [
      "# Epoch 6 / 150\n"
     ]
    },
    {
     "name": "stderr",
     "output_type": "stream",
     "text": [
      "100%|███████████████████████████████████████████| 49/49 [00:27<00:00,  1.79it/s]\n",
      "100%|███████████████████████████████████████████| 49/49 [00:08<00:00,  6.08it/s]\n",
      "100%|███████████████████████████████████████████| 13/13 [00:02<00:00,  4.57it/s]\n"
     ]
    },
    {
     "name": "stdout",
     "output_type": "stream",
     "text": [
      "# Epoch 7 / 150\n"
     ]
    },
    {
     "name": "stderr",
     "output_type": "stream",
     "text": [
      " 43%|██████████████████▍                        | 21/49 [00:14<00:18,  1.48it/s]\n"
     ]
    },
    {
     "ename": "KeyboardInterrupt",
     "evalue": "",
     "output_type": "error",
     "traceback": [
      "\u001b[0;31m---------------------------------------------------------------------------\u001b[0m",
      "\u001b[0;31mKeyboardInterrupt\u001b[0m                         Traceback (most recent call last)",
      "Input \u001b[0;32mIn [20]\u001b[0m, in \u001b[0;36m<cell line: 34>\u001b[0;34m()\u001b[0m\n\u001b[1;32m     40\u001b[0m train_loader \u001b[38;5;241m=\u001b[39m DataLoader(train_set, batch_size\u001b[38;5;241m=\u001b[39mbatch_size, num_workers\u001b[38;5;241m=\u001b[39m\u001b[38;5;241m16\u001b[39m)\n\u001b[1;32m     42\u001b[0m \u001b[38;5;66;03m# validation set\u001b[39;00m\n\u001b[0;32m---> 44\u001b[0m preds_t, truths_t, mae_t, mse_t \u001b[38;5;241m=\u001b[39m \u001b[43mtrain\u001b[49m\u001b[43m(\u001b[49m\u001b[43mmodel\u001b[49m\u001b[43m,\u001b[49m\u001b[43m \u001b[49m\u001b[43mtrain_loader\u001b[49m\u001b[43m,\u001b[49m\u001b[43m \u001b[49m\u001b[43mepoch\u001b[49m\u001b[43m,\u001b[49m\u001b[43m \u001b[49m\u001b[43moptimizer\u001b[49m\u001b[43m,\u001b[49m\u001b[43m \u001b[49m\u001b[43mlds\u001b[49m\u001b[38;5;241;43m=\u001b[39;49m\u001b[43mlds\u001b[49m\u001b[43m,\u001b[49m\u001b[43m \u001b[49m\u001b[43mfds\u001b[49m\u001b[38;5;241;43m=\u001b[39;49m\u001b[43mfds\u001b[49m\u001b[43m)\u001b[49m\n\u001b[1;32m     45\u001b[0m preds_v, truths_v, mae_v, mse_v \u001b[38;5;241m=\u001b[39m valid(model, test_loader)\n\u001b[1;32m     47\u001b[0m scheduler\u001b[38;5;241m.\u001b[39mstep(mse_v)\n",
      "Input \u001b[0;32mIn [8]\u001b[0m, in \u001b[0;36mtrain\u001b[0;34m(model, train_loader, epoch, optimizer, lds, fds)\u001b[0m\n\u001b[1;32m     31\u001b[0m mse_loss\u001b[38;5;241m.\u001b[39mbackward()\n\u001b[1;32m     33\u001b[0m optimizer\u001b[38;5;241m.\u001b[39mstep()\n\u001b[0;32m---> 35\u001b[0m total_mae_loss \u001b[38;5;241m+\u001b[39m\u001b[38;5;241m=\u001b[39m \u001b[43mmae_loss\u001b[49m\u001b[38;5;241;43m.\u001b[39;49m\u001b[43mdata\u001b[49m\u001b[38;5;241;43m.\u001b[39;49m\u001b[43mitem\u001b[49m\u001b[43m(\u001b[49m\u001b[43m)\u001b[49m\n\u001b[1;32m     36\u001b[0m total_mse_loss \u001b[38;5;241m+\u001b[39m\u001b[38;5;241m=\u001b[39m mse_loss\u001b[38;5;241m.\u001b[39mdata\u001b[38;5;241m.\u001b[39mitem()\n\u001b[1;32m     38\u001b[0m gc\u001b[38;5;241m.\u001b[39mcollect()\n",
      "\u001b[0;31mKeyboardInterrupt\u001b[0m: "
     ]
    }
   ],
   "source": [
    "# FC layer +4\n",
    "set_seed()\n",
    "\n",
    "model = SFCN_FDS(dropout_p=dropout_rate, fds=fds)\n",
    "model.fc = nn.Sequential(\n",
    "    nn.Linear(64,32),\n",
    "    nn.ReLU(),\n",
    "    nn.Linear(32,16),\n",
    "    nn.ReLU(),\n",
    "    nn.Linear(16,4),\n",
    "    nn.ReLU(),\n",
    "    nn.Linear(4,2),\n",
    "    nn.ReLU(),\n",
    "    nn.Linear(2,1),\n",
    "    nn.LeakyReLU(),\n",
    ")\n",
    "model = torch.nn.DataParallel(model, device_ids=[0, 1])\n",
    "model.cuda()\n",
    "\n",
    "wandb.init(project='20230307-sfcn+lkrelu+fds',\n",
    "           config={\"model\": \"sfcn+lkrelu+fds\", \"dropout\": dropout_rate,\n",
    "                   \"weight_decay\": weight_decay, \"epochs\": epochs, \"batch_size\": batch_size,\n",
    "                   \"cost_function\": \"mse_loss\", \"optimizer\": optim_class.__name__,\n",
    "                   \"scheduler\": sched_class.__name__, \"lds\": lds, \"fds\": fds,\n",
    "                   \"start_lr\": lr, \"fc_added\": 4.1})\n",
    "wandb.watch(model)\n",
    "\n",
    "optimizer = optim_class(model.parameters(), lr=lr, weight_decay=weight_decay)\n",
    "scheduler = sched_class(optimizer, mode='min', patience=5, min_lr=0)\n",
    "\n",
    "best_mae, best_mse, best_p, best_s = 100, 100, 0, 0\n",
    "\n",
    "set_seed()\n",
    "for epoch in range(epochs):\n",
    "    print('# Epoch %d / %d'%(epoch + 1, epochs))   \n",
    "\n",
    "    # train set\n",
    "    augment = get_augmentation_transform()\n",
    "    train_set = NeckDataset(X_train, y_train, transform=augment, lds=lds)\n",
    "    train_loader = DataLoader(train_set, batch_size=batch_size, num_workers=16)\n",
    "\n",
    "    # validation set\n",
    "\n",
    "    preds_t, truths_t, mae_t, mse_t = train(model, train_loader, epoch, optimizer, lds=lds, fds=fds)\n",
    "    preds_v, truths_v, mae_v, mse_v = valid(model, test_loader)\n",
    "\n",
    "    scheduler.step(mse_v)\n",
    "    last_lr = scheduler._last_lr[0]\n",
    "\n",
    "    train_p, _ = pearsonr(preds_t, truths_t)\n",
    "    train_s, _ = spearmanr(preds_t, truths_t)\n",
    "    train_mae = mae_t / len(train_loader)\n",
    "    train_mse = mse_t / len(train_loader)\n",
    "\n",
    "    valid_p, _ = pearsonr(preds_v, truths_v)\n",
    "    valid_s, _ = spearmanr(preds_v, truths_v)\n",
    "    valid_mae = mae_v / len(test_loader)\n",
    "    valid_mse = mse_v / len(test_loader)\n",
    "\n",
    "    if best_mse > valid_mse:\n",
    "        best_mse = valid_mse\n",
    "        torch.save(model.state_dict(), 'pretrained/230308_sfcnfdsfc4.1+mse_{}_w{}_slr{}_bestmse'.format(sched_class.__name__, weight_decay, lr))\n",
    "    if best_mae > valid_mae:\n",
    "        best_mae = valid_mae\n",
    "        torch.save(model.state_dict(), 'pretrained/230308_sfcnfdsfc4.1+mse_{}_w{}_slr{}_bestmae'.format(sched_class.__name__, weight_decay, lr))\n",
    "    if best_p < valid_p:\n",
    "        best_p = valid_p\n",
    "    if best_s < valid_s:\n",
    "        best_s = valid_s\n",
    "\n",
    "    wandb.log({\"train_mae\": train_mae, \"train_mse\": train_mse, \"valid_mae\": valid_mae, \"valid_mse\": valid_mse,\n",
    "               \"train_pearson\": train_p, \"train_spearman\": train_s, \"valid_pearson\": valid_p, \"valid_spearman\": valid_s,\n",
    "               \"lr\": last_lr})\n",
    "wandb.finish()\n",
    "torch.save(model.state_dict(), 'pretrained/230307_sfcnfdsfc4.1+mse_{}_w{}_slr{}_epochs{}'.format(sched_class.__name__, weight_decay, lr, epochs))\n"
   ]
  },
  {
   "cell_type": "code",
   "execution_count": 21,
   "id": "79e06aae",
   "metadata": {
    "scrolled": true
   },
   "outputs": [
    {
     "data": {
      "text/html": [
       "Finishing last run (ID:3b6mnbf8) before initializing another..."
      ],
      "text/plain": [
       "<IPython.core.display.HTML object>"
      ]
     },
     "metadata": {},
     "output_type": "display_data"
    },
    {
     "data": {
      "text/html": [
       "Waiting for W&B process to finish... <strong style=\"color:green\">(success).</strong>"
      ],
      "text/plain": [
       "<IPython.core.display.HTML object>"
      ]
     },
     "metadata": {},
     "output_type": "display_data"
    },
    {
     "data": {
      "application/vnd.jupyter.widget-view+json": {
       "model_id": "",
       "version_major": 2,
       "version_minor": 0
      },
      "text/plain": [
       "VBox(children=(Label(value='0.001 MB of 0.001 MB uploaded (0.000 MB deduped)\\r'), FloatProgress(value=1.0, max…"
      ]
     },
     "metadata": {},
     "output_type": "display_data"
    },
    {
     "data": {
      "text/html": [
       "<style>\n",
       "    table.wandb td:nth-child(1) { padding: 0 10px; text-align: left ; width: auto;} td:nth-child(2) {text-align: left ; width: 100%}\n",
       "    .wandb-row { display: flex; flex-direction: row; flex-wrap: wrap; justify-content: flex-start; width: 100% }\n",
       "    .wandb-col { display: flex; flex-direction: column; flex-basis: 100%; flex: 1; padding: 10px; }\n",
       "    </style>\n",
       "<div class=\"wandb-row\"><div class=\"wandb-col\"><h3>Run history:</h3><br/><table class=\"wandb\"><tr><td>lr</td><td>▁▁▁▁▁▁</td></tr><tr><td>train_mae</td><td>█▄▃▂▂▁</td></tr><tr><td>train_mse</td><td>█▃▃▂▁▁</td></tr><tr><td>train_pearson</td><td>█▁▃▄▅▂</td></tr><tr><td>train_spearman</td><td>▁▄▇▇█▅</td></tr><tr><td>valid_mae</td><td>█▆▅▃▂▁</td></tr><tr><td>valid_mse</td><td>█▆▄▃▂▁</td></tr></table><br/></div><div class=\"wandb-col\"><h3>Run summary:</h3><br/><table class=\"wandb\"><tr><td>lr</td><td>0.001</td></tr><tr><td>train_mae</td><td>0.41677</td></tr><tr><td>train_mse</td><td>0.32745</td></tr><tr><td>train_pearson</td><td>-0.02077</td></tr><tr><td>train_spearman</td><td>0.03258</td></tr><tr><td>valid_mae</td><td>0.40328</td></tr><tr><td>valid_mse</td><td>0.3216</td></tr><tr><td>valid_pearson</td><td>nan</td></tr><tr><td>valid_spearman</td><td>nan</td></tr></table><br/></div></div>"
      ],
      "text/plain": [
       "<IPython.core.display.HTML object>"
      ]
     },
     "metadata": {},
     "output_type": "display_data"
    },
    {
     "data": {
      "text/html": [
       "Synced <strong style=\"color:#cdcd00\">sweet-aardvark-14</strong>: <a href=\"https://wandb.ai/hei-jung/20230307-sfcn%2Blkrelu%2Bfds/runs/3b6mnbf8\" target=\"_blank\">https://wandb.ai/hei-jung/20230307-sfcn%2Blkrelu%2Bfds/runs/3b6mnbf8</a><br/>Synced 6 W&B file(s), 0 media file(s), 0 artifact file(s) and 0 other file(s)"
      ],
      "text/plain": [
       "<IPython.core.display.HTML object>"
      ]
     },
     "metadata": {},
     "output_type": "display_data"
    },
    {
     "data": {
      "text/html": [
       "Find logs at: <code>./wandb/run-20230309_132550-3b6mnbf8/logs</code>"
      ],
      "text/plain": [
       "<IPython.core.display.HTML object>"
      ]
     },
     "metadata": {},
     "output_type": "display_data"
    },
    {
     "data": {
      "text/html": [
       "Successfully finished last run (ID:3b6mnbf8). Initializing new run:<br/>"
      ],
      "text/plain": [
       "<IPython.core.display.HTML object>"
      ]
     },
     "metadata": {},
     "output_type": "display_data"
    },
    {
     "data": {
      "text/html": [
       "wandb version 0.13.11 is available!  To upgrade, please run:\n",
       " $ pip install wandb --upgrade"
      ],
      "text/plain": [
       "<IPython.core.display.HTML object>"
      ]
     },
     "metadata": {},
     "output_type": "display_data"
    },
    {
     "data": {
      "text/html": [
       "Tracking run with wandb version 0.12.21"
      ],
      "text/plain": [
       "<IPython.core.display.HTML object>"
      ]
     },
     "metadata": {},
     "output_type": "display_data"
    },
    {
     "data": {
      "text/html": [
       "Run data is saved locally in <code>/home/jhj/Desktop/HJ_RESEARCH/snu_brain_disease/wandb/run-20230309_133024-kwgfegdy</code>"
      ],
      "text/plain": [
       "<IPython.core.display.HTML object>"
      ]
     },
     "metadata": {},
     "output_type": "display_data"
    },
    {
     "data": {
      "text/html": [
       "Syncing run <strong><a href=\"https://wandb.ai/hei-jung/20230307-sfcn%2Blkrelu%2Bfds/runs/kwgfegdy\" target=\"_blank\">scarlet-armadillo-15</a></strong> to <a href=\"https://wandb.ai/hei-jung/20230307-sfcn%2Blkrelu%2Bfds\" target=\"_blank\">Weights & Biases</a> (<a href=\"https://wandb.me/run\" target=\"_blank\">docs</a>)<br/>"
      ],
      "text/plain": [
       "<IPython.core.display.HTML object>"
      ]
     },
     "metadata": {},
     "output_type": "display_data"
    },
    {
     "name": "stdout",
     "output_type": "stream",
     "text": [
      "# Epoch 1 / 150\n"
     ]
    },
    {
     "name": "stderr",
     "output_type": "stream",
     "text": [
      "100%|███████████████████████████████████████████| 49/49 [00:27<00:00,  1.75it/s]\n",
      "100%|███████████████████████████████████████████| 49/49 [00:07<00:00,  6.17it/s]\n",
      "100%|███████████████████████████████████████████| 13/13 [00:03<00:00,  4.26it/s]\n"
     ]
    },
    {
     "name": "stdout",
     "output_type": "stream",
     "text": [
      "# Epoch 2 / 150\n"
     ]
    },
    {
     "name": "stderr",
     "output_type": "stream",
     "text": [
      "100%|███████████████████████████████████████████| 49/49 [00:29<00:00,  1.69it/s]\n",
      "100%|███████████████████████████████████████████| 49/49 [00:08<00:00,  5.79it/s]\n",
      "100%|███████████████████████████████████████████| 13/13 [00:02<00:00,  5.06it/s]\n"
     ]
    },
    {
     "name": "stdout",
     "output_type": "stream",
     "text": [
      "# Epoch 3 / 150\n"
     ]
    },
    {
     "name": "stderr",
     "output_type": "stream",
     "text": [
      "100%|███████████████████████████████████████████| 49/49 [00:28<00:00,  1.70it/s]\n",
      "100%|███████████████████████████████████████████| 49/49 [00:08<00:00,  5.88it/s]\n",
      "100%|███████████████████████████████████████████| 13/13 [00:03<00:00,  4.21it/s]\n"
     ]
    },
    {
     "name": "stdout",
     "output_type": "stream",
     "text": [
      "# Epoch 4 / 150\n"
     ]
    },
    {
     "name": "stderr",
     "output_type": "stream",
     "text": [
      "100%|███████████████████████████████████████████| 49/49 [00:29<00:00,  1.69it/s]\n",
      "100%|███████████████████████████████████████████| 49/49 [00:08<00:00,  5.70it/s]\n",
      "100%|███████████████████████████████████████████| 13/13 [00:02<00:00,  4.53it/s]\n"
     ]
    },
    {
     "name": "stdout",
     "output_type": "stream",
     "text": [
      "# Epoch 5 / 150\n"
     ]
    },
    {
     "name": "stderr",
     "output_type": "stream",
     "text": [
      "100%|███████████████████████████████████████████| 49/49 [00:28<00:00,  1.72it/s]\n",
      "100%|███████████████████████████████████████████| 49/49 [00:08<00:00,  6.00it/s]\n",
      "100%|███████████████████████████████████████████| 13/13 [00:02<00:00,  4.56it/s]\n"
     ]
    },
    {
     "name": "stdout",
     "output_type": "stream",
     "text": [
      "# Epoch 6 / 150\n"
     ]
    },
    {
     "name": "stderr",
     "output_type": "stream",
     "text": [
      "100%|███████████████████████████████████████████| 49/49 [00:29<00:00,  1.68it/s]\n",
      "100%|███████████████████████████████████████████| 49/49 [00:08<00:00,  5.79it/s]\n",
      "100%|███████████████████████████████████████████| 13/13 [00:02<00:00,  4.92it/s]\n"
     ]
    },
    {
     "name": "stdout",
     "output_type": "stream",
     "text": [
      "# Epoch 7 / 150\n"
     ]
    },
    {
     "name": "stderr",
     "output_type": "stream",
     "text": [
      "100%|███████████████████████████████████████████| 49/49 [00:28<00:00,  1.71it/s]\n",
      "100%|███████████████████████████████████████████| 49/49 [00:08<00:00,  6.04it/s]\n",
      "100%|███████████████████████████████████████████| 13/13 [00:03<00:00,  4.18it/s]\n"
     ]
    },
    {
     "name": "stdout",
     "output_type": "stream",
     "text": [
      "# Epoch 8 / 150\n"
     ]
    },
    {
     "name": "stderr",
     "output_type": "stream",
     "text": [
      "100%|███████████████████████████████████████████| 49/49 [00:28<00:00,  1.71it/s]\n",
      "100%|███████████████████████████████████████████| 49/49 [00:08<00:00,  6.05it/s]\n",
      "100%|███████████████████████████████████████████| 13/13 [00:02<00:00,  4.73it/s]\n"
     ]
    },
    {
     "name": "stdout",
     "output_type": "stream",
     "text": [
      "# Epoch 9 / 150\n"
     ]
    },
    {
     "name": "stderr",
     "output_type": "stream",
     "text": [
      "100%|███████████████████████████████████████████| 49/49 [00:29<00:00,  1.68it/s]\n",
      "100%|███████████████████████████████████████████| 49/49 [00:07<00:00,  6.13it/s]\n",
      "100%|███████████████████████████████████████████| 13/13 [00:02<00:00,  4.80it/s]\n"
     ]
    },
    {
     "name": "stdout",
     "output_type": "stream",
     "text": [
      "# Epoch 10 / 150\n"
     ]
    },
    {
     "name": "stderr",
     "output_type": "stream",
     "text": [
      "100%|███████████████████████████████████████████| 49/49 [00:29<00:00,  1.68it/s]\n",
      "100%|███████████████████████████████████████████| 49/49 [00:08<00:00,  5.82it/s]\n",
      "100%|███████████████████████████████████████████| 13/13 [00:02<00:00,  4.52it/s]\n"
     ]
    },
    {
     "name": "stdout",
     "output_type": "stream",
     "text": [
      "# Epoch 11 / 150\n"
     ]
    },
    {
     "name": "stderr",
     "output_type": "stream",
     "text": [
      "100%|███████████████████████████████████████████| 49/49 [00:29<00:00,  1.69it/s]\n",
      "100%|███████████████████████████████████████████| 49/49 [00:08<00:00,  6.03it/s]\n",
      "100%|███████████████████████████████████████████| 13/13 [00:02<00:00,  5.00it/s]\n"
     ]
    },
    {
     "name": "stdout",
     "output_type": "stream",
     "text": [
      "# Epoch 12 / 150\n"
     ]
    },
    {
     "name": "stderr",
     "output_type": "stream",
     "text": [
      "100%|███████████████████████████████████████████| 49/49 [00:28<00:00,  1.72it/s]\n",
      "100%|███████████████████████████████████████████| 49/49 [00:08<00:00,  5.80it/s]\n",
      "100%|███████████████████████████████████████████| 13/13 [00:02<00:00,  5.01it/s]\n"
     ]
    },
    {
     "name": "stdout",
     "output_type": "stream",
     "text": [
      "# Epoch 13 / 150\n"
     ]
    },
    {
     "name": "stderr",
     "output_type": "stream",
     "text": [
      "100%|███████████████████████████████████████████| 49/49 [00:29<00:00,  1.69it/s]\n",
      "100%|███████████████████████████████████████████| 49/49 [00:08<00:00,  5.93it/s]\n",
      "100%|███████████████████████████████████████████| 13/13 [00:02<00:00,  4.95it/s]\n"
     ]
    },
    {
     "name": "stdout",
     "output_type": "stream",
     "text": [
      "# Epoch 14 / 150\n"
     ]
    },
    {
     "name": "stderr",
     "output_type": "stream",
     "text": [
      "100%|███████████████████████████████████████████| 49/49 [00:28<00:00,  1.71it/s]\n",
      "100%|███████████████████████████████████████████| 49/49 [00:08<00:00,  5.90it/s]\n",
      "100%|███████████████████████████████████████████| 13/13 [00:02<00:00,  4.82it/s]\n"
     ]
    },
    {
     "name": "stdout",
     "output_type": "stream",
     "text": [
      "# Epoch 15 / 150\n"
     ]
    },
    {
     "name": "stderr",
     "output_type": "stream",
     "text": [
      "100%|███████████████████████████████████████████| 49/49 [00:28<00:00,  1.70it/s]\n",
      "100%|███████████████████████████████████████████| 49/49 [00:08<00:00,  5.99it/s]\n",
      "100%|███████████████████████████████████████████| 13/13 [00:02<00:00,  4.94it/s]\n"
     ]
    },
    {
     "name": "stdout",
     "output_type": "stream",
     "text": [
      "# Epoch 16 / 150\n"
     ]
    },
    {
     "name": "stderr",
     "output_type": "stream",
     "text": [
      "100%|███████████████████████████████████████████| 49/49 [00:28<00:00,  1.69it/s]\n",
      "100%|███████████████████████████████████████████| 49/49 [00:08<00:00,  5.85it/s]\n",
      "100%|███████████████████████████████████████████| 13/13 [00:02<00:00,  4.90it/s]\n"
     ]
    },
    {
     "name": "stdout",
     "output_type": "stream",
     "text": [
      "# Epoch 17 / 150\n"
     ]
    },
    {
     "name": "stderr",
     "output_type": "stream",
     "text": [
      "100%|███████████████████████████████████████████| 49/49 [00:29<00:00,  1.66it/s]\n",
      "100%|███████████████████████████████████████████| 49/49 [00:08<00:00,  5.89it/s]\n",
      "100%|███████████████████████████████████████████| 13/13 [00:02<00:00,  4.81it/s]\n"
     ]
    },
    {
     "name": "stdout",
     "output_type": "stream",
     "text": [
      "# Epoch 18 / 150\n"
     ]
    },
    {
     "name": "stderr",
     "output_type": "stream",
     "text": [
      "100%|███████████████████████████████████████████| 49/49 [00:29<00:00,  1.69it/s]\n",
      "100%|███████████████████████████████████████████| 49/49 [00:08<00:00,  6.02it/s]\n",
      "100%|███████████████████████████████████████████| 13/13 [00:02<00:00,  5.01it/s]\n"
     ]
    },
    {
     "name": "stdout",
     "output_type": "stream",
     "text": [
      "# Epoch 19 / 150\n"
     ]
    },
    {
     "name": "stderr",
     "output_type": "stream",
     "text": [
      "100%|███████████████████████████████████████████| 49/49 [00:29<00:00,  1.69it/s]\n",
      "100%|███████████████████████████████████████████| 49/49 [00:08<00:00,  6.04it/s]\n",
      "100%|███████████████████████████████████████████| 13/13 [00:02<00:00,  4.63it/s]\n"
     ]
    },
    {
     "name": "stdout",
     "output_type": "stream",
     "text": [
      "# Epoch 20 / 150\n"
     ]
    },
    {
     "name": "stderr",
     "output_type": "stream",
     "text": [
      "100%|███████████████████████████████████████████| 49/49 [00:29<00:00,  1.69it/s]\n",
      "100%|███████████████████████████████████████████| 49/49 [00:08<00:00,  5.93it/s]\n",
      "100%|███████████████████████████████████████████| 13/13 [00:02<00:00,  4.41it/s]\n"
     ]
    },
    {
     "name": "stdout",
     "output_type": "stream",
     "text": [
      "# Epoch 21 / 150\n"
     ]
    },
    {
     "name": "stderr",
     "output_type": "stream",
     "text": [
      "100%|███████████████████████████████████████████| 49/49 [00:29<00:00,  1.67it/s]\n",
      "100%|███████████████████████████████████████████| 49/49 [00:08<00:00,  5.84it/s]\n",
      "100%|███████████████████████████████████████████| 13/13 [00:02<00:00,  4.85it/s]\n"
     ]
    },
    {
     "name": "stdout",
     "output_type": "stream",
     "text": [
      "# Epoch 22 / 150\n"
     ]
    },
    {
     "name": "stderr",
     "output_type": "stream",
     "text": [
      "100%|███████████████████████████████████████████| 49/49 [00:28<00:00,  1.71it/s]\n",
      "100%|███████████████████████████████████████████| 49/49 [00:08<00:00,  6.09it/s]\n",
      "100%|███████████████████████████████████████████| 13/13 [00:02<00:00,  4.68it/s]\n"
     ]
    },
    {
     "name": "stdout",
     "output_type": "stream",
     "text": [
      "# Epoch 23 / 150\n"
     ]
    },
    {
     "name": "stderr",
     "output_type": "stream",
     "text": [
      "100%|███████████████████████████████████████████| 49/49 [00:28<00:00,  1.71it/s]\n",
      "100%|███████████████████████████████████████████| 49/49 [00:08<00:00,  5.98it/s]\n",
      "100%|███████████████████████████████████████████| 13/13 [00:02<00:00,  4.52it/s]\n"
     ]
    },
    {
     "name": "stdout",
     "output_type": "stream",
     "text": [
      "# Epoch 24 / 150\n"
     ]
    },
    {
     "name": "stderr",
     "output_type": "stream",
     "text": [
      "100%|███████████████████████████████████████████| 49/49 [00:29<00:00,  1.69it/s]\n",
      "100%|███████████████████████████████████████████| 49/49 [00:08<00:00,  5.75it/s]\n",
      "100%|███████████████████████████████████████████| 13/13 [00:02<00:00,  4.64it/s]\n"
     ]
    },
    {
     "name": "stdout",
     "output_type": "stream",
     "text": [
      "# Epoch 25 / 150\n"
     ]
    },
    {
     "name": "stderr",
     "output_type": "stream",
     "text": [
      "100%|███████████████████████████████████████████| 49/49 [00:28<00:00,  1.70it/s]\n",
      "100%|███████████████████████████████████████████| 49/49 [00:08<00:00,  5.91it/s]\n",
      "100%|███████████████████████████████████████████| 13/13 [00:02<00:00,  4.42it/s]\n"
     ]
    },
    {
     "name": "stdout",
     "output_type": "stream",
     "text": [
      "# Epoch 26 / 150\n"
     ]
    },
    {
     "name": "stderr",
     "output_type": "stream",
     "text": [
      "100%|███████████████████████████████████████████| 49/49 [00:28<00:00,  1.70it/s]\n",
      "100%|███████████████████████████████████████████| 49/49 [00:08<00:00,  5.89it/s]\n",
      "100%|███████████████████████████████████████████| 13/13 [00:02<00:00,  5.03it/s]\n"
     ]
    },
    {
     "name": "stdout",
     "output_type": "stream",
     "text": [
      "# Epoch 27 / 150\n"
     ]
    },
    {
     "name": "stderr",
     "output_type": "stream",
     "text": [
      "100%|███████████████████████████████████████████| 49/49 [00:29<00:00,  1.68it/s]\n",
      "100%|███████████████████████████████████████████| 49/49 [00:08<00:00,  5.80it/s]\n",
      "100%|███████████████████████████████████████████| 13/13 [00:02<00:00,  4.74it/s]\n"
     ]
    },
    {
     "name": "stdout",
     "output_type": "stream",
     "text": [
      "# Epoch 28 / 150\n"
     ]
    },
    {
     "name": "stderr",
     "output_type": "stream",
     "text": [
      "100%|███████████████████████████████████████████| 49/49 [00:29<00:00,  1.69it/s]\n",
      "100%|███████████████████████████████████████████| 49/49 [00:07<00:00,  6.13it/s]\n",
      "100%|███████████████████████████████████████████| 13/13 [00:02<00:00,  4.81it/s]\n"
     ]
    },
    {
     "name": "stdout",
     "output_type": "stream",
     "text": [
      "# Epoch 29 / 150\n"
     ]
    },
    {
     "name": "stderr",
     "output_type": "stream",
     "text": [
      "100%|███████████████████████████████████████████| 49/49 [00:28<00:00,  1.70it/s]\n",
      "100%|███████████████████████████████████████████| 49/49 [00:08<00:00,  5.92it/s]\n",
      "100%|███████████████████████████████████████████| 13/13 [00:02<00:00,  4.72it/s]\n"
     ]
    },
    {
     "name": "stdout",
     "output_type": "stream",
     "text": [
      "# Epoch 30 / 150\n"
     ]
    },
    {
     "name": "stderr",
     "output_type": "stream",
     "text": [
      "100%|███████████████████████████████████████████| 49/49 [00:28<00:00,  1.71it/s]\n",
      "100%|███████████████████████████████████████████| 49/49 [00:08<00:00,  5.98it/s]\n",
      "100%|███████████████████████████████████████████| 13/13 [00:02<00:00,  4.91it/s]\n"
     ]
    },
    {
     "name": "stdout",
     "output_type": "stream",
     "text": [
      "# Epoch 31 / 150\n"
     ]
    },
    {
     "name": "stderr",
     "output_type": "stream",
     "text": [
      "100%|███████████████████████████████████████████| 49/49 [00:28<00:00,  1.73it/s]\n",
      "100%|███████████████████████████████████████████| 49/49 [00:08<00:00,  5.91it/s]\n",
      "100%|███████████████████████████████████████████| 13/13 [00:02<00:00,  4.60it/s]\n"
     ]
    },
    {
     "name": "stdout",
     "output_type": "stream",
     "text": [
      "# Epoch 32 / 150\n"
     ]
    },
    {
     "name": "stderr",
     "output_type": "stream",
     "text": [
      "100%|███████████████████████████████████████████| 49/49 [00:28<00:00,  1.69it/s]\n",
      "100%|███████████████████████████████████████████| 49/49 [00:08<00:00,  5.92it/s]\n",
      "100%|███████████████████████████████████████████| 13/13 [00:02<00:00,  4.84it/s]\n"
     ]
    },
    {
     "name": "stdout",
     "output_type": "stream",
     "text": [
      "# Epoch 33 / 150\n"
     ]
    },
    {
     "name": "stderr",
     "output_type": "stream",
     "text": [
      "100%|███████████████████████████████████████████| 49/49 [00:29<00:00,  1.67it/s]\n",
      "100%|███████████████████████████████████████████| 49/49 [00:08<00:00,  6.03it/s]\n",
      "100%|███████████████████████████████████████████| 13/13 [00:02<00:00,  4.68it/s]\n"
     ]
    },
    {
     "name": "stdout",
     "output_type": "stream",
     "text": [
      "# Epoch 34 / 150\n"
     ]
    },
    {
     "name": "stderr",
     "output_type": "stream",
     "text": [
      "100%|███████████████████████████████████████████| 49/49 [00:28<00:00,  1.71it/s]\n",
      "100%|███████████████████████████████████████████| 49/49 [00:08<00:00,  6.01it/s]\n",
      "100%|███████████████████████████████████████████| 13/13 [00:02<00:00,  4.78it/s]\n"
     ]
    },
    {
     "name": "stdout",
     "output_type": "stream",
     "text": [
      "# Epoch 35 / 150\n"
     ]
    },
    {
     "name": "stderr",
     "output_type": "stream",
     "text": [
      "100%|███████████████████████████████████████████| 49/49 [00:28<00:00,  1.69it/s]\n",
      "100%|███████████████████████████████████████████| 49/49 [00:07<00:00,  6.15it/s]\n",
      "100%|███████████████████████████████████████████| 13/13 [00:02<00:00,  5.00it/s]\n"
     ]
    },
    {
     "name": "stdout",
     "output_type": "stream",
     "text": [
      "# Epoch 36 / 150\n"
     ]
    },
    {
     "name": "stderr",
     "output_type": "stream",
     "text": [
      "100%|███████████████████████████████████████████| 49/49 [00:29<00:00,  1.69it/s]\n",
      "100%|███████████████████████████████████████████| 49/49 [00:07<00:00,  6.22it/s]\n",
      "100%|███████████████████████████████████████████| 13/13 [00:02<00:00,  4.90it/s]\n"
     ]
    },
    {
     "name": "stdout",
     "output_type": "stream",
     "text": [
      "# Epoch 37 / 150\n"
     ]
    },
    {
     "name": "stderr",
     "output_type": "stream",
     "text": [
      "100%|███████████████████████████████████████████| 49/49 [00:28<00:00,  1.69it/s]\n",
      "100%|███████████████████████████████████████████| 49/49 [00:07<00:00,  6.21it/s]\n",
      "100%|███████████████████████████████████████████| 13/13 [00:02<00:00,  4.58it/s]\n"
     ]
    },
    {
     "name": "stdout",
     "output_type": "stream",
     "text": [
      "# Epoch 38 / 150\n"
     ]
    },
    {
     "name": "stderr",
     "output_type": "stream",
     "text": [
      "100%|███████████████████████████████████████████| 49/49 [00:28<00:00,  1.69it/s]\n",
      "100%|███████████████████████████████████████████| 49/49 [00:08<00:00,  5.91it/s]\n",
      "100%|███████████████████████████████████████████| 13/13 [00:02<00:00,  4.71it/s]\n"
     ]
    },
    {
     "name": "stdout",
     "output_type": "stream",
     "text": [
      "# Epoch 39 / 150\n"
     ]
    },
    {
     "name": "stderr",
     "output_type": "stream",
     "text": [
      "100%|███████████████████████████████████████████| 49/49 [00:29<00:00,  1.68it/s]\n",
      "100%|███████████████████████████████████████████| 49/49 [00:08<00:00,  5.82it/s]\n",
      "100%|███████████████████████████████████████████| 13/13 [00:02<00:00,  4.70it/s]\n"
     ]
    },
    {
     "name": "stdout",
     "output_type": "stream",
     "text": [
      "# Epoch 40 / 150\n"
     ]
    },
    {
     "name": "stderr",
     "output_type": "stream",
     "text": [
      "100%|███████████████████████████████████████████| 49/49 [00:28<00:00,  1.70it/s]\n",
      "100%|███████████████████████████████████████████| 49/49 [00:08<00:00,  5.80it/s]\n",
      "100%|███████████████████████████████████████████| 13/13 [00:02<00:00,  4.52it/s]\n"
     ]
    },
    {
     "name": "stdout",
     "output_type": "stream",
     "text": [
      "# Epoch 41 / 150\n"
     ]
    },
    {
     "name": "stderr",
     "output_type": "stream",
     "text": [
      "100%|███████████████████████████████████████████| 49/49 [00:28<00:00,  1.70it/s]\n",
      "100%|███████████████████████████████████████████| 49/49 [00:08<00:00,  6.01it/s]\n",
      "100%|███████████████████████████████████████████| 13/13 [00:02<00:00,  4.52it/s]\n"
     ]
    },
    {
     "name": "stdout",
     "output_type": "stream",
     "text": [
      "# Epoch 42 / 150\n"
     ]
    },
    {
     "name": "stderr",
     "output_type": "stream",
     "text": [
      "100%|███████████████████████████████████████████| 49/49 [00:28<00:00,  1.71it/s]\n",
      "100%|███████████████████████████████████████████| 49/49 [00:08<00:00,  6.02it/s]\n",
      "100%|███████████████████████████████████████████| 13/13 [00:02<00:00,  4.61it/s]\n"
     ]
    },
    {
     "name": "stdout",
     "output_type": "stream",
     "text": [
      "# Epoch 43 / 150\n"
     ]
    },
    {
     "name": "stderr",
     "output_type": "stream",
     "text": [
      "100%|███████████████████████████████████████████| 49/49 [00:29<00:00,  1.69it/s]\n",
      "100%|███████████████████████████████████████████| 49/49 [00:08<00:00,  5.97it/s]\n",
      "100%|███████████████████████████████████████████| 13/13 [00:02<00:00,  4.96it/s]\n"
     ]
    },
    {
     "name": "stdout",
     "output_type": "stream",
     "text": [
      "# Epoch 44 / 150\n"
     ]
    },
    {
     "name": "stderr",
     "output_type": "stream",
     "text": [
      "100%|███████████████████████████████████████████| 49/49 [00:28<00:00,  1.72it/s]\n",
      "100%|███████████████████████████████████████████| 49/49 [00:08<00:00,  5.64it/s]\n",
      "100%|███████████████████████████████████████████| 13/13 [00:02<00:00,  4.74it/s]\n"
     ]
    },
    {
     "name": "stdout",
     "output_type": "stream",
     "text": [
      "# Epoch 45 / 150\n"
     ]
    },
    {
     "name": "stderr",
     "output_type": "stream",
     "text": [
      "100%|███████████████████████████████████████████| 49/49 [00:28<00:00,  1.71it/s]\n",
      "100%|███████████████████████████████████████████| 49/49 [00:08<00:00,  5.72it/s]\n",
      "100%|███████████████████████████████████████████| 13/13 [00:02<00:00,  4.69it/s]\n"
     ]
    },
    {
     "name": "stdout",
     "output_type": "stream",
     "text": [
      "# Epoch 46 / 150\n"
     ]
    },
    {
     "name": "stderr",
     "output_type": "stream",
     "text": [
      "100%|███████████████████████████████████████████| 49/49 [00:29<00:00,  1.69it/s]\n",
      "100%|███████████████████████████████████████████| 49/49 [00:08<00:00,  5.90it/s]\n",
      "100%|███████████████████████████████████████████| 13/13 [00:02<00:00,  4.45it/s]\n"
     ]
    },
    {
     "name": "stdout",
     "output_type": "stream",
     "text": [
      "# Epoch 47 / 150\n"
     ]
    },
    {
     "name": "stderr",
     "output_type": "stream",
     "text": [
      "100%|███████████████████████████████████████████| 49/49 [00:28<00:00,  1.73it/s]\n",
      "100%|███████████████████████████████████████████| 49/49 [00:08<00:00,  6.09it/s]\n",
      "100%|███████████████████████████████████████████| 13/13 [00:03<00:00,  4.31it/s]\n"
     ]
    },
    {
     "name": "stdout",
     "output_type": "stream",
     "text": [
      "# Epoch 48 / 150\n"
     ]
    },
    {
     "name": "stderr",
     "output_type": "stream",
     "text": [
      "100%|███████████████████████████████████████████| 49/49 [00:29<00:00,  1.68it/s]\n",
      "100%|███████████████████████████████████████████| 49/49 [00:09<00:00,  5.41it/s]\n",
      "100%|███████████████████████████████████████████| 13/13 [00:02<00:00,  4.50it/s]\n"
     ]
    },
    {
     "name": "stdout",
     "output_type": "stream",
     "text": [
      "# Epoch 49 / 150\n"
     ]
    },
    {
     "name": "stderr",
     "output_type": "stream",
     "text": [
      "100%|███████████████████████████████████████████| 49/49 [00:29<00:00,  1.68it/s]\n",
      "100%|███████████████████████████████████████████| 49/49 [00:08<00:00,  5.82it/s]\n",
      "100%|███████████████████████████████████████████| 13/13 [00:02<00:00,  4.63it/s]\n"
     ]
    },
    {
     "name": "stdout",
     "output_type": "stream",
     "text": [
      "# Epoch 50 / 150\n"
     ]
    },
    {
     "name": "stderr",
     "output_type": "stream",
     "text": [
      "100%|███████████████████████████████████████████| 49/49 [00:29<00:00,  1.69it/s]\n",
      "100%|███████████████████████████████████████████| 49/49 [00:08<00:00,  5.76it/s]\n",
      "100%|███████████████████████████████████████████| 13/13 [00:02<00:00,  4.64it/s]\n"
     ]
    },
    {
     "name": "stdout",
     "output_type": "stream",
     "text": [
      "# Epoch 51 / 150\n"
     ]
    },
    {
     "name": "stderr",
     "output_type": "stream",
     "text": [
      "100%|███████████████████████████████████████████| 49/49 [00:28<00:00,  1.72it/s]\n",
      "100%|███████████████████████████████████████████| 49/49 [00:08<00:00,  5.98it/s]\n",
      "100%|███████████████████████████████████████████| 13/13 [00:02<00:00,  4.69it/s]\n"
     ]
    },
    {
     "name": "stdout",
     "output_type": "stream",
     "text": [
      "# Epoch 52 / 150\n"
     ]
    },
    {
     "name": "stderr",
     "output_type": "stream",
     "text": [
      "100%|███████████████████████████████████████████| 49/49 [00:29<00:00,  1.69it/s]\n",
      "100%|███████████████████████████████████████████| 49/49 [00:08<00:00,  5.94it/s]\n",
      "100%|███████████████████████████████████████████| 13/13 [00:02<00:00,  4.87it/s]\n"
     ]
    },
    {
     "name": "stdout",
     "output_type": "stream",
     "text": [
      "# Epoch 53 / 150\n"
     ]
    },
    {
     "name": "stderr",
     "output_type": "stream",
     "text": [
      "100%|███████████████████████████████████████████| 49/49 [00:29<00:00,  1.68it/s]\n",
      "100%|███████████████████████████████████████████| 49/49 [00:08<00:00,  6.02it/s]\n",
      "100%|███████████████████████████████████████████| 13/13 [00:02<00:00,  4.73it/s]\n"
     ]
    },
    {
     "name": "stdout",
     "output_type": "stream",
     "text": [
      "# Epoch 54 / 150\n"
     ]
    },
    {
     "name": "stderr",
     "output_type": "stream",
     "text": [
      "100%|███████████████████████████████████████████| 49/49 [00:28<00:00,  1.72it/s]\n",
      "100%|███████████████████████████████████████████| 49/49 [00:08<00:00,  6.03it/s]\n",
      "100%|███████████████████████████████████████████| 13/13 [00:02<00:00,  4.53it/s]\n"
     ]
    },
    {
     "name": "stdout",
     "output_type": "stream",
     "text": [
      "# Epoch 55 / 150\n"
     ]
    },
    {
     "name": "stderr",
     "output_type": "stream",
     "text": [
      "100%|███████████████████████████████████████████| 49/49 [00:29<00:00,  1.69it/s]\n",
      "100%|███████████████████████████████████████████| 49/49 [00:08<00:00,  6.04it/s]\n",
      "100%|███████████████████████████████████████████| 13/13 [00:02<00:00,  4.71it/s]\n"
     ]
    },
    {
     "name": "stdout",
     "output_type": "stream",
     "text": [
      "# Epoch 56 / 150\n"
     ]
    },
    {
     "name": "stderr",
     "output_type": "stream",
     "text": [
      "100%|███████████████████████████████████████████| 49/49 [00:28<00:00,  1.71it/s]\n",
      "100%|███████████████████████████████████████████| 49/49 [00:08<00:00,  6.05it/s]\n",
      "100%|███████████████████████████████████████████| 13/13 [00:02<00:00,  5.06it/s]\n"
     ]
    },
    {
     "name": "stdout",
     "output_type": "stream",
     "text": [
      "# Epoch 57 / 150\n"
     ]
    },
    {
     "name": "stderr",
     "output_type": "stream",
     "text": [
      "100%|███████████████████████████████████████████| 49/49 [00:28<00:00,  1.69it/s]\n",
      "100%|███████████████████████████████████████████| 49/49 [00:08<00:00,  5.93it/s]\n",
      "100%|███████████████████████████████████████████| 13/13 [00:02<00:00,  4.77it/s]\n"
     ]
    },
    {
     "name": "stdout",
     "output_type": "stream",
     "text": [
      "# Epoch 58 / 150\n"
     ]
    },
    {
     "name": "stderr",
     "output_type": "stream",
     "text": [
      "100%|███████████████████████████████████████████| 49/49 [00:28<00:00,  1.72it/s]\n",
      "100%|███████████████████████████████████████████| 49/49 [00:08<00:00,  5.61it/s]\n",
      "100%|███████████████████████████████████████████| 13/13 [00:02<00:00,  4.82it/s]\n"
     ]
    },
    {
     "name": "stdout",
     "output_type": "stream",
     "text": [
      "# Epoch 59 / 150\n"
     ]
    },
    {
     "name": "stderr",
     "output_type": "stream",
     "text": [
      "100%|███████████████████████████████████████████| 49/49 [00:28<00:00,  1.71it/s]\n",
      "100%|███████████████████████████████████████████| 49/49 [00:08<00:00,  6.06it/s]\n",
      "100%|███████████████████████████████████████████| 13/13 [00:02<00:00,  5.24it/s]\n"
     ]
    },
    {
     "name": "stdout",
     "output_type": "stream",
     "text": [
      "# Epoch 60 / 150\n"
     ]
    },
    {
     "name": "stderr",
     "output_type": "stream",
     "text": [
      "100%|███████████████████████████████████████████| 49/49 [00:28<00:00,  1.73it/s]\n",
      "100%|███████████████████████████████████████████| 49/49 [00:08<00:00,  5.94it/s]\n",
      "100%|███████████████████████████████████████████| 13/13 [00:02<00:00,  4.59it/s]\n"
     ]
    },
    {
     "name": "stdout",
     "output_type": "stream",
     "text": [
      "# Epoch 61 / 150\n"
     ]
    },
    {
     "name": "stderr",
     "output_type": "stream",
     "text": [
      "100%|███████████████████████████████████████████| 49/49 [00:28<00:00,  1.70it/s]\n",
      "100%|███████████████████████████████████████████| 49/49 [00:08<00:00,  5.90it/s]\n",
      "100%|███████████████████████████████████████████| 13/13 [00:02<00:00,  4.46it/s]\n"
     ]
    },
    {
     "name": "stdout",
     "output_type": "stream",
     "text": [
      "# Epoch 62 / 150\n"
     ]
    },
    {
     "name": "stderr",
     "output_type": "stream",
     "text": [
      "100%|███████████████████████████████████████████| 49/49 [00:29<00:00,  1.69it/s]\n",
      "100%|███████████████████████████████████████████| 49/49 [00:08<00:00,  5.89it/s]\n",
      "100%|███████████████████████████████████████████| 13/13 [00:02<00:00,  4.62it/s]\n"
     ]
    },
    {
     "name": "stdout",
     "output_type": "stream",
     "text": [
      "# Epoch 63 / 150\n"
     ]
    },
    {
     "name": "stderr",
     "output_type": "stream",
     "text": [
      "100%|███████████████████████████████████████████| 49/49 [00:28<00:00,  1.72it/s]\n",
      "100%|███████████████████████████████████████████| 49/49 [00:08<00:00,  5.95it/s]\n",
      "100%|███████████████████████████████████████████| 13/13 [00:02<00:00,  4.80it/s]\n"
     ]
    },
    {
     "name": "stdout",
     "output_type": "stream",
     "text": [
      "# Epoch 64 / 150\n"
     ]
    },
    {
     "name": "stderr",
     "output_type": "stream",
     "text": [
      "100%|███████████████████████████████████████████| 49/49 [00:28<00:00,  1.74it/s]\n",
      "100%|███████████████████████████████████████████| 49/49 [00:08<00:00,  5.81it/s]\n",
      "100%|███████████████████████████████████████████| 13/13 [00:02<00:00,  4.80it/s]\n"
     ]
    },
    {
     "name": "stdout",
     "output_type": "stream",
     "text": [
      "# Epoch 65 / 150\n"
     ]
    },
    {
     "name": "stderr",
     "output_type": "stream",
     "text": [
      "100%|███████████████████████████████████████████| 49/49 [00:28<00:00,  1.69it/s]\n",
      "100%|███████████████████████████████████████████| 49/49 [00:07<00:00,  6.23it/s]\n",
      "100%|███████████████████████████████████████████| 13/13 [00:02<00:00,  4.89it/s]\n"
     ]
    },
    {
     "name": "stdout",
     "output_type": "stream",
     "text": [
      "# Epoch 66 / 150\n"
     ]
    },
    {
     "name": "stderr",
     "output_type": "stream",
     "text": [
      "100%|███████████████████████████████████████████| 49/49 [00:28<00:00,  1.71it/s]\n",
      "100%|███████████████████████████████████████████| 49/49 [00:08<00:00,  5.75it/s]\n",
      "100%|███████████████████████████████████████████| 13/13 [00:02<00:00,  4.92it/s]\n"
     ]
    },
    {
     "name": "stdout",
     "output_type": "stream",
     "text": [
      "# Epoch 67 / 150\n"
     ]
    },
    {
     "name": "stderr",
     "output_type": "stream",
     "text": [
      "100%|███████████████████████████████████████████| 49/49 [00:28<00:00,  1.72it/s]\n",
      "100%|███████████████████████████████████████████| 49/49 [00:08<00:00,  5.72it/s]\n",
      "100%|███████████████████████████████████████████| 13/13 [00:02<00:00,  4.82it/s]\n"
     ]
    },
    {
     "name": "stdout",
     "output_type": "stream",
     "text": [
      "# Epoch 68 / 150\n"
     ]
    },
    {
     "name": "stderr",
     "output_type": "stream",
     "text": [
      "100%|███████████████████████████████████████████| 49/49 [00:28<00:00,  1.73it/s]\n",
      "100%|███████████████████████████████████████████| 49/49 [00:08<00:00,  6.00it/s]\n",
      "100%|███████████████████████████████████████████| 13/13 [00:02<00:00,  4.75it/s]\n"
     ]
    },
    {
     "name": "stdout",
     "output_type": "stream",
     "text": [
      "# Epoch 69 / 150\n"
     ]
    },
    {
     "name": "stderr",
     "output_type": "stream",
     "text": [
      "100%|███████████████████████████████████████████| 49/49 [00:29<00:00,  1.69it/s]\n",
      "100%|███████████████████████████████████████████| 49/49 [00:08<00:00,  5.98it/s]\n",
      "100%|███████████████████████████████████████████| 13/13 [00:02<00:00,  4.45it/s]\n"
     ]
    },
    {
     "name": "stdout",
     "output_type": "stream",
     "text": [
      "# Epoch 70 / 150\n"
     ]
    },
    {
     "name": "stderr",
     "output_type": "stream",
     "text": [
      "100%|███████████████████████████████████████████| 49/49 [00:28<00:00,  1.69it/s]\n",
      "100%|███████████████████████████████████████████| 49/49 [00:08<00:00,  5.76it/s]\n",
      "100%|███████████████████████████████████████████| 13/13 [00:02<00:00,  4.67it/s]\n"
     ]
    },
    {
     "name": "stdout",
     "output_type": "stream",
     "text": [
      "# Epoch 71 / 150\n"
     ]
    },
    {
     "name": "stderr",
     "output_type": "stream",
     "text": [
      "100%|███████████████████████████████████████████| 49/49 [00:28<00:00,  1.69it/s]\n",
      "100%|███████████████████████████████████████████| 49/49 [00:08<00:00,  5.82it/s]\n",
      "100%|███████████████████████████████████████████| 13/13 [00:02<00:00,  4.48it/s]\n"
     ]
    },
    {
     "name": "stdout",
     "output_type": "stream",
     "text": [
      "# Epoch 72 / 150\n"
     ]
    },
    {
     "name": "stderr",
     "output_type": "stream",
     "text": [
      "100%|███████████████████████████████████████████| 49/49 [00:28<00:00,  1.72it/s]\n",
      "100%|███████████████████████████████████████████| 49/49 [00:08<00:00,  5.98it/s]\n",
      "100%|███████████████████████████████████████████| 13/13 [00:02<00:00,  4.64it/s]\n"
     ]
    },
    {
     "name": "stdout",
     "output_type": "stream",
     "text": [
      "# Epoch 73 / 150\n"
     ]
    },
    {
     "name": "stderr",
     "output_type": "stream",
     "text": [
      "100%|███████████████████████████████████████████| 49/49 [00:28<00:00,  1.70it/s]\n",
      "100%|███████████████████████████████████████████| 49/49 [00:07<00:00,  6.17it/s]\n",
      "100%|███████████████████████████████████████████| 13/13 [00:02<00:00,  4.71it/s]\n"
     ]
    },
    {
     "name": "stdout",
     "output_type": "stream",
     "text": [
      "# Epoch 74 / 150\n"
     ]
    },
    {
     "name": "stderr",
     "output_type": "stream",
     "text": [
      "100%|███████████████████████████████████████████| 49/49 [00:28<00:00,  1.73it/s]\n",
      "100%|███████████████████████████████████████████| 49/49 [00:09<00:00,  5.42it/s]\n",
      "100%|███████████████████████████████████████████| 13/13 [00:02<00:00,  4.62it/s]\n"
     ]
    },
    {
     "name": "stdout",
     "output_type": "stream",
     "text": [
      "# Epoch 75 / 150\n"
     ]
    },
    {
     "name": "stderr",
     "output_type": "stream",
     "text": [
      "100%|███████████████████████████████████████████| 49/49 [00:29<00:00,  1.67it/s]\n",
      "100%|███████████████████████████████████████████| 49/49 [00:07<00:00,  6.39it/s]\n",
      "100%|███████████████████████████████████████████| 13/13 [00:02<00:00,  4.53it/s]\n"
     ]
    },
    {
     "name": "stdout",
     "output_type": "stream",
     "text": [
      "# Epoch 76 / 150\n"
     ]
    },
    {
     "name": "stderr",
     "output_type": "stream",
     "text": [
      "100%|███████████████████████████████████████████| 49/49 [00:28<00:00,  1.70it/s]\n",
      "100%|███████████████████████████████████████████| 49/49 [00:08<00:00,  5.99it/s]\n",
      "100%|███████████████████████████████████████████| 13/13 [00:02<00:00,  4.88it/s]\n"
     ]
    },
    {
     "name": "stdout",
     "output_type": "stream",
     "text": [
      "# Epoch 77 / 150\n"
     ]
    },
    {
     "name": "stderr",
     "output_type": "stream",
     "text": [
      "100%|███████████████████████████████████████████| 49/49 [00:29<00:00,  1.69it/s]\n",
      "100%|███████████████████████████████████████████| 49/49 [00:08<00:00,  5.96it/s]\n",
      "100%|███████████████████████████████████████████| 13/13 [00:02<00:00,  4.34it/s]\n"
     ]
    },
    {
     "name": "stdout",
     "output_type": "stream",
     "text": [
      "# Epoch 78 / 150\n"
     ]
    },
    {
     "name": "stderr",
     "output_type": "stream",
     "text": [
      "100%|███████████████████████████████████████████| 49/49 [00:28<00:00,  1.72it/s]\n",
      "100%|███████████████████████████████████████████| 49/49 [00:08<00:00,  5.75it/s]\n",
      "100%|███████████████████████████████████████████| 13/13 [00:02<00:00,  4.68it/s]\n"
     ]
    },
    {
     "name": "stdout",
     "output_type": "stream",
     "text": [
      "# Epoch 79 / 150\n"
     ]
    },
    {
     "name": "stderr",
     "output_type": "stream",
     "text": [
      "100%|███████████████████████████████████████████| 49/49 [00:28<00:00,  1.69it/s]\n",
      "100%|███████████████████████████████████████████| 49/49 [00:08<00:00,  5.93it/s]\n",
      "100%|███████████████████████████████████████████| 13/13 [00:02<00:00,  4.57it/s]\n"
     ]
    },
    {
     "name": "stdout",
     "output_type": "stream",
     "text": [
      "# Epoch 80 / 150\n"
     ]
    },
    {
     "name": "stderr",
     "output_type": "stream",
     "text": [
      "100%|███████████████████████████████████████████| 49/49 [00:28<00:00,  1.71it/s]\n",
      "100%|███████████████████████████████████████████| 49/49 [00:08<00:00,  5.98it/s]\n",
      "100%|███████████████████████████████████████████| 13/13 [00:02<00:00,  4.62it/s]\n"
     ]
    },
    {
     "name": "stdout",
     "output_type": "stream",
     "text": [
      "# Epoch 81 / 150\n"
     ]
    },
    {
     "name": "stderr",
     "output_type": "stream",
     "text": [
      "100%|███████████████████████████████████████████| 49/49 [00:29<00:00,  1.68it/s]\n",
      "100%|███████████████████████████████████████████| 49/49 [00:08<00:00,  5.73it/s]\n",
      "100%|███████████████████████████████████████████| 13/13 [00:02<00:00,  4.71it/s]\n"
     ]
    },
    {
     "name": "stdout",
     "output_type": "stream",
     "text": [
      "# Epoch 82 / 150\n"
     ]
    },
    {
     "name": "stderr",
     "output_type": "stream",
     "text": [
      "100%|███████████████████████████████████████████| 49/49 [00:28<00:00,  1.69it/s]\n",
      "100%|███████████████████████████████████████████| 49/49 [00:08<00:00,  5.79it/s]\n",
      "100%|███████████████████████████████████████████| 13/13 [00:02<00:00,  4.36it/s]\n"
     ]
    },
    {
     "name": "stdout",
     "output_type": "stream",
     "text": [
      "# Epoch 83 / 150\n"
     ]
    },
    {
     "name": "stderr",
     "output_type": "stream",
     "text": [
      "100%|███████████████████████████████████████████| 49/49 [00:29<00:00,  1.69it/s]\n",
      "100%|███████████████████████████████████████████| 49/49 [00:08<00:00,  5.84it/s]\n",
      "100%|███████████████████████████████████████████| 13/13 [00:02<00:00,  4.66it/s]\n"
     ]
    },
    {
     "name": "stdout",
     "output_type": "stream",
     "text": [
      "# Epoch 84 / 150\n"
     ]
    },
    {
     "name": "stderr",
     "output_type": "stream",
     "text": [
      "100%|███████████████████████████████████████████| 49/49 [00:29<00:00,  1.69it/s]\n",
      "100%|███████████████████████████████████████████| 49/49 [00:08<00:00,  5.93it/s]\n",
      "100%|███████████████████████████████████████████| 13/13 [00:02<00:00,  4.55it/s]\n"
     ]
    },
    {
     "name": "stdout",
     "output_type": "stream",
     "text": [
      "# Epoch 85 / 150\n"
     ]
    },
    {
     "name": "stderr",
     "output_type": "stream",
     "text": [
      "100%|███████████████████████████████████████████| 49/49 [00:29<00:00,  1.69it/s]\n",
      "100%|███████████████████████████████████████████| 49/49 [00:07<00:00,  6.25it/s]\n",
      "100%|███████████████████████████████████████████| 13/13 [00:02<00:00,  4.95it/s]\n"
     ]
    },
    {
     "name": "stdout",
     "output_type": "stream",
     "text": [
      "# Epoch 86 / 150\n"
     ]
    },
    {
     "name": "stderr",
     "output_type": "stream",
     "text": [
      "100%|███████████████████████████████████████████| 49/49 [00:28<00:00,  1.70it/s]\n",
      "100%|███████████████████████████████████████████| 49/49 [00:08<00:00,  6.03it/s]\n",
      "100%|███████████████████████████████████████████| 13/13 [00:02<00:00,  4.81it/s]\n"
     ]
    },
    {
     "name": "stdout",
     "output_type": "stream",
     "text": [
      "# Epoch 87 / 150\n"
     ]
    },
    {
     "name": "stderr",
     "output_type": "stream",
     "text": [
      "100%|███████████████████████████████████████████| 49/49 [00:28<00:00,  1.69it/s]\n",
      "100%|███████████████████████████████████████████| 49/49 [00:08<00:00,  5.93it/s]\n",
      "100%|███████████████████████████████████████████| 13/13 [00:02<00:00,  4.86it/s]\n"
     ]
    },
    {
     "name": "stdout",
     "output_type": "stream",
     "text": [
      "# Epoch 88 / 150\n"
     ]
    },
    {
     "name": "stderr",
     "output_type": "stream",
     "text": [
      "100%|███████████████████████████████████████████| 49/49 [00:28<00:00,  1.70it/s]\n",
      "100%|███████████████████████████████████████████| 49/49 [00:08<00:00,  5.89it/s]\n",
      "100%|███████████████████████████████████████████| 13/13 [00:02<00:00,  4.40it/s]\n"
     ]
    },
    {
     "name": "stdout",
     "output_type": "stream",
     "text": [
      "# Epoch 89 / 150\n"
     ]
    },
    {
     "name": "stderr",
     "output_type": "stream",
     "text": [
      "100%|███████████████████████████████████████████| 49/49 [00:28<00:00,  1.72it/s]\n",
      "100%|███████████████████████████████████████████| 49/49 [00:08<00:00,  5.74it/s]\n",
      "100%|███████████████████████████████████████████| 13/13 [00:02<00:00,  5.04it/s]\n"
     ]
    },
    {
     "name": "stdout",
     "output_type": "stream",
     "text": [
      "# Epoch 90 / 150\n"
     ]
    },
    {
     "name": "stderr",
     "output_type": "stream",
     "text": [
      "100%|███████████████████████████████████████████| 49/49 [00:28<00:00,  1.69it/s]\n",
      "100%|███████████████████████████████████████████| 49/49 [00:08<00:00,  5.90it/s]\n",
      "100%|███████████████████████████████████████████| 13/13 [00:03<00:00,  4.17it/s]\n"
     ]
    },
    {
     "name": "stdout",
     "output_type": "stream",
     "text": [
      "# Epoch 91 / 150\n"
     ]
    },
    {
     "name": "stderr",
     "output_type": "stream",
     "text": [
      "100%|███████████████████████████████████████████| 49/49 [00:28<00:00,  1.70it/s]\n",
      "100%|███████████████████████████████████████████| 49/49 [00:08<00:00,  5.80it/s]\n",
      "100%|███████████████████████████████████████████| 13/13 [00:02<00:00,  4.65it/s]\n"
     ]
    },
    {
     "name": "stdout",
     "output_type": "stream",
     "text": [
      "# Epoch 92 / 150\n"
     ]
    },
    {
     "name": "stderr",
     "output_type": "stream",
     "text": [
      "100%|███████████████████████████████████████████| 49/49 [00:29<00:00,  1.68it/s]\n",
      "100%|███████████████████████████████████████████| 49/49 [00:08<00:00,  5.76it/s]\n",
      "100%|███████████████████████████████████████████| 13/13 [00:02<00:00,  4.70it/s]\n"
     ]
    },
    {
     "name": "stdout",
     "output_type": "stream",
     "text": [
      "# Epoch 93 / 150\n"
     ]
    },
    {
     "name": "stderr",
     "output_type": "stream",
     "text": [
      "100%|███████████████████████████████████████████| 49/49 [00:29<00:00,  1.69it/s]\n",
      "100%|███████████████████████████████████████████| 49/49 [00:08<00:00,  6.03it/s]\n",
      "100%|███████████████████████████████████████████| 13/13 [00:02<00:00,  4.58it/s]\n"
     ]
    },
    {
     "name": "stdout",
     "output_type": "stream",
     "text": [
      "# Epoch 94 / 150\n"
     ]
    },
    {
     "name": "stderr",
     "output_type": "stream",
     "text": [
      "100%|███████████████████████████████████████████| 49/49 [00:29<00:00,  1.68it/s]\n",
      "100%|███████████████████████████████████████████| 49/49 [00:08<00:00,  5.93it/s]\n",
      "100%|███████████████████████████████████████████| 13/13 [00:02<00:00,  4.60it/s]\n"
     ]
    },
    {
     "name": "stdout",
     "output_type": "stream",
     "text": [
      "# Epoch 95 / 150\n"
     ]
    },
    {
     "name": "stderr",
     "output_type": "stream",
     "text": [
      "100%|███████████████████████████████████████████| 49/49 [00:28<00:00,  1.69it/s]\n",
      "100%|███████████████████████████████████████████| 49/49 [00:08<00:00,  5.64it/s]\n",
      "100%|███████████████████████████████████████████| 13/13 [00:02<00:00,  4.79it/s]\n"
     ]
    },
    {
     "name": "stdout",
     "output_type": "stream",
     "text": [
      "# Epoch 96 / 150\n"
     ]
    },
    {
     "name": "stderr",
     "output_type": "stream",
     "text": [
      "100%|███████████████████████████████████████████| 49/49 [00:28<00:00,  1.69it/s]\n",
      "100%|███████████████████████████████████████████| 49/49 [00:08<00:00,  5.90it/s]\n",
      "100%|███████████████████████████████████████████| 13/13 [00:02<00:00,  4.76it/s]\n"
     ]
    },
    {
     "name": "stdout",
     "output_type": "stream",
     "text": [
      "# Epoch 97 / 150\n"
     ]
    },
    {
     "name": "stderr",
     "output_type": "stream",
     "text": [
      "100%|███████████████████████████████████████████| 49/49 [00:28<00:00,  1.71it/s]\n",
      "100%|███████████████████████████████████████████| 49/49 [00:08<00:00,  5.70it/s]\n",
      "100%|███████████████████████████████████████████| 13/13 [00:02<00:00,  4.89it/s]\n"
     ]
    },
    {
     "name": "stdout",
     "output_type": "stream",
     "text": [
      "# Epoch 98 / 150\n"
     ]
    },
    {
     "name": "stderr",
     "output_type": "stream",
     "text": [
      "100%|███████████████████████████████████████████| 49/49 [00:28<00:00,  1.69it/s]\n",
      "100%|███████████████████████████████████████████| 49/49 [00:08<00:00,  6.12it/s]\n",
      "100%|███████████████████████████████████████████| 13/13 [00:02<00:00,  4.48it/s]\n"
     ]
    },
    {
     "name": "stdout",
     "output_type": "stream",
     "text": [
      "# Epoch 99 / 150\n"
     ]
    },
    {
     "name": "stderr",
     "output_type": "stream",
     "text": [
      "100%|███████████████████████████████████████████| 49/49 [00:28<00:00,  1.70it/s]\n",
      "100%|███████████████████████████████████████████| 49/49 [00:07<00:00,  6.32it/s]\n",
      "100%|███████████████████████████████████████████| 13/13 [00:02<00:00,  5.23it/s]\n"
     ]
    },
    {
     "name": "stdout",
     "output_type": "stream",
     "text": [
      "# Epoch 100 / 150\n"
     ]
    },
    {
     "name": "stderr",
     "output_type": "stream",
     "text": [
      "100%|███████████████████████████████████████████| 49/49 [00:29<00:00,  1.68it/s]\n",
      "100%|███████████████████████████████████████████| 49/49 [00:08<00:00,  6.09it/s]\n",
      "100%|███████████████████████████████████████████| 13/13 [00:02<00:00,  4.81it/s]\n"
     ]
    },
    {
     "name": "stdout",
     "output_type": "stream",
     "text": [
      "# Epoch 101 / 150\n"
     ]
    },
    {
     "name": "stderr",
     "output_type": "stream",
     "text": [
      "100%|███████████████████████████████████████████| 49/49 [00:28<00:00,  1.70it/s]\n",
      "100%|███████████████████████████████████████████| 49/49 [00:07<00:00,  6.46it/s]\n",
      "100%|███████████████████████████████████████████| 13/13 [00:02<00:00,  4.99it/s]\n"
     ]
    },
    {
     "name": "stdout",
     "output_type": "stream",
     "text": [
      "# Epoch 102 / 150\n"
     ]
    },
    {
     "name": "stderr",
     "output_type": "stream",
     "text": [
      "100%|███████████████████████████████████████████| 49/49 [00:28<00:00,  1.69it/s]\n",
      "100%|███████████████████████████████████████████| 49/49 [00:07<00:00,  6.16it/s]\n",
      "100%|███████████████████████████████████████████| 13/13 [00:02<00:00,  4.90it/s]\n"
     ]
    },
    {
     "name": "stdout",
     "output_type": "stream",
     "text": [
      "# Epoch 103 / 150\n"
     ]
    },
    {
     "name": "stderr",
     "output_type": "stream",
     "text": [
      "100%|███████████████████████████████████████████| 49/49 [00:28<00:00,  1.71it/s]\n",
      "100%|███████████████████████████████████████████| 49/49 [00:07<00:00,  6.57it/s]\n",
      "100%|███████████████████████████████████████████| 13/13 [00:02<00:00,  4.99it/s]\n"
     ]
    },
    {
     "name": "stdout",
     "output_type": "stream",
     "text": [
      "# Epoch 104 / 150\n"
     ]
    },
    {
     "name": "stderr",
     "output_type": "stream",
     "text": [
      "100%|███████████████████████████████████████████| 49/49 [00:28<00:00,  1.71it/s]\n",
      "100%|███████████████████████████████████████████| 49/49 [00:07<00:00,  6.14it/s]\n",
      "100%|███████████████████████████████████████████| 13/13 [00:02<00:00,  5.16it/s]\n"
     ]
    },
    {
     "name": "stdout",
     "output_type": "stream",
     "text": [
      "# Epoch 105 / 150\n"
     ]
    },
    {
     "name": "stderr",
     "output_type": "stream",
     "text": [
      "100%|███████████████████████████████████████████| 49/49 [00:28<00:00,  1.72it/s]\n",
      "100%|███████████████████████████████████████████| 49/49 [00:08<00:00,  5.94it/s]\n",
      "100%|███████████████████████████████████████████| 13/13 [00:02<00:00,  5.08it/s]\n"
     ]
    },
    {
     "name": "stdout",
     "output_type": "stream",
     "text": [
      "# Epoch 106 / 150\n"
     ]
    },
    {
     "name": "stderr",
     "output_type": "stream",
     "text": [
      "100%|███████████████████████████████████████████| 49/49 [00:28<00:00,  1.71it/s]\n",
      "100%|███████████████████████████████████████████| 49/49 [00:08<00:00,  5.75it/s]\n",
      "100%|███████████████████████████████████████████| 13/13 [00:02<00:00,  5.09it/s]\n"
     ]
    },
    {
     "name": "stdout",
     "output_type": "stream",
     "text": [
      "# Epoch 107 / 150\n"
     ]
    },
    {
     "name": "stderr",
     "output_type": "stream",
     "text": [
      "100%|███████████████████████████████████████████| 49/49 [00:29<00:00,  1.69it/s]\n",
      "100%|███████████████████████████████████████████| 49/49 [00:07<00:00,  6.14it/s]\n",
      "100%|███████████████████████████████████████████| 13/13 [00:02<00:00,  4.97it/s]\n"
     ]
    },
    {
     "name": "stdout",
     "output_type": "stream",
     "text": [
      "# Epoch 108 / 150\n"
     ]
    },
    {
     "name": "stderr",
     "output_type": "stream",
     "text": [
      "100%|███████████████████████████████████████████| 49/49 [00:28<00:00,  1.69it/s]\n",
      "100%|███████████████████████████████████████████| 49/49 [00:07<00:00,  6.36it/s]\n",
      "100%|███████████████████████████████████████████| 13/13 [00:02<00:00,  4.77it/s]\n"
     ]
    },
    {
     "name": "stdout",
     "output_type": "stream",
     "text": [
      "# Epoch 109 / 150\n"
     ]
    },
    {
     "name": "stderr",
     "output_type": "stream",
     "text": [
      "100%|███████████████████████████████████████████| 49/49 [00:28<00:00,  1.69it/s]\n",
      "100%|███████████████████████████████████████████| 49/49 [00:08<00:00,  6.11it/s]\n",
      "100%|███████████████████████████████████████████| 13/13 [00:02<00:00,  4.90it/s]\n"
     ]
    },
    {
     "name": "stdout",
     "output_type": "stream",
     "text": [
      "# Epoch 110 / 150\n"
     ]
    },
    {
     "name": "stderr",
     "output_type": "stream",
     "text": [
      "100%|███████████████████████████████████████████| 49/49 [00:28<00:00,  1.69it/s]\n",
      "100%|███████████████████████████████████████████| 49/49 [00:07<00:00,  6.24it/s]\n",
      "100%|███████████████████████████████████████████| 13/13 [00:02<00:00,  4.73it/s]\n"
     ]
    },
    {
     "name": "stdout",
     "output_type": "stream",
     "text": [
      "# Epoch 111 / 150\n"
     ]
    },
    {
     "name": "stderr",
     "output_type": "stream",
     "text": [
      "100%|███████████████████████████████████████████| 49/49 [00:28<00:00,  1.69it/s]\n",
      "100%|███████████████████████████████████████████| 49/49 [00:07<00:00,  6.31it/s]\n",
      "100%|███████████████████████████████████████████| 13/13 [00:02<00:00,  4.87it/s]\n"
     ]
    },
    {
     "name": "stdout",
     "output_type": "stream",
     "text": [
      "# Epoch 112 / 150\n"
     ]
    },
    {
     "name": "stderr",
     "output_type": "stream",
     "text": [
      "100%|███████████████████████████████████████████| 49/49 [00:28<00:00,  1.72it/s]\n",
      "100%|███████████████████████████████████████████| 49/49 [00:07<00:00,  6.39it/s]\n",
      "100%|███████████████████████████████████████████| 13/13 [00:02<00:00,  4.68it/s]\n"
     ]
    },
    {
     "name": "stdout",
     "output_type": "stream",
     "text": [
      "# Epoch 113 / 150\n"
     ]
    },
    {
     "name": "stderr",
     "output_type": "stream",
     "text": [
      "100%|███████████████████████████████████████████| 49/49 [00:28<00:00,  1.73it/s]\n",
      "100%|███████████████████████████████████████████| 49/49 [00:08<00:00,  6.00it/s]\n",
      "100%|███████████████████████████████████████████| 13/13 [00:02<00:00,  4.72it/s]\n"
     ]
    },
    {
     "name": "stdout",
     "output_type": "stream",
     "text": [
      "# Epoch 114 / 150\n"
     ]
    },
    {
     "name": "stderr",
     "output_type": "stream",
     "text": [
      "100%|███████████████████████████████████████████| 49/49 [00:29<00:00,  1.68it/s]\n",
      "100%|███████████████████████████████████████████| 49/49 [00:07<00:00,  6.18it/s]\n",
      "100%|███████████████████████████████████████████| 13/13 [00:02<00:00,  4.89it/s]\n"
     ]
    },
    {
     "name": "stdout",
     "output_type": "stream",
     "text": [
      "# Epoch 115 / 150\n"
     ]
    },
    {
     "name": "stderr",
     "output_type": "stream",
     "text": [
      "100%|███████████████████████████████████████████| 49/49 [00:28<00:00,  1.70it/s]\n",
      "100%|███████████████████████████████████████████| 49/49 [00:07<00:00,  6.61it/s]\n",
      "100%|███████████████████████████████████████████| 13/13 [00:02<00:00,  5.12it/s]\n"
     ]
    },
    {
     "name": "stdout",
     "output_type": "stream",
     "text": [
      "# Epoch 116 / 150\n"
     ]
    },
    {
     "name": "stderr",
     "output_type": "stream",
     "text": [
      "100%|███████████████████████████████████████████| 49/49 [00:28<00:00,  1.71it/s]\n",
      "100%|███████████████████████████████████████████| 49/49 [00:07<00:00,  6.35it/s]\n",
      "100%|███████████████████████████████████████████| 13/13 [00:02<00:00,  5.10it/s]\n"
     ]
    },
    {
     "name": "stdout",
     "output_type": "stream",
     "text": [
      "# Epoch 117 / 150\n"
     ]
    },
    {
     "name": "stderr",
     "output_type": "stream",
     "text": [
      "100%|███████████████████████████████████████████| 49/49 [00:28<00:00,  1.72it/s]\n",
      "100%|███████████████████████████████████████████| 49/49 [00:08<00:00,  6.10it/s]\n",
      "100%|███████████████████████████████████████████| 13/13 [00:02<00:00,  5.32it/s]\n"
     ]
    },
    {
     "name": "stdout",
     "output_type": "stream",
     "text": [
      "# Epoch 118 / 150\n"
     ]
    },
    {
     "name": "stderr",
     "output_type": "stream",
     "text": [
      "100%|███████████████████████████████████████████| 49/49 [00:28<00:00,  1.69it/s]\n",
      "100%|███████████████████████████████████████████| 49/49 [00:08<00:00,  5.96it/s]\n",
      "100%|███████████████████████████████████████████| 13/13 [00:02<00:00,  4.65it/s]\n"
     ]
    },
    {
     "name": "stdout",
     "output_type": "stream",
     "text": [
      "# Epoch 119 / 150\n"
     ]
    },
    {
     "name": "stderr",
     "output_type": "stream",
     "text": [
      "100%|███████████████████████████████████████████| 49/49 [00:28<00:00,  1.72it/s]\n",
      "100%|███████████████████████████████████████████| 49/49 [00:08<00:00,  6.10it/s]\n",
      "100%|███████████████████████████████████████████| 13/13 [00:02<00:00,  5.32it/s]\n"
     ]
    },
    {
     "name": "stdout",
     "output_type": "stream",
     "text": [
      "# Epoch 120 / 150\n"
     ]
    },
    {
     "name": "stderr",
     "output_type": "stream",
     "text": [
      "100%|███████████████████████████████████████████| 49/49 [00:29<00:00,  1.68it/s]\n",
      "100%|███████████████████████████████████████████| 49/49 [00:07<00:00,  6.14it/s]\n",
      "100%|███████████████████████████████████████████| 13/13 [00:02<00:00,  5.28it/s]\n"
     ]
    },
    {
     "name": "stdout",
     "output_type": "stream",
     "text": [
      "# Epoch 121 / 150\n"
     ]
    },
    {
     "name": "stderr",
     "output_type": "stream",
     "text": [
      "100%|███████████████████████████████████████████| 49/49 [00:28<00:00,  1.70it/s]\n",
      "100%|███████████████████████████████████████████| 49/49 [00:08<00:00,  5.88it/s]\n",
      "100%|███████████████████████████████████████████| 13/13 [00:02<00:00,  4.47it/s]\n"
     ]
    },
    {
     "name": "stdout",
     "output_type": "stream",
     "text": [
      "# Epoch 122 / 150\n"
     ]
    },
    {
     "name": "stderr",
     "output_type": "stream",
     "text": [
      "100%|███████████████████████████████████████████| 49/49 [00:28<00:00,  1.71it/s]\n",
      "100%|███████████████████████████████████████████| 49/49 [00:08<00:00,  6.04it/s]\n",
      "100%|███████████████████████████████████████████| 13/13 [00:02<00:00,  4.71it/s]\n"
     ]
    },
    {
     "name": "stdout",
     "output_type": "stream",
     "text": [
      "# Epoch 123 / 150\n"
     ]
    },
    {
     "name": "stderr",
     "output_type": "stream",
     "text": [
      "100%|███████████████████████████████████████████| 49/49 [00:28<00:00,  1.70it/s]\n",
      "100%|███████████████████████████████████████████| 49/49 [00:08<00:00,  5.62it/s]\n",
      "100%|███████████████████████████████████████████| 13/13 [00:02<00:00,  4.86it/s]\n"
     ]
    },
    {
     "name": "stdout",
     "output_type": "stream",
     "text": [
      "# Epoch 124 / 150\n"
     ]
    },
    {
     "name": "stderr",
     "output_type": "stream",
     "text": [
      "100%|███████████████████████████████████████████| 49/49 [00:28<00:00,  1.69it/s]\n",
      "100%|███████████████████████████████████████████| 49/49 [00:08<00:00,  5.78it/s]\n",
      "100%|███████████████████████████████████████████| 13/13 [00:02<00:00,  4.68it/s]\n"
     ]
    },
    {
     "name": "stdout",
     "output_type": "stream",
     "text": [
      "# Epoch 125 / 150\n"
     ]
    },
    {
     "name": "stderr",
     "output_type": "stream",
     "text": [
      "100%|███████████████████████████████████████████| 49/49 [00:28<00:00,  1.69it/s]\n",
      "100%|███████████████████████████████████████████| 49/49 [00:07<00:00,  6.22it/s]\n",
      "100%|███████████████████████████████████████████| 13/13 [00:02<00:00,  4.72it/s]\n"
     ]
    },
    {
     "name": "stdout",
     "output_type": "stream",
     "text": [
      "# Epoch 126 / 150\n"
     ]
    },
    {
     "name": "stderr",
     "output_type": "stream",
     "text": [
      "100%|███████████████████████████████████████████| 49/49 [00:28<00:00,  1.69it/s]\n",
      "100%|███████████████████████████████████████████| 49/49 [00:08<00:00,  5.94it/s]\n",
      "100%|███████████████████████████████████████████| 13/13 [00:02<00:00,  4.37it/s]\n"
     ]
    },
    {
     "name": "stdout",
     "output_type": "stream",
     "text": [
      "# Epoch 127 / 150\n"
     ]
    },
    {
     "name": "stderr",
     "output_type": "stream",
     "text": [
      "100%|███████████████████████████████████████████| 49/49 [00:29<00:00,  1.68it/s]\n",
      "100%|███████████████████████████████████████████| 49/49 [00:08<00:00,  5.94it/s]\n",
      "100%|███████████████████████████████████████████| 13/13 [00:02<00:00,  4.55it/s]\n"
     ]
    },
    {
     "name": "stdout",
     "output_type": "stream",
     "text": [
      "# Epoch 128 / 150\n"
     ]
    },
    {
     "name": "stderr",
     "output_type": "stream",
     "text": [
      "100%|███████████████████████████████████████████| 49/49 [00:29<00:00,  1.66it/s]\n",
      "100%|███████████████████████████████████████████| 49/49 [00:08<00:00,  5.98it/s]\n",
      "100%|███████████████████████████████████████████| 13/13 [00:02<00:00,  4.91it/s]\n"
     ]
    },
    {
     "name": "stdout",
     "output_type": "stream",
     "text": [
      "# Epoch 129 / 150\n"
     ]
    },
    {
     "name": "stderr",
     "output_type": "stream",
     "text": [
      "100%|███████████████████████████████████████████| 49/49 [00:28<00:00,  1.70it/s]\n",
      "100%|███████████████████████████████████████████| 49/49 [00:08<00:00,  5.98it/s]\n",
      "100%|███████████████████████████████████████████| 13/13 [00:02<00:00,  4.73it/s]\n"
     ]
    },
    {
     "name": "stdout",
     "output_type": "stream",
     "text": [
      "# Epoch 130 / 150\n"
     ]
    },
    {
     "name": "stderr",
     "output_type": "stream",
     "text": [
      "100%|███████████████████████████████████████████| 49/49 [00:28<00:00,  1.71it/s]\n",
      "100%|███████████████████████████████████████████| 49/49 [00:08<00:00,  5.97it/s]\n",
      "100%|███████████████████████████████████████████| 13/13 [00:02<00:00,  5.00it/s]\n"
     ]
    },
    {
     "name": "stdout",
     "output_type": "stream",
     "text": [
      "# Epoch 131 / 150\n"
     ]
    },
    {
     "name": "stderr",
     "output_type": "stream",
     "text": [
      "100%|███████████████████████████████████████████| 49/49 [00:28<00:00,  1.70it/s]\n",
      "100%|███████████████████████████████████████████| 49/49 [00:08<00:00,  5.94it/s]\n",
      "100%|███████████████████████████████████████████| 13/13 [00:02<00:00,  4.71it/s]\n"
     ]
    },
    {
     "name": "stdout",
     "output_type": "stream",
     "text": [
      "# Epoch 132 / 150\n"
     ]
    },
    {
     "name": "stderr",
     "output_type": "stream",
     "text": [
      "100%|███████████████████████████████████████████| 49/49 [00:28<00:00,  1.70it/s]\n",
      "100%|███████████████████████████████████████████| 49/49 [00:08<00:00,  6.10it/s]\n",
      "100%|███████████████████████████████████████████| 13/13 [00:02<00:00,  4.37it/s]\n"
     ]
    },
    {
     "name": "stdout",
     "output_type": "stream",
     "text": [
      "# Epoch 133 / 150\n"
     ]
    },
    {
     "name": "stderr",
     "output_type": "stream",
     "text": [
      "100%|███████████████████████████████████████████| 49/49 [00:29<00:00,  1.69it/s]\n",
      "100%|███████████████████████████████████████████| 49/49 [00:08<00:00,  5.97it/s]\n",
      "100%|███████████████████████████████████████████| 13/13 [00:02<00:00,  4.82it/s]\n"
     ]
    },
    {
     "name": "stdout",
     "output_type": "stream",
     "text": [
      "# Epoch 134 / 150\n"
     ]
    },
    {
     "name": "stderr",
     "output_type": "stream",
     "text": [
      "100%|███████████████████████████████████████████| 49/49 [00:28<00:00,  1.70it/s]\n",
      "100%|███████████████████████████████████████████| 49/49 [00:08<00:00,  6.07it/s]\n",
      "100%|███████████████████████████████████████████| 13/13 [00:02<00:00,  4.68it/s]\n"
     ]
    },
    {
     "name": "stdout",
     "output_type": "stream",
     "text": [
      "# Epoch 135 / 150\n"
     ]
    },
    {
     "name": "stderr",
     "output_type": "stream",
     "text": [
      "100%|███████████████████████████████████████████| 49/49 [00:28<00:00,  1.70it/s]\n",
      "100%|███████████████████████████████████████████| 49/49 [00:08<00:00,  5.95it/s]\n",
      "100%|███████████████████████████████████████████| 13/13 [00:02<00:00,  4.86it/s]\n"
     ]
    },
    {
     "name": "stdout",
     "output_type": "stream",
     "text": [
      "# Epoch 136 / 150\n"
     ]
    },
    {
     "name": "stderr",
     "output_type": "stream",
     "text": [
      "100%|███████████████████████████████████████████| 49/49 [00:29<00:00,  1.69it/s]\n",
      "100%|███████████████████████████████████████████| 49/49 [00:08<00:00,  6.01it/s]\n",
      "100%|███████████████████████████████████████████| 13/13 [00:02<00:00,  4.65it/s]\n"
     ]
    },
    {
     "name": "stdout",
     "output_type": "stream",
     "text": [
      "# Epoch 137 / 150\n"
     ]
    },
    {
     "name": "stderr",
     "output_type": "stream",
     "text": [
      "100%|███████████████████████████████████████████| 49/49 [00:28<00:00,  1.71it/s]\n",
      "100%|███████████████████████████████████████████| 49/49 [00:08<00:00,  6.08it/s]\n",
      "100%|███████████████████████████████████████████| 13/13 [00:02<00:00,  4.64it/s]\n"
     ]
    },
    {
     "name": "stdout",
     "output_type": "stream",
     "text": [
      "# Epoch 138 / 150\n"
     ]
    },
    {
     "name": "stderr",
     "output_type": "stream",
     "text": [
      "100%|███████████████████████████████████████████| 49/49 [00:28<00:00,  1.70it/s]\n",
      "100%|███████████████████████████████████████████| 49/49 [00:08<00:00,  6.00it/s]\n",
      "100%|███████████████████████████████████████████| 13/13 [00:02<00:00,  4.95it/s]\n"
     ]
    },
    {
     "name": "stdout",
     "output_type": "stream",
     "text": [
      "# Epoch 139 / 150\n"
     ]
    },
    {
     "name": "stderr",
     "output_type": "stream",
     "text": [
      "100%|███████████████████████████████████████████| 49/49 [00:28<00:00,  1.72it/s]\n",
      "100%|███████████████████████████████████████████| 49/49 [00:08<00:00,  5.95it/s]\n",
      "100%|███████████████████████████████████████████| 13/13 [00:02<00:00,  4.71it/s]\n"
     ]
    },
    {
     "name": "stdout",
     "output_type": "stream",
     "text": [
      "# Epoch 140 / 150\n"
     ]
    },
    {
     "name": "stderr",
     "output_type": "stream",
     "text": [
      "100%|███████████████████████████████████████████| 49/49 [00:28<00:00,  1.69it/s]\n",
      "100%|███████████████████████████████████████████| 49/49 [00:08<00:00,  5.88it/s]\n",
      "100%|███████████████████████████████████████████| 13/13 [00:02<00:00,  4.63it/s]\n"
     ]
    },
    {
     "name": "stdout",
     "output_type": "stream",
     "text": [
      "# Epoch 141 / 150\n"
     ]
    },
    {
     "name": "stderr",
     "output_type": "stream",
     "text": [
      "100%|███████████████████████████████████████████| 49/49 [00:29<00:00,  1.69it/s]\n",
      "100%|███████████████████████████████████████████| 49/49 [00:08<00:00,  5.87it/s]\n",
      "100%|███████████████████████████████████████████| 13/13 [00:02<00:00,  4.77it/s]\n"
     ]
    },
    {
     "name": "stdout",
     "output_type": "stream",
     "text": [
      "# Epoch 142 / 150\n"
     ]
    },
    {
     "name": "stderr",
     "output_type": "stream",
     "text": [
      "100%|███████████████████████████████████████████| 49/49 [00:29<00:00,  1.69it/s]\n",
      "100%|███████████████████████████████████████████| 49/49 [00:08<00:00,  5.53it/s]\n",
      "100%|███████████████████████████████████████████| 13/13 [00:02<00:00,  4.72it/s]\n"
     ]
    },
    {
     "name": "stdout",
     "output_type": "stream",
     "text": [
      "# Epoch 143 / 150\n"
     ]
    },
    {
     "name": "stderr",
     "output_type": "stream",
     "text": [
      "100%|███████████████████████████████████████████| 49/49 [00:28<00:00,  1.70it/s]\n",
      "100%|███████████████████████████████████████████| 49/49 [00:08<00:00,  5.97it/s]\n",
      "100%|███████████████████████████████████████████| 13/13 [00:02<00:00,  4.73it/s]\n"
     ]
    },
    {
     "name": "stdout",
     "output_type": "stream",
     "text": [
      "# Epoch 144 / 150\n"
     ]
    },
    {
     "name": "stderr",
     "output_type": "stream",
     "text": [
      "100%|███████████████████████████████████████████| 49/49 [00:28<00:00,  1.70it/s]\n",
      "100%|███████████████████████████████████████████| 49/49 [00:08<00:00,  5.91it/s]\n",
      "100%|███████████████████████████████████████████| 13/13 [00:02<00:00,  4.68it/s]\n"
     ]
    },
    {
     "name": "stdout",
     "output_type": "stream",
     "text": [
      "# Epoch 145 / 150\n"
     ]
    },
    {
     "name": "stderr",
     "output_type": "stream",
     "text": [
      "100%|███████████████████████████████████████████| 49/49 [00:28<00:00,  1.72it/s]\n",
      "100%|███████████████████████████████████████████| 49/49 [00:08<00:00,  5.94it/s]\n",
      "100%|███████████████████████████████████████████| 13/13 [00:02<00:00,  4.75it/s]\n"
     ]
    },
    {
     "name": "stdout",
     "output_type": "stream",
     "text": [
      "# Epoch 146 / 150\n"
     ]
    },
    {
     "name": "stderr",
     "output_type": "stream",
     "text": [
      "100%|███████████████████████████████████████████| 49/49 [00:29<00:00,  1.68it/s]\n",
      "100%|███████████████████████████████████████████| 49/49 [00:08<00:00,  6.02it/s]\n",
      "100%|███████████████████████████████████████████| 13/13 [00:02<00:00,  4.96it/s]\n"
     ]
    },
    {
     "name": "stdout",
     "output_type": "stream",
     "text": [
      "# Epoch 147 / 150\n"
     ]
    },
    {
     "name": "stderr",
     "output_type": "stream",
     "text": [
      "100%|███████████████████████████████████████████| 49/49 [00:29<00:00,  1.68it/s]\n",
      "100%|███████████████████████████████████████████| 49/49 [00:07<00:00,  6.21it/s]\n",
      "100%|███████████████████████████████████████████| 13/13 [00:02<00:00,  4.90it/s]\n"
     ]
    },
    {
     "name": "stdout",
     "output_type": "stream",
     "text": [
      "# Epoch 148 / 150\n"
     ]
    },
    {
     "name": "stderr",
     "output_type": "stream",
     "text": [
      "100%|███████████████████████████████████████████| 49/49 [00:28<00:00,  1.69it/s]\n",
      "100%|███████████████████████████████████████████| 49/49 [00:08<00:00,  5.97it/s]\n",
      "100%|███████████████████████████████████████████| 13/13 [00:02<00:00,  4.79it/s]\n"
     ]
    },
    {
     "name": "stdout",
     "output_type": "stream",
     "text": [
      "# Epoch 149 / 150\n"
     ]
    },
    {
     "name": "stderr",
     "output_type": "stream",
     "text": [
      "100%|███████████████████████████████████████████| 49/49 [00:28<00:00,  1.70it/s]\n",
      "100%|███████████████████████████████████████████| 49/49 [00:08<00:00,  5.78it/s]\n",
      "100%|███████████████████████████████████████████| 13/13 [00:02<00:00,  4.58it/s]\n"
     ]
    },
    {
     "name": "stdout",
     "output_type": "stream",
     "text": [
      "# Epoch 150 / 150\n"
     ]
    },
    {
     "name": "stderr",
     "output_type": "stream",
     "text": [
      "100%|███████████████████████████████████████████| 49/49 [00:29<00:00,  1.68it/s]\n",
      "100%|███████████████████████████████████████████| 49/49 [00:08<00:00,  6.01it/s]\n",
      "100%|███████████████████████████████████████████| 13/13 [00:02<00:00,  4.75it/s]\n"
     ]
    },
    {
     "data": {
      "text/html": [
       "Waiting for W&B process to finish... <strong style=\"color:green\">(success).</strong>"
      ],
      "text/plain": [
       "<IPython.core.display.HTML object>"
      ]
     },
     "metadata": {},
     "output_type": "display_data"
    },
    {
     "data": {
      "application/vnd.jupyter.widget-view+json": {
       "model_id": "",
       "version_major": 2,
       "version_minor": 0
      },
      "text/plain": [
       "VBox(children=(Label(value='0.001 MB of 0.001 MB uploaded (0.000 MB deduped)\\r'), FloatProgress(value=1.0, max…"
      ]
     },
     "metadata": {},
     "output_type": "display_data"
    },
    {
     "data": {
      "text/html": [
       "<style>\n",
       "    table.wandb td:nth-child(1) { padding: 0 10px; text-align: left ; width: auto;} td:nth-child(2) {text-align: left ; width: 100%}\n",
       "    .wandb-row { display: flex; flex-direction: row; flex-wrap: wrap; justify-content: flex-start; width: 100% }\n",
       "    .wandb-col { display: flex; flex-direction: column; flex-basis: 100%; flex: 1; padding: 10px; }\n",
       "    </style>\n",
       "<div class=\"wandb-row\"><div class=\"wandb-col\"><h3>Run history:</h3><br/><table class=\"wandb\"><tr><td>lr</td><td>███████▂▂▁▁▁▁▁▁▁▁▁▁▁▁▁▁▁▁▁▁▁▁▁▁▁▁▁▁▁▁▁▁▁</td></tr><tr><td>train_mae</td><td>█▇▆▅▅▄▄▂▂▂▂▁▂▂▂▂▂▂▁▂▁▂▁▃▂▂▂▂▁▂▁▂▂▂▂▂▂▂▂▂</td></tr><tr><td>train_mse</td><td>█▇▆▅▅▄▄▃▂▂▁▁▂▁▁▃▂▂▁▂▁▃▁▂▂▂▂▂▂▂▁▂▂▂▁▂▂▁▂▁</td></tr><tr><td>train_pearson</td><td>▁▃▄▅▅▅▆▇▇▇██▇██▇▇▇█▇█▇█▇█▇▇▇█▇██▇▇█▇▇█▇█</td></tr><tr><td>train_spearman</td><td>▁▃▅▅▅▆▆▆▆█▇██▇▇▇▇▇████▇▇▇█▇▇▇▇█▇▇▇▇▇▇▇▇▇</td></tr><tr><td>valid_mae</td><td>█▇▄█▄▁▅▆▅▄▄▄▄▅▄▅▄▄▅▅▄▅▅▄▄▅▄▄▄▄▄▄▅▄▄▄▄▄▄▄</td></tr><tr><td>valid_mse</td><td>█▆▅▃▃▅▂▃▂▁▁▁▁▂▁▂▁▁▁▂▁▁▁▁▁▂▁▁▁▁▁▁▁▁▁▁▁▁▁▁</td></tr><tr><td>valid_pearson</td><td>▁▂▅▆▇█▇▆▇███████████████████████████████</td></tr><tr><td>valid_spearman</td><td>▂▃▃▅▆▁█▅▇█▇██▇████▇▇█▇███▇███▇▇███▇█▇▇██</td></tr></table><br/></div><div class=\"wandb-col\"><h3>Run summary:</h3><br/><table class=\"wandb\"><tr><td>lr</td><td>0.0</td></tr><tr><td>train_mae</td><td>0.28293</td></tr><tr><td>train_mse</td><td>0.20058</td></tr><tr><td>train_pearson</td><td>0.61434</td></tr><tr><td>train_spearman</td><td>0.5236</td></tr><tr><td>valid_mae</td><td>0.29372</td></tr><tr><td>valid_mse</td><td>0.19701</td></tr><tr><td>valid_pearson</td><td>0.65228</td></tr><tr><td>valid_spearman</td><td>0.5637</td></tr></table><br/></div></div>"
      ],
      "text/plain": [
       "<IPython.core.display.HTML object>"
      ]
     },
     "metadata": {},
     "output_type": "display_data"
    },
    {
     "data": {
      "text/html": [
       "Synced <strong style=\"color:#cdcd00\">scarlet-armadillo-15</strong>: <a href=\"https://wandb.ai/hei-jung/20230307-sfcn%2Blkrelu%2Bfds/runs/kwgfegdy\" target=\"_blank\">https://wandb.ai/hei-jung/20230307-sfcn%2Blkrelu%2Bfds/runs/kwgfegdy</a><br/>Synced 6 W&B file(s), 0 media file(s), 0 artifact file(s) and 0 other file(s)"
      ],
      "text/plain": [
       "<IPython.core.display.HTML object>"
      ]
     },
     "metadata": {},
     "output_type": "display_data"
    },
    {
     "data": {
      "text/html": [
       "Find logs at: <code>./wandb/run-20230309_133024-kwgfegdy/logs</code>"
      ],
      "text/plain": [
       "<IPython.core.display.HTML object>"
      ]
     },
     "metadata": {},
     "output_type": "display_data"
    }
   ],
   "source": [
    "# FC layer +4\n",
    "set_seed()\n",
    "\n",
    "model = SFCN_FDS(dropout_p=dropout_rate, fds=fds)\n",
    "model.fc = nn.Sequential(\n",
    "    nn.Linear(64,32),\n",
    "    nn.ReLU(),\n",
    "    nn.Linear(32,16),\n",
    "    nn.ReLU(),\n",
    "    nn.Linear(16,8),\n",
    "    nn.ReLU(),\n",
    "    nn.Linear(8,4),\n",
    "    nn.ReLU(),\n",
    "    nn.Linear(4,1),\n",
    "    nn.LeakyReLU(),\n",
    ")\n",
    "model = torch.nn.DataParallel(model, device_ids=[0, 1])\n",
    "model.cuda()\n",
    "\n",
    "wandb.init(project='20230307-sfcn+lkrelu+fds',\n",
    "           config={\"model\": \"sfcn+lkrelu+fds\", \"dropout\": dropout_rate,\n",
    "                   \"weight_decay\": weight_decay, \"epochs\": epochs, \"batch_size\": batch_size,\n",
    "                   \"cost_function\": \"mse_loss\", \"optimizer\": optim_class.__name__,\n",
    "                   \"scheduler\": sched_class.__name__, \"lds\": lds, \"fds\": fds,\n",
    "                   \"start_lr\": lr, \"fc_added\": 4.2})\n",
    "wandb.watch(model)\n",
    "\n",
    "optimizer = optim_class(model.parameters(), lr=lr, weight_decay=weight_decay)\n",
    "scheduler = sched_class(optimizer, mode='min', patience=5, min_lr=0)\n",
    "\n",
    "best_mae, best_mse, best_p, best_s = 100, 100, 0, 0\n",
    "\n",
    "set_seed()\n",
    "for epoch in range(epochs):\n",
    "    print('# Epoch %d / %d'%(epoch + 1, epochs))   \n",
    "\n",
    "    # train set\n",
    "    augment = get_augmentation_transform()\n",
    "    train_set = NeckDataset(X_train, y_train, transform=augment, lds=lds)\n",
    "    train_loader = DataLoader(train_set, batch_size=batch_size, num_workers=16)\n",
    "\n",
    "    # validation set\n",
    "\n",
    "    preds_t, truths_t, mae_t, mse_t = train(model, train_loader, epoch, optimizer, lds=lds, fds=fds)\n",
    "    preds_v, truths_v, mae_v, mse_v = valid(model, test_loader)\n",
    "\n",
    "    scheduler.step(mse_v)\n",
    "    last_lr = scheduler._last_lr[0]\n",
    "\n",
    "    train_p, _ = pearsonr(preds_t, truths_t)\n",
    "    train_s, _ = spearmanr(preds_t, truths_t)\n",
    "    train_mae = mae_t / len(train_loader)\n",
    "    train_mse = mse_t / len(train_loader)\n",
    "\n",
    "    valid_p, _ = pearsonr(preds_v, truths_v)\n",
    "    valid_s, _ = spearmanr(preds_v, truths_v)\n",
    "    valid_mae = mae_v / len(test_loader)\n",
    "    valid_mse = mse_v / len(test_loader)\n",
    "\n",
    "    if best_mse > valid_mse:\n",
    "        best_mse = valid_mse\n",
    "        torch.save(model.state_dict(), 'pretrained/230308_sfcnfdsfc4.2+mse_{}_w{}_slr{}_bestmse'.format(sched_class.__name__, weight_decay, lr))\n",
    "    if best_mae > valid_mae:\n",
    "        best_mae = valid_mae\n",
    "        torch.save(model.state_dict(), 'pretrained/230308_sfcnfdsfc4.2+mse_{}_w{}_slr{}_bestmae'.format(sched_class.__name__, weight_decay, lr))\n",
    "    if best_p < valid_p:\n",
    "        best_p = valid_p\n",
    "    if best_s < valid_s:\n",
    "        best_s = valid_s\n",
    "\n",
    "    wandb.log({\"train_mae\": train_mae, \"train_mse\": train_mse, \"valid_mae\": valid_mae, \"valid_mse\": valid_mse,\n",
    "               \"train_pearson\": train_p, \"train_spearman\": train_s, \"valid_pearson\": valid_p, \"valid_spearman\": valid_s,\n",
    "               \"lr\": last_lr})\n",
    "wandb.finish()\n",
    "torch.save(model.state_dict(), 'pretrained/230307_sfcnfdsfc4.2+mse_{}_w{}_slr{}_epochs{}'.format(sched_class.__name__, weight_decay, lr, epochs))\n"
   ]
  },
  {
   "cell_type": "markdown",
   "id": "200c3188",
   "metadata": {},
   "source": [
    "---"
   ]
  },
  {
   "cell_type": "code",
   "execution_count": null,
   "id": "ba474024",
   "metadata": {},
   "outputs": [],
   "source": [
    "import seaborn as sns\n",
    "\n",
    "def predict(model, data_loader, title='', line=False):\n",
    "    model.eval()\n",
    "    preds, truths = np.array([]), np.array([])\n",
    "    with torch.no_grad():\n",
    "        for inputs, labels, _ in tqdm(data_loader):\n",
    "            inputs, labels = inputs.to(device, dtype=torch.float), labels.to(device, dtype=torch.float)\n",
    "            output = model(inputs)\n",
    "            pred = output.detach().cpu().numpy()\n",
    "            truth = labels.detach().cpu().numpy()\n",
    "            preds = np.append(preds, pred.reshape(pred.size), axis=0)\n",
    "            truths = np.append(truths, truth.reshape(truth.size), axis=0)\n",
    "        \n",
    "    # Get correlation coefficients\n",
    "    pearson, pearson_p = pearsonr(preds, truths)\n",
    "    spearman, spearman_p = spearmanr(preds, truths)\n",
    "    \n",
    "    # For range setting\n",
    "    _min = y_min\n",
    "    _max = y_max\n",
    "    \n",
    "    # Figure size\n",
    "#     plt.figure(figsize=(5, 5))\n",
    "    \n",
    "    # Reference line\n",
    "    x = np.linspace(_min, _max)\n",
    "    y = x\n",
    "    plt.plot(x, y, c='gray', ls='--', label='Reference r = 1.0')\n",
    "    \n",
    "    # Regression Plot\n",
    "    \n",
    "    ## Scatter\n",
    "    plt.scatter(truths, preds, c='steelblue', label='Pearson\\'s r = {:.2f} / Spearman\\'s r = {:.2f}'.format(pearson,spearman))\n",
    "    \n",
    "    ## Linear Regression Line\n",
    "    if line:\n",
    "        m, b = np.polyfit(truths, preds, 1)\n",
    "        plt.plot(truths, m*truths + b, c='steelblue', label='m = {:.2f}'.format(m))\n",
    "#     # Regression Plot at once\n",
    "#     sns.regplot(x=truths, y=preds, ci=None, color='steelblue', label='Pearson r = {:.2f}'.format(pearson))\n",
    "\n",
    "    if title != '':\n",
    "        plt.title(title)\n",
    "    \n",
    "    plt.axis('square')\n",
    "    plt.ylabel('Predicted WMH'); plt.xlabel('Ground Truth')\n",
    "    plt.legend()\n",
    "    plt.tight_layout()\n",
    "    plt.xlim([_min, _max])\n",
    "    plt.ylim([_min, _max])\n",
    "    plt.show()\n",
    "    plt.close()\n",
    "    \n",
    "    return preds, truths"
   ]
  },
  {
   "cell_type": "code",
   "execution_count": null,
   "id": "f495f821",
   "metadata": {},
   "outputs": [],
   "source": [
    "y_min, y_max =y_test.min()-0.5, y_test.max()+0.5\n",
    "y_min, y_max"
   ]
  },
  {
   "cell_type": "code",
   "execution_count": null,
   "id": "208b1812",
   "metadata": {},
   "outputs": [],
   "source": [
    "fds = True\n",
    "\n",
    "# FDS net, best MSE\n",
    "net = SFCN_FDS(dropout_p=dropout_rate, fds=fds)\n",
    "net.fc.add_module('relu', nn.LeakyReLU())\n",
    "net = torch.nn.DataParallel(net, device_ids=[0, 1])\n",
    "net.load_state_dict(torch.load('pretrained/230304_sfcnlkrelu+mse_{}_ldsFalsefds{}_bestmse'.format(sched_class.__name__, fds)))\n",
    "net.cuda()\n",
    "_,_ = predict(net, test_loader)\n",
    "\n",
    "# FDS net, best MAE\n",
    "net = SFCN_FDS(dropout_p=dropout_rate, fds=fds)\n",
    "net.fc.add_module('relu', nn.LeakyReLU())\n",
    "net = torch.nn.DataParallel(net, device_ids=[0, 1])\n",
    "net.load_state_dict(torch.load('pretrained/230304_sfcnlkrelu+mse_{}_ldsFalsefds{}_bestmae'.format(sched_class.__name__, fds)))\n",
    "net.cuda()\n",
    "_,_ = predict(net, test_loader)\n",
    "\n",
    "# FDS net, epoch 150\n",
    "net = SFCN_FDS(dropout_p=dropout_rate, fds=fds)\n",
    "net.fc.add_module('relu', nn.LeakyReLU())\n",
    "net = torch.nn.DataParallel(net, device_ids=[0, 1])\n",
    "net.load_state_dict(torch.load('pretrained/230304_sfcnlkrelu+mse_{}_ldsFalsefds{}_epochs{}'.format(sched_class.__name__, fds, epochs)))\n",
    "net.cuda()\n",
    "_,_ = predict(net, test_loader)"
   ]
  },
  {
   "cell_type": "code",
   "execution_count": null,
   "id": "fc6cc2bb",
   "metadata": {
    "scrolled": true
   },
   "outputs": [],
   "source": [
    "fds = False\n",
    "\n",
    "# original net, best MSE\n",
    "net = SFCN_FDS(dropout_p=dropout_rate, fds=fds)\n",
    "net.fc.add_module('relu', nn.LeakyReLU())\n",
    "net = torch.nn.DataParallel(net, device_ids=[0, 1])\n",
    "net.load_state_dict(torch.load('pretrained/230304_sfcnlkrelu+mse_{}_ldsFalsefds{}_bestmse'.format(sched_class.__name__, fds)))\n",
    "net.cuda()\n",
    "_,_ = predict(net, test_loader)\n",
    "\n",
    "# original net, best MAE\n",
    "net = SFCN_FDS(dropout_p=dropout_rate, fds=fds)\n",
    "net.fc.add_module('relu', nn.LeakyReLU())\n",
    "net = torch.nn.DataParallel(net, device_ids=[0, 1])\n",
    "net.load_state_dict(torch.load('pretrained/230304_sfcnlkrelu+mse_{}_ldsFalsefds{}_bestmae'.format(sched_class.__name__, fds)))\n",
    "net.cuda()\n",
    "_,_ = predict(net, test_loader)\n",
    "\n",
    "# original net, epoch 150\n",
    "net = SFCN_FDS(dropout_p=dropout_rate, fds=fds)\n",
    "net.fc.add_module('relu', nn.LeakyReLU())\n",
    "net = torch.nn.DataParallel(net, device_ids=[0, 1])\n",
    "net.load_state_dict(torch.load('pretrained/230304_sfcnlkrelu+mse_{}_ldsFalsefds{}_epochs{}'.format(sched_class.__name__, fds, epochs)))\n",
    "net.cuda()\n",
    "_,_ = predict(net, test_loader)"
   ]
  },
  {
   "cell_type": "code",
   "execution_count": null,
   "id": "8f1a2a2f",
   "metadata": {},
   "outputs": [],
   "source": [
    "lds = True\n",
    "fds = False\n",
    "\n",
    "# original net, best MSE\n",
    "net = SFCN_FDS(dropout_p=dropout_rate, fds=fds)\n",
    "net.fc.add_module('relu', nn.LeakyReLU())\n",
    "net = torch.nn.DataParallel(net, device_ids=[0, 1])\n",
    "net.load_state_dict(torch.load('pretrained/230304_sfcnlkrelu+mse_{}_ldsTruefds{}_bestmse'.format(sched_class.__name__, fds)))\n",
    "net.cuda()\n",
    "_,_ = predict(net, test_loader)\n",
    "\n",
    "# original net, best MAE\n",
    "net = SFCN_FDS(dropout_p=dropout_rate, fds=fds)\n",
    "net.fc.add_module('relu', nn.LeakyReLU())\n",
    "net = torch.nn.DataParallel(net, device_ids=[0, 1])\n",
    "net.load_state_dict(torch.load('pretrained/230304_sfcnlkrelu+mse_{}_ldsTruefds{}_bestmae'.format(sched_class.__name__, fds)))\n",
    "net.cuda()\n",
    "_,_ = predict(net, test_loader)\n",
    "\n",
    "# original net, epoch 150\n",
    "net = SFCN_FDS(dropout_p=dropout_rate, fds=fds)\n",
    "net.fc.add_module('relu', nn.LeakyReLU())\n",
    "net = torch.nn.DataParallel(net, device_ids=[0, 1])\n",
    "net.load_state_dict(torch.load('pretrained/230304_sfcnlkrelu+mse_{}_ldsTruefds{}_epochs{}'.format(sched_class.__name__, fds, epochs)))\n",
    "net.cuda()\n",
    "_,_ = predict(net, test_loader)"
   ]
  },
  {
   "cell_type": "code",
   "execution_count": null,
   "id": "3c20b11e",
   "metadata": {},
   "outputs": [],
   "source": [
    "lds = True\n",
    "fds = True\n",
    "\n",
    "# original net, best MSE\n",
    "net = SFCN_FDS(dropout_p=dropout_rate, fds=fds)\n",
    "net.fc.add_module('relu', nn.LeakyReLU())\n",
    "net = torch.nn.DataParallel(net, device_ids=[0, 1])\n",
    "net.load_state_dict(torch.load('pretrained/230304_sfcnlkrelu+mse_{}_ldsTruefds{}_bestmse'.format(sched_class.__name__, fds)))\n",
    "net.cuda()\n",
    "_,_ = predict(net, test_loader)\n",
    "\n",
    "# original net, best MAE\n",
    "net = SFCN_FDS(dropout_p=dropout_rate, fds=fds)\n",
    "net.fc.add_module('relu', nn.LeakyReLU())\n",
    "net = torch.nn.DataParallel(net, device_ids=[0, 1])\n",
    "net.load_state_dict(torch.load('pretrained/230304_sfcnlkrelu+mse_{}_ldsTruefds{}_bestmae'.format(sched_class.__name__, fds)))\n",
    "net.cuda()\n",
    "_,_ = predict(net, test_loader)\n",
    "\n",
    "# original net, epoch 150\n",
    "net = SFCN_FDS(dropout_p=dropout_rate, fds=fds)\n",
    "net.fc.add_module('relu', nn.LeakyReLU())\n",
    "net = torch.nn.DataParallel(net, device_ids=[0, 1])\n",
    "net.load_state_dict(torch.load('pretrained/230304_sfcnlkrelu+mse_{}_ldsTruefds{}_epochs{}'.format(sched_class.__name__, fds, epochs)))\n",
    "net.cuda()\n",
    "_,_ = predict(net, test_loader)"
   ]
  },
  {
   "cell_type": "code",
   "execution_count": null,
   "id": "b9fcf45b",
   "metadata": {},
   "outputs": [],
   "source": [
    "net = SFCN()\n",
    "net.load_state_dict(torch.load('pretrained/230228_sfcn+mse_ReduceLROnPlateau_bestmse'))\n",
    "# net.to(device)\n",
    "# _,_ = predict(net, test_loader)"
   ]
  },
  {
   "cell_type": "code",
   "execution_count": null,
   "id": "df0a3066",
   "metadata": {},
   "outputs": [],
   "source": [
    "dataset = NeckDataset(train_X, train_y)\n",
    "data_loader = DataLoader(dataset, batch_size=batch_size, num_workers=16)\n",
    "_,_ = predict(model, train_loader, 'Training set')"
   ]
  }
 ],
 "metadata": {
  "kernelspec": {
   "display_name": "Python 3 (ipykernel)",
   "language": "python",
   "name": "python3"
  },
  "language_info": {
   "codemirror_mode": {
    "name": "ipython",
    "version": 3
   },
   "file_extension": ".py",
   "mimetype": "text/x-python",
   "name": "python",
   "nbconvert_exporter": "python",
   "pygments_lexer": "ipython3",
   "version": "3.8.13"
  }
 },
 "nbformat": 4,
 "nbformat_minor": 5
}
